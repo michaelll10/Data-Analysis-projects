{
 "cells": [
  {
   "cell_type": "code",
   "execution_count": 201,
   "id": "43569c65",
   "metadata": {},
   "outputs": [],
   "source": [
    "import pandas as pd\n",
    "import matplotlib.pyplot as plt\n",
    "import seaborn as sns "
   ]
  },
  {
   "cell_type": "code",
   "execution_count": 75,
   "id": "9fa46c93",
   "metadata": {},
   "outputs": [
    {
     "data": {
      "application/vnd.microsoft.datawrangler.viewer.v0+json": {
       "columns": [
        {
         "name": "index",
         "rawType": "int64",
         "type": "integer"
        },
        {
         "name": "InvoiceNo",
         "rawType": "object",
         "type": "unknown"
        },
        {
         "name": "StockCode",
         "rawType": "object",
         "type": "unknown"
        },
        {
         "name": "Description",
         "rawType": "object",
         "type": "unknown"
        },
        {
         "name": "Quantity",
         "rawType": "int64",
         "type": "integer"
        },
        {
         "name": "InvoiceDate",
         "rawType": "datetime64[ns]",
         "type": "datetime"
        },
        {
         "name": "UnitPrice",
         "rawType": "float64",
         "type": "float"
        },
        {
         "name": "CustomerID",
         "rawType": "float64",
         "type": "float"
        },
        {
         "name": "Country",
         "rawType": "object",
         "type": "string"
        }
       ],
       "ref": "91392a5b-0807-4fa8-abcf-7d04cd8bcc9a",
       "rows": [
        [
         "0",
         "536365",
         "85123A",
         "WHITE HANGING HEART T-LIGHT HOLDER",
         "6",
         "2010-12-01 08:26:00",
         "2.55",
         "17850.0",
         "United Kingdom"
        ],
        [
         "1",
         "536365",
         "71053",
         "WHITE METAL LANTERN",
         "6",
         "2010-12-01 08:26:00",
         "3.39",
         "17850.0",
         "United Kingdom"
        ],
        [
         "2",
         "536365",
         "84406B",
         "CREAM CUPID HEARTS COAT HANGER",
         "8",
         "2010-12-01 08:26:00",
         "2.75",
         "17850.0",
         "United Kingdom"
        ],
        [
         "3",
         "536365",
         "84029G",
         "KNITTED UNION FLAG HOT WATER BOTTLE",
         "6",
         "2010-12-01 08:26:00",
         "3.39",
         "17850.0",
         "United Kingdom"
        ],
        [
         "4",
         "536365",
         "84029E",
         "RED WOOLLY HOTTIE WHITE HEART.",
         "6",
         "2010-12-01 08:26:00",
         "3.39",
         "17850.0",
         "United Kingdom"
        ],
        [
         "5",
         "536365",
         "22752",
         "SET 7 BABUSHKA NESTING BOXES",
         "2",
         "2010-12-01 08:26:00",
         "7.65",
         "17850.0",
         "United Kingdom"
        ],
        [
         "6",
         "536365",
         "21730",
         "GLASS STAR FROSTED T-LIGHT HOLDER",
         "6",
         "2010-12-01 08:26:00",
         "4.25",
         "17850.0",
         "United Kingdom"
        ],
        [
         "7",
         "536366",
         "22633",
         "HAND WARMER UNION JACK",
         "6",
         "2010-12-01 08:28:00",
         "1.85",
         "17850.0",
         "United Kingdom"
        ],
        [
         "8",
         "536366",
         "22632",
         "HAND WARMER RED POLKA DOT",
         "6",
         "2010-12-01 08:28:00",
         "1.85",
         "17850.0",
         "United Kingdom"
        ],
        [
         "9",
         "536367",
         "84879",
         "ASSORTED COLOUR BIRD ORNAMENT",
         "32",
         "2010-12-01 08:34:00",
         "1.69",
         "13047.0",
         "United Kingdom"
        ],
        [
         "10",
         "536367",
         "22745",
         "POPPY'S PLAYHOUSE BEDROOM ",
         "6",
         "2010-12-01 08:34:00",
         "2.1",
         "13047.0",
         "United Kingdom"
        ],
        [
         "11",
         "536367",
         "22748",
         "POPPY'S PLAYHOUSE KITCHEN",
         "6",
         "2010-12-01 08:34:00",
         "2.1",
         "13047.0",
         "United Kingdom"
        ],
        [
         "12",
         "536367",
         "22749",
         "FELTCRAFT PRINCESS CHARLOTTE DOLL",
         "8",
         "2010-12-01 08:34:00",
         "3.75",
         "13047.0",
         "United Kingdom"
        ],
        [
         "13",
         "536367",
         "22310",
         "IVORY KNITTED MUG COSY ",
         "6",
         "2010-12-01 08:34:00",
         "1.65",
         "13047.0",
         "United Kingdom"
        ],
        [
         "14",
         "536367",
         "84969",
         "BOX OF 6 ASSORTED COLOUR TEASPOONS",
         "6",
         "2010-12-01 08:34:00",
         "4.25",
         "13047.0",
         "United Kingdom"
        ],
        [
         "15",
         "536367",
         "22623",
         "BOX OF VINTAGE JIGSAW BLOCKS ",
         "3",
         "2010-12-01 08:34:00",
         "4.95",
         "13047.0",
         "United Kingdom"
        ],
        [
         "16",
         "536367",
         "22622",
         "BOX OF VINTAGE ALPHABET BLOCKS",
         "2",
         "2010-12-01 08:34:00",
         "9.95",
         "13047.0",
         "United Kingdom"
        ],
        [
         "17",
         "536367",
         "21754",
         "HOME BUILDING BLOCK WORD",
         "3",
         "2010-12-01 08:34:00",
         "5.95",
         "13047.0",
         "United Kingdom"
        ],
        [
         "18",
         "536367",
         "21755",
         "LOVE BUILDING BLOCK WORD",
         "3",
         "2010-12-01 08:34:00",
         "5.95",
         "13047.0",
         "United Kingdom"
        ],
        [
         "19",
         "536367",
         "21777",
         "RECIPE BOX WITH METAL HEART",
         "4",
         "2010-12-01 08:34:00",
         "7.95",
         "13047.0",
         "United Kingdom"
        ],
        [
         "20",
         "536367",
         "48187",
         "DOORMAT NEW ENGLAND",
         "4",
         "2010-12-01 08:34:00",
         "7.95",
         "13047.0",
         "United Kingdom"
        ],
        [
         "21",
         "536368",
         "22960",
         "JAM MAKING SET WITH JARS",
         "6",
         "2010-12-01 08:34:00",
         "4.25",
         "13047.0",
         "United Kingdom"
        ],
        [
         "22",
         "536368",
         "22913",
         "RED COAT RACK PARIS FASHION",
         "3",
         "2010-12-01 08:34:00",
         "4.95",
         "13047.0",
         "United Kingdom"
        ],
        [
         "23",
         "536368",
         "22912",
         "YELLOW COAT RACK PARIS FASHION",
         "3",
         "2010-12-01 08:34:00",
         "4.95",
         "13047.0",
         "United Kingdom"
        ],
        [
         "24",
         "536368",
         "22914",
         "BLUE COAT RACK PARIS FASHION",
         "3",
         "2010-12-01 08:34:00",
         "4.95",
         "13047.0",
         "United Kingdom"
        ],
        [
         "25",
         "536369",
         "21756",
         "BATH BUILDING BLOCK WORD",
         "3",
         "2010-12-01 08:35:00",
         "5.95",
         "13047.0",
         "United Kingdom"
        ],
        [
         "26",
         "536370",
         "22728",
         "ALARM CLOCK BAKELIKE PINK",
         "24",
         "2010-12-01 08:45:00",
         "3.75",
         "12583.0",
         "France"
        ],
        [
         "27",
         "536370",
         "22727",
         "ALARM CLOCK BAKELIKE RED ",
         "24",
         "2010-12-01 08:45:00",
         "3.75",
         "12583.0",
         "France"
        ],
        [
         "28",
         "536370",
         "22726",
         "ALARM CLOCK BAKELIKE GREEN",
         "12",
         "2010-12-01 08:45:00",
         "3.75",
         "12583.0",
         "France"
        ],
        [
         "29",
         "536370",
         "21724",
         "PANDA AND BUNNIES STICKER SHEET",
         "12",
         "2010-12-01 08:45:00",
         "0.85",
         "12583.0",
         "France"
        ],
        [
         "30",
         "536370",
         "21883",
         "STARS GIFT TAPE ",
         "24",
         "2010-12-01 08:45:00",
         "0.65",
         "12583.0",
         "France"
        ],
        [
         "31",
         "536370",
         "10002",
         "INFLATABLE POLITICAL GLOBE ",
         "48",
         "2010-12-01 08:45:00",
         "0.85",
         "12583.0",
         "France"
        ],
        [
         "32",
         "536370",
         "21791",
         "VINTAGE HEADS AND TAILS CARD GAME ",
         "24",
         "2010-12-01 08:45:00",
         "1.25",
         "12583.0",
         "France"
        ],
        [
         "33",
         "536370",
         "21035",
         "SET/2 RED RETROSPOT TEA TOWELS ",
         "18",
         "2010-12-01 08:45:00",
         "2.95",
         "12583.0",
         "France"
        ],
        [
         "34",
         "536370",
         "22326",
         "ROUND SNACK BOXES SET OF4 WOODLAND ",
         "24",
         "2010-12-01 08:45:00",
         "2.95",
         "12583.0",
         "France"
        ],
        [
         "35",
         "536370",
         "22629",
         "SPACEBOY LUNCH BOX ",
         "24",
         "2010-12-01 08:45:00",
         "1.95",
         "12583.0",
         "France"
        ],
        [
         "36",
         "536370",
         "22659",
         "LUNCH BOX I LOVE LONDON",
         "24",
         "2010-12-01 08:45:00",
         "1.95",
         "12583.0",
         "France"
        ],
        [
         "37",
         "536370",
         "22631",
         "CIRCUS PARADE LUNCH BOX ",
         "24",
         "2010-12-01 08:45:00",
         "1.95",
         "12583.0",
         "France"
        ],
        [
         "38",
         "536370",
         "22661",
         "CHARLOTTE BAG DOLLY GIRL DESIGN",
         "20",
         "2010-12-01 08:45:00",
         "0.85",
         "12583.0",
         "France"
        ],
        [
         "39",
         "536370",
         "21731",
         "RED TOADSTOOL LED NIGHT LIGHT",
         "24",
         "2010-12-01 08:45:00",
         "1.65",
         "12583.0",
         "France"
        ],
        [
         "40",
         "536370",
         "22900",
         " SET 2 TEA TOWELS I LOVE LONDON ",
         "24",
         "2010-12-01 08:45:00",
         "2.95",
         "12583.0",
         "France"
        ],
        [
         "41",
         "536370",
         "21913",
         "VINTAGE SEASIDE JIGSAW PUZZLES",
         "12",
         "2010-12-01 08:45:00",
         "3.75",
         "12583.0",
         "France"
        ],
        [
         "42",
         "536370",
         "22540",
         "MINI JIGSAW CIRCUS PARADE ",
         "24",
         "2010-12-01 08:45:00",
         "0.42",
         "12583.0",
         "France"
        ],
        [
         "43",
         "536370",
         "22544",
         "MINI JIGSAW SPACEBOY",
         "24",
         "2010-12-01 08:45:00",
         "0.42",
         "12583.0",
         "France"
        ],
        [
         "44",
         "536370",
         "22492",
         "MINI PAINT SET VINTAGE ",
         "36",
         "2010-12-01 08:45:00",
         "0.65",
         "12583.0",
         "France"
        ],
        [
         "45",
         "536370",
         "POST",
         "POSTAGE",
         "3",
         "2010-12-01 08:45:00",
         "18.0",
         "12583.0",
         "France"
        ],
        [
         "46",
         "536371",
         "22086",
         "PAPER CHAIN KIT 50'S CHRISTMAS ",
         "80",
         "2010-12-01 09:00:00",
         "2.55",
         "13748.0",
         "United Kingdom"
        ],
        [
         "47",
         "536372",
         "22632",
         "HAND WARMER RED POLKA DOT",
         "6",
         "2010-12-01 09:01:00",
         "1.85",
         "17850.0",
         "United Kingdom"
        ],
        [
         "48",
         "536372",
         "22633",
         "HAND WARMER UNION JACK",
         "6",
         "2010-12-01 09:01:00",
         "1.85",
         "17850.0",
         "United Kingdom"
        ],
        [
         "49",
         "536373",
         "85123A",
         "WHITE HANGING HEART T-LIGHT HOLDER",
         "6",
         "2010-12-01 09:02:00",
         "2.55",
         "17850.0",
         "United Kingdom"
        ]
       ],
       "shape": {
        "columns": 8,
        "rows": 541909
       }
      },
      "text/html": [
       "<div>\n",
       "<style scoped>\n",
       "    .dataframe tbody tr th:only-of-type {\n",
       "        vertical-align: middle;\n",
       "    }\n",
       "\n",
       "    .dataframe tbody tr th {\n",
       "        vertical-align: top;\n",
       "    }\n",
       "\n",
       "    .dataframe thead th {\n",
       "        text-align: right;\n",
       "    }\n",
       "</style>\n",
       "<table border=\"1\" class=\"dataframe\">\n",
       "  <thead>\n",
       "    <tr style=\"text-align: right;\">\n",
       "      <th></th>\n",
       "      <th>InvoiceNo</th>\n",
       "      <th>StockCode</th>\n",
       "      <th>Description</th>\n",
       "      <th>Quantity</th>\n",
       "      <th>InvoiceDate</th>\n",
       "      <th>UnitPrice</th>\n",
       "      <th>CustomerID</th>\n",
       "      <th>Country</th>\n",
       "    </tr>\n",
       "  </thead>\n",
       "  <tbody>\n",
       "    <tr>\n",
       "      <th>0</th>\n",
       "      <td>536365</td>\n",
       "      <td>85123A</td>\n",
       "      <td>WHITE HANGING HEART T-LIGHT HOLDER</td>\n",
       "      <td>6</td>\n",
       "      <td>2010-12-01 08:26:00</td>\n",
       "      <td>2.55</td>\n",
       "      <td>17850.0</td>\n",
       "      <td>United Kingdom</td>\n",
       "    </tr>\n",
       "    <tr>\n",
       "      <th>1</th>\n",
       "      <td>536365</td>\n",
       "      <td>71053</td>\n",
       "      <td>WHITE METAL LANTERN</td>\n",
       "      <td>6</td>\n",
       "      <td>2010-12-01 08:26:00</td>\n",
       "      <td>3.39</td>\n",
       "      <td>17850.0</td>\n",
       "      <td>United Kingdom</td>\n",
       "    </tr>\n",
       "    <tr>\n",
       "      <th>2</th>\n",
       "      <td>536365</td>\n",
       "      <td>84406B</td>\n",
       "      <td>CREAM CUPID HEARTS COAT HANGER</td>\n",
       "      <td>8</td>\n",
       "      <td>2010-12-01 08:26:00</td>\n",
       "      <td>2.75</td>\n",
       "      <td>17850.0</td>\n",
       "      <td>United Kingdom</td>\n",
       "    </tr>\n",
       "    <tr>\n",
       "      <th>3</th>\n",
       "      <td>536365</td>\n",
       "      <td>84029G</td>\n",
       "      <td>KNITTED UNION FLAG HOT WATER BOTTLE</td>\n",
       "      <td>6</td>\n",
       "      <td>2010-12-01 08:26:00</td>\n",
       "      <td>3.39</td>\n",
       "      <td>17850.0</td>\n",
       "      <td>United Kingdom</td>\n",
       "    </tr>\n",
       "    <tr>\n",
       "      <th>4</th>\n",
       "      <td>536365</td>\n",
       "      <td>84029E</td>\n",
       "      <td>RED WOOLLY HOTTIE WHITE HEART.</td>\n",
       "      <td>6</td>\n",
       "      <td>2010-12-01 08:26:00</td>\n",
       "      <td>3.39</td>\n",
       "      <td>17850.0</td>\n",
       "      <td>United Kingdom</td>\n",
       "    </tr>\n",
       "    <tr>\n",
       "      <th>...</th>\n",
       "      <td>...</td>\n",
       "      <td>...</td>\n",
       "      <td>...</td>\n",
       "      <td>...</td>\n",
       "      <td>...</td>\n",
       "      <td>...</td>\n",
       "      <td>...</td>\n",
       "      <td>...</td>\n",
       "    </tr>\n",
       "    <tr>\n",
       "      <th>541904</th>\n",
       "      <td>581587</td>\n",
       "      <td>22613</td>\n",
       "      <td>PACK OF 20 SPACEBOY NAPKINS</td>\n",
       "      <td>12</td>\n",
       "      <td>2011-12-09 12:50:00</td>\n",
       "      <td>0.85</td>\n",
       "      <td>12680.0</td>\n",
       "      <td>France</td>\n",
       "    </tr>\n",
       "    <tr>\n",
       "      <th>541905</th>\n",
       "      <td>581587</td>\n",
       "      <td>22899</td>\n",
       "      <td>CHILDREN'S APRON DOLLY GIRL</td>\n",
       "      <td>6</td>\n",
       "      <td>2011-12-09 12:50:00</td>\n",
       "      <td>2.10</td>\n",
       "      <td>12680.0</td>\n",
       "      <td>France</td>\n",
       "    </tr>\n",
       "    <tr>\n",
       "      <th>541906</th>\n",
       "      <td>581587</td>\n",
       "      <td>23254</td>\n",
       "      <td>CHILDRENS CUTLERY DOLLY GIRL</td>\n",
       "      <td>4</td>\n",
       "      <td>2011-12-09 12:50:00</td>\n",
       "      <td>4.15</td>\n",
       "      <td>12680.0</td>\n",
       "      <td>France</td>\n",
       "    </tr>\n",
       "    <tr>\n",
       "      <th>541907</th>\n",
       "      <td>581587</td>\n",
       "      <td>23255</td>\n",
       "      <td>CHILDRENS CUTLERY CIRCUS PARADE</td>\n",
       "      <td>4</td>\n",
       "      <td>2011-12-09 12:50:00</td>\n",
       "      <td>4.15</td>\n",
       "      <td>12680.0</td>\n",
       "      <td>France</td>\n",
       "    </tr>\n",
       "    <tr>\n",
       "      <th>541908</th>\n",
       "      <td>581587</td>\n",
       "      <td>22138</td>\n",
       "      <td>BAKING SET 9 PIECE RETROSPOT</td>\n",
       "      <td>3</td>\n",
       "      <td>2011-12-09 12:50:00</td>\n",
       "      <td>4.95</td>\n",
       "      <td>12680.0</td>\n",
       "      <td>France</td>\n",
       "    </tr>\n",
       "  </tbody>\n",
       "</table>\n",
       "<p>541909 rows × 8 columns</p>\n",
       "</div>"
      ],
      "text/plain": [
       "       InvoiceNo StockCode                          Description  Quantity  \\\n",
       "0         536365    85123A   WHITE HANGING HEART T-LIGHT HOLDER         6   \n",
       "1         536365     71053                  WHITE METAL LANTERN         6   \n",
       "2         536365    84406B       CREAM CUPID HEARTS COAT HANGER         8   \n",
       "3         536365    84029G  KNITTED UNION FLAG HOT WATER BOTTLE         6   \n",
       "4         536365    84029E       RED WOOLLY HOTTIE WHITE HEART.         6   \n",
       "...          ...       ...                                  ...       ...   \n",
       "541904    581587     22613          PACK OF 20 SPACEBOY NAPKINS        12   \n",
       "541905    581587     22899         CHILDREN'S APRON DOLLY GIRL          6   \n",
       "541906    581587     23254        CHILDRENS CUTLERY DOLLY GIRL          4   \n",
       "541907    581587     23255      CHILDRENS CUTLERY CIRCUS PARADE         4   \n",
       "541908    581587     22138        BAKING SET 9 PIECE RETROSPOT          3   \n",
       "\n",
       "               InvoiceDate  UnitPrice  CustomerID         Country  \n",
       "0      2010-12-01 08:26:00       2.55     17850.0  United Kingdom  \n",
       "1      2010-12-01 08:26:00       3.39     17850.0  United Kingdom  \n",
       "2      2010-12-01 08:26:00       2.75     17850.0  United Kingdom  \n",
       "3      2010-12-01 08:26:00       3.39     17850.0  United Kingdom  \n",
       "4      2010-12-01 08:26:00       3.39     17850.0  United Kingdom  \n",
       "...                    ...        ...         ...             ...  \n",
       "541904 2011-12-09 12:50:00       0.85     12680.0          France  \n",
       "541905 2011-12-09 12:50:00       2.10     12680.0          France  \n",
       "541906 2011-12-09 12:50:00       4.15     12680.0          France  \n",
       "541907 2011-12-09 12:50:00       4.15     12680.0          France  \n",
       "541908 2011-12-09 12:50:00       4.95     12680.0          France  \n",
       "\n",
       "[541909 rows x 8 columns]"
      ]
     },
     "execution_count": 75,
     "metadata": {},
     "output_type": "execute_result"
    }
   ],
   "source": [
    "df=pd.read_excel('Online Retail.xlsx')\n",
    "df"
   ]
  },
  {
   "cell_type": "code",
   "execution_count": 76,
   "id": "144d38b7",
   "metadata": {},
   "outputs": [
    {
     "name": "stdout",
     "output_type": "stream",
     "text": [
      "<class 'pandas.core.frame.DataFrame'>\n",
      "RangeIndex: 541909 entries, 0 to 541908\n",
      "Data columns (total 8 columns):\n",
      " #   Column       Non-Null Count   Dtype         \n",
      "---  ------       --------------   -----         \n",
      " 0   InvoiceNo    541909 non-null  object        \n",
      " 1   StockCode    541909 non-null  object        \n",
      " 2   Description  540455 non-null  object        \n",
      " 3   Quantity     541909 non-null  int64         \n",
      " 4   InvoiceDate  541909 non-null  datetime64[ns]\n",
      " 5   UnitPrice    541909 non-null  float64       \n",
      " 6   CustomerID   406829 non-null  float64       \n",
      " 7   Country      541909 non-null  object        \n",
      "dtypes: datetime64[ns](1), float64(2), int64(1), object(4)\n",
      "memory usage: 33.1+ MB\n"
     ]
    }
   ],
   "source": [
    "df.info()\n"
   ]
  },
  {
   "cell_type": "code",
   "execution_count": 77,
   "id": "81118168",
   "metadata": {},
   "outputs": [
    {
     "data": {
      "application/vnd.microsoft.datawrangler.viewer.v0+json": {
       "columns": [
        {
         "name": "index",
         "rawType": "object",
         "type": "string"
        },
        {
         "name": "0",
         "rawType": "int64",
         "type": "integer"
        }
       ],
       "ref": "cd1a8277-1710-4a98-b1a5-5b11410b883a",
       "rows": [
        [
         "InvoiceNo",
         "0"
        ],
        [
         "StockCode",
         "0"
        ],
        [
         "Description",
         "0"
        ],
        [
         "Quantity",
         "0"
        ],
        [
         "InvoiceDate",
         "0"
        ],
        [
         "UnitPrice",
         "0"
        ],
        [
         "CustomerID",
         "0"
        ],
        [
         "Country",
         "0"
        ]
       ],
       "shape": {
        "columns": 1,
        "rows": 8
       }
      },
      "text/plain": [
       "InvoiceNo      0\n",
       "StockCode      0\n",
       "Description    0\n",
       "Quantity       0\n",
       "InvoiceDate    0\n",
       "UnitPrice      0\n",
       "CustomerID     0\n",
       "Country        0\n",
       "dtype: int64"
      ]
     },
     "execution_count": 77,
     "metadata": {},
     "output_type": "execute_result"
    }
   ],
   "source": [
    "df.dropna(subset='CustomerID',inplace=True)\n",
    "df.isnull().sum()"
   ]
  },
  {
   "cell_type": "code",
   "execution_count": 78,
   "id": "b9df6d7d",
   "metadata": {},
   "outputs": [
    {
     "name": "stdout",
     "output_type": "stream",
     "text": [
      "<class 'pandas.core.frame.DataFrame'>\n",
      "Index: 406829 entries, 0 to 541908\n",
      "Data columns (total 8 columns):\n",
      " #   Column       Non-Null Count   Dtype         \n",
      "---  ------       --------------   -----         \n",
      " 0   InvoiceNo    406829 non-null  object        \n",
      " 1   StockCode    406829 non-null  object        \n",
      " 2   Description  406829 non-null  object        \n",
      " 3   Quantity     406829 non-null  int64         \n",
      " 4   InvoiceDate  406829 non-null  datetime64[ns]\n",
      " 5   UnitPrice    406829 non-null  float64       \n",
      " 6   CustomerID   406829 non-null  object        \n",
      " 7   Country      406829 non-null  object        \n",
      "dtypes: datetime64[ns](1), float64(1), int64(1), object(5)\n",
      "memory usage: 27.9+ MB\n"
     ]
    }
   ],
   "source": [
    "df['CustomerID']=df['CustomerID'].astype(str)\n",
    "df.info()"
   ]
  },
  {
   "cell_type": "code",
   "execution_count": 79,
   "id": "a97a4c23",
   "metadata": {},
   "outputs": [
    {
     "data": {
      "application/vnd.microsoft.datawrangler.viewer.v0+json": {
       "columns": [
        {
         "name": "index",
         "rawType": "int64",
         "type": "integer"
        },
        {
         "name": "InvoiceNo",
         "rawType": "object",
         "type": "unknown"
        },
        {
         "name": "StockCode",
         "rawType": "object",
         "type": "unknown"
        },
        {
         "name": "Description",
         "rawType": "object",
         "type": "string"
        },
        {
         "name": "Quantity",
         "rawType": "int64",
         "type": "integer"
        },
        {
         "name": "InvoiceDate",
         "rawType": "datetime64[ns]",
         "type": "datetime"
        },
        {
         "name": "UnitPrice",
         "rawType": "float64",
         "type": "float"
        },
        {
         "name": "CustomerID",
         "rawType": "object",
         "type": "string"
        },
        {
         "name": "Country",
         "rawType": "object",
         "type": "string"
        },
        {
         "name": "TotalPrice",
         "rawType": "float64",
         "type": "float"
        }
       ],
       "ref": "6c862b2c-a6b0-4561-85fb-dfb566d73859",
       "rows": [
        [
         "0",
         "536365",
         "85123A",
         "WHITE HANGING HEART T-LIGHT HOLDER",
         "6",
         "2010-12-01 08:26:00",
         "2.55",
         "17850.0",
         "United Kingdom",
         "15.299999999999999"
        ],
        [
         "1",
         "536365",
         "71053",
         "WHITE METAL LANTERN",
         "6",
         "2010-12-01 08:26:00",
         "3.39",
         "17850.0",
         "United Kingdom",
         "20.34"
        ],
        [
         "2",
         "536365",
         "84406B",
         "CREAM CUPID HEARTS COAT HANGER",
         "8",
         "2010-12-01 08:26:00",
         "2.75",
         "17850.0",
         "United Kingdom",
         "22.0"
        ],
        [
         "3",
         "536365",
         "84029G",
         "KNITTED UNION FLAG HOT WATER BOTTLE",
         "6",
         "2010-12-01 08:26:00",
         "3.39",
         "17850.0",
         "United Kingdom",
         "20.34"
        ],
        [
         "4",
         "536365",
         "84029E",
         "RED WOOLLY HOTTIE WHITE HEART.",
         "6",
         "2010-12-01 08:26:00",
         "3.39",
         "17850.0",
         "United Kingdom",
         "20.34"
        ],
        [
         "5",
         "536365",
         "22752",
         "SET 7 BABUSHKA NESTING BOXES",
         "2",
         "2010-12-01 08:26:00",
         "7.65",
         "17850.0",
         "United Kingdom",
         "15.3"
        ],
        [
         "6",
         "536365",
         "21730",
         "GLASS STAR FROSTED T-LIGHT HOLDER",
         "6",
         "2010-12-01 08:26:00",
         "4.25",
         "17850.0",
         "United Kingdom",
         "25.5"
        ],
        [
         "7",
         "536366",
         "22633",
         "HAND WARMER UNION JACK",
         "6",
         "2010-12-01 08:28:00",
         "1.85",
         "17850.0",
         "United Kingdom",
         "11.100000000000001"
        ],
        [
         "8",
         "536366",
         "22632",
         "HAND WARMER RED POLKA DOT",
         "6",
         "2010-12-01 08:28:00",
         "1.85",
         "17850.0",
         "United Kingdom",
         "11.100000000000001"
        ],
        [
         "9",
         "536367",
         "84879",
         "ASSORTED COLOUR BIRD ORNAMENT",
         "32",
         "2010-12-01 08:34:00",
         "1.69",
         "13047.0",
         "United Kingdom",
         "54.08"
        ],
        [
         "10",
         "536367",
         "22745",
         "POPPY'S PLAYHOUSE BEDROOM ",
         "6",
         "2010-12-01 08:34:00",
         "2.1",
         "13047.0",
         "United Kingdom",
         "12.600000000000001"
        ],
        [
         "11",
         "536367",
         "22748",
         "POPPY'S PLAYHOUSE KITCHEN",
         "6",
         "2010-12-01 08:34:00",
         "2.1",
         "13047.0",
         "United Kingdom",
         "12.600000000000001"
        ],
        [
         "12",
         "536367",
         "22749",
         "FELTCRAFT PRINCESS CHARLOTTE DOLL",
         "8",
         "2010-12-01 08:34:00",
         "3.75",
         "13047.0",
         "United Kingdom",
         "30.0"
        ],
        [
         "13",
         "536367",
         "22310",
         "IVORY KNITTED MUG COSY ",
         "6",
         "2010-12-01 08:34:00",
         "1.65",
         "13047.0",
         "United Kingdom",
         "9.899999999999999"
        ],
        [
         "14",
         "536367",
         "84969",
         "BOX OF 6 ASSORTED COLOUR TEASPOONS",
         "6",
         "2010-12-01 08:34:00",
         "4.25",
         "13047.0",
         "United Kingdom",
         "25.5"
        ],
        [
         "15",
         "536367",
         "22623",
         "BOX OF VINTAGE JIGSAW BLOCKS ",
         "3",
         "2010-12-01 08:34:00",
         "4.95",
         "13047.0",
         "United Kingdom",
         "14.850000000000001"
        ],
        [
         "16",
         "536367",
         "22622",
         "BOX OF VINTAGE ALPHABET BLOCKS",
         "2",
         "2010-12-01 08:34:00",
         "9.95",
         "13047.0",
         "United Kingdom",
         "19.9"
        ],
        [
         "17",
         "536367",
         "21754",
         "HOME BUILDING BLOCK WORD",
         "3",
         "2010-12-01 08:34:00",
         "5.95",
         "13047.0",
         "United Kingdom",
         "17.85"
        ],
        [
         "18",
         "536367",
         "21755",
         "LOVE BUILDING BLOCK WORD",
         "3",
         "2010-12-01 08:34:00",
         "5.95",
         "13047.0",
         "United Kingdom",
         "17.85"
        ],
        [
         "19",
         "536367",
         "21777",
         "RECIPE BOX WITH METAL HEART",
         "4",
         "2010-12-01 08:34:00",
         "7.95",
         "13047.0",
         "United Kingdom",
         "31.8"
        ],
        [
         "20",
         "536367",
         "48187",
         "DOORMAT NEW ENGLAND",
         "4",
         "2010-12-01 08:34:00",
         "7.95",
         "13047.0",
         "United Kingdom",
         "31.8"
        ],
        [
         "21",
         "536368",
         "22960",
         "JAM MAKING SET WITH JARS",
         "6",
         "2010-12-01 08:34:00",
         "4.25",
         "13047.0",
         "United Kingdom",
         "25.5"
        ],
        [
         "22",
         "536368",
         "22913",
         "RED COAT RACK PARIS FASHION",
         "3",
         "2010-12-01 08:34:00",
         "4.95",
         "13047.0",
         "United Kingdom",
         "14.850000000000001"
        ],
        [
         "23",
         "536368",
         "22912",
         "YELLOW COAT RACK PARIS FASHION",
         "3",
         "2010-12-01 08:34:00",
         "4.95",
         "13047.0",
         "United Kingdom",
         "14.850000000000001"
        ],
        [
         "24",
         "536368",
         "22914",
         "BLUE COAT RACK PARIS FASHION",
         "3",
         "2010-12-01 08:34:00",
         "4.95",
         "13047.0",
         "United Kingdom",
         "14.850000000000001"
        ],
        [
         "25",
         "536369",
         "21756",
         "BATH BUILDING BLOCK WORD",
         "3",
         "2010-12-01 08:35:00",
         "5.95",
         "13047.0",
         "United Kingdom",
         "17.85"
        ],
        [
         "26",
         "536370",
         "22728",
         "ALARM CLOCK BAKELIKE PINK",
         "24",
         "2010-12-01 08:45:00",
         "3.75",
         "12583.0",
         "France",
         "90.0"
        ],
        [
         "27",
         "536370",
         "22727",
         "ALARM CLOCK BAKELIKE RED ",
         "24",
         "2010-12-01 08:45:00",
         "3.75",
         "12583.0",
         "France",
         "90.0"
        ],
        [
         "28",
         "536370",
         "22726",
         "ALARM CLOCK BAKELIKE GREEN",
         "12",
         "2010-12-01 08:45:00",
         "3.75",
         "12583.0",
         "France",
         "45.0"
        ],
        [
         "29",
         "536370",
         "21724",
         "PANDA AND BUNNIES STICKER SHEET",
         "12",
         "2010-12-01 08:45:00",
         "0.85",
         "12583.0",
         "France",
         "10.2"
        ],
        [
         "30",
         "536370",
         "21883",
         "STARS GIFT TAPE ",
         "24",
         "2010-12-01 08:45:00",
         "0.65",
         "12583.0",
         "France",
         "15.600000000000001"
        ],
        [
         "31",
         "536370",
         "10002",
         "INFLATABLE POLITICAL GLOBE ",
         "48",
         "2010-12-01 08:45:00",
         "0.85",
         "12583.0",
         "France",
         "40.8"
        ],
        [
         "32",
         "536370",
         "21791",
         "VINTAGE HEADS AND TAILS CARD GAME ",
         "24",
         "2010-12-01 08:45:00",
         "1.25",
         "12583.0",
         "France",
         "30.0"
        ],
        [
         "33",
         "536370",
         "21035",
         "SET/2 RED RETROSPOT TEA TOWELS ",
         "18",
         "2010-12-01 08:45:00",
         "2.95",
         "12583.0",
         "France",
         "53.1"
        ],
        [
         "34",
         "536370",
         "22326",
         "ROUND SNACK BOXES SET OF4 WOODLAND ",
         "24",
         "2010-12-01 08:45:00",
         "2.95",
         "12583.0",
         "France",
         "70.80000000000001"
        ],
        [
         "35",
         "536370",
         "22629",
         "SPACEBOY LUNCH BOX ",
         "24",
         "2010-12-01 08:45:00",
         "1.95",
         "12583.0",
         "France",
         "46.8"
        ],
        [
         "36",
         "536370",
         "22659",
         "LUNCH BOX I LOVE LONDON",
         "24",
         "2010-12-01 08:45:00",
         "1.95",
         "12583.0",
         "France",
         "46.8"
        ],
        [
         "37",
         "536370",
         "22631",
         "CIRCUS PARADE LUNCH BOX ",
         "24",
         "2010-12-01 08:45:00",
         "1.95",
         "12583.0",
         "France",
         "46.8"
        ],
        [
         "38",
         "536370",
         "22661",
         "CHARLOTTE BAG DOLLY GIRL DESIGN",
         "20",
         "2010-12-01 08:45:00",
         "0.85",
         "12583.0",
         "France",
         "17.0"
        ],
        [
         "39",
         "536370",
         "21731",
         "RED TOADSTOOL LED NIGHT LIGHT",
         "24",
         "2010-12-01 08:45:00",
         "1.65",
         "12583.0",
         "France",
         "39.599999999999994"
        ],
        [
         "40",
         "536370",
         "22900",
         " SET 2 TEA TOWELS I LOVE LONDON ",
         "24",
         "2010-12-01 08:45:00",
         "2.95",
         "12583.0",
         "France",
         "70.80000000000001"
        ],
        [
         "41",
         "536370",
         "21913",
         "VINTAGE SEASIDE JIGSAW PUZZLES",
         "12",
         "2010-12-01 08:45:00",
         "3.75",
         "12583.0",
         "France",
         "45.0"
        ],
        [
         "42",
         "536370",
         "22540",
         "MINI JIGSAW CIRCUS PARADE ",
         "24",
         "2010-12-01 08:45:00",
         "0.42",
         "12583.0",
         "France",
         "10.08"
        ],
        [
         "43",
         "536370",
         "22544",
         "MINI JIGSAW SPACEBOY",
         "24",
         "2010-12-01 08:45:00",
         "0.42",
         "12583.0",
         "France",
         "10.08"
        ],
        [
         "44",
         "536370",
         "22492",
         "MINI PAINT SET VINTAGE ",
         "36",
         "2010-12-01 08:45:00",
         "0.65",
         "12583.0",
         "France",
         "23.400000000000002"
        ],
        [
         "45",
         "536370",
         "POST",
         "POSTAGE",
         "3",
         "2010-12-01 08:45:00",
         "18.0",
         "12583.0",
         "France",
         "54.0"
        ],
        [
         "46",
         "536371",
         "22086",
         "PAPER CHAIN KIT 50'S CHRISTMAS ",
         "80",
         "2010-12-01 09:00:00",
         "2.55",
         "13748.0",
         "United Kingdom",
         "204.0"
        ],
        [
         "47",
         "536372",
         "22632",
         "HAND WARMER RED POLKA DOT",
         "6",
         "2010-12-01 09:01:00",
         "1.85",
         "17850.0",
         "United Kingdom",
         "11.100000000000001"
        ],
        [
         "48",
         "536372",
         "22633",
         "HAND WARMER UNION JACK",
         "6",
         "2010-12-01 09:01:00",
         "1.85",
         "17850.0",
         "United Kingdom",
         "11.100000000000001"
        ],
        [
         "49",
         "536373",
         "85123A",
         "WHITE HANGING HEART T-LIGHT HOLDER",
         "6",
         "2010-12-01 09:02:00",
         "2.55",
         "17850.0",
         "United Kingdom",
         "15.299999999999999"
        ]
       ],
       "shape": {
        "columns": 9,
        "rows": 406829
       }
      },
      "text/html": [
       "<div>\n",
       "<style scoped>\n",
       "    .dataframe tbody tr th:only-of-type {\n",
       "        vertical-align: middle;\n",
       "    }\n",
       "\n",
       "    .dataframe tbody tr th {\n",
       "        vertical-align: top;\n",
       "    }\n",
       "\n",
       "    .dataframe thead th {\n",
       "        text-align: right;\n",
       "    }\n",
       "</style>\n",
       "<table border=\"1\" class=\"dataframe\">\n",
       "  <thead>\n",
       "    <tr style=\"text-align: right;\">\n",
       "      <th></th>\n",
       "      <th>InvoiceNo</th>\n",
       "      <th>StockCode</th>\n",
       "      <th>Description</th>\n",
       "      <th>Quantity</th>\n",
       "      <th>InvoiceDate</th>\n",
       "      <th>UnitPrice</th>\n",
       "      <th>CustomerID</th>\n",
       "      <th>Country</th>\n",
       "      <th>TotalPrice</th>\n",
       "    </tr>\n",
       "  </thead>\n",
       "  <tbody>\n",
       "    <tr>\n",
       "      <th>0</th>\n",
       "      <td>536365</td>\n",
       "      <td>85123A</td>\n",
       "      <td>WHITE HANGING HEART T-LIGHT HOLDER</td>\n",
       "      <td>6</td>\n",
       "      <td>2010-12-01 08:26:00</td>\n",
       "      <td>2.55</td>\n",
       "      <td>17850.0</td>\n",
       "      <td>United Kingdom</td>\n",
       "      <td>15.30</td>\n",
       "    </tr>\n",
       "    <tr>\n",
       "      <th>1</th>\n",
       "      <td>536365</td>\n",
       "      <td>71053</td>\n",
       "      <td>WHITE METAL LANTERN</td>\n",
       "      <td>6</td>\n",
       "      <td>2010-12-01 08:26:00</td>\n",
       "      <td>3.39</td>\n",
       "      <td>17850.0</td>\n",
       "      <td>United Kingdom</td>\n",
       "      <td>20.34</td>\n",
       "    </tr>\n",
       "    <tr>\n",
       "      <th>2</th>\n",
       "      <td>536365</td>\n",
       "      <td>84406B</td>\n",
       "      <td>CREAM CUPID HEARTS COAT HANGER</td>\n",
       "      <td>8</td>\n",
       "      <td>2010-12-01 08:26:00</td>\n",
       "      <td>2.75</td>\n",
       "      <td>17850.0</td>\n",
       "      <td>United Kingdom</td>\n",
       "      <td>22.00</td>\n",
       "    </tr>\n",
       "    <tr>\n",
       "      <th>3</th>\n",
       "      <td>536365</td>\n",
       "      <td>84029G</td>\n",
       "      <td>KNITTED UNION FLAG HOT WATER BOTTLE</td>\n",
       "      <td>6</td>\n",
       "      <td>2010-12-01 08:26:00</td>\n",
       "      <td>3.39</td>\n",
       "      <td>17850.0</td>\n",
       "      <td>United Kingdom</td>\n",
       "      <td>20.34</td>\n",
       "    </tr>\n",
       "    <tr>\n",
       "      <th>4</th>\n",
       "      <td>536365</td>\n",
       "      <td>84029E</td>\n",
       "      <td>RED WOOLLY HOTTIE WHITE HEART.</td>\n",
       "      <td>6</td>\n",
       "      <td>2010-12-01 08:26:00</td>\n",
       "      <td>3.39</td>\n",
       "      <td>17850.0</td>\n",
       "      <td>United Kingdom</td>\n",
       "      <td>20.34</td>\n",
       "    </tr>\n",
       "    <tr>\n",
       "      <th>...</th>\n",
       "      <td>...</td>\n",
       "      <td>...</td>\n",
       "      <td>...</td>\n",
       "      <td>...</td>\n",
       "      <td>...</td>\n",
       "      <td>...</td>\n",
       "      <td>...</td>\n",
       "      <td>...</td>\n",
       "      <td>...</td>\n",
       "    </tr>\n",
       "    <tr>\n",
       "      <th>541904</th>\n",
       "      <td>581587</td>\n",
       "      <td>22613</td>\n",
       "      <td>PACK OF 20 SPACEBOY NAPKINS</td>\n",
       "      <td>12</td>\n",
       "      <td>2011-12-09 12:50:00</td>\n",
       "      <td>0.85</td>\n",
       "      <td>12680.0</td>\n",
       "      <td>France</td>\n",
       "      <td>10.20</td>\n",
       "    </tr>\n",
       "    <tr>\n",
       "      <th>541905</th>\n",
       "      <td>581587</td>\n",
       "      <td>22899</td>\n",
       "      <td>CHILDREN'S APRON DOLLY GIRL</td>\n",
       "      <td>6</td>\n",
       "      <td>2011-12-09 12:50:00</td>\n",
       "      <td>2.10</td>\n",
       "      <td>12680.0</td>\n",
       "      <td>France</td>\n",
       "      <td>12.60</td>\n",
       "    </tr>\n",
       "    <tr>\n",
       "      <th>541906</th>\n",
       "      <td>581587</td>\n",
       "      <td>23254</td>\n",
       "      <td>CHILDRENS CUTLERY DOLLY GIRL</td>\n",
       "      <td>4</td>\n",
       "      <td>2011-12-09 12:50:00</td>\n",
       "      <td>4.15</td>\n",
       "      <td>12680.0</td>\n",
       "      <td>France</td>\n",
       "      <td>16.60</td>\n",
       "    </tr>\n",
       "    <tr>\n",
       "      <th>541907</th>\n",
       "      <td>581587</td>\n",
       "      <td>23255</td>\n",
       "      <td>CHILDRENS CUTLERY CIRCUS PARADE</td>\n",
       "      <td>4</td>\n",
       "      <td>2011-12-09 12:50:00</td>\n",
       "      <td>4.15</td>\n",
       "      <td>12680.0</td>\n",
       "      <td>France</td>\n",
       "      <td>16.60</td>\n",
       "    </tr>\n",
       "    <tr>\n",
       "      <th>541908</th>\n",
       "      <td>581587</td>\n",
       "      <td>22138</td>\n",
       "      <td>BAKING SET 9 PIECE RETROSPOT</td>\n",
       "      <td>3</td>\n",
       "      <td>2011-12-09 12:50:00</td>\n",
       "      <td>4.95</td>\n",
       "      <td>12680.0</td>\n",
       "      <td>France</td>\n",
       "      <td>14.85</td>\n",
       "    </tr>\n",
       "  </tbody>\n",
       "</table>\n",
       "<p>406829 rows × 9 columns</p>\n",
       "</div>"
      ],
      "text/plain": [
       "       InvoiceNo StockCode                          Description  Quantity  \\\n",
       "0         536365    85123A   WHITE HANGING HEART T-LIGHT HOLDER         6   \n",
       "1         536365     71053                  WHITE METAL LANTERN         6   \n",
       "2         536365    84406B       CREAM CUPID HEARTS COAT HANGER         8   \n",
       "3         536365    84029G  KNITTED UNION FLAG HOT WATER BOTTLE         6   \n",
       "4         536365    84029E       RED WOOLLY HOTTIE WHITE HEART.         6   \n",
       "...          ...       ...                                  ...       ...   \n",
       "541904    581587     22613          PACK OF 20 SPACEBOY NAPKINS        12   \n",
       "541905    581587     22899         CHILDREN'S APRON DOLLY GIRL          6   \n",
       "541906    581587     23254        CHILDRENS CUTLERY DOLLY GIRL          4   \n",
       "541907    581587     23255      CHILDRENS CUTLERY CIRCUS PARADE         4   \n",
       "541908    581587     22138        BAKING SET 9 PIECE RETROSPOT          3   \n",
       "\n",
       "               InvoiceDate  UnitPrice CustomerID         Country  TotalPrice  \n",
       "0      2010-12-01 08:26:00       2.55    17850.0  United Kingdom       15.30  \n",
       "1      2010-12-01 08:26:00       3.39    17850.0  United Kingdom       20.34  \n",
       "2      2010-12-01 08:26:00       2.75    17850.0  United Kingdom       22.00  \n",
       "3      2010-12-01 08:26:00       3.39    17850.0  United Kingdom       20.34  \n",
       "4      2010-12-01 08:26:00       3.39    17850.0  United Kingdom       20.34  \n",
       "...                    ...        ...        ...             ...         ...  \n",
       "541904 2011-12-09 12:50:00       0.85    12680.0          France       10.20  \n",
       "541905 2011-12-09 12:50:00       2.10    12680.0          France       12.60  \n",
       "541906 2011-12-09 12:50:00       4.15    12680.0          France       16.60  \n",
       "541907 2011-12-09 12:50:00       4.15    12680.0          France       16.60  \n",
       "541908 2011-12-09 12:50:00       4.95    12680.0          France       14.85  \n",
       "\n",
       "[406829 rows x 9 columns]"
      ]
     },
     "execution_count": 79,
     "metadata": {},
     "output_type": "execute_result"
    }
   ],
   "source": [
    "df['TotalPrice']=df['Quantity'] * df['UnitPrice']\n",
    "df"
   ]
  },
  {
   "cell_type": "code",
   "execution_count": 80,
   "id": "5ee08002",
   "metadata": {},
   "outputs": [],
   "source": [
    "df['Year']=df['InvoiceDate'].dt.year"
   ]
  },
  {
   "cell_type": "code",
   "execution_count": 81,
   "id": "d3610a04",
   "metadata": {},
   "outputs": [],
   "source": [
    "df['Month']=df['InvoiceDate'].dt.month"
   ]
  },
  {
   "cell_type": "code",
   "execution_count": 82,
   "id": "b9c3e4b8",
   "metadata": {},
   "outputs": [],
   "source": [
    "df['Day']=df['InvoiceDate'].dt.day"
   ]
  },
  {
   "cell_type": "code",
   "execution_count": 83,
   "id": "35921818",
   "metadata": {},
   "outputs": [],
   "source": [
    "df['Hour'] = df['InvoiceDate'].dt.hour "
   ]
  },
  {
   "cell_type": "code",
   "execution_count": 84,
   "id": "48e7d344",
   "metadata": {},
   "outputs": [],
   "source": [
    "last_purchase=df.groupby('CustomerID')['InvoiceDate'].max().reset_index()"
   ]
  },
  {
   "cell_type": "code",
   "execution_count": 85,
   "id": "64fb9002",
   "metadata": {},
   "outputs": [
    {
     "data": {
      "application/vnd.microsoft.datawrangler.viewer.v0+json": {
       "columns": [
        {
         "name": "index",
         "rawType": "int64",
         "type": "integer"
        },
        {
         "name": "CustomerID",
         "rawType": "object",
         "type": "string"
        },
        {
         "name": "LastPurchaseDate",
         "rawType": "datetime64[ns]",
         "type": "datetime"
        }
       ],
       "ref": "3ecee97b-01d4-42cb-9a80-eba2257581dd",
       "rows": [
        [
         "0",
         "12346.0",
         "2011-01-18 10:17:00"
        ],
        [
         "1",
         "12347.0",
         "2011-12-07 15:52:00"
        ],
        [
         "2",
         "12348.0",
         "2011-09-25 13:13:00"
        ],
        [
         "3",
         "12349.0",
         "2011-11-21 09:51:00"
        ],
        [
         "4",
         "12350.0",
         "2011-02-02 16:01:00"
        ],
        [
         "5",
         "12352.0",
         "2011-11-03 14:37:00"
        ],
        [
         "6",
         "12353.0",
         "2011-05-19 17:47:00"
        ],
        [
         "7",
         "12354.0",
         "2011-04-21 13:11:00"
        ],
        [
         "8",
         "12355.0",
         "2011-05-09 13:49:00"
        ],
        [
         "9",
         "12356.0",
         "2011-11-17 08:40:00"
        ],
        [
         "10",
         "12357.0",
         "2011-11-06 16:07:00"
        ],
        [
         "11",
         "12358.0",
         "2011-12-08 10:26:00"
        ],
        [
         "12",
         "12359.0",
         "2011-12-02 11:21:00"
        ],
        [
         "13",
         "12360.0",
         "2011-10-18 15:22:00"
        ],
        [
         "14",
         "12361.0",
         "2011-02-25 13:51:00"
        ],
        [
         "15",
         "12362.0",
         "2011-12-06 15:40:00"
        ],
        [
         "16",
         "12363.0",
         "2011-08-22 10:18:00"
        ],
        [
         "17",
         "12364.0",
         "2011-12-02 10:22:00"
        ],
        [
         "18",
         "12365.0",
         "2011-02-21 14:04:00"
        ],
        [
         "19",
         "12367.0",
         "2011-12-05 16:48:00"
        ],
        [
         "20",
         "12370.0",
         "2011-10-19 14:51:00"
        ],
        [
         "21",
         "12371.0",
         "2011-10-26 10:16:00"
        ],
        [
         "22",
         "12372.0",
         "2011-09-29 12:12:00"
        ],
        [
         "23",
         "12373.0",
         "2011-02-01 13:10:00"
        ],
        [
         "24",
         "12374.0",
         "2011-11-14 15:37:00"
        ],
        [
         "25",
         "12375.0",
         "2011-12-07 11:27:00"
        ],
        [
         "26",
         "12377.0",
         "2011-01-28 15:45:00"
        ],
        [
         "27",
         "12378.0",
         "2011-08-02 10:34:00"
        ],
        [
         "28",
         "12379.0",
         "2011-09-19 10:09:00"
        ],
        [
         "29",
         "12380.0",
         "2011-11-18 11:27:00"
        ],
        [
         "30",
         "12381.0",
         "2011-12-05 12:44:00"
        ],
        [
         "31",
         "12383.0",
         "2011-06-08 08:02:00"
        ],
        [
         "32",
         "12384.0",
         "2011-11-11 08:39:00"
        ],
        [
         "33",
         "12386.0",
         "2011-01-06 12:37:00"
        ],
        [
         "34",
         "12388.0",
         "2011-11-24 12:30:00"
        ],
        [
         "35",
         "12390.0",
         "2011-09-21 09:33:00"
        ],
        [
         "36",
         "12391.0",
         "2011-11-18 12:07:00"
        ],
        [
         "37",
         "12393.0",
         "2011-09-28 15:41:00"
        ],
        [
         "38",
         "12394.0",
         "2011-10-07 08:08:00"
        ],
        [
         "39",
         "12395.0",
         "2011-11-24 12:20:00"
        ],
        [
         "40",
         "12397.0",
         "2011-11-04 09:52:00"
        ],
        [
         "41",
         "12398.0",
         "2011-10-25 10:27:00"
        ],
        [
         "42",
         "12399.0",
         "2011-08-12 13:15:00"
        ],
        [
         "43",
         "12401.0",
         "2011-02-09 13:50:00"
        ],
        [
         "44",
         "12402.0",
         "2011-01-20 13:49:00"
        ],
        [
         "45",
         "12403.0",
         "2011-10-21 11:00:00"
        ],
        [
         "46",
         "12405.0",
         "2011-07-14 08:52:00"
        ],
        [
         "47",
         "12406.0",
         "2011-11-17 19:22:00"
        ],
        [
         "48",
         "12407.0",
         "2011-10-21 10:11:00"
        ],
        [
         "49",
         "12408.0",
         "2011-11-07 12:30:00"
        ]
       ],
       "shape": {
        "columns": 2,
        "rows": 4372
       }
      },
      "text/html": [
       "<div>\n",
       "<style scoped>\n",
       "    .dataframe tbody tr th:only-of-type {\n",
       "        vertical-align: middle;\n",
       "    }\n",
       "\n",
       "    .dataframe tbody tr th {\n",
       "        vertical-align: top;\n",
       "    }\n",
       "\n",
       "    .dataframe thead th {\n",
       "        text-align: right;\n",
       "    }\n",
       "</style>\n",
       "<table border=\"1\" class=\"dataframe\">\n",
       "  <thead>\n",
       "    <tr style=\"text-align: right;\">\n",
       "      <th></th>\n",
       "      <th>CustomerID</th>\n",
       "      <th>LastPurchaseDate</th>\n",
       "    </tr>\n",
       "  </thead>\n",
       "  <tbody>\n",
       "    <tr>\n",
       "      <th>0</th>\n",
       "      <td>12346.0</td>\n",
       "      <td>2011-01-18 10:17:00</td>\n",
       "    </tr>\n",
       "    <tr>\n",
       "      <th>1</th>\n",
       "      <td>12347.0</td>\n",
       "      <td>2011-12-07 15:52:00</td>\n",
       "    </tr>\n",
       "    <tr>\n",
       "      <th>2</th>\n",
       "      <td>12348.0</td>\n",
       "      <td>2011-09-25 13:13:00</td>\n",
       "    </tr>\n",
       "    <tr>\n",
       "      <th>3</th>\n",
       "      <td>12349.0</td>\n",
       "      <td>2011-11-21 09:51:00</td>\n",
       "    </tr>\n",
       "    <tr>\n",
       "      <th>4</th>\n",
       "      <td>12350.0</td>\n",
       "      <td>2011-02-02 16:01:00</td>\n",
       "    </tr>\n",
       "    <tr>\n",
       "      <th>...</th>\n",
       "      <td>...</td>\n",
       "      <td>...</td>\n",
       "    </tr>\n",
       "    <tr>\n",
       "      <th>4367</th>\n",
       "      <td>18280.0</td>\n",
       "      <td>2011-03-07 09:52:00</td>\n",
       "    </tr>\n",
       "    <tr>\n",
       "      <th>4368</th>\n",
       "      <td>18281.0</td>\n",
       "      <td>2011-06-12 10:53:00</td>\n",
       "    </tr>\n",
       "    <tr>\n",
       "      <th>4369</th>\n",
       "      <td>18282.0</td>\n",
       "      <td>2011-12-02 11:43:00</td>\n",
       "    </tr>\n",
       "    <tr>\n",
       "      <th>4370</th>\n",
       "      <td>18283.0</td>\n",
       "      <td>2011-12-06 12:02:00</td>\n",
       "    </tr>\n",
       "    <tr>\n",
       "      <th>4371</th>\n",
       "      <td>18287.0</td>\n",
       "      <td>2011-10-28 09:29:00</td>\n",
       "    </tr>\n",
       "  </tbody>\n",
       "</table>\n",
       "<p>4372 rows × 2 columns</p>\n",
       "</div>"
      ],
      "text/plain": [
       "     CustomerID    LastPurchaseDate\n",
       "0       12346.0 2011-01-18 10:17:00\n",
       "1       12347.0 2011-12-07 15:52:00\n",
       "2       12348.0 2011-09-25 13:13:00\n",
       "3       12349.0 2011-11-21 09:51:00\n",
       "4       12350.0 2011-02-02 16:01:00\n",
       "...         ...                 ...\n",
       "4367    18280.0 2011-03-07 09:52:00\n",
       "4368    18281.0 2011-06-12 10:53:00\n",
       "4369    18282.0 2011-12-02 11:43:00\n",
       "4370    18283.0 2011-12-06 12:02:00\n",
       "4371    18287.0 2011-10-28 09:29:00\n",
       "\n",
       "[4372 rows x 2 columns]"
      ]
     },
     "execution_count": 85,
     "metadata": {},
     "output_type": "execute_result"
    }
   ],
   "source": [
    "last_purchase.columns=['CustomerID','LastPurchaseDate']\n",
    "last_purchase"
   ]
  },
  {
   "cell_type": "code",
   "execution_count": 86,
   "id": "46f0a9a5",
   "metadata": {},
   "outputs": [
    {
     "data": {
      "text/plain": [
       "Timestamp('2011-12-09 12:50:00')"
      ]
     },
     "execution_count": 86,
     "metadata": {},
     "output_type": "execute_result"
    }
   ],
   "source": [
    "df['InvoiceDate'].max()"
   ]
  },
  {
   "cell_type": "code",
   "execution_count": 87,
   "id": "fbf17b87",
   "metadata": {},
   "outputs": [],
   "source": [
    "Reference_date=pd.to_datetime('2011-12-09 12:50:00')"
   ]
  },
  {
   "cell_type": "code",
   "execution_count": 88,
   "id": "5f2f243c",
   "metadata": {},
   "outputs": [
    {
     "data": {
      "application/vnd.microsoft.datawrangler.viewer.v0+json": {
       "columns": [
        {
         "name": "index",
         "rawType": "int64",
         "type": "integer"
        },
        {
         "name": "CustomerID",
         "rawType": "object",
         "type": "string"
        },
        {
         "name": "LastPurchaseDate",
         "rawType": "datetime64[ns]",
         "type": "datetime"
        },
        {
         "name": "Recency",
         "rawType": "int64",
         "type": "integer"
        }
       ],
       "ref": "3323879d-90ca-4fc4-b46f-2ad6ad3f4cbd",
       "rows": [
        [
         "0",
         "12346.0",
         "2011-01-18 10:17:00",
         "325"
        ],
        [
         "1",
         "12347.0",
         "2011-12-07 15:52:00",
         "1"
        ],
        [
         "2",
         "12348.0",
         "2011-09-25 13:13:00",
         "74"
        ],
        [
         "3",
         "12349.0",
         "2011-11-21 09:51:00",
         "18"
        ],
        [
         "4",
         "12350.0",
         "2011-02-02 16:01:00",
         "309"
        ],
        [
         "5",
         "12352.0",
         "2011-11-03 14:37:00",
         "35"
        ],
        [
         "6",
         "12353.0",
         "2011-05-19 17:47:00",
         "203"
        ],
        [
         "7",
         "12354.0",
         "2011-04-21 13:11:00",
         "231"
        ],
        [
         "8",
         "12355.0",
         "2011-05-09 13:49:00",
         "213"
        ],
        [
         "9",
         "12356.0",
         "2011-11-17 08:40:00",
         "22"
        ],
        [
         "10",
         "12357.0",
         "2011-11-06 16:07:00",
         "32"
        ],
        [
         "11",
         "12358.0",
         "2011-12-08 10:26:00",
         "1"
        ],
        [
         "12",
         "12359.0",
         "2011-12-02 11:21:00",
         "7"
        ],
        [
         "13",
         "12360.0",
         "2011-10-18 15:22:00",
         "51"
        ],
        [
         "14",
         "12361.0",
         "2011-02-25 13:51:00",
         "286"
        ],
        [
         "15",
         "12362.0",
         "2011-12-06 15:40:00",
         "2"
        ],
        [
         "16",
         "12363.0",
         "2011-08-22 10:18:00",
         "109"
        ],
        [
         "17",
         "12364.0",
         "2011-12-02 10:22:00",
         "7"
        ],
        [
         "18",
         "12365.0",
         "2011-02-21 14:04:00",
         "290"
        ],
        [
         "19",
         "12367.0",
         "2011-12-05 16:48:00",
         "3"
        ],
        [
         "20",
         "12370.0",
         "2011-10-19 14:51:00",
         "50"
        ],
        [
         "21",
         "12371.0",
         "2011-10-26 10:16:00",
         "44"
        ],
        [
         "22",
         "12372.0",
         "2011-09-29 12:12:00",
         "71"
        ],
        [
         "23",
         "12373.0",
         "2011-02-01 13:10:00",
         "310"
        ],
        [
         "24",
         "12374.0",
         "2011-11-14 15:37:00",
         "24"
        ],
        [
         "25",
         "12375.0",
         "2011-12-07 11:27:00",
         "2"
        ],
        [
         "26",
         "12377.0",
         "2011-01-28 15:45:00",
         "314"
        ],
        [
         "27",
         "12378.0",
         "2011-08-02 10:34:00",
         "129"
        ],
        [
         "28",
         "12379.0",
         "2011-09-19 10:09:00",
         "81"
        ],
        [
         "29",
         "12380.0",
         "2011-11-18 11:27:00",
         "21"
        ],
        [
         "30",
         "12381.0",
         "2011-12-05 12:44:00",
         "4"
        ],
        [
         "31",
         "12383.0",
         "2011-06-08 08:02:00",
         "184"
        ],
        [
         "32",
         "12384.0",
         "2011-11-11 08:39:00",
         "28"
        ],
        [
         "33",
         "12386.0",
         "2011-01-06 12:37:00",
         "337"
        ],
        [
         "34",
         "12388.0",
         "2011-11-24 12:30:00",
         "15"
        ],
        [
         "35",
         "12390.0",
         "2011-09-21 09:33:00",
         "79"
        ],
        [
         "36",
         "12391.0",
         "2011-11-18 12:07:00",
         "21"
        ],
        [
         "37",
         "12393.0",
         "2011-09-28 15:41:00",
         "71"
        ],
        [
         "38",
         "12394.0",
         "2011-10-07 08:08:00",
         "63"
        ],
        [
         "39",
         "12395.0",
         "2011-11-24 12:20:00",
         "15"
        ],
        [
         "40",
         "12397.0",
         "2011-11-04 09:52:00",
         "35"
        ],
        [
         "41",
         "12398.0",
         "2011-10-25 10:27:00",
         "45"
        ],
        [
         "42",
         "12399.0",
         "2011-08-12 13:15:00",
         "118"
        ],
        [
         "43",
         "12401.0",
         "2011-02-09 13:50:00",
         "302"
        ],
        [
         "44",
         "12402.0",
         "2011-01-20 13:49:00",
         "322"
        ],
        [
         "45",
         "12403.0",
         "2011-10-21 11:00:00",
         "49"
        ],
        [
         "46",
         "12405.0",
         "2011-07-14 08:52:00",
         "148"
        ],
        [
         "47",
         "12406.0",
         "2011-11-17 19:22:00",
         "21"
        ],
        [
         "48",
         "12407.0",
         "2011-10-21 10:11:00",
         "49"
        ],
        [
         "49",
         "12408.0",
         "2011-11-07 12:30:00",
         "32"
        ]
       ],
       "shape": {
        "columns": 3,
        "rows": 4372
       }
      },
      "text/html": [
       "<div>\n",
       "<style scoped>\n",
       "    .dataframe tbody tr th:only-of-type {\n",
       "        vertical-align: middle;\n",
       "    }\n",
       "\n",
       "    .dataframe tbody tr th {\n",
       "        vertical-align: top;\n",
       "    }\n",
       "\n",
       "    .dataframe thead th {\n",
       "        text-align: right;\n",
       "    }\n",
       "</style>\n",
       "<table border=\"1\" class=\"dataframe\">\n",
       "  <thead>\n",
       "    <tr style=\"text-align: right;\">\n",
       "      <th></th>\n",
       "      <th>CustomerID</th>\n",
       "      <th>LastPurchaseDate</th>\n",
       "      <th>Recency</th>\n",
       "    </tr>\n",
       "  </thead>\n",
       "  <tbody>\n",
       "    <tr>\n",
       "      <th>0</th>\n",
       "      <td>12346.0</td>\n",
       "      <td>2011-01-18 10:17:00</td>\n",
       "      <td>325</td>\n",
       "    </tr>\n",
       "    <tr>\n",
       "      <th>1</th>\n",
       "      <td>12347.0</td>\n",
       "      <td>2011-12-07 15:52:00</td>\n",
       "      <td>1</td>\n",
       "    </tr>\n",
       "    <tr>\n",
       "      <th>2</th>\n",
       "      <td>12348.0</td>\n",
       "      <td>2011-09-25 13:13:00</td>\n",
       "      <td>74</td>\n",
       "    </tr>\n",
       "    <tr>\n",
       "      <th>3</th>\n",
       "      <td>12349.0</td>\n",
       "      <td>2011-11-21 09:51:00</td>\n",
       "      <td>18</td>\n",
       "    </tr>\n",
       "    <tr>\n",
       "      <th>4</th>\n",
       "      <td>12350.0</td>\n",
       "      <td>2011-02-02 16:01:00</td>\n",
       "      <td>309</td>\n",
       "    </tr>\n",
       "    <tr>\n",
       "      <th>...</th>\n",
       "      <td>...</td>\n",
       "      <td>...</td>\n",
       "      <td>...</td>\n",
       "    </tr>\n",
       "    <tr>\n",
       "      <th>4367</th>\n",
       "      <td>18280.0</td>\n",
       "      <td>2011-03-07 09:52:00</td>\n",
       "      <td>277</td>\n",
       "    </tr>\n",
       "    <tr>\n",
       "      <th>4368</th>\n",
       "      <td>18281.0</td>\n",
       "      <td>2011-06-12 10:53:00</td>\n",
       "      <td>180</td>\n",
       "    </tr>\n",
       "    <tr>\n",
       "      <th>4369</th>\n",
       "      <td>18282.0</td>\n",
       "      <td>2011-12-02 11:43:00</td>\n",
       "      <td>7</td>\n",
       "    </tr>\n",
       "    <tr>\n",
       "      <th>4370</th>\n",
       "      <td>18283.0</td>\n",
       "      <td>2011-12-06 12:02:00</td>\n",
       "      <td>3</td>\n",
       "    </tr>\n",
       "    <tr>\n",
       "      <th>4371</th>\n",
       "      <td>18287.0</td>\n",
       "      <td>2011-10-28 09:29:00</td>\n",
       "      <td>42</td>\n",
       "    </tr>\n",
       "  </tbody>\n",
       "</table>\n",
       "<p>4372 rows × 3 columns</p>\n",
       "</div>"
      ],
      "text/plain": [
       "     CustomerID    LastPurchaseDate  Recency\n",
       "0       12346.0 2011-01-18 10:17:00      325\n",
       "1       12347.0 2011-12-07 15:52:00        1\n",
       "2       12348.0 2011-09-25 13:13:00       74\n",
       "3       12349.0 2011-11-21 09:51:00       18\n",
       "4       12350.0 2011-02-02 16:01:00      309\n",
       "...         ...                 ...      ...\n",
       "4367    18280.0 2011-03-07 09:52:00      277\n",
       "4368    18281.0 2011-06-12 10:53:00      180\n",
       "4369    18282.0 2011-12-02 11:43:00        7\n",
       "4370    18283.0 2011-12-06 12:02:00        3\n",
       "4371    18287.0 2011-10-28 09:29:00       42\n",
       "\n",
       "[4372 rows x 3 columns]"
      ]
     },
     "execution_count": 88,
     "metadata": {},
     "output_type": "execute_result"
    }
   ],
   "source": [
    "last_purchase['Recency'] = (Reference_date - last_purchase['LastPurchaseDate']).dt.days\n",
    "last_purchase"
   ]
  },
  {
   "cell_type": "code",
   "execution_count": 89,
   "id": "6be8a7a9",
   "metadata": {},
   "outputs": [
    {
     "data": {
      "application/vnd.microsoft.datawrangler.viewer.v0+json": {
       "columns": [
        {
         "name": "index",
         "rawType": "int64",
         "type": "integer"
        },
        {
         "name": "CustomerID",
         "rawType": "object",
         "type": "string"
        },
        {
         "name": "Frequency",
         "rawType": "int64",
         "type": "integer"
        }
       ],
       "ref": "4b28d213-d010-4cbd-9eb5-5a855d694181",
       "rows": [
        [
         "0",
         "12346.0",
         "2"
        ],
        [
         "1",
         "12347.0",
         "7"
        ],
        [
         "2",
         "12348.0",
         "4"
        ],
        [
         "3",
         "12349.0",
         "1"
        ],
        [
         "4",
         "12350.0",
         "1"
        ],
        [
         "5",
         "12352.0",
         "11"
        ],
        [
         "6",
         "12353.0",
         "1"
        ],
        [
         "7",
         "12354.0",
         "1"
        ],
        [
         "8",
         "12355.0",
         "1"
        ],
        [
         "9",
         "12356.0",
         "3"
        ],
        [
         "10",
         "12357.0",
         "1"
        ],
        [
         "11",
         "12358.0",
         "2"
        ],
        [
         "12",
         "12359.0",
         "6"
        ],
        [
         "13",
         "12360.0",
         "3"
        ],
        [
         "14",
         "12361.0",
         "1"
        ],
        [
         "15",
         "12362.0",
         "13"
        ],
        [
         "16",
         "12363.0",
         "2"
        ],
        [
         "17",
         "12364.0",
         "4"
        ],
        [
         "18",
         "12365.0",
         "3"
        ],
        [
         "19",
         "12367.0",
         "1"
        ],
        [
         "20",
         "12370.0",
         "4"
        ],
        [
         "21",
         "12371.0",
         "2"
        ],
        [
         "22",
         "12372.0",
         "3"
        ],
        [
         "23",
         "12373.0",
         "1"
        ],
        [
         "24",
         "12374.0",
         "1"
        ],
        [
         "25",
         "12375.0",
         "3"
        ],
        [
         "26",
         "12377.0",
         "2"
        ],
        [
         "27",
         "12378.0",
         "1"
        ],
        [
         "28",
         "12379.0",
         "3"
        ],
        [
         "29",
         "12380.0",
         "5"
        ],
        [
         "30",
         "12381.0",
         "6"
        ],
        [
         "31",
         "12383.0",
         "6"
        ],
        [
         "32",
         "12384.0",
         "3"
        ],
        [
         "33",
         "12386.0",
         "2"
        ],
        [
         "34",
         "12388.0",
         "6"
        ],
        [
         "35",
         "12390.0",
         "1"
        ],
        [
         "36",
         "12391.0",
         "1"
        ],
        [
         "37",
         "12393.0",
         "4"
        ],
        [
         "38",
         "12394.0",
         "2"
        ],
        [
         "39",
         "12395.0",
         "15"
        ],
        [
         "40",
         "12397.0",
         "2"
        ],
        [
         "41",
         "12398.0",
         "1"
        ],
        [
         "42",
         "12399.0",
         "4"
        ],
        [
         "43",
         "12401.0",
         "1"
        ],
        [
         "44",
         "12402.0",
         "1"
        ],
        [
         "45",
         "12403.0",
         "2"
        ],
        [
         "46",
         "12405.0",
         "1"
        ],
        [
         "47",
         "12406.0",
         "3"
        ],
        [
         "48",
         "12407.0",
         "5"
        ],
        [
         "49",
         "12408.0",
         "9"
        ]
       ],
       "shape": {
        "columns": 2,
        "rows": 4372
       }
      },
      "text/html": [
       "<div>\n",
       "<style scoped>\n",
       "    .dataframe tbody tr th:only-of-type {\n",
       "        vertical-align: middle;\n",
       "    }\n",
       "\n",
       "    .dataframe tbody tr th {\n",
       "        vertical-align: top;\n",
       "    }\n",
       "\n",
       "    .dataframe thead th {\n",
       "        text-align: right;\n",
       "    }\n",
       "</style>\n",
       "<table border=\"1\" class=\"dataframe\">\n",
       "  <thead>\n",
       "    <tr style=\"text-align: right;\">\n",
       "      <th></th>\n",
       "      <th>CustomerID</th>\n",
       "      <th>Frequency</th>\n",
       "    </tr>\n",
       "  </thead>\n",
       "  <tbody>\n",
       "    <tr>\n",
       "      <th>0</th>\n",
       "      <td>12346.0</td>\n",
       "      <td>2</td>\n",
       "    </tr>\n",
       "    <tr>\n",
       "      <th>1</th>\n",
       "      <td>12347.0</td>\n",
       "      <td>7</td>\n",
       "    </tr>\n",
       "    <tr>\n",
       "      <th>2</th>\n",
       "      <td>12348.0</td>\n",
       "      <td>4</td>\n",
       "    </tr>\n",
       "    <tr>\n",
       "      <th>3</th>\n",
       "      <td>12349.0</td>\n",
       "      <td>1</td>\n",
       "    </tr>\n",
       "    <tr>\n",
       "      <th>4</th>\n",
       "      <td>12350.0</td>\n",
       "      <td>1</td>\n",
       "    </tr>\n",
       "    <tr>\n",
       "      <th>...</th>\n",
       "      <td>...</td>\n",
       "      <td>...</td>\n",
       "    </tr>\n",
       "    <tr>\n",
       "      <th>4367</th>\n",
       "      <td>18280.0</td>\n",
       "      <td>1</td>\n",
       "    </tr>\n",
       "    <tr>\n",
       "      <th>4368</th>\n",
       "      <td>18281.0</td>\n",
       "      <td>1</td>\n",
       "    </tr>\n",
       "    <tr>\n",
       "      <th>4369</th>\n",
       "      <td>18282.0</td>\n",
       "      <td>3</td>\n",
       "    </tr>\n",
       "    <tr>\n",
       "      <th>4370</th>\n",
       "      <td>18283.0</td>\n",
       "      <td>16</td>\n",
       "    </tr>\n",
       "    <tr>\n",
       "      <th>4371</th>\n",
       "      <td>18287.0</td>\n",
       "      <td>3</td>\n",
       "    </tr>\n",
       "  </tbody>\n",
       "</table>\n",
       "<p>4372 rows × 2 columns</p>\n",
       "</div>"
      ],
      "text/plain": [
       "     CustomerID  Frequency\n",
       "0       12346.0          2\n",
       "1       12347.0          7\n",
       "2       12348.0          4\n",
       "3       12349.0          1\n",
       "4       12350.0          1\n",
       "...         ...        ...\n",
       "4367    18280.0          1\n",
       "4368    18281.0          1\n",
       "4369    18282.0          3\n",
       "4370    18283.0         16\n",
       "4371    18287.0          3\n",
       "\n",
       "[4372 rows x 2 columns]"
      ]
     },
     "execution_count": 89,
     "metadata": {},
     "output_type": "execute_result"
    }
   ],
   "source": [
    "frequency=df.groupby('CustomerID')['InvoiceNo'].nunique().reset_index()\n",
    "frequency.columns=['CustomerID','Frequency']\n",
    "frequency"
   ]
  },
  {
   "cell_type": "code",
   "execution_count": 95,
   "id": "49caf3e1",
   "metadata": {},
   "outputs": [
    {
     "data": {
      "application/vnd.microsoft.datawrangler.viewer.v0+json": {
       "columns": [
        {
         "name": "index",
         "rawType": "int64",
         "type": "integer"
        },
        {
         "name": "CustomerID",
         "rawType": "object",
         "type": "string"
        },
        {
         "name": "Monetary",
         "rawType": "float64",
         "type": "float"
        }
       ],
       "ref": "7520e575-3337-45f1-89ad-ad50af556af1",
       "rows": [
        [
         "0",
         "12346.0",
         "0.0"
        ],
        [
         "1",
         "12347.0",
         "4310.0"
        ],
        [
         "2",
         "12348.0",
         "1797.24"
        ],
        [
         "3",
         "12349.0",
         "1757.55"
        ],
        [
         "4",
         "12350.0",
         "334.4"
        ],
        [
         "5",
         "12352.0",
         "1545.41"
        ],
        [
         "6",
         "12353.0",
         "89.0"
        ],
        [
         "7",
         "12354.0",
         "1079.4"
        ],
        [
         "8",
         "12355.0",
         "459.4"
        ],
        [
         "9",
         "12356.0",
         "2811.43"
        ],
        [
         "10",
         "12357.0",
         "6207.67"
        ],
        [
         "11",
         "12358.0",
         "1168.06"
        ],
        [
         "12",
         "12359.0",
         "6245.53"
        ],
        [
         "13",
         "12360.0",
         "2662.06"
        ],
        [
         "14",
         "12361.0",
         "189.9"
        ],
        [
         "15",
         "12362.0",
         "5154.58"
        ],
        [
         "16",
         "12363.0",
         "552.0"
        ],
        [
         "17",
         "12364.0",
         "1313.1"
        ],
        [
         "18",
         "12365.0",
         "320.69"
        ],
        [
         "19",
         "12367.0",
         "168.9"
        ],
        [
         "20",
         "12370.0",
         "3545.69"
        ],
        [
         "21",
         "12371.0",
         "1887.96"
        ],
        [
         "22",
         "12372.0",
         "1298.04"
        ],
        [
         "23",
         "12373.0",
         "364.6"
        ],
        [
         "24",
         "12374.0",
         "742.9300000000001"
        ],
        [
         "25",
         "12375.0",
         "455.42"
        ],
        [
         "26",
         "12377.0",
         "1628.12"
        ],
        [
         "27",
         "12378.0",
         "4008.62"
        ],
        [
         "28",
         "12379.0",
         "850.29"
        ],
        [
         "29",
         "12380.0",
         "2720.56"
        ],
        [
         "30",
         "12381.0",
         "1803.96"
        ],
        [
         "31",
         "12383.0",
         "1839.31"
        ],
        [
         "32",
         "12384.0",
         "566.16"
        ],
        [
         "33",
         "12386.0",
         "401.9"
        ],
        [
         "34",
         "12388.0",
         "2780.66"
        ],
        [
         "35",
         "12390.0",
         "549.84"
        ],
        [
         "36",
         "12391.0",
         "460.89"
        ],
        [
         "37",
         "12393.0",
         "1582.6000000000001"
        ],
        [
         "38",
         "12394.0",
         "1272.48"
        ],
        [
         "39",
         "12395.0",
         "2998.28"
        ],
        [
         "40",
         "12397.0",
         "2409.9"
        ],
        [
         "41",
         "12398.0",
         "1635.6599999999999"
        ],
        [
         "42",
         "12399.0",
         "1108.65"
        ],
        [
         "43",
         "12401.0",
         "84.3"
        ],
        [
         "44",
         "12402.0",
         "225.6"
        ],
        [
         "45",
         "12403.0",
         "409.7"
        ],
        [
         "46",
         "12405.0",
         "1710.39"
        ],
        [
         "47",
         "12406.0",
         "3280.75"
        ],
        [
         "48",
         "12407.0",
         "1708.1200000000001"
        ],
        [
         "49",
         "12408.0",
         "2842.57"
        ]
       ],
       "shape": {
        "columns": 2,
        "rows": 4372
       }
      },
      "text/html": [
       "<div>\n",
       "<style scoped>\n",
       "    .dataframe tbody tr th:only-of-type {\n",
       "        vertical-align: middle;\n",
       "    }\n",
       "\n",
       "    .dataframe tbody tr th {\n",
       "        vertical-align: top;\n",
       "    }\n",
       "\n",
       "    .dataframe thead th {\n",
       "        text-align: right;\n",
       "    }\n",
       "</style>\n",
       "<table border=\"1\" class=\"dataframe\">\n",
       "  <thead>\n",
       "    <tr style=\"text-align: right;\">\n",
       "      <th></th>\n",
       "      <th>CustomerID</th>\n",
       "      <th>Monetary</th>\n",
       "    </tr>\n",
       "  </thead>\n",
       "  <tbody>\n",
       "    <tr>\n",
       "      <th>0</th>\n",
       "      <td>12346.0</td>\n",
       "      <td>0.00</td>\n",
       "    </tr>\n",
       "    <tr>\n",
       "      <th>1</th>\n",
       "      <td>12347.0</td>\n",
       "      <td>4310.00</td>\n",
       "    </tr>\n",
       "    <tr>\n",
       "      <th>2</th>\n",
       "      <td>12348.0</td>\n",
       "      <td>1797.24</td>\n",
       "    </tr>\n",
       "    <tr>\n",
       "      <th>3</th>\n",
       "      <td>12349.0</td>\n",
       "      <td>1757.55</td>\n",
       "    </tr>\n",
       "    <tr>\n",
       "      <th>4</th>\n",
       "      <td>12350.0</td>\n",
       "      <td>334.40</td>\n",
       "    </tr>\n",
       "    <tr>\n",
       "      <th>...</th>\n",
       "      <td>...</td>\n",
       "      <td>...</td>\n",
       "    </tr>\n",
       "    <tr>\n",
       "      <th>4367</th>\n",
       "      <td>18280.0</td>\n",
       "      <td>180.60</td>\n",
       "    </tr>\n",
       "    <tr>\n",
       "      <th>4368</th>\n",
       "      <td>18281.0</td>\n",
       "      <td>80.82</td>\n",
       "    </tr>\n",
       "    <tr>\n",
       "      <th>4369</th>\n",
       "      <td>18282.0</td>\n",
       "      <td>176.60</td>\n",
       "    </tr>\n",
       "    <tr>\n",
       "      <th>4370</th>\n",
       "      <td>18283.0</td>\n",
       "      <td>2094.88</td>\n",
       "    </tr>\n",
       "    <tr>\n",
       "      <th>4371</th>\n",
       "      <td>18287.0</td>\n",
       "      <td>1837.28</td>\n",
       "    </tr>\n",
       "  </tbody>\n",
       "</table>\n",
       "<p>4372 rows × 2 columns</p>\n",
       "</div>"
      ],
      "text/plain": [
       "     CustomerID  Monetary\n",
       "0       12346.0      0.00\n",
       "1       12347.0   4310.00\n",
       "2       12348.0   1797.24\n",
       "3       12349.0   1757.55\n",
       "4       12350.0    334.40\n",
       "...         ...       ...\n",
       "4367    18280.0    180.60\n",
       "4368    18281.0     80.82\n",
       "4369    18282.0    176.60\n",
       "4370    18283.0   2094.88\n",
       "4371    18287.0   1837.28\n",
       "\n",
       "[4372 rows x 2 columns]"
      ]
     },
     "execution_count": 95,
     "metadata": {},
     "output_type": "execute_result"
    }
   ],
   "source": [
    "monetary=df.groupby('CustomerID')['TotalPrice'].sum().reset_index()\n",
    "monetary.columns=['CustomerID','Monetary']\n",
    "monetary"
   ]
  },
  {
   "cell_type": "code",
   "execution_count": 99,
   "id": "8c6cd3ec",
   "metadata": {},
   "outputs": [
    {
     "data": {
      "application/vnd.microsoft.datawrangler.viewer.v0+json": {
       "columns": [
        {
         "name": "index",
         "rawType": "int64",
         "type": "integer"
        },
        {
         "name": "CustomerID",
         "rawType": "object",
         "type": "string"
        },
        {
         "name": "Monetary",
         "rawType": "float64",
         "type": "float"
        }
       ],
       "ref": "0f58720e-8720-499e-b6de-7b5d5c956862",
       "rows": [
        [
         "0",
         "12346.0",
         "0.0"
        ],
        [
         "692",
         "13256.0",
         "0.0"
        ],
        [
         "775",
         "13364.0",
         "0.0"
        ],
        [
         "1642",
         "14557.0",
         "0.0"
        ],
        [
         "1809",
         "14792.0",
         "0.0"
        ],
        [
         "3245",
         "16742.0",
         "0.0"
        ],
        [
         "3349",
         "16878.0",
         "0.0"
        ],
        [
         "4358",
         "18268.0",
         "0.0"
        ]
       ],
       "shape": {
        "columns": 2,
        "rows": 8
       }
      },
      "text/html": [
       "<div>\n",
       "<style scoped>\n",
       "    .dataframe tbody tr th:only-of-type {\n",
       "        vertical-align: middle;\n",
       "    }\n",
       "\n",
       "    .dataframe tbody tr th {\n",
       "        vertical-align: top;\n",
       "    }\n",
       "\n",
       "    .dataframe thead th {\n",
       "        text-align: right;\n",
       "    }\n",
       "</style>\n",
       "<table border=\"1\" class=\"dataframe\">\n",
       "  <thead>\n",
       "    <tr style=\"text-align: right;\">\n",
       "      <th></th>\n",
       "      <th>CustomerID</th>\n",
       "      <th>Monetary</th>\n",
       "    </tr>\n",
       "  </thead>\n",
       "  <tbody>\n",
       "    <tr>\n",
       "      <th>0</th>\n",
       "      <td>12346.0</td>\n",
       "      <td>0.0</td>\n",
       "    </tr>\n",
       "    <tr>\n",
       "      <th>692</th>\n",
       "      <td>13256.0</td>\n",
       "      <td>0.0</td>\n",
       "    </tr>\n",
       "    <tr>\n",
       "      <th>775</th>\n",
       "      <td>13364.0</td>\n",
       "      <td>0.0</td>\n",
       "    </tr>\n",
       "    <tr>\n",
       "      <th>1642</th>\n",
       "      <td>14557.0</td>\n",
       "      <td>0.0</td>\n",
       "    </tr>\n",
       "    <tr>\n",
       "      <th>1809</th>\n",
       "      <td>14792.0</td>\n",
       "      <td>0.0</td>\n",
       "    </tr>\n",
       "    <tr>\n",
       "      <th>3245</th>\n",
       "      <td>16742.0</td>\n",
       "      <td>0.0</td>\n",
       "    </tr>\n",
       "    <tr>\n",
       "      <th>3349</th>\n",
       "      <td>16878.0</td>\n",
       "      <td>0.0</td>\n",
       "    </tr>\n",
       "    <tr>\n",
       "      <th>4358</th>\n",
       "      <td>18268.0</td>\n",
       "      <td>0.0</td>\n",
       "    </tr>\n",
       "  </tbody>\n",
       "</table>\n",
       "</div>"
      ],
      "text/plain": [
       "     CustomerID  Monetary\n",
       "0       12346.0       0.0\n",
       "692     13256.0       0.0\n",
       "775     13364.0       0.0\n",
       "1642    14557.0       0.0\n",
       "1809    14792.0       0.0\n",
       "3245    16742.0       0.0\n",
       "3349    16878.0       0.0\n",
       "4358    18268.0       0.0"
      ]
     },
     "execution_count": 99,
     "metadata": {},
     "output_type": "execute_result"
    }
   ],
   "source": [
    "monetary[monetary['Monetary']==0.0]"
   ]
  },
  {
   "cell_type": "code",
   "execution_count": 100,
   "id": "7594e398",
   "metadata": {},
   "outputs": [
    {
     "data": {
      "application/vnd.microsoft.datawrangler.viewer.v0+json": {
       "columns": [
        {
         "name": "index",
         "rawType": "int64",
         "type": "integer"
        },
        {
         "name": "CustomerID",
         "rawType": "object",
         "type": "string"
        },
        {
         "name": "LastPurchaseDate",
         "rawType": "datetime64[ns]",
         "type": "datetime"
        },
        {
         "name": "Recency",
         "rawType": "int64",
         "type": "integer"
        },
        {
         "name": "Frequency",
         "rawType": "int64",
         "type": "integer"
        }
       ],
       "ref": "8a3e6d5f-abe4-4252-b92b-886f8fe7b4f9",
       "rows": [
        [
         "0",
         "12346.0",
         "2011-01-18 10:17:00",
         "325",
         "2"
        ],
        [
         "1",
         "12347.0",
         "2011-12-07 15:52:00",
         "1",
         "7"
        ],
        [
         "2",
         "12348.0",
         "2011-09-25 13:13:00",
         "74",
         "4"
        ],
        [
         "3",
         "12349.0",
         "2011-11-21 09:51:00",
         "18",
         "1"
        ],
        [
         "4",
         "12350.0",
         "2011-02-02 16:01:00",
         "309",
         "1"
        ],
        [
         "5",
         "12352.0",
         "2011-11-03 14:37:00",
         "35",
         "11"
        ],
        [
         "6",
         "12353.0",
         "2011-05-19 17:47:00",
         "203",
         "1"
        ],
        [
         "7",
         "12354.0",
         "2011-04-21 13:11:00",
         "231",
         "1"
        ],
        [
         "8",
         "12355.0",
         "2011-05-09 13:49:00",
         "213",
         "1"
        ],
        [
         "9",
         "12356.0",
         "2011-11-17 08:40:00",
         "22",
         "3"
        ],
        [
         "10",
         "12357.0",
         "2011-11-06 16:07:00",
         "32",
         "1"
        ],
        [
         "11",
         "12358.0",
         "2011-12-08 10:26:00",
         "1",
         "2"
        ],
        [
         "12",
         "12359.0",
         "2011-12-02 11:21:00",
         "7",
         "6"
        ],
        [
         "13",
         "12360.0",
         "2011-10-18 15:22:00",
         "51",
         "3"
        ],
        [
         "14",
         "12361.0",
         "2011-02-25 13:51:00",
         "286",
         "1"
        ],
        [
         "15",
         "12362.0",
         "2011-12-06 15:40:00",
         "2",
         "13"
        ],
        [
         "16",
         "12363.0",
         "2011-08-22 10:18:00",
         "109",
         "2"
        ],
        [
         "17",
         "12364.0",
         "2011-12-02 10:22:00",
         "7",
         "4"
        ],
        [
         "18",
         "12365.0",
         "2011-02-21 14:04:00",
         "290",
         "3"
        ],
        [
         "19",
         "12367.0",
         "2011-12-05 16:48:00",
         "3",
         "1"
        ],
        [
         "20",
         "12370.0",
         "2011-10-19 14:51:00",
         "50",
         "4"
        ],
        [
         "21",
         "12371.0",
         "2011-10-26 10:16:00",
         "44",
         "2"
        ],
        [
         "22",
         "12372.0",
         "2011-09-29 12:12:00",
         "71",
         "3"
        ],
        [
         "23",
         "12373.0",
         "2011-02-01 13:10:00",
         "310",
         "1"
        ],
        [
         "24",
         "12374.0",
         "2011-11-14 15:37:00",
         "24",
         "1"
        ],
        [
         "25",
         "12375.0",
         "2011-12-07 11:27:00",
         "2",
         "3"
        ],
        [
         "26",
         "12377.0",
         "2011-01-28 15:45:00",
         "314",
         "2"
        ],
        [
         "27",
         "12378.0",
         "2011-08-02 10:34:00",
         "129",
         "1"
        ],
        [
         "28",
         "12379.0",
         "2011-09-19 10:09:00",
         "81",
         "3"
        ],
        [
         "29",
         "12380.0",
         "2011-11-18 11:27:00",
         "21",
         "5"
        ],
        [
         "30",
         "12381.0",
         "2011-12-05 12:44:00",
         "4",
         "6"
        ],
        [
         "31",
         "12383.0",
         "2011-06-08 08:02:00",
         "184",
         "6"
        ],
        [
         "32",
         "12384.0",
         "2011-11-11 08:39:00",
         "28",
         "3"
        ],
        [
         "33",
         "12386.0",
         "2011-01-06 12:37:00",
         "337",
         "2"
        ],
        [
         "34",
         "12388.0",
         "2011-11-24 12:30:00",
         "15",
         "6"
        ],
        [
         "35",
         "12390.0",
         "2011-09-21 09:33:00",
         "79",
         "1"
        ],
        [
         "36",
         "12391.0",
         "2011-11-18 12:07:00",
         "21",
         "1"
        ],
        [
         "37",
         "12393.0",
         "2011-09-28 15:41:00",
         "71",
         "4"
        ],
        [
         "38",
         "12394.0",
         "2011-10-07 08:08:00",
         "63",
         "2"
        ],
        [
         "39",
         "12395.0",
         "2011-11-24 12:20:00",
         "15",
         "15"
        ],
        [
         "40",
         "12397.0",
         "2011-11-04 09:52:00",
         "35",
         "2"
        ],
        [
         "41",
         "12398.0",
         "2011-10-25 10:27:00",
         "45",
         "1"
        ],
        [
         "42",
         "12399.0",
         "2011-08-12 13:15:00",
         "118",
         "4"
        ],
        [
         "43",
         "12401.0",
         "2011-02-09 13:50:00",
         "302",
         "1"
        ],
        [
         "44",
         "12402.0",
         "2011-01-20 13:49:00",
         "322",
         "1"
        ],
        [
         "45",
         "12403.0",
         "2011-10-21 11:00:00",
         "49",
         "2"
        ],
        [
         "46",
         "12405.0",
         "2011-07-14 08:52:00",
         "148",
         "1"
        ],
        [
         "47",
         "12406.0",
         "2011-11-17 19:22:00",
         "21",
         "3"
        ],
        [
         "48",
         "12407.0",
         "2011-10-21 10:11:00",
         "49",
         "5"
        ],
        [
         "49",
         "12408.0",
         "2011-11-07 12:30:00",
         "32",
         "9"
        ]
       ],
       "shape": {
        "columns": 4,
        "rows": 4372
       }
      },
      "text/html": [
       "<div>\n",
       "<style scoped>\n",
       "    .dataframe tbody tr th:only-of-type {\n",
       "        vertical-align: middle;\n",
       "    }\n",
       "\n",
       "    .dataframe tbody tr th {\n",
       "        vertical-align: top;\n",
       "    }\n",
       "\n",
       "    .dataframe thead th {\n",
       "        text-align: right;\n",
       "    }\n",
       "</style>\n",
       "<table border=\"1\" class=\"dataframe\">\n",
       "  <thead>\n",
       "    <tr style=\"text-align: right;\">\n",
       "      <th></th>\n",
       "      <th>CustomerID</th>\n",
       "      <th>LastPurchaseDate</th>\n",
       "      <th>Recency</th>\n",
       "      <th>Frequency</th>\n",
       "    </tr>\n",
       "  </thead>\n",
       "  <tbody>\n",
       "    <tr>\n",
       "      <th>0</th>\n",
       "      <td>12346.0</td>\n",
       "      <td>2011-01-18 10:17:00</td>\n",
       "      <td>325</td>\n",
       "      <td>2</td>\n",
       "    </tr>\n",
       "    <tr>\n",
       "      <th>1</th>\n",
       "      <td>12347.0</td>\n",
       "      <td>2011-12-07 15:52:00</td>\n",
       "      <td>1</td>\n",
       "      <td>7</td>\n",
       "    </tr>\n",
       "    <tr>\n",
       "      <th>2</th>\n",
       "      <td>12348.0</td>\n",
       "      <td>2011-09-25 13:13:00</td>\n",
       "      <td>74</td>\n",
       "      <td>4</td>\n",
       "    </tr>\n",
       "    <tr>\n",
       "      <th>3</th>\n",
       "      <td>12349.0</td>\n",
       "      <td>2011-11-21 09:51:00</td>\n",
       "      <td>18</td>\n",
       "      <td>1</td>\n",
       "    </tr>\n",
       "    <tr>\n",
       "      <th>4</th>\n",
       "      <td>12350.0</td>\n",
       "      <td>2011-02-02 16:01:00</td>\n",
       "      <td>309</td>\n",
       "      <td>1</td>\n",
       "    </tr>\n",
       "    <tr>\n",
       "      <th>...</th>\n",
       "      <td>...</td>\n",
       "      <td>...</td>\n",
       "      <td>...</td>\n",
       "      <td>...</td>\n",
       "    </tr>\n",
       "    <tr>\n",
       "      <th>4367</th>\n",
       "      <td>18280.0</td>\n",
       "      <td>2011-03-07 09:52:00</td>\n",
       "      <td>277</td>\n",
       "      <td>1</td>\n",
       "    </tr>\n",
       "    <tr>\n",
       "      <th>4368</th>\n",
       "      <td>18281.0</td>\n",
       "      <td>2011-06-12 10:53:00</td>\n",
       "      <td>180</td>\n",
       "      <td>1</td>\n",
       "    </tr>\n",
       "    <tr>\n",
       "      <th>4369</th>\n",
       "      <td>18282.0</td>\n",
       "      <td>2011-12-02 11:43:00</td>\n",
       "      <td>7</td>\n",
       "      <td>3</td>\n",
       "    </tr>\n",
       "    <tr>\n",
       "      <th>4370</th>\n",
       "      <td>18283.0</td>\n",
       "      <td>2011-12-06 12:02:00</td>\n",
       "      <td>3</td>\n",
       "      <td>16</td>\n",
       "    </tr>\n",
       "    <tr>\n",
       "      <th>4371</th>\n",
       "      <td>18287.0</td>\n",
       "      <td>2011-10-28 09:29:00</td>\n",
       "      <td>42</td>\n",
       "      <td>3</td>\n",
       "    </tr>\n",
       "  </tbody>\n",
       "</table>\n",
       "<p>4372 rows × 4 columns</p>\n",
       "</div>"
      ],
      "text/plain": [
       "     CustomerID    LastPurchaseDate  Recency  Frequency\n",
       "0       12346.0 2011-01-18 10:17:00      325          2\n",
       "1       12347.0 2011-12-07 15:52:00        1          7\n",
       "2       12348.0 2011-09-25 13:13:00       74          4\n",
       "3       12349.0 2011-11-21 09:51:00       18          1\n",
       "4       12350.0 2011-02-02 16:01:00      309          1\n",
       "...         ...                 ...      ...        ...\n",
       "4367    18280.0 2011-03-07 09:52:00      277          1\n",
       "4368    18281.0 2011-06-12 10:53:00      180          1\n",
       "4369    18282.0 2011-12-02 11:43:00        7          3\n",
       "4370    18283.0 2011-12-06 12:02:00        3         16\n",
       "4371    18287.0 2011-10-28 09:29:00       42          3\n",
       "\n",
       "[4372 rows x 4 columns]"
      ]
     },
     "execution_count": 100,
     "metadata": {},
     "output_type": "execute_result"
    }
   ],
   "source": [
    "rfm=last_purchase.merge(frequency, on='CustomerID')\n",
    "rfm"
   ]
  },
  {
   "cell_type": "code",
   "execution_count": 101,
   "id": "c468680a",
   "metadata": {},
   "outputs": [
    {
     "data": {
      "application/vnd.microsoft.datawrangler.viewer.v0+json": {
       "columns": [
        {
         "name": "index",
         "rawType": "int64",
         "type": "integer"
        },
        {
         "name": "CustomerID",
         "rawType": "object",
         "type": "string"
        },
        {
         "name": "LastPurchaseDate",
         "rawType": "datetime64[ns]",
         "type": "datetime"
        },
        {
         "name": "Recency",
         "rawType": "int64",
         "type": "integer"
        },
        {
         "name": "Frequency",
         "rawType": "int64",
         "type": "integer"
        },
        {
         "name": "Monetary",
         "rawType": "float64",
         "type": "float"
        }
       ],
       "ref": "38d89086-d139-4175-86f4-731a333d6320",
       "rows": [
        [
         "0",
         "12346.0",
         "2011-01-18 10:17:00",
         "325",
         "2",
         "0.0"
        ],
        [
         "1",
         "12347.0",
         "2011-12-07 15:52:00",
         "1",
         "7",
         "4310.0"
        ],
        [
         "2",
         "12348.0",
         "2011-09-25 13:13:00",
         "74",
         "4",
         "1797.24"
        ],
        [
         "3",
         "12349.0",
         "2011-11-21 09:51:00",
         "18",
         "1",
         "1757.55"
        ],
        [
         "4",
         "12350.0",
         "2011-02-02 16:01:00",
         "309",
         "1",
         "334.4"
        ],
        [
         "5",
         "12352.0",
         "2011-11-03 14:37:00",
         "35",
         "11",
         "1545.41"
        ],
        [
         "6",
         "12353.0",
         "2011-05-19 17:47:00",
         "203",
         "1",
         "89.0"
        ],
        [
         "7",
         "12354.0",
         "2011-04-21 13:11:00",
         "231",
         "1",
         "1079.4"
        ],
        [
         "8",
         "12355.0",
         "2011-05-09 13:49:00",
         "213",
         "1",
         "459.4"
        ],
        [
         "9",
         "12356.0",
         "2011-11-17 08:40:00",
         "22",
         "3",
         "2811.43"
        ],
        [
         "10",
         "12357.0",
         "2011-11-06 16:07:00",
         "32",
         "1",
         "6207.67"
        ],
        [
         "11",
         "12358.0",
         "2011-12-08 10:26:00",
         "1",
         "2",
         "1168.06"
        ],
        [
         "12",
         "12359.0",
         "2011-12-02 11:21:00",
         "7",
         "6",
         "6245.53"
        ],
        [
         "13",
         "12360.0",
         "2011-10-18 15:22:00",
         "51",
         "3",
         "2662.06"
        ],
        [
         "14",
         "12361.0",
         "2011-02-25 13:51:00",
         "286",
         "1",
         "189.9"
        ],
        [
         "15",
         "12362.0",
         "2011-12-06 15:40:00",
         "2",
         "13",
         "5154.58"
        ],
        [
         "16",
         "12363.0",
         "2011-08-22 10:18:00",
         "109",
         "2",
         "552.0"
        ],
        [
         "17",
         "12364.0",
         "2011-12-02 10:22:00",
         "7",
         "4",
         "1313.1"
        ],
        [
         "18",
         "12365.0",
         "2011-02-21 14:04:00",
         "290",
         "3",
         "320.69"
        ],
        [
         "19",
         "12367.0",
         "2011-12-05 16:48:00",
         "3",
         "1",
         "168.9"
        ],
        [
         "20",
         "12370.0",
         "2011-10-19 14:51:00",
         "50",
         "4",
         "3545.69"
        ],
        [
         "21",
         "12371.0",
         "2011-10-26 10:16:00",
         "44",
         "2",
         "1887.96"
        ],
        [
         "22",
         "12372.0",
         "2011-09-29 12:12:00",
         "71",
         "3",
         "1298.04"
        ],
        [
         "23",
         "12373.0",
         "2011-02-01 13:10:00",
         "310",
         "1",
         "364.6"
        ],
        [
         "24",
         "12374.0",
         "2011-11-14 15:37:00",
         "24",
         "1",
         "742.9300000000001"
        ],
        [
         "25",
         "12375.0",
         "2011-12-07 11:27:00",
         "2",
         "3",
         "455.42"
        ],
        [
         "26",
         "12377.0",
         "2011-01-28 15:45:00",
         "314",
         "2",
         "1628.12"
        ],
        [
         "27",
         "12378.0",
         "2011-08-02 10:34:00",
         "129",
         "1",
         "4008.62"
        ],
        [
         "28",
         "12379.0",
         "2011-09-19 10:09:00",
         "81",
         "3",
         "850.29"
        ],
        [
         "29",
         "12380.0",
         "2011-11-18 11:27:00",
         "21",
         "5",
         "2720.56"
        ],
        [
         "30",
         "12381.0",
         "2011-12-05 12:44:00",
         "4",
         "6",
         "1803.96"
        ],
        [
         "31",
         "12383.0",
         "2011-06-08 08:02:00",
         "184",
         "6",
         "1839.31"
        ],
        [
         "32",
         "12384.0",
         "2011-11-11 08:39:00",
         "28",
         "3",
         "566.16"
        ],
        [
         "33",
         "12386.0",
         "2011-01-06 12:37:00",
         "337",
         "2",
         "401.9"
        ],
        [
         "34",
         "12388.0",
         "2011-11-24 12:30:00",
         "15",
         "6",
         "2780.66"
        ],
        [
         "35",
         "12390.0",
         "2011-09-21 09:33:00",
         "79",
         "1",
         "549.84"
        ],
        [
         "36",
         "12391.0",
         "2011-11-18 12:07:00",
         "21",
         "1",
         "460.89"
        ],
        [
         "37",
         "12393.0",
         "2011-09-28 15:41:00",
         "71",
         "4",
         "1582.6000000000001"
        ],
        [
         "38",
         "12394.0",
         "2011-10-07 08:08:00",
         "63",
         "2",
         "1272.48"
        ],
        [
         "39",
         "12395.0",
         "2011-11-24 12:20:00",
         "15",
         "15",
         "2998.28"
        ],
        [
         "40",
         "12397.0",
         "2011-11-04 09:52:00",
         "35",
         "2",
         "2409.9"
        ],
        [
         "41",
         "12398.0",
         "2011-10-25 10:27:00",
         "45",
         "1",
         "1635.6599999999999"
        ],
        [
         "42",
         "12399.0",
         "2011-08-12 13:15:00",
         "118",
         "4",
         "1108.65"
        ],
        [
         "43",
         "12401.0",
         "2011-02-09 13:50:00",
         "302",
         "1",
         "84.3"
        ],
        [
         "44",
         "12402.0",
         "2011-01-20 13:49:00",
         "322",
         "1",
         "225.6"
        ],
        [
         "45",
         "12403.0",
         "2011-10-21 11:00:00",
         "49",
         "2",
         "409.7"
        ],
        [
         "46",
         "12405.0",
         "2011-07-14 08:52:00",
         "148",
         "1",
         "1710.39"
        ],
        [
         "47",
         "12406.0",
         "2011-11-17 19:22:00",
         "21",
         "3",
         "3280.75"
        ],
        [
         "48",
         "12407.0",
         "2011-10-21 10:11:00",
         "49",
         "5",
         "1708.1200000000001"
        ],
        [
         "49",
         "12408.0",
         "2011-11-07 12:30:00",
         "32",
         "9",
         "2842.57"
        ]
       ],
       "shape": {
        "columns": 5,
        "rows": 4372
       }
      },
      "text/html": [
       "<div>\n",
       "<style scoped>\n",
       "    .dataframe tbody tr th:only-of-type {\n",
       "        vertical-align: middle;\n",
       "    }\n",
       "\n",
       "    .dataframe tbody tr th {\n",
       "        vertical-align: top;\n",
       "    }\n",
       "\n",
       "    .dataframe thead th {\n",
       "        text-align: right;\n",
       "    }\n",
       "</style>\n",
       "<table border=\"1\" class=\"dataframe\">\n",
       "  <thead>\n",
       "    <tr style=\"text-align: right;\">\n",
       "      <th></th>\n",
       "      <th>CustomerID</th>\n",
       "      <th>LastPurchaseDate</th>\n",
       "      <th>Recency</th>\n",
       "      <th>Frequency</th>\n",
       "      <th>Monetary</th>\n",
       "    </tr>\n",
       "  </thead>\n",
       "  <tbody>\n",
       "    <tr>\n",
       "      <th>0</th>\n",
       "      <td>12346.0</td>\n",
       "      <td>2011-01-18 10:17:00</td>\n",
       "      <td>325</td>\n",
       "      <td>2</td>\n",
       "      <td>0.00</td>\n",
       "    </tr>\n",
       "    <tr>\n",
       "      <th>1</th>\n",
       "      <td>12347.0</td>\n",
       "      <td>2011-12-07 15:52:00</td>\n",
       "      <td>1</td>\n",
       "      <td>7</td>\n",
       "      <td>4310.00</td>\n",
       "    </tr>\n",
       "    <tr>\n",
       "      <th>2</th>\n",
       "      <td>12348.0</td>\n",
       "      <td>2011-09-25 13:13:00</td>\n",
       "      <td>74</td>\n",
       "      <td>4</td>\n",
       "      <td>1797.24</td>\n",
       "    </tr>\n",
       "    <tr>\n",
       "      <th>3</th>\n",
       "      <td>12349.0</td>\n",
       "      <td>2011-11-21 09:51:00</td>\n",
       "      <td>18</td>\n",
       "      <td>1</td>\n",
       "      <td>1757.55</td>\n",
       "    </tr>\n",
       "    <tr>\n",
       "      <th>4</th>\n",
       "      <td>12350.0</td>\n",
       "      <td>2011-02-02 16:01:00</td>\n",
       "      <td>309</td>\n",
       "      <td>1</td>\n",
       "      <td>334.40</td>\n",
       "    </tr>\n",
       "    <tr>\n",
       "      <th>...</th>\n",
       "      <td>...</td>\n",
       "      <td>...</td>\n",
       "      <td>...</td>\n",
       "      <td>...</td>\n",
       "      <td>...</td>\n",
       "    </tr>\n",
       "    <tr>\n",
       "      <th>4367</th>\n",
       "      <td>18280.0</td>\n",
       "      <td>2011-03-07 09:52:00</td>\n",
       "      <td>277</td>\n",
       "      <td>1</td>\n",
       "      <td>180.60</td>\n",
       "    </tr>\n",
       "    <tr>\n",
       "      <th>4368</th>\n",
       "      <td>18281.0</td>\n",
       "      <td>2011-06-12 10:53:00</td>\n",
       "      <td>180</td>\n",
       "      <td>1</td>\n",
       "      <td>80.82</td>\n",
       "    </tr>\n",
       "    <tr>\n",
       "      <th>4369</th>\n",
       "      <td>18282.0</td>\n",
       "      <td>2011-12-02 11:43:00</td>\n",
       "      <td>7</td>\n",
       "      <td>3</td>\n",
       "      <td>176.60</td>\n",
       "    </tr>\n",
       "    <tr>\n",
       "      <th>4370</th>\n",
       "      <td>18283.0</td>\n",
       "      <td>2011-12-06 12:02:00</td>\n",
       "      <td>3</td>\n",
       "      <td>16</td>\n",
       "      <td>2094.88</td>\n",
       "    </tr>\n",
       "    <tr>\n",
       "      <th>4371</th>\n",
       "      <td>18287.0</td>\n",
       "      <td>2011-10-28 09:29:00</td>\n",
       "      <td>42</td>\n",
       "      <td>3</td>\n",
       "      <td>1837.28</td>\n",
       "    </tr>\n",
       "  </tbody>\n",
       "</table>\n",
       "<p>4372 rows × 5 columns</p>\n",
       "</div>"
      ],
      "text/plain": [
       "     CustomerID    LastPurchaseDate  Recency  Frequency  Monetary\n",
       "0       12346.0 2011-01-18 10:17:00      325          2      0.00\n",
       "1       12347.0 2011-12-07 15:52:00        1          7   4310.00\n",
       "2       12348.0 2011-09-25 13:13:00       74          4   1797.24\n",
       "3       12349.0 2011-11-21 09:51:00       18          1   1757.55\n",
       "4       12350.0 2011-02-02 16:01:00      309          1    334.40\n",
       "...         ...                 ...      ...        ...       ...\n",
       "4367    18280.0 2011-03-07 09:52:00      277          1    180.60\n",
       "4368    18281.0 2011-06-12 10:53:00      180          1     80.82\n",
       "4369    18282.0 2011-12-02 11:43:00        7          3    176.60\n",
       "4370    18283.0 2011-12-06 12:02:00        3         16   2094.88\n",
       "4371    18287.0 2011-10-28 09:29:00       42          3   1837.28\n",
       "\n",
       "[4372 rows x 5 columns]"
      ]
     },
     "execution_count": 101,
     "metadata": {},
     "output_type": "execute_result"
    }
   ],
   "source": [
    "rfm = rfm.merge(monetary, on='CustomerID')\n",
    "rfm"
   ]
  },
  {
   "cell_type": "code",
   "execution_count": 103,
   "id": "f55a2fa0",
   "metadata": {},
   "outputs": [
    {
     "data": {
      "application/vnd.microsoft.datawrangler.viewer.v0+json": {
       "columns": [
        {
         "name": "index",
         "rawType": "int64",
         "type": "integer"
        },
        {
         "name": "CustomerID",
         "rawType": "object",
         "type": "string"
        },
        {
         "name": "LastPurchaseDate",
         "rawType": "datetime64[ns]",
         "type": "datetime"
        },
        {
         "name": "Recency",
         "rawType": "int64",
         "type": "integer"
        },
        {
         "name": "Frequency",
         "rawType": "int64",
         "type": "integer"
        },
        {
         "name": "Monetary",
         "rawType": "float64",
         "type": "float"
        },
        {
         "name": "R_Score",
         "rawType": "int64",
         "type": "integer"
        }
       ],
       "ref": "9f97d650-1042-4a30-af97-0e5d20bd6026",
       "rows": [
        [
         "0",
         "12346.0",
         "2011-01-18 10:17:00",
         "325",
         "2",
         "0.0",
         "1"
        ],
        [
         "1",
         "12347.0",
         "2011-12-07 15:52:00",
         "1",
         "7",
         "4310.0",
         "5"
        ],
        [
         "2",
         "12348.0",
         "2011-09-25 13:13:00",
         "74",
         "4",
         "1797.24",
         "2"
        ],
        [
         "3",
         "12349.0",
         "2011-11-21 09:51:00",
         "18",
         "1",
         "1757.55",
         "4"
        ],
        [
         "4",
         "12350.0",
         "2011-02-02 16:01:00",
         "309",
         "1",
         "334.4",
         "1"
        ],
        [
         "5",
         "12352.0",
         "2011-11-03 14:37:00",
         "35",
         "11",
         "1545.41",
         "3"
        ],
        [
         "6",
         "12353.0",
         "2011-05-19 17:47:00",
         "203",
         "1",
         "89.0",
         "1"
        ],
        [
         "7",
         "12354.0",
         "2011-04-21 13:11:00",
         "231",
         "1",
         "1079.4",
         "1"
        ],
        [
         "8",
         "12355.0",
         "2011-05-09 13:49:00",
         "213",
         "1",
         "459.4",
         "1"
        ],
        [
         "9",
         "12356.0",
         "2011-11-17 08:40:00",
         "22",
         "3",
         "2811.43",
         "4"
        ],
        [
         "10",
         "12357.0",
         "2011-11-06 16:07:00",
         "32",
         "1",
         "6207.67",
         "3"
        ],
        [
         "11",
         "12358.0",
         "2011-12-08 10:26:00",
         "1",
         "2",
         "1168.06",
         "5"
        ],
        [
         "12",
         "12359.0",
         "2011-12-02 11:21:00",
         "7",
         "6",
         "6245.53",
         "5"
        ],
        [
         "13",
         "12360.0",
         "2011-10-18 15:22:00",
         "51",
         "3",
         "2662.06",
         "3"
        ],
        [
         "14",
         "12361.0",
         "2011-02-25 13:51:00",
         "286",
         "1",
         "189.9",
         "1"
        ],
        [
         "15",
         "12362.0",
         "2011-12-06 15:40:00",
         "2",
         "13",
         "5154.58",
         "5"
        ],
        [
         "16",
         "12363.0",
         "2011-08-22 10:18:00",
         "109",
         "2",
         "552.0",
         "2"
        ],
        [
         "17",
         "12364.0",
         "2011-12-02 10:22:00",
         "7",
         "4",
         "1313.1",
         "5"
        ],
        [
         "18",
         "12365.0",
         "2011-02-21 14:04:00",
         "290",
         "3",
         "320.69",
         "1"
        ],
        [
         "19",
         "12367.0",
         "2011-12-05 16:48:00",
         "3",
         "1",
         "168.9",
         "5"
        ],
        [
         "20",
         "12370.0",
         "2011-10-19 14:51:00",
         "50",
         "4",
         "3545.69",
         "3"
        ],
        [
         "21",
         "12371.0",
         "2011-10-26 10:16:00",
         "44",
         "2",
         "1887.96",
         "3"
        ],
        [
         "22",
         "12372.0",
         "2011-09-29 12:12:00",
         "71",
         "3",
         "1298.04",
         "2"
        ],
        [
         "23",
         "12373.0",
         "2011-02-01 13:10:00",
         "310",
         "1",
         "364.6",
         "1"
        ],
        [
         "24",
         "12374.0",
         "2011-11-14 15:37:00",
         "24",
         "1",
         "742.9300000000001",
         "4"
        ],
        [
         "25",
         "12375.0",
         "2011-12-07 11:27:00",
         "2",
         "3",
         "455.42",
         "5"
        ],
        [
         "26",
         "12377.0",
         "2011-01-28 15:45:00",
         "314",
         "2",
         "1628.12",
         "1"
        ],
        [
         "27",
         "12378.0",
         "2011-08-02 10:34:00",
         "129",
         "1",
         "4008.62",
         "2"
        ],
        [
         "28",
         "12379.0",
         "2011-09-19 10:09:00",
         "81",
         "3",
         "850.29",
         "2"
        ],
        [
         "29",
         "12380.0",
         "2011-11-18 11:27:00",
         "21",
         "5",
         "2720.56",
         "4"
        ],
        [
         "30",
         "12381.0",
         "2011-12-05 12:44:00",
         "4",
         "6",
         "1803.96",
         "5"
        ],
        [
         "31",
         "12383.0",
         "2011-06-08 08:02:00",
         "184",
         "6",
         "1839.31",
         "1"
        ],
        [
         "32",
         "12384.0",
         "2011-11-11 08:39:00",
         "28",
         "3",
         "566.16",
         "4"
        ],
        [
         "33",
         "12386.0",
         "2011-01-06 12:37:00",
         "337",
         "2",
         "401.9",
         "1"
        ],
        [
         "34",
         "12388.0",
         "2011-11-24 12:30:00",
         "15",
         "6",
         "2780.66",
         "4"
        ],
        [
         "35",
         "12390.0",
         "2011-09-21 09:33:00",
         "79",
         "1",
         "549.84",
         "2"
        ],
        [
         "36",
         "12391.0",
         "2011-11-18 12:07:00",
         "21",
         "1",
         "460.89",
         "4"
        ],
        [
         "37",
         "12393.0",
         "2011-09-28 15:41:00",
         "71",
         "4",
         "1582.6000000000001",
         "2"
        ],
        [
         "38",
         "12394.0",
         "2011-10-07 08:08:00",
         "63",
         "2",
         "1272.48",
         "3"
        ],
        [
         "39",
         "12395.0",
         "2011-11-24 12:20:00",
         "15",
         "15",
         "2998.28",
         "4"
        ],
        [
         "40",
         "12397.0",
         "2011-11-04 09:52:00",
         "35",
         "2",
         "2409.9",
         "3"
        ],
        [
         "41",
         "12398.0",
         "2011-10-25 10:27:00",
         "45",
         "1",
         "1635.6599999999999",
         "3"
        ],
        [
         "42",
         "12399.0",
         "2011-08-12 13:15:00",
         "118",
         "4",
         "1108.65",
         "2"
        ],
        [
         "43",
         "12401.0",
         "2011-02-09 13:50:00",
         "302",
         "1",
         "84.3",
         "1"
        ],
        [
         "44",
         "12402.0",
         "2011-01-20 13:49:00",
         "322",
         "1",
         "225.6",
         "1"
        ],
        [
         "45",
         "12403.0",
         "2011-10-21 11:00:00",
         "49",
         "2",
         "409.7",
         "3"
        ],
        [
         "46",
         "12405.0",
         "2011-07-14 08:52:00",
         "148",
         "1",
         "1710.39",
         "2"
        ],
        [
         "47",
         "12406.0",
         "2011-11-17 19:22:00",
         "21",
         "3",
         "3280.75",
         "4"
        ],
        [
         "48",
         "12407.0",
         "2011-10-21 10:11:00",
         "49",
         "5",
         "1708.1200000000001",
         "3"
        ],
        [
         "49",
         "12408.0",
         "2011-11-07 12:30:00",
         "32",
         "9",
         "2842.57",
         "3"
        ]
       ],
       "shape": {
        "columns": 6,
        "rows": 4372
       }
      },
      "text/html": [
       "<div>\n",
       "<style scoped>\n",
       "    .dataframe tbody tr th:only-of-type {\n",
       "        vertical-align: middle;\n",
       "    }\n",
       "\n",
       "    .dataframe tbody tr th {\n",
       "        vertical-align: top;\n",
       "    }\n",
       "\n",
       "    .dataframe thead th {\n",
       "        text-align: right;\n",
       "    }\n",
       "</style>\n",
       "<table border=\"1\" class=\"dataframe\">\n",
       "  <thead>\n",
       "    <tr style=\"text-align: right;\">\n",
       "      <th></th>\n",
       "      <th>CustomerID</th>\n",
       "      <th>LastPurchaseDate</th>\n",
       "      <th>Recency</th>\n",
       "      <th>Frequency</th>\n",
       "      <th>Monetary</th>\n",
       "      <th>R_Score</th>\n",
       "    </tr>\n",
       "  </thead>\n",
       "  <tbody>\n",
       "    <tr>\n",
       "      <th>0</th>\n",
       "      <td>12346.0</td>\n",
       "      <td>2011-01-18 10:17:00</td>\n",
       "      <td>325</td>\n",
       "      <td>2</td>\n",
       "      <td>0.00</td>\n",
       "      <td>1</td>\n",
       "    </tr>\n",
       "    <tr>\n",
       "      <th>1</th>\n",
       "      <td>12347.0</td>\n",
       "      <td>2011-12-07 15:52:00</td>\n",
       "      <td>1</td>\n",
       "      <td>7</td>\n",
       "      <td>4310.00</td>\n",
       "      <td>5</td>\n",
       "    </tr>\n",
       "    <tr>\n",
       "      <th>2</th>\n",
       "      <td>12348.0</td>\n",
       "      <td>2011-09-25 13:13:00</td>\n",
       "      <td>74</td>\n",
       "      <td>4</td>\n",
       "      <td>1797.24</td>\n",
       "      <td>2</td>\n",
       "    </tr>\n",
       "    <tr>\n",
       "      <th>3</th>\n",
       "      <td>12349.0</td>\n",
       "      <td>2011-11-21 09:51:00</td>\n",
       "      <td>18</td>\n",
       "      <td>1</td>\n",
       "      <td>1757.55</td>\n",
       "      <td>4</td>\n",
       "    </tr>\n",
       "    <tr>\n",
       "      <th>4</th>\n",
       "      <td>12350.0</td>\n",
       "      <td>2011-02-02 16:01:00</td>\n",
       "      <td>309</td>\n",
       "      <td>1</td>\n",
       "      <td>334.40</td>\n",
       "      <td>1</td>\n",
       "    </tr>\n",
       "    <tr>\n",
       "      <th>...</th>\n",
       "      <td>...</td>\n",
       "      <td>...</td>\n",
       "      <td>...</td>\n",
       "      <td>...</td>\n",
       "      <td>...</td>\n",
       "      <td>...</td>\n",
       "    </tr>\n",
       "    <tr>\n",
       "      <th>4367</th>\n",
       "      <td>18280.0</td>\n",
       "      <td>2011-03-07 09:52:00</td>\n",
       "      <td>277</td>\n",
       "      <td>1</td>\n",
       "      <td>180.60</td>\n",
       "      <td>1</td>\n",
       "    </tr>\n",
       "    <tr>\n",
       "      <th>4368</th>\n",
       "      <td>18281.0</td>\n",
       "      <td>2011-06-12 10:53:00</td>\n",
       "      <td>180</td>\n",
       "      <td>1</td>\n",
       "      <td>80.82</td>\n",
       "      <td>1</td>\n",
       "    </tr>\n",
       "    <tr>\n",
       "      <th>4369</th>\n",
       "      <td>18282.0</td>\n",
       "      <td>2011-12-02 11:43:00</td>\n",
       "      <td>7</td>\n",
       "      <td>3</td>\n",
       "      <td>176.60</td>\n",
       "      <td>5</td>\n",
       "    </tr>\n",
       "    <tr>\n",
       "      <th>4370</th>\n",
       "      <td>18283.0</td>\n",
       "      <td>2011-12-06 12:02:00</td>\n",
       "      <td>3</td>\n",
       "      <td>16</td>\n",
       "      <td>2094.88</td>\n",
       "      <td>5</td>\n",
       "    </tr>\n",
       "    <tr>\n",
       "      <th>4371</th>\n",
       "      <td>18287.0</td>\n",
       "      <td>2011-10-28 09:29:00</td>\n",
       "      <td>42</td>\n",
       "      <td>3</td>\n",
       "      <td>1837.28</td>\n",
       "      <td>3</td>\n",
       "    </tr>\n",
       "  </tbody>\n",
       "</table>\n",
       "<p>4372 rows × 6 columns</p>\n",
       "</div>"
      ],
      "text/plain": [
       "     CustomerID    LastPurchaseDate  Recency  Frequency  Monetary  R_Score\n",
       "0       12346.0 2011-01-18 10:17:00      325          2      0.00        1\n",
       "1       12347.0 2011-12-07 15:52:00        1          7   4310.00        5\n",
       "2       12348.0 2011-09-25 13:13:00       74          4   1797.24        2\n",
       "3       12349.0 2011-11-21 09:51:00       18          1   1757.55        4\n",
       "4       12350.0 2011-02-02 16:01:00      309          1    334.40        1\n",
       "...         ...                 ...      ...        ...       ...      ...\n",
       "4367    18280.0 2011-03-07 09:52:00      277          1    180.60        1\n",
       "4368    18281.0 2011-06-12 10:53:00      180          1     80.82        1\n",
       "4369    18282.0 2011-12-02 11:43:00        7          3    176.60        5\n",
       "4370    18283.0 2011-12-06 12:02:00        3         16   2094.88        5\n",
       "4371    18287.0 2011-10-28 09:29:00       42          3   1837.28        3\n",
       "\n",
       "[4372 rows x 6 columns]"
      ]
     },
     "execution_count": 103,
     "metadata": {},
     "output_type": "execute_result"
    }
   ],
   "source": [
    "rfm['R_Score']=pd.qcut(rfm['Recency'],5,labels=[5,4,3,2,1]).astype(int)\n",
    "rfm"
   ]
  },
  {
   "cell_type": "code",
   "execution_count": 110,
   "id": "db57572e",
   "metadata": {},
   "outputs": [
    {
     "data": {
      "application/vnd.microsoft.datawrangler.viewer.v0+json": {
       "columns": [
        {
         "name": "index",
         "rawType": "int64",
         "type": "integer"
        },
        {
         "name": "CustomerID",
         "rawType": "object",
         "type": "string"
        },
        {
         "name": "LastPurchaseDate",
         "rawType": "datetime64[ns]",
         "type": "datetime"
        },
        {
         "name": "Recency",
         "rawType": "int64",
         "type": "integer"
        },
        {
         "name": "Frequency",
         "rawType": "int64",
         "type": "integer"
        },
        {
         "name": "Monetary",
         "rawType": "float64",
         "type": "float"
        },
        {
         "name": "R_Score",
         "rawType": "int64",
         "type": "integer"
        },
        {
         "name": "F_Score",
         "rawType": "int64",
         "type": "integer"
        }
       ],
       "ref": "4bfdd3e1-7490-4a6c-85f8-e4441123c2e8",
       "rows": [
        [
         "0",
         "12346.0",
         "2011-01-18 10:17:00",
         "325",
         "2",
         "0.0",
         "1",
         "2"
        ],
        [
         "1",
         "12347.0",
         "2011-12-07 15:52:00",
         "1",
         "7",
         "4310.0",
         "5",
         "4"
        ],
        [
         "2",
         "12348.0",
         "2011-09-25 13:13:00",
         "74",
         "4",
         "1797.24",
         "2",
         "3"
        ],
        [
         "3",
         "12349.0",
         "2011-11-21 09:51:00",
         "18",
         "1",
         "1757.55",
         "4",
         "1"
        ],
        [
         "4",
         "12350.0",
         "2011-02-02 16:01:00",
         "309",
         "1",
         "334.4",
         "1",
         "1"
        ],
        [
         "5",
         "12352.0",
         "2011-11-03 14:37:00",
         "35",
         "11",
         "1545.41",
         "3",
         "5"
        ],
        [
         "6",
         "12353.0",
         "2011-05-19 17:47:00",
         "203",
         "1",
         "89.0",
         "1",
         "1"
        ],
        [
         "7",
         "12354.0",
         "2011-04-21 13:11:00",
         "231",
         "1",
         "1079.4",
         "1",
         "1"
        ],
        [
         "8",
         "12355.0",
         "2011-05-09 13:49:00",
         "213",
         "1",
         "459.4",
         "1",
         "1"
        ],
        [
         "9",
         "12356.0",
         "2011-11-17 08:40:00",
         "22",
         "3",
         "2811.43",
         "4",
         "3"
        ],
        [
         "10",
         "12357.0",
         "2011-11-06 16:07:00",
         "32",
         "1",
         "6207.67",
         "3",
         "1"
        ],
        [
         "11",
         "12358.0",
         "2011-12-08 10:26:00",
         "1",
         "2",
         "1168.06",
         "5",
         "2"
        ],
        [
         "12",
         "12359.0",
         "2011-12-02 11:21:00",
         "7",
         "6",
         "6245.53",
         "5",
         "4"
        ],
        [
         "13",
         "12360.0",
         "2011-10-18 15:22:00",
         "51",
         "3",
         "2662.06",
         "3",
         "3"
        ],
        [
         "14",
         "12361.0",
         "2011-02-25 13:51:00",
         "286",
         "1",
         "189.9",
         "1",
         "1"
        ],
        [
         "15",
         "12362.0",
         "2011-12-06 15:40:00",
         "2",
         "13",
         "5154.58",
         "5",
         "5"
        ],
        [
         "16",
         "12363.0",
         "2011-08-22 10:18:00",
         "109",
         "2",
         "552.0",
         "2",
         "2"
        ],
        [
         "17",
         "12364.0",
         "2011-12-02 10:22:00",
         "7",
         "4",
         "1313.1",
         "5",
         "3"
        ],
        [
         "18",
         "12365.0",
         "2011-02-21 14:04:00",
         "290",
         "3",
         "320.69",
         "1",
         "3"
        ],
        [
         "19",
         "12367.0",
         "2011-12-05 16:48:00",
         "3",
         "1",
         "168.9",
         "5",
         "1"
        ],
        [
         "20",
         "12370.0",
         "2011-10-19 14:51:00",
         "50",
         "4",
         "3545.69",
         "3",
         "3"
        ],
        [
         "21",
         "12371.0",
         "2011-10-26 10:16:00",
         "44",
         "2",
         "1887.96",
         "3",
         "2"
        ],
        [
         "22",
         "12372.0",
         "2011-09-29 12:12:00",
         "71",
         "3",
         "1298.04",
         "2",
         "3"
        ],
        [
         "23",
         "12373.0",
         "2011-02-01 13:10:00",
         "310",
         "1",
         "364.6",
         "1",
         "1"
        ],
        [
         "24",
         "12374.0",
         "2011-11-14 15:37:00",
         "24",
         "1",
         "742.9300000000001",
         "4",
         "1"
        ],
        [
         "25",
         "12375.0",
         "2011-12-07 11:27:00",
         "2",
         "3",
         "455.42",
         "5",
         "3"
        ],
        [
         "26",
         "12377.0",
         "2011-01-28 15:45:00",
         "314",
         "2",
         "1628.12",
         "1",
         "2"
        ],
        [
         "27",
         "12378.0",
         "2011-08-02 10:34:00",
         "129",
         "1",
         "4008.62",
         "2",
         "1"
        ],
        [
         "28",
         "12379.0",
         "2011-09-19 10:09:00",
         "81",
         "3",
         "850.29",
         "2",
         "3"
        ],
        [
         "29",
         "12380.0",
         "2011-11-18 11:27:00",
         "21",
         "5",
         "2720.56",
         "4",
         "4"
        ],
        [
         "30",
         "12381.0",
         "2011-12-05 12:44:00",
         "4",
         "6",
         "1803.96",
         "5",
         "4"
        ],
        [
         "31",
         "12383.0",
         "2011-06-08 08:02:00",
         "184",
         "6",
         "1839.31",
         "1",
         "4"
        ],
        [
         "32",
         "12384.0",
         "2011-11-11 08:39:00",
         "28",
         "3",
         "566.16",
         "4",
         "3"
        ],
        [
         "33",
         "12386.0",
         "2011-01-06 12:37:00",
         "337",
         "2",
         "401.9",
         "1",
         "2"
        ],
        [
         "34",
         "12388.0",
         "2011-11-24 12:30:00",
         "15",
         "6",
         "2780.66",
         "4",
         "4"
        ],
        [
         "35",
         "12390.0",
         "2011-09-21 09:33:00",
         "79",
         "1",
         "549.84",
         "2",
         "1"
        ],
        [
         "36",
         "12391.0",
         "2011-11-18 12:07:00",
         "21",
         "1",
         "460.89",
         "4",
         "1"
        ],
        [
         "37",
         "12393.0",
         "2011-09-28 15:41:00",
         "71",
         "4",
         "1582.6000000000001",
         "2",
         "4"
        ],
        [
         "38",
         "12394.0",
         "2011-10-07 08:08:00",
         "63",
         "2",
         "1272.48",
         "3",
         "2"
        ],
        [
         "39",
         "12395.0",
         "2011-11-24 12:20:00",
         "15",
         "15",
         "2998.28",
         "4",
         "5"
        ],
        [
         "40",
         "12397.0",
         "2011-11-04 09:52:00",
         "35",
         "2",
         "2409.9",
         "3",
         "2"
        ],
        [
         "41",
         "12398.0",
         "2011-10-25 10:27:00",
         "45",
         "1",
         "1635.6599999999999",
         "3",
         "1"
        ],
        [
         "42",
         "12399.0",
         "2011-08-12 13:15:00",
         "118",
         "4",
         "1108.65",
         "2",
         "4"
        ],
        [
         "43",
         "12401.0",
         "2011-02-09 13:50:00",
         "302",
         "1",
         "84.3",
         "1",
         "1"
        ],
        [
         "44",
         "12402.0",
         "2011-01-20 13:49:00",
         "322",
         "1",
         "225.6",
         "1",
         "1"
        ],
        [
         "45",
         "12403.0",
         "2011-10-21 11:00:00",
         "49",
         "2",
         "409.7",
         "3",
         "2"
        ],
        [
         "46",
         "12405.0",
         "2011-07-14 08:52:00",
         "148",
         "1",
         "1710.39",
         "2",
         "1"
        ],
        [
         "47",
         "12406.0",
         "2011-11-17 19:22:00",
         "21",
         "3",
         "3280.75",
         "4",
         "3"
        ],
        [
         "48",
         "12407.0",
         "2011-10-21 10:11:00",
         "49",
         "5",
         "1708.1200000000001",
         "3",
         "4"
        ],
        [
         "49",
         "12408.0",
         "2011-11-07 12:30:00",
         "32",
         "9",
         "2842.57",
         "3",
         "5"
        ]
       ],
       "shape": {
        "columns": 7,
        "rows": 4372
       }
      },
      "text/html": [
       "<div>\n",
       "<style scoped>\n",
       "    .dataframe tbody tr th:only-of-type {\n",
       "        vertical-align: middle;\n",
       "    }\n",
       "\n",
       "    .dataframe tbody tr th {\n",
       "        vertical-align: top;\n",
       "    }\n",
       "\n",
       "    .dataframe thead th {\n",
       "        text-align: right;\n",
       "    }\n",
       "</style>\n",
       "<table border=\"1\" class=\"dataframe\">\n",
       "  <thead>\n",
       "    <tr style=\"text-align: right;\">\n",
       "      <th></th>\n",
       "      <th>CustomerID</th>\n",
       "      <th>LastPurchaseDate</th>\n",
       "      <th>Recency</th>\n",
       "      <th>Frequency</th>\n",
       "      <th>Monetary</th>\n",
       "      <th>R_Score</th>\n",
       "      <th>F_Score</th>\n",
       "    </tr>\n",
       "  </thead>\n",
       "  <tbody>\n",
       "    <tr>\n",
       "      <th>0</th>\n",
       "      <td>12346.0</td>\n",
       "      <td>2011-01-18 10:17:00</td>\n",
       "      <td>325</td>\n",
       "      <td>2</td>\n",
       "      <td>0.00</td>\n",
       "      <td>1</td>\n",
       "      <td>2</td>\n",
       "    </tr>\n",
       "    <tr>\n",
       "      <th>1</th>\n",
       "      <td>12347.0</td>\n",
       "      <td>2011-12-07 15:52:00</td>\n",
       "      <td>1</td>\n",
       "      <td>7</td>\n",
       "      <td>4310.00</td>\n",
       "      <td>5</td>\n",
       "      <td>4</td>\n",
       "    </tr>\n",
       "    <tr>\n",
       "      <th>2</th>\n",
       "      <td>12348.0</td>\n",
       "      <td>2011-09-25 13:13:00</td>\n",
       "      <td>74</td>\n",
       "      <td>4</td>\n",
       "      <td>1797.24</td>\n",
       "      <td>2</td>\n",
       "      <td>3</td>\n",
       "    </tr>\n",
       "    <tr>\n",
       "      <th>3</th>\n",
       "      <td>12349.0</td>\n",
       "      <td>2011-11-21 09:51:00</td>\n",
       "      <td>18</td>\n",
       "      <td>1</td>\n",
       "      <td>1757.55</td>\n",
       "      <td>4</td>\n",
       "      <td>1</td>\n",
       "    </tr>\n",
       "    <tr>\n",
       "      <th>4</th>\n",
       "      <td>12350.0</td>\n",
       "      <td>2011-02-02 16:01:00</td>\n",
       "      <td>309</td>\n",
       "      <td>1</td>\n",
       "      <td>334.40</td>\n",
       "      <td>1</td>\n",
       "      <td>1</td>\n",
       "    </tr>\n",
       "    <tr>\n",
       "      <th>...</th>\n",
       "      <td>...</td>\n",
       "      <td>...</td>\n",
       "      <td>...</td>\n",
       "      <td>...</td>\n",
       "      <td>...</td>\n",
       "      <td>...</td>\n",
       "      <td>...</td>\n",
       "    </tr>\n",
       "    <tr>\n",
       "      <th>4367</th>\n",
       "      <td>18280.0</td>\n",
       "      <td>2011-03-07 09:52:00</td>\n",
       "      <td>277</td>\n",
       "      <td>1</td>\n",
       "      <td>180.60</td>\n",
       "      <td>1</td>\n",
       "      <td>2</td>\n",
       "    </tr>\n",
       "    <tr>\n",
       "      <th>4368</th>\n",
       "      <td>18281.0</td>\n",
       "      <td>2011-06-12 10:53:00</td>\n",
       "      <td>180</td>\n",
       "      <td>1</td>\n",
       "      <td>80.82</td>\n",
       "      <td>1</td>\n",
       "      <td>2</td>\n",
       "    </tr>\n",
       "    <tr>\n",
       "      <th>4369</th>\n",
       "      <td>18282.0</td>\n",
       "      <td>2011-12-02 11:43:00</td>\n",
       "      <td>7</td>\n",
       "      <td>3</td>\n",
       "      <td>176.60</td>\n",
       "      <td>5</td>\n",
       "      <td>3</td>\n",
       "    </tr>\n",
       "    <tr>\n",
       "      <th>4370</th>\n",
       "      <td>18283.0</td>\n",
       "      <td>2011-12-06 12:02:00</td>\n",
       "      <td>3</td>\n",
       "      <td>16</td>\n",
       "      <td>2094.88</td>\n",
       "      <td>5</td>\n",
       "      <td>5</td>\n",
       "    </tr>\n",
       "    <tr>\n",
       "      <th>4371</th>\n",
       "      <td>18287.0</td>\n",
       "      <td>2011-10-28 09:29:00</td>\n",
       "      <td>42</td>\n",
       "      <td>3</td>\n",
       "      <td>1837.28</td>\n",
       "      <td>3</td>\n",
       "      <td>3</td>\n",
       "    </tr>\n",
       "  </tbody>\n",
       "</table>\n",
       "<p>4372 rows × 7 columns</p>\n",
       "</div>"
      ],
      "text/plain": [
       "     CustomerID    LastPurchaseDate  Recency  Frequency  Monetary  R_Score  \\\n",
       "0       12346.0 2011-01-18 10:17:00      325          2      0.00        1   \n",
       "1       12347.0 2011-12-07 15:52:00        1          7   4310.00        5   \n",
       "2       12348.0 2011-09-25 13:13:00       74          4   1797.24        2   \n",
       "3       12349.0 2011-11-21 09:51:00       18          1   1757.55        4   \n",
       "4       12350.0 2011-02-02 16:01:00      309          1    334.40        1   \n",
       "...         ...                 ...      ...        ...       ...      ...   \n",
       "4367    18280.0 2011-03-07 09:52:00      277          1    180.60        1   \n",
       "4368    18281.0 2011-06-12 10:53:00      180          1     80.82        1   \n",
       "4369    18282.0 2011-12-02 11:43:00        7          3    176.60        5   \n",
       "4370    18283.0 2011-12-06 12:02:00        3         16   2094.88        5   \n",
       "4371    18287.0 2011-10-28 09:29:00       42          3   1837.28        3   \n",
       "\n",
       "      F_Score  \n",
       "0           2  \n",
       "1           4  \n",
       "2           3  \n",
       "3           1  \n",
       "4           1  \n",
       "...       ...  \n",
       "4367        2  \n",
       "4368        2  \n",
       "4369        3  \n",
       "4370        5  \n",
       "4371        3  \n",
       "\n",
       "[4372 rows x 7 columns]"
      ]
     },
     "execution_count": 110,
     "metadata": {},
     "output_type": "execute_result"
    }
   ],
   "source": [
    "rfm['F_Score']=pd.qcut(rfm['Frequency'].rank(method='first'),5,labels=[1,2,3,4,5]).astype(int)\n",
    "rfm\n"
   ]
  },
  {
   "cell_type": "code",
   "execution_count": 111,
   "id": "b337994d",
   "metadata": {},
   "outputs": [
    {
     "data": {
      "application/vnd.microsoft.datawrangler.viewer.v0+json": {
       "columns": [
        {
         "name": "index",
         "rawType": "int64",
         "type": "integer"
        },
        {
         "name": "CustomerID",
         "rawType": "object",
         "type": "string"
        },
        {
         "name": "LastPurchaseDate",
         "rawType": "datetime64[ns]",
         "type": "datetime"
        },
        {
         "name": "Recency",
         "rawType": "int64",
         "type": "integer"
        },
        {
         "name": "Frequency",
         "rawType": "int64",
         "type": "integer"
        },
        {
         "name": "Monetary",
         "rawType": "float64",
         "type": "float"
        },
        {
         "name": "R_Score",
         "rawType": "int64",
         "type": "integer"
        },
        {
         "name": "F_Score",
         "rawType": "int64",
         "type": "integer"
        },
        {
         "name": "M_Score",
         "rawType": "int64",
         "type": "integer"
        }
       ],
       "ref": "8a440bf4-7833-48e7-adc5-ead03b8f8b41",
       "rows": [
        [
         "0",
         "12346.0",
         "2011-01-18 10:17:00",
         "325",
         "2",
         "0.0",
         "1",
         "2",
         "1"
        ],
        [
         "1",
         "12347.0",
         "2011-12-07 15:52:00",
         "1",
         "7",
         "4310.0",
         "5",
         "4",
         "5"
        ],
        [
         "2",
         "12348.0",
         "2011-09-25 13:13:00",
         "74",
         "4",
         "1797.24",
         "2",
         "3",
         "4"
        ],
        [
         "3",
         "12349.0",
         "2011-11-21 09:51:00",
         "18",
         "1",
         "1757.55",
         "4",
         "1",
         "4"
        ],
        [
         "4",
         "12350.0",
         "2011-02-02 16:01:00",
         "309",
         "1",
         "334.4",
         "1",
         "1",
         "2"
        ],
        [
         "5",
         "12352.0",
         "2011-11-03 14:37:00",
         "35",
         "11",
         "1545.41",
         "3",
         "5",
         "4"
        ],
        [
         "6",
         "12353.0",
         "2011-05-19 17:47:00",
         "203",
         "1",
         "89.0",
         "1",
         "1",
         "1"
        ],
        [
         "7",
         "12354.0",
         "2011-04-21 13:11:00",
         "231",
         "1",
         "1079.4",
         "1",
         "1",
         "4"
        ],
        [
         "8",
         "12355.0",
         "2011-05-09 13:49:00",
         "213",
         "1",
         "459.4",
         "1",
         "1",
         "2"
        ],
        [
         "9",
         "12356.0",
         "2011-11-17 08:40:00",
         "22",
         "3",
         "2811.43",
         "4",
         "3",
         "5"
        ],
        [
         "10",
         "12357.0",
         "2011-11-06 16:07:00",
         "32",
         "1",
         "6207.67",
         "3",
         "1",
         "5"
        ],
        [
         "11",
         "12358.0",
         "2011-12-08 10:26:00",
         "1",
         "2",
         "1168.06",
         "5",
         "2",
         "4"
        ],
        [
         "12",
         "12359.0",
         "2011-12-02 11:21:00",
         "7",
         "6",
         "6245.53",
         "5",
         "4",
         "5"
        ],
        [
         "13",
         "12360.0",
         "2011-10-18 15:22:00",
         "51",
         "3",
         "2662.06",
         "3",
         "3",
         "5"
        ],
        [
         "14",
         "12361.0",
         "2011-02-25 13:51:00",
         "286",
         "1",
         "189.9",
         "1",
         "1",
         "1"
        ],
        [
         "15",
         "12362.0",
         "2011-12-06 15:40:00",
         "2",
         "13",
         "5154.58",
         "5",
         "5",
         "5"
        ],
        [
         "16",
         "12363.0",
         "2011-08-22 10:18:00",
         "109",
         "2",
         "552.0",
         "2",
         "2",
         "3"
        ],
        [
         "17",
         "12364.0",
         "2011-12-02 10:22:00",
         "7",
         "4",
         "1313.1",
         "5",
         "3",
         "4"
        ],
        [
         "18",
         "12365.0",
         "2011-02-21 14:04:00",
         "290",
         "3",
         "320.69",
         "1",
         "3",
         "2"
        ],
        [
         "19",
         "12367.0",
         "2011-12-05 16:48:00",
         "3",
         "1",
         "168.9",
         "5",
         "1",
         "1"
        ],
        [
         "20",
         "12370.0",
         "2011-10-19 14:51:00",
         "50",
         "4",
         "3545.69",
         "3",
         "3",
         "5"
        ],
        [
         "21",
         "12371.0",
         "2011-10-26 10:16:00",
         "44",
         "2",
         "1887.96",
         "3",
         "2",
         "4"
        ],
        [
         "22",
         "12372.0",
         "2011-09-29 12:12:00",
         "71",
         "3",
         "1298.04",
         "2",
         "3",
         "4"
        ],
        [
         "23",
         "12373.0",
         "2011-02-01 13:10:00",
         "310",
         "1",
         "364.6",
         "1",
         "1",
         "2"
        ],
        [
         "24",
         "12374.0",
         "2011-11-14 15:37:00",
         "24",
         "1",
         "742.9300000000001",
         "4",
         "1",
         "3"
        ],
        [
         "25",
         "12375.0",
         "2011-12-07 11:27:00",
         "2",
         "3",
         "455.42",
         "5",
         "3",
         "2"
        ],
        [
         "26",
         "12377.0",
         "2011-01-28 15:45:00",
         "314",
         "2",
         "1628.12",
         "1",
         "2",
         "4"
        ],
        [
         "27",
         "12378.0",
         "2011-08-02 10:34:00",
         "129",
         "1",
         "4008.62",
         "2",
         "1",
         "5"
        ],
        [
         "28",
         "12379.0",
         "2011-09-19 10:09:00",
         "81",
         "3",
         "850.29",
         "2",
         "3",
         "3"
        ],
        [
         "29",
         "12380.0",
         "2011-11-18 11:27:00",
         "21",
         "5",
         "2720.56",
         "4",
         "4",
         "5"
        ],
        [
         "30",
         "12381.0",
         "2011-12-05 12:44:00",
         "4",
         "6",
         "1803.96",
         "5",
         "4",
         "4"
        ],
        [
         "31",
         "12383.0",
         "2011-06-08 08:02:00",
         "184",
         "6",
         "1839.31",
         "1",
         "4",
         "4"
        ],
        [
         "32",
         "12384.0",
         "2011-11-11 08:39:00",
         "28",
         "3",
         "566.16",
         "4",
         "3",
         "3"
        ],
        [
         "33",
         "12386.0",
         "2011-01-06 12:37:00",
         "337",
         "2",
         "401.9",
         "1",
         "2",
         "2"
        ],
        [
         "34",
         "12388.0",
         "2011-11-24 12:30:00",
         "15",
         "6",
         "2780.66",
         "4",
         "4",
         "5"
        ],
        [
         "35",
         "12390.0",
         "2011-09-21 09:33:00",
         "79",
         "1",
         "549.84",
         "2",
         "1",
         "3"
        ],
        [
         "36",
         "12391.0",
         "2011-11-18 12:07:00",
         "21",
         "1",
         "460.89",
         "4",
         "1",
         "2"
        ],
        [
         "37",
         "12393.0",
         "2011-09-28 15:41:00",
         "71",
         "4",
         "1582.6000000000001",
         "2",
         "4",
         "4"
        ],
        [
         "38",
         "12394.0",
         "2011-10-07 08:08:00",
         "63",
         "2",
         "1272.48",
         "3",
         "2",
         "4"
        ],
        [
         "39",
         "12395.0",
         "2011-11-24 12:20:00",
         "15",
         "15",
         "2998.28",
         "4",
         "5",
         "5"
        ],
        [
         "40",
         "12397.0",
         "2011-11-04 09:52:00",
         "35",
         "2",
         "2409.9",
         "3",
         "2",
         "5"
        ],
        [
         "41",
         "12398.0",
         "2011-10-25 10:27:00",
         "45",
         "1",
         "1635.6599999999999",
         "3",
         "1",
         "4"
        ],
        [
         "42",
         "12399.0",
         "2011-08-12 13:15:00",
         "118",
         "4",
         "1108.65",
         "2",
         "4",
         "4"
        ],
        [
         "43",
         "12401.0",
         "2011-02-09 13:50:00",
         "302",
         "1",
         "84.3",
         "1",
         "1",
         "1"
        ],
        [
         "44",
         "12402.0",
         "2011-01-20 13:49:00",
         "322",
         "1",
         "225.6",
         "1",
         "1",
         "1"
        ],
        [
         "45",
         "12403.0",
         "2011-10-21 11:00:00",
         "49",
         "2",
         "409.7",
         "3",
         "2",
         "2"
        ],
        [
         "46",
         "12405.0",
         "2011-07-14 08:52:00",
         "148",
         "1",
         "1710.39",
         "2",
         "1",
         "4"
        ],
        [
         "47",
         "12406.0",
         "2011-11-17 19:22:00",
         "21",
         "3",
         "3280.75",
         "4",
         "3",
         "5"
        ],
        [
         "48",
         "12407.0",
         "2011-10-21 10:11:00",
         "49",
         "5",
         "1708.1200000000001",
         "3",
         "4",
         "4"
        ],
        [
         "49",
         "12408.0",
         "2011-11-07 12:30:00",
         "32",
         "9",
         "2842.57",
         "3",
         "5",
         "5"
        ]
       ],
       "shape": {
        "columns": 8,
        "rows": 4372
       }
      },
      "text/html": [
       "<div>\n",
       "<style scoped>\n",
       "    .dataframe tbody tr th:only-of-type {\n",
       "        vertical-align: middle;\n",
       "    }\n",
       "\n",
       "    .dataframe tbody tr th {\n",
       "        vertical-align: top;\n",
       "    }\n",
       "\n",
       "    .dataframe thead th {\n",
       "        text-align: right;\n",
       "    }\n",
       "</style>\n",
       "<table border=\"1\" class=\"dataframe\">\n",
       "  <thead>\n",
       "    <tr style=\"text-align: right;\">\n",
       "      <th></th>\n",
       "      <th>CustomerID</th>\n",
       "      <th>LastPurchaseDate</th>\n",
       "      <th>Recency</th>\n",
       "      <th>Frequency</th>\n",
       "      <th>Monetary</th>\n",
       "      <th>R_Score</th>\n",
       "      <th>F_Score</th>\n",
       "      <th>M_Score</th>\n",
       "    </tr>\n",
       "  </thead>\n",
       "  <tbody>\n",
       "    <tr>\n",
       "      <th>0</th>\n",
       "      <td>12346.0</td>\n",
       "      <td>2011-01-18 10:17:00</td>\n",
       "      <td>325</td>\n",
       "      <td>2</td>\n",
       "      <td>0.00</td>\n",
       "      <td>1</td>\n",
       "      <td>2</td>\n",
       "      <td>1</td>\n",
       "    </tr>\n",
       "    <tr>\n",
       "      <th>1</th>\n",
       "      <td>12347.0</td>\n",
       "      <td>2011-12-07 15:52:00</td>\n",
       "      <td>1</td>\n",
       "      <td>7</td>\n",
       "      <td>4310.00</td>\n",
       "      <td>5</td>\n",
       "      <td>4</td>\n",
       "      <td>5</td>\n",
       "    </tr>\n",
       "    <tr>\n",
       "      <th>2</th>\n",
       "      <td>12348.0</td>\n",
       "      <td>2011-09-25 13:13:00</td>\n",
       "      <td>74</td>\n",
       "      <td>4</td>\n",
       "      <td>1797.24</td>\n",
       "      <td>2</td>\n",
       "      <td>3</td>\n",
       "      <td>4</td>\n",
       "    </tr>\n",
       "    <tr>\n",
       "      <th>3</th>\n",
       "      <td>12349.0</td>\n",
       "      <td>2011-11-21 09:51:00</td>\n",
       "      <td>18</td>\n",
       "      <td>1</td>\n",
       "      <td>1757.55</td>\n",
       "      <td>4</td>\n",
       "      <td>1</td>\n",
       "      <td>4</td>\n",
       "    </tr>\n",
       "    <tr>\n",
       "      <th>4</th>\n",
       "      <td>12350.0</td>\n",
       "      <td>2011-02-02 16:01:00</td>\n",
       "      <td>309</td>\n",
       "      <td>1</td>\n",
       "      <td>334.40</td>\n",
       "      <td>1</td>\n",
       "      <td>1</td>\n",
       "      <td>2</td>\n",
       "    </tr>\n",
       "    <tr>\n",
       "      <th>...</th>\n",
       "      <td>...</td>\n",
       "      <td>...</td>\n",
       "      <td>...</td>\n",
       "      <td>...</td>\n",
       "      <td>...</td>\n",
       "      <td>...</td>\n",
       "      <td>...</td>\n",
       "      <td>...</td>\n",
       "    </tr>\n",
       "    <tr>\n",
       "      <th>4367</th>\n",
       "      <td>18280.0</td>\n",
       "      <td>2011-03-07 09:52:00</td>\n",
       "      <td>277</td>\n",
       "      <td>1</td>\n",
       "      <td>180.60</td>\n",
       "      <td>1</td>\n",
       "      <td>2</td>\n",
       "      <td>1</td>\n",
       "    </tr>\n",
       "    <tr>\n",
       "      <th>4368</th>\n",
       "      <td>18281.0</td>\n",
       "      <td>2011-06-12 10:53:00</td>\n",
       "      <td>180</td>\n",
       "      <td>1</td>\n",
       "      <td>80.82</td>\n",
       "      <td>1</td>\n",
       "      <td>2</td>\n",
       "      <td>1</td>\n",
       "    </tr>\n",
       "    <tr>\n",
       "      <th>4369</th>\n",
       "      <td>18282.0</td>\n",
       "      <td>2011-12-02 11:43:00</td>\n",
       "      <td>7</td>\n",
       "      <td>3</td>\n",
       "      <td>176.60</td>\n",
       "      <td>5</td>\n",
       "      <td>3</td>\n",
       "      <td>1</td>\n",
       "    </tr>\n",
       "    <tr>\n",
       "      <th>4370</th>\n",
       "      <td>18283.0</td>\n",
       "      <td>2011-12-06 12:02:00</td>\n",
       "      <td>3</td>\n",
       "      <td>16</td>\n",
       "      <td>2094.88</td>\n",
       "      <td>5</td>\n",
       "      <td>5</td>\n",
       "      <td>5</td>\n",
       "    </tr>\n",
       "    <tr>\n",
       "      <th>4371</th>\n",
       "      <td>18287.0</td>\n",
       "      <td>2011-10-28 09:29:00</td>\n",
       "      <td>42</td>\n",
       "      <td>3</td>\n",
       "      <td>1837.28</td>\n",
       "      <td>3</td>\n",
       "      <td>3</td>\n",
       "      <td>4</td>\n",
       "    </tr>\n",
       "  </tbody>\n",
       "</table>\n",
       "<p>4372 rows × 8 columns</p>\n",
       "</div>"
      ],
      "text/plain": [
       "     CustomerID    LastPurchaseDate  Recency  Frequency  Monetary  R_Score  \\\n",
       "0       12346.0 2011-01-18 10:17:00      325          2      0.00        1   \n",
       "1       12347.0 2011-12-07 15:52:00        1          7   4310.00        5   \n",
       "2       12348.0 2011-09-25 13:13:00       74          4   1797.24        2   \n",
       "3       12349.0 2011-11-21 09:51:00       18          1   1757.55        4   \n",
       "4       12350.0 2011-02-02 16:01:00      309          1    334.40        1   \n",
       "...         ...                 ...      ...        ...       ...      ...   \n",
       "4367    18280.0 2011-03-07 09:52:00      277          1    180.60        1   \n",
       "4368    18281.0 2011-06-12 10:53:00      180          1     80.82        1   \n",
       "4369    18282.0 2011-12-02 11:43:00        7          3    176.60        5   \n",
       "4370    18283.0 2011-12-06 12:02:00        3         16   2094.88        5   \n",
       "4371    18287.0 2011-10-28 09:29:00       42          3   1837.28        3   \n",
       "\n",
       "      F_Score  M_Score  \n",
       "0           2        1  \n",
       "1           4        5  \n",
       "2           3        4  \n",
       "3           1        4  \n",
       "4           1        2  \n",
       "...       ...      ...  \n",
       "4367        2        1  \n",
       "4368        2        1  \n",
       "4369        3        1  \n",
       "4370        5        5  \n",
       "4371        3        4  \n",
       "\n",
       "[4372 rows x 8 columns]"
      ]
     },
     "execution_count": 111,
     "metadata": {},
     "output_type": "execute_result"
    }
   ],
   "source": [
    "rfm['M_Score']=pd.qcut(rfm['Monetary'].rank(method='first'),5,labels=[1,2,3,4,5]).astype(int)\n",
    "rfm\n"
   ]
  },
  {
   "cell_type": "code",
   "execution_count": 115,
   "id": "47aeb18b",
   "metadata": {},
   "outputs": [
    {
     "data": {
      "application/vnd.microsoft.datawrangler.viewer.v0+json": {
       "columns": [
        {
         "name": "index",
         "rawType": "int64",
         "type": "integer"
        },
        {
         "name": "CustomerID",
         "rawType": "object",
         "type": "string"
        },
        {
         "name": "LastPurchaseDate",
         "rawType": "datetime64[ns]",
         "type": "datetime"
        },
        {
         "name": "Recency",
         "rawType": "int64",
         "type": "integer"
        },
        {
         "name": "Frequency",
         "rawType": "int64",
         "type": "integer"
        },
        {
         "name": "Monetary",
         "rawType": "float64",
         "type": "float"
        },
        {
         "name": "R_Score",
         "rawType": "int64",
         "type": "integer"
        },
        {
         "name": "F_Score",
         "rawType": "int64",
         "type": "integer"
        },
        {
         "name": "M_Score",
         "rawType": "int64",
         "type": "integer"
        },
        {
         "name": "RFM_Score",
         "rawType": "object",
         "type": "string"
        }
       ],
       "ref": "7de98a6b-f561-417d-ab2e-bd211c4f5b1f",
       "rows": [
        [
         "0",
         "12346.0",
         "2011-01-18 10:17:00",
         "325",
         "2",
         "0.0",
         "1",
         "2",
         "1",
         "121"
        ],
        [
         "1",
         "12347.0",
         "2011-12-07 15:52:00",
         "1",
         "7",
         "4310.0",
         "5",
         "4",
         "5",
         "545"
        ],
        [
         "2",
         "12348.0",
         "2011-09-25 13:13:00",
         "74",
         "4",
         "1797.24",
         "2",
         "3",
         "4",
         "234"
        ],
        [
         "3",
         "12349.0",
         "2011-11-21 09:51:00",
         "18",
         "1",
         "1757.55",
         "4",
         "1",
         "4",
         "414"
        ],
        [
         "4",
         "12350.0",
         "2011-02-02 16:01:00",
         "309",
         "1",
         "334.4",
         "1",
         "1",
         "2",
         "112"
        ],
        [
         "5",
         "12352.0",
         "2011-11-03 14:37:00",
         "35",
         "11",
         "1545.41",
         "3",
         "5",
         "4",
         "354"
        ],
        [
         "6",
         "12353.0",
         "2011-05-19 17:47:00",
         "203",
         "1",
         "89.0",
         "1",
         "1",
         "1",
         "111"
        ],
        [
         "7",
         "12354.0",
         "2011-04-21 13:11:00",
         "231",
         "1",
         "1079.4",
         "1",
         "1",
         "4",
         "114"
        ],
        [
         "8",
         "12355.0",
         "2011-05-09 13:49:00",
         "213",
         "1",
         "459.4",
         "1",
         "1",
         "2",
         "112"
        ],
        [
         "9",
         "12356.0",
         "2011-11-17 08:40:00",
         "22",
         "3",
         "2811.43",
         "4",
         "3",
         "5",
         "435"
        ],
        [
         "10",
         "12357.0",
         "2011-11-06 16:07:00",
         "32",
         "1",
         "6207.67",
         "3",
         "1",
         "5",
         "315"
        ],
        [
         "11",
         "12358.0",
         "2011-12-08 10:26:00",
         "1",
         "2",
         "1168.06",
         "5",
         "2",
         "4",
         "524"
        ],
        [
         "12",
         "12359.0",
         "2011-12-02 11:21:00",
         "7",
         "6",
         "6245.53",
         "5",
         "4",
         "5",
         "545"
        ],
        [
         "13",
         "12360.0",
         "2011-10-18 15:22:00",
         "51",
         "3",
         "2662.06",
         "3",
         "3",
         "5",
         "335"
        ],
        [
         "14",
         "12361.0",
         "2011-02-25 13:51:00",
         "286",
         "1",
         "189.9",
         "1",
         "1",
         "1",
         "111"
        ],
        [
         "15",
         "12362.0",
         "2011-12-06 15:40:00",
         "2",
         "13",
         "5154.58",
         "5",
         "5",
         "5",
         "555"
        ],
        [
         "16",
         "12363.0",
         "2011-08-22 10:18:00",
         "109",
         "2",
         "552.0",
         "2",
         "2",
         "3",
         "223"
        ],
        [
         "17",
         "12364.0",
         "2011-12-02 10:22:00",
         "7",
         "4",
         "1313.1",
         "5",
         "3",
         "4",
         "534"
        ],
        [
         "18",
         "12365.0",
         "2011-02-21 14:04:00",
         "290",
         "3",
         "320.69",
         "1",
         "3",
         "2",
         "132"
        ],
        [
         "19",
         "12367.0",
         "2011-12-05 16:48:00",
         "3",
         "1",
         "168.9",
         "5",
         "1",
         "1",
         "511"
        ],
        [
         "20",
         "12370.0",
         "2011-10-19 14:51:00",
         "50",
         "4",
         "3545.69",
         "3",
         "3",
         "5",
         "335"
        ],
        [
         "21",
         "12371.0",
         "2011-10-26 10:16:00",
         "44",
         "2",
         "1887.96",
         "3",
         "2",
         "4",
         "324"
        ],
        [
         "22",
         "12372.0",
         "2011-09-29 12:12:00",
         "71",
         "3",
         "1298.04",
         "2",
         "3",
         "4",
         "234"
        ],
        [
         "23",
         "12373.0",
         "2011-02-01 13:10:00",
         "310",
         "1",
         "364.6",
         "1",
         "1",
         "2",
         "112"
        ],
        [
         "24",
         "12374.0",
         "2011-11-14 15:37:00",
         "24",
         "1",
         "742.9300000000001",
         "4",
         "1",
         "3",
         "413"
        ],
        [
         "25",
         "12375.0",
         "2011-12-07 11:27:00",
         "2",
         "3",
         "455.42",
         "5",
         "3",
         "2",
         "532"
        ],
        [
         "26",
         "12377.0",
         "2011-01-28 15:45:00",
         "314",
         "2",
         "1628.12",
         "1",
         "2",
         "4",
         "124"
        ],
        [
         "27",
         "12378.0",
         "2011-08-02 10:34:00",
         "129",
         "1",
         "4008.62",
         "2",
         "1",
         "5",
         "215"
        ],
        [
         "28",
         "12379.0",
         "2011-09-19 10:09:00",
         "81",
         "3",
         "850.29",
         "2",
         "3",
         "3",
         "233"
        ],
        [
         "29",
         "12380.0",
         "2011-11-18 11:27:00",
         "21",
         "5",
         "2720.56",
         "4",
         "4",
         "5",
         "445"
        ],
        [
         "30",
         "12381.0",
         "2011-12-05 12:44:00",
         "4",
         "6",
         "1803.96",
         "5",
         "4",
         "4",
         "544"
        ],
        [
         "31",
         "12383.0",
         "2011-06-08 08:02:00",
         "184",
         "6",
         "1839.31",
         "1",
         "4",
         "4",
         "144"
        ],
        [
         "32",
         "12384.0",
         "2011-11-11 08:39:00",
         "28",
         "3",
         "566.16",
         "4",
         "3",
         "3",
         "433"
        ],
        [
         "33",
         "12386.0",
         "2011-01-06 12:37:00",
         "337",
         "2",
         "401.9",
         "1",
         "2",
         "2",
         "122"
        ],
        [
         "34",
         "12388.0",
         "2011-11-24 12:30:00",
         "15",
         "6",
         "2780.66",
         "4",
         "4",
         "5",
         "445"
        ],
        [
         "35",
         "12390.0",
         "2011-09-21 09:33:00",
         "79",
         "1",
         "549.84",
         "2",
         "1",
         "3",
         "213"
        ],
        [
         "36",
         "12391.0",
         "2011-11-18 12:07:00",
         "21",
         "1",
         "460.89",
         "4",
         "1",
         "2",
         "412"
        ],
        [
         "37",
         "12393.0",
         "2011-09-28 15:41:00",
         "71",
         "4",
         "1582.6000000000001",
         "2",
         "4",
         "4",
         "244"
        ],
        [
         "38",
         "12394.0",
         "2011-10-07 08:08:00",
         "63",
         "2",
         "1272.48",
         "3",
         "2",
         "4",
         "324"
        ],
        [
         "39",
         "12395.0",
         "2011-11-24 12:20:00",
         "15",
         "15",
         "2998.28",
         "4",
         "5",
         "5",
         "455"
        ],
        [
         "40",
         "12397.0",
         "2011-11-04 09:52:00",
         "35",
         "2",
         "2409.9",
         "3",
         "2",
         "5",
         "325"
        ],
        [
         "41",
         "12398.0",
         "2011-10-25 10:27:00",
         "45",
         "1",
         "1635.6599999999999",
         "3",
         "1",
         "4",
         "314"
        ],
        [
         "42",
         "12399.0",
         "2011-08-12 13:15:00",
         "118",
         "4",
         "1108.65",
         "2",
         "4",
         "4",
         "244"
        ],
        [
         "43",
         "12401.0",
         "2011-02-09 13:50:00",
         "302",
         "1",
         "84.3",
         "1",
         "1",
         "1",
         "111"
        ],
        [
         "44",
         "12402.0",
         "2011-01-20 13:49:00",
         "322",
         "1",
         "225.6",
         "1",
         "1",
         "1",
         "111"
        ],
        [
         "45",
         "12403.0",
         "2011-10-21 11:00:00",
         "49",
         "2",
         "409.7",
         "3",
         "2",
         "2",
         "322"
        ],
        [
         "46",
         "12405.0",
         "2011-07-14 08:52:00",
         "148",
         "1",
         "1710.39",
         "2",
         "1",
         "4",
         "214"
        ],
        [
         "47",
         "12406.0",
         "2011-11-17 19:22:00",
         "21",
         "3",
         "3280.75",
         "4",
         "3",
         "5",
         "435"
        ],
        [
         "48",
         "12407.0",
         "2011-10-21 10:11:00",
         "49",
         "5",
         "1708.1200000000001",
         "3",
         "4",
         "4",
         "344"
        ],
        [
         "49",
         "12408.0",
         "2011-11-07 12:30:00",
         "32",
         "9",
         "2842.57",
         "3",
         "5",
         "5",
         "355"
        ]
       ],
       "shape": {
        "columns": 9,
        "rows": 4372
       }
      },
      "text/html": [
       "<div>\n",
       "<style scoped>\n",
       "    .dataframe tbody tr th:only-of-type {\n",
       "        vertical-align: middle;\n",
       "    }\n",
       "\n",
       "    .dataframe tbody tr th {\n",
       "        vertical-align: top;\n",
       "    }\n",
       "\n",
       "    .dataframe thead th {\n",
       "        text-align: right;\n",
       "    }\n",
       "</style>\n",
       "<table border=\"1\" class=\"dataframe\">\n",
       "  <thead>\n",
       "    <tr style=\"text-align: right;\">\n",
       "      <th></th>\n",
       "      <th>CustomerID</th>\n",
       "      <th>LastPurchaseDate</th>\n",
       "      <th>Recency</th>\n",
       "      <th>Frequency</th>\n",
       "      <th>Monetary</th>\n",
       "      <th>R_Score</th>\n",
       "      <th>F_Score</th>\n",
       "      <th>M_Score</th>\n",
       "      <th>RFM_Score</th>\n",
       "    </tr>\n",
       "  </thead>\n",
       "  <tbody>\n",
       "    <tr>\n",
       "      <th>0</th>\n",
       "      <td>12346.0</td>\n",
       "      <td>2011-01-18 10:17:00</td>\n",
       "      <td>325</td>\n",
       "      <td>2</td>\n",
       "      <td>0.00</td>\n",
       "      <td>1</td>\n",
       "      <td>2</td>\n",
       "      <td>1</td>\n",
       "      <td>121</td>\n",
       "    </tr>\n",
       "    <tr>\n",
       "      <th>1</th>\n",
       "      <td>12347.0</td>\n",
       "      <td>2011-12-07 15:52:00</td>\n",
       "      <td>1</td>\n",
       "      <td>7</td>\n",
       "      <td>4310.00</td>\n",
       "      <td>5</td>\n",
       "      <td>4</td>\n",
       "      <td>5</td>\n",
       "      <td>545</td>\n",
       "    </tr>\n",
       "    <tr>\n",
       "      <th>2</th>\n",
       "      <td>12348.0</td>\n",
       "      <td>2011-09-25 13:13:00</td>\n",
       "      <td>74</td>\n",
       "      <td>4</td>\n",
       "      <td>1797.24</td>\n",
       "      <td>2</td>\n",
       "      <td>3</td>\n",
       "      <td>4</td>\n",
       "      <td>234</td>\n",
       "    </tr>\n",
       "    <tr>\n",
       "      <th>3</th>\n",
       "      <td>12349.0</td>\n",
       "      <td>2011-11-21 09:51:00</td>\n",
       "      <td>18</td>\n",
       "      <td>1</td>\n",
       "      <td>1757.55</td>\n",
       "      <td>4</td>\n",
       "      <td>1</td>\n",
       "      <td>4</td>\n",
       "      <td>414</td>\n",
       "    </tr>\n",
       "    <tr>\n",
       "      <th>4</th>\n",
       "      <td>12350.0</td>\n",
       "      <td>2011-02-02 16:01:00</td>\n",
       "      <td>309</td>\n",
       "      <td>1</td>\n",
       "      <td>334.40</td>\n",
       "      <td>1</td>\n",
       "      <td>1</td>\n",
       "      <td>2</td>\n",
       "      <td>112</td>\n",
       "    </tr>\n",
       "    <tr>\n",
       "      <th>...</th>\n",
       "      <td>...</td>\n",
       "      <td>...</td>\n",
       "      <td>...</td>\n",
       "      <td>...</td>\n",
       "      <td>...</td>\n",
       "      <td>...</td>\n",
       "      <td>...</td>\n",
       "      <td>...</td>\n",
       "      <td>...</td>\n",
       "    </tr>\n",
       "    <tr>\n",
       "      <th>4367</th>\n",
       "      <td>18280.0</td>\n",
       "      <td>2011-03-07 09:52:00</td>\n",
       "      <td>277</td>\n",
       "      <td>1</td>\n",
       "      <td>180.60</td>\n",
       "      <td>1</td>\n",
       "      <td>2</td>\n",
       "      <td>1</td>\n",
       "      <td>121</td>\n",
       "    </tr>\n",
       "    <tr>\n",
       "      <th>4368</th>\n",
       "      <td>18281.0</td>\n",
       "      <td>2011-06-12 10:53:00</td>\n",
       "      <td>180</td>\n",
       "      <td>1</td>\n",
       "      <td>80.82</td>\n",
       "      <td>1</td>\n",
       "      <td>2</td>\n",
       "      <td>1</td>\n",
       "      <td>121</td>\n",
       "    </tr>\n",
       "    <tr>\n",
       "      <th>4369</th>\n",
       "      <td>18282.0</td>\n",
       "      <td>2011-12-02 11:43:00</td>\n",
       "      <td>7</td>\n",
       "      <td>3</td>\n",
       "      <td>176.60</td>\n",
       "      <td>5</td>\n",
       "      <td>3</td>\n",
       "      <td>1</td>\n",
       "      <td>531</td>\n",
       "    </tr>\n",
       "    <tr>\n",
       "      <th>4370</th>\n",
       "      <td>18283.0</td>\n",
       "      <td>2011-12-06 12:02:00</td>\n",
       "      <td>3</td>\n",
       "      <td>16</td>\n",
       "      <td>2094.88</td>\n",
       "      <td>5</td>\n",
       "      <td>5</td>\n",
       "      <td>5</td>\n",
       "      <td>555</td>\n",
       "    </tr>\n",
       "    <tr>\n",
       "      <th>4371</th>\n",
       "      <td>18287.0</td>\n",
       "      <td>2011-10-28 09:29:00</td>\n",
       "      <td>42</td>\n",
       "      <td>3</td>\n",
       "      <td>1837.28</td>\n",
       "      <td>3</td>\n",
       "      <td>3</td>\n",
       "      <td>4</td>\n",
       "      <td>334</td>\n",
       "    </tr>\n",
       "  </tbody>\n",
       "</table>\n",
       "<p>4372 rows × 9 columns</p>\n",
       "</div>"
      ],
      "text/plain": [
       "     CustomerID    LastPurchaseDate  Recency  Frequency  Monetary  R_Score  \\\n",
       "0       12346.0 2011-01-18 10:17:00      325          2      0.00        1   \n",
       "1       12347.0 2011-12-07 15:52:00        1          7   4310.00        5   \n",
       "2       12348.0 2011-09-25 13:13:00       74          4   1797.24        2   \n",
       "3       12349.0 2011-11-21 09:51:00       18          1   1757.55        4   \n",
       "4       12350.0 2011-02-02 16:01:00      309          1    334.40        1   \n",
       "...         ...                 ...      ...        ...       ...      ...   \n",
       "4367    18280.0 2011-03-07 09:52:00      277          1    180.60        1   \n",
       "4368    18281.0 2011-06-12 10:53:00      180          1     80.82        1   \n",
       "4369    18282.0 2011-12-02 11:43:00        7          3    176.60        5   \n",
       "4370    18283.0 2011-12-06 12:02:00        3         16   2094.88        5   \n",
       "4371    18287.0 2011-10-28 09:29:00       42          3   1837.28        3   \n",
       "\n",
       "      F_Score  M_Score RFM_Score  \n",
       "0           2        1       121  \n",
       "1           4        5       545  \n",
       "2           3        4       234  \n",
       "3           1        4       414  \n",
       "4           1        2       112  \n",
       "...       ...      ...       ...  \n",
       "4367        2        1       121  \n",
       "4368        2        1       121  \n",
       "4369        3        1       531  \n",
       "4370        5        5       555  \n",
       "4371        3        4       334  \n",
       "\n",
       "[4372 rows x 9 columns]"
      ]
     },
     "execution_count": 115,
     "metadata": {},
     "output_type": "execute_result"
    }
   ],
   "source": [
    "rfm['RFM_Score']=rfm['R_Score'].astype(str) + rfm['F_Score'].astype(str) + rfm['M_Score'].astype(str)\n",
    "rfm"
   ]
  },
  {
   "cell_type": "code",
   "execution_count": 218,
   "id": "719d35ce",
   "metadata": {},
   "outputs": [],
   "source": [
    "\n",
    "rfm.loc[rfm['RFM_Score'].str.match(r'[4-5][4-5][4-5]'), 'Segment'] = 'Champion'\n",
    "rfm.loc[rfm['RFM_Score'].str.match(r'[3-5][3-5][3-5]'), 'Segment'] = 'Loyal'\n",
    "rfm.loc[rfm['RFM_Score'].str.match(r'[4-5][1-2][4-5]'), 'Segment'] = 'Recent High Spender'\n",
    "rfm.loc[rfm['RFM_Score'].str.match(r'5[1-2][1-3]'), 'Segment'] = 'New Customer'\n",
    "rfm.loc[rfm['RFM_Score'].str.match(r'[4-5][2-5][1-5]'), 'Segment'] = 'Potential Loyalist'\n",
    "rfm.loc[rfm['RFM_Score'].str.match(r'[3-4][1-4][1-3]'), 'Segment'] = 'Need Attention'\n",
    "rfm.loc[rfm['RFM_Score'].str.match(r'[3-4][1-2][1-3]'), 'Segment'] = 'Hibernating'\n",
    "rfm.loc[rfm['RFM_Score'].str.match(r'[1-2][3-5][1-5]'), 'Segment'] = 'At Risk'\n",
    "rfm.loc[rfm['RFM_Score'].str.match(r'[1-3][1-3][3-5]'), 'Segment'] = 'Dormant Big Spender'\n",
    "rfm.loc[rfm['RFM_Score'].str.match(r'[1-2][1-2][1-2]'), 'Segment'] = 'Lost'\n"
   ]
  },
  {
   "cell_type": "code",
   "execution_count": 185,
   "id": "f4e1b78b",
   "metadata": {},
   "outputs": [
    {
     "data": {
      "application/vnd.microsoft.datawrangler.viewer.v0+json": {
       "columns": [
        {
         "name": "index",
         "rawType": "int64",
         "type": "integer"
        },
        {
         "name": "CustomerID",
         "rawType": "object",
         "type": "string"
        },
        {
         "name": "LastPurchaseDate",
         "rawType": "datetime64[ns]",
         "type": "datetime"
        },
        {
         "name": "Recency",
         "rawType": "int64",
         "type": "integer"
        },
        {
         "name": "Frequency",
         "rawType": "int64",
         "type": "integer"
        },
        {
         "name": "Monetary",
         "rawType": "float64",
         "type": "float"
        },
        {
         "name": "R_Score",
         "rawType": "int64",
         "type": "integer"
        },
        {
         "name": "F_Score",
         "rawType": "int64",
         "type": "integer"
        },
        {
         "name": "M_Score",
         "rawType": "int64",
         "type": "integer"
        },
        {
         "name": "RFM_Score",
         "rawType": "object",
         "type": "string"
        },
        {
         "name": "Segment",
         "rawType": "object",
         "type": "string"
        }
       ],
       "ref": "06ea7ba9-876e-49c0-9ef4-41bac66cbeea",
       "rows": [
        [
         "0",
         "12346.0",
         "2011-01-18 10:17:00",
         "325",
         "2",
         "0.0",
         "1",
         "2",
         "1",
         "121",
         "Lost"
        ],
        [
         "1",
         "12347.0",
         "2011-12-07 15:52:00",
         "1",
         "7",
         "4310.0",
         "5",
         "4",
         "5",
         "545",
         "Potential Loyalist"
        ],
        [
         "2",
         "12348.0",
         "2011-09-25 13:13:00",
         "74",
         "4",
         "1797.24",
         "2",
         "3",
         "4",
         "234",
         "Dormant Big Spender"
        ],
        [
         "3",
         "12349.0",
         "2011-11-21 09:51:00",
         "18",
         "1",
         "1757.55",
         "4",
         "1",
         "4",
         "414",
         "Recent High Spender"
        ],
        [
         "4",
         "12350.0",
         "2011-02-02 16:01:00",
         "309",
         "1",
         "334.4",
         "1",
         "1",
         "2",
         "112",
         "Lost"
        ],
        [
         "5",
         "12352.0",
         "2011-11-03 14:37:00",
         "35",
         "11",
         "1545.41",
         "3",
         "5",
         "4",
         "354",
         "Loyal"
        ],
        [
         "6",
         "12353.0",
         "2011-05-19 17:47:00",
         "203",
         "1",
         "89.0",
         "1",
         "1",
         "1",
         "111",
         "Lost"
        ],
        [
         "7",
         "12354.0",
         "2011-04-21 13:11:00",
         "231",
         "1",
         "1079.4",
         "1",
         "1",
         "4",
         "114",
         "Dormant Big Spender"
        ],
        [
         "8",
         "12355.0",
         "2011-05-09 13:49:00",
         "213",
         "1",
         "459.4",
         "1",
         "1",
         "2",
         "112",
         "Lost"
        ],
        [
         "9",
         "12356.0",
         "2011-11-17 08:40:00",
         "22",
         "3",
         "2811.43",
         "4",
         "3",
         "5",
         "435",
         "Potential Loyalist"
        ],
        [
         "10",
         "12357.0",
         "2011-11-06 16:07:00",
         "32",
         "1",
         "6207.67",
         "3",
         "1",
         "5",
         "315",
         "Dormant Big Spender"
        ],
        [
         "11",
         "12358.0",
         "2011-12-08 10:26:00",
         "1",
         "2",
         "1168.06",
         "5",
         "2",
         "4",
         "524",
         "Potential Loyalist"
        ],
        [
         "12",
         "12359.0",
         "2011-12-02 11:21:00",
         "7",
         "6",
         "6245.53",
         "5",
         "4",
         "5",
         "545",
         "Potential Loyalist"
        ],
        [
         "13",
         "12360.0",
         "2011-10-18 15:22:00",
         "51",
         "3",
         "2662.06",
         "3",
         "3",
         "5",
         "335",
         "Dormant Big Spender"
        ],
        [
         "14",
         "12361.0",
         "2011-02-25 13:51:00",
         "286",
         "1",
         "189.9",
         "1",
         "1",
         "1",
         "111",
         "Lost"
        ],
        [
         "15",
         "12362.0",
         "2011-12-06 15:40:00",
         "2",
         "13",
         "5154.58",
         "5",
         "5",
         "5",
         "555",
         "Potential Loyalist"
        ],
        [
         "16",
         "12363.0",
         "2011-08-22 10:18:00",
         "109",
         "2",
         "552.0",
         "2",
         "2",
         "3",
         "223",
         "Dormant Big Spender"
        ],
        [
         "17",
         "12364.0",
         "2011-12-02 10:22:00",
         "7",
         "4",
         "1313.1",
         "5",
         "3",
         "4",
         "534",
         "Potential Loyalist"
        ],
        [
         "18",
         "12365.0",
         "2011-02-21 14:04:00",
         "290",
         "3",
         "320.69",
         "1",
         "3",
         "2",
         "132",
         "At Risk"
        ],
        [
         "19",
         "12367.0",
         "2011-12-05 16:48:00",
         "3",
         "1",
         "168.9",
         "5",
         "1",
         "1",
         "511",
         "New Customer"
        ],
        [
         "20",
         "12370.0",
         "2011-10-19 14:51:00",
         "50",
         "4",
         "3545.69",
         "3",
         "3",
         "5",
         "335",
         "Dormant Big Spender"
        ],
        [
         "21",
         "12371.0",
         "2011-10-26 10:16:00",
         "44",
         "2",
         "1887.96",
         "3",
         "2",
         "4",
         "324",
         "Dormant Big Spender"
        ],
        [
         "22",
         "12372.0",
         "2011-09-29 12:12:00",
         "71",
         "3",
         "1298.04",
         "2",
         "3",
         "4",
         "234",
         "Dormant Big Spender"
        ],
        [
         "23",
         "12373.0",
         "2011-02-01 13:10:00",
         "310",
         "1",
         "364.6",
         "1",
         "1",
         "2",
         "112",
         "Lost"
        ],
        [
         "24",
         "12374.0",
         "2011-11-14 15:37:00",
         "24",
         "1",
         "742.9300000000001",
         "4",
         "1",
         "3",
         "413",
         "Hibernating"
        ],
        [
         "25",
         "12375.0",
         "2011-12-07 11:27:00",
         "2",
         "3",
         "455.42",
         "5",
         "3",
         "2",
         "532",
         "Potential Loyalist"
        ],
        [
         "26",
         "12377.0",
         "2011-01-28 15:45:00",
         "314",
         "2",
         "1628.12",
         "1",
         "2",
         "4",
         "124",
         "Dormant Big Spender"
        ],
        [
         "27",
         "12378.0",
         "2011-08-02 10:34:00",
         "129",
         "1",
         "4008.62",
         "2",
         "1",
         "5",
         "215",
         "Dormant Big Spender"
        ],
        [
         "28",
         "12379.0",
         "2011-09-19 10:09:00",
         "81",
         "3",
         "850.29",
         "2",
         "3",
         "3",
         "233",
         "Dormant Big Spender"
        ],
        [
         "29",
         "12380.0",
         "2011-11-18 11:27:00",
         "21",
         "5",
         "2720.56",
         "4",
         "4",
         "5",
         "445",
         "Potential Loyalist"
        ],
        [
         "30",
         "12381.0",
         "2011-12-05 12:44:00",
         "4",
         "6",
         "1803.96",
         "5",
         "4",
         "4",
         "544",
         "Potential Loyalist"
        ],
        [
         "31",
         "12383.0",
         "2011-06-08 08:02:00",
         "184",
         "6",
         "1839.31",
         "1",
         "4",
         "4",
         "144",
         "At Risk"
        ],
        [
         "32",
         "12384.0",
         "2011-11-11 08:39:00",
         "28",
         "3",
         "566.16",
         "4",
         "3",
         "3",
         "433",
         "Need Attention"
        ],
        [
         "33",
         "12386.0",
         "2011-01-06 12:37:00",
         "337",
         "2",
         "401.9",
         "1",
         "2",
         "2",
         "122",
         "Lost"
        ],
        [
         "34",
         "12388.0",
         "2011-11-24 12:30:00",
         "15",
         "6",
         "2780.66",
         "4",
         "4",
         "5",
         "445",
         "Potential Loyalist"
        ],
        [
         "35",
         "12390.0",
         "2011-09-21 09:33:00",
         "79",
         "1",
         "549.84",
         "2",
         "1",
         "3",
         "213",
         "Dormant Big Spender"
        ],
        [
         "36",
         "12391.0",
         "2011-11-18 12:07:00",
         "21",
         "1",
         "460.89",
         "4",
         "1",
         "2",
         "412",
         "Hibernating"
        ],
        [
         "37",
         "12393.0",
         "2011-09-28 15:41:00",
         "71",
         "4",
         "1582.6000000000001",
         "2",
         "4",
         "4",
         "244",
         "At Risk"
        ],
        [
         "38",
         "12394.0",
         "2011-10-07 08:08:00",
         "63",
         "2",
         "1272.48",
         "3",
         "2",
         "4",
         "324",
         "Dormant Big Spender"
        ],
        [
         "39",
         "12395.0",
         "2011-11-24 12:20:00",
         "15",
         "15",
         "2998.28",
         "4",
         "5",
         "5",
         "455",
         "Potential Loyalist"
        ],
        [
         "40",
         "12397.0",
         "2011-11-04 09:52:00",
         "35",
         "2",
         "2409.9",
         "3",
         "2",
         "5",
         "325",
         "Dormant Big Spender"
        ],
        [
         "41",
         "12398.0",
         "2011-10-25 10:27:00",
         "45",
         "1",
         "1635.6599999999999",
         "3",
         "1",
         "4",
         "314",
         "Dormant Big Spender"
        ],
        [
         "42",
         "12399.0",
         "2011-08-12 13:15:00",
         "118",
         "4",
         "1108.65",
         "2",
         "4",
         "4",
         "244",
         "At Risk"
        ],
        [
         "43",
         "12401.0",
         "2011-02-09 13:50:00",
         "302",
         "1",
         "84.3",
         "1",
         "1",
         "1",
         "111",
         "Lost"
        ],
        [
         "44",
         "12402.0",
         "2011-01-20 13:49:00",
         "322",
         "1",
         "225.6",
         "1",
         "1",
         "1",
         "111",
         "Lost"
        ],
        [
         "45",
         "12403.0",
         "2011-10-21 11:00:00",
         "49",
         "2",
         "409.7",
         "3",
         "2",
         "2",
         "322",
         "Hibernating"
        ],
        [
         "46",
         "12405.0",
         "2011-07-14 08:52:00",
         "148",
         "1",
         "1710.39",
         "2",
         "1",
         "4",
         "214",
         "Dormant Big Spender"
        ],
        [
         "47",
         "12406.0",
         "2011-11-17 19:22:00",
         "21",
         "3",
         "3280.75",
         "4",
         "3",
         "5",
         "435",
         "Potential Loyalist"
        ],
        [
         "48",
         "12407.0",
         "2011-10-21 10:11:00",
         "49",
         "5",
         "1708.1200000000001",
         "3",
         "4",
         "4",
         "344",
         "Loyal"
        ],
        [
         "49",
         "12408.0",
         "2011-11-07 12:30:00",
         "32",
         "9",
         "2842.57",
         "3",
         "5",
         "5",
         "355",
         "Loyal"
        ]
       ],
       "shape": {
        "columns": 10,
        "rows": 4372
       }
      },
      "text/html": [
       "<div>\n",
       "<style scoped>\n",
       "    .dataframe tbody tr th:only-of-type {\n",
       "        vertical-align: middle;\n",
       "    }\n",
       "\n",
       "    .dataframe tbody tr th {\n",
       "        vertical-align: top;\n",
       "    }\n",
       "\n",
       "    .dataframe thead th {\n",
       "        text-align: right;\n",
       "    }\n",
       "</style>\n",
       "<table border=\"1\" class=\"dataframe\">\n",
       "  <thead>\n",
       "    <tr style=\"text-align: right;\">\n",
       "      <th></th>\n",
       "      <th>CustomerID</th>\n",
       "      <th>LastPurchaseDate</th>\n",
       "      <th>Recency</th>\n",
       "      <th>Frequency</th>\n",
       "      <th>Monetary</th>\n",
       "      <th>R_Score</th>\n",
       "      <th>F_Score</th>\n",
       "      <th>M_Score</th>\n",
       "      <th>RFM_Score</th>\n",
       "      <th>Segment</th>\n",
       "    </tr>\n",
       "  </thead>\n",
       "  <tbody>\n",
       "    <tr>\n",
       "      <th>0</th>\n",
       "      <td>12346.0</td>\n",
       "      <td>2011-01-18 10:17:00</td>\n",
       "      <td>325</td>\n",
       "      <td>2</td>\n",
       "      <td>0.00</td>\n",
       "      <td>1</td>\n",
       "      <td>2</td>\n",
       "      <td>1</td>\n",
       "      <td>121</td>\n",
       "      <td>Lost</td>\n",
       "    </tr>\n",
       "    <tr>\n",
       "      <th>1</th>\n",
       "      <td>12347.0</td>\n",
       "      <td>2011-12-07 15:52:00</td>\n",
       "      <td>1</td>\n",
       "      <td>7</td>\n",
       "      <td>4310.00</td>\n",
       "      <td>5</td>\n",
       "      <td>4</td>\n",
       "      <td>5</td>\n",
       "      <td>545</td>\n",
       "      <td>Potential Loyalist</td>\n",
       "    </tr>\n",
       "    <tr>\n",
       "      <th>2</th>\n",
       "      <td>12348.0</td>\n",
       "      <td>2011-09-25 13:13:00</td>\n",
       "      <td>74</td>\n",
       "      <td>4</td>\n",
       "      <td>1797.24</td>\n",
       "      <td>2</td>\n",
       "      <td>3</td>\n",
       "      <td>4</td>\n",
       "      <td>234</td>\n",
       "      <td>Dormant Big Spender</td>\n",
       "    </tr>\n",
       "    <tr>\n",
       "      <th>3</th>\n",
       "      <td>12349.0</td>\n",
       "      <td>2011-11-21 09:51:00</td>\n",
       "      <td>18</td>\n",
       "      <td>1</td>\n",
       "      <td>1757.55</td>\n",
       "      <td>4</td>\n",
       "      <td>1</td>\n",
       "      <td>4</td>\n",
       "      <td>414</td>\n",
       "      <td>Recent High Spender</td>\n",
       "    </tr>\n",
       "    <tr>\n",
       "      <th>4</th>\n",
       "      <td>12350.0</td>\n",
       "      <td>2011-02-02 16:01:00</td>\n",
       "      <td>309</td>\n",
       "      <td>1</td>\n",
       "      <td>334.40</td>\n",
       "      <td>1</td>\n",
       "      <td>1</td>\n",
       "      <td>2</td>\n",
       "      <td>112</td>\n",
       "      <td>Lost</td>\n",
       "    </tr>\n",
       "    <tr>\n",
       "      <th>...</th>\n",
       "      <td>...</td>\n",
       "      <td>...</td>\n",
       "      <td>...</td>\n",
       "      <td>...</td>\n",
       "      <td>...</td>\n",
       "      <td>...</td>\n",
       "      <td>...</td>\n",
       "      <td>...</td>\n",
       "      <td>...</td>\n",
       "      <td>...</td>\n",
       "    </tr>\n",
       "    <tr>\n",
       "      <th>4367</th>\n",
       "      <td>18280.0</td>\n",
       "      <td>2011-03-07 09:52:00</td>\n",
       "      <td>277</td>\n",
       "      <td>1</td>\n",
       "      <td>180.60</td>\n",
       "      <td>1</td>\n",
       "      <td>2</td>\n",
       "      <td>1</td>\n",
       "      <td>121</td>\n",
       "      <td>Lost</td>\n",
       "    </tr>\n",
       "    <tr>\n",
       "      <th>4368</th>\n",
       "      <td>18281.0</td>\n",
       "      <td>2011-06-12 10:53:00</td>\n",
       "      <td>180</td>\n",
       "      <td>1</td>\n",
       "      <td>80.82</td>\n",
       "      <td>1</td>\n",
       "      <td>2</td>\n",
       "      <td>1</td>\n",
       "      <td>121</td>\n",
       "      <td>Lost</td>\n",
       "    </tr>\n",
       "    <tr>\n",
       "      <th>4369</th>\n",
       "      <td>18282.0</td>\n",
       "      <td>2011-12-02 11:43:00</td>\n",
       "      <td>7</td>\n",
       "      <td>3</td>\n",
       "      <td>176.60</td>\n",
       "      <td>5</td>\n",
       "      <td>3</td>\n",
       "      <td>1</td>\n",
       "      <td>531</td>\n",
       "      <td>Potential Loyalist</td>\n",
       "    </tr>\n",
       "    <tr>\n",
       "      <th>4370</th>\n",
       "      <td>18283.0</td>\n",
       "      <td>2011-12-06 12:02:00</td>\n",
       "      <td>3</td>\n",
       "      <td>16</td>\n",
       "      <td>2094.88</td>\n",
       "      <td>5</td>\n",
       "      <td>5</td>\n",
       "      <td>5</td>\n",
       "      <td>555</td>\n",
       "      <td>Potential Loyalist</td>\n",
       "    </tr>\n",
       "    <tr>\n",
       "      <th>4371</th>\n",
       "      <td>18287.0</td>\n",
       "      <td>2011-10-28 09:29:00</td>\n",
       "      <td>42</td>\n",
       "      <td>3</td>\n",
       "      <td>1837.28</td>\n",
       "      <td>3</td>\n",
       "      <td>3</td>\n",
       "      <td>4</td>\n",
       "      <td>334</td>\n",
       "      <td>Dormant Big Spender</td>\n",
       "    </tr>\n",
       "  </tbody>\n",
       "</table>\n",
       "<p>4372 rows × 10 columns</p>\n",
       "</div>"
      ],
      "text/plain": [
       "     CustomerID    LastPurchaseDate  Recency  Frequency  Monetary  R_Score  \\\n",
       "0       12346.0 2011-01-18 10:17:00      325          2      0.00        1   \n",
       "1       12347.0 2011-12-07 15:52:00        1          7   4310.00        5   \n",
       "2       12348.0 2011-09-25 13:13:00       74          4   1797.24        2   \n",
       "3       12349.0 2011-11-21 09:51:00       18          1   1757.55        4   \n",
       "4       12350.0 2011-02-02 16:01:00      309          1    334.40        1   \n",
       "...         ...                 ...      ...        ...       ...      ...   \n",
       "4367    18280.0 2011-03-07 09:52:00      277          1    180.60        1   \n",
       "4368    18281.0 2011-06-12 10:53:00      180          1     80.82        1   \n",
       "4369    18282.0 2011-12-02 11:43:00        7          3    176.60        5   \n",
       "4370    18283.0 2011-12-06 12:02:00        3         16   2094.88        5   \n",
       "4371    18287.0 2011-10-28 09:29:00       42          3   1837.28        3   \n",
       "\n",
       "      F_Score  M_Score RFM_Score              Segment  \n",
       "0           2        1       121                 Lost  \n",
       "1           4        5       545   Potential Loyalist  \n",
       "2           3        4       234  Dormant Big Spender  \n",
       "3           1        4       414  Recent High Spender  \n",
       "4           1        2       112                 Lost  \n",
       "...       ...      ...       ...                  ...  \n",
       "4367        2        1       121                 Lost  \n",
       "4368        2        1       121                 Lost  \n",
       "4369        3        1       531   Potential Loyalist  \n",
       "4370        5        5       555   Potential Loyalist  \n",
       "4371        3        4       334  Dormant Big Spender  \n",
       "\n",
       "[4372 rows x 10 columns]"
      ]
     },
     "execution_count": 185,
     "metadata": {},
     "output_type": "execute_result"
    }
   ],
   "source": [
    "rfm"
   ]
  },
  {
   "cell_type": "code",
   "execution_count": 186,
   "id": "9d05b36b",
   "metadata": {},
   "outputs": [
    {
     "data": {
      "application/vnd.microsoft.datawrangler.viewer.v0+json": {
       "columns": [
        {
         "name": "Segment",
         "rawType": "object",
         "type": "string"
        },
        {
         "name": "count",
         "rawType": "int64",
         "type": "integer"
        }
       ],
       "ref": "c4f56897-a4ca-4363-a97c-d99a5e2e2d3a",
       "rows": [
        [
         "Potential Loyalist",
         "1306"
        ],
        [
         "Lost",
         "809"
        ],
        [
         "Dormant Big Spender",
         "669"
        ],
        [
         "At Risk",
         "479"
        ],
        [
         "Hibernating",
         "464"
        ],
        [
         "Need Attention",
         "355"
        ],
        [
         "Loyal",
         "248"
        ],
        [
         "New Customer",
         "40"
        ],
        [
         "Recent High Spender",
         "2"
        ]
       ],
       "shape": {
        "columns": 1,
        "rows": 9
       }
      },
      "text/plain": [
       "Segment\n",
       "Potential Loyalist     1306\n",
       "Lost                    809\n",
       "Dormant Big Spender     669\n",
       "At Risk                 479\n",
       "Hibernating             464\n",
       "Need Attention          355\n",
       "Loyal                   248\n",
       "New Customer             40\n",
       "Recent High Spender       2\n",
       "Name: count, dtype: int64"
      ]
     },
     "execution_count": 186,
     "metadata": {},
     "output_type": "execute_result"
    }
   ],
   "source": [
    "rfm['Segment'].value_counts()"
   ]
  },
  {
   "cell_type": "code",
   "execution_count": 187,
   "id": "87abfc4d",
   "metadata": {},
   "outputs": [
    {
     "data": {
      "application/vnd.microsoft.datawrangler.viewer.v0+json": {
       "columns": [
        {
         "name": "index",
         "rawType": "int64",
         "type": "integer"
        },
        {
         "name": "CustomerID",
         "rawType": "object",
         "type": "string"
        },
        {
         "name": "LastPurchaseDate",
         "rawType": "datetime64[ns]",
         "type": "datetime"
        },
        {
         "name": "Recency",
         "rawType": "int64",
         "type": "integer"
        },
        {
         "name": "Frequency",
         "rawType": "int64",
         "type": "integer"
        },
        {
         "name": "Monetary",
         "rawType": "float64",
         "type": "float"
        },
        {
         "name": "R_Score",
         "rawType": "int64",
         "type": "integer"
        },
        {
         "name": "F_Score",
         "rawType": "int64",
         "type": "integer"
        },
        {
         "name": "M_Score",
         "rawType": "int64",
         "type": "integer"
        },
        {
         "name": "RFM_Score",
         "rawType": "object",
         "type": "string"
        },
        {
         "name": "Segment",
         "rawType": "object",
         "type": "string"
        },
        {
         "name": "Marketing_Action",
         "rawType": "object",
         "type": "string"
        }
       ],
       "ref": "943f043e-0a75-4ce6-b32a-f5b47246a024",
       "rows": [
        [
         "0",
         "12346.0",
         "2011-01-18 10:17:00",
         "325",
         "2",
         "0.0",
         "1",
         "2",
         "1",
         "121",
         "Lost",
         "Automated reactivation with discount"
        ],
        [
         "1",
         "12347.0",
         "2011-12-07 15:52:00",
         "1",
         "7",
         "4310.0",
         "5",
         "4",
         "5",
         "545",
         "Potential Loyalist",
         "Bundle deals or subscription push"
        ],
        [
         "2",
         "12348.0",
         "2011-09-25 13:13:00",
         "74",
         "4",
         "1797.24",
         "2",
         "3",
         "4",
         "234",
         "Dormant Big Spender",
         "VIP reactivation + concierge support"
        ],
        [
         "3",
         "12349.0",
         "2011-11-21 09:51:00",
         "18",
         "1",
         "1757.55",
         "4",
         "1",
         "4",
         "414",
         "Recent High Spender",
         "Cross-sell with next-order discount"
        ],
        [
         "4",
         "12350.0",
         "2011-02-02 16:01:00",
         "309",
         "1",
         "334.4",
         "1",
         "1",
         "2",
         "112",
         "Lost",
         "Automated reactivation with discount"
        ],
        [
         "5",
         "12352.0",
         "2011-11-03 14:37:00",
         "35",
         "11",
         "1545.41",
         "3",
         "5",
         "4",
         "354",
         "Loyal",
         "Offer loyalty rewards or exclusive deals"
        ],
        [
         "6",
         "12353.0",
         "2011-05-19 17:47:00",
         "203",
         "1",
         "89.0",
         "1",
         "1",
         "1",
         "111",
         "Lost",
         "Automated reactivation with discount"
        ],
        [
         "7",
         "12354.0",
         "2011-04-21 13:11:00",
         "231",
         "1",
         "1079.4",
         "1",
         "1",
         "4",
         "114",
         "Dormant Big Spender",
         "VIP reactivation + concierge support"
        ],
        [
         "8",
         "12355.0",
         "2011-05-09 13:49:00",
         "213",
         "1",
         "459.4",
         "1",
         "1",
         "2",
         "112",
         "Lost",
         "Automated reactivation with discount"
        ],
        [
         "9",
         "12356.0",
         "2011-11-17 08:40:00",
         "22",
         "3",
         "2811.43",
         "4",
         "3",
         "5",
         "435",
         "Potential Loyalist",
         "Bundle deals or subscription push"
        ],
        [
         "10",
         "12357.0",
         "2011-11-06 16:07:00",
         "32",
         "1",
         "6207.67",
         "3",
         "1",
         "5",
         "315",
         "Dormant Big Spender",
         "VIP reactivation + concierge support"
        ],
        [
         "11",
         "12358.0",
         "2011-12-08 10:26:00",
         "1",
         "2",
         "1168.06",
         "5",
         "2",
         "4",
         "524",
         "Potential Loyalist",
         "Bundle deals or subscription push"
        ],
        [
         "12",
         "12359.0",
         "2011-12-02 11:21:00",
         "7",
         "6",
         "6245.53",
         "5",
         "4",
         "5",
         "545",
         "Potential Loyalist",
         "Bundle deals or subscription push"
        ],
        [
         "13",
         "12360.0",
         "2011-10-18 15:22:00",
         "51",
         "3",
         "2662.06",
         "3",
         "3",
         "5",
         "335",
         "Dormant Big Spender",
         "VIP reactivation + concierge support"
        ],
        [
         "14",
         "12361.0",
         "2011-02-25 13:51:00",
         "286",
         "1",
         "189.9",
         "1",
         "1",
         "1",
         "111",
         "Lost",
         "Automated reactivation with discount"
        ],
        [
         "15",
         "12362.0",
         "2011-12-06 15:40:00",
         "2",
         "13",
         "5154.58",
         "5",
         "5",
         "5",
         "555",
         "Potential Loyalist",
         "Bundle deals or subscription push"
        ],
        [
         "16",
         "12363.0",
         "2011-08-22 10:18:00",
         "109",
         "2",
         "552.0",
         "2",
         "2",
         "3",
         "223",
         "Dormant Big Spender",
         "VIP reactivation + concierge support"
        ],
        [
         "17",
         "12364.0",
         "2011-12-02 10:22:00",
         "7",
         "4",
         "1313.1",
         "5",
         "3",
         "4",
         "534",
         "Potential Loyalist",
         "Bundle deals or subscription push"
        ],
        [
         "18",
         "12365.0",
         "2011-02-21 14:04:00",
         "290",
         "3",
         "320.69",
         "1",
         "3",
         "2",
         "132",
         "At Risk",
         "Win-back campaign + personalized email"
        ],
        [
         "19",
         "12367.0",
         "2011-12-05 16:48:00",
         "3",
         "1",
         "168.9",
         "5",
         "1",
         "1",
         "511",
         "New Customer",
         "Welcome campaign + discount on 2nd order"
        ],
        [
         "20",
         "12370.0",
         "2011-10-19 14:51:00",
         "50",
         "4",
         "3545.69",
         "3",
         "3",
         "5",
         "335",
         "Dormant Big Spender",
         "VIP reactivation + concierge support"
        ],
        [
         "21",
         "12371.0",
         "2011-10-26 10:16:00",
         "44",
         "2",
         "1887.96",
         "3",
         "2",
         "4",
         "324",
         "Dormant Big Spender",
         "VIP reactivation + concierge support"
        ],
        [
         "22",
         "12372.0",
         "2011-09-29 12:12:00",
         "71",
         "3",
         "1298.04",
         "2",
         "3",
         "4",
         "234",
         "Dormant Big Spender",
         "VIP reactivation + concierge support"
        ],
        [
         "23",
         "12373.0",
         "2011-02-01 13:10:00",
         "310",
         "1",
         "364.6",
         "1",
         "1",
         "2",
         "112",
         "Lost",
         "Automated reactivation with discount"
        ],
        [
         "24",
         "12374.0",
         "2011-11-14 15:37:00",
         "24",
         "1",
         "742.9300000000001",
         "4",
         "1",
         "3",
         "413",
         "Hibernating",
         "Reactivation email with flash offer"
        ],
        [
         "25",
         "12375.0",
         "2011-12-07 11:27:00",
         "2",
         "3",
         "455.42",
         "5",
         "3",
         "2",
         "532",
         "Potential Loyalist",
         "Bundle deals or subscription push"
        ],
        [
         "26",
         "12377.0",
         "2011-01-28 15:45:00",
         "314",
         "2",
         "1628.12",
         "1",
         "2",
         "4",
         "124",
         "Dormant Big Spender",
         "VIP reactivation + concierge support"
        ],
        [
         "27",
         "12378.0",
         "2011-08-02 10:34:00",
         "129",
         "1",
         "4008.62",
         "2",
         "1",
         "5",
         "215",
         "Dormant Big Spender",
         "VIP reactivation + concierge support"
        ],
        [
         "28",
         "12379.0",
         "2011-09-19 10:09:00",
         "81",
         "3",
         "850.29",
         "2",
         "3",
         "3",
         "233",
         "Dormant Big Spender",
         "VIP reactivation + concierge support"
        ],
        [
         "29",
         "12380.0",
         "2011-11-18 11:27:00",
         "21",
         "5",
         "2720.56",
         "4",
         "4",
         "5",
         "445",
         "Potential Loyalist",
         "Bundle deals or subscription push"
        ],
        [
         "30",
         "12381.0",
         "2011-12-05 12:44:00",
         "4",
         "6",
         "1803.96",
         "5",
         "4",
         "4",
         "544",
         "Potential Loyalist",
         "Bundle deals or subscription push"
        ],
        [
         "31",
         "12383.0",
         "2011-06-08 08:02:00",
         "184",
         "6",
         "1839.31",
         "1",
         "4",
         "4",
         "144",
         "At Risk",
         "Win-back campaign + personalized email"
        ],
        [
         "32",
         "12384.0",
         "2011-11-11 08:39:00",
         "28",
         "3",
         "566.16",
         "4",
         "3",
         "3",
         "433",
         "Need Attention",
         "Send reminder + limited-time discount"
        ],
        [
         "33",
         "12386.0",
         "2011-01-06 12:37:00",
         "337",
         "2",
         "401.9",
         "1",
         "2",
         "2",
         "122",
         "Lost",
         "Automated reactivation with discount"
        ],
        [
         "34",
         "12388.0",
         "2011-11-24 12:30:00",
         "15",
         "6",
         "2780.66",
         "4",
         "4",
         "5",
         "445",
         "Potential Loyalist",
         "Bundle deals or subscription push"
        ],
        [
         "35",
         "12390.0",
         "2011-09-21 09:33:00",
         "79",
         "1",
         "549.84",
         "2",
         "1",
         "3",
         "213",
         "Dormant Big Spender",
         "VIP reactivation + concierge support"
        ],
        [
         "36",
         "12391.0",
         "2011-11-18 12:07:00",
         "21",
         "1",
         "460.89",
         "4",
         "1",
         "2",
         "412",
         "Hibernating",
         "Reactivation email with flash offer"
        ],
        [
         "37",
         "12393.0",
         "2011-09-28 15:41:00",
         "71",
         "4",
         "1582.6000000000001",
         "2",
         "4",
         "4",
         "244",
         "At Risk",
         "Win-back campaign + personalized email"
        ],
        [
         "38",
         "12394.0",
         "2011-10-07 08:08:00",
         "63",
         "2",
         "1272.48",
         "3",
         "2",
         "4",
         "324",
         "Dormant Big Spender",
         "VIP reactivation + concierge support"
        ],
        [
         "39",
         "12395.0",
         "2011-11-24 12:20:00",
         "15",
         "15",
         "2998.28",
         "4",
         "5",
         "5",
         "455",
         "Potential Loyalist",
         "Bundle deals or subscription push"
        ],
        [
         "40",
         "12397.0",
         "2011-11-04 09:52:00",
         "35",
         "2",
         "2409.9",
         "3",
         "2",
         "5",
         "325",
         "Dormant Big Spender",
         "VIP reactivation + concierge support"
        ],
        [
         "41",
         "12398.0",
         "2011-10-25 10:27:00",
         "45",
         "1",
         "1635.6599999999999",
         "3",
         "1",
         "4",
         "314",
         "Dormant Big Spender",
         "VIP reactivation + concierge support"
        ],
        [
         "42",
         "12399.0",
         "2011-08-12 13:15:00",
         "118",
         "4",
         "1108.65",
         "2",
         "4",
         "4",
         "244",
         "At Risk",
         "Win-back campaign + personalized email"
        ],
        [
         "43",
         "12401.0",
         "2011-02-09 13:50:00",
         "302",
         "1",
         "84.3",
         "1",
         "1",
         "1",
         "111",
         "Lost",
         "Automated reactivation with discount"
        ],
        [
         "44",
         "12402.0",
         "2011-01-20 13:49:00",
         "322",
         "1",
         "225.6",
         "1",
         "1",
         "1",
         "111",
         "Lost",
         "Automated reactivation with discount"
        ],
        [
         "45",
         "12403.0",
         "2011-10-21 11:00:00",
         "49",
         "2",
         "409.7",
         "3",
         "2",
         "2",
         "322",
         "Hibernating",
         "Reactivation email with flash offer"
        ],
        [
         "46",
         "12405.0",
         "2011-07-14 08:52:00",
         "148",
         "1",
         "1710.39",
         "2",
         "1",
         "4",
         "214",
         "Dormant Big Spender",
         "VIP reactivation + concierge support"
        ],
        [
         "47",
         "12406.0",
         "2011-11-17 19:22:00",
         "21",
         "3",
         "3280.75",
         "4",
         "3",
         "5",
         "435",
         "Potential Loyalist",
         "Bundle deals or subscription push"
        ],
        [
         "48",
         "12407.0",
         "2011-10-21 10:11:00",
         "49",
         "5",
         "1708.1200000000001",
         "3",
         "4",
         "4",
         "344",
         "Loyal",
         "Offer loyalty rewards or exclusive deals"
        ],
        [
         "49",
         "12408.0",
         "2011-11-07 12:30:00",
         "32",
         "9",
         "2842.57",
         "3",
         "5",
         "5",
         "355",
         "Loyal",
         "Offer loyalty rewards or exclusive deals"
        ]
       ],
       "shape": {
        "columns": 11,
        "rows": 4372
       }
      },
      "text/html": [
       "<div>\n",
       "<style scoped>\n",
       "    .dataframe tbody tr th:only-of-type {\n",
       "        vertical-align: middle;\n",
       "    }\n",
       "\n",
       "    .dataframe tbody tr th {\n",
       "        vertical-align: top;\n",
       "    }\n",
       "\n",
       "    .dataframe thead th {\n",
       "        text-align: right;\n",
       "    }\n",
       "</style>\n",
       "<table border=\"1\" class=\"dataframe\">\n",
       "  <thead>\n",
       "    <tr style=\"text-align: right;\">\n",
       "      <th></th>\n",
       "      <th>CustomerID</th>\n",
       "      <th>LastPurchaseDate</th>\n",
       "      <th>Recency</th>\n",
       "      <th>Frequency</th>\n",
       "      <th>Monetary</th>\n",
       "      <th>R_Score</th>\n",
       "      <th>F_Score</th>\n",
       "      <th>M_Score</th>\n",
       "      <th>RFM_Score</th>\n",
       "      <th>Segment</th>\n",
       "      <th>Marketing_Action</th>\n",
       "    </tr>\n",
       "  </thead>\n",
       "  <tbody>\n",
       "    <tr>\n",
       "      <th>0</th>\n",
       "      <td>12346.0</td>\n",
       "      <td>2011-01-18 10:17:00</td>\n",
       "      <td>325</td>\n",
       "      <td>2</td>\n",
       "      <td>0.00</td>\n",
       "      <td>1</td>\n",
       "      <td>2</td>\n",
       "      <td>1</td>\n",
       "      <td>121</td>\n",
       "      <td>Lost</td>\n",
       "      <td>Automated reactivation with discount</td>\n",
       "    </tr>\n",
       "    <tr>\n",
       "      <th>1</th>\n",
       "      <td>12347.0</td>\n",
       "      <td>2011-12-07 15:52:00</td>\n",
       "      <td>1</td>\n",
       "      <td>7</td>\n",
       "      <td>4310.00</td>\n",
       "      <td>5</td>\n",
       "      <td>4</td>\n",
       "      <td>5</td>\n",
       "      <td>545</td>\n",
       "      <td>Potential Loyalist</td>\n",
       "      <td>Bundle deals or subscription push</td>\n",
       "    </tr>\n",
       "    <tr>\n",
       "      <th>2</th>\n",
       "      <td>12348.0</td>\n",
       "      <td>2011-09-25 13:13:00</td>\n",
       "      <td>74</td>\n",
       "      <td>4</td>\n",
       "      <td>1797.24</td>\n",
       "      <td>2</td>\n",
       "      <td>3</td>\n",
       "      <td>4</td>\n",
       "      <td>234</td>\n",
       "      <td>Dormant Big Spender</td>\n",
       "      <td>VIP reactivation + concierge support</td>\n",
       "    </tr>\n",
       "    <tr>\n",
       "      <th>3</th>\n",
       "      <td>12349.0</td>\n",
       "      <td>2011-11-21 09:51:00</td>\n",
       "      <td>18</td>\n",
       "      <td>1</td>\n",
       "      <td>1757.55</td>\n",
       "      <td>4</td>\n",
       "      <td>1</td>\n",
       "      <td>4</td>\n",
       "      <td>414</td>\n",
       "      <td>Recent High Spender</td>\n",
       "      <td>Cross-sell with next-order discount</td>\n",
       "    </tr>\n",
       "    <tr>\n",
       "      <th>4</th>\n",
       "      <td>12350.0</td>\n",
       "      <td>2011-02-02 16:01:00</td>\n",
       "      <td>309</td>\n",
       "      <td>1</td>\n",
       "      <td>334.40</td>\n",
       "      <td>1</td>\n",
       "      <td>1</td>\n",
       "      <td>2</td>\n",
       "      <td>112</td>\n",
       "      <td>Lost</td>\n",
       "      <td>Automated reactivation with discount</td>\n",
       "    </tr>\n",
       "    <tr>\n",
       "      <th>...</th>\n",
       "      <td>...</td>\n",
       "      <td>...</td>\n",
       "      <td>...</td>\n",
       "      <td>...</td>\n",
       "      <td>...</td>\n",
       "      <td>...</td>\n",
       "      <td>...</td>\n",
       "      <td>...</td>\n",
       "      <td>...</td>\n",
       "      <td>...</td>\n",
       "      <td>...</td>\n",
       "    </tr>\n",
       "    <tr>\n",
       "      <th>4367</th>\n",
       "      <td>18280.0</td>\n",
       "      <td>2011-03-07 09:52:00</td>\n",
       "      <td>277</td>\n",
       "      <td>1</td>\n",
       "      <td>180.60</td>\n",
       "      <td>1</td>\n",
       "      <td>2</td>\n",
       "      <td>1</td>\n",
       "      <td>121</td>\n",
       "      <td>Lost</td>\n",
       "      <td>Automated reactivation with discount</td>\n",
       "    </tr>\n",
       "    <tr>\n",
       "      <th>4368</th>\n",
       "      <td>18281.0</td>\n",
       "      <td>2011-06-12 10:53:00</td>\n",
       "      <td>180</td>\n",
       "      <td>1</td>\n",
       "      <td>80.82</td>\n",
       "      <td>1</td>\n",
       "      <td>2</td>\n",
       "      <td>1</td>\n",
       "      <td>121</td>\n",
       "      <td>Lost</td>\n",
       "      <td>Automated reactivation with discount</td>\n",
       "    </tr>\n",
       "    <tr>\n",
       "      <th>4369</th>\n",
       "      <td>18282.0</td>\n",
       "      <td>2011-12-02 11:43:00</td>\n",
       "      <td>7</td>\n",
       "      <td>3</td>\n",
       "      <td>176.60</td>\n",
       "      <td>5</td>\n",
       "      <td>3</td>\n",
       "      <td>1</td>\n",
       "      <td>531</td>\n",
       "      <td>Potential Loyalist</td>\n",
       "      <td>Bundle deals or subscription push</td>\n",
       "    </tr>\n",
       "    <tr>\n",
       "      <th>4370</th>\n",
       "      <td>18283.0</td>\n",
       "      <td>2011-12-06 12:02:00</td>\n",
       "      <td>3</td>\n",
       "      <td>16</td>\n",
       "      <td>2094.88</td>\n",
       "      <td>5</td>\n",
       "      <td>5</td>\n",
       "      <td>5</td>\n",
       "      <td>555</td>\n",
       "      <td>Potential Loyalist</td>\n",
       "      <td>Bundle deals or subscription push</td>\n",
       "    </tr>\n",
       "    <tr>\n",
       "      <th>4371</th>\n",
       "      <td>18287.0</td>\n",
       "      <td>2011-10-28 09:29:00</td>\n",
       "      <td>42</td>\n",
       "      <td>3</td>\n",
       "      <td>1837.28</td>\n",
       "      <td>3</td>\n",
       "      <td>3</td>\n",
       "      <td>4</td>\n",
       "      <td>334</td>\n",
       "      <td>Dormant Big Spender</td>\n",
       "      <td>VIP reactivation + concierge support</td>\n",
       "    </tr>\n",
       "  </tbody>\n",
       "</table>\n",
       "<p>4372 rows × 11 columns</p>\n",
       "</div>"
      ],
      "text/plain": [
       "     CustomerID    LastPurchaseDate  Recency  Frequency  Monetary  R_Score  \\\n",
       "0       12346.0 2011-01-18 10:17:00      325          2      0.00        1   \n",
       "1       12347.0 2011-12-07 15:52:00        1          7   4310.00        5   \n",
       "2       12348.0 2011-09-25 13:13:00       74          4   1797.24        2   \n",
       "3       12349.0 2011-11-21 09:51:00       18          1   1757.55        4   \n",
       "4       12350.0 2011-02-02 16:01:00      309          1    334.40        1   \n",
       "...         ...                 ...      ...        ...       ...      ...   \n",
       "4367    18280.0 2011-03-07 09:52:00      277          1    180.60        1   \n",
       "4368    18281.0 2011-06-12 10:53:00      180          1     80.82        1   \n",
       "4369    18282.0 2011-12-02 11:43:00        7          3    176.60        5   \n",
       "4370    18283.0 2011-12-06 12:02:00        3         16   2094.88        5   \n",
       "4371    18287.0 2011-10-28 09:29:00       42          3   1837.28        3   \n",
       "\n",
       "      F_Score  M_Score RFM_Score              Segment  \\\n",
       "0           2        1       121                 Lost   \n",
       "1           4        5       545   Potential Loyalist   \n",
       "2           3        4       234  Dormant Big Spender   \n",
       "3           1        4       414  Recent High Spender   \n",
       "4           1        2       112                 Lost   \n",
       "...       ...      ...       ...                  ...   \n",
       "4367        2        1       121                 Lost   \n",
       "4368        2        1       121                 Lost   \n",
       "4369        3        1       531   Potential Loyalist   \n",
       "4370        5        5       555   Potential Loyalist   \n",
       "4371        3        4       334  Dormant Big Spender   \n",
       "\n",
       "                          Marketing_Action  \n",
       "0     Automated reactivation with discount  \n",
       "1        Bundle deals or subscription push  \n",
       "2     VIP reactivation + concierge support  \n",
       "3      Cross-sell with next-order discount  \n",
       "4     Automated reactivation with discount  \n",
       "...                                    ...  \n",
       "4367  Automated reactivation with discount  \n",
       "4368  Automated reactivation with discount  \n",
       "4369     Bundle deals or subscription push  \n",
       "4370     Bundle deals or subscription push  \n",
       "4371  VIP reactivation + concierge support  \n",
       "\n",
       "[4372 rows x 11 columns]"
      ]
     },
     "execution_count": 187,
     "metadata": {},
     "output_type": "execute_result"
    }
   ],
   "source": [
    "rfm['Marketing_Action'] = rfm['Segment'].map({\n",
    "    'Champion': 'Send VIP offers & early access',\n",
    "    'Loyal': 'Offer loyalty rewards or exclusive deals',\n",
    "    'Recent High Spender': 'Cross-sell with next-order discount',\n",
    "    'New Customer': 'Welcome campaign + discount on 2nd order',\n",
    "    'Potential Loyalist': 'Bundle deals or subscription push',\n",
    "    'Need Attention': 'Send reminder + limited-time discount',\n",
    "    'Hibernating': 'Reactivation email with flash offer',\n",
    "    'At Risk': 'Win-back campaign + personalized email',\n",
    "    'Dormant Big Spender': 'VIP reactivation + concierge support',\n",
    "    'Lost': 'Automated reactivation with discount',\n",
    "})\n",
    "rfm\n"
   ]
  },
  {
   "cell_type": "code",
   "execution_count": 209,
   "id": "a8bde3e9",
   "metadata": {},
   "outputs": [
    {
     "data": {
      "image/png": "[encoded data removed]",
      "text/plain": [
       "<Figure size 2000x600 with 1 Axes>"
      ]
     },
     "metadata": {},
     "output_type": "display_data"
    }
   ],
   "source": [
    "plt.figure(figsize=(20, 6))\n",
    "sns.countplot(data=rfm, x='Segment')\n",
    "plt.title('Customer Count per RFM Segment')\n",
    "plt.show()"
   ]
  },
  {
   "cell_type": "code",
   "execution_count": 217,
   "id": "37c1a111",
   "metadata": {},
   "outputs": [
    {
     "data": {
      "image/png": "[encoded data removed]",
      "text/plain": [
       "<Figure size 640x480 with 2 Axes>"
      ]
     },
     "metadata": {},
     "output_type": "display_data"
    }
   ],
   "source": [
    "sns.heatmap(rfm.groupby('Segment')[['R_Score', 'F_Score', 'M_Score']].mean(),annot=True)\n",
    "plt.show()"
   ]
  }
 ],
 "metadata": {
  "kernelspec": {
   "display_name": "analysis",
   "language": "python",
   "name": "python3"
  },
  "language_info": {
   "codemirror_mode": {
    "name": "ipython",
    "version": 3
   },
   "file_extension": ".py",
   "mimetype": "text/x-python",
   "name": "python",
   "nbconvert_exporter": "python",
   "pygments_lexer": "ipython3",
   "version": "3.10.16"
  }
 },
 "nbformat": 4,
 "nbformat_minor": 5
}
