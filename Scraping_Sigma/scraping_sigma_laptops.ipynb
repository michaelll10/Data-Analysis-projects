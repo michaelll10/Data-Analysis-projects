{
 "cells": [
  {
   "cell_type": "code",
   "execution_count": 1,
   "id": "0a73f8fc",
   "metadata": {},
   "outputs": [],
   "source": [
    "import requests\n",
    "from bs4 import BeautifulSoup"
   ]
  },
  {
   "cell_type": "code",
   "execution_count": 2,
   "id": "5e894aac",
   "metadata": {},
   "outputs": [
    {
     "data": {
      "text/plain": [
       "<Response [200]>"
      ]
     },
     "execution_count": 2,
     "metadata": {},
     "output_type": "execute_result"
    }
   ],
   "source": [
    "res=requests.get(\"https://www.sigma-computer.com/search?search=laptop&submit_search=&route=product%2Fsearch\")\n",
    "res"
   ]
  },
  {
   "cell_type": "code",
   "execution_count": 3,
   "id": "2affed0a",
   "metadata": {},
   "outputs": [],
   "source": [
    "soup=BeautifulSoup(res.text,\"html.parser\")"
   ]
  },
  {
   "cell_type": "code",
   "execution_count": 5,
   "id": "5b7bfd89",
   "metadata": {},
   "outputs": [
    {
     "data": {
      "text/plain": [
       "<div class=\"product-item-container\">\n",
       "<div class=\"left-block left-b\">\n",
       "<div class=\"product-image-container second_img\">\n",
       "<a href=\"item?id=8127&amp;name=MSI_Thin_15_A_B7VF_AMD_Ryzen_7_7735HS_-_NVIDIA_RTX_4060_8GB_-_16GB_DDR5_4800MHz_-__512GB_SSD_-_15.6_FHD_144Hz_IPS_-_Windows_11_\" target=\"_self\" title=\"MSI Thin 15 A B7VF AMD Ryzen 7 7735HS - NVIDIA RTX 4060 8GB - 16GB DDR5 4800MHz -  512GB SSD - 15.6 FHD 144Hz IPS - Windows 11 \">\n",
       "<img alt=\"image1\" class=\"img-1 img-responsive\" id=\"img_81271\" src=\"image/products/1745460547.webp\"/>\n",
       "<img alt=\"image2\" class=\"img-2 img-responsive\" id=\"img_461472\" src=\"image/products/1745460547.webp\"/>\n",
       "</a>\n",
       "</div>\n",
       "<!--quickview\n",
       "                                    <div class=\"so-quickview\">\n",
       "                                   <a class=\"iframe-link btn-button quickview quickview_handler visible-lg\" href=\"q?id=8127\" title=\"Quick view\" data-fancybox-type=\"iframe\"><i class=\"fa fa-eye\"></i><span>Quick view</span></a>\n",
       "                                    </div>\n",
       "                                    <!--end quickview-->\n",
       "</div>\n",
       "<div class=\"right-block\">\n",
       "<div class=\"button-group so-quickview cartinfo--left\">\n",
       "<button class=\"addToCart\" onclick=\"cart.add('8127 ','15','image/products/1745460547.webp','MSI Thin 15 A B7VF AMD Ryzen 7 7735HS - NVIDIA RTX 4060 8GB - 16GB DDR5 4800MHz -  512GB SSD - 15.6 FHD 144Hz IPS - Windows 11 ','47949','1')\" title=\"Add to cart\" type=\"button\">\n",
       "<span>Add to Cart </span>\n",
       "</button>\n",
       "<button class=\"wishlist btn-button\" onclick=\"wishlist.add('60');\" title=\"Add to Wish List\" type=\"button\"><i class=\"fa fa-heart-o\"></i>\n",
       "</button>\n",
       "<button class=\"compare btn-button\" onclick=\"compare.add('60');\" title=\"Compare this Product \" type=\"button\"><i class=\"fa fa-retweet\"></i>\n",
       "</button>\n",
       "</div>\n",
       "<div class=\"caption hide-cont\">\n",
       "<h4><a href=\"item?id=8127&amp;name=MSI_Thin_15_A_B7VF_AMD_Ryzen_7_7735HS_-_NVIDIA_RTX_4060_8GB_-_16GB_DDR5_4800MHz_-__512GB_SSD_-_15.6_FHD_144Hz_IPS_-_Windows_11_\" target=\"_self\" title=\"MSI Thin 15 A B7VF AMD Ryzen 7 7735HS - NVIDIA RTX 4060 8GB - 16GB DDR5 4800MHz -  512GB SSD - 15.6 FHD 144Hz IPS - Windows 11 \">MSI Thin 15 A B7VF AMD Ryzen 7 7735HS - NVIDIA RTX 4060 8GB - 16GB DDR5 4800MHz -  512GB SSD - 15.6 FHD 144Hz IPS - Windows 11 </a></h4>\n",
       "</div>\n",
       "<div class=\"row\">\n",
       "<div class=\"col-md-6\">\n",
       "<span class=\"bullet\"> ● </span><span class=\"stock\"> In Stock  </span>\n",
       "</div>\n",
       "<div class=\"col-md-6\">\n",
       "<p class=\"price\">\n",
       "<span class=\"price-new\">47949 LE</span>\n",
       "<span class=\"price-old\">49999</span>\n",
       "</p>\n",
       "</div>\n",
       "</div>\n",
       "<div class=\"description item-desc\">\n",
       "<a href=\"item?id=8127\">\n",
       "<p><p data-end=\"73\" data-start=\"0\">MSI Thin 15 A B7VF Gaming Laptop:</p>\n",
       "<ul data-end=\"445\" data-is-last-node=\"\" data-is-only-node=\"\" data-start=\"75\">\n",
       "<li data-end=\"133\" data-start=\"75\">\n",
       "<p data-end=\"133\" data-start=\"77\"><strong data-end=\"90\" data-start=\"77\">Processor</strong>: AMD Ryzen 7 7735HS (8 cores / 16 threads)</p>\n",
       "</li>\n",
       "<li data-end=\"185\" data-start=\"134\">\n",
       "<p data-end=\"185\" data-start=\"136\"><strong data-end=\"148\" data-start=\"136\">Graphics</strong>: NVIDIA GeForce RTX 4060 (8GB GDDR6)</p>\n",
       "</li>\n",
       "<li data-end=\"216\" data-start=\"186\">\n",
       "<p data-end=\"216\" data-start=\"188\"><strong data-end=\"195\" data-start=\"188\">RAM</strong>: 16GB (2x8) DDR5 (4800MHz) </p>\n",
       "</li>\n",
       "<li data-end=\"251\" data-start=\"217\">\n",
       "<p data-end=\"251\" data-start=\"219\"><strong data-end=\"230\" data-start=\"219\">Storage</strong>: 512GB NVMe PCIe SSD</p>\n",
       "</li>\n",
       "<li data-end=\"298\" data-start=\"252\">\n",
       "<p data-end=\"298\" data-start=\"254\"><strong data-end=\"265\" data-start=\"254\">Display</strong>: 15.6\" FHD 144Hz IPS (1920x1080)</p>\n",
       "</li>\n",
       "<li data-end=\"338\" data-start=\"299\">\n",
       "<p data-end=\"338\" data-start=\"301\"><strong data-end=\"321\" data-start=\"301\">Operating System</strong>: Windows 11 Home</p>\n",
       "</li>\n",
       "<li data-end=\"369\" data-start=\"339\">\n",
       "<p data-end=\"369\" data-start=\"341\"><strong data-end=\"353\" data-start=\"341\">Keyboard</strong>: Backlit (Blue)</p>\n",
       "</li>\n",
       "<li data-end=\"399\" data-start=\"370\">\n",
       "<p data-end=\"399\" data-start=\"372\"><strong data-end=\"383\" data-start=\"372\">Battery</strong>: 52.4Wh, 3-cell</p>\n",
       "</li>\n",
       "<li data-end=\"421\" data-start=\"400\">\n",
       "<p data-end=\"421\" data-start=\"402\"><strong data-end=\"412\" data-start=\"402\">Weight</strong>: 1.86 kg</p>\n",
       "</li>\n",
       "<li data-end=\"445\" data-start=\"422\">\n",
       "<p data-end=\"445\" data-start=\"424\"><strong data-end=\"436\" data-start=\"424\">Warranty</strong>: 2 years</p>\n",
       "</li>\n",
       "</ul>\n",
       "</p> </a>\n",
       "</div>\n",
       "<div class=\"list-block\">\n",
       "<button class=\"addToCart\" onclick=\"cart.add('8127 ','15','image/products/1745460547.webp','MSI Thin 15 A B7VF AMD Ryzen 7 7735HS - NVIDIA RTX 4060 8GB - 16GB DDR5 4800MHz -  512GB SSD - 15.6 FHD 144Hz IPS - Windows 11 ','47949','1')\" title=\"Add to cart\" type=\"button\">\n",
       "<span>Add to Cart </span>\n",
       "</button>\n",
       "<button class=\"wishlist btn-button\" onclick=\"wishlist.add('101');\" title=\"Add to Wish List\" type=\"button\"><i class=\"fa fa-heart\"></i>\n",
       "</button>\n",
       "<button class=\"compare btn-button\" onclick=\"compare.add('101');\" title=\"Compare this Product\" type=\"button\"><i class=\"fa fa-refresh\"></i>\n",
       "</button>\n",
       "<!--quickview\n",
       "            <a class=\"iframe-link btn-button quickview quickview_handler visible-lg\" href=\"q?id=8127\" title=\"Quick view\" data-fancybox-type=\"iframe\"><i class=\"fa fa-eye\"></i></a>\n",
       "                                        <!--end quickview-->\n",
       "</div>\n",
       "</div>\n",
       "</div>"
      ]
     },
     "execution_count": 5,
     "metadata": {},
     "output_type": "execute_result"
    }
   ],
   "source": [
    "products = soup.find_all(\"div\", class_=\"product-item-container\")\n",
    "products[0]\n"
   ]
  },
  {
   "cell_type": "code",
   "execution_count": 6,
   "id": "54379145",
   "metadata": {},
   "outputs": [
    {
     "data": {
      "text/plain": [
       "'In Stock'"
      ]
     },
     "execution_count": 6,
     "metadata": {},
     "output_type": "execute_result"
    }
   ],
   "source": [
    "products_name=products[1].find(\"div\", attrs={\"class\":\"caption hide-cont\"}).find(\"h4\").text.strip()\n",
    "products_name\n",
    "products_price=products[1].find(\"span\", attrs={\"class\":\"price-new\"}).text.split()[0]\n",
    "products_price=int(products_price)\n",
    "products_price\n",
    "if products_price > 7000:\n",
    "    products_name=products[1].find(\"div\", attrs={\"class\":\"caption hide-cont\"}).find(\"h4\").text.strip()\n",
    "    products_name\n",
    "    products_stock=products[1].find(\"div\", attrs={\"class\":\"col-md-6\"}).text.strip().strip(\"●  \")\n",
    "products_stock\n",
    "\n",
    "\n",
    "        \n",
    "  \n"
   ]
  },
  {
   "cell_type": "code",
   "execution_count": 6,
   "id": "5fce5dc3",
   "metadata": {},
   "outputs": [],
   "source": [
    "with open(\"products.csv\", \"w\", encoding=\"UTF_8\") as f:\n",
    "    f.write(\"name,price,stock\\n\")\n",
    "    for i in range(len(products)):\n",
    "        products_price=products[i].find(\"span\", attrs={\"class\":\"price-new\"}).text.split()[0]\n",
    "        products_price=int(products_price)\n",
    "        products_price\n",
    "        products_name=products[i].find(\"div\", attrs={\"class\":\"caption hide-cont\"}).find(\"h4\").text.strip()\n",
    "        products_name\n",
    "        products_stock=products[i].find(\"div\", attrs={\"class\":\"col-md-6\"}).text.strip().strip(\"●  \")\n",
    "        if products_price > 7000:\n",
    "            f.write(f\"{products_name},{products_price},{products_stock}\\n\")\n",
    "\n",
    "        \n",
    "    \n"
   ]
  },
  {
   "cell_type": "code",
   "execution_count": 7,
   "id": "0ef91a5c",
   "metadata": {},
   "outputs": [
    {
     "data": {
      "text/plain": [
       "'https://www.sigma-computer.com/item?id=8103&name=ASUS_ZenScreen_Touch_MB16AMT_is_a_15.6-inch_Full_HD_IPS_portable_monitor_with_10-point_touch__USB-C_and_Micro_HDMI_connectivity__a_7800mAh_battery_for_up_to_4_hours_of_use__and_a_foldable_smart_case'"
      ]
     },
     "execution_count": 7,
     "metadata": {},
     "output_type": "execute_result"
    }
   ],
   "source": [
    "products_link=products[1].find(\"div\", attrs={\"class\":\"caption hide-cont\"}).find(\"h4\").find(\"a\")[\"href\"]\n",
    "base_url=\"https://www.sigma-computer.com/\"\n",
    "products_link=base_url+products_link\n",
    "products_link\n"
   ]
  },
  {
   "cell_type": "code",
   "execution_count": 7,
   "id": "1da1c085",
   "metadata": {},
   "outputs": [
    {
     "data": {
      "text/plain": [
       "<Response [200]>"
      ]
     },
     "execution_count": 7,
     "metadata": {},
     "output_type": "execute_result"
    }
   ],
   "source": [
    "res2=requests.get(products_link)\n",
    "res2"
   ]
  },
  {
   "cell_type": "code",
   "execution_count": 11,
   "id": "23462d46",
   "metadata": {},
   "outputs": [
    {
     "data": {
      "text/plain": [
       "' ASUS'"
      ]
     },
     "execution_count": 11,
     "metadata": {},
     "output_type": "execute_result"
    }
   ],
   "source": [
    "soup2=BeautifulSoup(res2.text,\"html.parser\")\n",
    "products_model = soup2.find(\"div\", class_=\"model\").find(\"a\").text.strip()\n",
    "products_brand=soup2.find(\"div\", attrs={\"class\": \"brand\"}).find(\"a\").text\n",
    "products_brand\n",
    "\n",
    "\n"
   ]
  },
  {
   "cell_type": "code",
   "execution_count": 8,
   "id": "6af233f8",
   "metadata": {},
   "outputs": [
    {
     "name": "stdout",
     "output_type": "stream",
     "text": [
      "Laptop number 1\n",
      "Laptop number 2\n",
      "Laptop number 4\n",
      "Laptop number 5\n"
     ]
    }
   ],
   "source": [
    "import requests\n",
    "from bs4 import BeautifulSoup\n",
    "\n",
    "base_url = 'https://www.sigma-computer.com/'  \n",
    "\n",
    "with open(\"products.csv\", \"w\", encoding=\"UTF-8\") as f:\n",
    "    f.write(\"name,brand,price,stock,model,processor,ram,storage,description\\n\")\n",
    "    \n",
    "    for i in range(5):\n",
    "        products_price = int(products[i].find(\"span\", class_=\"price-new\").text.split()[0])\n",
    "\n",
    "        if products_price > 7000:\n",
    "            print(f\"Laptop number {i+1}\")\n",
    "            products_name = products[i].find(\"div\", class_=\"caption hide-cont\").find(\"h4\").text.strip()\n",
    "            products_stock = products[i].find(\"div\", class_=\"col-md-6\").text.replace(\"●\", \"\").strip()\n",
    "            products_link = base_url + products[i].find(\"div\", class_=\"caption hide-cont\").find(\"h4\").find(\"a\")[\"href\"]\n",
    "\n",
    "            res2 = requests.get(products_link)\n",
    "            soup2 = BeautifulSoup(res2.text, \"html.parser\")\n",
    "\n",
    "            if soup2.find(\"div\", class_=\"model\") is None:\n",
    "                products_model = \"N/A\"\n",
    "            else:\n",
    "                products_model = soup2.find(\"div\", class_=\"model\").find(\"a\").text.strip()\n",
    "\n",
    "            if soup2.find(\"div\", attrs={\"class\": \"brand\"}) is None:\n",
    "                products_brand = \"N/A\"\n",
    "            else:\n",
    "                products_brand = soup2.find(\"div\", attrs={\"class\": \"brand\"}).find(\"a\").text.strip()\n",
    "\n",
    "            processor = \"N/A\"\n",
    "            ram = \"N/A\"\n",
    "            storage = \"N/A\"\n",
    "            \n",
    "\n",
    "            if \"intel\" in products_name.lower():\n",
    "                processor = \"Intel Processor\"\n",
    "            if \"ryzen\" in products_name.lower():\n",
    "                if \"ryzen 7\" in products_name.lower():\n",
    "                    processor = \"AMD Ryzen 7\"\n",
    "                elif \"ryzen 5\" in products_name.lower():\n",
    "                    processor = \"AMD Ryzen 5\"\n",
    "                elif \"ryzen 3\" in products_name.lower():\n",
    "                    processor = \"AMD Ryzen 3\"\n",
    "                else:\n",
    "                    processor = \"AMD Ryzen\"  \n",
    "            elif \"amd\" in products_name.lower():\n",
    "            \n",
    "                processor = \"AMD Processor\"\n",
    "            \n",
    "            if \"core i9\" in products_name.lower():\n",
    "                processor = \"Intel Core i9\"  \n",
    "            elif \"core i7\" in products_name.lower():\n",
    "                processor = \"Intel Core i7\"\n",
    "            elif \"core i5\" in products_name.lower():\n",
    "                processor = \"Intel Core i5\"\n",
    "            elif \"core i3\" in products_name.lower():\n",
    "                processor = \"Intel Core i3\"\n",
    "\n",
    "            if \"16gb\" in products_name.lower() or \"16 gb\" in products_name.lower():\n",
    "                ram = \"16GB RAM\"\n",
    "            elif \"8gb\" in products_name.lower() or \"8 gb\" in products_name.lower():\n",
    "                ram = \"8GB RAM\"\n",
    "            elif \"6gb\" in products_name.lower() or \"6 gb\" in products_name.lower():\n",
    "                ram = \"6GB RAM\"\n",
    "            elif \"4gb\" in products_name.lower() or \"4 gb\" in products_name.lower():\n",
    "                ram = \"4GB RAM\"\n",
    "            \n",
    "            \n",
    "            if \"ssd\" in products_name.lower():\n",
    "                if \"1tb\" in products_name.lower():\n",
    "                    storage = \"1TB SSD\"\n",
    "                elif \"512gb\" in products_name.lower():\n",
    "                    storage = \"512GB SSD\"\n",
    "                elif \"256gb\" in products_name.lower():\n",
    "                    storage = \"256GB SSD\"\n",
    "                else:\n",
    "                    storage = \"N/A SSD\"\n",
    "            elif \"hdd\" in products_name.lower():\n",
    "                if \"1tb\" in products_name.lower():\n",
    "                    storage = \"1TB HDD\"\n",
    "                elif \"512gb\" in products_name.lower():\n",
    "                    storage = \"512GB HDD\"\n",
    "                elif \"256gb\" in products_name.lower():\n",
    "                    storage = \"256GB HDD\"\n",
    "                else:\n",
    "                    storage = \"N/A HDD\"\n",
    "            elif \"hybrid\" in products_name.lower():\n",
    "                if \"1tb\" in products_name.lower():\n",
    "                    storage = \"1TB Hybrid\"\n",
    "                elif \"512gb\" in products_name.lower():\n",
    "                    storage = \"512GB Hybrid\"\n",
    "                elif \"256gb\" in products_name.lower():\n",
    "                    storage = \"256GB Hybrid\"\n",
    "                else:\n",
    "                    storage = \"N/A Hybrid\"\n",
    "            else:\n",
    "                storage = \"N/A\"\n",
    "\n",
    "            description = soup2.find(\"div\", attrs={\"class\": \"inner-box-desc\"})\n",
    "            if description:\n",
    "                description = description.text.strip().replace(\"\\n\", \" \").replace(\"\\r\", \" \").replace(\",\", \" \")\n",
    "            else:\n",
    "                description = \"N/A\"\n",
    "\n",
    "            f.write(f'\\\"{products_name}\\\",\\\"{products_brand}\\\",\\\"{products_price}\\\",\\\"{products_stock}\\\",'\n",
    "                    f'\\\"{products_model}\\\",\\\"{processor}\\\",\\\"{ram}\\\",\\\"{storage}\\\",\\\"{description}\\\"\\n')\n"
   ]
  },
  {
   "cell_type": "code",
   "execution_count": 9,
   "id": "cba8acf3",
   "metadata": {},
   "outputs": [
    {
     "data": {
      "application/vnd.microsoft.datawrangler.viewer.v0+json": {
       "columns": [
        {
         "name": "index",
         "rawType": "int64",
         "type": "integer"
        },
        {
         "name": "name",
         "rawType": "object",
         "type": "string"
        },
        {
         "name": "brand",
         "rawType": "object",
         "type": "string"
        },
        {
         "name": "price",
         "rawType": "int64",
         "type": "integer"
        },
        {
         "name": "stock",
         "rawType": "object",
         "type": "string"
        },
        {
         "name": "model",
         "rawType": "object",
         "type": "string"
        },
        {
         "name": "processor",
         "rawType": "object",
         "type": "unknown"
        },
        {
         "name": "ram",
         "rawType": "object",
         "type": "unknown"
        },
        {
         "name": "storage",
         "rawType": "object",
         "type": "unknown"
        },
        {
         "name": "description",
         "rawType": "object",
         "type": "string"
        }
       ],
       "conversionMethod": "pd.DataFrame",
       "ref": "648b6655-5b61-4e85-a6ca-eee293818caa",
       "rows": [
        [
         "0",
         "MSI Thin 15 A B7VF AMD Ryzen 7 7735HS - NVIDIA RTX 4060 8GB - 16GB DDR5 4800MHz -  512GB SSD - 15.6 FHD 144Hz IPS - Windows 11",
         "MSI",
         "47949",
         "In Stock",
         "Thin A15 B7V",
         "AMD Ryzen 7",
         "16GB RAM",
         "512GB SSD",
         "Brand : MSI      Model : Thin A15 B7V  Seller : sigma  Viewed :   537 items   MSI Thin 15 A B7VF Gaming Laptop:   Processor: AMD Ryzen 7 7735HS (8 cores / 16 threads)   Graphics: NVIDIA GeForce RTX 4060 (8GB GDDR6)   RAM: 16GB (2x8) DDR5 (4800MHz)    Storage: 512GB NVMe PCIe SSD   Display: 15.6 FHD 144Hz IPS (1920x1080)   Operating System: Windows 11 Home   Keyboard: Backlit (Blue)   Battery: 52.4Wh  3-cell   Weight: 1.86 kg   Warranty: 2 years\""
        ],
        [
         "1",
         "ASUS ZenScreen Touch MB16AMT is a 15.6-inch Full HD IPS portable monitor with 10-point touch  USB-C and Micro HDMI connectivity  a 7800mAh battery for up to 4 hours of use  and a foldable smart case",
         "ASUS",
         "18500",
         "In Stock",
         "ZenScreen Touch MB16AMT",
         null,
         null,
         null,
         "Brand : ASUS      Model :  ZenScreen Touch MB16AMT  Seller : sigma  Viewed :   468 items   ASUS ZenScreen Touch MB16AMT:   Display: 15.6-inch Full HD IPS  1920x1080 resolution  60Hz refresh rate  178° viewing angle  10-point touch   Battery: 7800mAh  up to 4 hours of use   Connectivity: USB-C  Micro HDMI  compatible with laptops  smartphones  gaming consoles  and cameras   Audio: Built-in 1W x 2 speakers   Design: Ultra-slim (9mm)  0.9 kg  foldable smart case (portrait/landscape stand)   Additional Features: Flicker-free  Low Blue Light  HDCP support  SPLENDID technology   Accessories: Smart case  USB-C to A adapter  HDMI cable  power adapter  ZenScreen pen"
        ],
        [
         "2",
         "Lenovo LEGION 5 16IRX9 83DG00EEUS Intel Core i7-13650HX - NVIDIA GeForce RTX 4060 8GB - 16GB DDR5 4800Mhz - 1TB SSD M.2 - 16 WQXGA IPS 100  sRGB 165Hz - Windows 11",
         "Lenovo",
         "64999",
         "In Stock",
         "83DG00EEUS",
         "Intel Core i7",
         "16GB RAM",
         "1TB SSD",
         "Brand : Lenovo      Model : 83DG00EEUS   Seller : sigma  Viewed :   2669 items   Lenovo LEGION 5 16IRX9 (Model: 83DG00EEUS) AI-Powered Gaming Laptop   CPU: Intel® Core™ i7-13650HX (14 Cores  up to 4.9GHz)   GPU: NVIDIA® GeForce RTX™ 4060 8GB (TGP 140W)   RAM: 16GB DDR5-4800 (Upgradable to 64GB)   Storage: 1TB PCIe® 4.0 SSD   Display: 16 WQXGA (2560x1600)  165Hz  100% sRGB  G-SYNC®   Battery: 80Wh   Build: Aluminium top  4-Zone RGB Keyboard   Weight: 2.36 kg   Connectivity: Wi-Fi 6E  Bluetooth 5.2  USB-C with DisplayPort & PD  HDMI 2.1   OS: Windows® 11 Home   Extras: AI LA1 Chip  FHD Webcam with E-shutter  Nahimic Audio\""
        ],
        [
         "3",
         "Gigabyte G6 KF Intel Core i7-13620H - NVIDIA GeForce RTX 4060 8GB - 16GB 4800Mhz DDR5 - 1T SSD - 16.0 FHD  IPS 165Hz - Windows 11 Home",
         "Gigabyte",
         "47999",
         "In Stock",
         "G6 KF",
         "Intel Core i7",
         "16GB RAM",
         "N/A SSD",
         "Brand : Gigabyte      Model : G6 KF  Seller : sigma  Viewed :   2289 items   Gigabyte G6 KF:   Operating System: Windows 11 Home   Processor: Intel® Core™ i7-13620H (13th Gen) 4.9 GHz (6 cores/12 threads)   Graphics: NVIDIA® GeForce RTX™ 4060 Laptop GPU  8GB GDDR6   75W   Display: 16.0 FHD+ IPS (1920x1200)  165Hz   Memory: 16GB 2x8 4800Mhz DDR5 slots  up to 64GB   Storage: 1T Gen4 SSD  M.2 x2   Keyboard: Full-size illuminated with numeric pad (15 colors)   Ports:   1x USB 2.0  1x USB 3.2 Gen 1  2x USB 3.2 Gen 2 (Type C)   1x Mini DP 1.4  1x HDMI™   1x Audio Jack  1x Microphone Jack  1x RJ-45 LAN port  1x MicroSD Reader     Audio: 2x 2W speakers  DTS:X® Ultra Audio   Networking: Wi-Fi 6E  Bluetooth® 5.2  1GB LAN   Camera: 1.0M HD   Battery: 54Wh   Power: 150W   Weight: 2.3kg (5.07lb)   Dimensions: 35.95 x 26.38 x 2.512.6 cm (14.15 x 10.39 x 0.991.02 inch)\""
        ]
       ],
       "shape": {
        "columns": 9,
        "rows": 4
       }
      },
      "text/html": [
       "<div>\n",
       "<style scoped>\n",
       "    .dataframe tbody tr th:only-of-type {\n",
       "        vertical-align: middle;\n",
       "    }\n",
       "\n",
       "    .dataframe tbody tr th {\n",
       "        vertical-align: top;\n",
       "    }\n",
       "\n",
       "    .dataframe thead th {\n",
       "        text-align: right;\n",
       "    }\n",
       "</style>\n",
       "<table border=\"1\" class=\"dataframe\">\n",
       "  <thead>\n",
       "    <tr style=\"text-align: right;\">\n",
       "      <th></th>\n",
       "      <th>name</th>\n",
       "      <th>brand</th>\n",
       "      <th>price</th>\n",
       "      <th>stock</th>\n",
       "      <th>model</th>\n",
       "      <th>processor</th>\n",
       "      <th>ram</th>\n",
       "      <th>storage</th>\n",
       "      <th>description</th>\n",
       "    </tr>\n",
       "  </thead>\n",
       "  <tbody>\n",
       "    <tr>\n",
       "      <th>0</th>\n",
       "      <td>MSI Thin 15 A B7VF AMD Ryzen 7 7735HS - NVIDIA...</td>\n",
       "      <td>MSI</td>\n",
       "      <td>47949</td>\n",
       "      <td>In Stock</td>\n",
       "      <td>Thin A15 B7V</td>\n",
       "      <td>AMD Ryzen 7</td>\n",
       "      <td>16GB RAM</td>\n",
       "      <td>512GB SSD</td>\n",
       "      <td>Brand : MSI      Model : Thin A15 B7V  Seller ...</td>\n",
       "    </tr>\n",
       "    <tr>\n",
       "      <th>1</th>\n",
       "      <td>ASUS ZenScreen Touch MB16AMT is a 15.6-inch Fu...</td>\n",
       "      <td>ASUS</td>\n",
       "      <td>18500</td>\n",
       "      <td>In Stock</td>\n",
       "      <td>ZenScreen Touch MB16AMT</td>\n",
       "      <td>NaN</td>\n",
       "      <td>NaN</td>\n",
       "      <td>NaN</td>\n",
       "      <td>Brand : ASUS      Model :  ZenScreen Touch MB1...</td>\n",
       "    </tr>\n",
       "    <tr>\n",
       "      <th>2</th>\n",
       "      <td>Lenovo LEGION 5 16IRX9 83DG00EEUS Intel Core i...</td>\n",
       "      <td>Lenovo</td>\n",
       "      <td>64999</td>\n",
       "      <td>In Stock</td>\n",
       "      <td>83DG00EEUS</td>\n",
       "      <td>Intel Core i7</td>\n",
       "      <td>16GB RAM</td>\n",
       "      <td>1TB SSD</td>\n",
       "      <td>Brand : Lenovo      Model : 83DG00EEUS   Selle...</td>\n",
       "    </tr>\n",
       "    <tr>\n",
       "      <th>3</th>\n",
       "      <td>Gigabyte G6 KF Intel Core i7-13620H - NVIDIA G...</td>\n",
       "      <td>Gigabyte</td>\n",
       "      <td>47999</td>\n",
       "      <td>In Stock</td>\n",
       "      <td>G6 KF</td>\n",
       "      <td>Intel Core i7</td>\n",
       "      <td>16GB RAM</td>\n",
       "      <td>N/A SSD</td>\n",
       "      <td>Brand : Gigabyte      Model : G6 KF  Seller : ...</td>\n",
       "    </tr>\n",
       "  </tbody>\n",
       "</table>\n",
       "</div>"
      ],
      "text/plain": [
       "                                                name     brand  price  \\\n",
       "0  MSI Thin 15 A B7VF AMD Ryzen 7 7735HS - NVIDIA...       MSI  47949   \n",
       "1  ASUS ZenScreen Touch MB16AMT is a 15.6-inch Fu...      ASUS  18500   \n",
       "2  Lenovo LEGION 5 16IRX9 83DG00EEUS Intel Core i...    Lenovo  64999   \n",
       "3  Gigabyte G6 KF Intel Core i7-13620H - NVIDIA G...  Gigabyte  47999   \n",
       "\n",
       "      stock                    model      processor       ram    storage  \\\n",
       "0  In Stock             Thin A15 B7V    AMD Ryzen 7  16GB RAM  512GB SSD   \n",
       "1  In Stock  ZenScreen Touch MB16AMT            NaN       NaN        NaN   \n",
       "2  In Stock               83DG00EEUS  Intel Core i7  16GB RAM    1TB SSD   \n",
       "3  In Stock                    G6 KF  Intel Core i7  16GB RAM    N/A SSD   \n",
       "\n",
       "                                         description  \n",
       "0  Brand : MSI      Model : Thin A15 B7V  Seller ...  \n",
       "1  Brand : ASUS      Model :  ZenScreen Touch MB1...  \n",
       "2  Brand : Lenovo      Model : 83DG00EEUS   Selle...  \n",
       "3  Brand : Gigabyte      Model : G6 KF  Seller : ...  "
      ]
     },
     "execution_count": 9,
     "metadata": {},
     "output_type": "execute_result"
    }
   ],
   "source": [
    "import pandas as pd\n",
    "df=pd.read_csv(\"products.csv\")\n",
    "df"
   ]
  }
 ],
 "metadata": {
  "kernelspec": {
   "display_name": "analysis",
   "language": "python",
   "name": "python3"
  },
  "language_info": {
   "codemirror_mode": {
    "name": "ipython",
    "version": 3
   },
   "file_extension": ".py",
   "mimetype": "text/x-python",
   "name": "python",
   "nbconvert_exporter": "python",
   "pygments_lexer": "ipython3",
   "version": "3.10.16"
  }
 },
 "nbformat": 4,
 "nbformat_minor": 5
}
