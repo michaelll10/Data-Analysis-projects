{
 "cells": [
  {
   "cell_type": "code",
   "execution_count": 198,
   "id": "1cfe7ab3",
   "metadata": {},
   "outputs": [],
   "source": [
    "import pandas as pd\n",
    "import plotly.express as px\n",
    "import plotly.figure_factory as ff\n",
    "import seaborn as sns\n",
    "import numpy as np\n",
    "import matplotlib.pylab as plt"
   ]
  },
  {
   "cell_type": "code",
   "execution_count": 84,
   "id": "ad50c61b",
   "metadata": {},
   "outputs": [],
   "source": [
    "df=pd.read_csv('D:\\data science diploma\\projects\\supermarket analysis\\supermarket_sales - Sheet1.csv')"
   ]
  },
  {
   "cell_type": "code",
   "execution_count": 85,
   "id": "15ac4f93",
   "metadata": {},
   "outputs": [
    {
     "data": {
      "application/vnd.microsoft.datawrangler.viewer.v0+json": {
       "columns": [
        {
         "name": "index",
         "rawType": "int64",
         "type": "integer"
        },
        {
         "name": "Invoice ID",
         "rawType": "object",
         "type": "string"
        },
        {
         "name": "Branch",
         "rawType": "object",
         "type": "string"
        },
        {
         "name": "City",
         "rawType": "object",
         "type": "string"
        },
        {
         "name": "Customer type",
         "rawType": "object",
         "type": "string"
        },
        {
         "name": "Gender",
         "rawType": "object",
         "type": "string"
        },
        {
         "name": "Product line",
         "rawType": "object",
         "type": "string"
        },
        {
         "name": "Unit price",
         "rawType": "float64",
         "type": "float"
        },
        {
         "name": "Quantity",
         "rawType": "int64",
         "type": "integer"
        },
        {
         "name": "Tax 5%",
         "rawType": "float64",
         "type": "float"
        },
        {
         "name": "Total",
         "rawType": "float64",
         "type": "float"
        },
        {
         "name": "Date",
         "rawType": "object",
         "type": "string"
        },
        {
         "name": "Time",
         "rawType": "object",
         "type": "string"
        },
        {
         "name": "Payment",
         "rawType": "object",
         "type": "string"
        },
        {
         "name": "cogs",
         "rawType": "float64",
         "type": "float"
        },
        {
         "name": "gross margin percentage",
         "rawType": "float64",
         "type": "float"
        },
        {
         "name": "gross income",
         "rawType": "float64",
         "type": "float"
        },
        {
         "name": "Rating",
         "rawType": "float64",
         "type": "float"
        }
       ],
       "ref": "a0c5ac2b-29ee-4023-b3d0-8056c614574d",
       "rows": [
        [
         "0",
         "750-67-8428",
         "A",
         "Yangon",
         "Member",
         "Female",
         "Health and beauty",
         "74.69",
         "7",
         "26.1415",
         "548.9715",
         "1/5/2019",
         "13:08",
         "Ewallet",
         "522.83",
         "4.761904762",
         "26.1415",
         "9.1"
        ],
        [
         "1",
         "226-31-3081",
         "C",
         "Naypyitaw",
         "Normal",
         "Female",
         "Electronic accessories",
         "15.28",
         "5",
         "3.82",
         "80.22",
         "3/8/2019",
         "10:29",
         "Cash",
         "76.4",
         "4.761904762",
         "3.82",
         "9.6"
        ],
        [
         "2",
         "631-41-3108",
         "A",
         "Yangon",
         "Normal",
         "Male",
         "Home and lifestyle",
         "46.33",
         "7",
         "16.2155",
         "340.5255",
         "3/3/2019",
         "13:23",
         "Credit card",
         "324.31",
         "4.761904762",
         "16.2155",
         "7.4"
        ],
        [
         "3",
         "123-19-1176",
         "A",
         "Yangon",
         "Member",
         "Male",
         "Health and beauty",
         "58.22",
         "8",
         "23.288",
         "489.048",
         "1/27/2019",
         "20:33",
         "Ewallet",
         "465.76",
         "4.761904762",
         "23.288",
         "8.4"
        ],
        [
         "4",
         "373-73-7910",
         "A",
         "Yangon",
         "Normal",
         "Male",
         "Sports and travel",
         "86.31",
         "7",
         "30.2085",
         "634.3785",
         "2/8/2019",
         "10:37",
         "Ewallet",
         "604.17",
         "4.761904762",
         "30.2085",
         "5.3"
        ],
        [
         "5",
         "699-14-3026",
         "C",
         "Naypyitaw",
         "Normal",
         "Male",
         "Electronic accessories",
         "85.39",
         "7",
         "29.8865",
         "627.6165",
         "3/25/2019",
         "18:30",
         "Ewallet",
         "597.73",
         "4.761904762",
         "29.8865",
         "4.1"
        ],
        [
         "6",
         "355-53-5943",
         "A",
         "Yangon",
         "Member",
         "Female",
         "Electronic accessories",
         "68.84",
         "6",
         "20.652",
         "433.692",
         "2/25/2019",
         "14:36",
         "Ewallet",
         "413.04",
         "4.761904762",
         "20.652",
         "5.8"
        ],
        [
         "7",
         "315-22-5665",
         "C",
         "Naypyitaw",
         "Normal",
         "Female",
         "Home and lifestyle",
         "73.56",
         "10",
         "36.78",
         "772.38",
         "2/24/2019",
         "11:38",
         "Ewallet",
         "735.6",
         "4.761904762",
         "36.78",
         "8.0"
        ],
        [
         "8",
         "665-32-9167",
         "A",
         "Yangon",
         "Member",
         "Female",
         "Health and beauty",
         "36.26",
         "2",
         "3.626",
         "76.146",
         "1/10/2019",
         "17:15",
         "Credit card",
         "72.52",
         "4.761904762",
         "3.626",
         "7.2"
        ],
        [
         "9",
         "692-92-5582",
         "B",
         "Mandalay",
         "Member",
         "Female",
         "Food and beverages",
         "54.84",
         "3",
         "8.226",
         "172.746",
         "2/20/2019",
         "13:27",
         "Credit card",
         "164.52",
         "4.761904762",
         "8.226",
         "5.9"
        ],
        [
         "10",
         "351-62-0822",
         "B",
         "Mandalay",
         "Member",
         "Female",
         "Fashion accessories",
         "14.48",
         "4",
         "2.896",
         "60.816",
         "2/6/2019",
         "18:07",
         "Ewallet",
         "57.92",
         "4.761904762",
         "2.896",
         "4.5"
        ],
        [
         "11",
         "529-56-3974",
         "B",
         "Mandalay",
         "Member",
         "Male",
         "Electronic accessories",
         "25.51",
         "4",
         "5.102",
         "107.142",
         "3/9/2019",
         "17:03",
         "Cash",
         "102.04",
         "4.761904762",
         "5.102",
         "6.8"
        ],
        [
         "12",
         "365-64-0515",
         "A",
         "Yangon",
         "Normal",
         "Female",
         "Electronic accessories",
         "46.95",
         "5",
         "11.7375",
         "246.4875",
         "2/12/2019",
         "10:25",
         "Ewallet",
         "234.75",
         "4.761904762",
         "11.7375",
         "7.1"
        ],
        [
         "13",
         "252-56-2699",
         "A",
         "Yangon",
         "Normal",
         "Male",
         "Food and beverages",
         "43.19",
         "10",
         "21.595",
         "453.495",
         "2/7/2019",
         "16:48",
         "Ewallet",
         "431.9",
         "4.761904762",
         "21.595",
         "8.2"
        ],
        [
         "14",
         "829-34-3910",
         "A",
         "Yangon",
         "Normal",
         "Female",
         "Health and beauty",
         "71.38",
         "10",
         "35.69",
         "749.49",
         "3/29/2019",
         "19:21",
         "Cash",
         "713.8",
         "4.761904762",
         "35.69",
         "5.7"
        ],
        [
         "15",
         "299-46-1805",
         "B",
         "Mandalay",
         "Member",
         "Female",
         "Sports and travel",
         "93.72",
         "6",
         "28.116",
         "590.436",
         "1/15/2019",
         "16:19",
         "Cash",
         "562.32",
         "4.761904762",
         "28.116",
         "4.5"
        ],
        [
         "16",
         "656-95-9349",
         "A",
         "Yangon",
         "Member",
         "Female",
         "Health and beauty",
         "68.93",
         "7",
         "24.1255",
         "506.6355",
         "3/11/2019",
         "11:03",
         "Credit card",
         "482.51",
         "4.761904762",
         "24.1255",
         "4.6"
        ],
        [
         "17",
         "765-26-6951",
         "A",
         "Yangon",
         "Normal",
         "Male",
         "Sports and travel",
         "72.61",
         "6",
         "21.783",
         "457.443",
         "1/1/2019",
         "10:39",
         "Credit card",
         "435.66",
         "4.761904762",
         "21.783",
         "6.9"
        ],
        [
         "18",
         "329-62-1586",
         "A",
         "Yangon",
         "Normal",
         "Male",
         "Food and beverages",
         "54.67",
         "3",
         "8.2005",
         "172.2105",
         "1/21/2019",
         "18:00",
         "Credit card",
         "164.01",
         "4.761904762",
         "8.2005",
         "8.6"
        ],
        [
         "19",
         "319-50-3348",
         "B",
         "Mandalay",
         "Normal",
         "Female",
         "Home and lifestyle",
         "40.3",
         "2",
         "4.03",
         "84.63",
         "3/11/2019",
         "15:30",
         "Ewallet",
         "80.6",
         "4.761904762",
         "4.03",
         "4.4"
        ],
        [
         "20",
         "300-71-4605",
         "C",
         "Naypyitaw",
         "Member",
         "Male",
         "Electronic accessories",
         "86.04",
         "5",
         "21.51",
         "451.71",
         "2/25/2019",
         "11:24",
         "Ewallet",
         "430.2",
         "4.761904762",
         "21.51",
         "4.8"
        ],
        [
         "21",
         "371-85-5789",
         "B",
         "Mandalay",
         "Normal",
         "Male",
         "Health and beauty",
         "87.98",
         "3",
         "13.197",
         "277.137",
         "3/5/2019",
         "10:40",
         "Ewallet",
         "263.94",
         "4.761904762",
         "13.197",
         "5.1"
        ],
        [
         "22",
         "273-16-6619",
         "B",
         "Mandalay",
         "Normal",
         "Male",
         "Home and lifestyle",
         "33.2",
         "2",
         "3.32",
         "69.72",
         "3/15/2019",
         "12:20",
         "Credit card",
         "66.4",
         "4.761904762",
         "3.32",
         "4.4"
        ],
        [
         "23",
         "636-48-8204",
         "A",
         "Yangon",
         "Normal",
         "Male",
         "Electronic accessories",
         "34.56",
         "5",
         "8.64",
         "181.44",
         "2/17/2019",
         "11:15",
         "Ewallet",
         "172.8",
         "4.761904762",
         "8.64",
         "9.9"
        ],
        [
         "24",
         "549-59-1358",
         "A",
         "Yangon",
         "Member",
         "Male",
         "Sports and travel",
         "88.63",
         "3",
         "13.2945",
         "279.1845",
         "3/2/2019",
         "17:36",
         "Ewallet",
         "265.89",
         "4.761904762",
         "13.2945",
         "6.0"
        ],
        [
         "25",
         "227-03-5010",
         "A",
         "Yangon",
         "Member",
         "Female",
         "Home and lifestyle",
         "52.59",
         "8",
         "21.036",
         "441.756",
         "3/22/2019",
         "19:20",
         "Credit card",
         "420.72",
         "4.761904762",
         "21.036",
         "8.5"
        ],
        [
         "26",
         "649-29-6775",
         "B",
         "Mandalay",
         "Normal",
         "Male",
         "Fashion accessories",
         "33.52",
         "1",
         "1.676",
         "35.196",
         "2/8/2019",
         "15:31",
         "Cash",
         "33.52",
         "4.761904762",
         "1.676",
         "6.7"
        ],
        [
         "27",
         "189-17-4241",
         "A",
         "Yangon",
         "Normal",
         "Female",
         "Fashion accessories",
         "87.67",
         "2",
         "8.767",
         "184.107",
         "3/10/2019",
         "12:17",
         "Credit card",
         "175.34",
         "4.761904762",
         "8.767",
         "7.7"
        ],
        [
         "28",
         "145-94-9061",
         "B",
         "Mandalay",
         "Normal",
         "Female",
         "Food and beverages",
         "88.36",
         "5",
         "22.09",
         "463.89",
         "1/25/2019",
         "19:48",
         "Cash",
         "441.8",
         "4.761904762",
         "22.09",
         "9.6"
        ],
        [
         "29",
         "848-62-7243",
         "A",
         "Yangon",
         "Normal",
         "Male",
         "Health and beauty",
         "24.89",
         "9",
         "11.2005",
         "235.2105",
         "3/15/2019",
         "15:36",
         "Cash",
         "224.01",
         "4.761904762",
         "11.2005",
         "7.4"
        ],
        [
         "30",
         "871-79-8483",
         "B",
         "Mandalay",
         "Normal",
         "Male",
         "Fashion accessories",
         "94.13",
         "5",
         "23.5325",
         "494.1825",
         "2/25/2019",
         "19:39",
         "Credit card",
         "470.65",
         "4.761904762",
         "23.5325",
         "4.8"
        ],
        [
         "31",
         "149-71-6266",
         "B",
         "Mandalay",
         "Member",
         "Male",
         "Sports and travel",
         "78.07",
         "9",
         "35.1315",
         "737.7615",
         "1/28/2019",
         "12:43",
         "Cash",
         "702.63",
         "4.761904762",
         "35.1315",
         "4.5"
        ],
        [
         "32",
         "640-49-2076",
         "B",
         "Mandalay",
         "Normal",
         "Male",
         "Sports and travel",
         "83.78",
         "8",
         "33.512",
         "703.752",
         "1/10/2019",
         "14:49",
         "Cash",
         "670.24",
         "4.761904762",
         "33.512",
         "5.1"
        ],
        [
         "33",
         "595-11-5460",
         "A",
         "Yangon",
         "Normal",
         "Male",
         "Health and beauty",
         "96.58",
         "2",
         "9.658",
         "202.818",
         "3/15/2019",
         "10:12",
         "Credit card",
         "193.16",
         "4.761904762",
         "9.658",
         "5.1"
        ],
        [
         "34",
         "183-56-6882",
         "C",
         "Naypyitaw",
         "Member",
         "Female",
         "Food and beverages",
         "99.42",
         "4",
         "19.884",
         "417.564",
         "2/6/2019",
         "10:42",
         "Ewallet",
         "397.68",
         "4.761904762",
         "19.884",
         "7.5"
        ],
        [
         "35",
         "232-16-2483",
         "C",
         "Naypyitaw",
         "Member",
         "Female",
         "Sports and travel",
         "68.12",
         "1",
         "3.406",
         "71.526",
         "1/7/2019",
         "12:28",
         "Ewallet",
         "68.12",
         "4.761904762",
         "3.406",
         "6.8"
        ],
        [
         "36",
         "129-29-8530",
         "A",
         "Yangon",
         "Member",
         "Male",
         "Sports and travel",
         "62.62",
         "5",
         "15.655",
         "328.755",
         "3/10/2019",
         "19:15",
         "Ewallet",
         "313.1",
         "4.761904762",
         "15.655",
         "7.0"
        ],
        [
         "37",
         "272-65-1806",
         "A",
         "Yangon",
         "Normal",
         "Female",
         "Electronic accessories",
         "60.88",
         "9",
         "27.396",
         "575.316",
         "1/15/2019",
         "17:17",
         "Ewallet",
         "547.92",
         "4.761904762",
         "27.396",
         "4.7"
        ],
        [
         "38",
         "333-73-7901",
         "C",
         "Naypyitaw",
         "Normal",
         "Female",
         "Health and beauty",
         "54.92",
         "8",
         "21.968",
         "461.328",
         "3/23/2019",
         "13:24",
         "Ewallet",
         "439.36",
         "4.761904762",
         "21.968",
         "7.6"
        ],
        [
         "39",
         "777-82-7220",
         "B",
         "Mandalay",
         "Member",
         "Male",
         "Home and lifestyle",
         "30.12",
         "8",
         "12.048",
         "253.008",
         "3/3/2019",
         "13:01",
         "Cash",
         "240.96",
         "4.761904762",
         "12.048",
         "7.7"
        ],
        [
         "40",
         "280-35-5823",
         "B",
         "Mandalay",
         "Member",
         "Female",
         "Home and lifestyle",
         "86.72",
         "1",
         "4.336",
         "91.056",
         "1/17/2019",
         "18:45",
         "Ewallet",
         "86.72",
         "4.761904762",
         "4.336",
         "7.9"
        ],
        [
         "41",
         "554-53-8700",
         "C",
         "Naypyitaw",
         "Member",
         "Male",
         "Home and lifestyle",
         "56.11",
         "2",
         "5.611",
         "117.831",
         "2/2/2019",
         "10:11",
         "Cash",
         "112.22",
         "4.761904762",
         "5.611",
         "6.3"
        ],
        [
         "42",
         "354-25-5821",
         "B",
         "Mandalay",
         "Member",
         "Female",
         "Sports and travel",
         "69.12",
         "6",
         "20.736",
         "435.456",
         "2/8/2019",
         "13:03",
         "Cash",
         "414.72",
         "4.761904762",
         "20.736",
         "5.6"
        ],
        [
         "43",
         "228-96-1411",
         "C",
         "Naypyitaw",
         "Member",
         "Female",
         "Food and beverages",
         "98.7",
         "8",
         "39.48",
         "829.08",
         "3/4/2019",
         "20:39",
         "Cash",
         "789.6",
         "4.761904762",
         "39.48",
         "7.6"
        ],
        [
         "44",
         "617-15-4209",
         "C",
         "Naypyitaw",
         "Member",
         "Male",
         "Health and beauty",
         "15.37",
         "2",
         "1.537",
         "32.277",
         "3/16/2019",
         "19:47",
         "Cash",
         "30.74",
         "4.761904762",
         "1.537",
         "7.2"
        ],
        [
         "45",
         "132-32-9879",
         "B",
         "Mandalay",
         "Member",
         "Female",
         "Electronic accessories",
         "93.96",
         "4",
         "18.792",
         "394.632",
         "3/9/2019",
         "18:00",
         "Cash",
         "375.84",
         "4.761904762",
         "18.792",
         "9.5"
        ],
        [
         "46",
         "370-41-7321",
         "B",
         "Mandalay",
         "Member",
         "Male",
         "Health and beauty",
         "56.69",
         "9",
         "25.5105",
         "535.7205",
         "2/27/2019",
         "17:24",
         "Credit card",
         "510.21",
         "4.761904762",
         "25.5105",
         "8.4"
        ],
        [
         "47",
         "727-46-3608",
         "B",
         "Mandalay",
         "Member",
         "Female",
         "Food and beverages",
         "20.01",
         "9",
         "9.0045",
         "189.0945",
         "2/6/2019",
         "15:47",
         "Ewallet",
         "180.09",
         "4.761904762",
         "9.0045",
         "4.1"
        ],
        [
         "48",
         "669-54-1719",
         "B",
         "Mandalay",
         "Member",
         "Male",
         "Electronic accessories",
         "18.93",
         "6",
         "5.679",
         "119.259",
         "2/10/2019",
         "12:45",
         "Credit card",
         "113.58",
         "4.761904762",
         "5.679",
         "8.1"
        ],
        [
         "49",
         "574-22-5561",
         "C",
         "Naypyitaw",
         "Member",
         "Female",
         "Fashion accessories",
         "82.63",
         "10",
         "41.315",
         "867.615",
         "3/19/2019",
         "17:08",
         "Ewallet",
         "826.3",
         "4.761904762",
         "41.315",
         "7.9"
        ]
       ],
       "shape": {
        "columns": 17,
        "rows": 1000
       }
      },
      "text/html": [
       "<div>\n",
       "<style scoped>\n",
       "    .dataframe tbody tr th:only-of-type {\n",
       "        vertical-align: middle;\n",
       "    }\n",
       "\n",
       "    .dataframe tbody tr th {\n",
       "        vertical-align: top;\n",
       "    }\n",
       "\n",
       "    .dataframe thead th {\n",
       "        text-align: right;\n",
       "    }\n",
       "</style>\n",
       "<table border=\"1\" class=\"dataframe\">\n",
       "  <thead>\n",
       "    <tr style=\"text-align: right;\">\n",
       "      <th></th>\n",
       "      <th>Invoice ID</th>\n",
       "      <th>Branch</th>\n",
       "      <th>City</th>\n",
       "      <th>Customer type</th>\n",
       "      <th>Gender</th>\n",
       "      <th>Product line</th>\n",
       "      <th>Unit price</th>\n",
       "      <th>Quantity</th>\n",
       "      <th>Tax 5%</th>\n",
       "      <th>Total</th>\n",
       "      <th>Date</th>\n",
       "      <th>Time</th>\n",
       "      <th>Payment</th>\n",
       "      <th>cogs</th>\n",
       "      <th>gross margin percentage</th>\n",
       "      <th>gross income</th>\n",
       "      <th>Rating</th>\n",
       "    </tr>\n",
       "  </thead>\n",
       "  <tbody>\n",
       "    <tr>\n",
       "      <th>0</th>\n",
       "      <td>750-67-8428</td>\n",
       "      <td>A</td>\n",
       "      <td>Yangon</td>\n",
       "      <td>Member</td>\n",
       "      <td>Female</td>\n",
       "      <td>Health and beauty</td>\n",
       "      <td>74.69</td>\n",
       "      <td>7</td>\n",
       "      <td>26.1415</td>\n",
       "      <td>548.9715</td>\n",
       "      <td>1/5/2019</td>\n",
       "      <td>13:08</td>\n",
       "      <td>Ewallet</td>\n",
       "      <td>522.83</td>\n",
       "      <td>4.761905</td>\n",
       "      <td>26.1415</td>\n",
       "      <td>9.1</td>\n",
       "    </tr>\n",
       "    <tr>\n",
       "      <th>1</th>\n",
       "      <td>226-31-3081</td>\n",
       "      <td>C</td>\n",
       "      <td>Naypyitaw</td>\n",
       "      <td>Normal</td>\n",
       "      <td>Female</td>\n",
       "      <td>Electronic accessories</td>\n",
       "      <td>15.28</td>\n",
       "      <td>5</td>\n",
       "      <td>3.8200</td>\n",
       "      <td>80.2200</td>\n",
       "      <td>3/8/2019</td>\n",
       "      <td>10:29</td>\n",
       "      <td>Cash</td>\n",
       "      <td>76.40</td>\n",
       "      <td>4.761905</td>\n",
       "      <td>3.8200</td>\n",
       "      <td>9.6</td>\n",
       "    </tr>\n",
       "    <tr>\n",
       "      <th>2</th>\n",
       "      <td>631-41-3108</td>\n",
       "      <td>A</td>\n",
       "      <td>Yangon</td>\n",
       "      <td>Normal</td>\n",
       "      <td>Male</td>\n",
       "      <td>Home and lifestyle</td>\n",
       "      <td>46.33</td>\n",
       "      <td>7</td>\n",
       "      <td>16.2155</td>\n",
       "      <td>340.5255</td>\n",
       "      <td>3/3/2019</td>\n",
       "      <td>13:23</td>\n",
       "      <td>Credit card</td>\n",
       "      <td>324.31</td>\n",
       "      <td>4.761905</td>\n",
       "      <td>16.2155</td>\n",
       "      <td>7.4</td>\n",
       "    </tr>\n",
       "    <tr>\n",
       "      <th>3</th>\n",
       "      <td>123-19-1176</td>\n",
       "      <td>A</td>\n",
       "      <td>Yangon</td>\n",
       "      <td>Member</td>\n",
       "      <td>Male</td>\n",
       "      <td>Health and beauty</td>\n",
       "      <td>58.22</td>\n",
       "      <td>8</td>\n",
       "      <td>23.2880</td>\n",
       "      <td>489.0480</td>\n",
       "      <td>1/27/2019</td>\n",
       "      <td>20:33</td>\n",
       "      <td>Ewallet</td>\n",
       "      <td>465.76</td>\n",
       "      <td>4.761905</td>\n",
       "      <td>23.2880</td>\n",
       "      <td>8.4</td>\n",
       "    </tr>\n",
       "    <tr>\n",
       "      <th>4</th>\n",
       "      <td>373-73-7910</td>\n",
       "      <td>A</td>\n",
       "      <td>Yangon</td>\n",
       "      <td>Normal</td>\n",
       "      <td>Male</td>\n",
       "      <td>Sports and travel</td>\n",
       "      <td>86.31</td>\n",
       "      <td>7</td>\n",
       "      <td>30.2085</td>\n",
       "      <td>634.3785</td>\n",
       "      <td>2/8/2019</td>\n",
       "      <td>10:37</td>\n",
       "      <td>Ewallet</td>\n",
       "      <td>604.17</td>\n",
       "      <td>4.761905</td>\n",
       "      <td>30.2085</td>\n",
       "      <td>5.3</td>\n",
       "    </tr>\n",
       "    <tr>\n",
       "      <th>...</th>\n",
       "      <td>...</td>\n",
       "      <td>...</td>\n",
       "      <td>...</td>\n",
       "      <td>...</td>\n",
       "      <td>...</td>\n",
       "      <td>...</td>\n",
       "      <td>...</td>\n",
       "      <td>...</td>\n",
       "      <td>...</td>\n",
       "      <td>...</td>\n",
       "      <td>...</td>\n",
       "      <td>...</td>\n",
       "      <td>...</td>\n",
       "      <td>...</td>\n",
       "      <td>...</td>\n",
       "      <td>...</td>\n",
       "      <td>...</td>\n",
       "    </tr>\n",
       "    <tr>\n",
       "      <th>995</th>\n",
       "      <td>233-67-5758</td>\n",
       "      <td>C</td>\n",
       "      <td>Naypyitaw</td>\n",
       "      <td>Normal</td>\n",
       "      <td>Male</td>\n",
       "      <td>Health and beauty</td>\n",
       "      <td>40.35</td>\n",
       "      <td>1</td>\n",
       "      <td>2.0175</td>\n",
       "      <td>42.3675</td>\n",
       "      <td>1/29/2019</td>\n",
       "      <td>13:46</td>\n",
       "      <td>Ewallet</td>\n",
       "      <td>40.35</td>\n",
       "      <td>4.761905</td>\n",
       "      <td>2.0175</td>\n",
       "      <td>6.2</td>\n",
       "    </tr>\n",
       "    <tr>\n",
       "      <th>996</th>\n",
       "      <td>303-96-2227</td>\n",
       "      <td>B</td>\n",
       "      <td>Mandalay</td>\n",
       "      <td>Normal</td>\n",
       "      <td>Female</td>\n",
       "      <td>Home and lifestyle</td>\n",
       "      <td>97.38</td>\n",
       "      <td>10</td>\n",
       "      <td>48.6900</td>\n",
       "      <td>1022.4900</td>\n",
       "      <td>3/2/2019</td>\n",
       "      <td>17:16</td>\n",
       "      <td>Ewallet</td>\n",
       "      <td>973.80</td>\n",
       "      <td>4.761905</td>\n",
       "      <td>48.6900</td>\n",
       "      <td>4.4</td>\n",
       "    </tr>\n",
       "    <tr>\n",
       "      <th>997</th>\n",
       "      <td>727-02-1313</td>\n",
       "      <td>A</td>\n",
       "      <td>Yangon</td>\n",
       "      <td>Member</td>\n",
       "      <td>Male</td>\n",
       "      <td>Food and beverages</td>\n",
       "      <td>31.84</td>\n",
       "      <td>1</td>\n",
       "      <td>1.5920</td>\n",
       "      <td>33.4320</td>\n",
       "      <td>2/9/2019</td>\n",
       "      <td>13:22</td>\n",
       "      <td>Cash</td>\n",
       "      <td>31.84</td>\n",
       "      <td>4.761905</td>\n",
       "      <td>1.5920</td>\n",
       "      <td>7.7</td>\n",
       "    </tr>\n",
       "    <tr>\n",
       "      <th>998</th>\n",
       "      <td>347-56-2442</td>\n",
       "      <td>A</td>\n",
       "      <td>Yangon</td>\n",
       "      <td>Normal</td>\n",
       "      <td>Male</td>\n",
       "      <td>Home and lifestyle</td>\n",
       "      <td>65.82</td>\n",
       "      <td>1</td>\n",
       "      <td>3.2910</td>\n",
       "      <td>69.1110</td>\n",
       "      <td>2/22/2019</td>\n",
       "      <td>15:33</td>\n",
       "      <td>Cash</td>\n",
       "      <td>65.82</td>\n",
       "      <td>4.761905</td>\n",
       "      <td>3.2910</td>\n",
       "      <td>4.1</td>\n",
       "    </tr>\n",
       "    <tr>\n",
       "      <th>999</th>\n",
       "      <td>849-09-3807</td>\n",
       "      <td>A</td>\n",
       "      <td>Yangon</td>\n",
       "      <td>Member</td>\n",
       "      <td>Female</td>\n",
       "      <td>Fashion accessories</td>\n",
       "      <td>88.34</td>\n",
       "      <td>7</td>\n",
       "      <td>30.9190</td>\n",
       "      <td>649.2990</td>\n",
       "      <td>2/18/2019</td>\n",
       "      <td>13:28</td>\n",
       "      <td>Cash</td>\n",
       "      <td>618.38</td>\n",
       "      <td>4.761905</td>\n",
       "      <td>30.9190</td>\n",
       "      <td>6.6</td>\n",
       "    </tr>\n",
       "  </tbody>\n",
       "</table>\n",
       "<p>1000 rows × 17 columns</p>\n",
       "</div>"
      ],
      "text/plain": [
       "      Invoice ID Branch       City Customer type  Gender  \\\n",
       "0    750-67-8428      A     Yangon        Member  Female   \n",
       "1    226-31-3081      C  Naypyitaw        Normal  Female   \n",
       "2    631-41-3108      A     Yangon        Normal    Male   \n",
       "3    123-19-1176      A     Yangon        Member    Male   \n",
       "4    373-73-7910      A     Yangon        Normal    Male   \n",
       "..           ...    ...        ...           ...     ...   \n",
       "995  233-67-5758      C  Naypyitaw        Normal    Male   \n",
       "996  303-96-2227      B   Mandalay        Normal  Female   \n",
       "997  727-02-1313      A     Yangon        Member    Male   \n",
       "998  347-56-2442      A     Yangon        Normal    Male   \n",
       "999  849-09-3807      A     Yangon        Member  Female   \n",
       "\n",
       "               Product line  Unit price  Quantity   Tax 5%      Total  \\\n",
       "0         Health and beauty       74.69         7  26.1415   548.9715   \n",
       "1    Electronic accessories       15.28         5   3.8200    80.2200   \n",
       "2        Home and lifestyle       46.33         7  16.2155   340.5255   \n",
       "3         Health and beauty       58.22         8  23.2880   489.0480   \n",
       "4         Sports and travel       86.31         7  30.2085   634.3785   \n",
       "..                      ...         ...       ...      ...        ...   \n",
       "995       Health and beauty       40.35         1   2.0175    42.3675   \n",
       "996      Home and lifestyle       97.38        10  48.6900  1022.4900   \n",
       "997      Food and beverages       31.84         1   1.5920    33.4320   \n",
       "998      Home and lifestyle       65.82         1   3.2910    69.1110   \n",
       "999     Fashion accessories       88.34         7  30.9190   649.2990   \n",
       "\n",
       "          Date   Time      Payment    cogs  gross margin percentage  \\\n",
       "0     1/5/2019  13:08      Ewallet  522.83                 4.761905   \n",
       "1     3/8/2019  10:29         Cash   76.40                 4.761905   \n",
       "2     3/3/2019  13:23  Credit card  324.31                 4.761905   \n",
       "3    1/27/2019  20:33      Ewallet  465.76                 4.761905   \n",
       "4     2/8/2019  10:37      Ewallet  604.17                 4.761905   \n",
       "..         ...    ...          ...     ...                      ...   \n",
       "995  1/29/2019  13:46      Ewallet   40.35                 4.761905   \n",
       "996   3/2/2019  17:16      Ewallet  973.80                 4.761905   \n",
       "997   2/9/2019  13:22         Cash   31.84                 4.761905   \n",
       "998  2/22/2019  15:33         Cash   65.82                 4.761905   \n",
       "999  2/18/2019  13:28         Cash  618.38                 4.761905   \n",
       "\n",
       "     gross income  Rating  \n",
       "0         26.1415     9.1  \n",
       "1          3.8200     9.6  \n",
       "2         16.2155     7.4  \n",
       "3         23.2880     8.4  \n",
       "4         30.2085     5.3  \n",
       "..            ...     ...  \n",
       "995        2.0175     6.2  \n",
       "996       48.6900     4.4  \n",
       "997        1.5920     7.7  \n",
       "998        3.2910     4.1  \n",
       "999       30.9190     6.6  \n",
       "\n",
       "[1000 rows x 17 columns]"
      ]
     },
     "execution_count": 85,
     "metadata": {},
     "output_type": "execute_result"
    }
   ],
   "source": [
    "df"
   ]
  },
  {
   "cell_type": "code",
   "execution_count": 86,
   "id": "1ecec3a4",
   "metadata": {},
   "outputs": [
    {
     "name": "stdout",
     "output_type": "stream",
     "text": [
      "<class 'pandas.core.frame.DataFrame'>\n",
      "RangeIndex: 1000 entries, 0 to 999\n",
      "Data columns (total 17 columns):\n",
      " #   Column                   Non-Null Count  Dtype  \n",
      "---  ------                   --------------  -----  \n",
      " 0   Invoice ID               1000 non-null   object \n",
      " 1   Branch                   1000 non-null   object \n",
      " 2   City                     1000 non-null   object \n",
      " 3   Customer type            1000 non-null   object \n",
      " 4   Gender                   1000 non-null   object \n",
      " 5   Product line             1000 non-null   object \n",
      " 6   Unit price               1000 non-null   float64\n",
      " 7   Quantity                 1000 non-null   int64  \n",
      " 8   Tax 5%                   1000 non-null   float64\n",
      " 9   Total                    1000 non-null   float64\n",
      " 10  Date                     1000 non-null   object \n",
      " 11  Time                     1000 non-null   object \n",
      " 12  Payment                  1000 non-null   object \n",
      " 13  cogs                     1000 non-null   float64\n",
      " 14  gross margin percentage  1000 non-null   float64\n",
      " 15  gross income             1000 non-null   float64\n",
      " 16  Rating                   1000 non-null   float64\n",
      "dtypes: float64(7), int64(1), object(9)\n",
      "memory usage: 132.9+ KB\n"
     ]
    }
   ],
   "source": [
    "df.info()"
   ]
  },
  {
   "cell_type": "code",
   "execution_count": 87,
   "id": "c53210f2",
   "metadata": {},
   "outputs": [
    {
     "data": {
      "text/plain": [
       "Index(['invoice_id', 'branch', 'city', 'customer_type', 'gender',\n",
       "       'product_line', 'unit_price', 'quantity', 'tax_5%', 'total', 'date',\n",
       "       'time', 'payment', 'cogs', 'gross_margin_percentage', 'gross_income',\n",
       "       'rating'],\n",
       "      dtype='object')"
      ]
     },
     "execution_count": 87,
     "metadata": {},
     "output_type": "execute_result"
    }
   ],
   "source": [
    "df.columns= df.columns.str.lower()\n",
    "df.columns= df.columns.str.replace(' ','_')\n",
    "df.columns"
   ]
  },
  {
   "cell_type": "code",
   "execution_count": 99,
   "id": "2ade00a9",
   "metadata": {},
   "outputs": [
    {
     "data": {
      "application/vnd.microsoft.datawrangler.viewer.v0+json": {
       "columns": [
        {
         "name": "index",
         "rawType": "int64",
         "type": "integer"
        },
        {
         "name": "date",
         "rawType": "datetime64[ns]",
         "type": "datetime"
        }
       ],
       "ref": "ff2ffdf7-a451-4bb8-bba9-f992ab0a0670",
       "rows": [
        [
         "0",
         "2019-01-05 00:00:00"
        ],
        [
         "1",
         "2019-03-08 00:00:00"
        ],
        [
         "2",
         "2019-03-03 00:00:00"
        ],
        [
         "3",
         "2019-01-27 00:00:00"
        ],
        [
         "4",
         "2019-02-08 00:00:00"
        ],
        [
         "5",
         "2019-03-25 00:00:00"
        ],
        [
         "6",
         "2019-02-25 00:00:00"
        ],
        [
         "7",
         "2019-02-24 00:00:00"
        ],
        [
         "8",
         "2019-01-10 00:00:00"
        ],
        [
         "9",
         "2019-02-20 00:00:00"
        ],
        [
         "10",
         "2019-02-06 00:00:00"
        ],
        [
         "11",
         "2019-03-09 00:00:00"
        ],
        [
         "12",
         "2019-02-12 00:00:00"
        ],
        [
         "13",
         "2019-02-07 00:00:00"
        ],
        [
         "14",
         "2019-03-29 00:00:00"
        ],
        [
         "15",
         "2019-01-15 00:00:00"
        ],
        [
         "16",
         "2019-03-11 00:00:00"
        ],
        [
         "17",
         "2019-01-01 00:00:00"
        ],
        [
         "18",
         "2019-01-21 00:00:00"
        ],
        [
         "19",
         "2019-03-11 00:00:00"
        ],
        [
         "20",
         "2019-02-25 00:00:00"
        ],
        [
         "21",
         "2019-03-05 00:00:00"
        ],
        [
         "22",
         "2019-03-15 00:00:00"
        ],
        [
         "23",
         "2019-02-17 00:00:00"
        ],
        [
         "24",
         "2019-03-02 00:00:00"
        ],
        [
         "25",
         "2019-03-22 00:00:00"
        ],
        [
         "26",
         "2019-02-08 00:00:00"
        ],
        [
         "27",
         "2019-03-10 00:00:00"
        ],
        [
         "28",
         "2019-01-25 00:00:00"
        ],
        [
         "29",
         "2019-03-15 00:00:00"
        ],
        [
         "30",
         "2019-02-25 00:00:00"
        ],
        [
         "31",
         "2019-01-28 00:00:00"
        ],
        [
         "32",
         "2019-01-10 00:00:00"
        ],
        [
         "33",
         "2019-03-15 00:00:00"
        ],
        [
         "34",
         "2019-02-06 00:00:00"
        ],
        [
         "35",
         "2019-01-07 00:00:00"
        ],
        [
         "36",
         "2019-03-10 00:00:00"
        ],
        [
         "37",
         "2019-01-15 00:00:00"
        ],
        [
         "38",
         "2019-03-23 00:00:00"
        ],
        [
         "39",
         "2019-03-03 00:00:00"
        ],
        [
         "40",
         "2019-01-17 00:00:00"
        ],
        [
         "41",
         "2019-02-02 00:00:00"
        ],
        [
         "42",
         "2019-02-08 00:00:00"
        ],
        [
         "43",
         "2019-03-04 00:00:00"
        ],
        [
         "44",
         "2019-03-16 00:00:00"
        ],
        [
         "45",
         "2019-03-09 00:00:00"
        ],
        [
         "46",
         "2019-02-27 00:00:00"
        ],
        [
         "47",
         "2019-02-06 00:00:00"
        ],
        [
         "48",
         "2019-02-10 00:00:00"
        ],
        [
         "49",
         "2019-03-19 00:00:00"
        ]
       ],
       "shape": {
        "columns": 1,
        "rows": 1000
       }
      },
      "text/plain": [
       "0     2019-01-05\n",
       "1     2019-03-08\n",
       "2     2019-03-03\n",
       "3     2019-01-27\n",
       "4     2019-02-08\n",
       "         ...    \n",
       "995   2019-01-29\n",
       "996   2019-03-02\n",
       "997   2019-02-09\n",
       "998   2019-02-22\n",
       "999   2019-02-18\n",
       "Name: date, Length: 1000, dtype: datetime64[ns]"
      ]
     },
     "execution_count": 99,
     "metadata": {},
     "output_type": "execute_result"
    }
   ],
   "source": [
    "df['date'] = pd.to_datetime(df['date']).dt.normalize()\n",
    "df['date']"
   ]
  },
  {
   "cell_type": "code",
   "execution_count": 89,
   "id": "46576956",
   "metadata": {},
   "outputs": [],
   "source": [
    "df['year']=df['date'].dt.year\n",
    "df['month']=df['date'].dt.month"
   ]
  },
  {
   "cell_type": "code",
   "execution_count": 90,
   "id": "fdacae4b",
   "metadata": {},
   "outputs": [
    {
     "name": "stdout",
     "output_type": "stream",
     "text": [
      "<class 'pandas.core.frame.DataFrame'>\n",
      "RangeIndex: 1000 entries, 0 to 999\n",
      "Data columns (total 19 columns):\n",
      " #   Column                   Non-Null Count  Dtype         \n",
      "---  ------                   --------------  -----         \n",
      " 0   invoice_id               1000 non-null   object        \n",
      " 1   branch                   1000 non-null   object        \n",
      " 2   city                     1000 non-null   object        \n",
      " 3   customer_type            1000 non-null   object        \n",
      " 4   gender                   1000 non-null   object        \n",
      " 5   product_line             1000 non-null   object        \n",
      " 6   unit_price               1000 non-null   float64       \n",
      " 7   quantity                 1000 non-null   int64         \n",
      " 8   tax_5%                   1000 non-null   float64       \n",
      " 9   total                    1000 non-null   float64       \n",
      " 10  date                     1000 non-null   datetime64[ns]\n",
      " 11  time                     1000 non-null   object        \n",
      " 12  payment                  1000 non-null   object        \n",
      " 13  cogs                     1000 non-null   float64       \n",
      " 14  gross_margin_percentage  1000 non-null   float64       \n",
      " 15  gross_income             1000 non-null   float64       \n",
      " 16  rating                   1000 non-null   float64       \n",
      " 17  year                     1000 non-null   int32         \n",
      " 18  month                    1000 non-null   int32         \n",
      "dtypes: datetime64[ns](1), float64(7), int32(2), int64(1), object(8)\n",
      "memory usage: 140.8+ KB\n"
     ]
    }
   ],
   "source": [
    "df.info()"
   ]
  },
  {
   "cell_type": "code",
   "execution_count": 91,
   "id": "001f1035",
   "metadata": {},
   "outputs": [
    {
     "name": "stderr",
     "output_type": "stream",
     "text": [
      "C:\\Users\\MichaelM\\AppData\\Local\\Temp\\ipykernel_6844\\1282888947.py:1: UserWarning:\n",
      "\n",
      "Could not infer format, so each element will be parsed individually, falling back to `dateutil`. To ensure parsing is consistent and as-expected, please specify a format.\n",
      "\n"
     ]
    },
    {
     "data": {
      "application/vnd.microsoft.datawrangler.viewer.v0+json": {
       "columns": [
        {
         "name": "index",
         "rawType": "int64",
         "type": "integer"
        },
        {
         "name": "hour",
         "rawType": "int32",
         "type": "integer"
        }
       ],
       "ref": "3de1f041-1ae6-4866-b1e8-8d71bbc4d0ce",
       "rows": [
        [
         "0",
         "13"
        ],
        [
         "1",
         "10"
        ],
        [
         "2",
         "13"
        ],
        [
         "3",
         "20"
        ],
        [
         "4",
         "10"
        ],
        [
         "5",
         "18"
        ],
        [
         "6",
         "14"
        ],
        [
         "7",
         "11"
        ],
        [
         "8",
         "17"
        ],
        [
         "9",
         "13"
        ],
        [
         "10",
         "18"
        ],
        [
         "11",
         "17"
        ],
        [
         "12",
         "10"
        ],
        [
         "13",
         "16"
        ],
        [
         "14",
         "19"
        ],
        [
         "15",
         "16"
        ],
        [
         "16",
         "11"
        ],
        [
         "17",
         "10"
        ],
        [
         "18",
         "18"
        ],
        [
         "19",
         "15"
        ],
        [
         "20",
         "11"
        ],
        [
         "21",
         "10"
        ],
        [
         "22",
         "12"
        ],
        [
         "23",
         "11"
        ],
        [
         "24",
         "17"
        ],
        [
         "25",
         "19"
        ],
        [
         "26",
         "15"
        ],
        [
         "27",
         "12"
        ],
        [
         "28",
         "19"
        ],
        [
         "29",
         "15"
        ],
        [
         "30",
         "19"
        ],
        [
         "31",
         "12"
        ],
        [
         "32",
         "14"
        ],
        [
         "33",
         "10"
        ],
        [
         "34",
         "10"
        ],
        [
         "35",
         "12"
        ],
        [
         "36",
         "19"
        ],
        [
         "37",
         "17"
        ],
        [
         "38",
         "13"
        ],
        [
         "39",
         "13"
        ],
        [
         "40",
         "18"
        ],
        [
         "41",
         "10"
        ],
        [
         "42",
         "13"
        ],
        [
         "43",
         "20"
        ],
        [
         "44",
         "19"
        ],
        [
         "45",
         "18"
        ],
        [
         "46",
         "17"
        ],
        [
         "47",
         "15"
        ],
        [
         "48",
         "12"
        ],
        [
         "49",
         "17"
        ]
       ],
       "shape": {
        "columns": 1,
        "rows": 1000
       }
      },
      "text/plain": [
       "0      13\n",
       "1      10\n",
       "2      13\n",
       "3      20\n",
       "4      10\n",
       "       ..\n",
       "995    13\n",
       "996    17\n",
       "997    13\n",
       "998    15\n",
       "999    13\n",
       "Name: hour, Length: 1000, dtype: int32"
      ]
     },
     "execution_count": 91,
     "metadata": {},
     "output_type": "execute_result"
    }
   ],
   "source": [
    "df['hour']=pd.to_datetime(df['time']).dt.hour\n",
    "df['hour']"
   ]
  },
  {
   "cell_type": "code",
   "execution_count": 100,
   "id": "445fd2cd",
   "metadata": {},
   "outputs": [
    {
     "name": "stdout",
     "output_type": "stream",
     "text": [
      "<class 'pandas.core.frame.DataFrame'>\n",
      "RangeIndex: 1000 entries, 0 to 999\n",
      "Data columns (total 20 columns):\n",
      " #   Column                   Non-Null Count  Dtype         \n",
      "---  ------                   --------------  -----         \n",
      " 0   invoice_id               1000 non-null   object        \n",
      " 1   branch                   1000 non-null   object        \n",
      " 2   city                     1000 non-null   object        \n",
      " 3   customer_type            1000 non-null   object        \n",
      " 4   gender                   1000 non-null   object        \n",
      " 5   product_line             1000 non-null   object        \n",
      " 6   unit_price               1000 non-null   float64       \n",
      " 7   quantity                 1000 non-null   int64         \n",
      " 8   tax_5%                   1000 non-null   float64       \n",
      " 9   total                    1000 non-null   float64       \n",
      " 10  date                     1000 non-null   datetime64[ns]\n",
      " 11  time                     1000 non-null   object        \n",
      " 12  payment                  1000 non-null   object        \n",
      " 13  cogs                     1000 non-null   float64       \n",
      " 14  gross_margin_percentage  1000 non-null   float64       \n",
      " 15  gross_income             1000 non-null   float64       \n",
      " 16  rating                   1000 non-null   float64       \n",
      " 17  year                     1000 non-null   int32         \n",
      " 18  month                    1000 non-null   int32         \n",
      " 19  hour                     1000 non-null   int32         \n",
      "dtypes: datetime64[ns](1), float64(7), int32(3), int64(1), object(8)\n",
      "memory usage: 144.7+ KB\n"
     ]
    }
   ],
   "source": [
    "df.info()"
   ]
  },
  {
   "cell_type": "code",
   "execution_count": 109,
   "id": "6c323e42",
   "metadata": {},
   "outputs": [
    {
     "data": {
      "application/vnd.microsoft.datawrangler.viewer.v0+json": {
       "columns": [
        {
         "name": "index",
         "rawType": "object",
         "type": "string"
        },
        {
         "name": "unit_price",
         "rawType": "float64",
         "type": "float"
        },
        {
         "name": "quantity",
         "rawType": "float64",
         "type": "float"
        },
        {
         "name": "tax_5%",
         "rawType": "float64",
         "type": "float"
        },
        {
         "name": "total",
         "rawType": "float64",
         "type": "float"
        },
        {
         "name": "cogs",
         "rawType": "float64",
         "type": "float"
        },
        {
         "name": "gross_margin_percentage",
         "rawType": "float64",
         "type": "float"
        },
        {
         "name": "gross_income",
         "rawType": "float64",
         "type": "float"
        },
        {
         "name": "rating",
         "rawType": "float64",
         "type": "float"
        },
        {
         "name": "year",
         "rawType": "float64",
         "type": "float"
        },
        {
         "name": "month",
         "rawType": "float64",
         "type": "float"
        },
        {
         "name": "hour",
         "rawType": "float64",
         "type": "float"
        }
       ],
       "ref": "a3d13ea7-fe14-4d6f-a361-dc0a1adaf59b",
       "rows": [
        [
         "count",
         "1000.0",
         "1000.0",
         "1000.0",
         "1000.0",
         "1000.0",
         "1000.0",
         "1000.0",
         "1000.0",
         "1000.0",
         "1000.0",
         "1000.0"
        ],
        [
         "mean",
         "55.67213",
         "5.51",
         "15.379368999999999",
         "322.966749",
         "307.58738",
         "4.761904762",
         "15.379368999999999",
         "6.9727",
         "2019.0",
         "1.993",
         "14.91"
        ],
        [
         "std",
         "26.494628347919768",
         "2.923430595455697",
         "11.708825480998659",
         "245.88533510097207",
         "234.17650961997307",
         "6.131497611557303e-14",
         "11.708825480998659",
         "1.718580294379123",
         "0.0",
         "0.8352536433016272",
         "3.186856767420849"
        ],
        [
         "min",
         "10.08",
         "1.0",
         "0.5085",
         "10.6785",
         "10.17",
         "4.761904762",
         "0.5085",
         "4.0",
         "2019.0",
         "1.0",
         "10.0"
        ],
        [
         "25%",
         "32.875",
         "3.0",
         "5.924875",
         "124.422375",
         "118.4975",
         "4.761904762",
         "5.924875",
         "5.5",
         "2019.0",
         "1.0",
         "12.0"
        ],
        [
         "50%",
         "55.230000000000004",
         "5.0",
         "12.088000000000001",
         "253.848",
         "241.76",
         "4.761904762",
         "12.088000000000001",
         "7.0",
         "2019.0",
         "2.0",
         "15.0"
        ],
        [
         "75%",
         "77.935",
         "8.0",
         "22.44525",
         "471.35024999999996",
         "448.90500000000003",
         "4.761904762",
         "22.44525",
         "8.5",
         "2019.0",
         "3.0",
         "18.0"
        ],
        [
         "max",
         "99.96",
         "10.0",
         "49.65",
         "1042.65",
         "993.0",
         "4.761904762",
         "49.65",
         "10.0",
         "2019.0",
         "3.0",
         "20.0"
        ]
       ],
       "shape": {
        "columns": 11,
        "rows": 8
       }
      },
      "text/html": [
       "<div>\n",
       "<style scoped>\n",
       "    .dataframe tbody tr th:only-of-type {\n",
       "        vertical-align: middle;\n",
       "    }\n",
       "\n",
       "    .dataframe tbody tr th {\n",
       "        vertical-align: top;\n",
       "    }\n",
       "\n",
       "    .dataframe thead th {\n",
       "        text-align: right;\n",
       "    }\n",
       "</style>\n",
       "<table border=\"1\" class=\"dataframe\">\n",
       "  <thead>\n",
       "    <tr style=\"text-align: right;\">\n",
       "      <th></th>\n",
       "      <th>unit_price</th>\n",
       "      <th>quantity</th>\n",
       "      <th>tax_5%</th>\n",
       "      <th>total</th>\n",
       "      <th>cogs</th>\n",
       "      <th>gross_margin_percentage</th>\n",
       "      <th>gross_income</th>\n",
       "      <th>rating</th>\n",
       "      <th>year</th>\n",
       "      <th>month</th>\n",
       "      <th>hour</th>\n",
       "    </tr>\n",
       "  </thead>\n",
       "  <tbody>\n",
       "    <tr>\n",
       "      <th>count</th>\n",
       "      <td>1000.000000</td>\n",
       "      <td>1000.000000</td>\n",
       "      <td>1000.000000</td>\n",
       "      <td>1000.000000</td>\n",
       "      <td>1000.00000</td>\n",
       "      <td>1.000000e+03</td>\n",
       "      <td>1000.000000</td>\n",
       "      <td>1000.00000</td>\n",
       "      <td>1000.0</td>\n",
       "      <td>1000.000000</td>\n",
       "      <td>1000.000000</td>\n",
       "    </tr>\n",
       "    <tr>\n",
       "      <th>mean</th>\n",
       "      <td>55.672130</td>\n",
       "      <td>5.510000</td>\n",
       "      <td>15.379369</td>\n",
       "      <td>322.966749</td>\n",
       "      <td>307.58738</td>\n",
       "      <td>4.761905e+00</td>\n",
       "      <td>15.379369</td>\n",
       "      <td>6.97270</td>\n",
       "      <td>2019.0</td>\n",
       "      <td>1.993000</td>\n",
       "      <td>14.910000</td>\n",
       "    </tr>\n",
       "    <tr>\n",
       "      <th>std</th>\n",
       "      <td>26.494628</td>\n",
       "      <td>2.923431</td>\n",
       "      <td>11.708825</td>\n",
       "      <td>245.885335</td>\n",
       "      <td>234.17651</td>\n",
       "      <td>6.131498e-14</td>\n",
       "      <td>11.708825</td>\n",
       "      <td>1.71858</td>\n",
       "      <td>0.0</td>\n",
       "      <td>0.835254</td>\n",
       "      <td>3.186857</td>\n",
       "    </tr>\n",
       "    <tr>\n",
       "      <th>min</th>\n",
       "      <td>10.080000</td>\n",
       "      <td>1.000000</td>\n",
       "      <td>0.508500</td>\n",
       "      <td>10.678500</td>\n",
       "      <td>10.17000</td>\n",
       "      <td>4.761905e+00</td>\n",
       "      <td>0.508500</td>\n",
       "      <td>4.00000</td>\n",
       "      <td>2019.0</td>\n",
       "      <td>1.000000</td>\n",
       "      <td>10.000000</td>\n",
       "    </tr>\n",
       "    <tr>\n",
       "      <th>25%</th>\n",
       "      <td>32.875000</td>\n",
       "      <td>3.000000</td>\n",
       "      <td>5.924875</td>\n",
       "      <td>124.422375</td>\n",
       "      <td>118.49750</td>\n",
       "      <td>4.761905e+00</td>\n",
       "      <td>5.924875</td>\n",
       "      <td>5.50000</td>\n",
       "      <td>2019.0</td>\n",
       "      <td>1.000000</td>\n",
       "      <td>12.000000</td>\n",
       "    </tr>\n",
       "    <tr>\n",
       "      <th>50%</th>\n",
       "      <td>55.230000</td>\n",
       "      <td>5.000000</td>\n",
       "      <td>12.088000</td>\n",
       "      <td>253.848000</td>\n",
       "      <td>241.76000</td>\n",
       "      <td>4.761905e+00</td>\n",
       "      <td>12.088000</td>\n",
       "      <td>7.00000</td>\n",
       "      <td>2019.0</td>\n",
       "      <td>2.000000</td>\n",
       "      <td>15.000000</td>\n",
       "    </tr>\n",
       "    <tr>\n",
       "      <th>75%</th>\n",
       "      <td>77.935000</td>\n",
       "      <td>8.000000</td>\n",
       "      <td>22.445250</td>\n",
       "      <td>471.350250</td>\n",
       "      <td>448.90500</td>\n",
       "      <td>4.761905e+00</td>\n",
       "      <td>22.445250</td>\n",
       "      <td>8.50000</td>\n",
       "      <td>2019.0</td>\n",
       "      <td>3.000000</td>\n",
       "      <td>18.000000</td>\n",
       "    </tr>\n",
       "    <tr>\n",
       "      <th>max</th>\n",
       "      <td>99.960000</td>\n",
       "      <td>10.000000</td>\n",
       "      <td>49.650000</td>\n",
       "      <td>1042.650000</td>\n",
       "      <td>993.00000</td>\n",
       "      <td>4.761905e+00</td>\n",
       "      <td>49.650000</td>\n",
       "      <td>10.00000</td>\n",
       "      <td>2019.0</td>\n",
       "      <td>3.000000</td>\n",
       "      <td>20.000000</td>\n",
       "    </tr>\n",
       "  </tbody>\n",
       "</table>\n",
       "</div>"
      ],
      "text/plain": [
       "        unit_price     quantity       tax_5%        total        cogs  \\\n",
       "count  1000.000000  1000.000000  1000.000000  1000.000000  1000.00000   \n",
       "mean     55.672130     5.510000    15.379369   322.966749   307.58738   \n",
       "std      26.494628     2.923431    11.708825   245.885335   234.17651   \n",
       "min      10.080000     1.000000     0.508500    10.678500    10.17000   \n",
       "25%      32.875000     3.000000     5.924875   124.422375   118.49750   \n",
       "50%      55.230000     5.000000    12.088000   253.848000   241.76000   \n",
       "75%      77.935000     8.000000    22.445250   471.350250   448.90500   \n",
       "max      99.960000    10.000000    49.650000  1042.650000   993.00000   \n",
       "\n",
       "       gross_margin_percentage  gross_income      rating    year        month  \\\n",
       "count             1.000000e+03   1000.000000  1000.00000  1000.0  1000.000000   \n",
       "mean              4.761905e+00     15.379369     6.97270  2019.0     1.993000   \n",
       "std               6.131498e-14     11.708825     1.71858     0.0     0.835254   \n",
       "min               4.761905e+00      0.508500     4.00000  2019.0     1.000000   \n",
       "25%               4.761905e+00      5.924875     5.50000  2019.0     1.000000   \n",
       "50%               4.761905e+00     12.088000     7.00000  2019.0     2.000000   \n",
       "75%               4.761905e+00     22.445250     8.50000  2019.0     3.000000   \n",
       "max               4.761905e+00     49.650000    10.00000  2019.0     3.000000   \n",
       "\n",
       "              hour  \n",
       "count  1000.000000  \n",
       "mean     14.910000  \n",
       "std       3.186857  \n",
       "min      10.000000  \n",
       "25%      12.000000  \n",
       "50%      15.000000  \n",
       "75%      18.000000  \n",
       "max      20.000000  "
      ]
     },
     "execution_count": 109,
     "metadata": {},
     "output_type": "execute_result"
    }
   ],
   "source": [
    "df.describe(include=[np.number])\n"
   ]
  },
  {
   "cell_type": "code",
   "execution_count": 112,
   "id": "a1eeaa55",
   "metadata": {},
   "outputs": [
    {
     "data": {
      "application/vnd.microsoft.datawrangler.viewer.v0+json": {
       "columns": [
        {
         "name": "date",
         "rawType": "datetime64[ns]",
         "type": "datetime"
        },
        {
         "name": "invoice_id",
         "rawType": "object",
         "type": "string"
        },
        {
         "name": "branch",
         "rawType": "object",
         "type": "string"
        },
        {
         "name": "city",
         "rawType": "object",
         "type": "string"
        },
        {
         "name": "customer_type",
         "rawType": "object",
         "type": "string"
        },
        {
         "name": "gender",
         "rawType": "object",
         "type": "string"
        },
        {
         "name": "product_line",
         "rawType": "object",
         "type": "string"
        },
        {
         "name": "time",
         "rawType": "object",
         "type": "string"
        },
        {
         "name": "payment",
         "rawType": "object",
         "type": "string"
        }
       ],
       "ref": "a0941a36-f9ee-4d9d-acb0-9eea2ed307d5",
       "rows": [
        [
         "2019-01-05 00:00:00",
         "750-67-8428",
         "A",
         "Yangon",
         "Member",
         "Female",
         "Health and beauty",
         "13:08",
         "Ewallet"
        ],
        [
         "2019-03-08 00:00:00",
         "226-31-3081",
         "C",
         "Naypyitaw",
         "Normal",
         "Female",
         "Electronic accessories",
         "10:29",
         "Cash"
        ],
        [
         "2019-03-03 00:00:00",
         "631-41-3108",
         "A",
         "Yangon",
         "Normal",
         "Male",
         "Home and lifestyle",
         "13:23",
         "Credit card"
        ],
        [
         "2019-01-27 00:00:00",
         "123-19-1176",
         "A",
         "Yangon",
         "Member",
         "Male",
         "Health and beauty",
         "20:33",
         "Ewallet"
        ],
        [
         "2019-02-08 00:00:00",
         "373-73-7910",
         "A",
         "Yangon",
         "Normal",
         "Male",
         "Sports and travel",
         "10:37",
         "Ewallet"
        ],
        [
         "2019-03-25 00:00:00",
         "699-14-3026",
         "C",
         "Naypyitaw",
         "Normal",
         "Male",
         "Electronic accessories",
         "18:30",
         "Ewallet"
        ],
        [
         "2019-02-25 00:00:00",
         "355-53-5943",
         "A",
         "Yangon",
         "Member",
         "Female",
         "Electronic accessories",
         "14:36",
         "Ewallet"
        ],
        [
         "2019-02-24 00:00:00",
         "315-22-5665",
         "C",
         "Naypyitaw",
         "Normal",
         "Female",
         "Home and lifestyle",
         "11:38",
         "Ewallet"
        ],
        [
         "2019-01-10 00:00:00",
         "665-32-9167",
         "A",
         "Yangon",
         "Member",
         "Female",
         "Health and beauty",
         "17:15",
         "Credit card"
        ],
        [
         "2019-02-20 00:00:00",
         "692-92-5582",
         "B",
         "Mandalay",
         "Member",
         "Female",
         "Food and beverages",
         "13:27",
         "Credit card"
        ],
        [
         "2019-02-06 00:00:00",
         "351-62-0822",
         "B",
         "Mandalay",
         "Member",
         "Female",
         "Fashion accessories",
         "18:07",
         "Ewallet"
        ],
        [
         "2019-03-09 00:00:00",
         "529-56-3974",
         "B",
         "Mandalay",
         "Member",
         "Male",
         "Electronic accessories",
         "17:03",
         "Cash"
        ],
        [
         "2019-02-12 00:00:00",
         "365-64-0515",
         "A",
         "Yangon",
         "Normal",
         "Female",
         "Electronic accessories",
         "10:25",
         "Ewallet"
        ],
        [
         "2019-02-07 00:00:00",
         "252-56-2699",
         "A",
         "Yangon",
         "Normal",
         "Male",
         "Food and beverages",
         "16:48",
         "Ewallet"
        ],
        [
         "2019-03-29 00:00:00",
         "829-34-3910",
         "A",
         "Yangon",
         "Normal",
         "Female",
         "Health and beauty",
         "19:21",
         "Cash"
        ],
        [
         "2019-01-15 00:00:00",
         "299-46-1805",
         "B",
         "Mandalay",
         "Member",
         "Female",
         "Sports and travel",
         "16:19",
         "Cash"
        ],
        [
         "2019-03-11 00:00:00",
         "656-95-9349",
         "A",
         "Yangon",
         "Member",
         "Female",
         "Health and beauty",
         "11:03",
         "Credit card"
        ],
        [
         "2019-01-01 00:00:00",
         "765-26-6951",
         "A",
         "Yangon",
         "Normal",
         "Male",
         "Sports and travel",
         "10:39",
         "Credit card"
        ],
        [
         "2019-01-21 00:00:00",
         "329-62-1586",
         "A",
         "Yangon",
         "Normal",
         "Male",
         "Food and beverages",
         "18:00",
         "Credit card"
        ],
        [
         "2019-03-11 00:00:00",
         "319-50-3348",
         "B",
         "Mandalay",
         "Normal",
         "Female",
         "Home and lifestyle",
         "15:30",
         "Ewallet"
        ],
        [
         "2019-02-25 00:00:00",
         "300-71-4605",
         "C",
         "Naypyitaw",
         "Member",
         "Male",
         "Electronic accessories",
         "11:24",
         "Ewallet"
        ],
        [
         "2019-03-05 00:00:00",
         "371-85-5789",
         "B",
         "Mandalay",
         "Normal",
         "Male",
         "Health and beauty",
         "10:40",
         "Ewallet"
        ],
        [
         "2019-03-15 00:00:00",
         "273-16-6619",
         "B",
         "Mandalay",
         "Normal",
         "Male",
         "Home and lifestyle",
         "12:20",
         "Credit card"
        ],
        [
         "2019-02-17 00:00:00",
         "636-48-8204",
         "A",
         "Yangon",
         "Normal",
         "Male",
         "Electronic accessories",
         "11:15",
         "Ewallet"
        ],
        [
         "2019-03-02 00:00:00",
         "549-59-1358",
         "A",
         "Yangon",
         "Member",
         "Male",
         "Sports and travel",
         "17:36",
         "Ewallet"
        ],
        [
         "2019-03-22 00:00:00",
         "227-03-5010",
         "A",
         "Yangon",
         "Member",
         "Female",
         "Home and lifestyle",
         "19:20",
         "Credit card"
        ],
        [
         "2019-02-08 00:00:00",
         "649-29-6775",
         "B",
         "Mandalay",
         "Normal",
         "Male",
         "Fashion accessories",
         "15:31",
         "Cash"
        ],
        [
         "2019-03-10 00:00:00",
         "189-17-4241",
         "A",
         "Yangon",
         "Normal",
         "Female",
         "Fashion accessories",
         "12:17",
         "Credit card"
        ],
        [
         "2019-01-25 00:00:00",
         "145-94-9061",
         "B",
         "Mandalay",
         "Normal",
         "Female",
         "Food and beverages",
         "19:48",
         "Cash"
        ],
        [
         "2019-03-15 00:00:00",
         "848-62-7243",
         "A",
         "Yangon",
         "Normal",
         "Male",
         "Health and beauty",
         "15:36",
         "Cash"
        ],
        [
         "2019-02-25 00:00:00",
         "871-79-8483",
         "B",
         "Mandalay",
         "Normal",
         "Male",
         "Fashion accessories",
         "19:39",
         "Credit card"
        ],
        [
         "2019-01-28 00:00:00",
         "149-71-6266",
         "B",
         "Mandalay",
         "Member",
         "Male",
         "Sports and travel",
         "12:43",
         "Cash"
        ],
        [
         "2019-01-10 00:00:00",
         "640-49-2076",
         "B",
         "Mandalay",
         "Normal",
         "Male",
         "Sports and travel",
         "14:49",
         "Cash"
        ],
        [
         "2019-03-15 00:00:00",
         "595-11-5460",
         "A",
         "Yangon",
         "Normal",
         "Male",
         "Health and beauty",
         "10:12",
         "Credit card"
        ],
        [
         "2019-02-06 00:00:00",
         "183-56-6882",
         "C",
         "Naypyitaw",
         "Member",
         "Female",
         "Food and beverages",
         "10:42",
         "Ewallet"
        ],
        [
         "2019-01-07 00:00:00",
         "232-16-2483",
         "C",
         "Naypyitaw",
         "Member",
         "Female",
         "Sports and travel",
         "12:28",
         "Ewallet"
        ],
        [
         "2019-03-10 00:00:00",
         "129-29-8530",
         "A",
         "Yangon",
         "Member",
         "Male",
         "Sports and travel",
         "19:15",
         "Ewallet"
        ],
        [
         "2019-01-15 00:00:00",
         "272-65-1806",
         "A",
         "Yangon",
         "Normal",
         "Female",
         "Electronic accessories",
         "17:17",
         "Ewallet"
        ],
        [
         "2019-03-23 00:00:00",
         "333-73-7901",
         "C",
         "Naypyitaw",
         "Normal",
         "Female",
         "Health and beauty",
         "13:24",
         "Ewallet"
        ],
        [
         "2019-03-03 00:00:00",
         "777-82-7220",
         "B",
         "Mandalay",
         "Member",
         "Male",
         "Home and lifestyle",
         "13:01",
         "Cash"
        ],
        [
         "2019-01-17 00:00:00",
         "280-35-5823",
         "B",
         "Mandalay",
         "Member",
         "Female",
         "Home and lifestyle",
         "18:45",
         "Ewallet"
        ],
        [
         "2019-02-02 00:00:00",
         "554-53-8700",
         "C",
         "Naypyitaw",
         "Member",
         "Male",
         "Home and lifestyle",
         "10:11",
         "Cash"
        ],
        [
         "2019-02-08 00:00:00",
         "354-25-5821",
         "B",
         "Mandalay",
         "Member",
         "Female",
         "Sports and travel",
         "13:03",
         "Cash"
        ],
        [
         "2019-03-04 00:00:00",
         "228-96-1411",
         "C",
         "Naypyitaw",
         "Member",
         "Female",
         "Food and beverages",
         "20:39",
         "Cash"
        ],
        [
         "2019-03-16 00:00:00",
         "617-15-4209",
         "C",
         "Naypyitaw",
         "Member",
         "Male",
         "Health and beauty",
         "19:47",
         "Cash"
        ],
        [
         "2019-03-09 00:00:00",
         "132-32-9879",
         "B",
         "Mandalay",
         "Member",
         "Female",
         "Electronic accessories",
         "18:00",
         "Cash"
        ],
        [
         "2019-02-27 00:00:00",
         "370-41-7321",
         "B",
         "Mandalay",
         "Member",
         "Male",
         "Health and beauty",
         "17:24",
         "Credit card"
        ],
        [
         "2019-02-06 00:00:00",
         "727-46-3608",
         "B",
         "Mandalay",
         "Member",
         "Female",
         "Food and beverages",
         "15:47",
         "Ewallet"
        ],
        [
         "2019-02-10 00:00:00",
         "669-54-1719",
         "B",
         "Mandalay",
         "Member",
         "Male",
         "Electronic accessories",
         "12:45",
         "Credit card"
        ],
        [
         "2019-03-19 00:00:00",
         "574-22-5561",
         "C",
         "Naypyitaw",
         "Member",
         "Female",
         "Fashion accessories",
         "17:08",
         "Ewallet"
        ]
       ],
       "shape": {
        "columns": 8,
        "rows": 1000
       }
      },
      "text/html": [
       "<div>\n",
       "<style scoped>\n",
       "    .dataframe tbody tr th:only-of-type {\n",
       "        vertical-align: middle;\n",
       "    }\n",
       "\n",
       "    .dataframe tbody tr th {\n",
       "        vertical-align: top;\n",
       "    }\n",
       "\n",
       "    .dataframe thead th {\n",
       "        text-align: right;\n",
       "    }\n",
       "</style>\n",
       "<table border=\"1\" class=\"dataframe\">\n",
       "  <thead>\n",
       "    <tr style=\"text-align: right;\">\n",
       "      <th></th>\n",
       "      <th>invoice_id</th>\n",
       "      <th>branch</th>\n",
       "      <th>city</th>\n",
       "      <th>customer_type</th>\n",
       "      <th>gender</th>\n",
       "      <th>product_line</th>\n",
       "      <th>time</th>\n",
       "      <th>payment</th>\n",
       "    </tr>\n",
       "    <tr>\n",
       "      <th>date</th>\n",
       "      <th></th>\n",
       "      <th></th>\n",
       "      <th></th>\n",
       "      <th></th>\n",
       "      <th></th>\n",
       "      <th></th>\n",
       "      <th></th>\n",
       "      <th></th>\n",
       "    </tr>\n",
       "  </thead>\n",
       "  <tbody>\n",
       "    <tr>\n",
       "      <th>2019-01-05</th>\n",
       "      <td>750-67-8428</td>\n",
       "      <td>A</td>\n",
       "      <td>Yangon</td>\n",
       "      <td>Member</td>\n",
       "      <td>Female</td>\n",
       "      <td>Health and beauty</td>\n",
       "      <td>13:08</td>\n",
       "      <td>Ewallet</td>\n",
       "    </tr>\n",
       "    <tr>\n",
       "      <th>2019-03-08</th>\n",
       "      <td>226-31-3081</td>\n",
       "      <td>C</td>\n",
       "      <td>Naypyitaw</td>\n",
       "      <td>Normal</td>\n",
       "      <td>Female</td>\n",
       "      <td>Electronic accessories</td>\n",
       "      <td>10:29</td>\n",
       "      <td>Cash</td>\n",
       "    </tr>\n",
       "    <tr>\n",
       "      <th>2019-03-03</th>\n",
       "      <td>631-41-3108</td>\n",
       "      <td>A</td>\n",
       "      <td>Yangon</td>\n",
       "      <td>Normal</td>\n",
       "      <td>Male</td>\n",
       "      <td>Home and lifestyle</td>\n",
       "      <td>13:23</td>\n",
       "      <td>Credit card</td>\n",
       "    </tr>\n",
       "    <tr>\n",
       "      <th>2019-01-27</th>\n",
       "      <td>123-19-1176</td>\n",
       "      <td>A</td>\n",
       "      <td>Yangon</td>\n",
       "      <td>Member</td>\n",
       "      <td>Male</td>\n",
       "      <td>Health and beauty</td>\n",
       "      <td>20:33</td>\n",
       "      <td>Ewallet</td>\n",
       "    </tr>\n",
       "    <tr>\n",
       "      <th>2019-02-08</th>\n",
       "      <td>373-73-7910</td>\n",
       "      <td>A</td>\n",
       "      <td>Yangon</td>\n",
       "      <td>Normal</td>\n",
       "      <td>Male</td>\n",
       "      <td>Sports and travel</td>\n",
       "      <td>10:37</td>\n",
       "      <td>Ewallet</td>\n",
       "    </tr>\n",
       "    <tr>\n",
       "      <th>...</th>\n",
       "      <td>...</td>\n",
       "      <td>...</td>\n",
       "      <td>...</td>\n",
       "      <td>...</td>\n",
       "      <td>...</td>\n",
       "      <td>...</td>\n",
       "      <td>...</td>\n",
       "      <td>...</td>\n",
       "    </tr>\n",
       "    <tr>\n",
       "      <th>2019-01-29</th>\n",
       "      <td>233-67-5758</td>\n",
       "      <td>C</td>\n",
       "      <td>Naypyitaw</td>\n",
       "      <td>Normal</td>\n",
       "      <td>Male</td>\n",
       "      <td>Health and beauty</td>\n",
       "      <td>13:46</td>\n",
       "      <td>Ewallet</td>\n",
       "    </tr>\n",
       "    <tr>\n",
       "      <th>2019-03-02</th>\n",
       "      <td>303-96-2227</td>\n",
       "      <td>B</td>\n",
       "      <td>Mandalay</td>\n",
       "      <td>Normal</td>\n",
       "      <td>Female</td>\n",
       "      <td>Home and lifestyle</td>\n",
       "      <td>17:16</td>\n",
       "      <td>Ewallet</td>\n",
       "    </tr>\n",
       "    <tr>\n",
       "      <th>2019-02-09</th>\n",
       "      <td>727-02-1313</td>\n",
       "      <td>A</td>\n",
       "      <td>Yangon</td>\n",
       "      <td>Member</td>\n",
       "      <td>Male</td>\n",
       "      <td>Food and beverages</td>\n",
       "      <td>13:22</td>\n",
       "      <td>Cash</td>\n",
       "    </tr>\n",
       "    <tr>\n",
       "      <th>2019-02-22</th>\n",
       "      <td>347-56-2442</td>\n",
       "      <td>A</td>\n",
       "      <td>Yangon</td>\n",
       "      <td>Normal</td>\n",
       "      <td>Male</td>\n",
       "      <td>Home and lifestyle</td>\n",
       "      <td>15:33</td>\n",
       "      <td>Cash</td>\n",
       "    </tr>\n",
       "    <tr>\n",
       "      <th>2019-02-18</th>\n",
       "      <td>849-09-3807</td>\n",
       "      <td>A</td>\n",
       "      <td>Yangon</td>\n",
       "      <td>Member</td>\n",
       "      <td>Female</td>\n",
       "      <td>Fashion accessories</td>\n",
       "      <td>13:28</td>\n",
       "      <td>Cash</td>\n",
       "    </tr>\n",
       "  </tbody>\n",
       "</table>\n",
       "<p>1000 rows × 8 columns</p>\n",
       "</div>"
      ],
      "text/plain": [
       "             invoice_id branch       city customer_type  gender  \\\n",
       "date                                                              \n",
       "2019-01-05  750-67-8428      A     Yangon        Member  Female   \n",
       "2019-03-08  226-31-3081      C  Naypyitaw        Normal  Female   \n",
       "2019-03-03  631-41-3108      A     Yangon        Normal    Male   \n",
       "2019-01-27  123-19-1176      A     Yangon        Member    Male   \n",
       "2019-02-08  373-73-7910      A     Yangon        Normal    Male   \n",
       "...                 ...    ...        ...           ...     ...   \n",
       "2019-01-29  233-67-5758      C  Naypyitaw        Normal    Male   \n",
       "2019-03-02  303-96-2227      B   Mandalay        Normal  Female   \n",
       "2019-02-09  727-02-1313      A     Yangon        Member    Male   \n",
       "2019-02-22  347-56-2442      A     Yangon        Normal    Male   \n",
       "2019-02-18  849-09-3807      A     Yangon        Member  Female   \n",
       "\n",
       "                      product_line   time      payment  \n",
       "date                                                    \n",
       "2019-01-05       Health and beauty  13:08      Ewallet  \n",
       "2019-03-08  Electronic accessories  10:29         Cash  \n",
       "2019-03-03      Home and lifestyle  13:23  Credit card  \n",
       "2019-01-27       Health and beauty  20:33      Ewallet  \n",
       "2019-02-08       Sports and travel  10:37      Ewallet  \n",
       "...                            ...    ...          ...  \n",
       "2019-01-29       Health and beauty  13:46      Ewallet  \n",
       "2019-03-02      Home and lifestyle  17:16      Ewallet  \n",
       "2019-02-09      Food and beverages  13:22         Cash  \n",
       "2019-02-22      Home and lifestyle  15:33         Cash  \n",
       "2019-02-18     Fashion accessories  13:28         Cash  \n",
       "\n",
       "[1000 rows x 8 columns]"
      ]
     },
     "execution_count": 112,
     "metadata": {},
     "output_type": "execute_result"
    }
   ],
   "source": [
    "cat_columns=df.select_dtypes(include='O')\n",
    "cat_columns"
   ]
  },
  {
   "cell_type": "code",
   "execution_count": 113,
   "id": "0c87fe9b",
   "metadata": {},
   "outputs": [
    {
     "name": "stdout",
     "output_type": "stream",
     "text": [
      "the number of unique values for the invoice_id column is 1000\n",
      "the unique values for the invoice_id column is ['750-67-8428' '226-31-3081' '631-41-3108' '123-19-1176' '373-73-7910'\n",
      " '699-14-3026' '355-53-5943' '315-22-5665' '665-32-9167' '692-92-5582'\n",
      " '351-62-0822' '529-56-3974' '365-64-0515' '252-56-2699' '829-34-3910'\n",
      " '299-46-1805' '656-95-9349' '765-26-6951' '329-62-1586' '319-50-3348'\n",
      " '300-71-4605' '371-85-5789' '273-16-6619' '636-48-8204' '549-59-1358'\n",
      " '227-03-5010' '649-29-6775' '189-17-4241' '145-94-9061' '848-62-7243'\n",
      " '871-79-8483' '149-71-6266' '640-49-2076' '595-11-5460' '183-56-6882'\n",
      " '232-16-2483' '129-29-8530' '272-65-1806' '333-73-7901' '777-82-7220'\n",
      " '280-35-5823' '554-53-8700' '354-25-5821' '228-96-1411' '617-15-4209'\n",
      " '132-32-9879' '370-41-7321' '727-46-3608' '669-54-1719' '574-22-5561'\n",
      " '326-78-5178' '162-48-8011' '616-24-2851' '778-71-5554' '242-55-6721'\n",
      " '399-46-5918' '106-35-6779' '635-40-6220' '817-48-8732' '120-06-4233'\n",
      " '285-68-5083' '803-83-5989' '347-34-2234' '199-75-8169' '853-23-2453'\n",
      " '877-22-3308' '838-78-4295' '109-28-2512' '232-11-3025' '382-03-4532'\n",
      " '393-65-2792' '796-12-2025' '510-95-6347' '841-35-6630' '287-21-9091'\n",
      " '732-94-0499' '263-10-3913' '381-20-0914' '829-49-1914' '756-01-7507'\n",
      " '870-72-4431' '847-38-7188' '480-63-2856' '787-56-0757' '360-39-5055'\n",
      " '730-50-9884' '362-58-8315' '633-44-8566' '504-35-8843' '318-68-5053'\n",
      " '565-80-5980' '225-32-0908' '873-51-0671' '152-08-9985' '512-91-0811'\n",
      " '594-34-4444' '766-85-7061' '871-39-9221' '865-92-6136' '733-01-9107'\n",
      " '163-56-7055' '189-98-2939' '551-21-3069' '212-62-1842' '716-39-1409'\n",
      " '704-48-3927' '628-34-3388' '630-74-5166' '588-01-7461' '861-77-0145'\n",
      " '479-26-8945' '210-67-5886' '227-78-1148' '645-44-1170' '237-01-6122'\n",
      " '225-98-1496' '291-32-1427' '659-65-8956' '642-32-2990' '378-24-2715'\n",
      " '638-60-7125' '659-36-1684' '219-22-9386' '336-78-2147' '268-27-6179'\n",
      " '668-90-8900' '870-54-3162' '189-08-9157' '663-86-9076' '549-84-7482'\n",
      " '191-10-6171' '802-70-5316' '695-51-0018' '590-83-4591' '483-71-1164'\n",
      " '597-78-7908' '700-81-1757' '354-39-5160' '241-72-9525' '575-30-8091'\n",
      " '731-81-9469' '280-17-4359' '338-65-2210' '488-25-4221' '239-10-7476'\n",
      " '458-41-1477' '685-64-1609' '568-90-5112' '262-47-2794' '238-49-0436'\n",
      " '608-96-3517' '584-86-7256' '746-94-0204' '214-17-6927' '400-89-4171'\n",
      " '782-95-9291' '279-74-2924' '307-85-2293' '743-04-1105' '423-57-2993'\n",
      " '894-41-5205' '275-28-0149' '101-17-6199' '423-80-0988' '548-46-9322'\n",
      " '505-02-0892' '234-65-2137' '687-47-8271' '796-32-9050' '105-31-1824'\n",
      " '249-42-3782' '316-55-4634' '733-33-4967' '608-27-6295' '414-12-7047'\n",
      " '827-26-2100' '175-54-2529' '139-52-2867' '407-63-8975' '342-65-4817'\n",
      " '130-98-8941' '434-83-9547' '851-28-6367' '824-88-3614' '586-25-0848'\n",
      " '895-66-0685' '305-14-0245' '732-04-5373' '400-60-7251' '593-65-1552'\n",
      " '284-34-9626' '437-58-8131' '286-43-6208' '641-43-2399' '831-07-6050'\n",
      " '556-86-3144' '848-24-9445' '856-22-8149' '699-01-4164' '420-11-4919'\n",
      " '606-80-4905' '542-41-0513' '426-39-2418' '875-46-5808' '394-43-4238'\n",
      " '749-24-1565' '672-51-8681' '263-87-5680' '573-58-9734' '817-69-8206'\n",
      " '888-02-0338' '677-11-0152' '142-63-6033' '656-16-1063' '891-58-8335'\n",
      " '802-43-8934' '560-30-5617' '319-74-2561' '549-03-9315' '790-29-1172'\n",
      " '239-36-3640' '468-01-2051' '389-25-3394' '279-62-1445' '213-72-6612'\n",
      " '746-68-6593' '836-82-5858' '583-72-1480' '466-61-5506' '721-86-6247'\n",
      " '289-65-5721' '545-46-3100' '418-02-5978' '269-04-5750' '157-13-5295'\n",
      " '645-78-8093' '211-30-9270' '755-12-3214' '346-84-3103' '478-06-7835'\n",
      " '540-11-4336' '448-81-5016' '142-72-4741' '217-58-1179' '376-02-8238'\n",
      " '530-90-9855' '866-05-7563' '604-70-6476' '799-71-1548' '785-13-7708'\n",
      " '845-51-0542' '662-47-5456' '883-17-4236' '290-68-2984' '704-11-6354'\n",
      " '110-48-7033' '366-93-0948' '729-09-9681' '151-16-1484' '380-94-4661'\n",
      " '850-41-9669' '821-07-3596' '655-85-5130' '447-15-7839' '154-74-7179'\n",
      " '253-12-6086' '808-65-0703' '571-94-0759' '144-51-6085' '731-14-2199'\n",
      " '783-09-1637' '687-15-1097' '126-54-1082' '633-91-1052' '477-24-6490'\n",
      " '566-19-5475' '526-86-8552' '376-56-3573' '537-72-0426' '828-61-5674'\n",
      " '136-08-6195' '523-38-0215' '490-29-1201' '667-92-0055' '565-17-3836'\n",
      " '498-41-1961' '593-95-4461' '226-71-3580' '283-79-9594' '430-60-3493'\n",
      " '139-20-0155' '558-80-4082' '278-97-7759' '316-68-6352' '585-03-5943'\n",
      " '211-05-0490' '727-75-6477' '744-02-5987' '307-83-9164' '779-06-0012'\n",
      " '446-47-6729' '573-10-3877' '735-06-4124' '439-54-7422' '396-90-2219'\n",
      " '411-77-0180' '286-01-5402' '803-17-8013' '512-98-1403' '848-42-2560'\n",
      " '532-59-7201' '181-94-6432' '870-76-1733' '423-64-4619' '227-07-4446'\n",
      " '174-36-3675' '428-83-5800' '603-07-0961' '704-20-4138' '787-15-1757'\n",
      " '649-11-3678' '622-20-1945' '372-94-8041' '563-91-7120' '746-54-5508'\n",
      " '276-54-0879' '815-11-1168' '719-76-3868' '730-61-8757' '340-66-0321'\n",
      " '868-81-1752' '634-97-8956' '566-71-1091' '442-48-3607' '835-16-0096'\n",
      " '527-09-6272' '898-04-2717' '692-27-8933' '633-09-3463' '374-17-3652'\n",
      " '378-07-7001' '433-75-6987' '873-95-4984' '416-13-5917' '150-89-8043'\n",
      " '135-84-8019' '441-94-7118' '725-96-3778' '531-80-1784' '400-45-1220'\n",
      " '860-79-0874' '834-61-8124' '115-99-4379' '565-67-6697' '320-49-6392'\n",
      " '889-04-9723' '632-90-0281' '554-42-2417' '453-63-6187' '578-80-7669'\n",
      " '612-36-5536' '605-72-4132' '471-41-2823' '462-67-9126' '272-27-9238'\n",
      " '834-25-9262' '122-61-9553' '468-88-0009' '613-59-9758' '254-31-0042'\n",
      " '201-86-2184' '261-12-8671' '730-70-9830' '382-25-8917' '422-29-8786'\n",
      " '667-23-5919' '843-01-4703' '743-88-1662' '595-86-2894' '182-69-8360'\n",
      " '289-15-7034' '462-78-5240' '868-52-7573' '153-58-4872' '662-72-2873'\n",
      " '525-88-7307' '689-16-9784' '725-56-0833' '394-41-0748' '596-42-3999'\n",
      " '541-89-9860' '173-82-9529' '563-36-9814' '308-47-4913' '885-17-6250'\n",
      " '726-27-2396' '316-01-3952' '760-54-1821' '793-10-3222' '346-12-3257'\n",
      " '110-05-6330' '651-61-0874' '236-86-3015' '831-64-0259' '587-03-7455'\n",
      " '882-40-4577' '732-67-5346' '725-32-9708' '256-08-8343' '372-26-1506'\n",
      " '244-08-0162' '569-71-4390' '132-23-6451' '696-90-2548' '472-15-9636'\n",
      " '268-03-6164' '750-57-9686' '186-09-3669' '848-07-1692' '745-71-3520'\n",
      " '266-76-6436' '740-22-2500' '271-88-8734' '301-81-8610' '489-64-4354'\n",
      " '198-84-7132' '269-10-8440' '650-98-6268' '741-73-3559' '325-77-6186'\n",
      " '286-75-7818' '574-57-9721' '459-50-7686' '616-87-0016' '837-55-7229'\n",
      " '751-69-0068' '257-73-1380' '345-08-4992' '549-96-4200' '810-60-6344'\n",
      " '450-28-2866' '394-30-3170' '138-17-5109' '192-98-7397' '301-11-9629'\n",
      " '390-80-5128' '235-46-8343' '453-12-7053' '296-11-7041' '449-27-2918'\n",
      " '891-01-7034' '744-09-5786' '727-17-0390' '568-88-3448' '187-83-5490'\n",
      " '767-54-1907' '710-46-4433' '533-33-5337' '325-90-8763' '729-46-7422'\n",
      " '639-76-1242' '234-03-4040' '326-71-2155' '320-32-8842' '470-32-9057'\n",
      " '878-30-2331' '440-59-5691' '554-53-3790' '746-19-0921' '233-34-0817'\n",
      " '767-05-1286' '340-21-9136' '405-31-3305' '731-59-7531' '676-39-6028'\n",
      " '502-05-1910' '485-30-8700' '598-47-9715' '701-69-8742' '575-67-1508'\n",
      " '541-08-3113' '246-11-3901' '674-15-9296' '305-18-3552' '493-65-6248'\n",
      " '438-01-4015' '709-58-4068' '795-49-7276' '556-72-8512' '627-95-3243'\n",
      " '686-41-0932' '510-09-5628' '608-04-3797' '148-82-2527' '437-53-3084'\n",
      " '632-32-4574' '556-97-7101' '862-59-8517' '401-18-8016' '420-18-8989'\n",
      " '277-63-2961' '573-98-8548' '620-02-2046' '282-35-2475' '511-54-3087'\n",
      " '726-29-6793' '387-49-4215' '862-17-9201' '291-21-5991' '602-80-9671'\n",
      " '347-72-6115' '209-61-0206' '595-27-4851' '189-52-0236' '503-07-0930'\n",
      " '413-20-6708' '425-85-2085' '521-18-7827' '220-28-1851' '600-38-9738'\n",
      " '734-91-1155' '451-28-5717' '609-81-8548' '133-14-7229' '534-01-4457'\n",
      " '719-89-8991' '286-62-6248' '339-38-9982' '827-44-5872' '827-77-7633'\n",
      " '287-83-1405' '435-13-4908' '857-67-9057' '236-27-1144' '892-05-6689'\n",
      " '583-41-4548' '339-12-4827' '643-38-7867' '308-81-0538' '358-88-9262'\n",
      " '460-35-4390' '343-87-0864' '173-50-1108' '243-47-2663' '841-18-8232'\n",
      " '701-23-5550' '647-50-1224' '541-48-8554' '539-21-7227' '213-32-1216'\n",
      " '747-58-7183' '582-52-8065' '210-57-1719' '399-69-4630' '134-75-2619'\n",
      " '356-44-8813' '198-66-9832' '283-26-5248' '712-39-0363' '218-59-9410'\n",
      " '174-75-0888' '866-99-7614' '134-54-4720' '760-90-2357' '514-37-2845'\n",
      " '698-98-5964' '718-57-9773' '651-88-7328' '241-11-2261' '408-26-9866'\n",
      " '834-83-1826' '343-61-3544' '239-48-4278' '355-34-6244' '550-84-8664'\n",
      " '339-96-8318' '458-61-0011' '592-34-6155' '797-88-0493' '207-73-1363'\n",
      " '390-31-6381' '443-82-0585' '339-18-7061' '359-90-3665' '375-72-3056'\n",
      " '127-47-6963' '278-86-2735' '695-28-6250' '379-17-6588' '227-50-3718'\n",
      " '302-15-2162' '788-07-8452' '560-49-6611' '880-35-0356' '585-11-6748'\n",
      " '470-31-3286' '152-68-2907' '123-35-4896' '258-69-7810' '334-64-2006'\n",
      " '219-61-4139' '881-41-7302' '373-09-4567' '642-30-6693' '484-22-8230'\n",
      " '830-58-2383' '559-98-9873' '544-32-5024' '318-12-0304' '349-97-8902'\n",
      " '421-95-9805' '277-35-5865' '789-23-8625' '284-54-4231' '443-59-0061'\n",
      " '509-29-3912' '327-40-9673' '840-19-2096' '828-46-6863' '641-96-3695'\n",
      " '420-97-3340' '436-54-4512' '670-79-6321' '852-62-7105' '598-06-7312'\n",
      " '135-13-8269' '816-57-2053' '628-90-8624' '856-66-2701' '308-39-1707'\n",
      " '149-61-1929' '655-07-2265' '589-02-8023' '420-04-7590' '182-88-2763'\n",
      " '188-55-0967' '610-46-4100' '318-81-2368' '364-33-8584' '665-63-9737'\n",
      " '695-09-5146' '155-45-3814' '794-32-2436' '131-15-8856' '273-84-2164'\n",
      " '706-36-6154' '778-89-7974' '574-31-8277' '859-71-0933' '740-11-5257'\n",
      " '369-82-2676' '563-47-4072' '742-04-5161' '149-15-7606' '133-77-3154'\n",
      " '169-52-4504' '250-81-7186' '562-12-5430' '816-72-8853' '491-38-3499'\n",
      " '322-02-2271' '842-29-4695' '725-67-2480' '641-51-2661' '714-02-3114'\n",
      " '518-17-2983' '779-42-2410' '190-14-3147' '408-66-6712' '679-22-6530'\n",
      " '588-47-8641' '642-61-4706' '576-31-4774' '556-41-6224' '811-03-8790'\n",
      " '242-11-3142' '752-23-3760' '274-05-5470' '648-94-3045' '130-67-4723'\n",
      " '528-87-5606' '320-85-2052' '370-96-0655' '105-10-6182' '510-79-0415'\n",
      " '241-96-5076' '767-97-4650' '648-83-1321' '173-57-2300' '305-03-2383'\n",
      " '394-55-6384' '266-20-6657' '689-05-1884' '196-01-2849' '372-62-5264'\n",
      " '800-09-8606' '182-52-7000' '826-58-8051' '868-06-0466' '751-41-9720'\n",
      " '626-43-7888' '176-64-7711' '191-29-0321' '729-06-2010' '640-48-5028'\n",
      " '186-79-9562' '834-45-5519' '162-65-8559' '760-27-5490' '445-30-9252'\n",
      " '786-94-2700' '728-88-7867' '183-21-3799' '268-20-3585' '735-32-9839'\n",
      " '258-92-7466' '857-16-3520' '482-17-1179' '788-21-5741' '821-14-9046'\n",
      " '418-05-0656' '678-79-0726' '776-68-1096' '592-46-1692' '434-35-9162'\n",
      " '149-14-0304' '442-44-6497' '174-64-0215' '210-74-9613' '299-29-0180'\n",
      " '247-11-2470' '635-28-5728' '756-49-0168' '438-23-1242' '238-45-6950'\n",
      " '607-65-2441' '386-27-7606' '137-63-5492' '197-77-7132' '805-86-0265'\n",
      " '733-29-1227' '451-73-2711' '373-14-0504' '546-80-2899' '345-68-9016'\n",
      " '390-17-5806' '457-13-1708' '664-14-2882' '487-79-6868' '314-23-4520'\n",
      " '210-30-7976' '585-86-8361' '807-14-7833' '775-72-1988' '288-38-3758'\n",
      " '652-43-6591' '785-96-0615' '406-46-7107' '250-17-5703' '156-95-3964'\n",
      " '842-40-8179' '525-09-8450' '410-67-1709' '587-73-4862' '787-87-2010'\n",
      " '593-14-4239' '801-88-0346' '388-76-2555' '711-31-1234' '886-54-6089'\n",
      " '707-32-7409' '759-98-4285' '201-63-8275' '471-06-8611' '200-16-5952'\n",
      " '120-54-2248' '102-77-2261' '875-31-8302' '102-06-2002' '457-94-0464'\n",
      " '629-42-4133' '534-53-3526' '307-04-2070' '468-99-7231' '516-77-6464'\n",
      " '404-91-5964' '886-77-9084' '790-38-4466' '704-10-4056' '497-37-6538'\n",
      " '651-96-5970' '400-80-4065' '744-16-7898' '263-12-5321' '702-72-0487'\n",
      " '605-83-1050' '443-60-9639' '864-24-7918' '359-94-5395' '401-09-4232'\n",
      " '751-15-6198' '324-41-6833' '474-33-8305' '759-29-9521' '831-81-6575'\n",
      " '220-68-6701' '618-34-8551' '257-60-7754' '559-61-5987' '189-55-2313'\n",
      " '565-91-4567' '380-60-5336' '815-04-6282' '674-56-6360' '778-34-2523'\n",
      " '499-27-7781' '477-59-2456' '832-51-6761' '869-11-3082' '190-59-3964'\n",
      " '366-43-6862' '186-43-8965' '784-21-9238' '276-75-6884' '109-86-4363'\n",
      " '569-76-2760' '222-42-0244' '760-53-9233' '538-22-0304' '416-17-9926'\n",
      " '237-44-6163' '636-17-0325' '343-75-9322' '528-14-9470' '427-45-9297'\n",
      " '807-34-3742' '288-62-1085' '670-71-7306' '660-29-7083' '271-77-8740'\n",
      " '497-36-0989' '291-59-1384' '860-73-6466' '549-23-9016' '896-34-0956'\n",
      " '804-38-3935' '585-90-0249' '862-29-5914' '845-94-6841' '125-45-2293'\n",
      " '843-73-4724' '409-33-9708' '658-66-3967' '866-70-2814' '160-22-2687'\n",
      " '895-03-6665' '770-42-8960' '748-45-2862' '234-36-2483' '316-66-3011'\n",
      " '848-95-6252' '840-76-5966' '152-03-4217' '533-66-5566' '124-31-1458'\n",
      " '176-78-1170' '361-59-0574' '101-81-4070' '631-34-1880' '852-82-2749'\n",
      " '873-14-6353' '584-66-4073' '544-55-9589' '166-19-2553' '737-88-5876'\n",
      " '154-87-7367' '885-56-0389' '608-05-3804' '448-61-3783' '761-49-0439'\n",
      " '490-95-0021' '115-38-7388' '311-13-6971' '291-55-6563' '548-48-3156'\n",
      " '460-93-5834' '325-89-4209' '884-80-6021' '137-74-8729' '880-46-5796'\n",
      " '389-70-2397' '114-35-5271' '607-76-6216' '715-20-1673' '811-35-1094'\n",
      " '699-88-1972' '781-84-8059' '409-49-6995' '725-54-0677' '146-09-5432'\n",
      " '377-79-7592' '509-10-0516' '595-94-9924' '865-41-9075' '545-07-8534'\n",
      " '118-62-1812' '450-42-3339' '851-98-3555' '186-71-5196' '624-01-8356'\n",
      " '313-66-9943' '151-27-8496' '453-33-6436' '522-57-8364' '459-45-2396'\n",
      " '717-96-4189' '722-13-2115' '749-81-8133' '777-67-2495' '636-98-3364'\n",
      " '246-55-6923' '181-82-6255' '838-02-1821' '887-42-0517' '457-12-0244'\n",
      " '226-34-0034' '321-49-7382' '397-25-8725' '431-66-2305' '825-94-5922'\n",
      " '641-62-7288' '756-93-1854' '243-55-8457' '458-10-8612' '501-61-1753'\n",
      " '235-06-8510' '433-08-7822' '361-85-2571' '131-70-8179' '500-02-2261'\n",
      " '720-72-2436' '702-83-5291' '809-69-9497' '449-16-6770' '333-23-2632'\n",
      " '489-82-1237' '859-97-6048' '676-10-2200' '373-88-1424' '365-16-4334'\n",
      " '503-21-4385' '305-89-2768' '574-80-1489' '784-08-0310' '200-40-6154'\n",
      " '846-10-0341' '577-34-7579' '430-02-3888' '867-47-1948' '384-59-6655'\n",
      " '256-58-3609' '324-92-3863' '593-08-5916' '364-34-2972' '794-42-3736'\n",
      " '172-42-8274' '558-60-5016' '195-06-0432' '605-03-2706' '214-30-2776'\n",
      " '746-04-1077' '448-34-8700' '452-04-8808' '531-56-4728' '744-82-9138'\n",
      " '883-69-1285' '221-25-5073' '518-71-6847' '156-20-0370' '151-33-7434'\n",
      " '728-47-9078' '809-46-1866' '139-32-4183' '148-41-7930' '189-40-5216'\n",
      " '374-38-5555' '764-44-8999' '552-44-5977' '267-62-7380' '430-53-4718'\n",
      " '886-18-2897' '602-16-6955' '745-74-0715' '690-01-6631' '652-49-6720'\n",
      " '233-67-5758' '303-96-2227' '727-02-1313' '347-56-2442' '849-09-3807']\n",
      " \n",
      "**************************************************\n",
      "the number of unique values for the branch column is 3\n",
      "the unique values for the branch column is ['A' 'C' 'B']\n",
      " \n",
      "**************************************************\n",
      "the number of unique values for the city column is 3\n",
      "the unique values for the city column is ['Yangon' 'Naypyitaw' 'Mandalay']\n",
      " \n",
      "**************************************************\n",
      "the number of unique values for the customer_type column is 2\n",
      "the unique values for the customer_type column is ['Member' 'Normal']\n",
      " \n",
      "**************************************************\n",
      "the number of unique values for the gender column is 2\n",
      "the unique values for the gender column is ['Female' 'Male']\n",
      " \n",
      "**************************************************\n",
      "the number of unique values for the product_line column is 6\n",
      "the unique values for the product_line column is ['Health and beauty' 'Electronic accessories' 'Home and lifestyle'\n",
      " 'Sports and travel' 'Food and beverages' 'Fashion accessories']\n",
      " \n",
      "**************************************************\n",
      "the number of unique values for the time column is 506\n",
      "the unique values for the time column is ['13:08' '10:29' '13:23' '20:33' '10:37' '18:30' '14:36' '11:38' '17:15'\n",
      " '13:27' '18:07' '17:03' '10:25' '16:48' '19:21' '16:19' '11:03' '10:39'\n",
      " '18:00' '15:30' '11:24' '10:40' '12:20' '11:15' '17:36' '19:20' '15:31'\n",
      " '12:17' '19:48' '15:36' '19:39' '12:43' '14:49' '10:12' '10:42' '12:28'\n",
      " '19:15' '17:17' '13:24' '13:01' '18:45' '10:11' '13:03' '20:39' '19:47'\n",
      " '17:24' '15:47' '12:45' '17:08' '10:19' '15:10' '14:42' '15:46' '11:49'\n",
      " '19:01' '11:26' '11:28' '15:55' '20:36' '17:47' '10:55' '13:40' '12:27'\n",
      " '14:35' '16:40' '15:43' '15:01' '10:04' '18:50' '12:46' '18:17' '18:21'\n",
      " '17:04' '14:20' '15:48' '16:24' '18:56' '19:56' '18:37' '10:17' '14:31'\n",
      " '10:23' '20:35' '16:57' '17:55' '19:54' '16:42' '12:09' '20:05' '20:38'\n",
      " '13:11' '10:16' '18:14' '13:22' '11:27' '16:44' '18:19' '14:50' '20:54'\n",
      " '20:19' '10:43' '14:30' '11:32' '10:41' '12:44' '20:07' '20:31' '12:29'\n",
      " '15:26' '20:48' '12:02' '17:26' '19:52' '14:57' '18:44' '13:26' '16:17'\n",
      " '15:57' '13:18' '20:34' '18:36' '14:40' '16:43' '20:59' '15:39' '12:21'\n",
      " '19:25' '13:00' '13:48' '19:57' '10:36' '16:37' '17:11' '15:07' '16:07'\n",
      " '11:56' '18:23' '13:05' '19:40' '13:58' '14:43' '19:18' '16:21' '19:44'\n",
      " '19:42' '15:24' '14:12' '13:32' '16:20' '16:31' '11:36' '19:17' '17:34'\n",
      " '12:04' '17:01' '10:50' '19:16' '16:47' '10:00' '11:51' '15:00' '11:19'\n",
      " '19:46' '19:00' '10:53' '12:50' '20:50' '13:41' '19:08' '20:23' '11:30'\n",
      " '19:30' '18:03' '10:13' '19:58' '10:01' '11:57' '10:02' '14:51' '12:42'\n",
      " '17:38' '20:24' '18:08' '15:53' '15:05' '18:27' '16:55' '12:58' '18:59'\n",
      " '13:44' '13:46' '18:06' '12:38' '15:56' '14:29' '19:14' '10:52' '12:55'\n",
      " '19:28' '13:52' '10:54' '18:31' '18:24' '18:09' '15:16' '17:07' '19:26'\n",
      " '11:20' '16:49' '12:01' '11:25' '18:42' '14:47' '19:43' '14:04' '16:11'\n",
      " '19:06' '15:34' '11:22' '11:23' '10:46' '13:25' '14:53' '19:22' '11:00'\n",
      " '19:24' '17:22' '20:55' '16:05' '13:34' '18:13' '11:44' '15:51' '16:52'\n",
      " '20:52' '16:28' '13:29' '11:09' '15:02' '14:21' '18:01' '13:30' '14:38'\n",
      " '17:37' '17:20' '20:29' '11:46' '13:42' '14:44' '14:16' '15:54' '10:21'\n",
      " '16:46' '20:14' '17:09' '17:43' '19:05' '10:08' '13:12' '20:51' '17:29'\n",
      " '11:34' '18:58' '20:26' '15:08' '13:21' '12:48' '19:53' '19:09' '16:30'\n",
      " '13:07' '18:48' '17:27' '15:59' '11:21' '15:49' '13:02' '20:21' '15:04'\n",
      " '16:10' '12:14' '11:06' '18:22' '19:02' '15:44' '20:01' '13:45' '15:40'\n",
      " '16:58' '11:12' '15:12' '20:37' '17:44' '16:23' '12:12' '19:33' '14:28'\n",
      " '17:54' '12:25' '12:52' '19:50' '15:32' '13:19' '13:37' '14:55' '12:31'\n",
      " '10:26' '20:18' '20:04' '13:38' '17:30' '15:28' '19:07' '18:55' '19:36'\n",
      " '10:57' '17:13' '13:57' '13:53' '16:53' '16:51' '15:37' '20:15' '19:35'\n",
      " '15:42' '14:11' '17:58' '11:02' '15:09' '13:47' '16:59' '14:15' '15:19'\n",
      " '18:33' '12:10' '11:40' '16:54' '15:25' '20:47' '18:20' '11:48' '14:14'\n",
      " '11:17' '12:40' '17:53' '16:36' '10:48' '18:05' '12:07' '19:49' '15:52'\n",
      " '20:46' '10:34' '13:55' '11:43' '16:03' '20:03' '19:41' '18:04' '10:31'\n",
      " '13:28' '17:16' '18:43' '10:30' '20:40' '12:08' '17:45' '10:28' '10:49'\n",
      " '12:34' '18:51' '19:38' '12:32' '10:33' '19:55' '14:33' '13:54' '12:15'\n",
      " '12:37' '15:06' '15:58' '14:03' '16:38' '11:07' '12:23' '14:13' '19:11'\n",
      " '18:53' '14:22' '10:06' '20:08' '12:56' '10:18' '11:45' '16:08' '12:24'\n",
      " '19:51' '18:10' '15:27' '16:04' '14:41' '14:19' '14:08' '11:29' '12:16'\n",
      " '20:00' '15:29' '14:58' '11:52' '17:46' '14:45' '11:39' '13:06' '20:43'\n",
      " '16:34' '13:10' '17:10' '10:22' '19:29' '14:27' '12:22' '11:59' '17:59'\n",
      " '12:51' '13:56' '19:45' '16:18' '18:57' '11:18' '14:06' '20:13' '15:14'\n",
      " '16:06' '12:47' '20:42' '20:10' '14:24' '11:42' '17:49' '15:33' '10:38'\n",
      " '12:39' '14:26' '12:41' '15:20' '16:33' '20:44' '11:16' '12:30' '17:48'\n",
      " '20:30' '13:59' '11:58' '16:50' '18:02' '17:52' '20:32' '16:09' '11:33'\n",
      " '15:15' '20:06' '16:26' '18:38' '16:45' '18:41' '17:12' '14:00' '16:32'\n",
      " '10:10' '10:05' '18:15' '11:01' '15:21' '16:16' '11:05' '19:31' '18:35'\n",
      " '13:51' '12:35' '11:55' '15:11' '14:48' '12:36' '13:35' '15:45' '14:25'\n",
      " '15:18' '10:03' '13:14' '16:35' '20:57' '13:50' '17:35' '17:56' '10:44'\n",
      " '10:09' '10:58' '13:49' '11:10' '13:33' '14:05' '16:27' '15:23' '18:18'\n",
      " '15:17' '19:12']\n",
      " \n",
      "**************************************************\n",
      "the number of unique values for the payment column is 3\n",
      "the unique values for the payment column is ['Ewallet' 'Cash' 'Credit card']\n",
      " \n",
      "**************************************************\n"
     ]
    }
   ],
   "source": [
    "for col in cat_columns:\n",
    "    print(f'the number of unique values for the {col} column is {df[col].nunique()}')\n",
    "    print(f'the unique values for the {col} column is {df[col].unique()}')\n",
    "    print(' ')\n",
    "    print(50 * '*')\n",
    "    col\n",
    "\n",
    "    "
   ]
  },
  {
   "cell_type": "code",
   "execution_count": 117,
   "id": "b9ee0b46",
   "metadata": {},
   "outputs": [
    {
     "data": {
      "application/vnd.plotly.v1+json": {
       "config": {
        "plotlyServerURL": "https://plot.ly"
       },
       "data": [
        {
         "domain": {
          "x": [
           0,
           1
          ],
          "y": [
           0,
           1
          ]
         },
         "hovertemplate": "branch=%{label}<br>total=%{value}<extra></extra>",
         "labels": [
          "A",
          "C",
          "A",
          "A",
          "A",
          "C",
          "A",
          "C",
          "A",
          "B",
          "B",
          "B",
          "A",
          "A",
          "A",
          "B",
          "A",
          "A",
          "A",
          "B",
          "C",
          "B",
          "B",
          "A",
          "A",
          "A",
          "B",
          "A",
          "B",
          "A",
          "B",
          "B",
          "B",
          "A",
          "C",
          "C",
          "A",
          "A",
          "C",
          "B",
          "B",
          "C",
          "B",
          "C",
          "C",
          "B",
          "B",
          "B",
          "B",
          "C",
          "C",
          "A",
          "B",
          "C",
          "B",
          "C",
          "A",
          "A",
          "A",
          "C",
          "C",
          "C",
          "B",
          "A",
          "B",
          "A",
          "C",
          "B",
          "A",
          "A",
          "C",
          "C",
          "B",
          "C",
          "A",
          "C",
          "C",
          "A",
          "C",
          "C",
          "C",
          "B",
          "C",
          "C",
          "C",
          "C",
          "C",
          "A",
          "A",
          "B",
          "C",
          "C",
          "A",
          "B",
          "C",
          "A",
          "B",
          "C",
          "A",
          "B",
          "C",
          "C",
          "C",
          "A",
          "B",
          "A",
          "C",
          "A",
          "C",
          "C",
          "B",
          "C",
          "B",
          "A",
          "C",
          "C",
          "B",
          "B",
          "A",
          "B",
          "A",
          "C",
          "B",
          "C",
          "B",
          "A",
          "A",
          "C",
          "C",
          "B",
          "B",
          "A",
          "B",
          "B",
          "C",
          "C",
          "A",
          "A",
          "B",
          "A",
          "C",
          "C",
          "C",
          "C",
          "A",
          "C",
          "A",
          "C",
          "B",
          "A",
          "B",
          "C",
          "A",
          "C",
          "C",
          "A",
          "B",
          "B",
          "B",
          "B",
          "C",
          "A",
          "A",
          "C",
          "B",
          "B",
          "C",
          "A",
          "A",
          "A",
          "A",
          "B",
          "C",
          "B",
          "B",
          "A",
          "A",
          "C",
          "A",
          "C",
          "C",
          "C",
          "A",
          "C",
          "A",
          "B",
          "B",
          "B",
          "A",
          "C",
          "B",
          "B",
          "C",
          "B",
          "A",
          "C",
          "C",
          "A",
          "C",
          "C",
          "C",
          "B",
          "C",
          "B",
          "B",
          "A",
          "C",
          "C",
          "B",
          "B",
          "A",
          "C",
          "B",
          "B",
          "B",
          "A",
          "B",
          "A",
          "B",
          "B",
          "B",
          "B",
          "C",
          "C",
          "A",
          "C",
          "B",
          "C",
          "B",
          "A",
          "B",
          "B",
          "B",
          "B",
          "A",
          "A",
          "C",
          "C",
          "B",
          "A",
          "A",
          "A",
          "C",
          "A",
          "B",
          "A",
          "B",
          "A",
          "A",
          "B",
          "B",
          "C",
          "C",
          "A",
          "A",
          "B",
          "A",
          "A",
          "A",
          "C",
          "A",
          "C",
          "B",
          "A",
          "B",
          "A",
          "C",
          "B",
          "A",
          "A",
          "B",
          "C",
          "A",
          "A",
          "B",
          "B",
          "C",
          "C",
          "C",
          "A",
          "A",
          "C",
          "A",
          "A",
          "A",
          "B",
          "C",
          "C",
          "B",
          "A",
          "B",
          "C",
          "A",
          "A",
          "B",
          "C",
          "C",
          "A",
          "A",
          "C",
          "C",
          "B",
          "C",
          "A",
          "B",
          "A",
          "A",
          "A",
          "A",
          "A",
          "B",
          "C",
          "A",
          "A",
          "C",
          "C",
          "C",
          "C",
          "C",
          "C",
          "C",
          "C",
          "A",
          "A",
          "A",
          "B",
          "A",
          "C",
          "B",
          "A",
          "B",
          "A",
          "A",
          "A",
          "C",
          "A",
          "A",
          "B",
          "C",
          "B",
          "B",
          "B",
          "B",
          "C",
          "A",
          "A",
          "A",
          "C",
          "A",
          "B",
          "C",
          "A",
          "B",
          "B",
          "C",
          "B",
          "C",
          "C",
          "B",
          "B",
          "A",
          "C",
          "C",
          "A",
          "C",
          "C",
          "C",
          "A",
          "C",
          "A",
          "B",
          "B",
          "C",
          "C",
          "A",
          "A",
          "B",
          "C",
          "C",
          "B",
          "A",
          "C",
          "B",
          "C",
          "A",
          "B",
          "C",
          "A",
          "C",
          "B",
          "C",
          "B",
          "A",
          "A",
          "A",
          "A",
          "A",
          "B",
          "B",
          "B",
          "C",
          "C",
          "C",
          "B",
          "C",
          "A",
          "A",
          "B",
          "A",
          "C",
          "B",
          "B",
          "A",
          "A",
          "A",
          "B",
          "C",
          "C",
          "B",
          "A",
          "C",
          "C",
          "C",
          "B",
          "C",
          "B",
          "A",
          "B",
          "B",
          "A",
          "B",
          "C",
          "A",
          "B",
          "B",
          "C",
          "C",
          "A",
          "C",
          "C",
          "C",
          "B",
          "A",
          "C",
          "A",
          "B",
          "C",
          "C",
          "B",
          "B",
          "B",
          "B",
          "A",
          "A",
          "A",
          "B",
          "B",
          "B",
          "C",
          "C",
          "C",
          "B",
          "C",
          "C",
          "A",
          "C",
          "C",
          "B",
          "C",
          "C",
          "C",
          "A",
          "A",
          "B",
          "A",
          "A",
          "A",
          "C",
          "B",
          "A",
          "C",
          "C",
          "A",
          "B",
          "C",
          "B",
          "B",
          "A",
          "C",
          "B",
          "B",
          "A",
          "B",
          "C",
          "B",
          "B",
          "C",
          "C",
          "B",
          "A",
          "B",
          "C",
          "C",
          "B",
          "B",
          "A",
          "B",
          "B",
          "B",
          "C",
          "B",
          "A",
          "A",
          "A",
          "C",
          "C",
          "B",
          "C",
          "A",
          "C",
          "B",
          "C",
          "A",
          "C",
          "A",
          "A",
          "B",
          "B",
          "B",
          "A",
          "A",
          "A",
          "B",
          "C",
          "A",
          "C",
          "B",
          "A",
          "A",
          "C",
          "A",
          "C",
          "B",
          "C",
          "B",
          "B",
          "A",
          "A",
          "B",
          "A",
          "B",
          "B",
          "B",
          "C",
          "A",
          "B",
          "B",
          "C",
          "A",
          "A",
          "B",
          "C",
          "B",
          "A",
          "B",
          "A",
          "C",
          "A",
          "B",
          "C",
          "B",
          "B",
          "A",
          "B",
          "A",
          "B",
          "B",
          "C",
          "A",
          "B",
          "C",
          "A",
          "C",
          "B",
          "B",
          "A",
          "A",
          "A",
          "C",
          "A",
          "C",
          "C",
          "A",
          "A",
          "B",
          "B",
          "A",
          "C",
          "C",
          "A",
          "C",
          "C",
          "C",
          "B",
          "C",
          "B",
          "A",
          "C",
          "A",
          "B",
          "A",
          "C",
          "B",
          "C",
          "A",
          "A",
          "B",
          "C",
          "A",
          "C",
          "A",
          "A",
          "B",
          "B",
          "B",
          "B",
          "A",
          "B",
          "A",
          "A",
          "A",
          "A",
          "A",
          "B",
          "B",
          "B",
          "A",
          "C",
          "B",
          "B",
          "B",
          "C",
          "B",
          "C",
          "C",
          "A",
          "C",
          "B",
          "C",
          "C",
          "B",
          "B",
          "A",
          "B",
          "B",
          "A",
          "C",
          "A",
          "A",
          "A",
          "B",
          "C",
          "B",
          "C",
          "C",
          "A",
          "B",
          "B",
          "C",
          "B",
          "A",
          "B",
          "B",
          "C",
          "A",
          "B",
          "B",
          "A",
          "C",
          "A",
          "B",
          "B",
          "C",
          "A",
          "B",
          "B",
          "B",
          "A",
          "C",
          "A",
          "C",
          "C",
          "A",
          "C",
          "C",
          "A",
          "A",
          "B",
          "A",
          "C",
          "C",
          "B",
          "B",
          "B",
          "B",
          "B",
          "B",
          "C",
          "C",
          "A",
          "A",
          "C",
          "C",
          "C",
          "C",
          "A",
          "A",
          "A",
          "A",
          "B",
          "B",
          "C",
          "B",
          "C",
          "B",
          "C",
          "C",
          "B",
          "C",
          "B",
          "A",
          "A",
          "A",
          "B",
          "B",
          "C",
          "C",
          "C",
          "B",
          "A",
          "C",
          "C",
          "A",
          "A",
          "C",
          "C",
          "B",
          "C",
          "B",
          "C",
          "B",
          "A",
          "A",
          "B",
          "C",
          "A",
          "B",
          "A",
          "A",
          "A",
          "B",
          "B",
          "A",
          "A",
          "A",
          "B",
          "C",
          "B",
          "B",
          "A",
          "B",
          "C",
          "C",
          "C",
          "C",
          "B",
          "C",
          "B",
          "C",
          "B",
          "C",
          "A",
          "A",
          "C",
          "C",
          "A",
          "C",
          "C",
          "C",
          "A",
          "A",
          "C",
          "B",
          "A",
          "A",
          "B",
          "C",
          "A",
          "B",
          "C",
          "B",
          "C",
          "C",
          "A",
          "B",
          "A",
          "A",
          "A",
          "B",
          "C",
          "B",
          "A",
          "C",
          "A",
          "A",
          "B",
          "C",
          "A",
          "B",
          "B",
          "B",
          "A",
          "C",
          "A",
          "B",
          "A",
          "B",
          "A",
          "C",
          "A",
          "A",
          "B",
          "B",
          "A",
          "B",
          "A",
          "A",
          "B",
          "C",
          "C",
          "A",
          "B",
          "A",
          "C",
          "A",
          "A",
          "A",
          "C",
          "C",
          "A",
          "A",
          "A",
          "C",
          "B",
          "A",
          "B",
          "B",
          "A",
          "B",
          "A",
          "C",
          "A",
          "B",
          "B",
          "A",
          "C",
          "B",
          "C",
          "C",
          "A",
          "A",
          "C",
          "B",
          "A",
          "A",
          "C",
          "C",
          "B",
          "A",
          "B",
          "B",
          "C",
          "B",
          "A",
          "A",
          "A",
          "A",
          "A",
          "C",
          "A",
          "C",
          "B",
          "C",
          "B",
          "B",
          "B",
          "C",
          "C",
          "C",
          "A",
          "C",
          "B",
          "A",
          "A",
          "C",
          "C",
          "C",
          "B",
          "A",
          "B",
          "B",
          "C",
          "A",
          "A",
          "A",
          "C",
          "C",
          "A",
          "B",
          "B",
          "C",
          "B",
          "C",
          "C",
          "C",
          "B",
          "B",
          "A",
          "B",
          "B",
          "B",
          "C",
          "A",
          "C",
          "B",
          "C",
          "C",
          "A",
          "A",
          "C",
          "A",
          "C",
          "A",
          "A",
          "A",
          "A",
          "C",
          "B",
          "C",
          "B",
          "B",
          "B",
          "B",
          "C",
          "B",
          "A",
          "C",
          "B",
          "C",
          "A",
          "C",
          "A",
          "A",
          "C",
          "B",
          "B",
          "A",
          "A",
          "A",
          "B",
          "B",
          "B",
          "B",
          "A",
          "C",
          "B",
          "A",
          "B",
          "B",
          "B",
          "C",
          "A",
          "A",
          "C",
          "C",
          "B",
          "B",
          "B",
          "C",
          "B",
          "A",
          "B",
          "A",
          "B",
          "C",
          "C",
          "B",
          "A",
          "A",
          "A"
         ],
         "legendgroup": "",
         "name": "",
         "showlegend": true,
         "type": "pie",
         "values": [
          548.9715,
          80.22,
          340.5255,
          489.048,
          634.3785,
          627.6165,
          433.692,
          772.38,
          76.146,
          172.746,
          60.816,
          107.142,
          246.4875,
          453.495,
          749.49,
          590.436,
          506.6355,
          457.443,
          172.2105,
          84.63,
          451.71,
          277.137,
          69.72,
          181.44,
          279.1845,
          441.756,
          35.196,
          184.107,
          463.89,
          235.2105,
          494.1825,
          737.7615,
          703.752,
          202.818,
          417.564,
          71.526,
          328.755,
          575.316,
          461.328,
          253.008,
          91.056,
          117.831,
          435.456,
          829.08,
          32.277,
          394.632,
          535.7205,
          189.0945,
          119.259,
          867.615,
          671.79,
          234.0975,
          75.054,
          16.2015,
          33.936,
          722.232,
          93.114,
          752.64,
          759.675,
          192.843,
          77.931,
          351.099,
          520.4115,
          166.005,
          318.108,
          166.635,
          70.287,
          614.943,
          827.085,
          19.2465,
          939.54,
          652.26,
          152.838,
          478.233,
          705.6315,
          437.325,
          463.428,
          189.0945,
          822.255,
          106.995,
          624.897,
          304.542,
          161.7,
          337.512,
          256.7775,
          610.491,
          401.73,
          362.943,
          44.5935,
          485.037,
          198.996,
          471.03,
          161.553,
          608.202,
          94.2375,
          102.018,
          922.635,
          78.435,
          166.1625,
          521.01,
          51.1455,
          742.2975,
          218.0115,
          367.038,
          223.0725,
          931.035,
          172.494,
          391.419,
          321.111,
          860.685,
          34.629,
          309.3615,
          535.374,
          548.7615,
          763.4655,
          85.113,
          115.185,
          53.928,
          115.08,
          112.224,
          836.304,
          419.832,
          944.622,
          536.844,
          474.348,
          688.6215,
          169.3125,
          299.8485,
          575.736,
          853.146,
          291.207,
          580.419,
          146.328,
          550.935,
          512.19,
          284.193,
          138.1275,
          216.846,
          545.055,
          609,
          942.9,
          950.25,
          720.3,
          31.9305,
          491.085,
          291.438,
          316.47,
          277.788,
          603.624,
          272.664,
          384.468,
          254.016,
          786.618,
          103.824,
          680.148,
          484.5225,
          75.7785,
          263.97,
          918.729,
          588.357,
          362.712,
          66.8745,
          336.5565,
          160.44,
          418.95,
          357.588,
          1003.59,
          1039.29,
          323.064,
          510.972,
          367.5525,
          420.2625,
          175.14,
          333.207,
          166.236,
          319.788,
          186.228,
          165.4485,
          465.444,
          273.42,
          472.311,
          323.148,
          162.75,
          288.204,
          90.699,
          56.952,
          793.716,
          195.174,
          77.7735,
          293.202,
          242.676,
          154.392,
          829.71,
          107.31,
          171.7275,
          78.0045,
          91.77,
          26.5545,
          174.3,
          374.7975,
          120.645,
          241.458,
          451.3635,
          271.95,
          93.2925,
          217.6335,
          629.8425,
          299.565,
          95.6655,
          942.4485,
          247.8735,
          881.307,
          484.89,
          146.223,
          217.6335,
          19.194,
          130.0425,
          298.116,
          796.908,
          180.621,
          285.705,
          456.288,
          62.0025,
          13.167,
          90.825,
          183.036,
          655.5465,
          155.652,
          571.41,
          532.728,
          170.877,
          33.3585,
          794.6505,
          310.044,
          545.37,
          195.594,
          91.4025,
          232.155,
          69.405,
          94.1745,
          235.683,
          125.517,
          195.72,
          263.13,
          788.508,
          399.756,
          256.41,
          94.185,
          326.424,
          536.991,
          439.8975,
          369.495,
          30.219,
          99.75,
          494.76,
          137.004,
          69.6675,
          163.233,
          135.45,
          276.948,
          709.317,
          69.09,
          160.86,
          233.52,
          57.1725,
          723.24,
          148.974,
          783.3,
          297.108,
          373.17,
          354.0075,
          44.352,
          203.553,
          25.263,
          628.173,
          352.5795,
          229.11,
          400.764,
          745.395,
          462.21,
          587.664,
          38.85,
          16.107,
          628.929,
          200.214,
          350.07,
          78.603,
          224.4375,
          356.5485,
          697.368,
          423.15,
          204.6975,
          65.604,
          76.356,
          190.155,
          272.58,
          121.128,
          493.794,
          252.042,
          93.0405,
          209.622,
          40.9605,
          51.0405,
          214.998,
          125.664,
          530.67,
          295.6905,
          745.836,
          83.412,
          172.011,
          503.559,
          145.593,
          74.7075,
          146.9475,
          820.365,
          208.677,
          66.402,
          392.6475,
          218.0745,
          185.094,
          216.6885,
          41.391,
          96.138,
          324.2925,
          135.576,
          410.508,
          523.845,
          395.892,
          214.746,
          152.712,
          208.089,
          103.635,
          404.355,
          49.308,
          77.175,
          149.3625,
          721.98,
          365.085,
          150.0975,
          404.649,
          151.4835,
          411.3795,
          565.215,
          509.4075,
          140.6475,
          736.4385,
          75.5475,
          749.7,
          191.247,
          141.75,
          1042.65,
          379.9215,
          402.2655,
          255.15,
          31.752,
          374.388,
          394.275,
          1002.12,
          86.625,
          78.7185,
          680.064,
          793.548,
          209.559,
          461.286,
          173.208,
          343.056,
          484.974,
          276.948,
          150.78,
          203.175,
          193.011,
          128.016,
          441.693,
          265.104,
          352.2225,
          507.675,
          334.341,
          701.8515,
          407.316,
          99.33,
          345.786,
          55.881,
          523.3725,
          314.538,
          214.935,
          79.611,
          294.651,
          339.36,
          510.9615,
          133.917,
          253.512,
          398.475,
          80.661,
          548.73,
          83.727,
          406.875,
          284.9175,
          128.4255,
          258.678,
          181.818,
          248.409,
          194.124,
          14.679,
          208.6875,
          718.7565,
          282.492,
          72.3975,
          288.582,
          237.426,
          125.055,
          359.205,
          45.927,
          110.0925,
          81.396,
          427.812,
          100.9155,
          190.596,
          85.5855,
          120.162,
          185.367,
          121.59,
          264.7575,
          1020.705,
          213.528,
          17.094,
          383.7645,
          390.7995,
          65.7405,
          353.1675,
          951.825,
          145.068,
          90.867,
          147.798,
          702.219,
          49.812,
          937.818,
          348.306,
          214.137,
          71.568,
          343.224,
          91.56,
          742.812,
          843.0345,
          13.419,
          140.385,
          20.1075,
          290.43,
          144.081,
          28.4235,
          41.076,
          470.673,
          138.663,
          333.9525,
          26.25,
          87.234,
          155.19,
          731.43,
          833.595,
          488.985,
          37.6845,
          212.73,
          767.025,
          310.59,
          23.751,
          269.535,
          572.775,
          273.0525,
          233.226,
          22.659,
          103.782,
          527.751,
          168.21,
          452.865,
          609.588,
          338.31,
          205.317,
          174.615,
          353.094,
          360.885,
          40.53,
          554.148,
          344.4,
          194.985,
          633.99,
          388.29,
          207.858,
          431.445,
          156.03,
          24.108,
          734.076,
          72.87,
          206.43,
          212.688,
          127.26,
          209.769,
          637.728,
          132.762,
          568.512,
          103.0365,
          432.768,
          77.6685,
          33.495,
          145.74,
          195.951,
          92.8725,
          203.112,
          152.775,
          529.515,
          321.7725,
          100.485,
          666.939,
          225.2775,
          398.958,
          731.6925,
          429.1665,
          54.0435,
          288.015,
          206.7975,
          72.933,
          377.58,
          143.9865,
          523.971,
          235.872,
          132.027,
          514.773,
          479.9025,
          164.682,
          125.706,
          570.78,
          926.9505,
          160.209,
          728.112,
          240.975,
          154.1295,
          148.68,
          122.5245,
          77.658,
          102.837,
          306.81,
          551.124,
          96.642,
          79.674,
          84.756,
          118.251,
          74.76,
          163.002,
          308.91,
          575.9775,
          270.585,
          416.178,
          180.4005,
          513.2295,
          550.368,
          139.923,
          142.002,
          118.062,
          151.284,
          1034.46,
          262.458,
          228.123,
          203.931,
          936.6,
          356.328,
          469.413,
          208.425,
          852.705,
          517.965,
          621.243,
          586.971,
          543.753,
          430.71,
          280.035,
          74.4555,
          152.019,
          451.0275,
          597.6285,
          253.26,
          133.434,
          269.934,
          145.971,
          85.743,
          326.256,
          195.258,
          75.936,
          198.639,
          217.182,
          164.871,
          226.065,
          625.905,
          76.755,
          293.139,
          178.164,
          47.859,
          236.88,
          304.92,
          46.683,
          164.43,
          440.937,
          193.4625,
          147.672,
          87.234,
          68.2395,
          814.38,
          343.413,
          381.3915,
          133.35,
          394.3275,
          209.118,
          32.1405,
          121.569,
          30.408,
          935.2665,
          293.643,
          84.9765,
          708.225,
          365.904,
          457.38,
          461.5275,
          620.739,
          273.798,
          225.792,
          96.1905,
          695.2365,
          874.125,
          95.9175,
          165.648,
          127.827,
          867.09,
          167.895,
          12.6945,
          673.995,
          246.6765,
          175.917,
          314.055,
          251.7165,
          697.935,
          212.7825,
          48.51,
          92.5575,
          165.123,
          311.1885,
          743.82,
          116.907,
          609.168,
          63.2625,
          182.952,
          442.323,
          35.3115,
          32.529,
          259.77,
          397.215,
          351.603,
          764.19,
          352.674,
          252.756,
          49.4235,
          104.6745,
          277.6725,
          146.6325,
          58.2225,
          135.3555,
          125.979,
          370.125,
          914.55,
          207.48,
          204.246,
          181.881,
          75.474,
          300.573,
          85.302,
          588.42,
          196.14,
          231.2415,
          282.576,
          477.54,
          175.917,
          470.988,
          308.574,
          618.975,
          305.55,
          41.454,
          36.5505,
          310.716,
          45.108,
          145.404,
          103.11,
          136.143,
          667.38,
          153.048,
          211.365,
          663.2955,
          404.544,
          510.615,
          539.343,
          497.07,
          458.6925,
          113.568,
          261.198,
          657.531,
          1023.75,
          507.444,
          101.808,
          207.585,
          760.4415,
          835.2855,
          527.5095,
          180.6,
          72.429,
          131.208,
          80.955,
          507.906,
          317.226,
          733.6035,
          130.8825,
          829.08,
          187.32,
          525.231,
          37.611,
          142.947,
          110.124,
          187.866,
          856.4535,
          138.978,
          270.2595,
          98.028,
          239.4,
          175.0455,
          732.27,
          408.492,
          383.523,
          93.744,
          176.4,
          20.685,
          557.718,
          56.406,
          860.475,
          596.82,
          616.98,
          769.104,
          887.922,
          408.7335,
          89.0715,
          150.423,
          79.149,
          266.028,
          40.341,
          684.915,
          55.2825,
          116.1405,
          597.0405,
          93.744,
          143.22,
          182.91,
          384.72,
          267.3405,
          817.236,
          300.216,
          608.076,
          197.925,
          232.638,
          810.6,
          757.365,
          536.592,
          56.1225,
          233.1,
          801.864,
          239.589,
          86.247,
          401.688,
          72.009,
          401.268,
          631.1445,
          499.7265,
          55.041,
          137.865,
          151.515,
          480.0285,
          98.049,
          132.5625,
          830.3715,
          183.12,
          397.992,
          32.151,
          369.684,
          53.34,
          548.163,
          603.876,
          57.6975,
          190.4805,
          432.9885,
          48.7305,
          287.91,
          1022.385,
          680.61,
          97.881,
          57.078,
          63.9135,
          257.145,
          97.419,
          455.1225,
          144.963,
          253.68,
          495.3165,
          462.672,
          714.3255,
          325.374,
          195.678,
          210.966,
          18.6375,
          652.89,
          90.3,
          422.73,
          341.0925,
          99.9075,
          408.408,
          446.964,
          333.984,
          284.592,
          403.872,
          247.59,
          222.138,
          100.128,
          10.6785,
          216.4365,
          441.588,
          92.442,
          681.4395,
          130.032,
          681.975,
          779.31,
          88.704,
          262.794,
          99.54,
          95.865,
          299.3655,
          54.999,
          202.335,
          281.169,
          586.635,
          184.086,
          163.611,
          63.315,
          82.887,
          31.227,
          22.386,
          295.407,
          76.923,
          23.499,
          688.716,
          624.33,
          77.805,
          206.808,
          390.9465,
          554.295,
          503.7375,
          345.0195,
          177.408,
          118.902,
          362.817,
          450.1035,
          90.5835,
          26.796,
          106.596,
          375.3645,
          250.7085,
          106.5015,
          760.452,
          131.922,
          76.5765,
          271.278,
          182.427,
          59.325,
          225.015,
          561.078,
          97.818,
          548.184,
          54.9675,
          41.7375,
          756.168,
          101.64,
          348.705,
          85.512,
          335.895,
          216.846,
          175.014,
          335.013,
          92.295,
          771.435,
          102.396,
          807.66,
          439.215,
          486.444,
          485.5725,
          148.995,
          317.835,
          832.944,
          446.439,
          297.801,
          629.16,
          331.128,
          423.738,
          193.074,
          145.5825,
          84.7455,
          122.472,
          329.196,
          888.405,
          435.12,
          167.034,
          514.605,
          91.8225,
          235.746,
          782.208,
          431.256,
          313.74,
          223.587,
          44.9925,
          397.614,
          217.2555,
          82.719,
          338.2155,
          103.131,
          26.733,
          611.079,
          221.886,
          57.876,
          92.7255,
          374.409,
          833.9625,
          53.151,
          629.496,
          175.035,
          781.62,
          470.988,
          397.845,
          270.018,
          579.8415,
          469.77,
          290.0835,
          360.927,
          279.384,
          943.299,
          479.64,
          266.6475,
          74.088,
          690.018,
          176.925,
          56.469,
          188.0025,
          222.012,
          125.7165,
          68.985,
          263.97,
          88.368,
          415.233,
          312.8895,
          477.1305,
          289.926,
          165.9,
          932.337,
          96.579,
          43.869,
          16.275,
          304.983,
          69.993,
          80.367,
          314.685,
          255.1815,
          49.77,
          181.0725,
          888.615,
          271.2885,
          640.038,
          252.252,
          180.873,
          104.832,
          313.572,
          167.58,
          26.7225,
          71.1585,
          250.278,
          244.23,
          921.186,
          734.706,
          708.3195,
          334.4775,
          30.996,
          520.8,
          864.57,
          633.108,
          296.94,
          804.3,
          121.863,
          183.645,
          63.9975,
          42.3675,
          1022.49,
          33.432,
          69.111,
          649.299
         ]
        }
       ],
       "layout": {
        "legend": {
         "tracegroupgap": 0
        },
        "template": {
         "data": {
          "bar": [
           {
            "error_x": {
             "color": "#2a3f5f"
            },
            "error_y": {
             "color": "#2a3f5f"
            },
            "marker": {
             "line": {
              "color": "#E5ECF6",
              "width": 0.5
             },
             "pattern": {
              "fillmode": "overlay",
              "size": 10,
              "solidity": 0.2
             }
            },
            "type": "bar"
           }
          ],
          "barpolar": [
           {
            "marker": {
             "line": {
              "color": "#E5ECF6",
              "width": 0.5
             },
             "pattern": {
              "fillmode": "overlay",
              "size": 10,
              "solidity": 0.2
             }
            },
            "type": "barpolar"
           }
          ],
          "carpet": [
           {
            "aaxis": {
             "endlinecolor": "#2a3f5f",
             "gridcolor": "white",
             "linecolor": "white",
             "minorgridcolor": "white",
             "startlinecolor": "#2a3f5f"
            },
            "baxis": {
             "endlinecolor": "#2a3f5f",
             "gridcolor": "white",
             "linecolor": "white",
             "minorgridcolor": "white",
             "startlinecolor": "#2a3f5f"
            },
            "type": "carpet"
           }
          ],
          "choropleth": [
           {
            "colorbar": {
             "outlinewidth": 0,
             "ticks": ""
            },
            "type": "choropleth"
           }
          ],
          "contour": [
           {
            "colorbar": {
             "outlinewidth": 0,
             "ticks": ""
            },
            "colorscale": [
             [
              0,
              "#0d0887"
             ],
             [
              0.1111111111111111,
              "#46039f"
             ],
             [
              0.2222222222222222,
              "#7201a8"
             ],
             [
              0.3333333333333333,
              "#9c179e"
             ],
             [
              0.4444444444444444,
              "#bd3786"
             ],
             [
              0.5555555555555556,
              "#d8576b"
             ],
             [
              0.6666666666666666,
              "#ed7953"
             ],
             [
              0.7777777777777778,
              "#fb9f3a"
             ],
             [
              0.8888888888888888,
              "#fdca26"
             ],
             [
              1,
              "#f0f921"
             ]
            ],
            "type": "contour"
           }
          ],
          "contourcarpet": [
           {
            "colorbar": {
             "outlinewidth": 0,
             "ticks": ""
            },
            "type": "contourcarpet"
           }
          ],
          "heatmap": [
           {
            "colorbar": {
             "outlinewidth": 0,
             "ticks": ""
            },
            "colorscale": [
             [
              0,
              "#0d0887"
             ],
             [
              0.1111111111111111,
              "#46039f"
             ],
             [
              0.2222222222222222,
              "#7201a8"
             ],
             [
              0.3333333333333333,
              "#9c179e"
             ],
             [
              0.4444444444444444,
              "#bd3786"
             ],
             [
              0.5555555555555556,
              "#d8576b"
             ],
             [
              0.6666666666666666,
              "#ed7953"
             ],
             [
              0.7777777777777778,
              "#fb9f3a"
             ],
             [
              0.8888888888888888,
              "#fdca26"
             ],
             [
              1,
              "#f0f921"
             ]
            ],
            "type": "heatmap"
           }
          ],
          "heatmapgl": [
           {
            "colorbar": {
             "outlinewidth": 0,
             "ticks": ""
            },
            "colorscale": [
             [
              0,
              "#0d0887"
             ],
             [
              0.1111111111111111,
              "#46039f"
             ],
             [
              0.2222222222222222,
              "#7201a8"
             ],
             [
              0.3333333333333333,
              "#9c179e"
             ],
             [
              0.4444444444444444,
              "#bd3786"
             ],
             [
              0.5555555555555556,
              "#d8576b"
             ],
             [
              0.6666666666666666,
              "#ed7953"
             ],
             [
              0.7777777777777778,
              "#fb9f3a"
             ],
             [
              0.8888888888888888,
              "#fdca26"
             ],
             [
              1,
              "#f0f921"
             ]
            ],
            "type": "heatmapgl"
           }
          ],
          "histogram": [
           {
            "marker": {
             "pattern": {
              "fillmode": "overlay",
              "size": 10,
              "solidity": 0.2
             }
            },
            "type": "histogram"
           }
          ],
          "histogram2d": [
           {
            "colorbar": {
             "outlinewidth": 0,
             "ticks": ""
            },
            "colorscale": [
             [
              0,
              "#0d0887"
             ],
             [
              0.1111111111111111,
              "#46039f"
             ],
             [
              0.2222222222222222,
              "#7201a8"
             ],
             [
              0.3333333333333333,
              "#9c179e"
             ],
             [
              0.4444444444444444,
              "#bd3786"
             ],
             [
              0.5555555555555556,
              "#d8576b"
             ],
             [
              0.6666666666666666,
              "#ed7953"
             ],
             [
              0.7777777777777778,
              "#fb9f3a"
             ],
             [
              0.8888888888888888,
              "#fdca26"
             ],
             [
              1,
              "#f0f921"
             ]
            ],
            "type": "histogram2d"
           }
          ],
          "histogram2dcontour": [
           {
            "colorbar": {
             "outlinewidth": 0,
             "ticks": ""
            },
            "colorscale": [
             [
              0,
              "#0d0887"
             ],
             [
              0.1111111111111111,
              "#46039f"
             ],
             [
              0.2222222222222222,
              "#7201a8"
             ],
             [
              0.3333333333333333,
              "#9c179e"
             ],
             [
              0.4444444444444444,
              "#bd3786"
             ],
             [
              0.5555555555555556,
              "#d8576b"
             ],
             [
              0.6666666666666666,
              "#ed7953"
             ],
             [
              0.7777777777777778,
              "#fb9f3a"
             ],
             [
              0.8888888888888888,
              "#fdca26"
             ],
             [
              1,
              "#f0f921"
             ]
            ],
            "type": "histogram2dcontour"
           }
          ],
          "mesh3d": [
           {
            "colorbar": {
             "outlinewidth": 0,
             "ticks": ""
            },
            "type": "mesh3d"
           }
          ],
          "parcoords": [
           {
            "line": {
             "colorbar": {
              "outlinewidth": 0,
              "ticks": ""
             }
            },
            "type": "parcoords"
           }
          ],
          "pie": [
           {
            "automargin": true,
            "type": "pie"
           }
          ],
          "scatter": [
           {
            "fillpattern": {
             "fillmode": "overlay",
             "size": 10,
             "solidity": 0.2
            },
            "type": "scatter"
           }
          ],
          "scatter3d": [
           {
            "line": {
             "colorbar": {
              "outlinewidth": 0,
              "ticks": ""
             }
            },
            "marker": {
             "colorbar": {
              "outlinewidth": 0,
              "ticks": ""
             }
            },
            "type": "scatter3d"
           }
          ],
          "scattercarpet": [
           {
            "marker": {
             "colorbar": {
              "outlinewidth": 0,
              "ticks": ""
             }
            },
            "type": "scattercarpet"
           }
          ],
          "scattergeo": [
           {
            "marker": {
             "colorbar": {
              "outlinewidth": 0,
              "ticks": ""
             }
            },
            "type": "scattergeo"
           }
          ],
          "scattergl": [
           {
            "marker": {
             "colorbar": {
              "outlinewidth": 0,
              "ticks": ""
             }
            },
            "type": "scattergl"
           }
          ],
          "scattermapbox": [
           {
            "marker": {
             "colorbar": {
              "outlinewidth": 0,
              "ticks": ""
             }
            },
            "type": "scattermapbox"
           }
          ],
          "scatterpolar": [
           {
            "marker": {
             "colorbar": {
              "outlinewidth": 0,
              "ticks": ""
             }
            },
            "type": "scatterpolar"
           }
          ],
          "scatterpolargl": [
           {
            "marker": {
             "colorbar": {
              "outlinewidth": 0,
              "ticks": ""
             }
            },
            "type": "scatterpolargl"
           }
          ],
          "scatterternary": [
           {
            "marker": {
             "colorbar": {
              "outlinewidth": 0,
              "ticks": ""
             }
            },
            "type": "scatterternary"
           }
          ],
          "surface": [
           {
            "colorbar": {
             "outlinewidth": 0,
             "ticks": ""
            },
            "colorscale": [
             [
              0,
              "#0d0887"
             ],
             [
              0.1111111111111111,
              "#46039f"
             ],
             [
              0.2222222222222222,
              "#7201a8"
             ],
             [
              0.3333333333333333,
              "#9c179e"
             ],
             [
              0.4444444444444444,
              "#bd3786"
             ],
             [
              0.5555555555555556,
              "#d8576b"
             ],
             [
              0.6666666666666666,
              "#ed7953"
             ],
             [
              0.7777777777777778,
              "#fb9f3a"
             ],
             [
              0.8888888888888888,
              "#fdca26"
             ],
             [
              1,
              "#f0f921"
             ]
            ],
            "type": "surface"
           }
          ],
          "table": [
           {
            "cells": {
             "fill": {
              "color": "#EBF0F8"
             },
             "line": {
              "color": "white"
             }
            },
            "header": {
             "fill": {
              "color": "#C8D4E3"
             },
             "line": {
              "color": "white"
             }
            },
            "type": "table"
           }
          ]
         },
         "layout": {
          "annotationdefaults": {
           "arrowcolor": "#2a3f5f",
           "arrowhead": 0,
           "arrowwidth": 1
          },
          "autotypenumbers": "strict",
          "coloraxis": {
           "colorbar": {
            "outlinewidth": 0,
            "ticks": ""
           }
          },
          "colorscale": {
           "diverging": [
            [
             0,
             "#8e0152"
            ],
            [
             0.1,
             "#c51b7d"
            ],
            [
             0.2,
             "#de77ae"
            ],
            [
             0.3,
             "#f1b6da"
            ],
            [
             0.4,
             "#fde0ef"
            ],
            [
             0.5,
             "#f7f7f7"
            ],
            [
             0.6,
             "#e6f5d0"
            ],
            [
             0.7,
             "#b8e186"
            ],
            [
             0.8,
             "#7fbc41"
            ],
            [
             0.9,
             "#4d9221"
            ],
            [
             1,
             "#276419"
            ]
           ],
           "sequential": [
            [
             0,
             "#0d0887"
            ],
            [
             0.1111111111111111,
             "#46039f"
            ],
            [
             0.2222222222222222,
             "#7201a8"
            ],
            [
             0.3333333333333333,
             "#9c179e"
            ],
            [
             0.4444444444444444,
             "#bd3786"
            ],
            [
             0.5555555555555556,
             "#d8576b"
            ],
            [
             0.6666666666666666,
             "#ed7953"
            ],
            [
             0.7777777777777778,
             "#fb9f3a"
            ],
            [
             0.8888888888888888,
             "#fdca26"
            ],
            [
             1,
             "#f0f921"
            ]
           ],
           "sequentialminus": [
            [
             0,
             "#0d0887"
            ],
            [
             0.1111111111111111,
             "#46039f"
            ],
            [
             0.2222222222222222,
             "#7201a8"
            ],
            [
             0.3333333333333333,
             "#9c179e"
            ],
            [
             0.4444444444444444,
             "#bd3786"
            ],
            [
             0.5555555555555556,
             "#d8576b"
            ],
            [
             0.6666666666666666,
             "#ed7953"
            ],
            [
             0.7777777777777778,
             "#fb9f3a"
            ],
            [
             0.8888888888888888,
             "#fdca26"
            ],
            [
             1,
             "#f0f921"
            ]
           ]
          },
          "colorway": [
           "#636efa",
           "#EF553B",
           "#00cc96",
           "#ab63fa",
           "#FFA15A",
           "#19d3f3",
           "#FF6692",
           "#B6E880",
           "#FF97FF",
           "#FECB52"
          ],
          "font": {
           "color": "#2a3f5f"
          },
          "geo": {
           "bgcolor": "white",
           "lakecolor": "white",
           "landcolor": "#E5ECF6",
           "showlakes": true,
           "showland": true,
           "subunitcolor": "white"
          },
          "hoverlabel": {
           "align": "left"
          },
          "hovermode": "closest",
          "mapbox": {
           "style": "light"
          },
          "paper_bgcolor": "white",
          "plot_bgcolor": "#E5ECF6",
          "polar": {
           "angularaxis": {
            "gridcolor": "white",
            "linecolor": "white",
            "ticks": ""
           },
           "bgcolor": "#E5ECF6",
           "radialaxis": {
            "gridcolor": "white",
            "linecolor": "white",
            "ticks": ""
           }
          },
          "scene": {
           "xaxis": {
            "backgroundcolor": "#E5ECF6",
            "gridcolor": "white",
            "gridwidth": 2,
            "linecolor": "white",
            "showbackground": true,
            "ticks": "",
            "zerolinecolor": "white"
           },
           "yaxis": {
            "backgroundcolor": "#E5ECF6",
            "gridcolor": "white",
            "gridwidth": 2,
            "linecolor": "white",
            "showbackground": true,
            "ticks": "",
            "zerolinecolor": "white"
           },
           "zaxis": {
            "backgroundcolor": "#E5ECF6",
            "gridcolor": "white",
            "gridwidth": 2,
            "linecolor": "white",
            "showbackground": true,
            "ticks": "",
            "zerolinecolor": "white"
           }
          },
          "shapedefaults": {
           "line": {
            "color": "#2a3f5f"
           }
          },
          "ternary": {
           "aaxis": {
            "gridcolor": "white",
            "linecolor": "white",
            "ticks": ""
           },
           "baxis": {
            "gridcolor": "white",
            "linecolor": "white",
            "ticks": ""
           },
           "bgcolor": "#E5ECF6",
           "caxis": {
            "gridcolor": "white",
            "linecolor": "white",
            "ticks": ""
           }
          },
          "title": {
           "x": 0.05
          },
          "xaxis": {
           "automargin": true,
           "gridcolor": "white",
           "linecolor": "white",
           "ticks": "",
           "title": {
            "standoff": 15
           },
           "zerolinecolor": "white",
           "zerolinewidth": 2
          },
          "yaxis": {
           "automargin": true,
           "gridcolor": "white",
           "linecolor": "white",
           "ticks": "",
           "title": {
            "standoff": 15
           },
           "zerolinecolor": "white",
           "zerolinewidth": 2
          }
         }
        },
        "title": {
         "text": "number of total sales in each branch"
        }
       }
      }
     },
     "metadata": {},
     "output_type": "display_data"
    }
   ],
   "source": [
    "#number of total sales in each branch\n",
    "fig = px.pie(df , names=df['branch'], values=df['total'], title='number of total sales in each branch')\n",
    "fig.show()"
   ]
  },
  {
   "cell_type": "code",
   "execution_count": 130,
   "id": "d07d807f",
   "metadata": {},
   "outputs": [
    {
     "data": {
      "application/vnd.plotly.v1+json": {
       "config": {
        "plotlyServerURL": "https://plot.ly"
       },
       "data": [
        {
         "alignmentgroup": "True",
         "hovertemplate": "branch=%{x}<br>rating=%{y}<extra></extra>",
         "legendgroup": "",
         "marker": {
          "color": "#636efa"
         },
         "name": "",
         "notched": false,
         "offsetgroup": "",
         "orientation": "v",
         "showlegend": false,
         "type": "box",
         "x": [
          "A",
          "C",
          "A",
          "A",
          "A",
          "C",
          "A",
          "C",
          "A",
          "B",
          "B",
          "B",
          "A",
          "A",
          "A",
          "B",
          "A",
          "A",
          "A",
          "B",
          "C",
          "B",
          "B",
          "A",
          "A",
          "A",
          "B",
          "A",
          "B",
          "A",
          "B",
          "B",
          "B",
          "A",
          "C",
          "C",
          "A",
          "A",
          "C",
          "B",
          "B",
          "C",
          "B",
          "C",
          "C",
          "B",
          "B",
          "B",
          "B",
          "C",
          "C",
          "A",
          "B",
          "C",
          "B",
          "C",
          "A",
          "A",
          "A",
          "C",
          "C",
          "C",
          "B",
          "A",
          "B",
          "A",
          "C",
          "B",
          "A",
          "A",
          "C",
          "C",
          "B",
          "C",
          "A",
          "C",
          "C",
          "A",
          "C",
          "C",
          "C",
          "B",
          "C",
          "C",
          "C",
          "C",
          "C",
          "A",
          "A",
          "B",
          "C",
          "C",
          "A",
          "B",
          "C",
          "A",
          "B",
          "C",
          "A",
          "B",
          "C",
          "C",
          "C",
          "A",
          "B",
          "A",
          "C",
          "A",
          "C",
          "C",
          "B",
          "C",
          "B",
          "A",
          "C",
          "C",
          "B",
          "B",
          "A",
          "B",
          "A",
          "C",
          "B",
          "C",
          "B",
          "A",
          "A",
          "C",
          "C",
          "B",
          "B",
          "A",
          "B",
          "B",
          "C",
          "C",
          "A",
          "A",
          "B",
          "A",
          "C",
          "C",
          "C",
          "C",
          "A",
          "C",
          "A",
          "C",
          "B",
          "A",
          "B",
          "C",
          "A",
          "C",
          "C",
          "A",
          "B",
          "B",
          "B",
          "B",
          "C",
          "A",
          "A",
          "C",
          "B",
          "B",
          "C",
          "A",
          "A",
          "A",
          "A",
          "B",
          "C",
          "B",
          "B",
          "A",
          "A",
          "C",
          "A",
          "C",
          "C",
          "C",
          "A",
          "C",
          "A",
          "B",
          "B",
          "B",
          "A",
          "C",
          "B",
          "B",
          "C",
          "B",
          "A",
          "C",
          "C",
          "A",
          "C",
          "C",
          "C",
          "B",
          "C",
          "B",
          "B",
          "A",
          "C",
          "C",
          "B",
          "B",
          "A",
          "C",
          "B",
          "B",
          "B",
          "A",
          "B",
          "A",
          "B",
          "B",
          "B",
          "B",
          "C",
          "C",
          "A",
          "C",
          "B",
          "C",
          "B",
          "A",
          "B",
          "B",
          "B",
          "B",
          "A",
          "A",
          "C",
          "C",
          "B",
          "A",
          "A",
          "A",
          "C",
          "A",
          "B",
          "A",
          "B",
          "A",
          "A",
          "B",
          "B",
          "C",
          "C",
          "A",
          "A",
          "B",
          "A",
          "A",
          "A",
          "C",
          "A",
          "C",
          "B",
          "A",
          "B",
          "A",
          "C",
          "B",
          "A",
          "A",
          "B",
          "C",
          "A",
          "A",
          "B",
          "B",
          "C",
          "C",
          "C",
          "A",
          "A",
          "C",
          "A",
          "A",
          "A",
          "B",
          "C",
          "C",
          "B",
          "A",
          "B",
          "C",
          "A",
          "A",
          "B",
          "C",
          "C",
          "A",
          "A",
          "C",
          "C",
          "B",
          "C",
          "A",
          "B",
          "A",
          "A",
          "A",
          "A",
          "A",
          "B",
          "C",
          "A",
          "A",
          "C",
          "C",
          "C",
          "C",
          "C",
          "C",
          "C",
          "C",
          "A",
          "A",
          "A",
          "B",
          "A",
          "C",
          "B",
          "A",
          "B",
          "A",
          "A",
          "A",
          "C",
          "A",
          "A",
          "B",
          "C",
          "B",
          "B",
          "B",
          "B",
          "C",
          "A",
          "A",
          "A",
          "C",
          "A",
          "B",
          "C",
          "A",
          "B",
          "B",
          "C",
          "B",
          "C",
          "C",
          "B",
          "B",
          "A",
          "C",
          "C",
          "A",
          "C",
          "C",
          "C",
          "A",
          "C",
          "A",
          "B",
          "B",
          "C",
          "C",
          "A",
          "A",
          "B",
          "C",
          "C",
          "B",
          "A",
          "C",
          "B",
          "C",
          "A",
          "B",
          "C",
          "A",
          "C",
          "B",
          "C",
          "B",
          "A",
          "A",
          "A",
          "A",
          "A",
          "B",
          "B",
          "B",
          "C",
          "C",
          "C",
          "B",
          "C",
          "A",
          "A",
          "B",
          "A",
          "C",
          "B",
          "B",
          "A",
          "A",
          "A",
          "B",
          "C",
          "C",
          "B",
          "A",
          "C",
          "C",
          "C",
          "B",
          "C",
          "B",
          "A",
          "B",
          "B",
          "A",
          "B",
          "C",
          "A",
          "B",
          "B",
          "C",
          "C",
          "A",
          "C",
          "C",
          "C",
          "B",
          "A",
          "C",
          "A",
          "B",
          "C",
          "C",
          "B",
          "B",
          "B",
          "B",
          "A",
          "A",
          "A",
          "B",
          "B",
          "B",
          "C",
          "C",
          "C",
          "B",
          "C",
          "C",
          "A",
          "C",
          "C",
          "B",
          "C",
          "C",
          "C",
          "A",
          "A",
          "B",
          "A",
          "A",
          "A",
          "C",
          "B",
          "A",
          "C",
          "C",
          "A",
          "B",
          "C",
          "B",
          "B",
          "A",
          "C",
          "B",
          "B",
          "A",
          "B",
          "C",
          "B",
          "B",
          "C",
          "C",
          "B",
          "A",
          "B",
          "C",
          "C",
          "B",
          "B",
          "A",
          "B",
          "B",
          "B",
          "C",
          "B",
          "A",
          "A",
          "A",
          "C",
          "C",
          "B",
          "C",
          "A",
          "C",
          "B",
          "C",
          "A",
          "C",
          "A",
          "A",
          "B",
          "B",
          "B",
          "A",
          "A",
          "A",
          "B",
          "C",
          "A",
          "C",
          "B",
          "A",
          "A",
          "C",
          "A",
          "C",
          "B",
          "C",
          "B",
          "B",
          "A",
          "A",
          "B",
          "A",
          "B",
          "B",
          "B",
          "C",
          "A",
          "B",
          "B",
          "C",
          "A",
          "A",
          "B",
          "C",
          "B",
          "A",
          "B",
          "A",
          "C",
          "A",
          "B",
          "C",
          "B",
          "B",
          "A",
          "B",
          "A",
          "B",
          "B",
          "C",
          "A",
          "B",
          "C",
          "A",
          "C",
          "B",
          "B",
          "A",
          "A",
          "A",
          "C",
          "A",
          "C",
          "C",
          "A",
          "A",
          "B",
          "B",
          "A",
          "C",
          "C",
          "A",
          "C",
          "C",
          "C",
          "B",
          "C",
          "B",
          "A",
          "C",
          "A",
          "B",
          "A",
          "C",
          "B",
          "C",
          "A",
          "A",
          "B",
          "C",
          "A",
          "C",
          "A",
          "A",
          "B",
          "B",
          "B",
          "B",
          "A",
          "B",
          "A",
          "A",
          "A",
          "A",
          "A",
          "B",
          "B",
          "B",
          "A",
          "C",
          "B",
          "B",
          "B",
          "C",
          "B",
          "C",
          "C",
          "A",
          "C",
          "B",
          "C",
          "C",
          "B",
          "B",
          "A",
          "B",
          "B",
          "A",
          "C",
          "A",
          "A",
          "A",
          "B",
          "C",
          "B",
          "C",
          "C",
          "A",
          "B",
          "B",
          "C",
          "B",
          "A",
          "B",
          "B",
          "C",
          "A",
          "B",
          "B",
          "A",
          "C",
          "A",
          "B",
          "B",
          "C",
          "A",
          "B",
          "B",
          "B",
          "A",
          "C",
          "A",
          "C",
          "C",
          "A",
          "C",
          "C",
          "A",
          "A",
          "B",
          "A",
          "C",
          "C",
          "B",
          "B",
          "B",
          "B",
          "B",
          "B",
          "C",
          "C",
          "A",
          "A",
          "C",
          "C",
          "C",
          "C",
          "A",
          "A",
          "A",
          "A",
          "B",
          "B",
          "C",
          "B",
          "C",
          "B",
          "C",
          "C",
          "B",
          "C",
          "B",
          "A",
          "A",
          "A",
          "B",
          "B",
          "C",
          "C",
          "C",
          "B",
          "A",
          "C",
          "C",
          "A",
          "A",
          "C",
          "C",
          "B",
          "C",
          "B",
          "C",
          "B",
          "A",
          "A",
          "B",
          "C",
          "A",
          "B",
          "A",
          "A",
          "A",
          "B",
          "B",
          "A",
          "A",
          "A",
          "B",
          "C",
          "B",
          "B",
          "A",
          "B",
          "C",
          "C",
          "C",
          "C",
          "B",
          "C",
          "B",
          "C",
          "B",
          "C",
          "A",
          "A",
          "C",
          "C",
          "A",
          "C",
          "C",
          "C",
          "A",
          "A",
          "C",
          "B",
          "A",
          "A",
          "B",
          "C",
          "A",
          "B",
          "C",
          "B",
          "C",
          "C",
          "A",
          "B",
          "A",
          "A",
          "A",
          "B",
          "C",
          "B",
          "A",
          "C",
          "A",
          "A",
          "B",
          "C",
          "A",
          "B",
          "B",
          "B",
          "A",
          "C",
          "A",
          "B",
          "A",
          "B",
          "A",
          "C",
          "A",
          "A",
          "B",
          "B",
          "A",
          "B",
          "A",
          "A",
          "B",
          "C",
          "C",
          "A",
          "B",
          "A",
          "C",
          "A",
          "A",
          "A",
          "C",
          "C",
          "A",
          "A",
          "A",
          "C",
          "B",
          "A",
          "B",
          "B",
          "A",
          "B",
          "A",
          "C",
          "A",
          "B",
          "B",
          "A",
          "C",
          "B",
          "C",
          "C",
          "A",
          "A",
          "C",
          "B",
          "A",
          "A",
          "C",
          "C",
          "B",
          "A",
          "B",
          "B",
          "C",
          "B",
          "A",
          "A",
          "A",
          "A",
          "A",
          "C",
          "A",
          "C",
          "B",
          "C",
          "B",
          "B",
          "B",
          "C",
          "C",
          "C",
          "A",
          "C",
          "B",
          "A",
          "A",
          "C",
          "C",
          "C",
          "B",
          "A",
          "B",
          "B",
          "C",
          "A",
          "A",
          "A",
          "C",
          "C",
          "A",
          "B",
          "B",
          "C",
          "B",
          "C",
          "C",
          "C",
          "B",
          "B",
          "A",
          "B",
          "B",
          "B",
          "C",
          "A",
          "C",
          "B",
          "C",
          "C",
          "A",
          "A",
          "C",
          "A",
          "C",
          "A",
          "A",
          "A",
          "A",
          "C",
          "B",
          "C",
          "B",
          "B",
          "B",
          "B",
          "C",
          "B",
          "A",
          "C",
          "B",
          "C",
          "A",
          "C",
          "A",
          "A",
          "C",
          "B",
          "B",
          "A",
          "A",
          "A",
          "B",
          "B",
          "B",
          "B",
          "A",
          "C",
          "B",
          "A",
          "B",
          "B",
          "B",
          "C",
          "A",
          "A",
          "C",
          "C",
          "B",
          "B",
          "B",
          "C",
          "B",
          "A",
          "B",
          "A",
          "B",
          "C",
          "C",
          "B",
          "A",
          "A",
          "A"
         ],
         "x0": " ",
         "xaxis": "x",
         "y": [
          9.1,
          9.6,
          7.4,
          8.4,
          5.3,
          4.1,
          5.8,
          8,
          7.2,
          5.9,
          4.5,
          6.8,
          7.1,
          8.2,
          5.7,
          4.5,
          4.6,
          6.9,
          8.6,
          4.4,
          4.8,
          5.1,
          4.4,
          9.9,
          6,
          8.5,
          6.7,
          7.7,
          9.6,
          7.4,
          4.8,
          4.5,
          5.1,
          5.1,
          7.5,
          6.8,
          7,
          4.7,
          7.6,
          7.7,
          7.9,
          6.3,
          5.6,
          7.6,
          7.2,
          9.5,
          8.4,
          4.1,
          8.1,
          7.9,
          9.5,
          8.5,
          6.5,
          6.1,
          6.5,
          8.2,
          5.8,
          6.6,
          5.4,
          9.3,
          10,
          7,
          10,
          8.6,
          7.6,
          5.8,
          6.7,
          9.9,
          6.4,
          4.3,
          9.6,
          5.9,
          4,
          8.7,
          9.4,
          5.4,
          8.6,
          5.7,
          6.6,
          6,
          5.5,
          6.4,
          6.6,
          8.3,
          6.6,
          4,
          9.9,
          7.3,
          5.7,
          6.1,
          7.1,
          8.2,
          5.1,
          8.6,
          6.6,
          7.2,
          5.1,
          4.1,
          9.3,
          7.4,
          4.1,
          7.2,
          4.9,
          9.9,
          8,
          7.3,
          7.9,
          7.4,
          4.2,
          9.2,
          4.6,
          7.8,
          8.4,
          4.3,
          9.5,
          7.1,
          5.3,
          5.2,
          6,
          4.1,
          5.2,
          6.5,
          4.2,
          4.6,
          7.3,
          4.5,
          9,
          5.9,
          8.5,
          7.2,
          7.5,
          8.3,
          7.4,
          8.8,
          5.3,
          6.2,
          8.8,
          9.8,
          8.2,
          9.2,
          5.4,
          8.1,
          9.1,
          8.4,
          8,
          9.5,
          9.2,
          5.6,
          6.2,
          4.9,
          4.8,
          7.3,
          7.4,
          9.9,
          9.3,
          9,
          6.1,
          9.7,
          6,
          10,
          8.3,
          6,
          7,
          6.5,
          5.9,
          5.6,
          4.8,
          8.7,
          6.5,
          8.5,
          5.5,
          9.4,
          6.3,
          9.8,
          8.7,
          8.8,
          9.6,
          4.8,
          4.4,
          9.9,
          5.7,
          7.7,
          8,
          5.7,
          6.7,
          8,
          7.5,
          7,
          9.9,
          5.9,
          7.2,
          4.6,
          9.2,
          5.7,
          9.9,
          5,
          4.9,
          6.1,
          8.2,
          5.5,
          6.8,
          6.6,
          9.8,
          8.7,
          5.4,
          7.9,
          9.7,
          7.8,
          5.1,
          6.5,
          5.9,
          8.8,
          4.9,
          4.4,
          6.5,
          8.3,
          8.5,
          5.5,
          8.7,
          7.9,
          6.1,
          5.4,
          9.4,
          8.2,
          6.2,
          9.7,
          4,
          9.7,
          5.3,
          7.4,
          6.5,
          8.7,
          8,
          6.7,
          6.5,
          4.1,
          4.9,
          8.6,
          4.3,
          4.9,
          5.6,
          5.8,
          6,
          4.2,
          8.3,
          5.7,
          4.8,
          6.8,
          8.8,
          4.2,
          6.4,
          8.4,
          7.2,
          5.2,
          8.9,
          9,
          9.7,
          8.7,
          6.5,
          6.9,
          6.2,
          5.6,
          5.7,
          4.2,
          7.9,
          8.7,
          6.9,
          9.5,
          4.4,
          7,
          6.3,
          9.7,
          8.8,
          5.1,
          7.9,
          6.2,
          7.1,
          6.4,
          5.7,
          9.6,
          6.4,
          7.9,
          6.5,
          8.5,
          9.1,
          7.6,
          6.9,
          9.5,
          5.2,
          4.2,
          7,
          6,
          4.7,
          7.1,
          5.9,
          7.5,
          6.4,
          5.8,
          4.5,
          7.7,
          6.7,
          4.7,
          4.4,
          4.7,
          8.6,
          4.3,
          9.6,
          4.1,
          4.7,
          7.8,
          5.5,
          9.7,
          4.4,
          5,
          4.4,
          5.2,
          7.3,
          4.9,
          8.1,
          8.4,
          5.5,
          8.4,
          9.8,
          6.7,
          9.4,
          6.4,
          5.4,
          8.6,
          4,
          7.6,
          6.8,
          9.1,
          5.5,
          7.9,
          8.5,
          9.1,
          7.5,
          5.2,
          9.5,
          8.9,
          7.8,
          8.9,
          7.7,
          9.3,
          6.2,
          7.6,
          7.3,
          4.7,
          5.1,
          4.8,
          6.6,
          5.5,
          8.5,
          4.8,
          8.4,
          7.8,
          9.3,
          5.2,
          6.5,
          5.6,
          7.4,
          9.1,
          8,
          7.2,
          7.1,
          9.1,
          5.6,
          6,
          5.4,
          7.8,
          9.9,
          4.9,
          5.2,
          8.9,
          9.1,
          7,
          9.6,
          8.7,
          9.4,
          4,
          7.5,
          4.2,
          9.9,
          4.2,
          9.9,
          5.8,
          6,
          10,
          9.5,
          6.6,
          8.1,
          9.7,
          7.2,
          6.2,
          7.3,
          4.3,
          4.6,
          5.8,
          8.3,
          8,
          9.4,
          6.2,
          9.8,
          9.6,
          4.9,
          8,
          7.8,
          4.1,
          5.5,
          5.4,
          5.1,
          6.9,
          7.8,
          6.6,
          9.2,
          7.8,
          8.7,
          9.2,
          8.3,
          8.2,
          7.5,
          9.8,
          8.7,
          6.7,
          5,
          7,
          8.9,
          8,
          6.9,
          7.3,
          6.9,
          5.7,
          6.4,
          9.6,
          6.8,
          9,
          9.6,
          7.7,
          7,
          6.5,
          8.1,
          4.3,
          6.5,
          9.5,
          9.7,
          9.5,
          8.9,
          6.5,
          5.3,
          9.6,
          6.7,
          7.6,
          4.8,
          5.5,
          4.7,
          6.9,
          4.5,
          6.2,
          7.6,
          7.9,
          4.5,
          8.7,
          6.1,
          6.4,
          9.1,
          7.1,
          7.7,
          4.5,
          7.2,
          8.4,
          5.4,
          9.7,
          5.5,
          4.6,
          6.6,
          6.3,
          4.2,
          4.4,
          6.7,
          6.7,
          8.4,
          6.2,
          5,
          6,
          7,
          6.6,
          7.3,
          8.3,
          4.3,
          9.8,
          8.2,
          7.2,
          8.7,
          8.4,
          7.1,
          5.5,
          8.5,
          6.2,
          8.9,
          9.6,
          5.4,
          9.1,
          9,
          6.3,
          9.5,
          9.8,
          6.7,
          7.7,
          7,
          5.1,
          6.2,
          6.1,
          9.3,
          7.6,
          8.2,
          8.5,
          9.8,
          8.7,
          9.7,
          4.3,
          7.7,
          7.3,
          5.9,
          5,
          8,
          7.1,
          9,
          6.7,
          6.1,
          9.3,
          7,
          7.2,
          8.2,
          8.4,
          6.2,
          7.4,
          5,
          6.9,
          4.9,
          5.1,
          9.1,
          7.1,
          5,
          5.5,
          9.2,
          4.9,
          8.9,
          6,
          4.2,
          7.3,
          6.5,
          8.9,
          9.7,
          8.6,
          6.9,
          7.7,
          9.5,
          4.5,
          5.6,
          8.2,
          7.3,
          4.4,
          5.7,
          5,
          9,
          6.3,
          9.4,
          7.7,
          5.5,
          4.1,
          7.6,
          8.6,
          8.3,
          8.1,
          8.6,
          6.3,
          5.8,
          6.2,
          7.7,
          8.1,
          7.3,
          8.4,
          8,
          9.5,
          7,
          9.8,
          9.2,
          7.7,
          5.3,
          4.4,
          4.3,
          9.4,
          9.8,
          4.8,
          5.3,
          8.7,
          9.5,
          5.3,
          9.2,
          9.6,
          6.4,
          4.5,
          6.9,
          7.8,
          4.5,
          8.6,
          5.2,
          6.4,
          5.2,
          8.9,
          6.2,
          6.7,
          7.2,
          9,
          4.2,
          4.2,
          6.9,
          4.4,
          4,
          8.5,
          9.2,
          9.8,
          4.9,
          4.4,
          6.8,
          9.1,
          8.7,
          5,
          7.5,
          8.2,
          6.7,
          5.4,
          7,
          4.7,
          5,
          5,
          6,
          6.3,
          8.5,
          7.5,
          6.4,
          4.7,
          6,
          4,
          5.5,
          8.7,
          7.4,
          5.6,
          6.3,
          7.1,
          7.8,
          9.9,
          7.3,
          5.1,
          9.4,
          5.8,
          8,
          7.9,
          5.9,
          4.9,
          9.3,
          7.9,
          5.9,
          9.9,
          7.7,
          7.6,
          7.7,
          6.4,
          4.4,
          4.1,
          4.4,
          5.5,
          4,
          9.3,
          4.8,
          4.6,
          7.3,
          6,
          8.1,
          9.4,
          6.5,
          7,
          7.1,
          6.6,
          4.9,
          6.4,
          8,
          4.3,
          6.1,
          7.5,
          6.7,
          5.2,
          8.8,
          9.5,
          7.6,
          6.6,
          6.9,
          4.3,
          7.8,
          8,
          9.6,
          4.3,
          5,
          9.2,
          6.3,
          8.9,
          7.6,
          4.8,
          9.1,
          6.1,
          9.1,
          8.3,
          7.2,
          6,
          8.5,
          6.6,
          4.5,
          8.1,
          7.2,
          6.1,
          7.1,
          5.1,
          7.9,
          7.4,
          7.4,
          6.6,
          5.9,
          8.9,
          6.8,
          9.3,
          4.4,
          4.8,
          9.5,
          8.9,
          6.4,
          6,
          8.1,
          9,
          6,
          9.8,
          8.5,
          8.8,
          8.8,
          9.5,
          5.6,
          8.6,
          5.2,
          5.8,
          8,
          9,
          4.1,
          8.6,
          7,
          8.4,
          7.4,
          6.2,
          4.9,
          4.5,
          5.6,
          8,
          5.6,
          4.2,
          9.9,
          7.6,
          6.6,
          4.7,
          9.8,
          6.3,
          7.9,
          7.7,
          4.5,
          8,
          5.7,
          6.3,
          6,
          8,
          4.2,
          9.6,
          6.1,
          5.6,
          8.3,
          7.8,
          4.1,
          8.8,
          4.1,
          9,
          5.5,
          9.3,
          5.6,
          9.7,
          4,
          9.2,
          4.9,
          9.3,
          6.6,
          4.3,
          5.5,
          8.1,
          9.8,
          9.4,
          7.9,
          5.1,
          6.9,
          8,
          8,
          4.2,
          8.5,
          9,
          8.6,
          6,
          6.2,
          5,
          6.5,
          6,
          5,
          5,
          9.2,
          9.6,
          8.4,
          6,
          6.7,
          4.1,
          5.9,
          8.7,
          4.5,
          6.6,
          7.7,
          8.5,
          5.2,
          4.3,
          7.6,
          9.5,
          4.1,
          9.2,
          5.4,
          5.8,
          5.6,
          5.1,
          5.8,
          5,
          7.9,
          6,
          5,
          8.9,
          5.9,
          5.9,
          9.7,
          8.6,
          4,
          4.2,
          9.2,
          9.2,
          5,
          10,
          8.8,
          4.2,
          6.3,
          8.2,
          5.1,
          5,
          7,
          7.8,
          4.3,
          7,
          6.6,
          7.3,
          6.5,
          4.9,
          4.3,
          9.3,
          7.1,
          9.6,
          6.2,
          9.9,
          5.9,
          6.3,
          4,
          6.1,
          4.5,
          8.6,
          6,
          9.5,
          9.9,
          7.5,
          7.6,
          5,
          6.7,
          9.5,
          6.8,
          5.6,
          7.2,
          8.1,
          8.6,
          9.4,
          8.9,
          4.2,
          5,
          8.8,
          5.3,
          4.6,
          7.5,
          5.1,
          4.2,
          8.1,
          6,
          7.9,
          8.8,
          6.6,
          6.2,
          4.2,
          7.3,
          8.6,
          6.8,
          7.6,
          5.8,
          4.1,
          9.3,
          6.8,
          8.7,
          6.3,
          5.1,
          7,
          5.2,
          6.6,
          6.5,
          9,
          5.2,
          6.8,
          7.6,
          7.2,
          7.1,
          9.5,
          5.1,
          7.6,
          9.8,
          5.1,
          7.5,
          7.4,
          4.2,
          5.9,
          6.9,
          6.6,
          5.7,
          5.3,
          4.2,
          7.3,
          5.3,
          4.7,
          7.9,
          8.9,
          9.3,
          4.7,
          8.7,
          7.6,
          5.7,
          6.8,
          5.4,
          7.1,
          7.8,
          8.4,
          9.8,
          9.8,
          7.4,
          6.7,
          6.4,
          5.8,
          7.2,
          9.3,
          9.5,
          9,
          9,
          6.7,
          5.5,
          5.4,
          8.2,
          7,
          8.5,
          4.9,
          5.1,
          6.5,
          9.8,
          8.4,
          7.4,
          6.1,
          6,
          8.5,
          4.3,
          6.2,
          4.3,
          8.4,
          4.5,
          6,
          8.8,
          6.6,
          5.9,
          6.2,
          4.4,
          7.7,
          4.1,
          6.6
         ],
         "y0": " ",
         "yaxis": "y"
        }
       ],
       "layout": {
        "boxmode": "group",
        "legend": {
         "tracegroupgap": 0
        },
        "margin": {
         "t": 60
        },
        "template": {
         "data": {
          "bar": [
           {
            "error_x": {
             "color": "#2a3f5f"
            },
            "error_y": {
             "color": "#2a3f5f"
            },
            "marker": {
             "line": {
              "color": "#E5ECF6",
              "width": 0.5
             },
             "pattern": {
              "fillmode": "overlay",
              "size": 10,
              "solidity": 0.2
             }
            },
            "type": "bar"
           }
          ],
          "barpolar": [
           {
            "marker": {
             "line": {
              "color": "#E5ECF6",
              "width": 0.5
             },
             "pattern": {
              "fillmode": "overlay",
              "size": 10,
              "solidity": 0.2
             }
            },
            "type": "barpolar"
           }
          ],
          "carpet": [
           {
            "aaxis": {
             "endlinecolor": "#2a3f5f",
             "gridcolor": "white",
             "linecolor": "white",
             "minorgridcolor": "white",
             "startlinecolor": "#2a3f5f"
            },
            "baxis": {
             "endlinecolor": "#2a3f5f",
             "gridcolor": "white",
             "linecolor": "white",
             "minorgridcolor": "white",
             "startlinecolor": "#2a3f5f"
            },
            "type": "carpet"
           }
          ],
          "choropleth": [
           {
            "colorbar": {
             "outlinewidth": 0,
             "ticks": ""
            },
            "type": "choropleth"
           }
          ],
          "contour": [
           {
            "colorbar": {
             "outlinewidth": 0,
             "ticks": ""
            },
            "colorscale": [
             [
              0,
              "#0d0887"
             ],
             [
              0.1111111111111111,
              "#46039f"
             ],
             [
              0.2222222222222222,
              "#7201a8"
             ],
             [
              0.3333333333333333,
              "#9c179e"
             ],
             [
              0.4444444444444444,
              "#bd3786"
             ],
             [
              0.5555555555555556,
              "#d8576b"
             ],
             [
              0.6666666666666666,
              "#ed7953"
             ],
             [
              0.7777777777777778,
              "#fb9f3a"
             ],
             [
              0.8888888888888888,
              "#fdca26"
             ],
             [
              1,
              "#f0f921"
             ]
            ],
            "type": "contour"
           }
          ],
          "contourcarpet": [
           {
            "colorbar": {
             "outlinewidth": 0,
             "ticks": ""
            },
            "type": "contourcarpet"
           }
          ],
          "heatmap": [
           {
            "colorbar": {
             "outlinewidth": 0,
             "ticks": ""
            },
            "colorscale": [
             [
              0,
              "#0d0887"
             ],
             [
              0.1111111111111111,
              "#46039f"
             ],
             [
              0.2222222222222222,
              "#7201a8"
             ],
             [
              0.3333333333333333,
              "#9c179e"
             ],
             [
              0.4444444444444444,
              "#bd3786"
             ],
             [
              0.5555555555555556,
              "#d8576b"
             ],
             [
              0.6666666666666666,
              "#ed7953"
             ],
             [
              0.7777777777777778,
              "#fb9f3a"
             ],
             [
              0.8888888888888888,
              "#fdca26"
             ],
             [
              1,
              "#f0f921"
             ]
            ],
            "type": "heatmap"
           }
          ],
          "heatmapgl": [
           {
            "colorbar": {
             "outlinewidth": 0,
             "ticks": ""
            },
            "colorscale": [
             [
              0,
              "#0d0887"
             ],
             [
              0.1111111111111111,
              "#46039f"
             ],
             [
              0.2222222222222222,
              "#7201a8"
             ],
             [
              0.3333333333333333,
              "#9c179e"
             ],
             [
              0.4444444444444444,
              "#bd3786"
             ],
             [
              0.5555555555555556,
              "#d8576b"
             ],
             [
              0.6666666666666666,
              "#ed7953"
             ],
             [
              0.7777777777777778,
              "#fb9f3a"
             ],
             [
              0.8888888888888888,
              "#fdca26"
             ],
             [
              1,
              "#f0f921"
             ]
            ],
            "type": "heatmapgl"
           }
          ],
          "histogram": [
           {
            "marker": {
             "pattern": {
              "fillmode": "overlay",
              "size": 10,
              "solidity": 0.2
             }
            },
            "type": "histogram"
           }
          ],
          "histogram2d": [
           {
            "colorbar": {
             "outlinewidth": 0,
             "ticks": ""
            },
            "colorscale": [
             [
              0,
              "#0d0887"
             ],
             [
              0.1111111111111111,
              "#46039f"
             ],
             [
              0.2222222222222222,
              "#7201a8"
             ],
             [
              0.3333333333333333,
              "#9c179e"
             ],
             [
              0.4444444444444444,
              "#bd3786"
             ],
             [
              0.5555555555555556,
              "#d8576b"
             ],
             [
              0.6666666666666666,
              "#ed7953"
             ],
             [
              0.7777777777777778,
              "#fb9f3a"
             ],
             [
              0.8888888888888888,
              "#fdca26"
             ],
             [
              1,
              "#f0f921"
             ]
            ],
            "type": "histogram2d"
           }
          ],
          "histogram2dcontour": [
           {
            "colorbar": {
             "outlinewidth": 0,
             "ticks": ""
            },
            "colorscale": [
             [
              0,
              "#0d0887"
             ],
             [
              0.1111111111111111,
              "#46039f"
             ],
             [
              0.2222222222222222,
              "#7201a8"
             ],
             [
              0.3333333333333333,
              "#9c179e"
             ],
             [
              0.4444444444444444,
              "#bd3786"
             ],
             [
              0.5555555555555556,
              "#d8576b"
             ],
             [
              0.6666666666666666,
              "#ed7953"
             ],
             [
              0.7777777777777778,
              "#fb9f3a"
             ],
             [
              0.8888888888888888,
              "#fdca26"
             ],
             [
              1,
              "#f0f921"
             ]
            ],
            "type": "histogram2dcontour"
           }
          ],
          "mesh3d": [
           {
            "colorbar": {
             "outlinewidth": 0,
             "ticks": ""
            },
            "type": "mesh3d"
           }
          ],
          "parcoords": [
           {
            "line": {
             "colorbar": {
              "outlinewidth": 0,
              "ticks": ""
             }
            },
            "type": "parcoords"
           }
          ],
          "pie": [
           {
            "automargin": true,
            "type": "pie"
           }
          ],
          "scatter": [
           {
            "fillpattern": {
             "fillmode": "overlay",
             "size": 10,
             "solidity": 0.2
            },
            "type": "scatter"
           }
          ],
          "scatter3d": [
           {
            "line": {
             "colorbar": {
              "outlinewidth": 0,
              "ticks": ""
             }
            },
            "marker": {
             "colorbar": {
              "outlinewidth": 0,
              "ticks": ""
             }
            },
            "type": "scatter3d"
           }
          ],
          "scattercarpet": [
           {
            "marker": {
             "colorbar": {
              "outlinewidth": 0,
              "ticks": ""
             }
            },
            "type": "scattercarpet"
           }
          ],
          "scattergeo": [
           {
            "marker": {
             "colorbar": {
              "outlinewidth": 0,
              "ticks": ""
             }
            },
            "type": "scattergeo"
           }
          ],
          "scattergl": [
           {
            "marker": {
             "colorbar": {
              "outlinewidth": 0,
              "ticks": ""
             }
            },
            "type": "scattergl"
           }
          ],
          "scattermapbox": [
           {
            "marker": {
             "colorbar": {
              "outlinewidth": 0,
              "ticks": ""
             }
            },
            "type": "scattermapbox"
           }
          ],
          "scatterpolar": [
           {
            "marker": {
             "colorbar": {
              "outlinewidth": 0,
              "ticks": ""
             }
            },
            "type": "scatterpolar"
           }
          ],
          "scatterpolargl": [
           {
            "marker": {
             "colorbar": {
              "outlinewidth": 0,
              "ticks": ""
             }
            },
            "type": "scatterpolargl"
           }
          ],
          "scatterternary": [
           {
            "marker": {
             "colorbar": {
              "outlinewidth": 0,
              "ticks": ""
             }
            },
            "type": "scatterternary"
           }
          ],
          "surface": [
           {
            "colorbar": {
             "outlinewidth": 0,
             "ticks": ""
            },
            "colorscale": [
             [
              0,
              "#0d0887"
             ],
             [
              0.1111111111111111,
              "#46039f"
             ],
             [
              0.2222222222222222,
              "#7201a8"
             ],
             [
              0.3333333333333333,
              "#9c179e"
             ],
             [
              0.4444444444444444,
              "#bd3786"
             ],
             [
              0.5555555555555556,
              "#d8576b"
             ],
             [
              0.6666666666666666,
              "#ed7953"
             ],
             [
              0.7777777777777778,
              "#fb9f3a"
             ],
             [
              0.8888888888888888,
              "#fdca26"
             ],
             [
              1,
              "#f0f921"
             ]
            ],
            "type": "surface"
           }
          ],
          "table": [
           {
            "cells": {
             "fill": {
              "color": "#EBF0F8"
             },
             "line": {
              "color": "white"
             }
            },
            "header": {
             "fill": {
              "color": "#C8D4E3"
             },
             "line": {
              "color": "white"
             }
            },
            "type": "table"
           }
          ]
         },
         "layout": {
          "annotationdefaults": {
           "arrowcolor": "#2a3f5f",
           "arrowhead": 0,
           "arrowwidth": 1
          },
          "autotypenumbers": "strict",
          "coloraxis": {
           "colorbar": {
            "outlinewidth": 0,
            "ticks": ""
           }
          },
          "colorscale": {
           "diverging": [
            [
             0,
             "#8e0152"
            ],
            [
             0.1,
             "#c51b7d"
            ],
            [
             0.2,
             "#de77ae"
            ],
            [
             0.3,
             "#f1b6da"
            ],
            [
             0.4,
             "#fde0ef"
            ],
            [
             0.5,
             "#f7f7f7"
            ],
            [
             0.6,
             "#e6f5d0"
            ],
            [
             0.7,
             "#b8e186"
            ],
            [
             0.8,
             "#7fbc41"
            ],
            [
             0.9,
             "#4d9221"
            ],
            [
             1,
             "#276419"
            ]
           ],
           "sequential": [
            [
             0,
             "#0d0887"
            ],
            [
             0.1111111111111111,
             "#46039f"
            ],
            [
             0.2222222222222222,
             "#7201a8"
            ],
            [
             0.3333333333333333,
             "#9c179e"
            ],
            [
             0.4444444444444444,
             "#bd3786"
            ],
            [
             0.5555555555555556,
             "#d8576b"
            ],
            [
             0.6666666666666666,
             "#ed7953"
            ],
            [
             0.7777777777777778,
             "#fb9f3a"
            ],
            [
             0.8888888888888888,
             "#fdca26"
            ],
            [
             1,
             "#f0f921"
            ]
           ],
           "sequentialminus": [
            [
             0,
             "#0d0887"
            ],
            [
             0.1111111111111111,
             "#46039f"
            ],
            [
             0.2222222222222222,
             "#7201a8"
            ],
            [
             0.3333333333333333,
             "#9c179e"
            ],
            [
             0.4444444444444444,
             "#bd3786"
            ],
            [
             0.5555555555555556,
             "#d8576b"
            ],
            [
             0.6666666666666666,
             "#ed7953"
            ],
            [
             0.7777777777777778,
             "#fb9f3a"
            ],
            [
             0.8888888888888888,
             "#fdca26"
            ],
            [
             1,
             "#f0f921"
            ]
           ]
          },
          "colorway": [
           "#636efa",
           "#EF553B",
           "#00cc96",
           "#ab63fa",
           "#FFA15A",
           "#19d3f3",
           "#FF6692",
           "#B6E880",
           "#FF97FF",
           "#FECB52"
          ],
          "font": {
           "color": "#2a3f5f"
          },
          "geo": {
           "bgcolor": "white",
           "lakecolor": "white",
           "landcolor": "#E5ECF6",
           "showlakes": true,
           "showland": true,
           "subunitcolor": "white"
          },
          "hoverlabel": {
           "align": "left"
          },
          "hovermode": "closest",
          "mapbox": {
           "style": "light"
          },
          "paper_bgcolor": "white",
          "plot_bgcolor": "#E5ECF6",
          "polar": {
           "angularaxis": {
            "gridcolor": "white",
            "linecolor": "white",
            "ticks": ""
           },
           "bgcolor": "#E5ECF6",
           "radialaxis": {
            "gridcolor": "white",
            "linecolor": "white",
            "ticks": ""
           }
          },
          "scene": {
           "xaxis": {
            "backgroundcolor": "#E5ECF6",
            "gridcolor": "white",
            "gridwidth": 2,
            "linecolor": "white",
            "showbackground": true,
            "ticks": "",
            "zerolinecolor": "white"
           },
           "yaxis": {
            "backgroundcolor": "#E5ECF6",
            "gridcolor": "white",
            "gridwidth": 2,
            "linecolor": "white",
            "showbackground": true,
            "ticks": "",
            "zerolinecolor": "white"
           },
           "zaxis": {
            "backgroundcolor": "#E5ECF6",
            "gridcolor": "white",
            "gridwidth": 2,
            "linecolor": "white",
            "showbackground": true,
            "ticks": "",
            "zerolinecolor": "white"
           }
          },
          "shapedefaults": {
           "line": {
            "color": "#2a3f5f"
           }
          },
          "ternary": {
           "aaxis": {
            "gridcolor": "white",
            "linecolor": "white",
            "ticks": ""
           },
           "baxis": {
            "gridcolor": "white",
            "linecolor": "white",
            "ticks": ""
           },
           "bgcolor": "#E5ECF6",
           "caxis": {
            "gridcolor": "white",
            "linecolor": "white",
            "ticks": ""
           }
          },
          "title": {
           "x": 0.05
          },
          "xaxis": {
           "automargin": true,
           "gridcolor": "white",
           "linecolor": "white",
           "ticks": "",
           "title": {
            "standoff": 15
           },
           "zerolinecolor": "white",
           "zerolinewidth": 2
          },
          "yaxis": {
           "automargin": true,
           "gridcolor": "white",
           "linecolor": "white",
           "ticks": "",
           "title": {
            "standoff": 15
           },
           "zerolinecolor": "white",
           "zerolinewidth": 2
          }
         }
        },
        "xaxis": {
         "anchor": "y",
         "domain": [
          0,
          1
         ],
         "title": {
          "text": "branch"
         }
        },
        "yaxis": {
         "anchor": "x",
         "domain": [
          0,
          1
         ],
         "title": {
          "text": "rating"
         }
        }
       }
      }
     },
     "metadata": {},
     "output_type": "display_data"
    }
   ],
   "source": [
    "#the rate for each branch\n",
    "fig=px.box(df,'branch','rating')\n",
    "fig.show()"
   ]
  },
  {
   "cell_type": "code",
   "execution_count": 131,
   "id": "c479365a",
   "metadata": {},
   "outputs": [
    {
     "data": {
      "application/vnd.plotly.v1+json": {
       "config": {
        "plotlyServerURL": "https://plot.ly"
       },
       "data": [
        {
         "alignmentgroup": "True",
         "box": {
          "visible": false
         },
         "hovertemplate": "branch=%{x}<br>rating=%{y}<extra></extra>",
         "legendgroup": "",
         "marker": {
          "color": "#636efa"
         },
         "name": "",
         "offsetgroup": "",
         "orientation": "v",
         "scalegroup": "True",
         "showlegend": false,
         "type": "violin",
         "x": [
          "A",
          "C",
          "A",
          "A",
          "A",
          "C",
          "A",
          "C",
          "A",
          "B",
          "B",
          "B",
          "A",
          "A",
          "A",
          "B",
          "A",
          "A",
          "A",
          "B",
          "C",
          "B",
          "B",
          "A",
          "A",
          "A",
          "B",
          "A",
          "B",
          "A",
          "B",
          "B",
          "B",
          "A",
          "C",
          "C",
          "A",
          "A",
          "C",
          "B",
          "B",
          "C",
          "B",
          "C",
          "C",
          "B",
          "B",
          "B",
          "B",
          "C",
          "C",
          "A",
          "B",
          "C",
          "B",
          "C",
          "A",
          "A",
          "A",
          "C",
          "C",
          "C",
          "B",
          "A",
          "B",
          "A",
          "C",
          "B",
          "A",
          "A",
          "C",
          "C",
          "B",
          "C",
          "A",
          "C",
          "C",
          "A",
          "C",
          "C",
          "C",
          "B",
          "C",
          "C",
          "C",
          "C",
          "C",
          "A",
          "A",
          "B",
          "C",
          "C",
          "A",
          "B",
          "C",
          "A",
          "B",
          "C",
          "A",
          "B",
          "C",
          "C",
          "C",
          "A",
          "B",
          "A",
          "C",
          "A",
          "C",
          "C",
          "B",
          "C",
          "B",
          "A",
          "C",
          "C",
          "B",
          "B",
          "A",
          "B",
          "A",
          "C",
          "B",
          "C",
          "B",
          "A",
          "A",
          "C",
          "C",
          "B",
          "B",
          "A",
          "B",
          "B",
          "C",
          "C",
          "A",
          "A",
          "B",
          "A",
          "C",
          "C",
          "C",
          "C",
          "A",
          "C",
          "A",
          "C",
          "B",
          "A",
          "B",
          "C",
          "A",
          "C",
          "C",
          "A",
          "B",
          "B",
          "B",
          "B",
          "C",
          "A",
          "A",
          "C",
          "B",
          "B",
          "C",
          "A",
          "A",
          "A",
          "A",
          "B",
          "C",
          "B",
          "B",
          "A",
          "A",
          "C",
          "A",
          "C",
          "C",
          "C",
          "A",
          "C",
          "A",
          "B",
          "B",
          "B",
          "A",
          "C",
          "B",
          "B",
          "C",
          "B",
          "A",
          "C",
          "C",
          "A",
          "C",
          "C",
          "C",
          "B",
          "C",
          "B",
          "B",
          "A",
          "C",
          "C",
          "B",
          "B",
          "A",
          "C",
          "B",
          "B",
          "B",
          "A",
          "B",
          "A",
          "B",
          "B",
          "B",
          "B",
          "C",
          "C",
          "A",
          "C",
          "B",
          "C",
          "B",
          "A",
          "B",
          "B",
          "B",
          "B",
          "A",
          "A",
          "C",
          "C",
          "B",
          "A",
          "A",
          "A",
          "C",
          "A",
          "B",
          "A",
          "B",
          "A",
          "A",
          "B",
          "B",
          "C",
          "C",
          "A",
          "A",
          "B",
          "A",
          "A",
          "A",
          "C",
          "A",
          "C",
          "B",
          "A",
          "B",
          "A",
          "C",
          "B",
          "A",
          "A",
          "B",
          "C",
          "A",
          "A",
          "B",
          "B",
          "C",
          "C",
          "C",
          "A",
          "A",
          "C",
          "A",
          "A",
          "A",
          "B",
          "C",
          "C",
          "B",
          "A",
          "B",
          "C",
          "A",
          "A",
          "B",
          "C",
          "C",
          "A",
          "A",
          "C",
          "C",
          "B",
          "C",
          "A",
          "B",
          "A",
          "A",
          "A",
          "A",
          "A",
          "B",
          "C",
          "A",
          "A",
          "C",
          "C",
          "C",
          "C",
          "C",
          "C",
          "C",
          "C",
          "A",
          "A",
          "A",
          "B",
          "A",
          "C",
          "B",
          "A",
          "B",
          "A",
          "A",
          "A",
          "C",
          "A",
          "A",
          "B",
          "C",
          "B",
          "B",
          "B",
          "B",
          "C",
          "A",
          "A",
          "A",
          "C",
          "A",
          "B",
          "C",
          "A",
          "B",
          "B",
          "C",
          "B",
          "C",
          "C",
          "B",
          "B",
          "A",
          "C",
          "C",
          "A",
          "C",
          "C",
          "C",
          "A",
          "C",
          "A",
          "B",
          "B",
          "C",
          "C",
          "A",
          "A",
          "B",
          "C",
          "C",
          "B",
          "A",
          "C",
          "B",
          "C",
          "A",
          "B",
          "C",
          "A",
          "C",
          "B",
          "C",
          "B",
          "A",
          "A",
          "A",
          "A",
          "A",
          "B",
          "B",
          "B",
          "C",
          "C",
          "C",
          "B",
          "C",
          "A",
          "A",
          "B",
          "A",
          "C",
          "B",
          "B",
          "A",
          "A",
          "A",
          "B",
          "C",
          "C",
          "B",
          "A",
          "C",
          "C",
          "C",
          "B",
          "C",
          "B",
          "A",
          "B",
          "B",
          "A",
          "B",
          "C",
          "A",
          "B",
          "B",
          "C",
          "C",
          "A",
          "C",
          "C",
          "C",
          "B",
          "A",
          "C",
          "A",
          "B",
          "C",
          "C",
          "B",
          "B",
          "B",
          "B",
          "A",
          "A",
          "A",
          "B",
          "B",
          "B",
          "C",
          "C",
          "C",
          "B",
          "C",
          "C",
          "A",
          "C",
          "C",
          "B",
          "C",
          "C",
          "C",
          "A",
          "A",
          "B",
          "A",
          "A",
          "A",
          "C",
          "B",
          "A",
          "C",
          "C",
          "A",
          "B",
          "C",
          "B",
          "B",
          "A",
          "C",
          "B",
          "B",
          "A",
          "B",
          "C",
          "B",
          "B",
          "C",
          "C",
          "B",
          "A",
          "B",
          "C",
          "C",
          "B",
          "B",
          "A",
          "B",
          "B",
          "B",
          "C",
          "B",
          "A",
          "A",
          "A",
          "C",
          "C",
          "B",
          "C",
          "A",
          "C",
          "B",
          "C",
          "A",
          "C",
          "A",
          "A",
          "B",
          "B",
          "B",
          "A",
          "A",
          "A",
          "B",
          "C",
          "A",
          "C",
          "B",
          "A",
          "A",
          "C",
          "A",
          "C",
          "B",
          "C",
          "B",
          "B",
          "A",
          "A",
          "B",
          "A",
          "B",
          "B",
          "B",
          "C",
          "A",
          "B",
          "B",
          "C",
          "A",
          "A",
          "B",
          "C",
          "B",
          "A",
          "B",
          "A",
          "C",
          "A",
          "B",
          "C",
          "B",
          "B",
          "A",
          "B",
          "A",
          "B",
          "B",
          "C",
          "A",
          "B",
          "C",
          "A",
          "C",
          "B",
          "B",
          "A",
          "A",
          "A",
          "C",
          "A",
          "C",
          "C",
          "A",
          "A",
          "B",
          "B",
          "A",
          "C",
          "C",
          "A",
          "C",
          "C",
          "C",
          "B",
          "C",
          "B",
          "A",
          "C",
          "A",
          "B",
          "A",
          "C",
          "B",
          "C",
          "A",
          "A",
          "B",
          "C",
          "A",
          "C",
          "A",
          "A",
          "B",
          "B",
          "B",
          "B",
          "A",
          "B",
          "A",
          "A",
          "A",
          "A",
          "A",
          "B",
          "B",
          "B",
          "A",
          "C",
          "B",
          "B",
          "B",
          "C",
          "B",
          "C",
          "C",
          "A",
          "C",
          "B",
          "C",
          "C",
          "B",
          "B",
          "A",
          "B",
          "B",
          "A",
          "C",
          "A",
          "A",
          "A",
          "B",
          "C",
          "B",
          "C",
          "C",
          "A",
          "B",
          "B",
          "C",
          "B",
          "A",
          "B",
          "B",
          "C",
          "A",
          "B",
          "B",
          "A",
          "C",
          "A",
          "B",
          "B",
          "C",
          "A",
          "B",
          "B",
          "B",
          "A",
          "C",
          "A",
          "C",
          "C",
          "A",
          "C",
          "C",
          "A",
          "A",
          "B",
          "A",
          "C",
          "C",
          "B",
          "B",
          "B",
          "B",
          "B",
          "B",
          "C",
          "C",
          "A",
          "A",
          "C",
          "C",
          "C",
          "C",
          "A",
          "A",
          "A",
          "A",
          "B",
          "B",
          "C",
          "B",
          "C",
          "B",
          "C",
          "C",
          "B",
          "C",
          "B",
          "A",
          "A",
          "A",
          "B",
          "B",
          "C",
          "C",
          "C",
          "B",
          "A",
          "C",
          "C",
          "A",
          "A",
          "C",
          "C",
          "B",
          "C",
          "B",
          "C",
          "B",
          "A",
          "A",
          "B",
          "C",
          "A",
          "B",
          "A",
          "A",
          "A",
          "B",
          "B",
          "A",
          "A",
          "A",
          "B",
          "C",
          "B",
          "B",
          "A",
          "B",
          "C",
          "C",
          "C",
          "C",
          "B",
          "C",
          "B",
          "C",
          "B",
          "C",
          "A",
          "A",
          "C",
          "C",
          "A",
          "C",
          "C",
          "C",
          "A",
          "A",
          "C",
          "B",
          "A",
          "A",
          "B",
          "C",
          "A",
          "B",
          "C",
          "B",
          "C",
          "C",
          "A",
          "B",
          "A",
          "A",
          "A",
          "B",
          "C",
          "B",
          "A",
          "C",
          "A",
          "A",
          "B",
          "C",
          "A",
          "B",
          "B",
          "B",
          "A",
          "C",
          "A",
          "B",
          "A",
          "B",
          "A",
          "C",
          "A",
          "A",
          "B",
          "B",
          "A",
          "B",
          "A",
          "A",
          "B",
          "C",
          "C",
          "A",
          "B",
          "A",
          "C",
          "A",
          "A",
          "A",
          "C",
          "C",
          "A",
          "A",
          "A",
          "C",
          "B",
          "A",
          "B",
          "B",
          "A",
          "B",
          "A",
          "C",
          "A",
          "B",
          "B",
          "A",
          "C",
          "B",
          "C",
          "C",
          "A",
          "A",
          "C",
          "B",
          "A",
          "A",
          "C",
          "C",
          "B",
          "A",
          "B",
          "B",
          "C",
          "B",
          "A",
          "A",
          "A",
          "A",
          "A",
          "C",
          "A",
          "C",
          "B",
          "C",
          "B",
          "B",
          "B",
          "C",
          "C",
          "C",
          "A",
          "C",
          "B",
          "A",
          "A",
          "C",
          "C",
          "C",
          "B",
          "A",
          "B",
          "B",
          "C",
          "A",
          "A",
          "A",
          "C",
          "C",
          "A",
          "B",
          "B",
          "C",
          "B",
          "C",
          "C",
          "C",
          "B",
          "B",
          "A",
          "B",
          "B",
          "B",
          "C",
          "A",
          "C",
          "B",
          "C",
          "C",
          "A",
          "A",
          "C",
          "A",
          "C",
          "A",
          "A",
          "A",
          "A",
          "C",
          "B",
          "C",
          "B",
          "B",
          "B",
          "B",
          "C",
          "B",
          "A",
          "C",
          "B",
          "C",
          "A",
          "C",
          "A",
          "A",
          "C",
          "B",
          "B",
          "A",
          "A",
          "A",
          "B",
          "B",
          "B",
          "B",
          "A",
          "C",
          "B",
          "A",
          "B",
          "B",
          "B",
          "C",
          "A",
          "A",
          "C",
          "C",
          "B",
          "B",
          "B",
          "C",
          "B",
          "A",
          "B",
          "A",
          "B",
          "C",
          "C",
          "B",
          "A",
          "A",
          "A"
         ],
         "x0": " ",
         "xaxis": "x",
         "y": [
          9.1,
          9.6,
          7.4,
          8.4,
          5.3,
          4.1,
          5.8,
          8,
          7.2,
          5.9,
          4.5,
          6.8,
          7.1,
          8.2,
          5.7,
          4.5,
          4.6,
          6.9,
          8.6,
          4.4,
          4.8,
          5.1,
          4.4,
          9.9,
          6,
          8.5,
          6.7,
          7.7,
          9.6,
          7.4,
          4.8,
          4.5,
          5.1,
          5.1,
          7.5,
          6.8,
          7,
          4.7,
          7.6,
          7.7,
          7.9,
          6.3,
          5.6,
          7.6,
          7.2,
          9.5,
          8.4,
          4.1,
          8.1,
          7.9,
          9.5,
          8.5,
          6.5,
          6.1,
          6.5,
          8.2,
          5.8,
          6.6,
          5.4,
          9.3,
          10,
          7,
          10,
          8.6,
          7.6,
          5.8,
          6.7,
          9.9,
          6.4,
          4.3,
          9.6,
          5.9,
          4,
          8.7,
          9.4,
          5.4,
          8.6,
          5.7,
          6.6,
          6,
          5.5,
          6.4,
          6.6,
          8.3,
          6.6,
          4,
          9.9,
          7.3,
          5.7,
          6.1,
          7.1,
          8.2,
          5.1,
          8.6,
          6.6,
          7.2,
          5.1,
          4.1,
          9.3,
          7.4,
          4.1,
          7.2,
          4.9,
          9.9,
          8,
          7.3,
          7.9,
          7.4,
          4.2,
          9.2,
          4.6,
          7.8,
          8.4,
          4.3,
          9.5,
          7.1,
          5.3,
          5.2,
          6,
          4.1,
          5.2,
          6.5,
          4.2,
          4.6,
          7.3,
          4.5,
          9,
          5.9,
          8.5,
          7.2,
          7.5,
          8.3,
          7.4,
          8.8,
          5.3,
          6.2,
          8.8,
          9.8,
          8.2,
          9.2,
          5.4,
          8.1,
          9.1,
          8.4,
          8,
          9.5,
          9.2,
          5.6,
          6.2,
          4.9,
          4.8,
          7.3,
          7.4,
          9.9,
          9.3,
          9,
          6.1,
          9.7,
          6,
          10,
          8.3,
          6,
          7,
          6.5,
          5.9,
          5.6,
          4.8,
          8.7,
          6.5,
          8.5,
          5.5,
          9.4,
          6.3,
          9.8,
          8.7,
          8.8,
          9.6,
          4.8,
          4.4,
          9.9,
          5.7,
          7.7,
          8,
          5.7,
          6.7,
          8,
          7.5,
          7,
          9.9,
          5.9,
          7.2,
          4.6,
          9.2,
          5.7,
          9.9,
          5,
          4.9,
          6.1,
          8.2,
          5.5,
          6.8,
          6.6,
          9.8,
          8.7,
          5.4,
          7.9,
          9.7,
          7.8,
          5.1,
          6.5,
          5.9,
          8.8,
          4.9,
          4.4,
          6.5,
          8.3,
          8.5,
          5.5,
          8.7,
          7.9,
          6.1,
          5.4,
          9.4,
          8.2,
          6.2,
          9.7,
          4,
          9.7,
          5.3,
          7.4,
          6.5,
          8.7,
          8,
          6.7,
          6.5,
          4.1,
          4.9,
          8.6,
          4.3,
          4.9,
          5.6,
          5.8,
          6,
          4.2,
          8.3,
          5.7,
          4.8,
          6.8,
          8.8,
          4.2,
          6.4,
          8.4,
          7.2,
          5.2,
          8.9,
          9,
          9.7,
          8.7,
          6.5,
          6.9,
          6.2,
          5.6,
          5.7,
          4.2,
          7.9,
          8.7,
          6.9,
          9.5,
          4.4,
          7,
          6.3,
          9.7,
          8.8,
          5.1,
          7.9,
          6.2,
          7.1,
          6.4,
          5.7,
          9.6,
          6.4,
          7.9,
          6.5,
          8.5,
          9.1,
          7.6,
          6.9,
          9.5,
          5.2,
          4.2,
          7,
          6,
          4.7,
          7.1,
          5.9,
          7.5,
          6.4,
          5.8,
          4.5,
          7.7,
          6.7,
          4.7,
          4.4,
          4.7,
          8.6,
          4.3,
          9.6,
          4.1,
          4.7,
          7.8,
          5.5,
          9.7,
          4.4,
          5,
          4.4,
          5.2,
          7.3,
          4.9,
          8.1,
          8.4,
          5.5,
          8.4,
          9.8,
          6.7,
          9.4,
          6.4,
          5.4,
          8.6,
          4,
          7.6,
          6.8,
          9.1,
          5.5,
          7.9,
          8.5,
          9.1,
          7.5,
          5.2,
          9.5,
          8.9,
          7.8,
          8.9,
          7.7,
          9.3,
          6.2,
          7.6,
          7.3,
          4.7,
          5.1,
          4.8,
          6.6,
          5.5,
          8.5,
          4.8,
          8.4,
          7.8,
          9.3,
          5.2,
          6.5,
          5.6,
          7.4,
          9.1,
          8,
          7.2,
          7.1,
          9.1,
          5.6,
          6,
          5.4,
          7.8,
          9.9,
          4.9,
          5.2,
          8.9,
          9.1,
          7,
          9.6,
          8.7,
          9.4,
          4,
          7.5,
          4.2,
          9.9,
          4.2,
          9.9,
          5.8,
          6,
          10,
          9.5,
          6.6,
          8.1,
          9.7,
          7.2,
          6.2,
          7.3,
          4.3,
          4.6,
          5.8,
          8.3,
          8,
          9.4,
          6.2,
          9.8,
          9.6,
          4.9,
          8,
          7.8,
          4.1,
          5.5,
          5.4,
          5.1,
          6.9,
          7.8,
          6.6,
          9.2,
          7.8,
          8.7,
          9.2,
          8.3,
          8.2,
          7.5,
          9.8,
          8.7,
          6.7,
          5,
          7,
          8.9,
          8,
          6.9,
          7.3,
          6.9,
          5.7,
          6.4,
          9.6,
          6.8,
          9,
          9.6,
          7.7,
          7,
          6.5,
          8.1,
          4.3,
          6.5,
          9.5,
          9.7,
          9.5,
          8.9,
          6.5,
          5.3,
          9.6,
          6.7,
          7.6,
          4.8,
          5.5,
          4.7,
          6.9,
          4.5,
          6.2,
          7.6,
          7.9,
          4.5,
          8.7,
          6.1,
          6.4,
          9.1,
          7.1,
          7.7,
          4.5,
          7.2,
          8.4,
          5.4,
          9.7,
          5.5,
          4.6,
          6.6,
          6.3,
          4.2,
          4.4,
          6.7,
          6.7,
          8.4,
          6.2,
          5,
          6,
          7,
          6.6,
          7.3,
          8.3,
          4.3,
          9.8,
          8.2,
          7.2,
          8.7,
          8.4,
          7.1,
          5.5,
          8.5,
          6.2,
          8.9,
          9.6,
          5.4,
          9.1,
          9,
          6.3,
          9.5,
          9.8,
          6.7,
          7.7,
          7,
          5.1,
          6.2,
          6.1,
          9.3,
          7.6,
          8.2,
          8.5,
          9.8,
          8.7,
          9.7,
          4.3,
          7.7,
          7.3,
          5.9,
          5,
          8,
          7.1,
          9,
          6.7,
          6.1,
          9.3,
          7,
          7.2,
          8.2,
          8.4,
          6.2,
          7.4,
          5,
          6.9,
          4.9,
          5.1,
          9.1,
          7.1,
          5,
          5.5,
          9.2,
          4.9,
          8.9,
          6,
          4.2,
          7.3,
          6.5,
          8.9,
          9.7,
          8.6,
          6.9,
          7.7,
          9.5,
          4.5,
          5.6,
          8.2,
          7.3,
          4.4,
          5.7,
          5,
          9,
          6.3,
          9.4,
          7.7,
          5.5,
          4.1,
          7.6,
          8.6,
          8.3,
          8.1,
          8.6,
          6.3,
          5.8,
          6.2,
          7.7,
          8.1,
          7.3,
          8.4,
          8,
          9.5,
          7,
          9.8,
          9.2,
          7.7,
          5.3,
          4.4,
          4.3,
          9.4,
          9.8,
          4.8,
          5.3,
          8.7,
          9.5,
          5.3,
          9.2,
          9.6,
          6.4,
          4.5,
          6.9,
          7.8,
          4.5,
          8.6,
          5.2,
          6.4,
          5.2,
          8.9,
          6.2,
          6.7,
          7.2,
          9,
          4.2,
          4.2,
          6.9,
          4.4,
          4,
          8.5,
          9.2,
          9.8,
          4.9,
          4.4,
          6.8,
          9.1,
          8.7,
          5,
          7.5,
          8.2,
          6.7,
          5.4,
          7,
          4.7,
          5,
          5,
          6,
          6.3,
          8.5,
          7.5,
          6.4,
          4.7,
          6,
          4,
          5.5,
          8.7,
          7.4,
          5.6,
          6.3,
          7.1,
          7.8,
          9.9,
          7.3,
          5.1,
          9.4,
          5.8,
          8,
          7.9,
          5.9,
          4.9,
          9.3,
          7.9,
          5.9,
          9.9,
          7.7,
          7.6,
          7.7,
          6.4,
          4.4,
          4.1,
          4.4,
          5.5,
          4,
          9.3,
          4.8,
          4.6,
          7.3,
          6,
          8.1,
          9.4,
          6.5,
          7,
          7.1,
          6.6,
          4.9,
          6.4,
          8,
          4.3,
          6.1,
          7.5,
          6.7,
          5.2,
          8.8,
          9.5,
          7.6,
          6.6,
          6.9,
          4.3,
          7.8,
          8,
          9.6,
          4.3,
          5,
          9.2,
          6.3,
          8.9,
          7.6,
          4.8,
          9.1,
          6.1,
          9.1,
          8.3,
          7.2,
          6,
          8.5,
          6.6,
          4.5,
          8.1,
          7.2,
          6.1,
          7.1,
          5.1,
          7.9,
          7.4,
          7.4,
          6.6,
          5.9,
          8.9,
          6.8,
          9.3,
          4.4,
          4.8,
          9.5,
          8.9,
          6.4,
          6,
          8.1,
          9,
          6,
          9.8,
          8.5,
          8.8,
          8.8,
          9.5,
          5.6,
          8.6,
          5.2,
          5.8,
          8,
          9,
          4.1,
          8.6,
          7,
          8.4,
          7.4,
          6.2,
          4.9,
          4.5,
          5.6,
          8,
          5.6,
          4.2,
          9.9,
          7.6,
          6.6,
          4.7,
          9.8,
          6.3,
          7.9,
          7.7,
          4.5,
          8,
          5.7,
          6.3,
          6,
          8,
          4.2,
          9.6,
          6.1,
          5.6,
          8.3,
          7.8,
          4.1,
          8.8,
          4.1,
          9,
          5.5,
          9.3,
          5.6,
          9.7,
          4,
          9.2,
          4.9,
          9.3,
          6.6,
          4.3,
          5.5,
          8.1,
          9.8,
          9.4,
          7.9,
          5.1,
          6.9,
          8,
          8,
          4.2,
          8.5,
          9,
          8.6,
          6,
          6.2,
          5,
          6.5,
          6,
          5,
          5,
          9.2,
          9.6,
          8.4,
          6,
          6.7,
          4.1,
          5.9,
          8.7,
          4.5,
          6.6,
          7.7,
          8.5,
          5.2,
          4.3,
          7.6,
          9.5,
          4.1,
          9.2,
          5.4,
          5.8,
          5.6,
          5.1,
          5.8,
          5,
          7.9,
          6,
          5,
          8.9,
          5.9,
          5.9,
          9.7,
          8.6,
          4,
          4.2,
          9.2,
          9.2,
          5,
          10,
          8.8,
          4.2,
          6.3,
          8.2,
          5.1,
          5,
          7,
          7.8,
          4.3,
          7,
          6.6,
          7.3,
          6.5,
          4.9,
          4.3,
          9.3,
          7.1,
          9.6,
          6.2,
          9.9,
          5.9,
          6.3,
          4,
          6.1,
          4.5,
          8.6,
          6,
          9.5,
          9.9,
          7.5,
          7.6,
          5,
          6.7,
          9.5,
          6.8,
          5.6,
          7.2,
          8.1,
          8.6,
          9.4,
          8.9,
          4.2,
          5,
          8.8,
          5.3,
          4.6,
          7.5,
          5.1,
          4.2,
          8.1,
          6,
          7.9,
          8.8,
          6.6,
          6.2,
          4.2,
          7.3,
          8.6,
          6.8,
          7.6,
          5.8,
          4.1,
          9.3,
          6.8,
          8.7,
          6.3,
          5.1,
          7,
          5.2,
          6.6,
          6.5,
          9,
          5.2,
          6.8,
          7.6,
          7.2,
          7.1,
          9.5,
          5.1,
          7.6,
          9.8,
          5.1,
          7.5,
          7.4,
          4.2,
          5.9,
          6.9,
          6.6,
          5.7,
          5.3,
          4.2,
          7.3,
          5.3,
          4.7,
          7.9,
          8.9,
          9.3,
          4.7,
          8.7,
          7.6,
          5.7,
          6.8,
          5.4,
          7.1,
          7.8,
          8.4,
          9.8,
          9.8,
          7.4,
          6.7,
          6.4,
          5.8,
          7.2,
          9.3,
          9.5,
          9,
          9,
          6.7,
          5.5,
          5.4,
          8.2,
          7,
          8.5,
          4.9,
          5.1,
          6.5,
          9.8,
          8.4,
          7.4,
          6.1,
          6,
          8.5,
          4.3,
          6.2,
          4.3,
          8.4,
          4.5,
          6,
          8.8,
          6.6,
          5.9,
          6.2,
          4.4,
          7.7,
          4.1,
          6.6
         ],
         "y0": " ",
         "yaxis": "y"
        }
       ],
       "layout": {
        "legend": {
         "tracegroupgap": 0
        },
        "margin": {
         "t": 60
        },
        "template": {
         "data": {
          "bar": [
           {
            "error_x": {
             "color": "#2a3f5f"
            },
            "error_y": {
             "color": "#2a3f5f"
            },
            "marker": {
             "line": {
              "color": "#E5ECF6",
              "width": 0.5
             },
             "pattern": {
              "fillmode": "overlay",
              "size": 10,
              "solidity": 0.2
             }
            },
            "type": "bar"
           }
          ],
          "barpolar": [
           {
            "marker": {
             "line": {
              "color": "#E5ECF6",
              "width": 0.5
             },
             "pattern": {
              "fillmode": "overlay",
              "size": 10,
              "solidity": 0.2
             }
            },
            "type": "barpolar"
           }
          ],
          "carpet": [
           {
            "aaxis": {
             "endlinecolor": "#2a3f5f",
             "gridcolor": "white",
             "linecolor": "white",
             "minorgridcolor": "white",
             "startlinecolor": "#2a3f5f"
            },
            "baxis": {
             "endlinecolor": "#2a3f5f",
             "gridcolor": "white",
             "linecolor": "white",
             "minorgridcolor": "white",
             "startlinecolor": "#2a3f5f"
            },
            "type": "carpet"
           }
          ],
          "choropleth": [
           {
            "colorbar": {
             "outlinewidth": 0,
             "ticks": ""
            },
            "type": "choropleth"
           }
          ],
          "contour": [
           {
            "colorbar": {
             "outlinewidth": 0,
             "ticks": ""
            },
            "colorscale": [
             [
              0,
              "#0d0887"
             ],
             [
              0.1111111111111111,
              "#46039f"
             ],
             [
              0.2222222222222222,
              "#7201a8"
             ],
             [
              0.3333333333333333,
              "#9c179e"
             ],
             [
              0.4444444444444444,
              "#bd3786"
             ],
             [
              0.5555555555555556,
              "#d8576b"
             ],
             [
              0.6666666666666666,
              "#ed7953"
             ],
             [
              0.7777777777777778,
              "#fb9f3a"
             ],
             [
              0.8888888888888888,
              "#fdca26"
             ],
             [
              1,
              "#f0f921"
             ]
            ],
            "type": "contour"
           }
          ],
          "contourcarpet": [
           {
            "colorbar": {
             "outlinewidth": 0,
             "ticks": ""
            },
            "type": "contourcarpet"
           }
          ],
          "heatmap": [
           {
            "colorbar": {
             "outlinewidth": 0,
             "ticks": ""
            },
            "colorscale": [
             [
              0,
              "#0d0887"
             ],
             [
              0.1111111111111111,
              "#46039f"
             ],
             [
              0.2222222222222222,
              "#7201a8"
             ],
             [
              0.3333333333333333,
              "#9c179e"
             ],
             [
              0.4444444444444444,
              "#bd3786"
             ],
             [
              0.5555555555555556,
              "#d8576b"
             ],
             [
              0.6666666666666666,
              "#ed7953"
             ],
             [
              0.7777777777777778,
              "#fb9f3a"
             ],
             [
              0.8888888888888888,
              "#fdca26"
             ],
             [
              1,
              "#f0f921"
             ]
            ],
            "type": "heatmap"
           }
          ],
          "heatmapgl": [
           {
            "colorbar": {
             "outlinewidth": 0,
             "ticks": ""
            },
            "colorscale": [
             [
              0,
              "#0d0887"
             ],
             [
              0.1111111111111111,
              "#46039f"
             ],
             [
              0.2222222222222222,
              "#7201a8"
             ],
             [
              0.3333333333333333,
              "#9c179e"
             ],
             [
              0.4444444444444444,
              "#bd3786"
             ],
             [
              0.5555555555555556,
              "#d8576b"
             ],
             [
              0.6666666666666666,
              "#ed7953"
             ],
             [
              0.7777777777777778,
              "#fb9f3a"
             ],
             [
              0.8888888888888888,
              "#fdca26"
             ],
             [
              1,
              "#f0f921"
             ]
            ],
            "type": "heatmapgl"
           }
          ],
          "histogram": [
           {
            "marker": {
             "pattern": {
              "fillmode": "overlay",
              "size": 10,
              "solidity": 0.2
             }
            },
            "type": "histogram"
           }
          ],
          "histogram2d": [
           {
            "colorbar": {
             "outlinewidth": 0,
             "ticks": ""
            },
            "colorscale": [
             [
              0,
              "#0d0887"
             ],
             [
              0.1111111111111111,
              "#46039f"
             ],
             [
              0.2222222222222222,
              "#7201a8"
             ],
             [
              0.3333333333333333,
              "#9c179e"
             ],
             [
              0.4444444444444444,
              "#bd3786"
             ],
             [
              0.5555555555555556,
              "#d8576b"
             ],
             [
              0.6666666666666666,
              "#ed7953"
             ],
             [
              0.7777777777777778,
              "#fb9f3a"
             ],
             [
              0.8888888888888888,
              "#fdca26"
             ],
             [
              1,
              "#f0f921"
             ]
            ],
            "type": "histogram2d"
           }
          ],
          "histogram2dcontour": [
           {
            "colorbar": {
             "outlinewidth": 0,
             "ticks": ""
            },
            "colorscale": [
             [
              0,
              "#0d0887"
             ],
             [
              0.1111111111111111,
              "#46039f"
             ],
             [
              0.2222222222222222,
              "#7201a8"
             ],
             [
              0.3333333333333333,
              "#9c179e"
             ],
             [
              0.4444444444444444,
              "#bd3786"
             ],
             [
              0.5555555555555556,
              "#d8576b"
             ],
             [
              0.6666666666666666,
              "#ed7953"
             ],
             [
              0.7777777777777778,
              "#fb9f3a"
             ],
             [
              0.8888888888888888,
              "#fdca26"
             ],
             [
              1,
              "#f0f921"
             ]
            ],
            "type": "histogram2dcontour"
           }
          ],
          "mesh3d": [
           {
            "colorbar": {
             "outlinewidth": 0,
             "ticks": ""
            },
            "type": "mesh3d"
           }
          ],
          "parcoords": [
           {
            "line": {
             "colorbar": {
              "outlinewidth": 0,
              "ticks": ""
             }
            },
            "type": "parcoords"
           }
          ],
          "pie": [
           {
            "automargin": true,
            "type": "pie"
           }
          ],
          "scatter": [
           {
            "fillpattern": {
             "fillmode": "overlay",
             "size": 10,
             "solidity": 0.2
            },
            "type": "scatter"
           }
          ],
          "scatter3d": [
           {
            "line": {
             "colorbar": {
              "outlinewidth": 0,
              "ticks": ""
             }
            },
            "marker": {
             "colorbar": {
              "outlinewidth": 0,
              "ticks": ""
             }
            },
            "type": "scatter3d"
           }
          ],
          "scattercarpet": [
           {
            "marker": {
             "colorbar": {
              "outlinewidth": 0,
              "ticks": ""
             }
            },
            "type": "scattercarpet"
           }
          ],
          "scattergeo": [
           {
            "marker": {
             "colorbar": {
              "outlinewidth": 0,
              "ticks": ""
             }
            },
            "type": "scattergeo"
           }
          ],
          "scattergl": [
           {
            "marker": {
             "colorbar": {
              "outlinewidth": 0,
              "ticks": ""
             }
            },
            "type": "scattergl"
           }
          ],
          "scattermapbox": [
           {
            "marker": {
             "colorbar": {
              "outlinewidth": 0,
              "ticks": ""
             }
            },
            "type": "scattermapbox"
           }
          ],
          "scatterpolar": [
           {
            "marker": {
             "colorbar": {
              "outlinewidth": 0,
              "ticks": ""
             }
            },
            "type": "scatterpolar"
           }
          ],
          "scatterpolargl": [
           {
            "marker": {
             "colorbar": {
              "outlinewidth": 0,
              "ticks": ""
             }
            },
            "type": "scatterpolargl"
           }
          ],
          "scatterternary": [
           {
            "marker": {
             "colorbar": {
              "outlinewidth": 0,
              "ticks": ""
             }
            },
            "type": "scatterternary"
           }
          ],
          "surface": [
           {
            "colorbar": {
             "outlinewidth": 0,
             "ticks": ""
            },
            "colorscale": [
             [
              0,
              "#0d0887"
             ],
             [
              0.1111111111111111,
              "#46039f"
             ],
             [
              0.2222222222222222,
              "#7201a8"
             ],
             [
              0.3333333333333333,
              "#9c179e"
             ],
             [
              0.4444444444444444,
              "#bd3786"
             ],
             [
              0.5555555555555556,
              "#d8576b"
             ],
             [
              0.6666666666666666,
              "#ed7953"
             ],
             [
              0.7777777777777778,
              "#fb9f3a"
             ],
             [
              0.8888888888888888,
              "#fdca26"
             ],
             [
              1,
              "#f0f921"
             ]
            ],
            "type": "surface"
           }
          ],
          "table": [
           {
            "cells": {
             "fill": {
              "color": "#EBF0F8"
             },
             "line": {
              "color": "white"
             }
            },
            "header": {
             "fill": {
              "color": "#C8D4E3"
             },
             "line": {
              "color": "white"
             }
            },
            "type": "table"
           }
          ]
         },
         "layout": {
          "annotationdefaults": {
           "arrowcolor": "#2a3f5f",
           "arrowhead": 0,
           "arrowwidth": 1
          },
          "autotypenumbers": "strict",
          "coloraxis": {
           "colorbar": {
            "outlinewidth": 0,
            "ticks": ""
           }
          },
          "colorscale": {
           "diverging": [
            [
             0,
             "#8e0152"
            ],
            [
             0.1,
             "#c51b7d"
            ],
            [
             0.2,
             "#de77ae"
            ],
            [
             0.3,
             "#f1b6da"
            ],
            [
             0.4,
             "#fde0ef"
            ],
            [
             0.5,
             "#f7f7f7"
            ],
            [
             0.6,
             "#e6f5d0"
            ],
            [
             0.7,
             "#b8e186"
            ],
            [
             0.8,
             "#7fbc41"
            ],
            [
             0.9,
             "#4d9221"
            ],
            [
             1,
             "#276419"
            ]
           ],
           "sequential": [
            [
             0,
             "#0d0887"
            ],
            [
             0.1111111111111111,
             "#46039f"
            ],
            [
             0.2222222222222222,
             "#7201a8"
            ],
            [
             0.3333333333333333,
             "#9c179e"
            ],
            [
             0.4444444444444444,
             "#bd3786"
            ],
            [
             0.5555555555555556,
             "#d8576b"
            ],
            [
             0.6666666666666666,
             "#ed7953"
            ],
            [
             0.7777777777777778,
             "#fb9f3a"
            ],
            [
             0.8888888888888888,
             "#fdca26"
            ],
            [
             1,
             "#f0f921"
            ]
           ],
           "sequentialminus": [
            [
             0,
             "#0d0887"
            ],
            [
             0.1111111111111111,
             "#46039f"
            ],
            [
             0.2222222222222222,
             "#7201a8"
            ],
            [
             0.3333333333333333,
             "#9c179e"
            ],
            [
             0.4444444444444444,
             "#bd3786"
            ],
            [
             0.5555555555555556,
             "#d8576b"
            ],
            [
             0.6666666666666666,
             "#ed7953"
            ],
            [
             0.7777777777777778,
             "#fb9f3a"
            ],
            [
             0.8888888888888888,
             "#fdca26"
            ],
            [
             1,
             "#f0f921"
            ]
           ]
          },
          "colorway": [
           "#636efa",
           "#EF553B",
           "#00cc96",
           "#ab63fa",
           "#FFA15A",
           "#19d3f3",
           "#FF6692",
           "#B6E880",
           "#FF97FF",
           "#FECB52"
          ],
          "font": {
           "color": "#2a3f5f"
          },
          "geo": {
           "bgcolor": "white",
           "lakecolor": "white",
           "landcolor": "#E5ECF6",
           "showlakes": true,
           "showland": true,
           "subunitcolor": "white"
          },
          "hoverlabel": {
           "align": "left"
          },
          "hovermode": "closest",
          "mapbox": {
           "style": "light"
          },
          "paper_bgcolor": "white",
          "plot_bgcolor": "#E5ECF6",
          "polar": {
           "angularaxis": {
            "gridcolor": "white",
            "linecolor": "white",
            "ticks": ""
           },
           "bgcolor": "#E5ECF6",
           "radialaxis": {
            "gridcolor": "white",
            "linecolor": "white",
            "ticks": ""
           }
          },
          "scene": {
           "xaxis": {
            "backgroundcolor": "#E5ECF6",
            "gridcolor": "white",
            "gridwidth": 2,
            "linecolor": "white",
            "showbackground": true,
            "ticks": "",
            "zerolinecolor": "white"
           },
           "yaxis": {
            "backgroundcolor": "#E5ECF6",
            "gridcolor": "white",
            "gridwidth": 2,
            "linecolor": "white",
            "showbackground": true,
            "ticks": "",
            "zerolinecolor": "white"
           },
           "zaxis": {
            "backgroundcolor": "#E5ECF6",
            "gridcolor": "white",
            "gridwidth": 2,
            "linecolor": "white",
            "showbackground": true,
            "ticks": "",
            "zerolinecolor": "white"
           }
          },
          "shapedefaults": {
           "line": {
            "color": "#2a3f5f"
           }
          },
          "ternary": {
           "aaxis": {
            "gridcolor": "white",
            "linecolor": "white",
            "ticks": ""
           },
           "baxis": {
            "gridcolor": "white",
            "linecolor": "white",
            "ticks": ""
           },
           "bgcolor": "#E5ECF6",
           "caxis": {
            "gridcolor": "white",
            "linecolor": "white",
            "ticks": ""
           }
          },
          "title": {
           "x": 0.05
          },
          "xaxis": {
           "automargin": true,
           "gridcolor": "white",
           "linecolor": "white",
           "ticks": "",
           "title": {
            "standoff": 15
           },
           "zerolinecolor": "white",
           "zerolinewidth": 2
          },
          "yaxis": {
           "automargin": true,
           "gridcolor": "white",
           "linecolor": "white",
           "ticks": "",
           "title": {
            "standoff": 15
           },
           "zerolinecolor": "white",
           "zerolinewidth": 2
          }
         }
        },
        "violinmode": "group",
        "xaxis": {
         "anchor": "y",
         "domain": [
          0,
          1
         ],
         "title": {
          "text": "branch"
         }
        },
        "yaxis": {
         "anchor": "x",
         "domain": [
          0,
          1
         ],
         "title": {
          "text": "rating"
         }
        }
       }
      }
     },
     "metadata": {},
     "output_type": "display_data"
    }
   ],
   "source": [
    "fig=px.violin(df,'branch','rating')\n",
    "fig.show()"
   ]
  },
  {
   "cell_type": "code",
   "execution_count": 132,
   "id": "9140c98e",
   "metadata": {},
   "outputs": [
    {
     "data": {
      "application/vnd.plotly.v1+json": {
       "config": {
        "plotlyServerURL": "https://plot.ly"
       },
       "data": [
        {
         "alignmentgroup": "True",
         "boxpoints": "all",
         "fillcolor": "rgba(255,255,255,0)",
         "hoveron": "points",
         "hovertemplate": "branch=%{x}<br>rating=%{y}<extra></extra>",
         "legendgroup": "",
         "line": {
          "color": "rgba(255,255,255,0)"
         },
         "marker": {
          "color": "#636efa"
         },
         "name": "",
         "offsetgroup": "",
         "orientation": "v",
         "pointpos": 0,
         "showlegend": false,
         "type": "box",
         "x": [
          "A",
          "C",
          "A",
          "A",
          "A",
          "C",
          "A",
          "C",
          "A",
          "B",
          "B",
          "B",
          "A",
          "A",
          "A",
          "B",
          "A",
          "A",
          "A",
          "B",
          "C",
          "B",
          "B",
          "A",
          "A",
          "A",
          "B",
          "A",
          "B",
          "A",
          "B",
          "B",
          "B",
          "A",
          "C",
          "C",
          "A",
          "A",
          "C",
          "B",
          "B",
          "C",
          "B",
          "C",
          "C",
          "B",
          "B",
          "B",
          "B",
          "C",
          "C",
          "A",
          "B",
          "C",
          "B",
          "C",
          "A",
          "A",
          "A",
          "C",
          "C",
          "C",
          "B",
          "A",
          "B",
          "A",
          "C",
          "B",
          "A",
          "A",
          "C",
          "C",
          "B",
          "C",
          "A",
          "C",
          "C",
          "A",
          "C",
          "C",
          "C",
          "B",
          "C",
          "C",
          "C",
          "C",
          "C",
          "A",
          "A",
          "B",
          "C",
          "C",
          "A",
          "B",
          "C",
          "A",
          "B",
          "C",
          "A",
          "B",
          "C",
          "C",
          "C",
          "A",
          "B",
          "A",
          "C",
          "A",
          "C",
          "C",
          "B",
          "C",
          "B",
          "A",
          "C",
          "C",
          "B",
          "B",
          "A",
          "B",
          "A",
          "C",
          "B",
          "C",
          "B",
          "A",
          "A",
          "C",
          "C",
          "B",
          "B",
          "A",
          "B",
          "B",
          "C",
          "C",
          "A",
          "A",
          "B",
          "A",
          "C",
          "C",
          "C",
          "C",
          "A",
          "C",
          "A",
          "C",
          "B",
          "A",
          "B",
          "C",
          "A",
          "C",
          "C",
          "A",
          "B",
          "B",
          "B",
          "B",
          "C",
          "A",
          "A",
          "C",
          "B",
          "B",
          "C",
          "A",
          "A",
          "A",
          "A",
          "B",
          "C",
          "B",
          "B",
          "A",
          "A",
          "C",
          "A",
          "C",
          "C",
          "C",
          "A",
          "C",
          "A",
          "B",
          "B",
          "B",
          "A",
          "C",
          "B",
          "B",
          "C",
          "B",
          "A",
          "C",
          "C",
          "A",
          "C",
          "C",
          "C",
          "B",
          "C",
          "B",
          "B",
          "A",
          "C",
          "C",
          "B",
          "B",
          "A",
          "C",
          "B",
          "B",
          "B",
          "A",
          "B",
          "A",
          "B",
          "B",
          "B",
          "B",
          "C",
          "C",
          "A",
          "C",
          "B",
          "C",
          "B",
          "A",
          "B",
          "B",
          "B",
          "B",
          "A",
          "A",
          "C",
          "C",
          "B",
          "A",
          "A",
          "A",
          "C",
          "A",
          "B",
          "A",
          "B",
          "A",
          "A",
          "B",
          "B",
          "C",
          "C",
          "A",
          "A",
          "B",
          "A",
          "A",
          "A",
          "C",
          "A",
          "C",
          "B",
          "A",
          "B",
          "A",
          "C",
          "B",
          "A",
          "A",
          "B",
          "C",
          "A",
          "A",
          "B",
          "B",
          "C",
          "C",
          "C",
          "A",
          "A",
          "C",
          "A",
          "A",
          "A",
          "B",
          "C",
          "C",
          "B",
          "A",
          "B",
          "C",
          "A",
          "A",
          "B",
          "C",
          "C",
          "A",
          "A",
          "C",
          "C",
          "B",
          "C",
          "A",
          "B",
          "A",
          "A",
          "A",
          "A",
          "A",
          "B",
          "C",
          "A",
          "A",
          "C",
          "C",
          "C",
          "C",
          "C",
          "C",
          "C",
          "C",
          "A",
          "A",
          "A",
          "B",
          "A",
          "C",
          "B",
          "A",
          "B",
          "A",
          "A",
          "A",
          "C",
          "A",
          "A",
          "B",
          "C",
          "B",
          "B",
          "B",
          "B",
          "C",
          "A",
          "A",
          "A",
          "C",
          "A",
          "B",
          "C",
          "A",
          "B",
          "B",
          "C",
          "B",
          "C",
          "C",
          "B",
          "B",
          "A",
          "C",
          "C",
          "A",
          "C",
          "C",
          "C",
          "A",
          "C",
          "A",
          "B",
          "B",
          "C",
          "C",
          "A",
          "A",
          "B",
          "C",
          "C",
          "B",
          "A",
          "C",
          "B",
          "C",
          "A",
          "B",
          "C",
          "A",
          "C",
          "B",
          "C",
          "B",
          "A",
          "A",
          "A",
          "A",
          "A",
          "B",
          "B",
          "B",
          "C",
          "C",
          "C",
          "B",
          "C",
          "A",
          "A",
          "B",
          "A",
          "C",
          "B",
          "B",
          "A",
          "A",
          "A",
          "B",
          "C",
          "C",
          "B",
          "A",
          "C",
          "C",
          "C",
          "B",
          "C",
          "B",
          "A",
          "B",
          "B",
          "A",
          "B",
          "C",
          "A",
          "B",
          "B",
          "C",
          "C",
          "A",
          "C",
          "C",
          "C",
          "B",
          "A",
          "C",
          "A",
          "B",
          "C",
          "C",
          "B",
          "B",
          "B",
          "B",
          "A",
          "A",
          "A",
          "B",
          "B",
          "B",
          "C",
          "C",
          "C",
          "B",
          "C",
          "C",
          "A",
          "C",
          "C",
          "B",
          "C",
          "C",
          "C",
          "A",
          "A",
          "B",
          "A",
          "A",
          "A",
          "C",
          "B",
          "A",
          "C",
          "C",
          "A",
          "B",
          "C",
          "B",
          "B",
          "A",
          "C",
          "B",
          "B",
          "A",
          "B",
          "C",
          "B",
          "B",
          "C",
          "C",
          "B",
          "A",
          "B",
          "C",
          "C",
          "B",
          "B",
          "A",
          "B",
          "B",
          "B",
          "C",
          "B",
          "A",
          "A",
          "A",
          "C",
          "C",
          "B",
          "C",
          "A",
          "C",
          "B",
          "C",
          "A",
          "C",
          "A",
          "A",
          "B",
          "B",
          "B",
          "A",
          "A",
          "A",
          "B",
          "C",
          "A",
          "C",
          "B",
          "A",
          "A",
          "C",
          "A",
          "C",
          "B",
          "C",
          "B",
          "B",
          "A",
          "A",
          "B",
          "A",
          "B",
          "B",
          "B",
          "C",
          "A",
          "B",
          "B",
          "C",
          "A",
          "A",
          "B",
          "C",
          "B",
          "A",
          "B",
          "A",
          "C",
          "A",
          "B",
          "C",
          "B",
          "B",
          "A",
          "B",
          "A",
          "B",
          "B",
          "C",
          "A",
          "B",
          "C",
          "A",
          "C",
          "B",
          "B",
          "A",
          "A",
          "A",
          "C",
          "A",
          "C",
          "C",
          "A",
          "A",
          "B",
          "B",
          "A",
          "C",
          "C",
          "A",
          "C",
          "C",
          "C",
          "B",
          "C",
          "B",
          "A",
          "C",
          "A",
          "B",
          "A",
          "C",
          "B",
          "C",
          "A",
          "A",
          "B",
          "C",
          "A",
          "C",
          "A",
          "A",
          "B",
          "B",
          "B",
          "B",
          "A",
          "B",
          "A",
          "A",
          "A",
          "A",
          "A",
          "B",
          "B",
          "B",
          "A",
          "C",
          "B",
          "B",
          "B",
          "C",
          "B",
          "C",
          "C",
          "A",
          "C",
          "B",
          "C",
          "C",
          "B",
          "B",
          "A",
          "B",
          "B",
          "A",
          "C",
          "A",
          "A",
          "A",
          "B",
          "C",
          "B",
          "C",
          "C",
          "A",
          "B",
          "B",
          "C",
          "B",
          "A",
          "B",
          "B",
          "C",
          "A",
          "B",
          "B",
          "A",
          "C",
          "A",
          "B",
          "B",
          "C",
          "A",
          "B",
          "B",
          "B",
          "A",
          "C",
          "A",
          "C",
          "C",
          "A",
          "C",
          "C",
          "A",
          "A",
          "B",
          "A",
          "C",
          "C",
          "B",
          "B",
          "B",
          "B",
          "B",
          "B",
          "C",
          "C",
          "A",
          "A",
          "C",
          "C",
          "C",
          "C",
          "A",
          "A",
          "A",
          "A",
          "B",
          "B",
          "C",
          "B",
          "C",
          "B",
          "C",
          "C",
          "B",
          "C",
          "B",
          "A",
          "A",
          "A",
          "B",
          "B",
          "C",
          "C",
          "C",
          "B",
          "A",
          "C",
          "C",
          "A",
          "A",
          "C",
          "C",
          "B",
          "C",
          "B",
          "C",
          "B",
          "A",
          "A",
          "B",
          "C",
          "A",
          "B",
          "A",
          "A",
          "A",
          "B",
          "B",
          "A",
          "A",
          "A",
          "B",
          "C",
          "B",
          "B",
          "A",
          "B",
          "C",
          "C",
          "C",
          "C",
          "B",
          "C",
          "B",
          "C",
          "B",
          "C",
          "A",
          "A",
          "C",
          "C",
          "A",
          "C",
          "C",
          "C",
          "A",
          "A",
          "C",
          "B",
          "A",
          "A",
          "B",
          "C",
          "A",
          "B",
          "C",
          "B",
          "C",
          "C",
          "A",
          "B",
          "A",
          "A",
          "A",
          "B",
          "C",
          "B",
          "A",
          "C",
          "A",
          "A",
          "B",
          "C",
          "A",
          "B",
          "B",
          "B",
          "A",
          "C",
          "A",
          "B",
          "A",
          "B",
          "A",
          "C",
          "A",
          "A",
          "B",
          "B",
          "A",
          "B",
          "A",
          "A",
          "B",
          "C",
          "C",
          "A",
          "B",
          "A",
          "C",
          "A",
          "A",
          "A",
          "C",
          "C",
          "A",
          "A",
          "A",
          "C",
          "B",
          "A",
          "B",
          "B",
          "A",
          "B",
          "A",
          "C",
          "A",
          "B",
          "B",
          "A",
          "C",
          "B",
          "C",
          "C",
          "A",
          "A",
          "C",
          "B",
          "A",
          "A",
          "C",
          "C",
          "B",
          "A",
          "B",
          "B",
          "C",
          "B",
          "A",
          "A",
          "A",
          "A",
          "A",
          "C",
          "A",
          "C",
          "B",
          "C",
          "B",
          "B",
          "B",
          "C",
          "C",
          "C",
          "A",
          "C",
          "B",
          "A",
          "A",
          "C",
          "C",
          "C",
          "B",
          "A",
          "B",
          "B",
          "C",
          "A",
          "A",
          "A",
          "C",
          "C",
          "A",
          "B",
          "B",
          "C",
          "B",
          "C",
          "C",
          "C",
          "B",
          "B",
          "A",
          "B",
          "B",
          "B",
          "C",
          "A",
          "C",
          "B",
          "C",
          "C",
          "A",
          "A",
          "C",
          "A",
          "C",
          "A",
          "A",
          "A",
          "A",
          "C",
          "B",
          "C",
          "B",
          "B",
          "B",
          "B",
          "C",
          "B",
          "A",
          "C",
          "B",
          "C",
          "A",
          "C",
          "A",
          "A",
          "C",
          "B",
          "B",
          "A",
          "A",
          "A",
          "B",
          "B",
          "B",
          "B",
          "A",
          "C",
          "B",
          "A",
          "B",
          "B",
          "B",
          "C",
          "A",
          "A",
          "C",
          "C",
          "B",
          "B",
          "B",
          "C",
          "B",
          "A",
          "B",
          "A",
          "B",
          "C",
          "C",
          "B",
          "A",
          "A",
          "A"
         ],
         "x0": " ",
         "xaxis": "x",
         "y": [
          9.1,
          9.6,
          7.4,
          8.4,
          5.3,
          4.1,
          5.8,
          8,
          7.2,
          5.9,
          4.5,
          6.8,
          7.1,
          8.2,
          5.7,
          4.5,
          4.6,
          6.9,
          8.6,
          4.4,
          4.8,
          5.1,
          4.4,
          9.9,
          6,
          8.5,
          6.7,
          7.7,
          9.6,
          7.4,
          4.8,
          4.5,
          5.1,
          5.1,
          7.5,
          6.8,
          7,
          4.7,
          7.6,
          7.7,
          7.9,
          6.3,
          5.6,
          7.6,
          7.2,
          9.5,
          8.4,
          4.1,
          8.1,
          7.9,
          9.5,
          8.5,
          6.5,
          6.1,
          6.5,
          8.2,
          5.8,
          6.6,
          5.4,
          9.3,
          10,
          7,
          10,
          8.6,
          7.6,
          5.8,
          6.7,
          9.9,
          6.4,
          4.3,
          9.6,
          5.9,
          4,
          8.7,
          9.4,
          5.4,
          8.6,
          5.7,
          6.6,
          6,
          5.5,
          6.4,
          6.6,
          8.3,
          6.6,
          4,
          9.9,
          7.3,
          5.7,
          6.1,
          7.1,
          8.2,
          5.1,
          8.6,
          6.6,
          7.2,
          5.1,
          4.1,
          9.3,
          7.4,
          4.1,
          7.2,
          4.9,
          9.9,
          8,
          7.3,
          7.9,
          7.4,
          4.2,
          9.2,
          4.6,
          7.8,
          8.4,
          4.3,
          9.5,
          7.1,
          5.3,
          5.2,
          6,
          4.1,
          5.2,
          6.5,
          4.2,
          4.6,
          7.3,
          4.5,
          9,
          5.9,
          8.5,
          7.2,
          7.5,
          8.3,
          7.4,
          8.8,
          5.3,
          6.2,
          8.8,
          9.8,
          8.2,
          9.2,
          5.4,
          8.1,
          9.1,
          8.4,
          8,
          9.5,
          9.2,
          5.6,
          6.2,
          4.9,
          4.8,
          7.3,
          7.4,
          9.9,
          9.3,
          9,
          6.1,
          9.7,
          6,
          10,
          8.3,
          6,
          7,
          6.5,
          5.9,
          5.6,
          4.8,
          8.7,
          6.5,
          8.5,
          5.5,
          9.4,
          6.3,
          9.8,
          8.7,
          8.8,
          9.6,
          4.8,
          4.4,
          9.9,
          5.7,
          7.7,
          8,
          5.7,
          6.7,
          8,
          7.5,
          7,
          9.9,
          5.9,
          7.2,
          4.6,
          9.2,
          5.7,
          9.9,
          5,
          4.9,
          6.1,
          8.2,
          5.5,
          6.8,
          6.6,
          9.8,
          8.7,
          5.4,
          7.9,
          9.7,
          7.8,
          5.1,
          6.5,
          5.9,
          8.8,
          4.9,
          4.4,
          6.5,
          8.3,
          8.5,
          5.5,
          8.7,
          7.9,
          6.1,
          5.4,
          9.4,
          8.2,
          6.2,
          9.7,
          4,
          9.7,
          5.3,
          7.4,
          6.5,
          8.7,
          8,
          6.7,
          6.5,
          4.1,
          4.9,
          8.6,
          4.3,
          4.9,
          5.6,
          5.8,
          6,
          4.2,
          8.3,
          5.7,
          4.8,
          6.8,
          8.8,
          4.2,
          6.4,
          8.4,
          7.2,
          5.2,
          8.9,
          9,
          9.7,
          8.7,
          6.5,
          6.9,
          6.2,
          5.6,
          5.7,
          4.2,
          7.9,
          8.7,
          6.9,
          9.5,
          4.4,
          7,
          6.3,
          9.7,
          8.8,
          5.1,
          7.9,
          6.2,
          7.1,
          6.4,
          5.7,
          9.6,
          6.4,
          7.9,
          6.5,
          8.5,
          9.1,
          7.6,
          6.9,
          9.5,
          5.2,
          4.2,
          7,
          6,
          4.7,
          7.1,
          5.9,
          7.5,
          6.4,
          5.8,
          4.5,
          7.7,
          6.7,
          4.7,
          4.4,
          4.7,
          8.6,
          4.3,
          9.6,
          4.1,
          4.7,
          7.8,
          5.5,
          9.7,
          4.4,
          5,
          4.4,
          5.2,
          7.3,
          4.9,
          8.1,
          8.4,
          5.5,
          8.4,
          9.8,
          6.7,
          9.4,
          6.4,
          5.4,
          8.6,
          4,
          7.6,
          6.8,
          9.1,
          5.5,
          7.9,
          8.5,
          9.1,
          7.5,
          5.2,
          9.5,
          8.9,
          7.8,
          8.9,
          7.7,
          9.3,
          6.2,
          7.6,
          7.3,
          4.7,
          5.1,
          4.8,
          6.6,
          5.5,
          8.5,
          4.8,
          8.4,
          7.8,
          9.3,
          5.2,
          6.5,
          5.6,
          7.4,
          9.1,
          8,
          7.2,
          7.1,
          9.1,
          5.6,
          6,
          5.4,
          7.8,
          9.9,
          4.9,
          5.2,
          8.9,
          9.1,
          7,
          9.6,
          8.7,
          9.4,
          4,
          7.5,
          4.2,
          9.9,
          4.2,
          9.9,
          5.8,
          6,
          10,
          9.5,
          6.6,
          8.1,
          9.7,
          7.2,
          6.2,
          7.3,
          4.3,
          4.6,
          5.8,
          8.3,
          8,
          9.4,
          6.2,
          9.8,
          9.6,
          4.9,
          8,
          7.8,
          4.1,
          5.5,
          5.4,
          5.1,
          6.9,
          7.8,
          6.6,
          9.2,
          7.8,
          8.7,
          9.2,
          8.3,
          8.2,
          7.5,
          9.8,
          8.7,
          6.7,
          5,
          7,
          8.9,
          8,
          6.9,
          7.3,
          6.9,
          5.7,
          6.4,
          9.6,
          6.8,
          9,
          9.6,
          7.7,
          7,
          6.5,
          8.1,
          4.3,
          6.5,
          9.5,
          9.7,
          9.5,
          8.9,
          6.5,
          5.3,
          9.6,
          6.7,
          7.6,
          4.8,
          5.5,
          4.7,
          6.9,
          4.5,
          6.2,
          7.6,
          7.9,
          4.5,
          8.7,
          6.1,
          6.4,
          9.1,
          7.1,
          7.7,
          4.5,
          7.2,
          8.4,
          5.4,
          9.7,
          5.5,
          4.6,
          6.6,
          6.3,
          4.2,
          4.4,
          6.7,
          6.7,
          8.4,
          6.2,
          5,
          6,
          7,
          6.6,
          7.3,
          8.3,
          4.3,
          9.8,
          8.2,
          7.2,
          8.7,
          8.4,
          7.1,
          5.5,
          8.5,
          6.2,
          8.9,
          9.6,
          5.4,
          9.1,
          9,
          6.3,
          9.5,
          9.8,
          6.7,
          7.7,
          7,
          5.1,
          6.2,
          6.1,
          9.3,
          7.6,
          8.2,
          8.5,
          9.8,
          8.7,
          9.7,
          4.3,
          7.7,
          7.3,
          5.9,
          5,
          8,
          7.1,
          9,
          6.7,
          6.1,
          9.3,
          7,
          7.2,
          8.2,
          8.4,
          6.2,
          7.4,
          5,
          6.9,
          4.9,
          5.1,
          9.1,
          7.1,
          5,
          5.5,
          9.2,
          4.9,
          8.9,
          6,
          4.2,
          7.3,
          6.5,
          8.9,
          9.7,
          8.6,
          6.9,
          7.7,
          9.5,
          4.5,
          5.6,
          8.2,
          7.3,
          4.4,
          5.7,
          5,
          9,
          6.3,
          9.4,
          7.7,
          5.5,
          4.1,
          7.6,
          8.6,
          8.3,
          8.1,
          8.6,
          6.3,
          5.8,
          6.2,
          7.7,
          8.1,
          7.3,
          8.4,
          8,
          9.5,
          7,
          9.8,
          9.2,
          7.7,
          5.3,
          4.4,
          4.3,
          9.4,
          9.8,
          4.8,
          5.3,
          8.7,
          9.5,
          5.3,
          9.2,
          9.6,
          6.4,
          4.5,
          6.9,
          7.8,
          4.5,
          8.6,
          5.2,
          6.4,
          5.2,
          8.9,
          6.2,
          6.7,
          7.2,
          9,
          4.2,
          4.2,
          6.9,
          4.4,
          4,
          8.5,
          9.2,
          9.8,
          4.9,
          4.4,
          6.8,
          9.1,
          8.7,
          5,
          7.5,
          8.2,
          6.7,
          5.4,
          7,
          4.7,
          5,
          5,
          6,
          6.3,
          8.5,
          7.5,
          6.4,
          4.7,
          6,
          4,
          5.5,
          8.7,
          7.4,
          5.6,
          6.3,
          7.1,
          7.8,
          9.9,
          7.3,
          5.1,
          9.4,
          5.8,
          8,
          7.9,
          5.9,
          4.9,
          9.3,
          7.9,
          5.9,
          9.9,
          7.7,
          7.6,
          7.7,
          6.4,
          4.4,
          4.1,
          4.4,
          5.5,
          4,
          9.3,
          4.8,
          4.6,
          7.3,
          6,
          8.1,
          9.4,
          6.5,
          7,
          7.1,
          6.6,
          4.9,
          6.4,
          8,
          4.3,
          6.1,
          7.5,
          6.7,
          5.2,
          8.8,
          9.5,
          7.6,
          6.6,
          6.9,
          4.3,
          7.8,
          8,
          9.6,
          4.3,
          5,
          9.2,
          6.3,
          8.9,
          7.6,
          4.8,
          9.1,
          6.1,
          9.1,
          8.3,
          7.2,
          6,
          8.5,
          6.6,
          4.5,
          8.1,
          7.2,
          6.1,
          7.1,
          5.1,
          7.9,
          7.4,
          7.4,
          6.6,
          5.9,
          8.9,
          6.8,
          9.3,
          4.4,
          4.8,
          9.5,
          8.9,
          6.4,
          6,
          8.1,
          9,
          6,
          9.8,
          8.5,
          8.8,
          8.8,
          9.5,
          5.6,
          8.6,
          5.2,
          5.8,
          8,
          9,
          4.1,
          8.6,
          7,
          8.4,
          7.4,
          6.2,
          4.9,
          4.5,
          5.6,
          8,
          5.6,
          4.2,
          9.9,
          7.6,
          6.6,
          4.7,
          9.8,
          6.3,
          7.9,
          7.7,
          4.5,
          8,
          5.7,
          6.3,
          6,
          8,
          4.2,
          9.6,
          6.1,
          5.6,
          8.3,
          7.8,
          4.1,
          8.8,
          4.1,
          9,
          5.5,
          9.3,
          5.6,
          9.7,
          4,
          9.2,
          4.9,
          9.3,
          6.6,
          4.3,
          5.5,
          8.1,
          9.8,
          9.4,
          7.9,
          5.1,
          6.9,
          8,
          8,
          4.2,
          8.5,
          9,
          8.6,
          6,
          6.2,
          5,
          6.5,
          6,
          5,
          5,
          9.2,
          9.6,
          8.4,
          6,
          6.7,
          4.1,
          5.9,
          8.7,
          4.5,
          6.6,
          7.7,
          8.5,
          5.2,
          4.3,
          7.6,
          9.5,
          4.1,
          9.2,
          5.4,
          5.8,
          5.6,
          5.1,
          5.8,
          5,
          7.9,
          6,
          5,
          8.9,
          5.9,
          5.9,
          9.7,
          8.6,
          4,
          4.2,
          9.2,
          9.2,
          5,
          10,
          8.8,
          4.2,
          6.3,
          8.2,
          5.1,
          5,
          7,
          7.8,
          4.3,
          7,
          6.6,
          7.3,
          6.5,
          4.9,
          4.3,
          9.3,
          7.1,
          9.6,
          6.2,
          9.9,
          5.9,
          6.3,
          4,
          6.1,
          4.5,
          8.6,
          6,
          9.5,
          9.9,
          7.5,
          7.6,
          5,
          6.7,
          9.5,
          6.8,
          5.6,
          7.2,
          8.1,
          8.6,
          9.4,
          8.9,
          4.2,
          5,
          8.8,
          5.3,
          4.6,
          7.5,
          5.1,
          4.2,
          8.1,
          6,
          7.9,
          8.8,
          6.6,
          6.2,
          4.2,
          7.3,
          8.6,
          6.8,
          7.6,
          5.8,
          4.1,
          9.3,
          6.8,
          8.7,
          6.3,
          5.1,
          7,
          5.2,
          6.6,
          6.5,
          9,
          5.2,
          6.8,
          7.6,
          7.2,
          7.1,
          9.5,
          5.1,
          7.6,
          9.8,
          5.1,
          7.5,
          7.4,
          4.2,
          5.9,
          6.9,
          6.6,
          5.7,
          5.3,
          4.2,
          7.3,
          5.3,
          4.7,
          7.9,
          8.9,
          9.3,
          4.7,
          8.7,
          7.6,
          5.7,
          6.8,
          5.4,
          7.1,
          7.8,
          8.4,
          9.8,
          9.8,
          7.4,
          6.7,
          6.4,
          5.8,
          7.2,
          9.3,
          9.5,
          9,
          9,
          6.7,
          5.5,
          5.4,
          8.2,
          7,
          8.5,
          4.9,
          5.1,
          6.5,
          9.8,
          8.4,
          7.4,
          6.1,
          6,
          8.5,
          4.3,
          6.2,
          4.3,
          8.4,
          4.5,
          6,
          8.8,
          6.6,
          5.9,
          6.2,
          4.4,
          7.7,
          4.1,
          6.6
         ],
         "y0": " ",
         "yaxis": "y"
        },
        {
         "alignmentgroup": "True",
         "hovertemplate": "branch=%{x}<br>rating=%{y}<extra></extra>",
         "legendgroup": "",
         "marker": {
          "color": "#636efa"
         },
         "name": "",
         "notched": false,
         "offsetgroup": "",
         "orientation": "v",
         "showlegend": false,
         "type": "box",
         "x": [
          "A",
          "C",
          "A",
          "A",
          "A",
          "C",
          "A",
          "C",
          "A",
          "B",
          "B",
          "B",
          "A",
          "A",
          "A",
          "B",
          "A",
          "A",
          "A",
          "B",
          "C",
          "B",
          "B",
          "A",
          "A",
          "A",
          "B",
          "A",
          "B",
          "A",
          "B",
          "B",
          "B",
          "A",
          "C",
          "C",
          "A",
          "A",
          "C",
          "B",
          "B",
          "C",
          "B",
          "C",
          "C",
          "B",
          "B",
          "B",
          "B",
          "C",
          "C",
          "A",
          "B",
          "C",
          "B",
          "C",
          "A",
          "A",
          "A",
          "C",
          "C",
          "C",
          "B",
          "A",
          "B",
          "A",
          "C",
          "B",
          "A",
          "A",
          "C",
          "C",
          "B",
          "C",
          "A",
          "C",
          "C",
          "A",
          "C",
          "C",
          "C",
          "B",
          "C",
          "C",
          "C",
          "C",
          "C",
          "A",
          "A",
          "B",
          "C",
          "C",
          "A",
          "B",
          "C",
          "A",
          "B",
          "C",
          "A",
          "B",
          "C",
          "C",
          "C",
          "A",
          "B",
          "A",
          "C",
          "A",
          "C",
          "C",
          "B",
          "C",
          "B",
          "A",
          "C",
          "C",
          "B",
          "B",
          "A",
          "B",
          "A",
          "C",
          "B",
          "C",
          "B",
          "A",
          "A",
          "C",
          "C",
          "B",
          "B",
          "A",
          "B",
          "B",
          "C",
          "C",
          "A",
          "A",
          "B",
          "A",
          "C",
          "C",
          "C",
          "C",
          "A",
          "C",
          "A",
          "C",
          "B",
          "A",
          "B",
          "C",
          "A",
          "C",
          "C",
          "A",
          "B",
          "B",
          "B",
          "B",
          "C",
          "A",
          "A",
          "C",
          "B",
          "B",
          "C",
          "A",
          "A",
          "A",
          "A",
          "B",
          "C",
          "B",
          "B",
          "A",
          "A",
          "C",
          "A",
          "C",
          "C",
          "C",
          "A",
          "C",
          "A",
          "B",
          "B",
          "B",
          "A",
          "C",
          "B",
          "B",
          "C",
          "B",
          "A",
          "C",
          "C",
          "A",
          "C",
          "C",
          "C",
          "B",
          "C",
          "B",
          "B",
          "A",
          "C",
          "C",
          "B",
          "B",
          "A",
          "C",
          "B",
          "B",
          "B",
          "A",
          "B",
          "A",
          "B",
          "B",
          "B",
          "B",
          "C",
          "C",
          "A",
          "C",
          "B",
          "C",
          "B",
          "A",
          "B",
          "B",
          "B",
          "B",
          "A",
          "A",
          "C",
          "C",
          "B",
          "A",
          "A",
          "A",
          "C",
          "A",
          "B",
          "A",
          "B",
          "A",
          "A",
          "B",
          "B",
          "C",
          "C",
          "A",
          "A",
          "B",
          "A",
          "A",
          "A",
          "C",
          "A",
          "C",
          "B",
          "A",
          "B",
          "A",
          "C",
          "B",
          "A",
          "A",
          "B",
          "C",
          "A",
          "A",
          "B",
          "B",
          "C",
          "C",
          "C",
          "A",
          "A",
          "C",
          "A",
          "A",
          "A",
          "B",
          "C",
          "C",
          "B",
          "A",
          "B",
          "C",
          "A",
          "A",
          "B",
          "C",
          "C",
          "A",
          "A",
          "C",
          "C",
          "B",
          "C",
          "A",
          "B",
          "A",
          "A",
          "A",
          "A",
          "A",
          "B",
          "C",
          "A",
          "A",
          "C",
          "C",
          "C",
          "C",
          "C",
          "C",
          "C",
          "C",
          "A",
          "A",
          "A",
          "B",
          "A",
          "C",
          "B",
          "A",
          "B",
          "A",
          "A",
          "A",
          "C",
          "A",
          "A",
          "B",
          "C",
          "B",
          "B",
          "B",
          "B",
          "C",
          "A",
          "A",
          "A",
          "C",
          "A",
          "B",
          "C",
          "A",
          "B",
          "B",
          "C",
          "B",
          "C",
          "C",
          "B",
          "B",
          "A",
          "C",
          "C",
          "A",
          "C",
          "C",
          "C",
          "A",
          "C",
          "A",
          "B",
          "B",
          "C",
          "C",
          "A",
          "A",
          "B",
          "C",
          "C",
          "B",
          "A",
          "C",
          "B",
          "C",
          "A",
          "B",
          "C",
          "A",
          "C",
          "B",
          "C",
          "B",
          "A",
          "A",
          "A",
          "A",
          "A",
          "B",
          "B",
          "B",
          "C",
          "C",
          "C",
          "B",
          "C",
          "A",
          "A",
          "B",
          "A",
          "C",
          "B",
          "B",
          "A",
          "A",
          "A",
          "B",
          "C",
          "C",
          "B",
          "A",
          "C",
          "C",
          "C",
          "B",
          "C",
          "B",
          "A",
          "B",
          "B",
          "A",
          "B",
          "C",
          "A",
          "B",
          "B",
          "C",
          "C",
          "A",
          "C",
          "C",
          "C",
          "B",
          "A",
          "C",
          "A",
          "B",
          "C",
          "C",
          "B",
          "B",
          "B",
          "B",
          "A",
          "A",
          "A",
          "B",
          "B",
          "B",
          "C",
          "C",
          "C",
          "B",
          "C",
          "C",
          "A",
          "C",
          "C",
          "B",
          "C",
          "C",
          "C",
          "A",
          "A",
          "B",
          "A",
          "A",
          "A",
          "C",
          "B",
          "A",
          "C",
          "C",
          "A",
          "B",
          "C",
          "B",
          "B",
          "A",
          "C",
          "B",
          "B",
          "A",
          "B",
          "C",
          "B",
          "B",
          "C",
          "C",
          "B",
          "A",
          "B",
          "C",
          "C",
          "B",
          "B",
          "A",
          "B",
          "B",
          "B",
          "C",
          "B",
          "A",
          "A",
          "A",
          "C",
          "C",
          "B",
          "C",
          "A",
          "C",
          "B",
          "C",
          "A",
          "C",
          "A",
          "A",
          "B",
          "B",
          "B",
          "A",
          "A",
          "A",
          "B",
          "C",
          "A",
          "C",
          "B",
          "A",
          "A",
          "C",
          "A",
          "C",
          "B",
          "C",
          "B",
          "B",
          "A",
          "A",
          "B",
          "A",
          "B",
          "B",
          "B",
          "C",
          "A",
          "B",
          "B",
          "C",
          "A",
          "A",
          "B",
          "C",
          "B",
          "A",
          "B",
          "A",
          "C",
          "A",
          "B",
          "C",
          "B",
          "B",
          "A",
          "B",
          "A",
          "B",
          "B",
          "C",
          "A",
          "B",
          "C",
          "A",
          "C",
          "B",
          "B",
          "A",
          "A",
          "A",
          "C",
          "A",
          "C",
          "C",
          "A",
          "A",
          "B",
          "B",
          "A",
          "C",
          "C",
          "A",
          "C",
          "C",
          "C",
          "B",
          "C",
          "B",
          "A",
          "C",
          "A",
          "B",
          "A",
          "C",
          "B",
          "C",
          "A",
          "A",
          "B",
          "C",
          "A",
          "C",
          "A",
          "A",
          "B",
          "B",
          "B",
          "B",
          "A",
          "B",
          "A",
          "A",
          "A",
          "A",
          "A",
          "B",
          "B",
          "B",
          "A",
          "C",
          "B",
          "B",
          "B",
          "C",
          "B",
          "C",
          "C",
          "A",
          "C",
          "B",
          "C",
          "C",
          "B",
          "B",
          "A",
          "B",
          "B",
          "A",
          "C",
          "A",
          "A",
          "A",
          "B",
          "C",
          "B",
          "C",
          "C",
          "A",
          "B",
          "B",
          "C",
          "B",
          "A",
          "B",
          "B",
          "C",
          "A",
          "B",
          "B",
          "A",
          "C",
          "A",
          "B",
          "B",
          "C",
          "A",
          "B",
          "B",
          "B",
          "A",
          "C",
          "A",
          "C",
          "C",
          "A",
          "C",
          "C",
          "A",
          "A",
          "B",
          "A",
          "C",
          "C",
          "B",
          "B",
          "B",
          "B",
          "B",
          "B",
          "C",
          "C",
          "A",
          "A",
          "C",
          "C",
          "C",
          "C",
          "A",
          "A",
          "A",
          "A",
          "B",
          "B",
          "C",
          "B",
          "C",
          "B",
          "C",
          "C",
          "B",
          "C",
          "B",
          "A",
          "A",
          "A",
          "B",
          "B",
          "C",
          "C",
          "C",
          "B",
          "A",
          "C",
          "C",
          "A",
          "A",
          "C",
          "C",
          "B",
          "C",
          "B",
          "C",
          "B",
          "A",
          "A",
          "B",
          "C",
          "A",
          "B",
          "A",
          "A",
          "A",
          "B",
          "B",
          "A",
          "A",
          "A",
          "B",
          "C",
          "B",
          "B",
          "A",
          "B",
          "C",
          "C",
          "C",
          "C",
          "B",
          "C",
          "B",
          "C",
          "B",
          "C",
          "A",
          "A",
          "C",
          "C",
          "A",
          "C",
          "C",
          "C",
          "A",
          "A",
          "C",
          "B",
          "A",
          "A",
          "B",
          "C",
          "A",
          "B",
          "C",
          "B",
          "C",
          "C",
          "A",
          "B",
          "A",
          "A",
          "A",
          "B",
          "C",
          "B",
          "A",
          "C",
          "A",
          "A",
          "B",
          "C",
          "A",
          "B",
          "B",
          "B",
          "A",
          "C",
          "A",
          "B",
          "A",
          "B",
          "A",
          "C",
          "A",
          "A",
          "B",
          "B",
          "A",
          "B",
          "A",
          "A",
          "B",
          "C",
          "C",
          "A",
          "B",
          "A",
          "C",
          "A",
          "A",
          "A",
          "C",
          "C",
          "A",
          "A",
          "A",
          "C",
          "B",
          "A",
          "B",
          "B",
          "A",
          "B",
          "A",
          "C",
          "A",
          "B",
          "B",
          "A",
          "C",
          "B",
          "C",
          "C",
          "A",
          "A",
          "C",
          "B",
          "A",
          "A",
          "C",
          "C",
          "B",
          "A",
          "B",
          "B",
          "C",
          "B",
          "A",
          "A",
          "A",
          "A",
          "A",
          "C",
          "A",
          "C",
          "B",
          "C",
          "B",
          "B",
          "B",
          "C",
          "C",
          "C",
          "A",
          "C",
          "B",
          "A",
          "A",
          "C",
          "C",
          "C",
          "B",
          "A",
          "B",
          "B",
          "C",
          "A",
          "A",
          "A",
          "C",
          "C",
          "A",
          "B",
          "B",
          "C",
          "B",
          "C",
          "C",
          "C",
          "B",
          "B",
          "A",
          "B",
          "B",
          "B",
          "C",
          "A",
          "C",
          "B",
          "C",
          "C",
          "A",
          "A",
          "C",
          "A",
          "C",
          "A",
          "A",
          "A",
          "A",
          "C",
          "B",
          "C",
          "B",
          "B",
          "B",
          "B",
          "C",
          "B",
          "A",
          "C",
          "B",
          "C",
          "A",
          "C",
          "A",
          "A",
          "C",
          "B",
          "B",
          "A",
          "A",
          "A",
          "B",
          "B",
          "B",
          "B",
          "A",
          "C",
          "B",
          "A",
          "B",
          "B",
          "B",
          "C",
          "A",
          "A",
          "C",
          "C",
          "B",
          "B",
          "B",
          "C",
          "B",
          "A",
          "B",
          "A",
          "B",
          "C",
          "C",
          "B",
          "A",
          "A",
          "A"
         ],
         "x0": " ",
         "xaxis": "x",
         "y": [
          9.1,
          9.6,
          7.4,
          8.4,
          5.3,
          4.1,
          5.8,
          8,
          7.2,
          5.9,
          4.5,
          6.8,
          7.1,
          8.2,
          5.7,
          4.5,
          4.6,
          6.9,
          8.6,
          4.4,
          4.8,
          5.1,
          4.4,
          9.9,
          6,
          8.5,
          6.7,
          7.7,
          9.6,
          7.4,
          4.8,
          4.5,
          5.1,
          5.1,
          7.5,
          6.8,
          7,
          4.7,
          7.6,
          7.7,
          7.9,
          6.3,
          5.6,
          7.6,
          7.2,
          9.5,
          8.4,
          4.1,
          8.1,
          7.9,
          9.5,
          8.5,
          6.5,
          6.1,
          6.5,
          8.2,
          5.8,
          6.6,
          5.4,
          9.3,
          10,
          7,
          10,
          8.6,
          7.6,
          5.8,
          6.7,
          9.9,
          6.4,
          4.3,
          9.6,
          5.9,
          4,
          8.7,
          9.4,
          5.4,
          8.6,
          5.7,
          6.6,
          6,
          5.5,
          6.4,
          6.6,
          8.3,
          6.6,
          4,
          9.9,
          7.3,
          5.7,
          6.1,
          7.1,
          8.2,
          5.1,
          8.6,
          6.6,
          7.2,
          5.1,
          4.1,
          9.3,
          7.4,
          4.1,
          7.2,
          4.9,
          9.9,
          8,
          7.3,
          7.9,
          7.4,
          4.2,
          9.2,
          4.6,
          7.8,
          8.4,
          4.3,
          9.5,
          7.1,
          5.3,
          5.2,
          6,
          4.1,
          5.2,
          6.5,
          4.2,
          4.6,
          7.3,
          4.5,
          9,
          5.9,
          8.5,
          7.2,
          7.5,
          8.3,
          7.4,
          8.8,
          5.3,
          6.2,
          8.8,
          9.8,
          8.2,
          9.2,
          5.4,
          8.1,
          9.1,
          8.4,
          8,
          9.5,
          9.2,
          5.6,
          6.2,
          4.9,
          4.8,
          7.3,
          7.4,
          9.9,
          9.3,
          9,
          6.1,
          9.7,
          6,
          10,
          8.3,
          6,
          7,
          6.5,
          5.9,
          5.6,
          4.8,
          8.7,
          6.5,
          8.5,
          5.5,
          9.4,
          6.3,
          9.8,
          8.7,
          8.8,
          9.6,
          4.8,
          4.4,
          9.9,
          5.7,
          7.7,
          8,
          5.7,
          6.7,
          8,
          7.5,
          7,
          9.9,
          5.9,
          7.2,
          4.6,
          9.2,
          5.7,
          9.9,
          5,
          4.9,
          6.1,
          8.2,
          5.5,
          6.8,
          6.6,
          9.8,
          8.7,
          5.4,
          7.9,
          9.7,
          7.8,
          5.1,
          6.5,
          5.9,
          8.8,
          4.9,
          4.4,
          6.5,
          8.3,
          8.5,
          5.5,
          8.7,
          7.9,
          6.1,
          5.4,
          9.4,
          8.2,
          6.2,
          9.7,
          4,
          9.7,
          5.3,
          7.4,
          6.5,
          8.7,
          8,
          6.7,
          6.5,
          4.1,
          4.9,
          8.6,
          4.3,
          4.9,
          5.6,
          5.8,
          6,
          4.2,
          8.3,
          5.7,
          4.8,
          6.8,
          8.8,
          4.2,
          6.4,
          8.4,
          7.2,
          5.2,
          8.9,
          9,
          9.7,
          8.7,
          6.5,
          6.9,
          6.2,
          5.6,
          5.7,
          4.2,
          7.9,
          8.7,
          6.9,
          9.5,
          4.4,
          7,
          6.3,
          9.7,
          8.8,
          5.1,
          7.9,
          6.2,
          7.1,
          6.4,
          5.7,
          9.6,
          6.4,
          7.9,
          6.5,
          8.5,
          9.1,
          7.6,
          6.9,
          9.5,
          5.2,
          4.2,
          7,
          6,
          4.7,
          7.1,
          5.9,
          7.5,
          6.4,
          5.8,
          4.5,
          7.7,
          6.7,
          4.7,
          4.4,
          4.7,
          8.6,
          4.3,
          9.6,
          4.1,
          4.7,
          7.8,
          5.5,
          9.7,
          4.4,
          5,
          4.4,
          5.2,
          7.3,
          4.9,
          8.1,
          8.4,
          5.5,
          8.4,
          9.8,
          6.7,
          9.4,
          6.4,
          5.4,
          8.6,
          4,
          7.6,
          6.8,
          9.1,
          5.5,
          7.9,
          8.5,
          9.1,
          7.5,
          5.2,
          9.5,
          8.9,
          7.8,
          8.9,
          7.7,
          9.3,
          6.2,
          7.6,
          7.3,
          4.7,
          5.1,
          4.8,
          6.6,
          5.5,
          8.5,
          4.8,
          8.4,
          7.8,
          9.3,
          5.2,
          6.5,
          5.6,
          7.4,
          9.1,
          8,
          7.2,
          7.1,
          9.1,
          5.6,
          6,
          5.4,
          7.8,
          9.9,
          4.9,
          5.2,
          8.9,
          9.1,
          7,
          9.6,
          8.7,
          9.4,
          4,
          7.5,
          4.2,
          9.9,
          4.2,
          9.9,
          5.8,
          6,
          10,
          9.5,
          6.6,
          8.1,
          9.7,
          7.2,
          6.2,
          7.3,
          4.3,
          4.6,
          5.8,
          8.3,
          8,
          9.4,
          6.2,
          9.8,
          9.6,
          4.9,
          8,
          7.8,
          4.1,
          5.5,
          5.4,
          5.1,
          6.9,
          7.8,
          6.6,
          9.2,
          7.8,
          8.7,
          9.2,
          8.3,
          8.2,
          7.5,
          9.8,
          8.7,
          6.7,
          5,
          7,
          8.9,
          8,
          6.9,
          7.3,
          6.9,
          5.7,
          6.4,
          9.6,
          6.8,
          9,
          9.6,
          7.7,
          7,
          6.5,
          8.1,
          4.3,
          6.5,
          9.5,
          9.7,
          9.5,
          8.9,
          6.5,
          5.3,
          9.6,
          6.7,
          7.6,
          4.8,
          5.5,
          4.7,
          6.9,
          4.5,
          6.2,
          7.6,
          7.9,
          4.5,
          8.7,
          6.1,
          6.4,
          9.1,
          7.1,
          7.7,
          4.5,
          7.2,
          8.4,
          5.4,
          9.7,
          5.5,
          4.6,
          6.6,
          6.3,
          4.2,
          4.4,
          6.7,
          6.7,
          8.4,
          6.2,
          5,
          6,
          7,
          6.6,
          7.3,
          8.3,
          4.3,
          9.8,
          8.2,
          7.2,
          8.7,
          8.4,
          7.1,
          5.5,
          8.5,
          6.2,
          8.9,
          9.6,
          5.4,
          9.1,
          9,
          6.3,
          9.5,
          9.8,
          6.7,
          7.7,
          7,
          5.1,
          6.2,
          6.1,
          9.3,
          7.6,
          8.2,
          8.5,
          9.8,
          8.7,
          9.7,
          4.3,
          7.7,
          7.3,
          5.9,
          5,
          8,
          7.1,
          9,
          6.7,
          6.1,
          9.3,
          7,
          7.2,
          8.2,
          8.4,
          6.2,
          7.4,
          5,
          6.9,
          4.9,
          5.1,
          9.1,
          7.1,
          5,
          5.5,
          9.2,
          4.9,
          8.9,
          6,
          4.2,
          7.3,
          6.5,
          8.9,
          9.7,
          8.6,
          6.9,
          7.7,
          9.5,
          4.5,
          5.6,
          8.2,
          7.3,
          4.4,
          5.7,
          5,
          9,
          6.3,
          9.4,
          7.7,
          5.5,
          4.1,
          7.6,
          8.6,
          8.3,
          8.1,
          8.6,
          6.3,
          5.8,
          6.2,
          7.7,
          8.1,
          7.3,
          8.4,
          8,
          9.5,
          7,
          9.8,
          9.2,
          7.7,
          5.3,
          4.4,
          4.3,
          9.4,
          9.8,
          4.8,
          5.3,
          8.7,
          9.5,
          5.3,
          9.2,
          9.6,
          6.4,
          4.5,
          6.9,
          7.8,
          4.5,
          8.6,
          5.2,
          6.4,
          5.2,
          8.9,
          6.2,
          6.7,
          7.2,
          9,
          4.2,
          4.2,
          6.9,
          4.4,
          4,
          8.5,
          9.2,
          9.8,
          4.9,
          4.4,
          6.8,
          9.1,
          8.7,
          5,
          7.5,
          8.2,
          6.7,
          5.4,
          7,
          4.7,
          5,
          5,
          6,
          6.3,
          8.5,
          7.5,
          6.4,
          4.7,
          6,
          4,
          5.5,
          8.7,
          7.4,
          5.6,
          6.3,
          7.1,
          7.8,
          9.9,
          7.3,
          5.1,
          9.4,
          5.8,
          8,
          7.9,
          5.9,
          4.9,
          9.3,
          7.9,
          5.9,
          9.9,
          7.7,
          7.6,
          7.7,
          6.4,
          4.4,
          4.1,
          4.4,
          5.5,
          4,
          9.3,
          4.8,
          4.6,
          7.3,
          6,
          8.1,
          9.4,
          6.5,
          7,
          7.1,
          6.6,
          4.9,
          6.4,
          8,
          4.3,
          6.1,
          7.5,
          6.7,
          5.2,
          8.8,
          9.5,
          7.6,
          6.6,
          6.9,
          4.3,
          7.8,
          8,
          9.6,
          4.3,
          5,
          9.2,
          6.3,
          8.9,
          7.6,
          4.8,
          9.1,
          6.1,
          9.1,
          8.3,
          7.2,
          6,
          8.5,
          6.6,
          4.5,
          8.1,
          7.2,
          6.1,
          7.1,
          5.1,
          7.9,
          7.4,
          7.4,
          6.6,
          5.9,
          8.9,
          6.8,
          9.3,
          4.4,
          4.8,
          9.5,
          8.9,
          6.4,
          6,
          8.1,
          9,
          6,
          9.8,
          8.5,
          8.8,
          8.8,
          9.5,
          5.6,
          8.6,
          5.2,
          5.8,
          8,
          9,
          4.1,
          8.6,
          7,
          8.4,
          7.4,
          6.2,
          4.9,
          4.5,
          5.6,
          8,
          5.6,
          4.2,
          9.9,
          7.6,
          6.6,
          4.7,
          9.8,
          6.3,
          7.9,
          7.7,
          4.5,
          8,
          5.7,
          6.3,
          6,
          8,
          4.2,
          9.6,
          6.1,
          5.6,
          8.3,
          7.8,
          4.1,
          8.8,
          4.1,
          9,
          5.5,
          9.3,
          5.6,
          9.7,
          4,
          9.2,
          4.9,
          9.3,
          6.6,
          4.3,
          5.5,
          8.1,
          9.8,
          9.4,
          7.9,
          5.1,
          6.9,
          8,
          8,
          4.2,
          8.5,
          9,
          8.6,
          6,
          6.2,
          5,
          6.5,
          6,
          5,
          5,
          9.2,
          9.6,
          8.4,
          6,
          6.7,
          4.1,
          5.9,
          8.7,
          4.5,
          6.6,
          7.7,
          8.5,
          5.2,
          4.3,
          7.6,
          9.5,
          4.1,
          9.2,
          5.4,
          5.8,
          5.6,
          5.1,
          5.8,
          5,
          7.9,
          6,
          5,
          8.9,
          5.9,
          5.9,
          9.7,
          8.6,
          4,
          4.2,
          9.2,
          9.2,
          5,
          10,
          8.8,
          4.2,
          6.3,
          8.2,
          5.1,
          5,
          7,
          7.8,
          4.3,
          7,
          6.6,
          7.3,
          6.5,
          4.9,
          4.3,
          9.3,
          7.1,
          9.6,
          6.2,
          9.9,
          5.9,
          6.3,
          4,
          6.1,
          4.5,
          8.6,
          6,
          9.5,
          9.9,
          7.5,
          7.6,
          5,
          6.7,
          9.5,
          6.8,
          5.6,
          7.2,
          8.1,
          8.6,
          9.4,
          8.9,
          4.2,
          5,
          8.8,
          5.3,
          4.6,
          7.5,
          5.1,
          4.2,
          8.1,
          6,
          7.9,
          8.8,
          6.6,
          6.2,
          4.2,
          7.3,
          8.6,
          6.8,
          7.6,
          5.8,
          4.1,
          9.3,
          6.8,
          8.7,
          6.3,
          5.1,
          7,
          5.2,
          6.6,
          6.5,
          9,
          5.2,
          6.8,
          7.6,
          7.2,
          7.1,
          9.5,
          5.1,
          7.6,
          9.8,
          5.1,
          7.5,
          7.4,
          4.2,
          5.9,
          6.9,
          6.6,
          5.7,
          5.3,
          4.2,
          7.3,
          5.3,
          4.7,
          7.9,
          8.9,
          9.3,
          4.7,
          8.7,
          7.6,
          5.7,
          6.8,
          5.4,
          7.1,
          7.8,
          8.4,
          9.8,
          9.8,
          7.4,
          6.7,
          6.4,
          5.8,
          7.2,
          9.3,
          9.5,
          9,
          9,
          6.7,
          5.5,
          5.4,
          8.2,
          7,
          8.5,
          4.9,
          5.1,
          6.5,
          9.8,
          8.4,
          7.4,
          6.1,
          6,
          8.5,
          4.3,
          6.2,
          4.3,
          8.4,
          4.5,
          6,
          8.8,
          6.6,
          5.9,
          6.2,
          4.4,
          7.7,
          4.1,
          6.6
         ],
         "y0": " ",
         "yaxis": "y"
        }
       ],
       "layout": {
        "template": {
         "data": {
          "bar": [
           {
            "error_x": {
             "color": "#2a3f5f"
            },
            "error_y": {
             "color": "#2a3f5f"
            },
            "marker": {
             "line": {
              "color": "#E5ECF6",
              "width": 0.5
             },
             "pattern": {
              "fillmode": "overlay",
              "size": 10,
              "solidity": 0.2
             }
            },
            "type": "bar"
           }
          ],
          "barpolar": [
           {
            "marker": {
             "line": {
              "color": "#E5ECF6",
              "width": 0.5
             },
             "pattern": {
              "fillmode": "overlay",
              "size": 10,
              "solidity": 0.2
             }
            },
            "type": "barpolar"
           }
          ],
          "carpet": [
           {
            "aaxis": {
             "endlinecolor": "#2a3f5f",
             "gridcolor": "white",
             "linecolor": "white",
             "minorgridcolor": "white",
             "startlinecolor": "#2a3f5f"
            },
            "baxis": {
             "endlinecolor": "#2a3f5f",
             "gridcolor": "white",
             "linecolor": "white",
             "minorgridcolor": "white",
             "startlinecolor": "#2a3f5f"
            },
            "type": "carpet"
           }
          ],
          "choropleth": [
           {
            "colorbar": {
             "outlinewidth": 0,
             "ticks": ""
            },
            "type": "choropleth"
           }
          ],
          "contour": [
           {
            "colorbar": {
             "outlinewidth": 0,
             "ticks": ""
            },
            "colorscale": [
             [
              0,
              "#0d0887"
             ],
             [
              0.1111111111111111,
              "#46039f"
             ],
             [
              0.2222222222222222,
              "#7201a8"
             ],
             [
              0.3333333333333333,
              "#9c179e"
             ],
             [
              0.4444444444444444,
              "#bd3786"
             ],
             [
              0.5555555555555556,
              "#d8576b"
             ],
             [
              0.6666666666666666,
              "#ed7953"
             ],
             [
              0.7777777777777778,
              "#fb9f3a"
             ],
             [
              0.8888888888888888,
              "#fdca26"
             ],
             [
              1,
              "#f0f921"
             ]
            ],
            "type": "contour"
           }
          ],
          "contourcarpet": [
           {
            "colorbar": {
             "outlinewidth": 0,
             "ticks": ""
            },
            "type": "contourcarpet"
           }
          ],
          "heatmap": [
           {
            "colorbar": {
             "outlinewidth": 0,
             "ticks": ""
            },
            "colorscale": [
             [
              0,
              "#0d0887"
             ],
             [
              0.1111111111111111,
              "#46039f"
             ],
             [
              0.2222222222222222,
              "#7201a8"
             ],
             [
              0.3333333333333333,
              "#9c179e"
             ],
             [
              0.4444444444444444,
              "#bd3786"
             ],
             [
              0.5555555555555556,
              "#d8576b"
             ],
             [
              0.6666666666666666,
              "#ed7953"
             ],
             [
              0.7777777777777778,
              "#fb9f3a"
             ],
             [
              0.8888888888888888,
              "#fdca26"
             ],
             [
              1,
              "#f0f921"
             ]
            ],
            "type": "heatmap"
           }
          ],
          "heatmapgl": [
           {
            "colorbar": {
             "outlinewidth": 0,
             "ticks": ""
            },
            "colorscale": [
             [
              0,
              "#0d0887"
             ],
             [
              0.1111111111111111,
              "#46039f"
             ],
             [
              0.2222222222222222,
              "#7201a8"
             ],
             [
              0.3333333333333333,
              "#9c179e"
             ],
             [
              0.4444444444444444,
              "#bd3786"
             ],
             [
              0.5555555555555556,
              "#d8576b"
             ],
             [
              0.6666666666666666,
              "#ed7953"
             ],
             [
              0.7777777777777778,
              "#fb9f3a"
             ],
             [
              0.8888888888888888,
              "#fdca26"
             ],
             [
              1,
              "#f0f921"
             ]
            ],
            "type": "heatmapgl"
           }
          ],
          "histogram": [
           {
            "marker": {
             "pattern": {
              "fillmode": "overlay",
              "size": 10,
              "solidity": 0.2
             }
            },
            "type": "histogram"
           }
          ],
          "histogram2d": [
           {
            "colorbar": {
             "outlinewidth": 0,
             "ticks": ""
            },
            "colorscale": [
             [
              0,
              "#0d0887"
             ],
             [
              0.1111111111111111,
              "#46039f"
             ],
             [
              0.2222222222222222,
              "#7201a8"
             ],
             [
              0.3333333333333333,
              "#9c179e"
             ],
             [
              0.4444444444444444,
              "#bd3786"
             ],
             [
              0.5555555555555556,
              "#d8576b"
             ],
             [
              0.6666666666666666,
              "#ed7953"
             ],
             [
              0.7777777777777778,
              "#fb9f3a"
             ],
             [
              0.8888888888888888,
              "#fdca26"
             ],
             [
              1,
              "#f0f921"
             ]
            ],
            "type": "histogram2d"
           }
          ],
          "histogram2dcontour": [
           {
            "colorbar": {
             "outlinewidth": 0,
             "ticks": ""
            },
            "colorscale": [
             [
              0,
              "#0d0887"
             ],
             [
              0.1111111111111111,
              "#46039f"
             ],
             [
              0.2222222222222222,
              "#7201a8"
             ],
             [
              0.3333333333333333,
              "#9c179e"
             ],
             [
              0.4444444444444444,
              "#bd3786"
             ],
             [
              0.5555555555555556,
              "#d8576b"
             ],
             [
              0.6666666666666666,
              "#ed7953"
             ],
             [
              0.7777777777777778,
              "#fb9f3a"
             ],
             [
              0.8888888888888888,
              "#fdca26"
             ],
             [
              1,
              "#f0f921"
             ]
            ],
            "type": "histogram2dcontour"
           }
          ],
          "mesh3d": [
           {
            "colorbar": {
             "outlinewidth": 0,
             "ticks": ""
            },
            "type": "mesh3d"
           }
          ],
          "parcoords": [
           {
            "line": {
             "colorbar": {
              "outlinewidth": 0,
              "ticks": ""
             }
            },
            "type": "parcoords"
           }
          ],
          "pie": [
           {
            "automargin": true,
            "type": "pie"
           }
          ],
          "scatter": [
           {
            "fillpattern": {
             "fillmode": "overlay",
             "size": 10,
             "solidity": 0.2
            },
            "type": "scatter"
           }
          ],
          "scatter3d": [
           {
            "line": {
             "colorbar": {
              "outlinewidth": 0,
              "ticks": ""
             }
            },
            "marker": {
             "colorbar": {
              "outlinewidth": 0,
              "ticks": ""
             }
            },
            "type": "scatter3d"
           }
          ],
          "scattercarpet": [
           {
            "marker": {
             "colorbar": {
              "outlinewidth": 0,
              "ticks": ""
             }
            },
            "type": "scattercarpet"
           }
          ],
          "scattergeo": [
           {
            "marker": {
             "colorbar": {
              "outlinewidth": 0,
              "ticks": ""
             }
            },
            "type": "scattergeo"
           }
          ],
          "scattergl": [
           {
            "marker": {
             "colorbar": {
              "outlinewidth": 0,
              "ticks": ""
             }
            },
            "type": "scattergl"
           }
          ],
          "scattermapbox": [
           {
            "marker": {
             "colorbar": {
              "outlinewidth": 0,
              "ticks": ""
             }
            },
            "type": "scattermapbox"
           }
          ],
          "scatterpolar": [
           {
            "marker": {
             "colorbar": {
              "outlinewidth": 0,
              "ticks": ""
             }
            },
            "type": "scatterpolar"
           }
          ],
          "scatterpolargl": [
           {
            "marker": {
             "colorbar": {
              "outlinewidth": 0,
              "ticks": ""
             }
            },
            "type": "scatterpolargl"
           }
          ],
          "scatterternary": [
           {
            "marker": {
             "colorbar": {
              "outlinewidth": 0,
              "ticks": ""
             }
            },
            "type": "scatterternary"
           }
          ],
          "surface": [
           {
            "colorbar": {
             "outlinewidth": 0,
             "ticks": ""
            },
            "colorscale": [
             [
              0,
              "#0d0887"
             ],
             [
              0.1111111111111111,
              "#46039f"
             ],
             [
              0.2222222222222222,
              "#7201a8"
             ],
             [
              0.3333333333333333,
              "#9c179e"
             ],
             [
              0.4444444444444444,
              "#bd3786"
             ],
             [
              0.5555555555555556,
              "#d8576b"
             ],
             [
              0.6666666666666666,
              "#ed7953"
             ],
             [
              0.7777777777777778,
              "#fb9f3a"
             ],
             [
              0.8888888888888888,
              "#fdca26"
             ],
             [
              1,
              "#f0f921"
             ]
            ],
            "type": "surface"
           }
          ],
          "table": [
           {
            "cells": {
             "fill": {
              "color": "#EBF0F8"
             },
             "line": {
              "color": "white"
             }
            },
            "header": {
             "fill": {
              "color": "#C8D4E3"
             },
             "line": {
              "color": "white"
             }
            },
            "type": "table"
           }
          ]
         },
         "layout": {
          "annotationdefaults": {
           "arrowcolor": "#2a3f5f",
           "arrowhead": 0,
           "arrowwidth": 1
          },
          "autotypenumbers": "strict",
          "coloraxis": {
           "colorbar": {
            "outlinewidth": 0,
            "ticks": ""
           }
          },
          "colorscale": {
           "diverging": [
            [
             0,
             "#8e0152"
            ],
            [
             0.1,
             "#c51b7d"
            ],
            [
             0.2,
             "#de77ae"
            ],
            [
             0.3,
             "#f1b6da"
            ],
            [
             0.4,
             "#fde0ef"
            ],
            [
             0.5,
             "#f7f7f7"
            ],
            [
             0.6,
             "#e6f5d0"
            ],
            [
             0.7,
             "#b8e186"
            ],
            [
             0.8,
             "#7fbc41"
            ],
            [
             0.9,
             "#4d9221"
            ],
            [
             1,
             "#276419"
            ]
           ],
           "sequential": [
            [
             0,
             "#0d0887"
            ],
            [
             0.1111111111111111,
             "#46039f"
            ],
            [
             0.2222222222222222,
             "#7201a8"
            ],
            [
             0.3333333333333333,
             "#9c179e"
            ],
            [
             0.4444444444444444,
             "#bd3786"
            ],
            [
             0.5555555555555556,
             "#d8576b"
            ],
            [
             0.6666666666666666,
             "#ed7953"
            ],
            [
             0.7777777777777778,
             "#fb9f3a"
            ],
            [
             0.8888888888888888,
             "#fdca26"
            ],
            [
             1,
             "#f0f921"
            ]
           ],
           "sequentialminus": [
            [
             0,
             "#0d0887"
            ],
            [
             0.1111111111111111,
             "#46039f"
            ],
            [
             0.2222222222222222,
             "#7201a8"
            ],
            [
             0.3333333333333333,
             "#9c179e"
            ],
            [
             0.4444444444444444,
             "#bd3786"
            ],
            [
             0.5555555555555556,
             "#d8576b"
            ],
            [
             0.6666666666666666,
             "#ed7953"
            ],
            [
             0.7777777777777778,
             "#fb9f3a"
            ],
            [
             0.8888888888888888,
             "#fdca26"
            ],
            [
             1,
             "#f0f921"
            ]
           ]
          },
          "colorway": [
           "#636efa",
           "#EF553B",
           "#00cc96",
           "#ab63fa",
           "#FFA15A",
           "#19d3f3",
           "#FF6692",
           "#B6E880",
           "#FF97FF",
           "#FECB52"
          ],
          "font": {
           "color": "#2a3f5f"
          },
          "geo": {
           "bgcolor": "white",
           "lakecolor": "white",
           "landcolor": "#E5ECF6",
           "showlakes": true,
           "showland": true,
           "subunitcolor": "white"
          },
          "hoverlabel": {
           "align": "left"
          },
          "hovermode": "closest",
          "mapbox": {
           "style": "light"
          },
          "paper_bgcolor": "white",
          "plot_bgcolor": "#E5ECF6",
          "polar": {
           "angularaxis": {
            "gridcolor": "white",
            "linecolor": "white",
            "ticks": ""
           },
           "bgcolor": "#E5ECF6",
           "radialaxis": {
            "gridcolor": "white",
            "linecolor": "white",
            "ticks": ""
           }
          },
          "scene": {
           "xaxis": {
            "backgroundcolor": "#E5ECF6",
            "gridcolor": "white",
            "gridwidth": 2,
            "linecolor": "white",
            "showbackground": true,
            "ticks": "",
            "zerolinecolor": "white"
           },
           "yaxis": {
            "backgroundcolor": "#E5ECF6",
            "gridcolor": "white",
            "gridwidth": 2,
            "linecolor": "white",
            "showbackground": true,
            "ticks": "",
            "zerolinecolor": "white"
           },
           "zaxis": {
            "backgroundcolor": "#E5ECF6",
            "gridcolor": "white",
            "gridwidth": 2,
            "linecolor": "white",
            "showbackground": true,
            "ticks": "",
            "zerolinecolor": "white"
           }
          },
          "shapedefaults": {
           "line": {
            "color": "#2a3f5f"
           }
          },
          "ternary": {
           "aaxis": {
            "gridcolor": "white",
            "linecolor": "white",
            "ticks": ""
           },
           "baxis": {
            "gridcolor": "white",
            "linecolor": "white",
            "ticks": ""
           },
           "bgcolor": "#E5ECF6",
           "caxis": {
            "gridcolor": "white",
            "linecolor": "white",
            "ticks": ""
           }
          },
          "title": {
           "x": 0.05
          },
          "xaxis": {
           "automargin": true,
           "gridcolor": "white",
           "linecolor": "white",
           "ticks": "",
           "title": {
            "standoff": 15
           },
           "zerolinecolor": "white",
           "zerolinewidth": 2
          },
          "yaxis": {
           "automargin": true,
           "gridcolor": "white",
           "linecolor": "white",
           "ticks": "",
           "title": {
            "standoff": 15
           },
           "zerolinecolor": "white",
           "zerolinewidth": 2
          }
         }
        }
       }
      }
     },
     "metadata": {},
     "output_type": "display_data"
    }
   ],
   "source": [
    "import plotly.graph_objects as go\n",
    "\n",
    "fig1 = px.strip(df, x='branch', y='rating')\n",
    "fig2 = px.box(df,  x='branch', y='rating')\n",
    "go.Figure(\n",
    "    fig1.data + fig2.data\n",
    ")"
   ]
  },
  {
   "cell_type": "code",
   "execution_count": 147,
   "id": "0543f5f9",
   "metadata": {},
   "outputs": [
    {
     "data": {
      "application/vnd.plotly.v1+json": {
       "config": {
        "plotlyServerURL": "https://plot.ly"
       },
       "data": [
        {
         "alignmentgroup": "True",
         "bingroup": "x",
         "hovertemplate": "rating=%{x}<br>count=%{y}<extra></extra>",
         "legendgroup": "",
         "marker": {
          "color": "#636efa",
          "pattern": {
           "shape": ""
          }
         },
         "name": "",
         "offsetgroup": "",
         "orientation": "v",
         "showlegend": false,
         "type": "histogram",
         "x": [
          9.1,
          9.6,
          7.4,
          8.4,
          5.3,
          4.1,
          5.8,
          8,
          7.2,
          5.9,
          4.5,
          6.8,
          7.1,
          8.2,
          5.7,
          4.5,
          4.6,
          6.9,
          8.6,
          4.4,
          4.8,
          5.1,
          4.4,
          9.9,
          6,
          8.5,
          6.7,
          7.7,
          9.6,
          7.4,
          4.8,
          4.5,
          5.1,
          5.1,
          7.5,
          6.8,
          7,
          4.7,
          7.6,
          7.7,
          7.9,
          6.3,
          5.6,
          7.6,
          7.2,
          9.5,
          8.4,
          4.1,
          8.1,
          7.9,
          9.5,
          8.5,
          6.5,
          6.1,
          6.5,
          8.2,
          5.8,
          6.6,
          5.4,
          9.3,
          10,
          7,
          10,
          8.6,
          7.6,
          5.8,
          6.7,
          9.9,
          6.4,
          4.3,
          9.6,
          5.9,
          4,
          8.7,
          9.4,
          5.4,
          8.6,
          5.7,
          6.6,
          6,
          5.5,
          6.4,
          6.6,
          8.3,
          6.6,
          4,
          9.9,
          7.3,
          5.7,
          6.1,
          7.1,
          8.2,
          5.1,
          8.6,
          6.6,
          7.2,
          5.1,
          4.1,
          9.3,
          7.4,
          4.1,
          7.2,
          4.9,
          9.9,
          8,
          7.3,
          7.9,
          7.4,
          4.2,
          9.2,
          4.6,
          7.8,
          8.4,
          4.3,
          9.5,
          7.1,
          5.3,
          5.2,
          6,
          4.1,
          5.2,
          6.5,
          4.2,
          4.6,
          7.3,
          4.5,
          9,
          5.9,
          8.5,
          7.2,
          7.5,
          8.3,
          7.4,
          8.8,
          5.3,
          6.2,
          8.8,
          9.8,
          8.2,
          9.2,
          5.4,
          8.1,
          9.1,
          8.4,
          8,
          9.5,
          9.2,
          5.6,
          6.2,
          4.9,
          4.8,
          7.3,
          7.4,
          9.9,
          9.3,
          9,
          6.1,
          9.7,
          6,
          10,
          8.3,
          6,
          7,
          6.5,
          5.9,
          5.6,
          4.8,
          8.7,
          6.5,
          8.5,
          5.5,
          9.4,
          6.3,
          9.8,
          8.7,
          8.8,
          9.6,
          4.8,
          4.4,
          9.9,
          5.7,
          7.7,
          8,
          5.7,
          6.7,
          8,
          7.5,
          7,
          9.9,
          5.9,
          7.2,
          4.6,
          9.2,
          5.7,
          9.9,
          5,
          4.9,
          6.1,
          8.2,
          5.5,
          6.8,
          6.6,
          9.8,
          8.7,
          5.4,
          7.9,
          9.7,
          7.8,
          5.1,
          6.5,
          5.9,
          8.8,
          4.9,
          4.4,
          6.5,
          8.3,
          8.5,
          5.5,
          8.7,
          7.9,
          6.1,
          5.4,
          9.4,
          8.2,
          6.2,
          9.7,
          4,
          9.7,
          5.3,
          7.4,
          6.5,
          8.7,
          8,
          6.7,
          6.5,
          4.1,
          4.9,
          8.6,
          4.3,
          4.9,
          5.6,
          5.8,
          6,
          4.2,
          8.3,
          5.7,
          4.8,
          6.8,
          8.8,
          4.2,
          6.4,
          8.4,
          7.2,
          5.2,
          8.9,
          9,
          9.7,
          8.7,
          6.5,
          6.9,
          6.2,
          5.6,
          5.7,
          4.2,
          7.9,
          8.7,
          6.9,
          9.5,
          4.4,
          7,
          6.3,
          9.7,
          8.8,
          5.1,
          7.9,
          6.2,
          7.1,
          6.4,
          5.7,
          9.6,
          6.4,
          7.9,
          6.5,
          8.5,
          9.1,
          7.6,
          6.9,
          9.5,
          5.2,
          4.2,
          7,
          6,
          4.7,
          7.1,
          5.9,
          7.5,
          6.4,
          5.8,
          4.5,
          7.7,
          6.7,
          4.7,
          4.4,
          4.7,
          8.6,
          4.3,
          9.6,
          4.1,
          4.7,
          7.8,
          5.5,
          9.7,
          4.4,
          5,
          4.4,
          5.2,
          7.3,
          4.9,
          8.1,
          8.4,
          5.5,
          8.4,
          9.8,
          6.7,
          9.4,
          6.4,
          5.4,
          8.6,
          4,
          7.6,
          6.8,
          9.1,
          5.5,
          7.9,
          8.5,
          9.1,
          7.5,
          5.2,
          9.5,
          8.9,
          7.8,
          8.9,
          7.7,
          9.3,
          6.2,
          7.6,
          7.3,
          4.7,
          5.1,
          4.8,
          6.6,
          5.5,
          8.5,
          4.8,
          8.4,
          7.8,
          9.3,
          5.2,
          6.5,
          5.6,
          7.4,
          9.1,
          8,
          7.2,
          7.1,
          9.1,
          5.6,
          6,
          5.4,
          7.8,
          9.9,
          4.9,
          5.2,
          8.9,
          9.1,
          7,
          9.6,
          8.7,
          9.4,
          4,
          7.5,
          4.2,
          9.9,
          4.2,
          9.9,
          5.8,
          6,
          10,
          9.5,
          6.6,
          8.1,
          9.7,
          7.2,
          6.2,
          7.3,
          4.3,
          4.6,
          5.8,
          8.3,
          8,
          9.4,
          6.2,
          9.8,
          9.6,
          4.9,
          8,
          7.8,
          4.1,
          5.5,
          5.4,
          5.1,
          6.9,
          7.8,
          6.6,
          9.2,
          7.8,
          8.7,
          9.2,
          8.3,
          8.2,
          7.5,
          9.8,
          8.7,
          6.7,
          5,
          7,
          8.9,
          8,
          6.9,
          7.3,
          6.9,
          5.7,
          6.4,
          9.6,
          6.8,
          9,
          9.6,
          7.7,
          7,
          6.5,
          8.1,
          4.3,
          6.5,
          9.5,
          9.7,
          9.5,
          8.9,
          6.5,
          5.3,
          9.6,
          6.7,
          7.6,
          4.8,
          5.5,
          4.7,
          6.9,
          4.5,
          6.2,
          7.6,
          7.9,
          4.5,
          8.7,
          6.1,
          6.4,
          9.1,
          7.1,
          7.7,
          4.5,
          7.2,
          8.4,
          5.4,
          9.7,
          5.5,
          4.6,
          6.6,
          6.3,
          4.2,
          4.4,
          6.7,
          6.7,
          8.4,
          6.2,
          5,
          6,
          7,
          6.6,
          7.3,
          8.3,
          4.3,
          9.8,
          8.2,
          7.2,
          8.7,
          8.4,
          7.1,
          5.5,
          8.5,
          6.2,
          8.9,
          9.6,
          5.4,
          9.1,
          9,
          6.3,
          9.5,
          9.8,
          6.7,
          7.7,
          7,
          5.1,
          6.2,
          6.1,
          9.3,
          7.6,
          8.2,
          8.5,
          9.8,
          8.7,
          9.7,
          4.3,
          7.7,
          7.3,
          5.9,
          5,
          8,
          7.1,
          9,
          6.7,
          6.1,
          9.3,
          7,
          7.2,
          8.2,
          8.4,
          6.2,
          7.4,
          5,
          6.9,
          4.9,
          5.1,
          9.1,
          7.1,
          5,
          5.5,
          9.2,
          4.9,
          8.9,
          6,
          4.2,
          7.3,
          6.5,
          8.9,
          9.7,
          8.6,
          6.9,
          7.7,
          9.5,
          4.5,
          5.6,
          8.2,
          7.3,
          4.4,
          5.7,
          5,
          9,
          6.3,
          9.4,
          7.7,
          5.5,
          4.1,
          7.6,
          8.6,
          8.3,
          8.1,
          8.6,
          6.3,
          5.8,
          6.2,
          7.7,
          8.1,
          7.3,
          8.4,
          8,
          9.5,
          7,
          9.8,
          9.2,
          7.7,
          5.3,
          4.4,
          4.3,
          9.4,
          9.8,
          4.8,
          5.3,
          8.7,
          9.5,
          5.3,
          9.2,
          9.6,
          6.4,
          4.5,
          6.9,
          7.8,
          4.5,
          8.6,
          5.2,
          6.4,
          5.2,
          8.9,
          6.2,
          6.7,
          7.2,
          9,
          4.2,
          4.2,
          6.9,
          4.4,
          4,
          8.5,
          9.2,
          9.8,
          4.9,
          4.4,
          6.8,
          9.1,
          8.7,
          5,
          7.5,
          8.2,
          6.7,
          5.4,
          7,
          4.7,
          5,
          5,
          6,
          6.3,
          8.5,
          7.5,
          6.4,
          4.7,
          6,
          4,
          5.5,
          8.7,
          7.4,
          5.6,
          6.3,
          7.1,
          7.8,
          9.9,
          7.3,
          5.1,
          9.4,
          5.8,
          8,
          7.9,
          5.9,
          4.9,
          9.3,
          7.9,
          5.9,
          9.9,
          7.7,
          7.6,
          7.7,
          6.4,
          4.4,
          4.1,
          4.4,
          5.5,
          4,
          9.3,
          4.8,
          4.6,
          7.3,
          6,
          8.1,
          9.4,
          6.5,
          7,
          7.1,
          6.6,
          4.9,
          6.4,
          8,
          4.3,
          6.1,
          7.5,
          6.7,
          5.2,
          8.8,
          9.5,
          7.6,
          6.6,
          6.9,
          4.3,
          7.8,
          8,
          9.6,
          4.3,
          5,
          9.2,
          6.3,
          8.9,
          7.6,
          4.8,
          9.1,
          6.1,
          9.1,
          8.3,
          7.2,
          6,
          8.5,
          6.6,
          4.5,
          8.1,
          7.2,
          6.1,
          7.1,
          5.1,
          7.9,
          7.4,
          7.4,
          6.6,
          5.9,
          8.9,
          6.8,
          9.3,
          4.4,
          4.8,
          9.5,
          8.9,
          6.4,
          6,
          8.1,
          9,
          6,
          9.8,
          8.5,
          8.8,
          8.8,
          9.5,
          5.6,
          8.6,
          5.2,
          5.8,
          8,
          9,
          4.1,
          8.6,
          7,
          8.4,
          7.4,
          6.2,
          4.9,
          4.5,
          5.6,
          8,
          5.6,
          4.2,
          9.9,
          7.6,
          6.6,
          4.7,
          9.8,
          6.3,
          7.9,
          7.7,
          4.5,
          8,
          5.7,
          6.3,
          6,
          8,
          4.2,
          9.6,
          6.1,
          5.6,
          8.3,
          7.8,
          4.1,
          8.8,
          4.1,
          9,
          5.5,
          9.3,
          5.6,
          9.7,
          4,
          9.2,
          4.9,
          9.3,
          6.6,
          4.3,
          5.5,
          8.1,
          9.8,
          9.4,
          7.9,
          5.1,
          6.9,
          8,
          8,
          4.2,
          8.5,
          9,
          8.6,
          6,
          6.2,
          5,
          6.5,
          6,
          5,
          5,
          9.2,
          9.6,
          8.4,
          6,
          6.7,
          4.1,
          5.9,
          8.7,
          4.5,
          6.6,
          7.7,
          8.5,
          5.2,
          4.3,
          7.6,
          9.5,
          4.1,
          9.2,
          5.4,
          5.8,
          5.6,
          5.1,
          5.8,
          5,
          7.9,
          6,
          5,
          8.9,
          5.9,
          5.9,
          9.7,
          8.6,
          4,
          4.2,
          9.2,
          9.2,
          5,
          10,
          8.8,
          4.2,
          6.3,
          8.2,
          5.1,
          5,
          7,
          7.8,
          4.3,
          7,
          6.6,
          7.3,
          6.5,
          4.9,
          4.3,
          9.3,
          7.1,
          9.6,
          6.2,
          9.9,
          5.9,
          6.3,
          4,
          6.1,
          4.5,
          8.6,
          6,
          9.5,
          9.9,
          7.5,
          7.6,
          5,
          6.7,
          9.5,
          6.8,
          5.6,
          7.2,
          8.1,
          8.6,
          9.4,
          8.9,
          4.2,
          5,
          8.8,
          5.3,
          4.6,
          7.5,
          5.1,
          4.2,
          8.1,
          6,
          7.9,
          8.8,
          6.6,
          6.2,
          4.2,
          7.3,
          8.6,
          6.8,
          7.6,
          5.8,
          4.1,
          9.3,
          6.8,
          8.7,
          6.3,
          5.1,
          7,
          5.2,
          6.6,
          6.5,
          9,
          5.2,
          6.8,
          7.6,
          7.2,
          7.1,
          9.5,
          5.1,
          7.6,
          9.8,
          5.1,
          7.5,
          7.4,
          4.2,
          5.9,
          6.9,
          6.6,
          5.7,
          5.3,
          4.2,
          7.3,
          5.3,
          4.7,
          7.9,
          8.9,
          9.3,
          4.7,
          8.7,
          7.6,
          5.7,
          6.8,
          5.4,
          7.1,
          7.8,
          8.4,
          9.8,
          9.8,
          7.4,
          6.7,
          6.4,
          5.8,
          7.2,
          9.3,
          9.5,
          9,
          9,
          6.7,
          5.5,
          5.4,
          8.2,
          7,
          8.5,
          4.9,
          5.1,
          6.5,
          9.8,
          8.4,
          7.4,
          6.1,
          6,
          8.5,
          4.3,
          6.2,
          4.3,
          8.4,
          4.5,
          6,
          8.8,
          6.6,
          5.9,
          6.2,
          4.4,
          7.7,
          4.1,
          6.6
         ],
         "xaxis": "x",
         "yaxis": "y"
        }
       ],
       "layout": {
        "barmode": "relative",
        "legend": {
         "tracegroupgap": 0
        },
        "margin": {
         "t": 60
        },
        "template": {
         "data": {
          "bar": [
           {
            "error_x": {
             "color": "#2a3f5f"
            },
            "error_y": {
             "color": "#2a3f5f"
            },
            "marker": {
             "line": {
              "color": "#E5ECF6",
              "width": 0.5
             },
             "pattern": {
              "fillmode": "overlay",
              "size": 10,
              "solidity": 0.2
             }
            },
            "type": "bar"
           }
          ],
          "barpolar": [
           {
            "marker": {
             "line": {
              "color": "#E5ECF6",
              "width": 0.5
             },
             "pattern": {
              "fillmode": "overlay",
              "size": 10,
              "solidity": 0.2
             }
            },
            "type": "barpolar"
           }
          ],
          "carpet": [
           {
            "aaxis": {
             "endlinecolor": "#2a3f5f",
             "gridcolor": "white",
             "linecolor": "white",
             "minorgridcolor": "white",
             "startlinecolor": "#2a3f5f"
            },
            "baxis": {
             "endlinecolor": "#2a3f5f",
             "gridcolor": "white",
             "linecolor": "white",
             "minorgridcolor": "white",
             "startlinecolor": "#2a3f5f"
            },
            "type": "carpet"
           }
          ],
          "choropleth": [
           {
            "colorbar": {
             "outlinewidth": 0,
             "ticks": ""
            },
            "type": "choropleth"
           }
          ],
          "contour": [
           {
            "colorbar": {
             "outlinewidth": 0,
             "ticks": ""
            },
            "colorscale": [
             [
              0,
              "#0d0887"
             ],
             [
              0.1111111111111111,
              "#46039f"
             ],
             [
              0.2222222222222222,
              "#7201a8"
             ],
             [
              0.3333333333333333,
              "#9c179e"
             ],
             [
              0.4444444444444444,
              "#bd3786"
             ],
             [
              0.5555555555555556,
              "#d8576b"
             ],
             [
              0.6666666666666666,
              "#ed7953"
             ],
             [
              0.7777777777777778,
              "#fb9f3a"
             ],
             [
              0.8888888888888888,
              "#fdca26"
             ],
             [
              1,
              "#f0f921"
             ]
            ],
            "type": "contour"
           }
          ],
          "contourcarpet": [
           {
            "colorbar": {
             "outlinewidth": 0,
             "ticks": ""
            },
            "type": "contourcarpet"
           }
          ],
          "heatmap": [
           {
            "colorbar": {
             "outlinewidth": 0,
             "ticks": ""
            },
            "colorscale": [
             [
              0,
              "#0d0887"
             ],
             [
              0.1111111111111111,
              "#46039f"
             ],
             [
              0.2222222222222222,
              "#7201a8"
             ],
             [
              0.3333333333333333,
              "#9c179e"
             ],
             [
              0.4444444444444444,
              "#bd3786"
             ],
             [
              0.5555555555555556,
              "#d8576b"
             ],
             [
              0.6666666666666666,
              "#ed7953"
             ],
             [
              0.7777777777777778,
              "#fb9f3a"
             ],
             [
              0.8888888888888888,
              "#fdca26"
             ],
             [
              1,
              "#f0f921"
             ]
            ],
            "type": "heatmap"
           }
          ],
          "heatmapgl": [
           {
            "colorbar": {
             "outlinewidth": 0,
             "ticks": ""
            },
            "colorscale": [
             [
              0,
              "#0d0887"
             ],
             [
              0.1111111111111111,
              "#46039f"
             ],
             [
              0.2222222222222222,
              "#7201a8"
             ],
             [
              0.3333333333333333,
              "#9c179e"
             ],
             [
              0.4444444444444444,
              "#bd3786"
             ],
             [
              0.5555555555555556,
              "#d8576b"
             ],
             [
              0.6666666666666666,
              "#ed7953"
             ],
             [
              0.7777777777777778,
              "#fb9f3a"
             ],
             [
              0.8888888888888888,
              "#fdca26"
             ],
             [
              1,
              "#f0f921"
             ]
            ],
            "type": "heatmapgl"
           }
          ],
          "histogram": [
           {
            "marker": {
             "pattern": {
              "fillmode": "overlay",
              "size": 10,
              "solidity": 0.2
             }
            },
            "type": "histogram"
           }
          ],
          "histogram2d": [
           {
            "colorbar": {
             "outlinewidth": 0,
             "ticks": ""
            },
            "colorscale": [
             [
              0,
              "#0d0887"
             ],
             [
              0.1111111111111111,
              "#46039f"
             ],
             [
              0.2222222222222222,
              "#7201a8"
             ],
             [
              0.3333333333333333,
              "#9c179e"
             ],
             [
              0.4444444444444444,
              "#bd3786"
             ],
             [
              0.5555555555555556,
              "#d8576b"
             ],
             [
              0.6666666666666666,
              "#ed7953"
             ],
             [
              0.7777777777777778,
              "#fb9f3a"
             ],
             [
              0.8888888888888888,
              "#fdca26"
             ],
             [
              1,
              "#f0f921"
             ]
            ],
            "type": "histogram2d"
           }
          ],
          "histogram2dcontour": [
           {
            "colorbar": {
             "outlinewidth": 0,
             "ticks": ""
            },
            "colorscale": [
             [
              0,
              "#0d0887"
             ],
             [
              0.1111111111111111,
              "#46039f"
             ],
             [
              0.2222222222222222,
              "#7201a8"
             ],
             [
              0.3333333333333333,
              "#9c179e"
             ],
             [
              0.4444444444444444,
              "#bd3786"
             ],
             [
              0.5555555555555556,
              "#d8576b"
             ],
             [
              0.6666666666666666,
              "#ed7953"
             ],
             [
              0.7777777777777778,
              "#fb9f3a"
             ],
             [
              0.8888888888888888,
              "#fdca26"
             ],
             [
              1,
              "#f0f921"
             ]
            ],
            "type": "histogram2dcontour"
           }
          ],
          "mesh3d": [
           {
            "colorbar": {
             "outlinewidth": 0,
             "ticks": ""
            },
            "type": "mesh3d"
           }
          ],
          "parcoords": [
           {
            "line": {
             "colorbar": {
              "outlinewidth": 0,
              "ticks": ""
             }
            },
            "type": "parcoords"
           }
          ],
          "pie": [
           {
            "automargin": true,
            "type": "pie"
           }
          ],
          "scatter": [
           {
            "fillpattern": {
             "fillmode": "overlay",
             "size": 10,
             "solidity": 0.2
            },
            "type": "scatter"
           }
          ],
          "scatter3d": [
           {
            "line": {
             "colorbar": {
              "outlinewidth": 0,
              "ticks": ""
             }
            },
            "marker": {
             "colorbar": {
              "outlinewidth": 0,
              "ticks": ""
             }
            },
            "type": "scatter3d"
           }
          ],
          "scattercarpet": [
           {
            "marker": {
             "colorbar": {
              "outlinewidth": 0,
              "ticks": ""
             }
            },
            "type": "scattercarpet"
           }
          ],
          "scattergeo": [
           {
            "marker": {
             "colorbar": {
              "outlinewidth": 0,
              "ticks": ""
             }
            },
            "type": "scattergeo"
           }
          ],
          "scattergl": [
           {
            "marker": {
             "colorbar": {
              "outlinewidth": 0,
              "ticks": ""
             }
            },
            "type": "scattergl"
           }
          ],
          "scattermapbox": [
           {
            "marker": {
             "colorbar": {
              "outlinewidth": 0,
              "ticks": ""
             }
            },
            "type": "scattermapbox"
           }
          ],
          "scatterpolar": [
           {
            "marker": {
             "colorbar": {
              "outlinewidth": 0,
              "ticks": ""
             }
            },
            "type": "scatterpolar"
           }
          ],
          "scatterpolargl": [
           {
            "marker": {
             "colorbar": {
              "outlinewidth": 0,
              "ticks": ""
             }
            },
            "type": "scatterpolargl"
           }
          ],
          "scatterternary": [
           {
            "marker": {
             "colorbar": {
              "outlinewidth": 0,
              "ticks": ""
             }
            },
            "type": "scatterternary"
           }
          ],
          "surface": [
           {
            "colorbar": {
             "outlinewidth": 0,
             "ticks": ""
            },
            "colorscale": [
             [
              0,
              "#0d0887"
             ],
             [
              0.1111111111111111,
              "#46039f"
             ],
             [
              0.2222222222222222,
              "#7201a8"
             ],
             [
              0.3333333333333333,
              "#9c179e"
             ],
             [
              0.4444444444444444,
              "#bd3786"
             ],
             [
              0.5555555555555556,
              "#d8576b"
             ],
             [
              0.6666666666666666,
              "#ed7953"
             ],
             [
              0.7777777777777778,
              "#fb9f3a"
             ],
             [
              0.8888888888888888,
              "#fdca26"
             ],
             [
              1,
              "#f0f921"
             ]
            ],
            "type": "surface"
           }
          ],
          "table": [
           {
            "cells": {
             "fill": {
              "color": "#EBF0F8"
             },
             "line": {
              "color": "white"
             }
            },
            "header": {
             "fill": {
              "color": "#C8D4E3"
             },
             "line": {
              "color": "white"
             }
            },
            "type": "table"
           }
          ]
         },
         "layout": {
          "annotationdefaults": {
           "arrowcolor": "#2a3f5f",
           "arrowhead": 0,
           "arrowwidth": 1
          },
          "autotypenumbers": "strict",
          "coloraxis": {
           "colorbar": {
            "outlinewidth": 0,
            "ticks": ""
           }
          },
          "colorscale": {
           "diverging": [
            [
             0,
             "#8e0152"
            ],
            [
             0.1,
             "#c51b7d"
            ],
            [
             0.2,
             "#de77ae"
            ],
            [
             0.3,
             "#f1b6da"
            ],
            [
             0.4,
             "#fde0ef"
            ],
            [
             0.5,
             "#f7f7f7"
            ],
            [
             0.6,
             "#e6f5d0"
            ],
            [
             0.7,
             "#b8e186"
            ],
            [
             0.8,
             "#7fbc41"
            ],
            [
             0.9,
             "#4d9221"
            ],
            [
             1,
             "#276419"
            ]
           ],
           "sequential": [
            [
             0,
             "#0d0887"
            ],
            [
             0.1111111111111111,
             "#46039f"
            ],
            [
             0.2222222222222222,
             "#7201a8"
            ],
            [
             0.3333333333333333,
             "#9c179e"
            ],
            [
             0.4444444444444444,
             "#bd3786"
            ],
            [
             0.5555555555555556,
             "#d8576b"
            ],
            [
             0.6666666666666666,
             "#ed7953"
            ],
            [
             0.7777777777777778,
             "#fb9f3a"
            ],
            [
             0.8888888888888888,
             "#fdca26"
            ],
            [
             1,
             "#f0f921"
            ]
           ],
           "sequentialminus": [
            [
             0,
             "#0d0887"
            ],
            [
             0.1111111111111111,
             "#46039f"
            ],
            [
             0.2222222222222222,
             "#7201a8"
            ],
            [
             0.3333333333333333,
             "#9c179e"
            ],
            [
             0.4444444444444444,
             "#bd3786"
            ],
            [
             0.5555555555555556,
             "#d8576b"
            ],
            [
             0.6666666666666666,
             "#ed7953"
            ],
            [
             0.7777777777777778,
             "#fb9f3a"
            ],
            [
             0.8888888888888888,
             "#fdca26"
            ],
            [
             1,
             "#f0f921"
            ]
           ]
          },
          "colorway": [
           "#636efa",
           "#EF553B",
           "#00cc96",
           "#ab63fa",
           "#FFA15A",
           "#19d3f3",
           "#FF6692",
           "#B6E880",
           "#FF97FF",
           "#FECB52"
          ],
          "font": {
           "color": "#2a3f5f"
          },
          "geo": {
           "bgcolor": "white",
           "lakecolor": "white",
           "landcolor": "#E5ECF6",
           "showlakes": true,
           "showland": true,
           "subunitcolor": "white"
          },
          "hoverlabel": {
           "align": "left"
          },
          "hovermode": "closest",
          "mapbox": {
           "style": "light"
          },
          "paper_bgcolor": "white",
          "plot_bgcolor": "#E5ECF6",
          "polar": {
           "angularaxis": {
            "gridcolor": "white",
            "linecolor": "white",
            "ticks": ""
           },
           "bgcolor": "#E5ECF6",
           "radialaxis": {
            "gridcolor": "white",
            "linecolor": "white",
            "ticks": ""
           }
          },
          "scene": {
           "xaxis": {
            "backgroundcolor": "#E5ECF6",
            "gridcolor": "white",
            "gridwidth": 2,
            "linecolor": "white",
            "showbackground": true,
            "ticks": "",
            "zerolinecolor": "white"
           },
           "yaxis": {
            "backgroundcolor": "#E5ECF6",
            "gridcolor": "white",
            "gridwidth": 2,
            "linecolor": "white",
            "showbackground": true,
            "ticks": "",
            "zerolinecolor": "white"
           },
           "zaxis": {
            "backgroundcolor": "#E5ECF6",
            "gridcolor": "white",
            "gridwidth": 2,
            "linecolor": "white",
            "showbackground": true,
            "ticks": "",
            "zerolinecolor": "white"
           }
          },
          "shapedefaults": {
           "line": {
            "color": "#2a3f5f"
           }
          },
          "ternary": {
           "aaxis": {
            "gridcolor": "white",
            "linecolor": "white",
            "ticks": ""
           },
           "baxis": {
            "gridcolor": "white",
            "linecolor": "white",
            "ticks": ""
           },
           "bgcolor": "#E5ECF6",
           "caxis": {
            "gridcolor": "white",
            "linecolor": "white",
            "ticks": ""
           }
          },
          "title": {
           "x": 0.05
          },
          "xaxis": {
           "automargin": true,
           "gridcolor": "white",
           "linecolor": "white",
           "ticks": "",
           "title": {
            "standoff": 15
           },
           "zerolinecolor": "white",
           "zerolinewidth": 2
          },
          "yaxis": {
           "automargin": true,
           "gridcolor": "white",
           "linecolor": "white",
           "ticks": "",
           "title": {
            "standoff": 15
           },
           "zerolinecolor": "white",
           "zerolinewidth": 2
          }
         }
        },
        "xaxis": {
         "anchor": "y",
         "domain": [
          0,
          1
         ],
         "title": {
          "text": "rating"
         }
        },
        "yaxis": {
         "anchor": "x",
         "domain": [
          0,
          1
         ],
         "title": {
          "text": "count"
         }
        }
       }
      }
     },
     "metadata": {},
     "output_type": "display_data"
    }
   ],
   "source": [
    "fig=px.histogram(df,'rating')\n",
    "fig.show()"
   ]
  },
  {
   "cell_type": "code",
   "execution_count": 151,
   "id": "629b9e5b",
   "metadata": {},
   "outputs": [
    {
     "data": {
      "application/vnd.microsoft.datawrangler.viewer.v0+json": {
       "columns": [
        {
         "name": "index",
         "rawType": "object",
         "type": "string"
        },
        {
         "name": "unit_price",
         "rawType": "float64",
         "type": "float"
        },
        {
         "name": "quantity",
         "rawType": "float64",
         "type": "float"
        },
        {
         "name": "tax_5%",
         "rawType": "float64",
         "type": "float"
        },
        {
         "name": "total",
         "rawType": "float64",
         "type": "float"
        },
        {
         "name": "cogs",
         "rawType": "float64",
         "type": "float"
        },
        {
         "name": "gross_margin_percentage",
         "rawType": "float64",
         "type": "float"
        },
        {
         "name": "gross_income",
         "rawType": "float64",
         "type": "float"
        },
        {
         "name": "rating",
         "rawType": "float64",
         "type": "float"
        },
        {
         "name": "year",
         "rawType": "float64",
         "type": "float"
        },
        {
         "name": "month",
         "rawType": "float64",
         "type": "float"
        },
        {
         "name": "hour",
         "rawType": "float64",
         "type": "float"
        }
       ],
       "ref": "3fb55fe6-dbff-4379-96b4-e8fcf02b7165",
       "rows": [
        [
         "unit_price",
         "1.0",
         "0.010777564342497253",
         "0.6339620885890688",
         "0.6339620885890689",
         "0.633962088589068",
         null,
         "0.6339620885890688",
         "-0.008777507200778936",
         null,
         "-0.027387185843752323",
         "0.008242210490677922"
        ],
        [
         "quantity",
         "0.010777564342497253",
         "1.0",
         "0.7055101859433074",
         "0.7055101859433058",
         "0.7055101859433045",
         null,
         "0.7055101859433074",
         "-0.015814904627167052",
         null,
         "-0.01452427615261054",
         "-0.007316886044428513"
        ],
        [
         "tax_5%",
         "0.6339620885890688",
         "0.7055101859433074",
         "1.0",
         "0.9999999999999989",
         "0.9999999999999991",
         null,
         "1.0",
         "-0.03644170499701844",
         null,
         "-0.022301340273442178",
         "-0.002770440003255753"
        ],
        [
         "total",
         "0.6339620885890689",
         "0.7055101859433058",
         "0.9999999999999989",
         "1.0",
         "0.9999999999999984",
         null,
         "0.9999999999999989",
         "-0.03644170499701849",
         null,
         "-0.02230134027344226",
         "-0.00277044000325587"
        ],
        [
         "cogs",
         "0.633962088589068",
         "0.7055101859433045",
         "0.9999999999999991",
         "0.9999999999999984",
         "1.0",
         null,
         "0.999999999999999",
         "-0.03644170499701842",
         null,
         "-0.022301340273442227",
         "-0.002770440003255828"
        ],
        [
         "gross_margin_percentage",
         null,
         null,
         null,
         null,
         null,
         null,
         null,
         null,
         null,
         null,
         null
        ],
        [
         "gross_income",
         "0.6339620885890688",
         "0.7055101859433074",
         "1.0",
         "0.9999999999999989",
         "0.999999999999999",
         null,
         "1.0",
         "-0.03644170499701844",
         null,
         "-0.022301340273442178",
         "-0.002770440003255753"
        ],
        [
         "rating",
         "-0.008777507200778936",
         "-0.015814904627167052",
         "-0.03644170499701844",
         "-0.03644170499701849",
         "-0.03644170499701842",
         null,
         "-0.03644170499701844",
         "1.0",
         null,
         "-0.04288037428174041",
         "-0.030587643622234414"
        ],
        [
         "year",
         null,
         null,
         null,
         null,
         null,
         null,
         null,
         null,
         null,
         null,
         null
        ],
        [
         "month",
         "-0.027387185843752323",
         "-0.01452427615261054",
         "-0.022301340273442178",
         "-0.02230134027344226",
         "-0.022301340273442227",
         null,
         "-0.022301340273442178",
         "-0.04288037428174041",
         null,
         "1.0",
         "0.0437617441552335"
        ],
        [
         "hour",
         "0.008242210490677922",
         "-0.007316886044428513",
         "-0.002770440003255753",
         "-0.00277044000325587",
         "-0.002770440003255828",
         null,
         "-0.002770440003255753",
         "-0.030587643622234414",
         null,
         "0.0437617441552335",
         "1.0"
        ]
       ],
       "shape": {
        "columns": 11,
        "rows": 11
       }
      },
      "text/html": [
       "<div>\n",
       "<style scoped>\n",
       "    .dataframe tbody tr th:only-of-type {\n",
       "        vertical-align: middle;\n",
       "    }\n",
       "\n",
       "    .dataframe tbody tr th {\n",
       "        vertical-align: top;\n",
       "    }\n",
       "\n",
       "    .dataframe thead th {\n",
       "        text-align: right;\n",
       "    }\n",
       "</style>\n",
       "<table border=\"1\" class=\"dataframe\">\n",
       "  <thead>\n",
       "    <tr style=\"text-align: right;\">\n",
       "      <th></th>\n",
       "      <th>unit_price</th>\n",
       "      <th>quantity</th>\n",
       "      <th>tax_5%</th>\n",
       "      <th>total</th>\n",
       "      <th>cogs</th>\n",
       "      <th>gross_margin_percentage</th>\n",
       "      <th>gross_income</th>\n",
       "      <th>rating</th>\n",
       "      <th>year</th>\n",
       "      <th>month</th>\n",
       "      <th>hour</th>\n",
       "    </tr>\n",
       "  </thead>\n",
       "  <tbody>\n",
       "    <tr>\n",
       "      <th>unit_price</th>\n",
       "      <td>1.000000</td>\n",
       "      <td>0.010778</td>\n",
       "      <td>0.633962</td>\n",
       "      <td>0.633962</td>\n",
       "      <td>0.633962</td>\n",
       "      <td>NaN</td>\n",
       "      <td>0.633962</td>\n",
       "      <td>-0.008778</td>\n",
       "      <td>NaN</td>\n",
       "      <td>-0.027387</td>\n",
       "      <td>0.008242</td>\n",
       "    </tr>\n",
       "    <tr>\n",
       "      <th>quantity</th>\n",
       "      <td>0.010778</td>\n",
       "      <td>1.000000</td>\n",
       "      <td>0.705510</td>\n",
       "      <td>0.705510</td>\n",
       "      <td>0.705510</td>\n",
       "      <td>NaN</td>\n",
       "      <td>0.705510</td>\n",
       "      <td>-0.015815</td>\n",
       "      <td>NaN</td>\n",
       "      <td>-0.014524</td>\n",
       "      <td>-0.007317</td>\n",
       "    </tr>\n",
       "    <tr>\n",
       "      <th>tax_5%</th>\n",
       "      <td>0.633962</td>\n",
       "      <td>0.705510</td>\n",
       "      <td>1.000000</td>\n",
       "      <td>1.000000</td>\n",
       "      <td>1.000000</td>\n",
       "      <td>NaN</td>\n",
       "      <td>1.000000</td>\n",
       "      <td>-0.036442</td>\n",
       "      <td>NaN</td>\n",
       "      <td>-0.022301</td>\n",
       "      <td>-0.002770</td>\n",
       "    </tr>\n",
       "    <tr>\n",
       "      <th>total</th>\n",
       "      <td>0.633962</td>\n",
       "      <td>0.705510</td>\n",
       "      <td>1.000000</td>\n",
       "      <td>1.000000</td>\n",
       "      <td>1.000000</td>\n",
       "      <td>NaN</td>\n",
       "      <td>1.000000</td>\n",
       "      <td>-0.036442</td>\n",
       "      <td>NaN</td>\n",
       "      <td>-0.022301</td>\n",
       "      <td>-0.002770</td>\n",
       "    </tr>\n",
       "    <tr>\n",
       "      <th>cogs</th>\n",
       "      <td>0.633962</td>\n",
       "      <td>0.705510</td>\n",
       "      <td>1.000000</td>\n",
       "      <td>1.000000</td>\n",
       "      <td>1.000000</td>\n",
       "      <td>NaN</td>\n",
       "      <td>1.000000</td>\n",
       "      <td>-0.036442</td>\n",
       "      <td>NaN</td>\n",
       "      <td>-0.022301</td>\n",
       "      <td>-0.002770</td>\n",
       "    </tr>\n",
       "    <tr>\n",
       "      <th>gross_margin_percentage</th>\n",
       "      <td>NaN</td>\n",
       "      <td>NaN</td>\n",
       "      <td>NaN</td>\n",
       "      <td>NaN</td>\n",
       "      <td>NaN</td>\n",
       "      <td>NaN</td>\n",
       "      <td>NaN</td>\n",
       "      <td>NaN</td>\n",
       "      <td>NaN</td>\n",
       "      <td>NaN</td>\n",
       "      <td>NaN</td>\n",
       "    </tr>\n",
       "    <tr>\n",
       "      <th>gross_income</th>\n",
       "      <td>0.633962</td>\n",
       "      <td>0.705510</td>\n",
       "      <td>1.000000</td>\n",
       "      <td>1.000000</td>\n",
       "      <td>1.000000</td>\n",
       "      <td>NaN</td>\n",
       "      <td>1.000000</td>\n",
       "      <td>-0.036442</td>\n",
       "      <td>NaN</td>\n",
       "      <td>-0.022301</td>\n",
       "      <td>-0.002770</td>\n",
       "    </tr>\n",
       "    <tr>\n",
       "      <th>rating</th>\n",
       "      <td>-0.008778</td>\n",
       "      <td>-0.015815</td>\n",
       "      <td>-0.036442</td>\n",
       "      <td>-0.036442</td>\n",
       "      <td>-0.036442</td>\n",
       "      <td>NaN</td>\n",
       "      <td>-0.036442</td>\n",
       "      <td>1.000000</td>\n",
       "      <td>NaN</td>\n",
       "      <td>-0.042880</td>\n",
       "      <td>-0.030588</td>\n",
       "    </tr>\n",
       "    <tr>\n",
       "      <th>year</th>\n",
       "      <td>NaN</td>\n",
       "      <td>NaN</td>\n",
       "      <td>NaN</td>\n",
       "      <td>NaN</td>\n",
       "      <td>NaN</td>\n",
       "      <td>NaN</td>\n",
       "      <td>NaN</td>\n",
       "      <td>NaN</td>\n",
       "      <td>NaN</td>\n",
       "      <td>NaN</td>\n",
       "      <td>NaN</td>\n",
       "    </tr>\n",
       "    <tr>\n",
       "      <th>month</th>\n",
       "      <td>-0.027387</td>\n",
       "      <td>-0.014524</td>\n",
       "      <td>-0.022301</td>\n",
       "      <td>-0.022301</td>\n",
       "      <td>-0.022301</td>\n",
       "      <td>NaN</td>\n",
       "      <td>-0.022301</td>\n",
       "      <td>-0.042880</td>\n",
       "      <td>NaN</td>\n",
       "      <td>1.000000</td>\n",
       "      <td>0.043762</td>\n",
       "    </tr>\n",
       "    <tr>\n",
       "      <th>hour</th>\n",
       "      <td>0.008242</td>\n",
       "      <td>-0.007317</td>\n",
       "      <td>-0.002770</td>\n",
       "      <td>-0.002770</td>\n",
       "      <td>-0.002770</td>\n",
       "      <td>NaN</td>\n",
       "      <td>-0.002770</td>\n",
       "      <td>-0.030588</td>\n",
       "      <td>NaN</td>\n",
       "      <td>0.043762</td>\n",
       "      <td>1.000000</td>\n",
       "    </tr>\n",
       "  </tbody>\n",
       "</table>\n",
       "</div>"
      ],
      "text/plain": [
       "                         unit_price  quantity    tax_5%     total      cogs  \\\n",
       "unit_price                 1.000000  0.010778  0.633962  0.633962  0.633962   \n",
       "quantity                   0.010778  1.000000  0.705510  0.705510  0.705510   \n",
       "tax_5%                     0.633962  0.705510  1.000000  1.000000  1.000000   \n",
       "total                      0.633962  0.705510  1.000000  1.000000  1.000000   \n",
       "cogs                       0.633962  0.705510  1.000000  1.000000  1.000000   \n",
       "gross_margin_percentage         NaN       NaN       NaN       NaN       NaN   \n",
       "gross_income               0.633962  0.705510  1.000000  1.000000  1.000000   \n",
       "rating                    -0.008778 -0.015815 -0.036442 -0.036442 -0.036442   \n",
       "year                            NaN       NaN       NaN       NaN       NaN   \n",
       "month                     -0.027387 -0.014524 -0.022301 -0.022301 -0.022301   \n",
       "hour                       0.008242 -0.007317 -0.002770 -0.002770 -0.002770   \n",
       "\n",
       "                         gross_margin_percentage  gross_income    rating  \\\n",
       "unit_price                                   NaN      0.633962 -0.008778   \n",
       "quantity                                     NaN      0.705510 -0.015815   \n",
       "tax_5%                                       NaN      1.000000 -0.036442   \n",
       "total                                        NaN      1.000000 -0.036442   \n",
       "cogs                                         NaN      1.000000 -0.036442   \n",
       "gross_margin_percentage                      NaN           NaN       NaN   \n",
       "gross_income                                 NaN      1.000000 -0.036442   \n",
       "rating                                       NaN     -0.036442  1.000000   \n",
       "year                                         NaN           NaN       NaN   \n",
       "month                                        NaN     -0.022301 -0.042880   \n",
       "hour                                         NaN     -0.002770 -0.030588   \n",
       "\n",
       "                         year     month      hour  \n",
       "unit_price                NaN -0.027387  0.008242  \n",
       "quantity                  NaN -0.014524 -0.007317  \n",
       "tax_5%                    NaN -0.022301 -0.002770  \n",
       "total                     NaN -0.022301 -0.002770  \n",
       "cogs                      NaN -0.022301 -0.002770  \n",
       "gross_margin_percentage   NaN       NaN       NaN  \n",
       "gross_income              NaN -0.022301 -0.002770  \n",
       "rating                    NaN -0.042880 -0.030588  \n",
       "year                      NaN       NaN       NaN  \n",
       "month                     NaN  1.000000  0.043762  \n",
       "hour                      NaN  0.043762  1.000000  "
      ]
     },
     "execution_count": 151,
     "metadata": {},
     "output_type": "execute_result"
    }
   ],
   "source": [
    "numuric_col=df.select_dtypes(include=np.number)\n",
    "numuric_col.corr()"
   ]
  },
  {
   "cell_type": "code",
   "execution_count": 227,
   "id": "175bbf8d",
   "metadata": {},
   "outputs": [
    {
     "data": {
      "application/vnd.microsoft.datawrangler.viewer.v0+json": {
       "columns": [
        {
         "name": "index",
         "rawType": "object",
         "type": "string"
        },
        {
         "name": "unit_price",
         "rawType": "float64",
         "type": "float"
        },
        {
         "name": "quantity",
         "rawType": "float64",
         "type": "float"
        },
        {
         "name": "tax_5%",
         "rawType": "float64",
         "type": "float"
        },
        {
         "name": "total",
         "rawType": "float64",
         "type": "float"
        },
        {
         "name": "cogs",
         "rawType": "float64",
         "type": "float"
        },
        {
         "name": "gross_margin_percentage",
         "rawType": "float64",
         "type": "float"
        },
        {
         "name": "gross_income",
         "rawType": "float64",
         "type": "float"
        },
        {
         "name": "rating",
         "rawType": "float64",
         "type": "float"
        },
        {
         "name": "year",
         "rawType": "float64",
         "type": "float"
        },
        {
         "name": "month",
         "rawType": "float64",
         "type": "float"
        },
        {
         "name": "hour",
         "rawType": "float64",
         "type": "float"
        }
       ],
       "ref": "788bf3d3-0fec-4317-b247-e8a5d1145e51",
       "rows": [
        [
         "unit_price",
         "1.0",
         "0.010777564342497253",
         "0.6339620885890688",
         "0.6339620885890689",
         "0.633962088589068",
         null,
         "0.6339620885890688",
         "-0.008777507200778936",
         null,
         "-0.027387185843752323",
         "0.008242210490677922"
        ],
        [
         "quantity",
         "0.010777564342497253",
         "1.0",
         "0.7055101859433074",
         "0.7055101859433058",
         "0.7055101859433045",
         null,
         "0.7055101859433074",
         "-0.015814904627167052",
         null,
         "-0.01452427615261054",
         "-0.007316886044428513"
        ],
        [
         "tax_5%",
         "0.6339620885890688",
         "0.7055101859433074",
         "1.0",
         "0.9999999999999989",
         "0.9999999999999991",
         null,
         "1.0",
         "-0.03644170499701844",
         null,
         "-0.022301340273442178",
         "-0.002770440003255753"
        ],
        [
         "total",
         "0.6339620885890689",
         "0.7055101859433058",
         "0.9999999999999989",
         "1.0",
         "0.9999999999999984",
         null,
         "0.9999999999999989",
         "-0.03644170499701849",
         null,
         "-0.02230134027344226",
         "-0.00277044000325587"
        ],
        [
         "cogs",
         "0.633962088589068",
         "0.7055101859433045",
         "0.9999999999999991",
         "0.9999999999999984",
         "1.0",
         null,
         "0.999999999999999",
         "-0.03644170499701842",
         null,
         "-0.022301340273442227",
         "-0.002770440003255828"
        ],
        [
         "gross_margin_percentage",
         null,
         null,
         null,
         null,
         null,
         null,
         null,
         null,
         null,
         null,
         null
        ],
        [
         "gross_income",
         "0.6339620885890688",
         "0.7055101859433074",
         "1.0",
         "0.9999999999999989",
         "0.999999999999999",
         null,
         "1.0",
         "-0.03644170499701844",
         null,
         "-0.022301340273442178",
         "-0.002770440003255753"
        ],
        [
         "rating",
         "-0.008777507200778936",
         "-0.015814904627167052",
         "-0.03644170499701844",
         "-0.03644170499701849",
         "-0.03644170499701842",
         null,
         "-0.03644170499701844",
         "1.0",
         null,
         "-0.04288037428174041",
         "-0.030587643622234414"
        ],
        [
         "year",
         null,
         null,
         null,
         null,
         null,
         null,
         null,
         null,
         null,
         null,
         null
        ],
        [
         "month",
         "-0.027387185843752323",
         "-0.01452427615261054",
         "-0.022301340273442178",
         "-0.02230134027344226",
         "-0.022301340273442227",
         null,
         "-0.022301340273442178",
         "-0.04288037428174041",
         null,
         "1.0",
         "0.0437617441552335"
        ],
        [
         "hour",
         "0.008242210490677922",
         "-0.007316886044428513",
         "-0.002770440003255753",
         "-0.00277044000325587",
         "-0.002770440003255828",
         null,
         "-0.002770440003255753",
         "-0.030587643622234414",
         null,
         "0.0437617441552335",
         "1.0"
        ]
       ],
       "shape": {
        "columns": 11,
        "rows": 11
       }
      },
      "text/html": [
       "<div>\n",
       "<style scoped>\n",
       "    .dataframe tbody tr th:only-of-type {\n",
       "        vertical-align: middle;\n",
       "    }\n",
       "\n",
       "    .dataframe tbody tr th {\n",
       "        vertical-align: top;\n",
       "    }\n",
       "\n",
       "    .dataframe thead th {\n",
       "        text-align: right;\n",
       "    }\n",
       "</style>\n",
       "<table border=\"1\" class=\"dataframe\">\n",
       "  <thead>\n",
       "    <tr style=\"text-align: right;\">\n",
       "      <th></th>\n",
       "      <th>unit_price</th>\n",
       "      <th>quantity</th>\n",
       "      <th>tax_5%</th>\n",
       "      <th>total</th>\n",
       "      <th>cogs</th>\n",
       "      <th>gross_margin_percentage</th>\n",
       "      <th>gross_income</th>\n",
       "      <th>rating</th>\n",
       "      <th>year</th>\n",
       "      <th>month</th>\n",
       "      <th>hour</th>\n",
       "    </tr>\n",
       "  </thead>\n",
       "  <tbody>\n",
       "    <tr>\n",
       "      <th>unit_price</th>\n",
       "      <td>1.000000</td>\n",
       "      <td>0.010778</td>\n",
       "      <td>0.633962</td>\n",
       "      <td>0.633962</td>\n",
       "      <td>0.633962</td>\n",
       "      <td>NaN</td>\n",
       "      <td>0.633962</td>\n",
       "      <td>-0.008778</td>\n",
       "      <td>NaN</td>\n",
       "      <td>-0.027387</td>\n",
       "      <td>0.008242</td>\n",
       "    </tr>\n",
       "    <tr>\n",
       "      <th>quantity</th>\n",
       "      <td>0.010778</td>\n",
       "      <td>1.000000</td>\n",
       "      <td>0.705510</td>\n",
       "      <td>0.705510</td>\n",
       "      <td>0.705510</td>\n",
       "      <td>NaN</td>\n",
       "      <td>0.705510</td>\n",
       "      <td>-0.015815</td>\n",
       "      <td>NaN</td>\n",
       "      <td>-0.014524</td>\n",
       "      <td>-0.007317</td>\n",
       "    </tr>\n",
       "    <tr>\n",
       "      <th>tax_5%</th>\n",
       "      <td>0.633962</td>\n",
       "      <td>0.705510</td>\n",
       "      <td>1.000000</td>\n",
       "      <td>1.000000</td>\n",
       "      <td>1.000000</td>\n",
       "      <td>NaN</td>\n",
       "      <td>1.000000</td>\n",
       "      <td>-0.036442</td>\n",
       "      <td>NaN</td>\n",
       "      <td>-0.022301</td>\n",
       "      <td>-0.002770</td>\n",
       "    </tr>\n",
       "    <tr>\n",
       "      <th>total</th>\n",
       "      <td>0.633962</td>\n",
       "      <td>0.705510</td>\n",
       "      <td>1.000000</td>\n",
       "      <td>1.000000</td>\n",
       "      <td>1.000000</td>\n",
       "      <td>NaN</td>\n",
       "      <td>1.000000</td>\n",
       "      <td>-0.036442</td>\n",
       "      <td>NaN</td>\n",
       "      <td>-0.022301</td>\n",
       "      <td>-0.002770</td>\n",
       "    </tr>\n",
       "    <tr>\n",
       "      <th>cogs</th>\n",
       "      <td>0.633962</td>\n",
       "      <td>0.705510</td>\n",
       "      <td>1.000000</td>\n",
       "      <td>1.000000</td>\n",
       "      <td>1.000000</td>\n",
       "      <td>NaN</td>\n",
       "      <td>1.000000</td>\n",
       "      <td>-0.036442</td>\n",
       "      <td>NaN</td>\n",
       "      <td>-0.022301</td>\n",
       "      <td>-0.002770</td>\n",
       "    </tr>\n",
       "    <tr>\n",
       "      <th>gross_margin_percentage</th>\n",
       "      <td>NaN</td>\n",
       "      <td>NaN</td>\n",
       "      <td>NaN</td>\n",
       "      <td>NaN</td>\n",
       "      <td>NaN</td>\n",
       "      <td>NaN</td>\n",
       "      <td>NaN</td>\n",
       "      <td>NaN</td>\n",
       "      <td>NaN</td>\n",
       "      <td>NaN</td>\n",
       "      <td>NaN</td>\n",
       "    </tr>\n",
       "    <tr>\n",
       "      <th>gross_income</th>\n",
       "      <td>0.633962</td>\n",
       "      <td>0.705510</td>\n",
       "      <td>1.000000</td>\n",
       "      <td>1.000000</td>\n",
       "      <td>1.000000</td>\n",
       "      <td>NaN</td>\n",
       "      <td>1.000000</td>\n",
       "      <td>-0.036442</td>\n",
       "      <td>NaN</td>\n",
       "      <td>-0.022301</td>\n",
       "      <td>-0.002770</td>\n",
       "    </tr>\n",
       "    <tr>\n",
       "      <th>rating</th>\n",
       "      <td>-0.008778</td>\n",
       "      <td>-0.015815</td>\n",
       "      <td>-0.036442</td>\n",
       "      <td>-0.036442</td>\n",
       "      <td>-0.036442</td>\n",
       "      <td>NaN</td>\n",
       "      <td>-0.036442</td>\n",
       "      <td>1.000000</td>\n",
       "      <td>NaN</td>\n",
       "      <td>-0.042880</td>\n",
       "      <td>-0.030588</td>\n",
       "    </tr>\n",
       "    <tr>\n",
       "      <th>year</th>\n",
       "      <td>NaN</td>\n",
       "      <td>NaN</td>\n",
       "      <td>NaN</td>\n",
       "      <td>NaN</td>\n",
       "      <td>NaN</td>\n",
       "      <td>NaN</td>\n",
       "      <td>NaN</td>\n",
       "      <td>NaN</td>\n",
       "      <td>NaN</td>\n",
       "      <td>NaN</td>\n",
       "      <td>NaN</td>\n",
       "    </tr>\n",
       "    <tr>\n",
       "      <th>month</th>\n",
       "      <td>-0.027387</td>\n",
       "      <td>-0.014524</td>\n",
       "      <td>-0.022301</td>\n",
       "      <td>-0.022301</td>\n",
       "      <td>-0.022301</td>\n",
       "      <td>NaN</td>\n",
       "      <td>-0.022301</td>\n",
       "      <td>-0.042880</td>\n",
       "      <td>NaN</td>\n",
       "      <td>1.000000</td>\n",
       "      <td>0.043762</td>\n",
       "    </tr>\n",
       "    <tr>\n",
       "      <th>hour</th>\n",
       "      <td>0.008242</td>\n",
       "      <td>-0.007317</td>\n",
       "      <td>-0.002770</td>\n",
       "      <td>-0.002770</td>\n",
       "      <td>-0.002770</td>\n",
       "      <td>NaN</td>\n",
       "      <td>-0.002770</td>\n",
       "      <td>-0.030588</td>\n",
       "      <td>NaN</td>\n",
       "      <td>0.043762</td>\n",
       "      <td>1.000000</td>\n",
       "    </tr>\n",
       "  </tbody>\n",
       "</table>\n",
       "</div>"
      ],
      "text/plain": [
       "                         unit_price  quantity    tax_5%     total      cogs  \\\n",
       "unit_price                 1.000000  0.010778  0.633962  0.633962  0.633962   \n",
       "quantity                   0.010778  1.000000  0.705510  0.705510  0.705510   \n",
       "tax_5%                     0.633962  0.705510  1.000000  1.000000  1.000000   \n",
       "total                      0.633962  0.705510  1.000000  1.000000  1.000000   \n",
       "cogs                       0.633962  0.705510  1.000000  1.000000  1.000000   \n",
       "gross_margin_percentage         NaN       NaN       NaN       NaN       NaN   \n",
       "gross_income               0.633962  0.705510  1.000000  1.000000  1.000000   \n",
       "rating                    -0.008778 -0.015815 -0.036442 -0.036442 -0.036442   \n",
       "year                            NaN       NaN       NaN       NaN       NaN   \n",
       "month                     -0.027387 -0.014524 -0.022301 -0.022301 -0.022301   \n",
       "hour                       0.008242 -0.007317 -0.002770 -0.002770 -0.002770   \n",
       "\n",
       "                         gross_margin_percentage  gross_income    rating  \\\n",
       "unit_price                                   NaN      0.633962 -0.008778   \n",
       "quantity                                     NaN      0.705510 -0.015815   \n",
       "tax_5%                                       NaN      1.000000 -0.036442   \n",
       "total                                        NaN      1.000000 -0.036442   \n",
       "cogs                                         NaN      1.000000 -0.036442   \n",
       "gross_margin_percentage                      NaN           NaN       NaN   \n",
       "gross_income                                 NaN      1.000000 -0.036442   \n",
       "rating                                       NaN     -0.036442  1.000000   \n",
       "year                                         NaN           NaN       NaN   \n",
       "month                                        NaN     -0.022301 -0.042880   \n",
       "hour                                         NaN     -0.002770 -0.030588   \n",
       "\n",
       "                         year     month      hour  \n",
       "unit_price                NaN -0.027387  0.008242  \n",
       "quantity                  NaN -0.014524 -0.007317  \n",
       "tax_5%                    NaN -0.022301 -0.002770  \n",
       "total                     NaN -0.022301 -0.002770  \n",
       "cogs                      NaN -0.022301 -0.002770  \n",
       "gross_margin_percentage   NaN       NaN       NaN  \n",
       "gross_income              NaN -0.022301 -0.002770  \n",
       "rating                    NaN -0.042880 -0.030588  \n",
       "year                      NaN       NaN       NaN  \n",
       "month                     NaN  1.000000  0.043762  \n",
       "hour                      NaN  0.043762  1.000000  "
      ]
     },
     "execution_count": 227,
     "metadata": {},
     "output_type": "execute_result"
    }
   ],
   "source": [
    "corr=df.corr(numeric_only=True)\n",
    "corr"
   ]
  },
  {
   "cell_type": "code",
   "execution_count": 248,
   "id": "94ff6fbd",
   "metadata": {},
   "outputs": [
    {
     "data": {
      "application/vnd.plotly.v1+json": {
       "config": {
        "plotlyServerURL": "https://plot.ly"
       },
       "data": [
        {
         "coloraxis": "coloraxis",
         "hovertemplate": "x: %{x}<br>y: %{y}<br>color: %{z}<extra></extra>",
         "name": "0",
         "texttemplate": "%{z}",
         "type": "heatmap",
         "x": [
          "unit_price",
          "quantity",
          "tax_5%",
          "total",
          "cogs",
          "gross_margin_percentage",
          "gross_income",
          "rating",
          "year",
          "month",
          "hour"
         ],
         "xaxis": "x",
         "y": [
          "unit_price",
          "quantity",
          "tax_5%",
          "total",
          "cogs",
          "gross_margin_percentage",
          "gross_income",
          "rating",
          "year",
          "month",
          "hour"
         ],
         "yaxis": "y",
         "z": [
          [
           1,
           0.010777564342497253,
           0.6339620885890688,
           0.6339620885890689,
           0.633962088589068,
           null,
           0.6339620885890688,
           -0.008777507200778936,
           null,
           -0.027387185843752323,
           0.008242210490677922
          ],
          [
           0.010777564342497253,
           1,
           0.7055101859433074,
           0.7055101859433058,
           0.7055101859433045,
           null,
           0.7055101859433074,
           -0.015814904627167052,
           null,
           -0.01452427615261054,
           -0.007316886044428513
          ],
          [
           0.6339620885890688,
           0.7055101859433074,
           1,
           0.9999999999999989,
           0.9999999999999991,
           null,
           1,
           -0.03644170499701844,
           null,
           -0.022301340273442178,
           -0.002770440003255753
          ],
          [
           0.6339620885890689,
           0.7055101859433058,
           0.9999999999999989,
           1,
           0.9999999999999984,
           null,
           0.9999999999999989,
           -0.03644170499701849,
           null,
           -0.02230134027344226,
           -0.00277044000325587
          ],
          [
           0.633962088589068,
           0.7055101859433045,
           0.9999999999999991,
           0.9999999999999984,
           1,
           null,
           0.999999999999999,
           -0.03644170499701842,
           null,
           -0.022301340273442227,
           -0.002770440003255828
          ],
          [
           null,
           null,
           null,
           null,
           null,
           null,
           null,
           null,
           null,
           null,
           null
          ],
          [
           0.6339620885890688,
           0.7055101859433074,
           1,
           0.9999999999999989,
           0.999999999999999,
           null,
           1,
           -0.03644170499701844,
           null,
           -0.022301340273442178,
           -0.002770440003255753
          ],
          [
           -0.008777507200778936,
           -0.015814904627167052,
           -0.03644170499701844,
           -0.03644170499701849,
           -0.03644170499701842,
           null,
           -0.03644170499701844,
           1,
           null,
           -0.04288037428174041,
           -0.030587643622234414
          ],
          [
           null,
           null,
           null,
           null,
           null,
           null,
           null,
           null,
           null,
           null,
           null
          ],
          [
           -0.027387185843752323,
           -0.01452427615261054,
           -0.022301340273442178,
           -0.02230134027344226,
           -0.022301340273442227,
           null,
           -0.022301340273442178,
           -0.04288037428174041,
           null,
           1,
           0.0437617441552335
          ],
          [
           0.008242210490677922,
           -0.007316886044428513,
           -0.002770440003255753,
           -0.00277044000325587,
           -0.002770440003255828,
           null,
           -0.002770440003255753,
           -0.030587643622234414,
           null,
           0.0437617441552335,
           1
          ]
         ]
        }
       ],
       "layout": {
        "coloraxis": {
         "colorscale": [
          [
           0,
           "#0d0887"
          ],
          [
           0.1111111111111111,
           "#46039f"
          ],
          [
           0.2222222222222222,
           "#7201a8"
          ],
          [
           0.3333333333333333,
           "#9c179e"
          ],
          [
           0.4444444444444444,
           "#bd3786"
          ],
          [
           0.5555555555555556,
           "#d8576b"
          ],
          [
           0.6666666666666666,
           "#ed7953"
          ],
          [
           0.7777777777777778,
           "#fb9f3a"
          ],
          [
           0.8888888888888888,
           "#fdca26"
          ],
          [
           1,
           "#f0f921"
          ]
         ]
        },
        "height": 900,
        "margin": {
         "t": 60
        },
        "template": {
         "data": {
          "bar": [
           {
            "error_x": {
             "color": "#2a3f5f"
            },
            "error_y": {
             "color": "#2a3f5f"
            },
            "marker": {
             "line": {
              "color": "#E5ECF6",
              "width": 0.5
             },
             "pattern": {
              "fillmode": "overlay",
              "size": 10,
              "solidity": 0.2
             }
            },
            "type": "bar"
           }
          ],
          "barpolar": [
           {
            "marker": {
             "line": {
              "color": "#E5ECF6",
              "width": 0.5
             },
             "pattern": {
              "fillmode": "overlay",
              "size": 10,
              "solidity": 0.2
             }
            },
            "type": "barpolar"
           }
          ],
          "carpet": [
           {
            "aaxis": {
             "endlinecolor": "#2a3f5f",
             "gridcolor": "white",
             "linecolor": "white",
             "minorgridcolor": "white",
             "startlinecolor": "#2a3f5f"
            },
            "baxis": {
             "endlinecolor": "#2a3f5f",
             "gridcolor": "white",
             "linecolor": "white",
             "minorgridcolor": "white",
             "startlinecolor": "#2a3f5f"
            },
            "type": "carpet"
           }
          ],
          "choropleth": [
           {
            "colorbar": {
             "outlinewidth": 0,
             "ticks": ""
            },
            "type": "choropleth"
           }
          ],
          "contour": [
           {
            "colorbar": {
             "outlinewidth": 0,
             "ticks": ""
            },
            "colorscale": [
             [
              0,
              "#0d0887"
             ],
             [
              0.1111111111111111,
              "#46039f"
             ],
             [
              0.2222222222222222,
              "#7201a8"
             ],
             [
              0.3333333333333333,
              "#9c179e"
             ],
             [
              0.4444444444444444,
              "#bd3786"
             ],
             [
              0.5555555555555556,
              "#d8576b"
             ],
             [
              0.6666666666666666,
              "#ed7953"
             ],
             [
              0.7777777777777778,
              "#fb9f3a"
             ],
             [
              0.8888888888888888,
              "#fdca26"
             ],
             [
              1,
              "#f0f921"
             ]
            ],
            "type": "contour"
           }
          ],
          "contourcarpet": [
           {
            "colorbar": {
             "outlinewidth": 0,
             "ticks": ""
            },
            "type": "contourcarpet"
           }
          ],
          "heatmap": [
           {
            "colorbar": {
             "outlinewidth": 0,
             "ticks": ""
            },
            "colorscale": [
             [
              0,
              "#0d0887"
             ],
             [
              0.1111111111111111,
              "#46039f"
             ],
             [
              0.2222222222222222,
              "#7201a8"
             ],
             [
              0.3333333333333333,
              "#9c179e"
             ],
             [
              0.4444444444444444,
              "#bd3786"
             ],
             [
              0.5555555555555556,
              "#d8576b"
             ],
             [
              0.6666666666666666,
              "#ed7953"
             ],
             [
              0.7777777777777778,
              "#fb9f3a"
             ],
             [
              0.8888888888888888,
              "#fdca26"
             ],
             [
              1,
              "#f0f921"
             ]
            ],
            "type": "heatmap"
           }
          ],
          "heatmapgl": [
           {
            "colorbar": {
             "outlinewidth": 0,
             "ticks": ""
            },
            "colorscale": [
             [
              0,
              "#0d0887"
             ],
             [
              0.1111111111111111,
              "#46039f"
             ],
             [
              0.2222222222222222,
              "#7201a8"
             ],
             [
              0.3333333333333333,
              "#9c179e"
             ],
             [
              0.4444444444444444,
              "#bd3786"
             ],
             [
              0.5555555555555556,
              "#d8576b"
             ],
             [
              0.6666666666666666,
              "#ed7953"
             ],
             [
              0.7777777777777778,
              "#fb9f3a"
             ],
             [
              0.8888888888888888,
              "#fdca26"
             ],
             [
              1,
              "#f0f921"
             ]
            ],
            "type": "heatmapgl"
           }
          ],
          "histogram": [
           {
            "marker": {
             "pattern": {
              "fillmode": "overlay",
              "size": 10,
              "solidity": 0.2
             }
            },
            "type": "histogram"
           }
          ],
          "histogram2d": [
           {
            "colorbar": {
             "outlinewidth": 0,
             "ticks": ""
            },
            "colorscale": [
             [
              0,
              "#0d0887"
             ],
             [
              0.1111111111111111,
              "#46039f"
             ],
             [
              0.2222222222222222,
              "#7201a8"
             ],
             [
              0.3333333333333333,
              "#9c179e"
             ],
             [
              0.4444444444444444,
              "#bd3786"
             ],
             [
              0.5555555555555556,
              "#d8576b"
             ],
             [
              0.6666666666666666,
              "#ed7953"
             ],
             [
              0.7777777777777778,
              "#fb9f3a"
             ],
             [
              0.8888888888888888,
              "#fdca26"
             ],
             [
              1,
              "#f0f921"
             ]
            ],
            "type": "histogram2d"
           }
          ],
          "histogram2dcontour": [
           {
            "colorbar": {
             "outlinewidth": 0,
             "ticks": ""
            },
            "colorscale": [
             [
              0,
              "#0d0887"
             ],
             [
              0.1111111111111111,
              "#46039f"
             ],
             [
              0.2222222222222222,
              "#7201a8"
             ],
             [
              0.3333333333333333,
              "#9c179e"
             ],
             [
              0.4444444444444444,
              "#bd3786"
             ],
             [
              0.5555555555555556,
              "#d8576b"
             ],
             [
              0.6666666666666666,
              "#ed7953"
             ],
             [
              0.7777777777777778,
              "#fb9f3a"
             ],
             [
              0.8888888888888888,
              "#fdca26"
             ],
             [
              1,
              "#f0f921"
             ]
            ],
            "type": "histogram2dcontour"
           }
          ],
          "mesh3d": [
           {
            "colorbar": {
             "outlinewidth": 0,
             "ticks": ""
            },
            "type": "mesh3d"
           }
          ],
          "parcoords": [
           {
            "line": {
             "colorbar": {
              "outlinewidth": 0,
              "ticks": ""
             }
            },
            "type": "parcoords"
           }
          ],
          "pie": [
           {
            "automargin": true,
            "type": "pie"
           }
          ],
          "scatter": [
           {
            "fillpattern": {
             "fillmode": "overlay",
             "size": 10,
             "solidity": 0.2
            },
            "type": "scatter"
           }
          ],
          "scatter3d": [
           {
            "line": {
             "colorbar": {
              "outlinewidth": 0,
              "ticks": ""
             }
            },
            "marker": {
             "colorbar": {
              "outlinewidth": 0,
              "ticks": ""
             }
            },
            "type": "scatter3d"
           }
          ],
          "scattercarpet": [
           {
            "marker": {
             "colorbar": {
              "outlinewidth": 0,
              "ticks": ""
             }
            },
            "type": "scattercarpet"
           }
          ],
          "scattergeo": [
           {
            "marker": {
             "colorbar": {
              "outlinewidth": 0,
              "ticks": ""
             }
            },
            "type": "scattergeo"
           }
          ],
          "scattergl": [
           {
            "marker": {
             "colorbar": {
              "outlinewidth": 0,
              "ticks": ""
             }
            },
            "type": "scattergl"
           }
          ],
          "scattermapbox": [
           {
            "marker": {
             "colorbar": {
              "outlinewidth": 0,
              "ticks": ""
             }
            },
            "type": "scattermapbox"
           }
          ],
          "scatterpolar": [
           {
            "marker": {
             "colorbar": {
              "outlinewidth": 0,
              "ticks": ""
             }
            },
            "type": "scatterpolar"
           }
          ],
          "scatterpolargl": [
           {
            "marker": {
             "colorbar": {
              "outlinewidth": 0,
              "ticks": ""
             }
            },
            "type": "scatterpolargl"
           }
          ],
          "scatterternary": [
           {
            "marker": {
             "colorbar": {
              "outlinewidth": 0,
              "ticks": ""
             }
            },
            "type": "scatterternary"
           }
          ],
          "surface": [
           {
            "colorbar": {
             "outlinewidth": 0,
             "ticks": ""
            },
            "colorscale": [
             [
              0,
              "#0d0887"
             ],
             [
              0.1111111111111111,
              "#46039f"
             ],
             [
              0.2222222222222222,
              "#7201a8"
             ],
             [
              0.3333333333333333,
              "#9c179e"
             ],
             [
              0.4444444444444444,
              "#bd3786"
             ],
             [
              0.5555555555555556,
              "#d8576b"
             ],
             [
              0.6666666666666666,
              "#ed7953"
             ],
             [
              0.7777777777777778,
              "#fb9f3a"
             ],
             [
              0.8888888888888888,
              "#fdca26"
             ],
             [
              1,
              "#f0f921"
             ]
            ],
            "type": "surface"
           }
          ],
          "table": [
           {
            "cells": {
             "fill": {
              "color": "#EBF0F8"
             },
             "line": {
              "color": "white"
             }
            },
            "header": {
             "fill": {
              "color": "#C8D4E3"
             },
             "line": {
              "color": "white"
             }
            },
            "type": "table"
           }
          ]
         },
         "layout": {
          "annotationdefaults": {
           "arrowcolor": "#2a3f5f",
           "arrowhead": 0,
           "arrowwidth": 1
          },
          "autotypenumbers": "strict",
          "coloraxis": {
           "colorbar": {
            "outlinewidth": 0,
            "ticks": ""
           }
          },
          "colorscale": {
           "diverging": [
            [
             0,
             "#8e0152"
            ],
            [
             0.1,
             "#c51b7d"
            ],
            [
             0.2,
             "#de77ae"
            ],
            [
             0.3,
             "#f1b6da"
            ],
            [
             0.4,
             "#fde0ef"
            ],
            [
             0.5,
             "#f7f7f7"
            ],
            [
             0.6,
             "#e6f5d0"
            ],
            [
             0.7,
             "#b8e186"
            ],
            [
             0.8,
             "#7fbc41"
            ],
            [
             0.9,
             "#4d9221"
            ],
            [
             1,
             "#276419"
            ]
           ],
           "sequential": [
            [
             0,
             "#0d0887"
            ],
            [
             0.1111111111111111,
             "#46039f"
            ],
            [
             0.2222222222222222,
             "#7201a8"
            ],
            [
             0.3333333333333333,
             "#9c179e"
            ],
            [
             0.4444444444444444,
             "#bd3786"
            ],
            [
             0.5555555555555556,
             "#d8576b"
            ],
            [
             0.6666666666666666,
             "#ed7953"
            ],
            [
             0.7777777777777778,
             "#fb9f3a"
            ],
            [
             0.8888888888888888,
             "#fdca26"
            ],
            [
             1,
             "#f0f921"
            ]
           ],
           "sequentialminus": [
            [
             0,
             "#0d0887"
            ],
            [
             0.1111111111111111,
             "#46039f"
            ],
            [
             0.2222222222222222,
             "#7201a8"
            ],
            [
             0.3333333333333333,
             "#9c179e"
            ],
            [
             0.4444444444444444,
             "#bd3786"
            ],
            [
             0.5555555555555556,
             "#d8576b"
            ],
            [
             0.6666666666666666,
             "#ed7953"
            ],
            [
             0.7777777777777778,
             "#fb9f3a"
            ],
            [
             0.8888888888888888,
             "#fdca26"
            ],
            [
             1,
             "#f0f921"
            ]
           ]
          },
          "colorway": [
           "#636efa",
           "#EF553B",
           "#00cc96",
           "#ab63fa",
           "#FFA15A",
           "#19d3f3",
           "#FF6692",
           "#B6E880",
           "#FF97FF",
           "#FECB52"
          ],
          "font": {
           "color": "#2a3f5f"
          },
          "geo": {
           "bgcolor": "white",
           "lakecolor": "white",
           "landcolor": "#E5ECF6",
           "showlakes": true,
           "showland": true,
           "subunitcolor": "white"
          },
          "hoverlabel": {
           "align": "left"
          },
          "hovermode": "closest",
          "mapbox": {
           "style": "light"
          },
          "paper_bgcolor": "white",
          "plot_bgcolor": "#E5ECF6",
          "polar": {
           "angularaxis": {
            "gridcolor": "white",
            "linecolor": "white",
            "ticks": ""
           },
           "bgcolor": "#E5ECF6",
           "radialaxis": {
            "gridcolor": "white",
            "linecolor": "white",
            "ticks": ""
           }
          },
          "scene": {
           "xaxis": {
            "backgroundcolor": "#E5ECF6",
            "gridcolor": "white",
            "gridwidth": 2,
            "linecolor": "white",
            "showbackground": true,
            "ticks": "",
            "zerolinecolor": "white"
           },
           "yaxis": {
            "backgroundcolor": "#E5ECF6",
            "gridcolor": "white",
            "gridwidth": 2,
            "linecolor": "white",
            "showbackground": true,
            "ticks": "",
            "zerolinecolor": "white"
           },
           "zaxis": {
            "backgroundcolor": "#E5ECF6",
            "gridcolor": "white",
            "gridwidth": 2,
            "linecolor": "white",
            "showbackground": true,
            "ticks": "",
            "zerolinecolor": "white"
           }
          },
          "shapedefaults": {
           "line": {
            "color": "#2a3f5f"
           }
          },
          "ternary": {
           "aaxis": {
            "gridcolor": "white",
            "linecolor": "white",
            "ticks": ""
           },
           "baxis": {
            "gridcolor": "white",
            "linecolor": "white",
            "ticks": ""
           },
           "bgcolor": "#E5ECF6",
           "caxis": {
            "gridcolor": "white",
            "linecolor": "white",
            "ticks": ""
           }
          },
          "title": {
           "x": 0.05
          },
          "xaxis": {
           "automargin": true,
           "gridcolor": "white",
           "linecolor": "white",
           "ticks": "",
           "title": {
            "standoff": 15
           },
           "zerolinecolor": "white",
           "zerolinewidth": 2
          },
          "yaxis": {
           "automargin": true,
           "gridcolor": "white",
           "linecolor": "white",
           "ticks": "",
           "title": {
            "standoff": 15
           },
           "zerolinecolor": "white",
           "zerolinewidth": 2
          }
         }
        },
        "width": 1000,
        "xaxis": {
         "anchor": "y",
         "constrain": "domain",
         "domain": [
          0,
          1
         ],
         "scaleanchor": "y"
        },
        "yaxis": {
         "anchor": "x",
         "autorange": "reversed",
         "constrain": "domain",
         "domain": [
          0,
          1
         ]
        }
       }
      }
     },
     "metadata": {},
     "output_type": "display_data"
    }
   ],
   "source": [
    "px.imshow(corr, text_auto=True, width=1000,height=900)"
   ]
  },
  {
   "cell_type": "code",
   "execution_count": 164,
   "id": "0cbf4b4f",
   "metadata": {},
   "outputs": [
    {
     "data": {
      "application/vnd.microsoft.datawrangler.viewer.v0+json": {
       "columns": [
        {
         "name": "index",
         "rawType": "int64",
         "type": "integer"
        },
        {
         "name": "product_line",
         "rawType": "object",
         "type": "string"
        },
        {
         "name": "branch",
         "rawType": "object",
         "type": "string"
        },
        {
         "name": "total",
         "rawType": "float64",
         "type": "float"
        }
       ],
       "ref": "9500a953-4feb-4a5c-94bd-498668959a20",
       "rows": [
        [
         "0",
         "Electronic accessories",
         "A",
         "18317.1135"
        ],
        [
         "1",
         "Electronic accessories",
         "B",
         "17051.4435"
        ],
        [
         "2",
         "Electronic accessories",
         "C",
         "18968.9745"
        ],
        [
         "3",
         "Fashion accessories",
         "A",
         "16332.5085"
        ],
        [
         "4",
         "Fashion accessories",
         "B",
         "16413.3165"
        ],
        [
         "5",
         "Fashion accessories",
         "C",
         "21560.07"
        ],
        [
         "6",
         "Food and beverages",
         "A",
         "17163.1005"
        ],
        [
         "7",
         "Food and beverages",
         "B",
         "15214.8885"
        ],
        [
         "8",
         "Food and beverages",
         "C",
         "23766.855"
        ],
        [
         "9",
         "Health and beauty",
         "A",
         "12597.753"
        ],
        [
         "10",
         "Health and beauty",
         "B",
         "19980.66"
        ],
        [
         "11",
         "Health and beauty",
         "C",
         "16615.326"
        ],
        [
         "12",
         "Home and lifestyle",
         "A",
         "22417.1955"
        ],
        [
         "13",
         "Home and lifestyle",
         "B",
         "17549.1645"
        ],
        [
         "14",
         "Home and lifestyle",
         "C",
         "13895.553"
        ],
        [
         "15",
         "Sports and travel",
         "A",
         "19372.6995"
        ],
        [
         "16",
         "Sports and travel",
         "B",
         "19988.199"
        ],
        [
         "17",
         "Sports and travel",
         "C",
         "15761.928"
        ]
       ],
       "shape": {
        "columns": 3,
        "rows": 18
       }
      },
      "text/html": [
       "<div>\n",
       "<style scoped>\n",
       "    .dataframe tbody tr th:only-of-type {\n",
       "        vertical-align: middle;\n",
       "    }\n",
       "\n",
       "    .dataframe tbody tr th {\n",
       "        vertical-align: top;\n",
       "    }\n",
       "\n",
       "    .dataframe thead th {\n",
       "        text-align: right;\n",
       "    }\n",
       "</style>\n",
       "<table border=\"1\" class=\"dataframe\">\n",
       "  <thead>\n",
       "    <tr style=\"text-align: right;\">\n",
       "      <th></th>\n",
       "      <th>product_line</th>\n",
       "      <th>branch</th>\n",
       "      <th>total</th>\n",
       "    </tr>\n",
       "  </thead>\n",
       "  <tbody>\n",
       "    <tr>\n",
       "      <th>0</th>\n",
       "      <td>Electronic accessories</td>\n",
       "      <td>A</td>\n",
       "      <td>18317.1135</td>\n",
       "    </tr>\n",
       "    <tr>\n",
       "      <th>1</th>\n",
       "      <td>Electronic accessories</td>\n",
       "      <td>B</td>\n",
       "      <td>17051.4435</td>\n",
       "    </tr>\n",
       "    <tr>\n",
       "      <th>2</th>\n",
       "      <td>Electronic accessories</td>\n",
       "      <td>C</td>\n",
       "      <td>18968.9745</td>\n",
       "    </tr>\n",
       "    <tr>\n",
       "      <th>3</th>\n",
       "      <td>Fashion accessories</td>\n",
       "      <td>A</td>\n",
       "      <td>16332.5085</td>\n",
       "    </tr>\n",
       "    <tr>\n",
       "      <th>4</th>\n",
       "      <td>Fashion accessories</td>\n",
       "      <td>B</td>\n",
       "      <td>16413.3165</td>\n",
       "    </tr>\n",
       "    <tr>\n",
       "      <th>5</th>\n",
       "      <td>Fashion accessories</td>\n",
       "      <td>C</td>\n",
       "      <td>21560.0700</td>\n",
       "    </tr>\n",
       "    <tr>\n",
       "      <th>6</th>\n",
       "      <td>Food and beverages</td>\n",
       "      <td>A</td>\n",
       "      <td>17163.1005</td>\n",
       "    </tr>\n",
       "    <tr>\n",
       "      <th>7</th>\n",
       "      <td>Food and beverages</td>\n",
       "      <td>B</td>\n",
       "      <td>15214.8885</td>\n",
       "    </tr>\n",
       "    <tr>\n",
       "      <th>8</th>\n",
       "      <td>Food and beverages</td>\n",
       "      <td>C</td>\n",
       "      <td>23766.8550</td>\n",
       "    </tr>\n",
       "    <tr>\n",
       "      <th>9</th>\n",
       "      <td>Health and beauty</td>\n",
       "      <td>A</td>\n",
       "      <td>12597.7530</td>\n",
       "    </tr>\n",
       "    <tr>\n",
       "      <th>10</th>\n",
       "      <td>Health and beauty</td>\n",
       "      <td>B</td>\n",
       "      <td>19980.6600</td>\n",
       "    </tr>\n",
       "    <tr>\n",
       "      <th>11</th>\n",
       "      <td>Health and beauty</td>\n",
       "      <td>C</td>\n",
       "      <td>16615.3260</td>\n",
       "    </tr>\n",
       "    <tr>\n",
       "      <th>12</th>\n",
       "      <td>Home and lifestyle</td>\n",
       "      <td>A</td>\n",
       "      <td>22417.1955</td>\n",
       "    </tr>\n",
       "    <tr>\n",
       "      <th>13</th>\n",
       "      <td>Home and lifestyle</td>\n",
       "      <td>B</td>\n",
       "      <td>17549.1645</td>\n",
       "    </tr>\n",
       "    <tr>\n",
       "      <th>14</th>\n",
       "      <td>Home and lifestyle</td>\n",
       "      <td>C</td>\n",
       "      <td>13895.5530</td>\n",
       "    </tr>\n",
       "    <tr>\n",
       "      <th>15</th>\n",
       "      <td>Sports and travel</td>\n",
       "      <td>A</td>\n",
       "      <td>19372.6995</td>\n",
       "    </tr>\n",
       "    <tr>\n",
       "      <th>16</th>\n",
       "      <td>Sports and travel</td>\n",
       "      <td>B</td>\n",
       "      <td>19988.1990</td>\n",
       "    </tr>\n",
       "    <tr>\n",
       "      <th>17</th>\n",
       "      <td>Sports and travel</td>\n",
       "      <td>C</td>\n",
       "      <td>15761.9280</td>\n",
       "    </tr>\n",
       "  </tbody>\n",
       "</table>\n",
       "</div>"
      ],
      "text/plain": [
       "              product_line branch       total\n",
       "0   Electronic accessories      A  18317.1135\n",
       "1   Electronic accessories      B  17051.4435\n",
       "2   Electronic accessories      C  18968.9745\n",
       "3      Fashion accessories      A  16332.5085\n",
       "4      Fashion accessories      B  16413.3165\n",
       "5      Fashion accessories      C  21560.0700\n",
       "6       Food and beverages      A  17163.1005\n",
       "7       Food and beverages      B  15214.8885\n",
       "8       Food and beverages      C  23766.8550\n",
       "9        Health and beauty      A  12597.7530\n",
       "10       Health and beauty      B  19980.6600\n",
       "11       Health and beauty      C  16615.3260\n",
       "12      Home and lifestyle      A  22417.1955\n",
       "13      Home and lifestyle      B  17549.1645\n",
       "14      Home and lifestyle      C  13895.5530\n",
       "15       Sports and travel      A  19372.6995\n",
       "16       Sports and travel      B  19988.1990\n",
       "17       Sports and travel      C  15761.9280"
      ]
     },
     "execution_count": 164,
     "metadata": {},
     "output_type": "execute_result"
    }
   ],
   "source": [
    "dff=df.groupby(['product_line','branch'])['total'].sum().reset_index()\n",
    "dff"
   ]
  },
  {
   "cell_type": "code",
   "execution_count": 277,
   "id": "3c9023b8",
   "metadata": {},
   "outputs": [
    {
     "data": {
      "application/vnd.plotly.v1+json": {
       "config": {
        "plotlyServerURL": "https://plot.ly"
       },
       "data": [
        {
         "alignmentgroup": "True",
         "hovertemplate": "branch=A<br>product_line=%{x}<br>total=%{y}<extra></extra>",
         "legendgroup": "A",
         "marker": {
          "color": "#636efa",
          "pattern": {
           "shape": ""
          }
         },
         "name": "A",
         "offsetgroup": "A",
         "orientation": "v",
         "showlegend": true,
         "textposition": "auto",
         "type": "bar",
         "x": [
          "Electronic accessories",
          "Fashion accessories",
          "Food and beverages",
          "Health and beauty",
          "Home and lifestyle",
          "Sports and travel"
         ],
         "xaxis": "x",
         "y": [
          18317.1135,
          16332.5085,
          17163.1005,
          12597.753,
          22417.1955,
          19372.6995
         ],
         "yaxis": "y"
        },
        {
         "alignmentgroup": "True",
         "hovertemplate": "branch=B<br>product_line=%{x}<br>total=%{y}<extra></extra>",
         "legendgroup": "B",
         "marker": {
          "color": "#EF553B",
          "pattern": {
           "shape": ""
          }
         },
         "name": "B",
         "offsetgroup": "B",
         "orientation": "v",
         "showlegend": true,
         "textposition": "auto",
         "type": "bar",
         "x": [
          "Electronic accessories",
          "Fashion accessories",
          "Food and beverages",
          "Health and beauty",
          "Home and lifestyle",
          "Sports and travel"
         ],
         "xaxis": "x",
         "y": [
          17051.4435,
          16413.3165,
          15214.8885,
          19980.66,
          17549.1645,
          19988.199
         ],
         "yaxis": "y"
        },
        {
         "alignmentgroup": "True",
         "hovertemplate": "branch=C<br>product_line=%{x}<br>total=%{y}<extra></extra>",
         "legendgroup": "C",
         "marker": {
          "color": "#00cc96",
          "pattern": {
           "shape": ""
          }
         },
         "name": "C",
         "offsetgroup": "C",
         "orientation": "v",
         "showlegend": true,
         "textposition": "auto",
         "type": "bar",
         "x": [
          "Electronic accessories",
          "Fashion accessories",
          "Food and beverages",
          "Health and beauty",
          "Home and lifestyle",
          "Sports and travel"
         ],
         "xaxis": "x",
         "y": [
          18968.9745,
          21560.07,
          23766.855,
          16615.326,
          13895.553,
          15761.928
         ],
         "yaxis": "y"
        }
       ],
       "layout": {
        "barmode": "relative",
        "legend": {
         "title": {
          "text": "branch"
         },
         "tracegroupgap": 0
        },
        "template": {
         "data": {
          "bar": [
           {
            "error_x": {
             "color": "#2a3f5f"
            },
            "error_y": {
             "color": "#2a3f5f"
            },
            "marker": {
             "line": {
              "color": "#E5ECF6",
              "width": 0.5
             },
             "pattern": {
              "fillmode": "overlay",
              "size": 10,
              "solidity": 0.2
             }
            },
            "type": "bar"
           }
          ],
          "barpolar": [
           {
            "marker": {
             "line": {
              "color": "#E5ECF6",
              "width": 0.5
             },
             "pattern": {
              "fillmode": "overlay",
              "size": 10,
              "solidity": 0.2
             }
            },
            "type": "barpolar"
           }
          ],
          "carpet": [
           {
            "aaxis": {
             "endlinecolor": "#2a3f5f",
             "gridcolor": "white",
             "linecolor": "white",
             "minorgridcolor": "white",
             "startlinecolor": "#2a3f5f"
            },
            "baxis": {
             "endlinecolor": "#2a3f5f",
             "gridcolor": "white",
             "linecolor": "white",
             "minorgridcolor": "white",
             "startlinecolor": "#2a3f5f"
            },
            "type": "carpet"
           }
          ],
          "choropleth": [
           {
            "colorbar": {
             "outlinewidth": 0,
             "ticks": ""
            },
            "type": "choropleth"
           }
          ],
          "contour": [
           {
            "colorbar": {
             "outlinewidth": 0,
             "ticks": ""
            },
            "colorscale": [
             [
              0,
              "#0d0887"
             ],
             [
              0.1111111111111111,
              "#46039f"
             ],
             [
              0.2222222222222222,
              "#7201a8"
             ],
             [
              0.3333333333333333,
              "#9c179e"
             ],
             [
              0.4444444444444444,
              "#bd3786"
             ],
             [
              0.5555555555555556,
              "#d8576b"
             ],
             [
              0.6666666666666666,
              "#ed7953"
             ],
             [
              0.7777777777777778,
              "#fb9f3a"
             ],
             [
              0.8888888888888888,
              "#fdca26"
             ],
             [
              1,
              "#f0f921"
             ]
            ],
            "type": "contour"
           }
          ],
          "contourcarpet": [
           {
            "colorbar": {
             "outlinewidth": 0,
             "ticks": ""
            },
            "type": "contourcarpet"
           }
          ],
          "heatmap": [
           {
            "colorbar": {
             "outlinewidth": 0,
             "ticks": ""
            },
            "colorscale": [
             [
              0,
              "#0d0887"
             ],
             [
              0.1111111111111111,
              "#46039f"
             ],
             [
              0.2222222222222222,
              "#7201a8"
             ],
             [
              0.3333333333333333,
              "#9c179e"
             ],
             [
              0.4444444444444444,
              "#bd3786"
             ],
             [
              0.5555555555555556,
              "#d8576b"
             ],
             [
              0.6666666666666666,
              "#ed7953"
             ],
             [
              0.7777777777777778,
              "#fb9f3a"
             ],
             [
              0.8888888888888888,
              "#fdca26"
             ],
             [
              1,
              "#f0f921"
             ]
            ],
            "type": "heatmap"
           }
          ],
          "heatmapgl": [
           {
            "colorbar": {
             "outlinewidth": 0,
             "ticks": ""
            },
            "colorscale": [
             [
              0,
              "#0d0887"
             ],
             [
              0.1111111111111111,
              "#46039f"
             ],
             [
              0.2222222222222222,
              "#7201a8"
             ],
             [
              0.3333333333333333,
              "#9c179e"
             ],
             [
              0.4444444444444444,
              "#bd3786"
             ],
             [
              0.5555555555555556,
              "#d8576b"
             ],
             [
              0.6666666666666666,
              "#ed7953"
             ],
             [
              0.7777777777777778,
              "#fb9f3a"
             ],
             [
              0.8888888888888888,
              "#fdca26"
             ],
             [
              1,
              "#f0f921"
             ]
            ],
            "type": "heatmapgl"
           }
          ],
          "histogram": [
           {
            "marker": {
             "pattern": {
              "fillmode": "overlay",
              "size": 10,
              "solidity": 0.2
             }
            },
            "type": "histogram"
           }
          ],
          "histogram2d": [
           {
            "colorbar": {
             "outlinewidth": 0,
             "ticks": ""
            },
            "colorscale": [
             [
              0,
              "#0d0887"
             ],
             [
              0.1111111111111111,
              "#46039f"
             ],
             [
              0.2222222222222222,
              "#7201a8"
             ],
             [
              0.3333333333333333,
              "#9c179e"
             ],
             [
              0.4444444444444444,
              "#bd3786"
             ],
             [
              0.5555555555555556,
              "#d8576b"
             ],
             [
              0.6666666666666666,
              "#ed7953"
             ],
             [
              0.7777777777777778,
              "#fb9f3a"
             ],
             [
              0.8888888888888888,
              "#fdca26"
             ],
             [
              1,
              "#f0f921"
             ]
            ],
            "type": "histogram2d"
           }
          ],
          "histogram2dcontour": [
           {
            "colorbar": {
             "outlinewidth": 0,
             "ticks": ""
            },
            "colorscale": [
             [
              0,
              "#0d0887"
             ],
             [
              0.1111111111111111,
              "#46039f"
             ],
             [
              0.2222222222222222,
              "#7201a8"
             ],
             [
              0.3333333333333333,
              "#9c179e"
             ],
             [
              0.4444444444444444,
              "#bd3786"
             ],
             [
              0.5555555555555556,
              "#d8576b"
             ],
             [
              0.6666666666666666,
              "#ed7953"
             ],
             [
              0.7777777777777778,
              "#fb9f3a"
             ],
             [
              0.8888888888888888,
              "#fdca26"
             ],
             [
              1,
              "#f0f921"
             ]
            ],
            "type": "histogram2dcontour"
           }
          ],
          "mesh3d": [
           {
            "colorbar": {
             "outlinewidth": 0,
             "ticks": ""
            },
            "type": "mesh3d"
           }
          ],
          "parcoords": [
           {
            "line": {
             "colorbar": {
              "outlinewidth": 0,
              "ticks": ""
             }
            },
            "type": "parcoords"
           }
          ],
          "pie": [
           {
            "automargin": true,
            "type": "pie"
           }
          ],
          "scatter": [
           {
            "fillpattern": {
             "fillmode": "overlay",
             "size": 10,
             "solidity": 0.2
            },
            "type": "scatter"
           }
          ],
          "scatter3d": [
           {
            "line": {
             "colorbar": {
              "outlinewidth": 0,
              "ticks": ""
             }
            },
            "marker": {
             "colorbar": {
              "outlinewidth": 0,
              "ticks": ""
             }
            },
            "type": "scatter3d"
           }
          ],
          "scattercarpet": [
           {
            "marker": {
             "colorbar": {
              "outlinewidth": 0,
              "ticks": ""
             }
            },
            "type": "scattercarpet"
           }
          ],
          "scattergeo": [
           {
            "marker": {
             "colorbar": {
              "outlinewidth": 0,
              "ticks": ""
             }
            },
            "type": "scattergeo"
           }
          ],
          "scattergl": [
           {
            "marker": {
             "colorbar": {
              "outlinewidth": 0,
              "ticks": ""
             }
            },
            "type": "scattergl"
           }
          ],
          "scattermapbox": [
           {
            "marker": {
             "colorbar": {
              "outlinewidth": 0,
              "ticks": ""
             }
            },
            "type": "scattermapbox"
           }
          ],
          "scatterpolar": [
           {
            "marker": {
             "colorbar": {
              "outlinewidth": 0,
              "ticks": ""
             }
            },
            "type": "scatterpolar"
           }
          ],
          "scatterpolargl": [
           {
            "marker": {
             "colorbar": {
              "outlinewidth": 0,
              "ticks": ""
             }
            },
            "type": "scatterpolargl"
           }
          ],
          "scatterternary": [
           {
            "marker": {
             "colorbar": {
              "outlinewidth": 0,
              "ticks": ""
             }
            },
            "type": "scatterternary"
           }
          ],
          "surface": [
           {
            "colorbar": {
             "outlinewidth": 0,
             "ticks": ""
            },
            "colorscale": [
             [
              0,
              "#0d0887"
             ],
             [
              0.1111111111111111,
              "#46039f"
             ],
             [
              0.2222222222222222,
              "#7201a8"
             ],
             [
              0.3333333333333333,
              "#9c179e"
             ],
             [
              0.4444444444444444,
              "#bd3786"
             ],
             [
              0.5555555555555556,
              "#d8576b"
             ],
             [
              0.6666666666666666,
              "#ed7953"
             ],
             [
              0.7777777777777778,
              "#fb9f3a"
             ],
             [
              0.8888888888888888,
              "#fdca26"
             ],
             [
              1,
              "#f0f921"
             ]
            ],
            "type": "surface"
           }
          ],
          "table": [
           {
            "cells": {
             "fill": {
              "color": "#EBF0F8"
             },
             "line": {
              "color": "white"
             }
            },
            "header": {
             "fill": {
              "color": "#C8D4E3"
             },
             "line": {
              "color": "white"
             }
            },
            "type": "table"
           }
          ]
         },
         "layout": {
          "annotationdefaults": {
           "arrowcolor": "#2a3f5f",
           "arrowhead": 0,
           "arrowwidth": 1
          },
          "autotypenumbers": "strict",
          "coloraxis": {
           "colorbar": {
            "outlinewidth": 0,
            "ticks": ""
           }
          },
          "colorscale": {
           "diverging": [
            [
             0,
             "#8e0152"
            ],
            [
             0.1,
             "#c51b7d"
            ],
            [
             0.2,
             "#de77ae"
            ],
            [
             0.3,
             "#f1b6da"
            ],
            [
             0.4,
             "#fde0ef"
            ],
            [
             0.5,
             "#f7f7f7"
            ],
            [
             0.6,
             "#e6f5d0"
            ],
            [
             0.7,
             "#b8e186"
            ],
            [
             0.8,
             "#7fbc41"
            ],
            [
             0.9,
             "#4d9221"
            ],
            [
             1,
             "#276419"
            ]
           ],
           "sequential": [
            [
             0,
             "#0d0887"
            ],
            [
             0.1111111111111111,
             "#46039f"
            ],
            [
             0.2222222222222222,
             "#7201a8"
            ],
            [
             0.3333333333333333,
             "#9c179e"
            ],
            [
             0.4444444444444444,
             "#bd3786"
            ],
            [
             0.5555555555555556,
             "#d8576b"
            ],
            [
             0.6666666666666666,
             "#ed7953"
            ],
            [
             0.7777777777777778,
             "#fb9f3a"
            ],
            [
             0.8888888888888888,
             "#fdca26"
            ],
            [
             1,
             "#f0f921"
            ]
           ],
           "sequentialminus": [
            [
             0,
             "#0d0887"
            ],
            [
             0.1111111111111111,
             "#46039f"
            ],
            [
             0.2222222222222222,
             "#7201a8"
            ],
            [
             0.3333333333333333,
             "#9c179e"
            ],
            [
             0.4444444444444444,
             "#bd3786"
            ],
            [
             0.5555555555555556,
             "#d8576b"
            ],
            [
             0.6666666666666666,
             "#ed7953"
            ],
            [
             0.7777777777777778,
             "#fb9f3a"
            ],
            [
             0.8888888888888888,
             "#fdca26"
            ],
            [
             1,
             "#f0f921"
            ]
           ]
          },
          "colorway": [
           "#636efa",
           "#EF553B",
           "#00cc96",
           "#ab63fa",
           "#FFA15A",
           "#19d3f3",
           "#FF6692",
           "#B6E880",
           "#FF97FF",
           "#FECB52"
          ],
          "font": {
           "color": "#2a3f5f"
          },
          "geo": {
           "bgcolor": "white",
           "lakecolor": "white",
           "landcolor": "#E5ECF6",
           "showlakes": true,
           "showland": true,
           "subunitcolor": "white"
          },
          "hoverlabel": {
           "align": "left"
          },
          "hovermode": "closest",
          "mapbox": {
           "style": "light"
          },
          "paper_bgcolor": "white",
          "plot_bgcolor": "#E5ECF6",
          "polar": {
           "angularaxis": {
            "gridcolor": "white",
            "linecolor": "white",
            "ticks": ""
           },
           "bgcolor": "#E5ECF6",
           "radialaxis": {
            "gridcolor": "white",
            "linecolor": "white",
            "ticks": ""
           }
          },
          "scene": {
           "xaxis": {
            "backgroundcolor": "#E5ECF6",
            "gridcolor": "white",
            "gridwidth": 2,
            "linecolor": "white",
            "showbackground": true,
            "ticks": "",
            "zerolinecolor": "white"
           },
           "yaxis": {
            "backgroundcolor": "#E5ECF6",
            "gridcolor": "white",
            "gridwidth": 2,
            "linecolor": "white",
            "showbackground": true,
            "ticks": "",
            "zerolinecolor": "white"
           },
           "zaxis": {
            "backgroundcolor": "#E5ECF6",
            "gridcolor": "white",
            "gridwidth": 2,
            "linecolor": "white",
            "showbackground": true,
            "ticks": "",
            "zerolinecolor": "white"
           }
          },
          "shapedefaults": {
           "line": {
            "color": "#2a3f5f"
           }
          },
          "ternary": {
           "aaxis": {
            "gridcolor": "white",
            "linecolor": "white",
            "ticks": ""
           },
           "baxis": {
            "gridcolor": "white",
            "linecolor": "white",
            "ticks": ""
           },
           "bgcolor": "#E5ECF6",
           "caxis": {
            "gridcolor": "white",
            "linecolor": "white",
            "ticks": ""
           }
          },
          "title": {
           "x": 0.05
          },
          "xaxis": {
           "automargin": true,
           "gridcolor": "white",
           "linecolor": "white",
           "ticks": "",
           "title": {
            "standoff": 15
           },
           "zerolinecolor": "white",
           "zerolinewidth": 2
          },
          "yaxis": {
           "automargin": true,
           "gridcolor": "white",
           "linecolor": "white",
           "ticks": "",
           "title": {
            "standoff": 15
           },
           "zerolinecolor": "white",
           "zerolinewidth": 2
          }
         }
        },
        "title": {
         "text": "total per product line by branch"
        },
        "xaxis": {
         "anchor": "y",
         "domain": [
          0,
          1
         ],
         "title": {
          "text": "product_line"
         }
        },
        "yaxis": {
         "anchor": "x",
         "domain": [
          0,
          1
         ],
         "title": {
          "text": "total"
         }
        }
       }
      }
     },
     "metadata": {},
     "output_type": "display_data"
    }
   ],
   "source": [
    "px.bar(dff,x='product_line',y='total',color='branch', title='total per product line by branch')\n"
   ]
  },
  {
   "cell_type": "code",
   "execution_count": 173,
   "id": "ca62b8f6",
   "metadata": {},
   "outputs": [
    {
     "data": {
      "application/vnd.microsoft.datawrangler.viewer.v0+json": {
       "columns": [
        {
         "name": "index",
         "rawType": "int64",
         "type": "integer"
        },
        {
         "name": "hour",
         "rawType": "int32",
         "type": "integer"
        },
        {
         "name": "branch",
         "rawType": "object",
         "type": "string"
        },
        {
         "name": "total",
         "rawType": "float64",
         "type": "float"
        }
       ],
       "ref": "03eb5b97-298e-4c99-afd5-43e09de3e1af",
       "rows": [
        [
         "0",
         "10",
         "A",
         "11208.414"
        ],
        [
         "1",
         "10",
         "B",
         "8865.843"
        ],
        [
         "2",
         "10",
         "C",
         "11347.224"
        ],
        [
         "3",
         "11",
         "A",
         "11349.891"
        ],
        [
         "4",
         "11",
         "B",
         "10481.814"
        ],
        [
         "5",
         "11",
         "C",
         "8545.6245"
        ],
        [
         "6",
         "12",
         "A",
         "9485.07"
        ],
        [
         "7",
         "12",
         "B",
         "8475.411"
        ],
        [
         "8",
         "12",
         "C",
         "8105.4015"
        ],
        [
         "9",
         "13",
         "A",
         "10443.7515"
        ],
        [
         "10",
         "13",
         "B",
         "11272.4115"
        ],
        [
         "11",
         "13",
         "C",
         "13007.064"
        ],
        [
         "12",
         "14",
         "A",
         "8852.4135"
        ],
        [
         "13",
         "14",
         "B",
         "11694.564"
        ],
        [
         "14",
         "14",
         "C",
         "10281.4215"
        ],
        [
         "15",
         "15",
         "A",
         "11273.703"
        ],
        [
         "16",
         "15",
         "B",
         "10241.164499999999"
        ],
        [
         "17",
         "15",
         "C",
         "9664.641"
        ],
        [
         "18",
         "16",
         "A",
         "10869.736499999999"
        ],
        [
         "19",
         "16",
         "B",
         "4123.56"
        ],
        [
         "20",
         "16",
         "C",
         "10233.027"
        ],
        [
         "21",
         "17",
         "A",
         "9043.734"
        ],
        [
         "22",
         "17",
         "B",
         "7841.0535"
        ],
        [
         "23",
         "17",
         "C",
         "7560.4305"
        ],
        [
         "24",
         "18",
         "A",
         "7447.02"
        ],
        [
         "25",
         "18",
         "B",
         "9555.2835"
        ],
        [
         "26",
         "18",
         "C",
         "9028.0365"
        ],
        [
         "27",
         "19",
         "A",
         "10330.257"
        ],
        [
         "28",
         "19",
         "B",
         "16262.4525"
        ],
        [
         "29",
         "19",
         "C",
         "13106.8035"
        ],
        [
         "30",
         "20",
         "A",
         "5896.38"
        ],
        [
         "31",
         "20",
         "B",
         "7384.1145"
        ],
        [
         "32",
         "20",
         "C",
         "9689.0325"
        ]
       ],
       "shape": {
        "columns": 3,
        "rows": 33
       }
      },
      "text/html": [
       "<div>\n",
       "<style scoped>\n",
       "    .dataframe tbody tr th:only-of-type {\n",
       "        vertical-align: middle;\n",
       "    }\n",
       "\n",
       "    .dataframe tbody tr th {\n",
       "        vertical-align: top;\n",
       "    }\n",
       "\n",
       "    .dataframe thead th {\n",
       "        text-align: right;\n",
       "    }\n",
       "</style>\n",
       "<table border=\"1\" class=\"dataframe\">\n",
       "  <thead>\n",
       "    <tr style=\"text-align: right;\">\n",
       "      <th></th>\n",
       "      <th>hour</th>\n",
       "      <th>branch</th>\n",
       "      <th>total</th>\n",
       "    </tr>\n",
       "  </thead>\n",
       "  <tbody>\n",
       "    <tr>\n",
       "      <th>0</th>\n",
       "      <td>10</td>\n",
       "      <td>A</td>\n",
       "      <td>11208.4140</td>\n",
       "    </tr>\n",
       "    <tr>\n",
       "      <th>1</th>\n",
       "      <td>10</td>\n",
       "      <td>B</td>\n",
       "      <td>8865.8430</td>\n",
       "    </tr>\n",
       "    <tr>\n",
       "      <th>2</th>\n",
       "      <td>10</td>\n",
       "      <td>C</td>\n",
       "      <td>11347.2240</td>\n",
       "    </tr>\n",
       "    <tr>\n",
       "      <th>3</th>\n",
       "      <td>11</td>\n",
       "      <td>A</td>\n",
       "      <td>11349.8910</td>\n",
       "    </tr>\n",
       "    <tr>\n",
       "      <th>4</th>\n",
       "      <td>11</td>\n",
       "      <td>B</td>\n",
       "      <td>10481.8140</td>\n",
       "    </tr>\n",
       "    <tr>\n",
       "      <th>5</th>\n",
       "      <td>11</td>\n",
       "      <td>C</td>\n",
       "      <td>8545.6245</td>\n",
       "    </tr>\n",
       "    <tr>\n",
       "      <th>6</th>\n",
       "      <td>12</td>\n",
       "      <td>A</td>\n",
       "      <td>9485.0700</td>\n",
       "    </tr>\n",
       "    <tr>\n",
       "      <th>7</th>\n",
       "      <td>12</td>\n",
       "      <td>B</td>\n",
       "      <td>8475.4110</td>\n",
       "    </tr>\n",
       "    <tr>\n",
       "      <th>8</th>\n",
       "      <td>12</td>\n",
       "      <td>C</td>\n",
       "      <td>8105.4015</td>\n",
       "    </tr>\n",
       "    <tr>\n",
       "      <th>9</th>\n",
       "      <td>13</td>\n",
       "      <td>A</td>\n",
       "      <td>10443.7515</td>\n",
       "    </tr>\n",
       "    <tr>\n",
       "      <th>10</th>\n",
       "      <td>13</td>\n",
       "      <td>B</td>\n",
       "      <td>11272.4115</td>\n",
       "    </tr>\n",
       "    <tr>\n",
       "      <th>11</th>\n",
       "      <td>13</td>\n",
       "      <td>C</td>\n",
       "      <td>13007.0640</td>\n",
       "    </tr>\n",
       "    <tr>\n",
       "      <th>12</th>\n",
       "      <td>14</td>\n",
       "      <td>A</td>\n",
       "      <td>8852.4135</td>\n",
       "    </tr>\n",
       "    <tr>\n",
       "      <th>13</th>\n",
       "      <td>14</td>\n",
       "      <td>B</td>\n",
       "      <td>11694.5640</td>\n",
       "    </tr>\n",
       "    <tr>\n",
       "      <th>14</th>\n",
       "      <td>14</td>\n",
       "      <td>C</td>\n",
       "      <td>10281.4215</td>\n",
       "    </tr>\n",
       "    <tr>\n",
       "      <th>15</th>\n",
       "      <td>15</td>\n",
       "      <td>A</td>\n",
       "      <td>11273.7030</td>\n",
       "    </tr>\n",
       "    <tr>\n",
       "      <th>16</th>\n",
       "      <td>15</td>\n",
       "      <td>B</td>\n",
       "      <td>10241.1645</td>\n",
       "    </tr>\n",
       "    <tr>\n",
       "      <th>17</th>\n",
       "      <td>15</td>\n",
       "      <td>C</td>\n",
       "      <td>9664.6410</td>\n",
       "    </tr>\n",
       "    <tr>\n",
       "      <th>18</th>\n",
       "      <td>16</td>\n",
       "      <td>A</td>\n",
       "      <td>10869.7365</td>\n",
       "    </tr>\n",
       "    <tr>\n",
       "      <th>19</th>\n",
       "      <td>16</td>\n",
       "      <td>B</td>\n",
       "      <td>4123.5600</td>\n",
       "    </tr>\n",
       "    <tr>\n",
       "      <th>20</th>\n",
       "      <td>16</td>\n",
       "      <td>C</td>\n",
       "      <td>10233.0270</td>\n",
       "    </tr>\n",
       "    <tr>\n",
       "      <th>21</th>\n",
       "      <td>17</td>\n",
       "      <td>A</td>\n",
       "      <td>9043.7340</td>\n",
       "    </tr>\n",
       "    <tr>\n",
       "      <th>22</th>\n",
       "      <td>17</td>\n",
       "      <td>B</td>\n",
       "      <td>7841.0535</td>\n",
       "    </tr>\n",
       "    <tr>\n",
       "      <th>23</th>\n",
       "      <td>17</td>\n",
       "      <td>C</td>\n",
       "      <td>7560.4305</td>\n",
       "    </tr>\n",
       "    <tr>\n",
       "      <th>24</th>\n",
       "      <td>18</td>\n",
       "      <td>A</td>\n",
       "      <td>7447.0200</td>\n",
       "    </tr>\n",
       "    <tr>\n",
       "      <th>25</th>\n",
       "      <td>18</td>\n",
       "      <td>B</td>\n",
       "      <td>9555.2835</td>\n",
       "    </tr>\n",
       "    <tr>\n",
       "      <th>26</th>\n",
       "      <td>18</td>\n",
       "      <td>C</td>\n",
       "      <td>9028.0365</td>\n",
       "    </tr>\n",
       "    <tr>\n",
       "      <th>27</th>\n",
       "      <td>19</td>\n",
       "      <td>A</td>\n",
       "      <td>10330.2570</td>\n",
       "    </tr>\n",
       "    <tr>\n",
       "      <th>28</th>\n",
       "      <td>19</td>\n",
       "      <td>B</td>\n",
       "      <td>16262.4525</td>\n",
       "    </tr>\n",
       "    <tr>\n",
       "      <th>29</th>\n",
       "      <td>19</td>\n",
       "      <td>C</td>\n",
       "      <td>13106.8035</td>\n",
       "    </tr>\n",
       "    <tr>\n",
       "      <th>30</th>\n",
       "      <td>20</td>\n",
       "      <td>A</td>\n",
       "      <td>5896.3800</td>\n",
       "    </tr>\n",
       "    <tr>\n",
       "      <th>31</th>\n",
       "      <td>20</td>\n",
       "      <td>B</td>\n",
       "      <td>7384.1145</td>\n",
       "    </tr>\n",
       "    <tr>\n",
       "      <th>32</th>\n",
       "      <td>20</td>\n",
       "      <td>C</td>\n",
       "      <td>9689.0325</td>\n",
       "    </tr>\n",
       "  </tbody>\n",
       "</table>\n",
       "</div>"
      ],
      "text/plain": [
       "    hour branch       total\n",
       "0     10      A  11208.4140\n",
       "1     10      B   8865.8430\n",
       "2     10      C  11347.2240\n",
       "3     11      A  11349.8910\n",
       "4     11      B  10481.8140\n",
       "5     11      C   8545.6245\n",
       "6     12      A   9485.0700\n",
       "7     12      B   8475.4110\n",
       "8     12      C   8105.4015\n",
       "9     13      A  10443.7515\n",
       "10    13      B  11272.4115\n",
       "11    13      C  13007.0640\n",
       "12    14      A   8852.4135\n",
       "13    14      B  11694.5640\n",
       "14    14      C  10281.4215\n",
       "15    15      A  11273.7030\n",
       "16    15      B  10241.1645\n",
       "17    15      C   9664.6410\n",
       "18    16      A  10869.7365\n",
       "19    16      B   4123.5600\n",
       "20    16      C  10233.0270\n",
       "21    17      A   9043.7340\n",
       "22    17      B   7841.0535\n",
       "23    17      C   7560.4305\n",
       "24    18      A   7447.0200\n",
       "25    18      B   9555.2835\n",
       "26    18      C   9028.0365\n",
       "27    19      A  10330.2570\n",
       "28    19      B  16262.4525\n",
       "29    19      C  13106.8035\n",
       "30    20      A   5896.3800\n",
       "31    20      B   7384.1145\n",
       "32    20      C   9689.0325"
      ]
     },
     "execution_count": 173,
     "metadata": {},
     "output_type": "execute_result"
    }
   ],
   "source": [
    "dfff=df.groupby(['hour','branch'])['total'].sum().reset_index()\n",
    "dfff\n"
   ]
  },
  {
   "cell_type": "code",
   "execution_count": 276,
   "id": "0639c25e",
   "metadata": {},
   "outputs": [
    {
     "data": {
      "application/vnd.plotly.v1+json": {
       "config": {
        "plotlyServerURL": "https://plot.ly"
       },
       "data": [
        {
         "hovertemplate": "branch=A<br>hour=%{x}<br>total=%{y}<extra></extra>",
         "legendgroup": "A",
         "line": {
          "color": "#636efa",
          "dash": "solid"
         },
         "marker": {
          "symbol": "circle"
         },
         "mode": "lines",
         "name": "A",
         "orientation": "v",
         "showlegend": true,
         "type": "scatter",
         "x": [
          10,
          11,
          12,
          13,
          14,
          15,
          16,
          17,
          18,
          19,
          20
         ],
         "xaxis": "x",
         "y": [
          11208.414,
          11349.891,
          9485.07,
          10443.7515,
          8852.4135,
          11273.703,
          10869.736499999999,
          9043.734,
          7447.02,
          10330.257,
          5896.38
         ],
         "yaxis": "y"
        },
        {
         "hovertemplate": "branch=B<br>hour=%{x}<br>total=%{y}<extra></extra>",
         "legendgroup": "B",
         "line": {
          "color": "#EF553B",
          "dash": "solid"
         },
         "marker": {
          "symbol": "circle"
         },
         "mode": "lines",
         "name": "B",
         "orientation": "v",
         "showlegend": true,
         "type": "scatter",
         "x": [
          10,
          11,
          12,
          13,
          14,
          15,
          16,
          17,
          18,
          19,
          20
         ],
         "xaxis": "x",
         "y": [
          8865.843,
          10481.814,
          8475.411,
          11272.4115,
          11694.564,
          10241.164499999999,
          4123.56,
          7841.0535,
          9555.2835,
          16262.4525,
          7384.1145
         ],
         "yaxis": "y"
        },
        {
         "hovertemplate": "branch=C<br>hour=%{x}<br>total=%{y}<extra></extra>",
         "legendgroup": "C",
         "line": {
          "color": "#00cc96",
          "dash": "solid"
         },
         "marker": {
          "symbol": "circle"
         },
         "mode": "lines",
         "name": "C",
         "orientation": "v",
         "showlegend": true,
         "type": "scatter",
         "x": [
          10,
          11,
          12,
          13,
          14,
          15,
          16,
          17,
          18,
          19,
          20
         ],
         "xaxis": "x",
         "y": [
          11347.224,
          8545.6245,
          8105.4015,
          13007.064,
          10281.4215,
          9664.641,
          10233.027,
          7560.4305,
          9028.0365,
          13106.8035,
          9689.0325
         ],
         "yaxis": "y"
        }
       ],
       "layout": {
        "legend": {
         "title": {
          "text": "branch"
         },
         "tracegroupgap": 0
        },
        "template": {
         "data": {
          "bar": [
           {
            "error_x": {
             "color": "#2a3f5f"
            },
            "error_y": {
             "color": "#2a3f5f"
            },
            "marker": {
             "line": {
              "color": "#E5ECF6",
              "width": 0.5
             },
             "pattern": {
              "fillmode": "overlay",
              "size": 10,
              "solidity": 0.2
             }
            },
            "type": "bar"
           }
          ],
          "barpolar": [
           {
            "marker": {
             "line": {
              "color": "#E5ECF6",
              "width": 0.5
             },
             "pattern": {
              "fillmode": "overlay",
              "size": 10,
              "solidity": 0.2
             }
            },
            "type": "barpolar"
           }
          ],
          "carpet": [
           {
            "aaxis": {
             "endlinecolor": "#2a3f5f",
             "gridcolor": "white",
             "linecolor": "white",
             "minorgridcolor": "white",
             "startlinecolor": "#2a3f5f"
            },
            "baxis": {
             "endlinecolor": "#2a3f5f",
             "gridcolor": "white",
             "linecolor": "white",
             "minorgridcolor": "white",
             "startlinecolor": "#2a3f5f"
            },
            "type": "carpet"
           }
          ],
          "choropleth": [
           {
            "colorbar": {
             "outlinewidth": 0,
             "ticks": ""
            },
            "type": "choropleth"
           }
          ],
          "contour": [
           {
            "colorbar": {
             "outlinewidth": 0,
             "ticks": ""
            },
            "colorscale": [
             [
              0,
              "#0d0887"
             ],
             [
              0.1111111111111111,
              "#46039f"
             ],
             [
              0.2222222222222222,
              "#7201a8"
             ],
             [
              0.3333333333333333,
              "#9c179e"
             ],
             [
              0.4444444444444444,
              "#bd3786"
             ],
             [
              0.5555555555555556,
              "#d8576b"
             ],
             [
              0.6666666666666666,
              "#ed7953"
             ],
             [
              0.7777777777777778,
              "#fb9f3a"
             ],
             [
              0.8888888888888888,
              "#fdca26"
             ],
             [
              1,
              "#f0f921"
             ]
            ],
            "type": "contour"
           }
          ],
          "contourcarpet": [
           {
            "colorbar": {
             "outlinewidth": 0,
             "ticks": ""
            },
            "type": "contourcarpet"
           }
          ],
          "heatmap": [
           {
            "colorbar": {
             "outlinewidth": 0,
             "ticks": ""
            },
            "colorscale": [
             [
              0,
              "#0d0887"
             ],
             [
              0.1111111111111111,
              "#46039f"
             ],
             [
              0.2222222222222222,
              "#7201a8"
             ],
             [
              0.3333333333333333,
              "#9c179e"
             ],
             [
              0.4444444444444444,
              "#bd3786"
             ],
             [
              0.5555555555555556,
              "#d8576b"
             ],
             [
              0.6666666666666666,
              "#ed7953"
             ],
             [
              0.7777777777777778,
              "#fb9f3a"
             ],
             [
              0.8888888888888888,
              "#fdca26"
             ],
             [
              1,
              "#f0f921"
             ]
            ],
            "type": "heatmap"
           }
          ],
          "heatmapgl": [
           {
            "colorbar": {
             "outlinewidth": 0,
             "ticks": ""
            },
            "colorscale": [
             [
              0,
              "#0d0887"
             ],
             [
              0.1111111111111111,
              "#46039f"
             ],
             [
              0.2222222222222222,
              "#7201a8"
             ],
             [
              0.3333333333333333,
              "#9c179e"
             ],
             [
              0.4444444444444444,
              "#bd3786"
             ],
             [
              0.5555555555555556,
              "#d8576b"
             ],
             [
              0.6666666666666666,
              "#ed7953"
             ],
             [
              0.7777777777777778,
              "#fb9f3a"
             ],
             [
              0.8888888888888888,
              "#fdca26"
             ],
             [
              1,
              "#f0f921"
             ]
            ],
            "type": "heatmapgl"
           }
          ],
          "histogram": [
           {
            "marker": {
             "pattern": {
              "fillmode": "overlay",
              "size": 10,
              "solidity": 0.2
             }
            },
            "type": "histogram"
           }
          ],
          "histogram2d": [
           {
            "colorbar": {
             "outlinewidth": 0,
             "ticks": ""
            },
            "colorscale": [
             [
              0,
              "#0d0887"
             ],
             [
              0.1111111111111111,
              "#46039f"
             ],
             [
              0.2222222222222222,
              "#7201a8"
             ],
             [
              0.3333333333333333,
              "#9c179e"
             ],
             [
              0.4444444444444444,
              "#bd3786"
             ],
             [
              0.5555555555555556,
              "#d8576b"
             ],
             [
              0.6666666666666666,
              "#ed7953"
             ],
             [
              0.7777777777777778,
              "#fb9f3a"
             ],
             [
              0.8888888888888888,
              "#fdca26"
             ],
             [
              1,
              "#f0f921"
             ]
            ],
            "type": "histogram2d"
           }
          ],
          "histogram2dcontour": [
           {
            "colorbar": {
             "outlinewidth": 0,
             "ticks": ""
            },
            "colorscale": [
             [
              0,
              "#0d0887"
             ],
             [
              0.1111111111111111,
              "#46039f"
             ],
             [
              0.2222222222222222,
              "#7201a8"
             ],
             [
              0.3333333333333333,
              "#9c179e"
             ],
             [
              0.4444444444444444,
              "#bd3786"
             ],
             [
              0.5555555555555556,
              "#d8576b"
             ],
             [
              0.6666666666666666,
              "#ed7953"
             ],
             [
              0.7777777777777778,
              "#fb9f3a"
             ],
             [
              0.8888888888888888,
              "#fdca26"
             ],
             [
              1,
              "#f0f921"
             ]
            ],
            "type": "histogram2dcontour"
           }
          ],
          "mesh3d": [
           {
            "colorbar": {
             "outlinewidth": 0,
             "ticks": ""
            },
            "type": "mesh3d"
           }
          ],
          "parcoords": [
           {
            "line": {
             "colorbar": {
              "outlinewidth": 0,
              "ticks": ""
             }
            },
            "type": "parcoords"
           }
          ],
          "pie": [
           {
            "automargin": true,
            "type": "pie"
           }
          ],
          "scatter": [
           {
            "fillpattern": {
             "fillmode": "overlay",
             "size": 10,
             "solidity": 0.2
            },
            "type": "scatter"
           }
          ],
          "scatter3d": [
           {
            "line": {
             "colorbar": {
              "outlinewidth": 0,
              "ticks": ""
             }
            },
            "marker": {
             "colorbar": {
              "outlinewidth": 0,
              "ticks": ""
             }
            },
            "type": "scatter3d"
           }
          ],
          "scattercarpet": [
           {
            "marker": {
             "colorbar": {
              "outlinewidth": 0,
              "ticks": ""
             }
            },
            "type": "scattercarpet"
           }
          ],
          "scattergeo": [
           {
            "marker": {
             "colorbar": {
              "outlinewidth": 0,
              "ticks": ""
             }
            },
            "type": "scattergeo"
           }
          ],
          "scattergl": [
           {
            "marker": {
             "colorbar": {
              "outlinewidth": 0,
              "ticks": ""
             }
            },
            "type": "scattergl"
           }
          ],
          "scattermapbox": [
           {
            "marker": {
             "colorbar": {
              "outlinewidth": 0,
              "ticks": ""
             }
            },
            "type": "scattermapbox"
           }
          ],
          "scatterpolar": [
           {
            "marker": {
             "colorbar": {
              "outlinewidth": 0,
              "ticks": ""
             }
            },
            "type": "scatterpolar"
           }
          ],
          "scatterpolargl": [
           {
            "marker": {
             "colorbar": {
              "outlinewidth": 0,
              "ticks": ""
             }
            },
            "type": "scatterpolargl"
           }
          ],
          "scatterternary": [
           {
            "marker": {
             "colorbar": {
              "outlinewidth": 0,
              "ticks": ""
             }
            },
            "type": "scatterternary"
           }
          ],
          "surface": [
           {
            "colorbar": {
             "outlinewidth": 0,
             "ticks": ""
            },
            "colorscale": [
             [
              0,
              "#0d0887"
             ],
             [
              0.1111111111111111,
              "#46039f"
             ],
             [
              0.2222222222222222,
              "#7201a8"
             ],
             [
              0.3333333333333333,
              "#9c179e"
             ],
             [
              0.4444444444444444,
              "#bd3786"
             ],
             [
              0.5555555555555556,
              "#d8576b"
             ],
             [
              0.6666666666666666,
              "#ed7953"
             ],
             [
              0.7777777777777778,
              "#fb9f3a"
             ],
             [
              0.8888888888888888,
              "#fdca26"
             ],
             [
              1,
              "#f0f921"
             ]
            ],
            "type": "surface"
           }
          ],
          "table": [
           {
            "cells": {
             "fill": {
              "color": "#EBF0F8"
             },
             "line": {
              "color": "white"
             }
            },
            "header": {
             "fill": {
              "color": "#C8D4E3"
             },
             "line": {
              "color": "white"
             }
            },
            "type": "table"
           }
          ]
         },
         "layout": {
          "annotationdefaults": {
           "arrowcolor": "#2a3f5f",
           "arrowhead": 0,
           "arrowwidth": 1
          },
          "autotypenumbers": "strict",
          "coloraxis": {
           "colorbar": {
            "outlinewidth": 0,
            "ticks": ""
           }
          },
          "colorscale": {
           "diverging": [
            [
             0,
             "#8e0152"
            ],
            [
             0.1,
             "#c51b7d"
            ],
            [
             0.2,
             "#de77ae"
            ],
            [
             0.3,
             "#f1b6da"
            ],
            [
             0.4,
             "#fde0ef"
            ],
            [
             0.5,
             "#f7f7f7"
            ],
            [
             0.6,
             "#e6f5d0"
            ],
            [
             0.7,
             "#b8e186"
            ],
            [
             0.8,
             "#7fbc41"
            ],
            [
             0.9,
             "#4d9221"
            ],
            [
             1,
             "#276419"
            ]
           ],
           "sequential": [
            [
             0,
             "#0d0887"
            ],
            [
             0.1111111111111111,
             "#46039f"
            ],
            [
             0.2222222222222222,
             "#7201a8"
            ],
            [
             0.3333333333333333,
             "#9c179e"
            ],
            [
             0.4444444444444444,
             "#bd3786"
            ],
            [
             0.5555555555555556,
             "#d8576b"
            ],
            [
             0.6666666666666666,
             "#ed7953"
            ],
            [
             0.7777777777777778,
             "#fb9f3a"
            ],
            [
             0.8888888888888888,
             "#fdca26"
            ],
            [
             1,
             "#f0f921"
            ]
           ],
           "sequentialminus": [
            [
             0,
             "#0d0887"
            ],
            [
             0.1111111111111111,
             "#46039f"
            ],
            [
             0.2222222222222222,
             "#7201a8"
            ],
            [
             0.3333333333333333,
             "#9c179e"
            ],
            [
             0.4444444444444444,
             "#bd3786"
            ],
            [
             0.5555555555555556,
             "#d8576b"
            ],
            [
             0.6666666666666666,
             "#ed7953"
            ],
            [
             0.7777777777777778,
             "#fb9f3a"
            ],
            [
             0.8888888888888888,
             "#fdca26"
            ],
            [
             1,
             "#f0f921"
            ]
           ]
          },
          "colorway": [
           "#636efa",
           "#EF553B",
           "#00cc96",
           "#ab63fa",
           "#FFA15A",
           "#19d3f3",
           "#FF6692",
           "#B6E880",
           "#FF97FF",
           "#FECB52"
          ],
          "font": {
           "color": "#2a3f5f"
          },
          "geo": {
           "bgcolor": "white",
           "lakecolor": "white",
           "landcolor": "#E5ECF6",
           "showlakes": true,
           "showland": true,
           "subunitcolor": "white"
          },
          "hoverlabel": {
           "align": "left"
          },
          "hovermode": "closest",
          "mapbox": {
           "style": "light"
          },
          "paper_bgcolor": "white",
          "plot_bgcolor": "#E5ECF6",
          "polar": {
           "angularaxis": {
            "gridcolor": "white",
            "linecolor": "white",
            "ticks": ""
           },
           "bgcolor": "#E5ECF6",
           "radialaxis": {
            "gridcolor": "white",
            "linecolor": "white",
            "ticks": ""
           }
          },
          "scene": {
           "xaxis": {
            "backgroundcolor": "#E5ECF6",
            "gridcolor": "white",
            "gridwidth": 2,
            "linecolor": "white",
            "showbackground": true,
            "ticks": "",
            "zerolinecolor": "white"
           },
           "yaxis": {
            "backgroundcolor": "#E5ECF6",
            "gridcolor": "white",
            "gridwidth": 2,
            "linecolor": "white",
            "showbackground": true,
            "ticks": "",
            "zerolinecolor": "white"
           },
           "zaxis": {
            "backgroundcolor": "#E5ECF6",
            "gridcolor": "white",
            "gridwidth": 2,
            "linecolor": "white",
            "showbackground": true,
            "ticks": "",
            "zerolinecolor": "white"
           }
          },
          "shapedefaults": {
           "line": {
            "color": "#2a3f5f"
           }
          },
          "ternary": {
           "aaxis": {
            "gridcolor": "white",
            "linecolor": "white",
            "ticks": ""
           },
           "baxis": {
            "gridcolor": "white",
            "linecolor": "white",
            "ticks": ""
           },
           "bgcolor": "#E5ECF6",
           "caxis": {
            "gridcolor": "white",
            "linecolor": "white",
            "ticks": ""
           }
          },
          "title": {
           "x": 0.05
          },
          "xaxis": {
           "automargin": true,
           "gridcolor": "white",
           "linecolor": "white",
           "ticks": "",
           "title": {
            "standoff": 15
           },
           "zerolinecolor": "white",
           "zerolinewidth": 2
          },
          "yaxis": {
           "automargin": true,
           "gridcolor": "white",
           "linecolor": "white",
           "ticks": "",
           "title": {
            "standoff": 15
           },
           "zerolinecolor": "white",
           "zerolinewidth": 2
          }
         }
        },
        "title": {
         "text": "total per hour by branch"
        },
        "xaxis": {
         "anchor": "y",
         "domain": [
          0,
          1
         ],
         "dtick": 1,
         "tick0": 1,
         "title": {
          "text": "hour"
         }
        },
        "yaxis": {
         "anchor": "x",
         "domain": [
          0,
          1
         ],
         "title": {
          "text": "total"
         }
        }
       }
      }
     },
     "metadata": {},
     "output_type": "display_data"
    }
   ],
   "source": [
    "fig=px.line(dfff,'hour','total',color='branch',title='total per hour by branch')\n",
    "fig.update_xaxes(\n",
    "    tick0=1,\n",
    "    dtick=1\n",
    ")\n",
    "fig.show()"
   ]
  },
  {
   "cell_type": "code",
   "execution_count": 249,
   "id": "e30ecab7",
   "metadata": {},
   "outputs": [
    {
     "data": {
      "image/png": "[encoded data removed]",
      "text/plain": [
       "<Figure size 1200x600 with 1 Axes>"
      ]
     },
     "metadata": {},
     "output_type": "display_data"
    }
   ],
   "source": [
    "plt.figure(figsize=(12,6))\n",
    "sns.barplot(df, x='product_line',y='gross_income' )\n",
    "plt.title('average gross income per product line')\n",
    "plt.show()"
   ]
  },
  {
   "cell_type": "code",
   "execution_count": 225,
   "id": "888f1cae",
   "metadata": {},
   "outputs": [
    {
     "data": {
      "image/png": "[encoded data removed]",
      "text/plain": [
       "<Figure size 1200x600 with 1 Axes>"
      ]
     },
     "metadata": {},
     "output_type": "display_data"
    }
   ],
   "source": [
    "plt.figure(figsize=(12,6))\n",
    "sns.barplot(df,x='rating',y='product_line')\n",
    "plt.title(\"the average rate for each product line\" )\n",
    "plt.show()"
   ]
  },
  {
   "cell_type": "code",
   "execution_count": 250,
   "id": "7e5123de",
   "metadata": {},
   "outputs": [
    {
     "data": {
      "image/png": "[encoded data removed]",
      "text/plain": [
       "<Figure size 1200x600 with 1 Axes>"
      ]
     },
     "metadata": {},
     "output_type": "display_data"
    }
   ],
   "source": [
    "plt.figure(figsize=(12,6))\n",
    "sns.barplot(df,x='product_line',y='unit_price')\n",
    "plt.title('average unit price per product line')\n",
    "plt.show()"
   ]
  },
  {
   "cell_type": "code",
   "execution_count": null,
   "id": "b86c67f1",
   "metadata": {},
   "outputs": [
    {
     "data": {
      "application/vnd.microsoft.datawrangler.viewer.v0+json": {
       "columns": [
        {
         "name": "index",
         "rawType": "int64",
         "type": "integer"
        },
        {
         "name": "gender",
         "rawType": "object",
         "type": "string"
        },
        {
         "name": "payment",
         "rawType": "object",
         "type": "string"
        },
        {
         "name": "total",
         "rawType": "int64",
         "type": "integer"
        }
       ],
       "ref": "ede54ea6-258b-444c-9187-45b987a3c5af",
       "rows": [
        [
         "0",
         "Female",
         "Cash",
         "178"
        ],
        [
         "1",
         "Female",
         "Credit card",
         "163"
        ],
        [
         "2",
         "Female",
         "Ewallet",
         "160"
        ],
        [
         "3",
         "Male",
         "Cash",
         "166"
        ],
        [
         "4",
         "Male",
         "Credit card",
         "148"
        ],
        [
         "5",
         "Male",
         "Ewallet",
         "185"
        ]
       ],
       "shape": {
        "columns": 3,
        "rows": 6
       }
      },
      "text/html": [
       "<div>\n",
       "<style scoped>\n",
       "    .dataframe tbody tr th:only-of-type {\n",
       "        vertical-align: middle;\n",
       "    }\n",
       "\n",
       "    .dataframe tbody tr th {\n",
       "        vertical-align: top;\n",
       "    }\n",
       "\n",
       "    .dataframe thead th {\n",
       "        text-align: right;\n",
       "    }\n",
       "</style>\n",
       "<table border=\"1\" class=\"dataframe\">\n",
       "  <thead>\n",
       "    <tr style=\"text-align: right;\">\n",
       "      <th></th>\n",
       "      <th>gender</th>\n",
       "      <th>payment</th>\n",
       "      <th>total</th>\n",
       "    </tr>\n",
       "  </thead>\n",
       "  <tbody>\n",
       "    <tr>\n",
       "      <th>0</th>\n",
       "      <td>Female</td>\n",
       "      <td>Cash</td>\n",
       "      <td>178</td>\n",
       "    </tr>\n",
       "    <tr>\n",
       "      <th>1</th>\n",
       "      <td>Female</td>\n",
       "      <td>Credit card</td>\n",
       "      <td>163</td>\n",
       "    </tr>\n",
       "    <tr>\n",
       "      <th>2</th>\n",
       "      <td>Female</td>\n",
       "      <td>Ewallet</td>\n",
       "      <td>160</td>\n",
       "    </tr>\n",
       "    <tr>\n",
       "      <th>3</th>\n",
       "      <td>Male</td>\n",
       "      <td>Cash</td>\n",
       "      <td>166</td>\n",
       "    </tr>\n",
       "    <tr>\n",
       "      <th>4</th>\n",
       "      <td>Male</td>\n",
       "      <td>Credit card</td>\n",
       "      <td>148</td>\n",
       "    </tr>\n",
       "    <tr>\n",
       "      <th>5</th>\n",
       "      <td>Male</td>\n",
       "      <td>Ewallet</td>\n",
       "      <td>185</td>\n",
       "    </tr>\n",
       "  </tbody>\n",
       "</table>\n",
       "</div>"
      ],
      "text/plain": [
       "   gender      payment  total\n",
       "0  Female         Cash    178\n",
       "1  Female  Credit card    163\n",
       "2  Female      Ewallet    160\n",
       "3    Male         Cash    166\n",
       "4    Male  Credit card    148\n",
       "5    Male      Ewallet    185"
      ]
     },
     "execution_count": 270,
     "metadata": {},
     "output_type": "execute_result"
    }
   ],
   "source": [
    "gender_payment=df.groupby(['gender','payment'])['total'].count().reset_index()\n",
    "gender_payment"
   ]
  },
  {
   "cell_type": "code",
   "execution_count": null,
   "id": "3843b358",
   "metadata": {},
   "outputs": [
    {
     "data": {
      "application/vnd.plotly.v1+json": {
       "config": {
        "plotlyServerURL": "https://plot.ly"
       },
       "data": [
        {
         "alignmentgroup": "True",
         "hovertemplate": "gender=Female<br>payment=%{x}<br>total=%{y}<extra></extra>",
         "legendgroup": "Female",
         "marker": {
          "color": "#636efa",
          "pattern": {
           "shape": ""
          }
         },
         "name": "Female",
         "offsetgroup": "Female",
         "orientation": "v",
         "showlegend": true,
         "textposition": "auto",
         "type": "bar",
         "x": [
          "Cash",
          "Credit card",
          "Ewallet"
         ],
         "xaxis": "x",
         "y": [
          178,
          163,
          160
         ],
         "yaxis": "y"
        },
        {
         "alignmentgroup": "True",
         "hovertemplate": "gender=Male<br>payment=%{x}<br>total=%{y}<extra></extra>",
         "legendgroup": "Male",
         "marker": {
          "color": "#EF553B",
          "pattern": {
           "shape": ""
          }
         },
         "name": "Male",
         "offsetgroup": "Male",
         "orientation": "v",
         "showlegend": true,
         "textposition": "auto",
         "type": "bar",
         "x": [
          "Cash",
          "Credit card",
          "Ewallet"
         ],
         "xaxis": "x",
         "y": [
          166,
          148,
          185
         ],
         "yaxis": "y"
        }
       ],
       "layout": {
        "barmode": "relative",
        "legend": {
         "title": {
          "text": "gender"
         },
         "tracegroupgap": 0
        },
        "template": {
         "data": {
          "bar": [
           {
            "error_x": {
             "color": "#2a3f5f"
            },
            "error_y": {
             "color": "#2a3f5f"
            },
            "marker": {
             "line": {
              "color": "#E5ECF6",
              "width": 0.5
             },
             "pattern": {
              "fillmode": "overlay",
              "size": 10,
              "solidity": 0.2
             }
            },
            "type": "bar"
           }
          ],
          "barpolar": [
           {
            "marker": {
             "line": {
              "color": "#E5ECF6",
              "width": 0.5
             },
             "pattern": {
              "fillmode": "overlay",
              "size": 10,
              "solidity": 0.2
             }
            },
            "type": "barpolar"
           }
          ],
          "carpet": [
           {
            "aaxis": {
             "endlinecolor": "#2a3f5f",
             "gridcolor": "white",
             "linecolor": "white",
             "minorgridcolor": "white",
             "startlinecolor": "#2a3f5f"
            },
            "baxis": {
             "endlinecolor": "#2a3f5f",
             "gridcolor": "white",
             "linecolor": "white",
             "minorgridcolor": "white",
             "startlinecolor": "#2a3f5f"
            },
            "type": "carpet"
           }
          ],
          "choropleth": [
           {
            "colorbar": {
             "outlinewidth": 0,
             "ticks": ""
            },
            "type": "choropleth"
           }
          ],
          "contour": [
           {
            "colorbar": {
             "outlinewidth": 0,
             "ticks": ""
            },
            "colorscale": [
             [
              0,
              "#0d0887"
             ],
             [
              0.1111111111111111,
              "#46039f"
             ],
             [
              0.2222222222222222,
              "#7201a8"
             ],
             [
              0.3333333333333333,
              "#9c179e"
             ],
             [
              0.4444444444444444,
              "#bd3786"
             ],
             [
              0.5555555555555556,
              "#d8576b"
             ],
             [
              0.6666666666666666,
              "#ed7953"
             ],
             [
              0.7777777777777778,
              "#fb9f3a"
             ],
             [
              0.8888888888888888,
              "#fdca26"
             ],
             [
              1,
              "#f0f921"
             ]
            ],
            "type": "contour"
           }
          ],
          "contourcarpet": [
           {
            "colorbar": {
             "outlinewidth": 0,
             "ticks": ""
            },
            "type": "contourcarpet"
           }
          ],
          "heatmap": [
           {
            "colorbar": {
             "outlinewidth": 0,
             "ticks": ""
            },
            "colorscale": [
             [
              0,
              "#0d0887"
             ],
             [
              0.1111111111111111,
              "#46039f"
             ],
             [
              0.2222222222222222,
              "#7201a8"
             ],
             [
              0.3333333333333333,
              "#9c179e"
             ],
             [
              0.4444444444444444,
              "#bd3786"
             ],
             [
              0.5555555555555556,
              "#d8576b"
             ],
             [
              0.6666666666666666,
              "#ed7953"
             ],
             [
              0.7777777777777778,
              "#fb9f3a"
             ],
             [
              0.8888888888888888,
              "#fdca26"
             ],
             [
              1,
              "#f0f921"
             ]
            ],
            "type": "heatmap"
           }
          ],
          "heatmapgl": [
           {
            "colorbar": {
             "outlinewidth": 0,
             "ticks": ""
            },
            "colorscale": [
             [
              0,
              "#0d0887"
             ],
             [
              0.1111111111111111,
              "#46039f"
             ],
             [
              0.2222222222222222,
              "#7201a8"
             ],
             [
              0.3333333333333333,
              "#9c179e"
             ],
             [
              0.4444444444444444,
              "#bd3786"
             ],
             [
              0.5555555555555556,
              "#d8576b"
             ],
             [
              0.6666666666666666,
              "#ed7953"
             ],
             [
              0.7777777777777778,
              "#fb9f3a"
             ],
             [
              0.8888888888888888,
              "#fdca26"
             ],
             [
              1,
              "#f0f921"
             ]
            ],
            "type": "heatmapgl"
           }
          ],
          "histogram": [
           {
            "marker": {
             "pattern": {
              "fillmode": "overlay",
              "size": 10,
              "solidity": 0.2
             }
            },
            "type": "histogram"
           }
          ],
          "histogram2d": [
           {
            "colorbar": {
             "outlinewidth": 0,
             "ticks": ""
            },
            "colorscale": [
             [
              0,
              "#0d0887"
             ],
             [
              0.1111111111111111,
              "#46039f"
             ],
             [
              0.2222222222222222,
              "#7201a8"
             ],
             [
              0.3333333333333333,
              "#9c179e"
             ],
             [
              0.4444444444444444,
              "#bd3786"
             ],
             [
              0.5555555555555556,
              "#d8576b"
             ],
             [
              0.6666666666666666,
              "#ed7953"
             ],
             [
              0.7777777777777778,
              "#fb9f3a"
             ],
             [
              0.8888888888888888,
              "#fdca26"
             ],
             [
              1,
              "#f0f921"
             ]
            ],
            "type": "histogram2d"
           }
          ],
          "histogram2dcontour": [
           {
            "colorbar": {
             "outlinewidth": 0,
             "ticks": ""
            },
            "colorscale": [
             [
              0,
              "#0d0887"
             ],
             [
              0.1111111111111111,
              "#46039f"
             ],
             [
              0.2222222222222222,
              "#7201a8"
             ],
             [
              0.3333333333333333,
              "#9c179e"
             ],
             [
              0.4444444444444444,
              "#bd3786"
             ],
             [
              0.5555555555555556,
              "#d8576b"
             ],
             [
              0.6666666666666666,
              "#ed7953"
             ],
             [
              0.7777777777777778,
              "#fb9f3a"
             ],
             [
              0.8888888888888888,
              "#fdca26"
             ],
             [
              1,
              "#f0f921"
             ]
            ],
            "type": "histogram2dcontour"
           }
          ],
          "mesh3d": [
           {
            "colorbar": {
             "outlinewidth": 0,
             "ticks": ""
            },
            "type": "mesh3d"
           }
          ],
          "parcoords": [
           {
            "line": {
             "colorbar": {
              "outlinewidth": 0,
              "ticks": ""
             }
            },
            "type": "parcoords"
           }
          ],
          "pie": [
           {
            "automargin": true,
            "type": "pie"
           }
          ],
          "scatter": [
           {
            "fillpattern": {
             "fillmode": "overlay",
             "size": 10,
             "solidity": 0.2
            },
            "type": "scatter"
           }
          ],
          "scatter3d": [
           {
            "line": {
             "colorbar": {
              "outlinewidth": 0,
              "ticks": ""
             }
            },
            "marker": {
             "colorbar": {
              "outlinewidth": 0,
              "ticks": ""
             }
            },
            "type": "scatter3d"
           }
          ],
          "scattercarpet": [
           {
            "marker": {
             "colorbar": {
              "outlinewidth": 0,
              "ticks": ""
             }
            },
            "type": "scattercarpet"
           }
          ],
          "scattergeo": [
           {
            "marker": {
             "colorbar": {
              "outlinewidth": 0,
              "ticks": ""
             }
            },
            "type": "scattergeo"
           }
          ],
          "scattergl": [
           {
            "marker": {
             "colorbar": {
              "outlinewidth": 0,
              "ticks": ""
             }
            },
            "type": "scattergl"
           }
          ],
          "scattermapbox": [
           {
            "marker": {
             "colorbar": {
              "outlinewidth": 0,
              "ticks": ""
             }
            },
            "type": "scattermapbox"
           }
          ],
          "scatterpolar": [
           {
            "marker": {
             "colorbar": {
              "outlinewidth": 0,
              "ticks": ""
             }
            },
            "type": "scatterpolar"
           }
          ],
          "scatterpolargl": [
           {
            "marker": {
             "colorbar": {
              "outlinewidth": 0,
              "ticks": ""
             }
            },
            "type": "scatterpolargl"
           }
          ],
          "scatterternary": [
           {
            "marker": {
             "colorbar": {
              "outlinewidth": 0,
              "ticks": ""
             }
            },
            "type": "scatterternary"
           }
          ],
          "surface": [
           {
            "colorbar": {
             "outlinewidth": 0,
             "ticks": ""
            },
            "colorscale": [
             [
              0,
              "#0d0887"
             ],
             [
              0.1111111111111111,
              "#46039f"
             ],
             [
              0.2222222222222222,
              "#7201a8"
             ],
             [
              0.3333333333333333,
              "#9c179e"
             ],
             [
              0.4444444444444444,
              "#bd3786"
             ],
             [
              0.5555555555555556,
              "#d8576b"
             ],
             [
              0.6666666666666666,
              "#ed7953"
             ],
             [
              0.7777777777777778,
              "#fb9f3a"
             ],
             [
              0.8888888888888888,
              "#fdca26"
             ],
             [
              1,
              "#f0f921"
             ]
            ],
            "type": "surface"
           }
          ],
          "table": [
           {
            "cells": {
             "fill": {
              "color": "#EBF0F8"
             },
             "line": {
              "color": "white"
             }
            },
            "header": {
             "fill": {
              "color": "#C8D4E3"
             },
             "line": {
              "color": "white"
             }
            },
            "type": "table"
           }
          ]
         },
         "layout": {
          "annotationdefaults": {
           "arrowcolor": "#2a3f5f",
           "arrowhead": 0,
           "arrowwidth": 1
          },
          "autotypenumbers": "strict",
          "coloraxis": {
           "colorbar": {
            "outlinewidth": 0,
            "ticks": ""
           }
          },
          "colorscale": {
           "diverging": [
            [
             0,
             "#8e0152"
            ],
            [
             0.1,
             "#c51b7d"
            ],
            [
             0.2,
             "#de77ae"
            ],
            [
             0.3,
             "#f1b6da"
            ],
            [
             0.4,
             "#fde0ef"
            ],
            [
             0.5,
             "#f7f7f7"
            ],
            [
             0.6,
             "#e6f5d0"
            ],
            [
             0.7,
             "#b8e186"
            ],
            [
             0.8,
             "#7fbc41"
            ],
            [
             0.9,
             "#4d9221"
            ],
            [
             1,
             "#276419"
            ]
           ],
           "sequential": [
            [
             0,
             "#0d0887"
            ],
            [
             0.1111111111111111,
             "#46039f"
            ],
            [
             0.2222222222222222,
             "#7201a8"
            ],
            [
             0.3333333333333333,
             "#9c179e"
            ],
            [
             0.4444444444444444,
             "#bd3786"
            ],
            [
             0.5555555555555556,
             "#d8576b"
            ],
            [
             0.6666666666666666,
             "#ed7953"
            ],
            [
             0.7777777777777778,
             "#fb9f3a"
            ],
            [
             0.8888888888888888,
             "#fdca26"
            ],
            [
             1,
             "#f0f921"
            ]
           ],
           "sequentialminus": [
            [
             0,
             "#0d0887"
            ],
            [
             0.1111111111111111,
             "#46039f"
            ],
            [
             0.2222222222222222,
             "#7201a8"
            ],
            [
             0.3333333333333333,
             "#9c179e"
            ],
            [
             0.4444444444444444,
             "#bd3786"
            ],
            [
             0.5555555555555556,
             "#d8576b"
            ],
            [
             0.6666666666666666,
             "#ed7953"
            ],
            [
             0.7777777777777778,
             "#fb9f3a"
            ],
            [
             0.8888888888888888,
             "#fdca26"
            ],
            [
             1,
             "#f0f921"
            ]
           ]
          },
          "colorway": [
           "#636efa",
           "#EF553B",
           "#00cc96",
           "#ab63fa",
           "#FFA15A",
           "#19d3f3",
           "#FF6692",
           "#B6E880",
           "#FF97FF",
           "#FECB52"
          ],
          "font": {
           "color": "#2a3f5f"
          },
          "geo": {
           "bgcolor": "white",
           "lakecolor": "white",
           "landcolor": "#E5ECF6",
           "showlakes": true,
           "showland": true,
           "subunitcolor": "white"
          },
          "hoverlabel": {
           "align": "left"
          },
          "hovermode": "closest",
          "mapbox": {
           "style": "light"
          },
          "paper_bgcolor": "white",
          "plot_bgcolor": "#E5ECF6",
          "polar": {
           "angularaxis": {
            "gridcolor": "white",
            "linecolor": "white",
            "ticks": ""
           },
           "bgcolor": "#E5ECF6",
           "radialaxis": {
            "gridcolor": "white",
            "linecolor": "white",
            "ticks": ""
           }
          },
          "scene": {
           "xaxis": {
            "backgroundcolor": "#E5ECF6",
            "gridcolor": "white",
            "gridwidth": 2,
            "linecolor": "white",
            "showbackground": true,
            "ticks": "",
            "zerolinecolor": "white"
           },
           "yaxis": {
            "backgroundcolor": "#E5ECF6",
            "gridcolor": "white",
            "gridwidth": 2,
            "linecolor": "white",
            "showbackground": true,
            "ticks": "",
            "zerolinecolor": "white"
           },
           "zaxis": {
            "backgroundcolor": "#E5ECF6",
            "gridcolor": "white",
            "gridwidth": 2,
            "linecolor": "white",
            "showbackground": true,
            "ticks": "",
            "zerolinecolor": "white"
           }
          },
          "shapedefaults": {
           "line": {
            "color": "#2a3f5f"
           }
          },
          "ternary": {
           "aaxis": {
            "gridcolor": "white",
            "linecolor": "white",
            "ticks": ""
           },
           "baxis": {
            "gridcolor": "white",
            "linecolor": "white",
            "ticks": ""
           },
           "bgcolor": "#E5ECF6",
           "caxis": {
            "gridcolor": "white",
            "linecolor": "white",
            "ticks": ""
           }
          },
          "title": {
           "x": 0.05
          },
          "xaxis": {
           "automargin": true,
           "gridcolor": "white",
           "linecolor": "white",
           "ticks": "",
           "title": {
            "standoff": 15
           },
           "zerolinecolor": "white",
           "zerolinewidth": 2
          },
          "yaxis": {
           "automargin": true,
           "gridcolor": "white",
           "linecolor": "white",
           "ticks": "",
           "title": {
            "standoff": 15
           },
           "zerolinecolor": "white",
           "zerolinewidth": 2
          }
         }
        },
        "title": {
         "text": "Count of Total Payment Method by Gender"
        },
        "xaxis": {
         "anchor": "y",
         "domain": [
          0,
          1
         ],
         "title": {
          "text": "payment"
         }
        },
        "yaxis": {
         "anchor": "x",
         "domain": [
          0,
          1
         ],
         "title": {
          "text": "total"
         }
        }
       }
      }
     },
     "metadata": {},
     "output_type": "display_data"
    }
   ],
   "source": [
    "px.bar(gender_payment,x='payment',y='total',color='gender',title='Count of Total Payment Method by Gender')\n"
   ]
  },
  {
   "cell_type": "code",
   "execution_count": null,
   "id": "a364fe23",
   "metadata": {},
   "outputs": [
    {
     "data": {
      "application/vnd.microsoft.datawrangler.viewer.v0+json": {
       "columns": [
        {
         "name": "index",
         "rawType": "int64",
         "type": "integer"
        },
        {
         "name": "branch",
         "rawType": "object",
         "type": "string"
        },
        {
         "name": "payment",
         "rawType": "object",
         "type": "string"
        },
        {
         "name": "total",
         "rawType": "int64",
         "type": "integer"
        }
       ],
       "ref": "c7dbee80-8632-4634-81e0-e60deff348a3",
       "rows": [
        [
         "0",
         "A",
         "Cash",
         "110"
        ],
        [
         "1",
         "A",
         "Credit card",
         "104"
        ],
        [
         "2",
         "A",
         "Ewallet",
         "126"
        ],
        [
         "3",
         "B",
         "Cash",
         "110"
        ],
        [
         "4",
         "B",
         "Credit card",
         "109"
        ],
        [
         "5",
         "B",
         "Ewallet",
         "113"
        ],
        [
         "6",
         "C",
         "Cash",
         "124"
        ],
        [
         "7",
         "C",
         "Credit card",
         "98"
        ],
        [
         "8",
         "C",
         "Ewallet",
         "106"
        ]
       ],
       "shape": {
        "columns": 3,
        "rows": 9
       }
      },
      "text/html": [
       "<div>\n",
       "<style scoped>\n",
       "    .dataframe tbody tr th:only-of-type {\n",
       "        vertical-align: middle;\n",
       "    }\n",
       "\n",
       "    .dataframe tbody tr th {\n",
       "        vertical-align: top;\n",
       "    }\n",
       "\n",
       "    .dataframe thead th {\n",
       "        text-align: right;\n",
       "    }\n",
       "</style>\n",
       "<table border=\"1\" class=\"dataframe\">\n",
       "  <thead>\n",
       "    <tr style=\"text-align: right;\">\n",
       "      <th></th>\n",
       "      <th>branch</th>\n",
       "      <th>payment</th>\n",
       "      <th>total</th>\n",
       "    </tr>\n",
       "  </thead>\n",
       "  <tbody>\n",
       "    <tr>\n",
       "      <th>0</th>\n",
       "      <td>A</td>\n",
       "      <td>Cash</td>\n",
       "      <td>110</td>\n",
       "    </tr>\n",
       "    <tr>\n",
       "      <th>1</th>\n",
       "      <td>A</td>\n",
       "      <td>Credit card</td>\n",
       "      <td>104</td>\n",
       "    </tr>\n",
       "    <tr>\n",
       "      <th>2</th>\n",
       "      <td>A</td>\n",
       "      <td>Ewallet</td>\n",
       "      <td>126</td>\n",
       "    </tr>\n",
       "    <tr>\n",
       "      <th>3</th>\n",
       "      <td>B</td>\n",
       "      <td>Cash</td>\n",
       "      <td>110</td>\n",
       "    </tr>\n",
       "    <tr>\n",
       "      <th>4</th>\n",
       "      <td>B</td>\n",
       "      <td>Credit card</td>\n",
       "      <td>109</td>\n",
       "    </tr>\n",
       "    <tr>\n",
       "      <th>5</th>\n",
       "      <td>B</td>\n",
       "      <td>Ewallet</td>\n",
       "      <td>113</td>\n",
       "    </tr>\n",
       "    <tr>\n",
       "      <th>6</th>\n",
       "      <td>C</td>\n",
       "      <td>Cash</td>\n",
       "      <td>124</td>\n",
       "    </tr>\n",
       "    <tr>\n",
       "      <th>7</th>\n",
       "      <td>C</td>\n",
       "      <td>Credit card</td>\n",
       "      <td>98</td>\n",
       "    </tr>\n",
       "    <tr>\n",
       "      <th>8</th>\n",
       "      <td>C</td>\n",
       "      <td>Ewallet</td>\n",
       "      <td>106</td>\n",
       "    </tr>\n",
       "  </tbody>\n",
       "</table>\n",
       "</div>"
      ],
      "text/plain": [
       "  branch      payment  total\n",
       "0      A         Cash    110\n",
       "1      A  Credit card    104\n",
       "2      A      Ewallet    126\n",
       "3      B         Cash    110\n",
       "4      B  Credit card    109\n",
       "5      B      Ewallet    113\n",
       "6      C         Cash    124\n",
       "7      C  Credit card     98\n",
       "8      C      Ewallet    106"
      ]
     },
     "execution_count": 272,
     "metadata": {},
     "output_type": "execute_result"
    }
   ],
   "source": [
    "branch_payment=df.groupby(['branch','payment'])['total'].count().reset_index()\n",
    "branch_payment"
   ]
  },
  {
   "cell_type": "code",
   "execution_count": null,
   "id": "c38fbaf6",
   "metadata": {},
   "outputs": [],
   "source": []
  },
  {
   "cell_type": "code",
   "execution_count": 273,
   "id": "f07f26fe",
   "metadata": {},
   "outputs": [
    {
     "data": {
      "application/vnd.plotly.v1+json": {
       "config": {
        "plotlyServerURL": "https://plot.ly"
       },
       "data": [
        {
         "alignmentgroup": "True",
         "hovertemplate": "branch=A<br>payment=%{x}<br>total=%{y}<extra></extra>",
         "legendgroup": "A",
         "marker": {
          "color": "#636efa",
          "pattern": {
           "shape": ""
          }
         },
         "name": "A",
         "offsetgroup": "A",
         "orientation": "v",
         "showlegend": true,
         "textposition": "auto",
         "type": "bar",
         "x": [
          "Cash",
          "Credit card",
          "Ewallet"
         ],
         "xaxis": "x",
         "y": [
          110,
          104,
          126
         ],
         "yaxis": "y"
        },
        {
         "alignmentgroup": "True",
         "hovertemplate": "branch=B<br>payment=%{x}<br>total=%{y}<extra></extra>",
         "legendgroup": "B",
         "marker": {
          "color": "#EF553B",
          "pattern": {
           "shape": ""
          }
         },
         "name": "B",
         "offsetgroup": "B",
         "orientation": "v",
         "showlegend": true,
         "textposition": "auto",
         "type": "bar",
         "x": [
          "Cash",
          "Credit card",
          "Ewallet"
         ],
         "xaxis": "x",
         "y": [
          110,
          109,
          113
         ],
         "yaxis": "y"
        },
        {
         "alignmentgroup": "True",
         "hovertemplate": "branch=C<br>payment=%{x}<br>total=%{y}<extra></extra>",
         "legendgroup": "C",
         "marker": {
          "color": "#00cc96",
          "pattern": {
           "shape": ""
          }
         },
         "name": "C",
         "offsetgroup": "C",
         "orientation": "v",
         "showlegend": true,
         "textposition": "auto",
         "type": "bar",
         "x": [
          "Cash",
          "Credit card",
          "Ewallet"
         ],
         "xaxis": "x",
         "y": [
          124,
          98,
          106
         ],
         "yaxis": "y"
        }
       ],
       "layout": {
        "barmode": "relative",
        "legend": {
         "title": {
          "text": "branch"
         },
         "tracegroupgap": 0
        },
        "template": {
         "data": {
          "bar": [
           {
            "error_x": {
             "color": "#2a3f5f"
            },
            "error_y": {
             "color": "#2a3f5f"
            },
            "marker": {
             "line": {
              "color": "#E5ECF6",
              "width": 0.5
             },
             "pattern": {
              "fillmode": "overlay",
              "size": 10,
              "solidity": 0.2
             }
            },
            "type": "bar"
           }
          ],
          "barpolar": [
           {
            "marker": {
             "line": {
              "color": "#E5ECF6",
              "width": 0.5
             },
             "pattern": {
              "fillmode": "overlay",
              "size": 10,
              "solidity": 0.2
             }
            },
            "type": "barpolar"
           }
          ],
          "carpet": [
           {
            "aaxis": {
             "endlinecolor": "#2a3f5f",
             "gridcolor": "white",
             "linecolor": "white",
             "minorgridcolor": "white",
             "startlinecolor": "#2a3f5f"
            },
            "baxis": {
             "endlinecolor": "#2a3f5f",
             "gridcolor": "white",
             "linecolor": "white",
             "minorgridcolor": "white",
             "startlinecolor": "#2a3f5f"
            },
            "type": "carpet"
           }
          ],
          "choropleth": [
           {
            "colorbar": {
             "outlinewidth": 0,
             "ticks": ""
            },
            "type": "choropleth"
           }
          ],
          "contour": [
           {
            "colorbar": {
             "outlinewidth": 0,
             "ticks": ""
            },
            "colorscale": [
             [
              0,
              "#0d0887"
             ],
             [
              0.1111111111111111,
              "#46039f"
             ],
             [
              0.2222222222222222,
              "#7201a8"
             ],
             [
              0.3333333333333333,
              "#9c179e"
             ],
             [
              0.4444444444444444,
              "#bd3786"
             ],
             [
              0.5555555555555556,
              "#d8576b"
             ],
             [
              0.6666666666666666,
              "#ed7953"
             ],
             [
              0.7777777777777778,
              "#fb9f3a"
             ],
             [
              0.8888888888888888,
              "#fdca26"
             ],
             [
              1,
              "#f0f921"
             ]
            ],
            "type": "contour"
           }
          ],
          "contourcarpet": [
           {
            "colorbar": {
             "outlinewidth": 0,
             "ticks": ""
            },
            "type": "contourcarpet"
           }
          ],
          "heatmap": [
           {
            "colorbar": {
             "outlinewidth": 0,
             "ticks": ""
            },
            "colorscale": [
             [
              0,
              "#0d0887"
             ],
             [
              0.1111111111111111,
              "#46039f"
             ],
             [
              0.2222222222222222,
              "#7201a8"
             ],
             [
              0.3333333333333333,
              "#9c179e"
             ],
             [
              0.4444444444444444,
              "#bd3786"
             ],
             [
              0.5555555555555556,
              "#d8576b"
             ],
             [
              0.6666666666666666,
              "#ed7953"
             ],
             [
              0.7777777777777778,
              "#fb9f3a"
             ],
             [
              0.8888888888888888,
              "#fdca26"
             ],
             [
              1,
              "#f0f921"
             ]
            ],
            "type": "heatmap"
           }
          ],
          "heatmapgl": [
           {
            "colorbar": {
             "outlinewidth": 0,
             "ticks": ""
            },
            "colorscale": [
             [
              0,
              "#0d0887"
             ],
             [
              0.1111111111111111,
              "#46039f"
             ],
             [
              0.2222222222222222,
              "#7201a8"
             ],
             [
              0.3333333333333333,
              "#9c179e"
             ],
             [
              0.4444444444444444,
              "#bd3786"
             ],
             [
              0.5555555555555556,
              "#d8576b"
             ],
             [
              0.6666666666666666,
              "#ed7953"
             ],
             [
              0.7777777777777778,
              "#fb9f3a"
             ],
             [
              0.8888888888888888,
              "#fdca26"
             ],
             [
              1,
              "#f0f921"
             ]
            ],
            "type": "heatmapgl"
           }
          ],
          "histogram": [
           {
            "marker": {
             "pattern": {
              "fillmode": "overlay",
              "size": 10,
              "solidity": 0.2
             }
            },
            "type": "histogram"
           }
          ],
          "histogram2d": [
           {
            "colorbar": {
             "outlinewidth": 0,
             "ticks": ""
            },
            "colorscale": [
             [
              0,
              "#0d0887"
             ],
             [
              0.1111111111111111,
              "#46039f"
             ],
             [
              0.2222222222222222,
              "#7201a8"
             ],
             [
              0.3333333333333333,
              "#9c179e"
             ],
             [
              0.4444444444444444,
              "#bd3786"
             ],
             [
              0.5555555555555556,
              "#d8576b"
             ],
             [
              0.6666666666666666,
              "#ed7953"
             ],
             [
              0.7777777777777778,
              "#fb9f3a"
             ],
             [
              0.8888888888888888,
              "#fdca26"
             ],
             [
              1,
              "#f0f921"
             ]
            ],
            "type": "histogram2d"
           }
          ],
          "histogram2dcontour": [
           {
            "colorbar": {
             "outlinewidth": 0,
             "ticks": ""
            },
            "colorscale": [
             [
              0,
              "#0d0887"
             ],
             [
              0.1111111111111111,
              "#46039f"
             ],
             [
              0.2222222222222222,
              "#7201a8"
             ],
             [
              0.3333333333333333,
              "#9c179e"
             ],
             [
              0.4444444444444444,
              "#bd3786"
             ],
             [
              0.5555555555555556,
              "#d8576b"
             ],
             [
              0.6666666666666666,
              "#ed7953"
             ],
             [
              0.7777777777777778,
              "#fb9f3a"
             ],
             [
              0.8888888888888888,
              "#fdca26"
             ],
             [
              1,
              "#f0f921"
             ]
            ],
            "type": "histogram2dcontour"
           }
          ],
          "mesh3d": [
           {
            "colorbar": {
             "outlinewidth": 0,
             "ticks": ""
            },
            "type": "mesh3d"
           }
          ],
          "parcoords": [
           {
            "line": {
             "colorbar": {
              "outlinewidth": 0,
              "ticks": ""
             }
            },
            "type": "parcoords"
           }
          ],
          "pie": [
           {
            "automargin": true,
            "type": "pie"
           }
          ],
          "scatter": [
           {
            "fillpattern": {
             "fillmode": "overlay",
             "size": 10,
             "solidity": 0.2
            },
            "type": "scatter"
           }
          ],
          "scatter3d": [
           {
            "line": {
             "colorbar": {
              "outlinewidth": 0,
              "ticks": ""
             }
            },
            "marker": {
             "colorbar": {
              "outlinewidth": 0,
              "ticks": ""
             }
            },
            "type": "scatter3d"
           }
          ],
          "scattercarpet": [
           {
            "marker": {
             "colorbar": {
              "outlinewidth": 0,
              "ticks": ""
             }
            },
            "type": "scattercarpet"
           }
          ],
          "scattergeo": [
           {
            "marker": {
             "colorbar": {
              "outlinewidth": 0,
              "ticks": ""
             }
            },
            "type": "scattergeo"
           }
          ],
          "scattergl": [
           {
            "marker": {
             "colorbar": {
              "outlinewidth": 0,
              "ticks": ""
             }
            },
            "type": "scattergl"
           }
          ],
          "scattermapbox": [
           {
            "marker": {
             "colorbar": {
              "outlinewidth": 0,
              "ticks": ""
             }
            },
            "type": "scattermapbox"
           }
          ],
          "scatterpolar": [
           {
            "marker": {
             "colorbar": {
              "outlinewidth": 0,
              "ticks": ""
             }
            },
            "type": "scatterpolar"
           }
          ],
          "scatterpolargl": [
           {
            "marker": {
             "colorbar": {
              "outlinewidth": 0,
              "ticks": ""
             }
            },
            "type": "scatterpolargl"
           }
          ],
          "scatterternary": [
           {
            "marker": {
             "colorbar": {
              "outlinewidth": 0,
              "ticks": ""
             }
            },
            "type": "scatterternary"
           }
          ],
          "surface": [
           {
            "colorbar": {
             "outlinewidth": 0,
             "ticks": ""
            },
            "colorscale": [
             [
              0,
              "#0d0887"
             ],
             [
              0.1111111111111111,
              "#46039f"
             ],
             [
              0.2222222222222222,
              "#7201a8"
             ],
             [
              0.3333333333333333,
              "#9c179e"
             ],
             [
              0.4444444444444444,
              "#bd3786"
             ],
             [
              0.5555555555555556,
              "#d8576b"
             ],
             [
              0.6666666666666666,
              "#ed7953"
             ],
             [
              0.7777777777777778,
              "#fb9f3a"
             ],
             [
              0.8888888888888888,
              "#fdca26"
             ],
             [
              1,
              "#f0f921"
             ]
            ],
            "type": "surface"
           }
          ],
          "table": [
           {
            "cells": {
             "fill": {
              "color": "#EBF0F8"
             },
             "line": {
              "color": "white"
             }
            },
            "header": {
             "fill": {
              "color": "#C8D4E3"
             },
             "line": {
              "color": "white"
             }
            },
            "type": "table"
           }
          ]
         },
         "layout": {
          "annotationdefaults": {
           "arrowcolor": "#2a3f5f",
           "arrowhead": 0,
           "arrowwidth": 1
          },
          "autotypenumbers": "strict",
          "coloraxis": {
           "colorbar": {
            "outlinewidth": 0,
            "ticks": ""
           }
          },
          "colorscale": {
           "diverging": [
            [
             0,
             "#8e0152"
            ],
            [
             0.1,
             "#c51b7d"
            ],
            [
             0.2,
             "#de77ae"
            ],
            [
             0.3,
             "#f1b6da"
            ],
            [
             0.4,
             "#fde0ef"
            ],
            [
             0.5,
             "#f7f7f7"
            ],
            [
             0.6,
             "#e6f5d0"
            ],
            [
             0.7,
             "#b8e186"
            ],
            [
             0.8,
             "#7fbc41"
            ],
            [
             0.9,
             "#4d9221"
            ],
            [
             1,
             "#276419"
            ]
           ],
           "sequential": [
            [
             0,
             "#0d0887"
            ],
            [
             0.1111111111111111,
             "#46039f"
            ],
            [
             0.2222222222222222,
             "#7201a8"
            ],
            [
             0.3333333333333333,
             "#9c179e"
            ],
            [
             0.4444444444444444,
             "#bd3786"
            ],
            [
             0.5555555555555556,
             "#d8576b"
            ],
            [
             0.6666666666666666,
             "#ed7953"
            ],
            [
             0.7777777777777778,
             "#fb9f3a"
            ],
            [
             0.8888888888888888,
             "#fdca26"
            ],
            [
             1,
             "#f0f921"
            ]
           ],
           "sequentialminus": [
            [
             0,
             "#0d0887"
            ],
            [
             0.1111111111111111,
             "#46039f"
            ],
            [
             0.2222222222222222,
             "#7201a8"
            ],
            [
             0.3333333333333333,
             "#9c179e"
            ],
            [
             0.4444444444444444,
             "#bd3786"
            ],
            [
             0.5555555555555556,
             "#d8576b"
            ],
            [
             0.6666666666666666,
             "#ed7953"
            ],
            [
             0.7777777777777778,
             "#fb9f3a"
            ],
            [
             0.8888888888888888,
             "#fdca26"
            ],
            [
             1,
             "#f0f921"
            ]
           ]
          },
          "colorway": [
           "#636efa",
           "#EF553B",
           "#00cc96",
           "#ab63fa",
           "#FFA15A",
           "#19d3f3",
           "#FF6692",
           "#B6E880",
           "#FF97FF",
           "#FECB52"
          ],
          "font": {
           "color": "#2a3f5f"
          },
          "geo": {
           "bgcolor": "white",
           "lakecolor": "white",
           "landcolor": "#E5ECF6",
           "showlakes": true,
           "showland": true,
           "subunitcolor": "white"
          },
          "hoverlabel": {
           "align": "left"
          },
          "hovermode": "closest",
          "mapbox": {
           "style": "light"
          },
          "paper_bgcolor": "white",
          "plot_bgcolor": "#E5ECF6",
          "polar": {
           "angularaxis": {
            "gridcolor": "white",
            "linecolor": "white",
            "ticks": ""
           },
           "bgcolor": "#E5ECF6",
           "radialaxis": {
            "gridcolor": "white",
            "linecolor": "white",
            "ticks": ""
           }
          },
          "scene": {
           "xaxis": {
            "backgroundcolor": "#E5ECF6",
            "gridcolor": "white",
            "gridwidth": 2,
            "linecolor": "white",
            "showbackground": true,
            "ticks": "",
            "zerolinecolor": "white"
           },
           "yaxis": {
            "backgroundcolor": "#E5ECF6",
            "gridcolor": "white",
            "gridwidth": 2,
            "linecolor": "white",
            "showbackground": true,
            "ticks": "",
            "zerolinecolor": "white"
           },
           "zaxis": {
            "backgroundcolor": "#E5ECF6",
            "gridcolor": "white",
            "gridwidth": 2,
            "linecolor": "white",
            "showbackground": true,
            "ticks": "",
            "zerolinecolor": "white"
           }
          },
          "shapedefaults": {
           "line": {
            "color": "#2a3f5f"
           }
          },
          "ternary": {
           "aaxis": {
            "gridcolor": "white",
            "linecolor": "white",
            "ticks": ""
           },
           "baxis": {
            "gridcolor": "white",
            "linecolor": "white",
            "ticks": ""
           },
           "bgcolor": "#E5ECF6",
           "caxis": {
            "gridcolor": "white",
            "linecolor": "white",
            "ticks": ""
           }
          },
          "title": {
           "x": 0.05
          },
          "xaxis": {
           "automargin": true,
           "gridcolor": "white",
           "linecolor": "white",
           "ticks": "",
           "title": {
            "standoff": 15
           },
           "zerolinecolor": "white",
           "zerolinewidth": 2
          },
          "yaxis": {
           "automargin": true,
           "gridcolor": "white",
           "linecolor": "white",
           "ticks": "",
           "title": {
            "standoff": 15
           },
           "zerolinecolor": "white",
           "zerolinewidth": 2
          }
         }
        },
        "title": {
         "text": "Count of Total Payment Method by branch"
        },
        "xaxis": {
         "anchor": "y",
         "domain": [
          0,
          1
         ],
         "title": {
          "text": "payment"
         }
        },
        "yaxis": {
         "anchor": "x",
         "domain": [
          0,
          1
         ],
         "title": {
          "text": "total"
         }
        }
       }
      }
     },
     "metadata": {},
     "output_type": "display_data"
    }
   ],
   "source": [
    "px.bar(branch_payment,x='payment',y='total',color='branch',title='Count of Total Payment Method by branch')\n"
   ]
  },
  {
   "cell_type": "code",
   "execution_count": 275,
   "id": "39ed5c04",
   "metadata": {},
   "outputs": [
    {
     "data": {
      "application/vnd.plotly.v1+json": {
       "config": {
        "plotlyServerURL": "https://plot.ly"
       },
       "data": [
        {
         "domain": {
          "x": [
           0,
           1
          ],
          "y": [
           0,
           1
          ]
         },
         "hovertemplate": "product_line=%{label}<br>quantity=%{value}<extra></extra>",
         "labels": [
          "Health and beauty",
          "Electronic accessories",
          "Home and lifestyle",
          "Health and beauty",
          "Sports and travel",
          "Electronic accessories",
          "Electronic accessories",
          "Home and lifestyle",
          "Health and beauty",
          "Food and beverages",
          "Fashion accessories",
          "Electronic accessories",
          "Electronic accessories",
          "Food and beverages",
          "Health and beauty",
          "Sports and travel",
          "Health and beauty",
          "Sports and travel",
          "Food and beverages",
          "Home and lifestyle",
          "Electronic accessories",
          "Health and beauty",
          "Home and lifestyle",
          "Electronic accessories",
          "Sports and travel",
          "Home and lifestyle",
          "Fashion accessories",
          "Fashion accessories",
          "Food and beverages",
          "Health and beauty",
          "Fashion accessories",
          "Sports and travel",
          "Sports and travel",
          "Health and beauty",
          "Food and beverages",
          "Sports and travel",
          "Sports and travel",
          "Electronic accessories",
          "Health and beauty",
          "Home and lifestyle",
          "Home and lifestyle",
          "Home and lifestyle",
          "Sports and travel",
          "Food and beverages",
          "Health and beauty",
          "Electronic accessories",
          "Health and beauty",
          "Food and beverages",
          "Electronic accessories",
          "Fashion accessories",
          "Food and beverages",
          "Food and beverages",
          "Fashion accessories",
          "Fashion accessories",
          "Home and lifestyle",
          "Electronic accessories",
          "Home and lifestyle",
          "Health and beauty",
          "Home and lifestyle",
          "Electronic accessories",
          "Sports and travel",
          "Home and lifestyle",
          "Sports and travel",
          "Sports and travel",
          "Health and beauty",
          "Health and beauty",
          "Health and beauty",
          "Fashion accessories",
          "Sports and travel",
          "Health and beauty",
          "Food and beverages",
          "Fashion accessories",
          "Food and beverages",
          "Electronic accessories",
          "Home and lifestyle",
          "Electronic accessories",
          "Fashion accessories",
          "Fashion accessories",
          "Food and beverages",
          "Health and beauty",
          "Health and beauty",
          "Food and beverages",
          "Food and beverages",
          "Food and beverages",
          "Sports and travel",
          "Sports and travel",
          "Fashion accessories",
          "Food and beverages",
          "Sports and travel",
          "Health and beauty",
          "Home and lifestyle",
          "Sports and travel",
          "Sports and travel",
          "Health and beauty",
          "Health and beauty",
          "Electronic accessories",
          "Health and beauty",
          "Electronic accessories",
          "Food and beverages",
          "Home and lifestyle",
          "Fashion accessories",
          "Fashion accessories",
          "Electronic accessories",
          "Food and beverages",
          "Health and beauty",
          "Electronic accessories",
          "Fashion accessories",
          "Sports and travel",
          "Food and beverages",
          "Electronic accessories",
          "Sports and travel",
          "Health and beauty",
          "Fashion accessories",
          "Home and lifestyle",
          "Home and lifestyle",
          "Fashion accessories",
          "Fashion accessories",
          "Fashion accessories",
          "Food and beverages",
          "Home and lifestyle",
          "Electronic accessories",
          "Sports and travel",
          "Sports and travel",
          "Home and lifestyle",
          "Fashion accessories",
          "Home and lifestyle",
          "Sports and travel",
          "Fashion accessories",
          "Food and beverages",
          "Sports and travel",
          "Fashion accessories",
          "Sports and travel",
          "Sports and travel",
          "Electronic accessories",
          "Health and beauty",
          "Fashion accessories",
          "Electronic accessories",
          "Home and lifestyle",
          "Sports and travel",
          "Sports and travel",
          "Sports and travel",
          "Health and beauty",
          "Health and beauty",
          "Food and beverages",
          "Home and lifestyle",
          "Health and beauty",
          "Fashion accessories",
          "Health and beauty",
          "Home and lifestyle",
          "Health and beauty",
          "Fashion accessories",
          "Sports and travel",
          "Fashion accessories",
          "Food and beverages",
          "Sports and travel",
          "Food and beverages",
          "Electronic accessories",
          "Home and lifestyle",
          "Health and beauty",
          "Sports and travel",
          "Food and beverages",
          "Sports and travel",
          "Food and beverages",
          "Sports and travel",
          "Food and beverages",
          "Health and beauty",
          "Home and lifestyle",
          "Fashion accessories",
          "Food and beverages",
          "Sports and travel",
          "Health and beauty",
          "Food and beverages",
          "Electronic accessories",
          "Electronic accessories",
          "Food and beverages",
          "Home and lifestyle",
          "Food and beverages",
          "Fashion accessories",
          "Food and beverages",
          "Health and beauty",
          "Fashion accessories",
          "Food and beverages",
          "Sports and travel",
          "Health and beauty",
          "Sports and travel",
          "Food and beverages",
          "Home and lifestyle",
          "Home and lifestyle",
          "Home and lifestyle",
          "Home and lifestyle",
          "Home and lifestyle",
          "Fashion accessories",
          "Food and beverages",
          "Home and lifestyle",
          "Electronic accessories",
          "Fashion accessories",
          "Health and beauty",
          "Home and lifestyle",
          "Health and beauty",
          "Food and beverages",
          "Sports and travel",
          "Electronic accessories",
          "Electronic accessories",
          "Health and beauty",
          "Home and lifestyle",
          "Health and beauty",
          "Electronic accessories",
          "Home and lifestyle",
          "Fashion accessories",
          "Electronic accessories",
          "Electronic accessories",
          "Food and beverages",
          "Home and lifestyle",
          "Sports and travel",
          "Sports and travel",
          "Home and lifestyle",
          "Sports and travel",
          "Electronic accessories",
          "Fashion accessories",
          "Food and beverages",
          "Electronic accessories",
          "Food and beverages",
          "Electronic accessories",
          "Fashion accessories",
          "Food and beverages",
          "Sports and travel",
          "Health and beauty",
          "Electronic accessories",
          "Electronic accessories",
          "Home and lifestyle",
          "Fashion accessories",
          "Electronic accessories",
          "Health and beauty",
          "Fashion accessories",
          "Health and beauty",
          "Sports and travel",
          "Health and beauty",
          "Fashion accessories",
          "Electronic accessories",
          "Fashion accessories",
          "Food and beverages",
          "Health and beauty",
          "Fashion accessories",
          "Home and lifestyle",
          "Home and lifestyle",
          "Home and lifestyle",
          "Electronic accessories",
          "Fashion accessories",
          "Electronic accessories",
          "Food and beverages",
          "Food and beverages",
          "Fashion accessories",
          "Sports and travel",
          "Home and lifestyle",
          "Home and lifestyle",
          "Fashion accessories",
          "Electronic accessories",
          "Home and lifestyle",
          "Electronic accessories",
          "Electronic accessories",
          "Electronic accessories",
          "Fashion accessories",
          "Fashion accessories",
          "Sports and travel",
          "Sports and travel",
          "Sports and travel",
          "Home and lifestyle",
          "Food and beverages",
          "Home and lifestyle",
          "Home and lifestyle",
          "Sports and travel",
          "Health and beauty",
          "Home and lifestyle",
          "Home and lifestyle",
          "Health and beauty",
          "Fashion accessories",
          "Home and lifestyle",
          "Fashion accessories",
          "Fashion accessories",
          "Sports and travel",
          "Home and lifestyle",
          "Home and lifestyle",
          "Sports and travel",
          "Health and beauty",
          "Health and beauty",
          "Health and beauty",
          "Home and lifestyle",
          "Sports and travel",
          "Food and beverages",
          "Home and lifestyle",
          "Electronic accessories",
          "Electronic accessories",
          "Electronic accessories",
          "Food and beverages",
          "Health and beauty",
          "Electronic accessories",
          "Electronic accessories",
          "Home and lifestyle",
          "Home and lifestyle",
          "Home and lifestyle",
          "Fashion accessories",
          "Health and beauty",
          "Food and beverages",
          "Electronic accessories",
          "Electronic accessories",
          "Electronic accessories",
          "Sports and travel",
          "Home and lifestyle",
          "Electronic accessories",
          "Fashion accessories",
          "Sports and travel",
          "Fashion accessories",
          "Food and beverages",
          "Health and beauty",
          "Electronic accessories",
          "Food and beverages",
          "Food and beverages",
          "Electronic accessories",
          "Health and beauty",
          "Health and beauty",
          "Food and beverages",
          "Health and beauty",
          "Health and beauty",
          "Fashion accessories",
          "Home and lifestyle",
          "Sports and travel",
          "Food and beverages",
          "Food and beverages",
          "Health and beauty",
          "Electronic accessories",
          "Home and lifestyle",
          "Food and beverages",
          "Fashion accessories",
          "Food and beverages",
          "Sports and travel",
          "Electronic accessories",
          "Fashion accessories",
          "Sports and travel",
          "Electronic accessories",
          "Food and beverages",
          "Electronic accessories",
          "Health and beauty",
          "Health and beauty",
          "Food and beverages",
          "Sports and travel",
          "Fashion accessories",
          "Electronic accessories",
          "Home and lifestyle",
          "Electronic accessories",
          "Health and beauty",
          "Fashion accessories",
          "Electronic accessories",
          "Fashion accessories",
          "Home and lifestyle",
          "Electronic accessories",
          "Food and beverages",
          "Fashion accessories",
          "Sports and travel",
          "Electronic accessories",
          "Sports and travel",
          "Food and beverages",
          "Food and beverages",
          "Food and beverages",
          "Home and lifestyle",
          "Food and beverages",
          "Fashion accessories",
          "Electronic accessories",
          "Home and lifestyle",
          "Sports and travel",
          "Electronic accessories",
          "Electronic accessories",
          "Fashion accessories",
          "Home and lifestyle",
          "Fashion accessories",
          "Home and lifestyle",
          "Fashion accessories",
          "Home and lifestyle",
          "Sports and travel",
          "Fashion accessories",
          "Electronic accessories",
          "Sports and travel",
          "Electronic accessories",
          "Food and beverages",
          "Food and beverages",
          "Food and beverages",
          "Sports and travel",
          "Food and beverages",
          "Health and beauty",
          "Fashion accessories",
          "Food and beverages",
          "Fashion accessories",
          "Fashion accessories",
          "Electronic accessories",
          "Sports and travel",
          "Health and beauty",
          "Health and beauty",
          "Food and beverages",
          "Home and lifestyle",
          "Health and beauty",
          "Electronic accessories",
          "Food and beverages",
          "Home and lifestyle",
          "Home and lifestyle",
          "Fashion accessories",
          "Fashion accessories",
          "Sports and travel",
          "Food and beverages",
          "Fashion accessories",
          "Home and lifestyle",
          "Fashion accessories",
          "Health and beauty",
          "Sports and travel",
          "Health and beauty",
          "Sports and travel",
          "Home and lifestyle",
          "Health and beauty",
          "Home and lifestyle",
          "Health and beauty",
          "Health and beauty",
          "Electronic accessories",
          "Food and beverages",
          "Electronic accessories",
          "Fashion accessories",
          "Fashion accessories",
          "Fashion accessories",
          "Fashion accessories",
          "Health and beauty",
          "Food and beverages",
          "Sports and travel",
          "Home and lifestyle",
          "Fashion accessories",
          "Food and beverages",
          "Electronic accessories",
          "Fashion accessories",
          "Fashion accessories",
          "Sports and travel",
          "Sports and travel",
          "Home and lifestyle",
          "Food and beverages",
          "Electronic accessories",
          "Food and beverages",
          "Sports and travel",
          "Home and lifestyle",
          "Fashion accessories",
          "Sports and travel",
          "Health and beauty",
          "Food and beverages",
          "Fashion accessories",
          "Health and beauty",
          "Sports and travel",
          "Electronic accessories",
          "Electronic accessories",
          "Food and beverages",
          "Health and beauty",
          "Electronic accessories",
          "Fashion accessories",
          "Food and beverages",
          "Electronic accessories",
          "Electronic accessories",
          "Food and beverages",
          "Food and beverages",
          "Food and beverages",
          "Sports and travel",
          "Food and beverages",
          "Food and beverages",
          "Sports and travel",
          "Health and beauty",
          "Sports and travel",
          "Food and beverages",
          "Electronic accessories",
          "Home and lifestyle",
          "Sports and travel",
          "Fashion accessories",
          "Health and beauty",
          "Electronic accessories",
          "Health and beauty",
          "Sports and travel",
          "Electronic accessories",
          "Sports and travel",
          "Electronic accessories",
          "Food and beverages",
          "Electronic accessories",
          "Sports and travel",
          "Home and lifestyle",
          "Sports and travel",
          "Sports and travel",
          "Fashion accessories",
          "Fashion accessories",
          "Home and lifestyle",
          "Home and lifestyle",
          "Fashion accessories",
          "Fashion accessories",
          "Health and beauty",
          "Home and lifestyle",
          "Fashion accessories",
          "Sports and travel",
          "Electronic accessories",
          "Food and beverages",
          "Sports and travel",
          "Sports and travel",
          "Sports and travel",
          "Fashion accessories",
          "Home and lifestyle",
          "Sports and travel",
          "Sports and travel",
          "Electronic accessories",
          "Sports and travel",
          "Food and beverages",
          "Health and beauty",
          "Home and lifestyle",
          "Sports and travel",
          "Home and lifestyle",
          "Fashion accessories",
          "Electronic accessories",
          "Sports and travel",
          "Fashion accessories",
          "Health and beauty",
          "Home and lifestyle",
          "Home and lifestyle",
          "Sports and travel",
          "Electronic accessories",
          "Home and lifestyle",
          "Home and lifestyle",
          "Health and beauty",
          "Food and beverages",
          "Sports and travel",
          "Fashion accessories",
          "Fashion accessories",
          "Food and beverages",
          "Sports and travel",
          "Health and beauty",
          "Fashion accessories",
          "Electronic accessories",
          "Food and beverages",
          "Home and lifestyle",
          "Home and lifestyle",
          "Fashion accessories",
          "Home and lifestyle",
          "Fashion accessories",
          "Food and beverages",
          "Home and lifestyle",
          "Health and beauty",
          "Sports and travel",
          "Electronic accessories",
          "Food and beverages",
          "Home and lifestyle",
          "Fashion accessories",
          "Sports and travel",
          "Sports and travel",
          "Electronic accessories",
          "Fashion accessories",
          "Fashion accessories",
          "Health and beauty",
          "Electronic accessories",
          "Electronic accessories",
          "Home and lifestyle",
          "Fashion accessories",
          "Food and beverages",
          "Food and beverages",
          "Home and lifestyle",
          "Electronic accessories",
          "Food and beverages",
          "Electronic accessories",
          "Electronic accessories",
          "Fashion accessories",
          "Food and beverages",
          "Sports and travel",
          "Fashion accessories",
          "Fashion accessories",
          "Sports and travel",
          "Home and lifestyle",
          "Sports and travel",
          "Food and beverages",
          "Food and beverages",
          "Sports and travel",
          "Fashion accessories",
          "Food and beverages",
          "Food and beverages",
          "Health and beauty",
          "Health and beauty",
          "Food and beverages",
          "Health and beauty",
          "Fashion accessories",
          "Fashion accessories",
          "Sports and travel",
          "Health and beauty",
          "Food and beverages",
          "Sports and travel",
          "Fashion accessories",
          "Health and beauty",
          "Health and beauty",
          "Home and lifestyle",
          "Sports and travel",
          "Sports and travel",
          "Sports and travel",
          "Health and beauty",
          "Food and beverages",
          "Sports and travel",
          "Fashion accessories",
          "Home and lifestyle",
          "Electronic accessories",
          "Fashion accessories",
          "Food and beverages",
          "Sports and travel",
          "Fashion accessories",
          "Home and lifestyle",
          "Fashion accessories",
          "Food and beverages",
          "Fashion accessories",
          "Food and beverages",
          "Electronic accessories",
          "Food and beverages",
          "Fashion accessories",
          "Sports and travel",
          "Food and beverages",
          "Sports and travel",
          "Sports and travel",
          "Electronic accessories",
          "Food and beverages",
          "Fashion accessories",
          "Food and beverages",
          "Food and beverages",
          "Home and lifestyle",
          "Fashion accessories",
          "Fashion accessories",
          "Food and beverages",
          "Sports and travel",
          "Health and beauty",
          "Home and lifestyle",
          "Fashion accessories",
          "Sports and travel",
          "Electronic accessories",
          "Food and beverages",
          "Home and lifestyle",
          "Food and beverages",
          "Health and beauty",
          "Health and beauty",
          "Electronic accessories",
          "Food and beverages",
          "Fashion accessories",
          "Food and beverages",
          "Electronic accessories",
          "Electronic accessories",
          "Food and beverages",
          "Electronic accessories",
          "Home and lifestyle",
          "Health and beauty",
          "Fashion accessories",
          "Sports and travel",
          "Electronic accessories",
          "Electronic accessories",
          "Health and beauty",
          "Home and lifestyle",
          "Sports and travel",
          "Fashion accessories",
          "Electronic accessories",
          "Electronic accessories",
          "Fashion accessories",
          "Sports and travel",
          "Fashion accessories",
          "Sports and travel",
          "Sports and travel",
          "Fashion accessories",
          "Food and beverages",
          "Sports and travel",
          "Fashion accessories",
          "Food and beverages",
          "Health and beauty",
          "Health and beauty",
          "Sports and travel",
          "Fashion accessories",
          "Food and beverages",
          "Health and beauty",
          "Health and beauty",
          "Electronic accessories",
          "Fashion accessories",
          "Sports and travel",
          "Food and beverages",
          "Health and beauty",
          "Food and beverages",
          "Electronic accessories",
          "Sports and travel",
          "Fashion accessories",
          "Fashion accessories",
          "Sports and travel",
          "Home and lifestyle",
          "Sports and travel",
          "Home and lifestyle",
          "Sports and travel",
          "Food and beverages",
          "Sports and travel",
          "Food and beverages",
          "Health and beauty",
          "Fashion accessories",
          "Food and beverages",
          "Home and lifestyle",
          "Sports and travel",
          "Home and lifestyle",
          "Electronic accessories",
          "Home and lifestyle",
          "Fashion accessories",
          "Food and beverages",
          "Fashion accessories",
          "Health and beauty",
          "Home and lifestyle",
          "Health and beauty",
          "Electronic accessories",
          "Food and beverages",
          "Fashion accessories",
          "Sports and travel",
          "Food and beverages",
          "Home and lifestyle",
          "Electronic accessories",
          "Health and beauty",
          "Fashion accessories",
          "Health and beauty",
          "Fashion accessories",
          "Electronic accessories",
          "Fashion accessories",
          "Fashion accessories",
          "Fashion accessories",
          "Sports and travel",
          "Home and lifestyle",
          "Food and beverages",
          "Food and beverages",
          "Health and beauty",
          "Home and lifestyle",
          "Sports and travel",
          "Fashion accessories",
          "Home and lifestyle",
          "Fashion accessories",
          "Health and beauty",
          "Fashion accessories",
          "Electronic accessories",
          "Food and beverages",
          "Health and beauty",
          "Home and lifestyle",
          "Electronic accessories",
          "Electronic accessories",
          "Home and lifestyle",
          "Home and lifestyle",
          "Food and beverages",
          "Sports and travel",
          "Home and lifestyle",
          "Sports and travel",
          "Food and beverages",
          "Fashion accessories",
          "Home and lifestyle",
          "Home and lifestyle",
          "Health and beauty",
          "Fashion accessories",
          "Food and beverages",
          "Electronic accessories",
          "Home and lifestyle",
          "Fashion accessories",
          "Fashion accessories",
          "Electronic accessories",
          "Home and lifestyle",
          "Food and beverages",
          "Food and beverages",
          "Food and beverages",
          "Electronic accessories",
          "Fashion accessories",
          "Health and beauty",
          "Health and beauty",
          "Home and lifestyle",
          "Fashion accessories",
          "Sports and travel",
          "Electronic accessories",
          "Home and lifestyle",
          "Sports and travel",
          "Health and beauty",
          "Sports and travel",
          "Food and beverages",
          "Food and beverages",
          "Food and beverages",
          "Health and beauty",
          "Sports and travel",
          "Sports and travel",
          "Electronic accessories",
          "Health and beauty",
          "Sports and travel",
          "Fashion accessories",
          "Home and lifestyle",
          "Health and beauty",
          "Electronic accessories",
          "Electronic accessories",
          "Health and beauty",
          "Health and beauty",
          "Sports and travel",
          "Fashion accessories",
          "Health and beauty",
          "Home and lifestyle",
          "Electronic accessories",
          "Electronic accessories",
          "Fashion accessories",
          "Home and lifestyle",
          "Sports and travel",
          "Health and beauty",
          "Home and lifestyle",
          "Sports and travel",
          "Electronic accessories",
          "Fashion accessories",
          "Fashion accessories",
          "Electronic accessories",
          "Home and lifestyle",
          "Sports and travel",
          "Electronic accessories",
          "Health and beauty",
          "Fashion accessories",
          "Health and beauty",
          "Electronic accessories",
          "Sports and travel",
          "Electronic accessories",
          "Electronic accessories",
          "Food and beverages",
          "Fashion accessories",
          "Food and beverages",
          "Health and beauty",
          "Food and beverages",
          "Electronic accessories",
          "Home and lifestyle",
          "Sports and travel",
          "Health and beauty",
          "Sports and travel",
          "Sports and travel",
          "Health and beauty",
          "Fashion accessories",
          "Electronic accessories",
          "Electronic accessories",
          "Electronic accessories",
          "Health and beauty",
          "Sports and travel",
          "Health and beauty",
          "Home and lifestyle",
          "Fashion accessories",
          "Fashion accessories",
          "Sports and travel",
          "Electronic accessories",
          "Sports and travel",
          "Fashion accessories",
          "Electronic accessories",
          "Sports and travel",
          "Food and beverages",
          "Fashion accessories",
          "Electronic accessories",
          "Electronic accessories",
          "Sports and travel",
          "Food and beverages",
          "Fashion accessories",
          "Fashion accessories",
          "Fashion accessories",
          "Health and beauty",
          "Electronic accessories",
          "Health and beauty",
          "Fashion accessories",
          "Food and beverages",
          "Home and lifestyle",
          "Health and beauty",
          "Food and beverages",
          "Home and lifestyle",
          "Sports and travel",
          "Home and lifestyle",
          "Home and lifestyle",
          "Electronic accessories",
          "Health and beauty",
          "Sports and travel",
          "Health and beauty",
          "Food and beverages",
          "Sports and travel",
          "Food and beverages",
          "Fashion accessories",
          "Electronic accessories",
          "Sports and travel",
          "Home and lifestyle",
          "Home and lifestyle",
          "Fashion accessories",
          "Electronic accessories",
          "Electronic accessories",
          "Electronic accessories",
          "Food and beverages",
          "Fashion accessories",
          "Sports and travel",
          "Home and lifestyle",
          "Food and beverages",
          "Sports and travel",
          "Food and beverages",
          "Electronic accessories",
          "Fashion accessories",
          "Sports and travel",
          "Health and beauty",
          "Electronic accessories",
          "Fashion accessories",
          "Electronic accessories",
          "Electronic accessories",
          "Health and beauty",
          "Fashion accessories",
          "Food and beverages",
          "Health and beauty",
          "Food and beverages",
          "Electronic accessories",
          "Home and lifestyle",
          "Health and beauty",
          "Food and beverages",
          "Health and beauty",
          "Home and lifestyle",
          "Health and beauty",
          "Health and beauty",
          "Food and beverages",
          "Home and lifestyle",
          "Food and beverages",
          "Electronic accessories",
          "Home and lifestyle",
          "Fashion accessories",
          "Food and beverages",
          "Electronic accessories",
          "Sports and travel",
          "Fashion accessories",
          "Home and lifestyle",
          "Electronic accessories",
          "Home and lifestyle",
          "Home and lifestyle",
          "Home and lifestyle",
          "Sports and travel",
          "Sports and travel",
          "Electronic accessories",
          "Sports and travel",
          "Health and beauty",
          "Electronic accessories",
          "Sports and travel",
          "Home and lifestyle",
          "Fashion accessories",
          "Food and beverages",
          "Health and beauty",
          "Home and lifestyle",
          "Home and lifestyle",
          "Health and beauty",
          "Sports and travel",
          "Health and beauty",
          "Food and beverages",
          "Food and beverages",
          "Fashion accessories",
          "Home and lifestyle",
          "Health and beauty",
          "Health and beauty",
          "Electronic accessories",
          "Electronic accessories",
          "Fashion accessories",
          "Home and lifestyle",
          "Food and beverages",
          "Health and beauty",
          "Home and lifestyle",
          "Food and beverages",
          "Food and beverages",
          "Home and lifestyle",
          "Fashion accessories",
          "Food and beverages",
          "Electronic accessories",
          "Home and lifestyle",
          "Food and beverages",
          "Fashion accessories",
          "Electronic accessories",
          "Fashion accessories",
          "Electronic accessories",
          "Food and beverages",
          "Electronic accessories",
          "Home and lifestyle",
          "Home and lifestyle",
          "Health and beauty",
          "Electronic accessories",
          "Food and beverages",
          "Home and lifestyle",
          "Electronic accessories",
          "Home and lifestyle",
          "Fashion accessories",
          "Fashion accessories",
          "Food and beverages",
          "Food and beverages",
          "Electronic accessories",
          "Food and beverages",
          "Food and beverages",
          "Health and beauty",
          "Sports and travel",
          "Health and beauty",
          "Electronic accessories",
          "Fashion accessories",
          "Health and beauty",
          "Health and beauty",
          "Electronic accessories",
          "Health and beauty",
          "Food and beverages",
          "Sports and travel",
          "Electronic accessories",
          "Fashion accessories",
          "Electronic accessories",
          "Health and beauty",
          "Home and lifestyle",
          "Food and beverages",
          "Home and lifestyle",
          "Fashion accessories"
         ],
         "legendgroup": "",
         "name": "",
         "showlegend": true,
         "type": "pie",
         "values": [
          7,
          5,
          7,
          8,
          7,
          7,
          6,
          10,
          2,
          3,
          4,
          4,
          5,
          10,
          10,
          6,
          7,
          6,
          3,
          2,
          5,
          3,
          2,
          5,
          3,
          8,
          1,
          2,
          5,
          9,
          5,
          9,
          8,
          2,
          4,
          1,
          5,
          9,
          8,
          8,
          1,
          2,
          6,
          8,
          2,
          4,
          9,
          9,
          6,
          10,
          7,
          5,
          4,
          1,
          2,
          8,
          2,
          8,
          10,
          6,
          3,
          6,
          9,
          10,
          4,
          10,
          2,
          6,
          10,
          1,
          10,
          10,
          3,
          6,
          9,
          10,
          9,
          9,
          10,
          5,
          6,
          3,
          8,
          4,
          5,
          7,
          5,
          7,
          1,
          6,
          4,
          10,
          7,
          9,
          1,
          1,
          10,
          6,
          3,
          6,
          1,
          9,
          9,
          6,
          7,
          10,
          6,
          6,
          9,
          10,
          2,
          3,
          7,
          9,
          9,
          3,
          5,
          1,
          10,
          2,
          8,
          7,
          9,
          8,
          8,
          7,
          5,
          9,
          8,
          9,
          7,
          6,
          4,
          6,
          6,
          3,
          5,
          6,
          10,
          8,
          10,
          10,
          10,
          1,
          6,
          6,
          10,
          4,
          8,
          8,
          4,
          7,
          9,
          6,
          8,
          5,
          1,
          5,
          9,
          6,
          8,
          1,
          7,
          2,
          10,
          8,
          10,
          10,
          6,
          7,
          5,
          5,
          8,
          6,
          8,
          9,
          8,
          7,
          6,
          3,
          7,
          8,
          10,
          8,
          7,
          3,
          8,
          4,
          1,
          4,
          3,
          2,
          9,
          4,
          5,
          1,
          2,
          1,
          4,
          5,
          6,
          4,
          7,
          10,
          5,
          9,
          9,
          10,
          3,
          9,
          9,
          9,
          5,
          3,
          7,
          1,
          5,
          3,
          8,
          3,
          6,
          7,
          5,
          1,
          2,
          2,
          9,
          4,
          6,
          8,
          2,
          3,
          9,
          4,
          10,
          2,
          5,
          5,
          5,
          1,
          9,
          2,
          2,
          4,
          8,
          8,
          3,
          5,
          4,
          7,
          9,
          10,
          2,
          4,
          8,
          4,
          1,
          6,
          4,
          4,
          9,
          4,
          4,
          10,
          1,
          7,
          4,
          10,
          4,
          10,
          5,
          2,
          9,
          2,
          6,
          7,
          10,
          4,
          10,
          10,
          8,
          1,
          1,
          6,
          4,
          5,
          1,
          9,
          7,
          7,
          10,
          7,
          1,
          2,
          10,
          5,
          4,
          6,
          4,
          1,
          2,
          1,
          1,
          4,
          8,
          7,
          7,
          8,
          3,
          2,
          6,
          2,
          5,
          9,
          10,
          2,
          3,
          5,
          7,
          4,
          9,
          1,
          6,
          5,
          6,
          4,
          5,
          4,
          4,
          4,
          9,
          3,
          5,
          2,
          5,
          5,
          9,
          6,
          3,
          9,
          3,
          7,
          7,
          5,
          3,
          9,
          1,
          8,
          7,
          10,
          10,
          7,
          7,
          9,
          1,
          4,
          10,
          10,
          3,
          1,
          8,
          8,
          2,
          6,
          4,
          4,
          9,
          4,
          10,
          9,
          7,
          2,
          6,
          6,
          5,
          5,
          9,
          7,
          4,
          4,
          4,
          2,
          5,
          4,
          5,
          1,
          6,
          10,
          9,
          7,
          3,
          10,
          1,
          10,
          1,
          5,
          5,
          9,
          6,
          9,
          6,
          4,
          1,
          5,
          7,
          4,
          5,
          4,
          4,
          5,
          10,
          2,
          5,
          3,
          8,
          1,
          4,
          1,
          2,
          7,
          3,
          3,
          10,
          8,
          1,
          9,
          7,
          3,
          5,
          10,
          2,
          2,
          6,
          7,
          1,
          9,
          4,
          6,
          4,
          8,
          5,
          8,
          9,
          1,
          7,
          1,
          10,
          3,
          1,
          1,
          6,
          6,
          5,
          1,
          4,
          5,
          9,
          10,
          10,
          1,
          5,
          10,
          4,
          1,
          5,
          10,
          7,
          6,
          1,
          1,
          6,
          4,
          10,
          8,
          5,
          3,
          5,
          4,
          10,
          1,
          8,
          10,
          5,
          10,
          10,
          4,
          10,
          4,
          1,
          9,
          2,
          10,
          8,
          10,
          2,
          8,
          2,
          6,
          1,
          8,
          1,
          1,
          2,
          2,
          1,
          8,
          3,
          6,
          5,
          6,
          7,
          5,
          7,
          7,
          7,
          1,
          5,
          5,
          2,
          5,
          3,
          6,
          6,
          2,
          6,
          5,
          4,
          2,
          10,
          9,
          6,
          8,
          10,
          9,
          5,
          7,
          1,
          1,
          4,
          6,
          3,
          1,
          4,
          6,
          1,
          4,
          10,
          9,
          5,
          6,
          3,
          9,
          9,
          6,
          7,
          3,
          2,
          10,
          6,
          3,
          9,
          10,
          8,
          6,
          2,
          10,
          10,
          9,
          7,
          7,
          5,
          10,
          7,
          2,
          5,
          7,
          4,
          4,
          4,
          2,
          3,
          4,
          2,
          4,
          3,
          4,
          3,
          5,
          10,
          5,
          6,
          7,
          1,
          3,
          3,
          3,
          3,
          9,
          5,
          2,
          1,
          1,
          10,
          6,
          7,
          4,
          7,
          4,
          1,
          2,
          1,
          9,
          3,
          1,
          10,
          9,
          6,
          5,
          6,
          6,
          3,
          1,
          7,
          10,
          1,
          2,
          2,
          10,
          3,
          1,
          10,
          3,
          2,
          3,
          3,
          10,
          7,
          1,
          5,
          3,
          3,
          8,
          2,
          8,
          5,
          9,
          6,
          1,
          2,
          10,
          5,
          6,
          10,
          9,
          4,
          3,
          1,
          3,
          5,
          1,
          3,
          7,
          6,
          10,
          2,
          4,
          3,
          4,
          6,
          2,
          10,
          2,
          3,
          8,
          10,
          2,
          7,
          4,
          10,
          6,
          1,
          1,
          6,
          2,
          6,
          2,
          2,
          10,
          2,
          3,
          9,
          7,
          10,
          7,
          9,
          5,
          4,
          4,
          9,
          10,
          8,
          3,
          10,
          9,
          9,
          7,
          4,
          1,
          8,
          3,
          6,
          4,
          9,
          9,
          8,
          5,
          7,
          3,
          3,
          6,
          7,
          9,
          3,
          7,
          4,
          8,
          3,
          10,
          4,
          7,
          4,
          3,
          1,
          7,
          1,
          10,
          7,
          10,
          8,
          9,
          7,
          1,
          2,
          2,
          8,
          1,
          10,
          5,
          9,
          7,
          4,
          5,
          10,
          5,
          3,
          8,
          8,
          6,
          10,
          4,
          10,
          10,
          8,
          5,
          4,
          8,
          3,
          6,
          4,
          6,
          4,
          7,
          7,
          1,
          2,
          5,
          7,
          1,
          5,
          9,
          8,
          4,
          1,
          8,
          5,
          7,
          8,
          5,
          3,
          7,
          1,
          4,
          10,
          7,
          2,
          2,
          1,
          10,
          1,
          5,
          6,
          8,
          7,
          9,
          9,
          4,
          2,
          4,
          1,
          10,
          8,
          10,
          5,
          1,
          8,
          8,
          7,
          8,
          4,
          5,
          4,
          2,
          1,
          3,
          7,
          4,
          9,
          3,
          10,
          10,
          8,
          4,
          8,
          1,
          7,
          1,
          5,
          6,
          10,
          6,
          3,
          1,
          2,
          2,
          1,
          3,
          1,
          1,
          9,
          6,
          1,
          2,
          7,
          10,
          5,
          9,
          8,
          4,
          6,
          9,
          1,
          2,
          9,
          7,
          3,
          3,
          8,
          2,
          3,
          4,
          7,
          1,
          10,
          6,
          4,
          8,
          1,
          1,
          8,
          8,
          10,
          8,
          10,
          6,
          2,
          7,
          1,
          10,
          8,
          10,
          5,
          8,
          5,
          5,
          6,
          8,
          7,
          6,
          7,
          9,
          9,
          4,
          5,
          7,
          2,
          4,
          10,
          5,
          2,
          10,
          3,
          4,
          8,
          8,
          3,
          6,
          1,
          4,
          3,
          3,
          9,
          6,
          2,
          7,
          6,
          4,
          1,
          9,
          9,
          2,
          6,
          2,
          10,
          7,
          6,
          3,
          7,
          5,
          3,
          6,
          4,
          9,
          10,
          5,
          7,
          7,
          2,
          1,
          5,
          8,
          3,
          3,
          4,
          4,
          6,
          7,
          9,
          6,
          10,
          9,
          1,
          2,
          1,
          3,
          2,
          2,
          9,
          3,
          3,
          5,
          10,
          7,
          7,
          3,
          2,
          2,
          4,
          6,
          1,
          1,
          4,
          4,
          9,
          7,
          7,
          5,
          2,
          8,
          10,
          8,
          5,
          10,
          2,
          10,
          1,
          1,
          10,
          1,
          1,
          7
         ]
        }
       ],
       "layout": {
        "legend": {
         "tracegroupgap": 0
        },
        "template": {
         "data": {
          "bar": [
           {
            "error_x": {
             "color": "#2a3f5f"
            },
            "error_y": {
             "color": "#2a3f5f"
            },
            "marker": {
             "line": {
              "color": "#E5ECF6",
              "width": 0.5
             },
             "pattern": {
              "fillmode": "overlay",
              "size": 10,
              "solidity": 0.2
             }
            },
            "type": "bar"
           }
          ],
          "barpolar": [
           {
            "marker": {
             "line": {
              "color": "#E5ECF6",
              "width": 0.5
             },
             "pattern": {
              "fillmode": "overlay",
              "size": 10,
              "solidity": 0.2
             }
            },
            "type": "barpolar"
           }
          ],
          "carpet": [
           {
            "aaxis": {
             "endlinecolor": "#2a3f5f",
             "gridcolor": "white",
             "linecolor": "white",
             "minorgridcolor": "white",
             "startlinecolor": "#2a3f5f"
            },
            "baxis": {
             "endlinecolor": "#2a3f5f",
             "gridcolor": "white",
             "linecolor": "white",
             "minorgridcolor": "white",
             "startlinecolor": "#2a3f5f"
            },
            "type": "carpet"
           }
          ],
          "choropleth": [
           {
            "colorbar": {
             "outlinewidth": 0,
             "ticks": ""
            },
            "type": "choropleth"
           }
          ],
          "contour": [
           {
            "colorbar": {
             "outlinewidth": 0,
             "ticks": ""
            },
            "colorscale": [
             [
              0,
              "#0d0887"
             ],
             [
              0.1111111111111111,
              "#46039f"
             ],
             [
              0.2222222222222222,
              "#7201a8"
             ],
             [
              0.3333333333333333,
              "#9c179e"
             ],
             [
              0.4444444444444444,
              "#bd3786"
             ],
             [
              0.5555555555555556,
              "#d8576b"
             ],
             [
              0.6666666666666666,
              "#ed7953"
             ],
             [
              0.7777777777777778,
              "#fb9f3a"
             ],
             [
              0.8888888888888888,
              "#fdca26"
             ],
             [
              1,
              "#f0f921"
             ]
            ],
            "type": "contour"
           }
          ],
          "contourcarpet": [
           {
            "colorbar": {
             "outlinewidth": 0,
             "ticks": ""
            },
            "type": "contourcarpet"
           }
          ],
          "heatmap": [
           {
            "colorbar": {
             "outlinewidth": 0,
             "ticks": ""
            },
            "colorscale": [
             [
              0,
              "#0d0887"
             ],
             [
              0.1111111111111111,
              "#46039f"
             ],
             [
              0.2222222222222222,
              "#7201a8"
             ],
             [
              0.3333333333333333,
              "#9c179e"
             ],
             [
              0.4444444444444444,
              "#bd3786"
             ],
             [
              0.5555555555555556,
              "#d8576b"
             ],
             [
              0.6666666666666666,
              "#ed7953"
             ],
             [
              0.7777777777777778,
              "#fb9f3a"
             ],
             [
              0.8888888888888888,
              "#fdca26"
             ],
             [
              1,
              "#f0f921"
             ]
            ],
            "type": "heatmap"
           }
          ],
          "heatmapgl": [
           {
            "colorbar": {
             "outlinewidth": 0,
             "ticks": ""
            },
            "colorscale": [
             [
              0,
              "#0d0887"
             ],
             [
              0.1111111111111111,
              "#46039f"
             ],
             [
              0.2222222222222222,
              "#7201a8"
             ],
             [
              0.3333333333333333,
              "#9c179e"
             ],
             [
              0.4444444444444444,
              "#bd3786"
             ],
             [
              0.5555555555555556,
              "#d8576b"
             ],
             [
              0.6666666666666666,
              "#ed7953"
             ],
             [
              0.7777777777777778,
              "#fb9f3a"
             ],
             [
              0.8888888888888888,
              "#fdca26"
             ],
             [
              1,
              "#f0f921"
             ]
            ],
            "type": "heatmapgl"
           }
          ],
          "histogram": [
           {
            "marker": {
             "pattern": {
              "fillmode": "overlay",
              "size": 10,
              "solidity": 0.2
             }
            },
            "type": "histogram"
           }
          ],
          "histogram2d": [
           {
            "colorbar": {
             "outlinewidth": 0,
             "ticks": ""
            },
            "colorscale": [
             [
              0,
              "#0d0887"
             ],
             [
              0.1111111111111111,
              "#46039f"
             ],
             [
              0.2222222222222222,
              "#7201a8"
             ],
             [
              0.3333333333333333,
              "#9c179e"
             ],
             [
              0.4444444444444444,
              "#bd3786"
             ],
             [
              0.5555555555555556,
              "#d8576b"
             ],
             [
              0.6666666666666666,
              "#ed7953"
             ],
             [
              0.7777777777777778,
              "#fb9f3a"
             ],
             [
              0.8888888888888888,
              "#fdca26"
             ],
             [
              1,
              "#f0f921"
             ]
            ],
            "type": "histogram2d"
           }
          ],
          "histogram2dcontour": [
           {
            "colorbar": {
             "outlinewidth": 0,
             "ticks": ""
            },
            "colorscale": [
             [
              0,
              "#0d0887"
             ],
             [
              0.1111111111111111,
              "#46039f"
             ],
             [
              0.2222222222222222,
              "#7201a8"
             ],
             [
              0.3333333333333333,
              "#9c179e"
             ],
             [
              0.4444444444444444,
              "#bd3786"
             ],
             [
              0.5555555555555556,
              "#d8576b"
             ],
             [
              0.6666666666666666,
              "#ed7953"
             ],
             [
              0.7777777777777778,
              "#fb9f3a"
             ],
             [
              0.8888888888888888,
              "#fdca26"
             ],
             [
              1,
              "#f0f921"
             ]
            ],
            "type": "histogram2dcontour"
           }
          ],
          "mesh3d": [
           {
            "colorbar": {
             "outlinewidth": 0,
             "ticks": ""
            },
            "type": "mesh3d"
           }
          ],
          "parcoords": [
           {
            "line": {
             "colorbar": {
              "outlinewidth": 0,
              "ticks": ""
             }
            },
            "type": "parcoords"
           }
          ],
          "pie": [
           {
            "automargin": true,
            "type": "pie"
           }
          ],
          "scatter": [
           {
            "fillpattern": {
             "fillmode": "overlay",
             "size": 10,
             "solidity": 0.2
            },
            "type": "scatter"
           }
          ],
          "scatter3d": [
           {
            "line": {
             "colorbar": {
              "outlinewidth": 0,
              "ticks": ""
             }
            },
            "marker": {
             "colorbar": {
              "outlinewidth": 0,
              "ticks": ""
             }
            },
            "type": "scatter3d"
           }
          ],
          "scattercarpet": [
           {
            "marker": {
             "colorbar": {
              "outlinewidth": 0,
              "ticks": ""
             }
            },
            "type": "scattercarpet"
           }
          ],
          "scattergeo": [
           {
            "marker": {
             "colorbar": {
              "outlinewidth": 0,
              "ticks": ""
             }
            },
            "type": "scattergeo"
           }
          ],
          "scattergl": [
           {
            "marker": {
             "colorbar": {
              "outlinewidth": 0,
              "ticks": ""
             }
            },
            "type": "scattergl"
           }
          ],
          "scattermapbox": [
           {
            "marker": {
             "colorbar": {
              "outlinewidth": 0,
              "ticks": ""
             }
            },
            "type": "scattermapbox"
           }
          ],
          "scatterpolar": [
           {
            "marker": {
             "colorbar": {
              "outlinewidth": 0,
              "ticks": ""
             }
            },
            "type": "scatterpolar"
           }
          ],
          "scatterpolargl": [
           {
            "marker": {
             "colorbar": {
              "outlinewidth": 0,
              "ticks": ""
             }
            },
            "type": "scatterpolargl"
           }
          ],
          "scatterternary": [
           {
            "marker": {
             "colorbar": {
              "outlinewidth": 0,
              "ticks": ""
             }
            },
            "type": "scatterternary"
           }
          ],
          "surface": [
           {
            "colorbar": {
             "outlinewidth": 0,
             "ticks": ""
            },
            "colorscale": [
             [
              0,
              "#0d0887"
             ],
             [
              0.1111111111111111,
              "#46039f"
             ],
             [
              0.2222222222222222,
              "#7201a8"
             ],
             [
              0.3333333333333333,
              "#9c179e"
             ],
             [
              0.4444444444444444,
              "#bd3786"
             ],
             [
              0.5555555555555556,
              "#d8576b"
             ],
             [
              0.6666666666666666,
              "#ed7953"
             ],
             [
              0.7777777777777778,
              "#fb9f3a"
             ],
             [
              0.8888888888888888,
              "#fdca26"
             ],
             [
              1,
              "#f0f921"
             ]
            ],
            "type": "surface"
           }
          ],
          "table": [
           {
            "cells": {
             "fill": {
              "color": "#EBF0F8"
             },
             "line": {
              "color": "white"
             }
            },
            "header": {
             "fill": {
              "color": "#C8D4E3"
             },
             "line": {
              "color": "white"
             }
            },
            "type": "table"
           }
          ]
         },
         "layout": {
          "annotationdefaults": {
           "arrowcolor": "#2a3f5f",
           "arrowhead": 0,
           "arrowwidth": 1
          },
          "autotypenumbers": "strict",
          "coloraxis": {
           "colorbar": {
            "outlinewidth": 0,
            "ticks": ""
           }
          },
          "colorscale": {
           "diverging": [
            [
             0,
             "#8e0152"
            ],
            [
             0.1,
             "#c51b7d"
            ],
            [
             0.2,
             "#de77ae"
            ],
            [
             0.3,
             "#f1b6da"
            ],
            [
             0.4,
             "#fde0ef"
            ],
            [
             0.5,
             "#f7f7f7"
            ],
            [
             0.6,
             "#e6f5d0"
            ],
            [
             0.7,
             "#b8e186"
            ],
            [
             0.8,
             "#7fbc41"
            ],
            [
             0.9,
             "#4d9221"
            ],
            [
             1,
             "#276419"
            ]
           ],
           "sequential": [
            [
             0,
             "#0d0887"
            ],
            [
             0.1111111111111111,
             "#46039f"
            ],
            [
             0.2222222222222222,
             "#7201a8"
            ],
            [
             0.3333333333333333,
             "#9c179e"
            ],
            [
             0.4444444444444444,
             "#bd3786"
            ],
            [
             0.5555555555555556,
             "#d8576b"
            ],
            [
             0.6666666666666666,
             "#ed7953"
            ],
            [
             0.7777777777777778,
             "#fb9f3a"
            ],
            [
             0.8888888888888888,
             "#fdca26"
            ],
            [
             1,
             "#f0f921"
            ]
           ],
           "sequentialminus": [
            [
             0,
             "#0d0887"
            ],
            [
             0.1111111111111111,
             "#46039f"
            ],
            [
             0.2222222222222222,
             "#7201a8"
            ],
            [
             0.3333333333333333,
             "#9c179e"
            ],
            [
             0.4444444444444444,
             "#bd3786"
            ],
            [
             0.5555555555555556,
             "#d8576b"
            ],
            [
             0.6666666666666666,
             "#ed7953"
            ],
            [
             0.7777777777777778,
             "#fb9f3a"
            ],
            [
             0.8888888888888888,
             "#fdca26"
            ],
            [
             1,
             "#f0f921"
            ]
           ]
          },
          "colorway": [
           "#636efa",
           "#EF553B",
           "#00cc96",
           "#ab63fa",
           "#FFA15A",
           "#19d3f3",
           "#FF6692",
           "#B6E880",
           "#FF97FF",
           "#FECB52"
          ],
          "font": {
           "color": "#2a3f5f"
          },
          "geo": {
           "bgcolor": "white",
           "lakecolor": "white",
           "landcolor": "#E5ECF6",
           "showlakes": true,
           "showland": true,
           "subunitcolor": "white"
          },
          "hoverlabel": {
           "align": "left"
          },
          "hovermode": "closest",
          "mapbox": {
           "style": "light"
          },
          "paper_bgcolor": "white",
          "plot_bgcolor": "#E5ECF6",
          "polar": {
           "angularaxis": {
            "gridcolor": "white",
            "linecolor": "white",
            "ticks": ""
           },
           "bgcolor": "#E5ECF6",
           "radialaxis": {
            "gridcolor": "white",
            "linecolor": "white",
            "ticks": ""
           }
          },
          "scene": {
           "xaxis": {
            "backgroundcolor": "#E5ECF6",
            "gridcolor": "white",
            "gridwidth": 2,
            "linecolor": "white",
            "showbackground": true,
            "ticks": "",
            "zerolinecolor": "white"
           },
           "yaxis": {
            "backgroundcolor": "#E5ECF6",
            "gridcolor": "white",
            "gridwidth": 2,
            "linecolor": "white",
            "showbackground": true,
            "ticks": "",
            "zerolinecolor": "white"
           },
           "zaxis": {
            "backgroundcolor": "#E5ECF6",
            "gridcolor": "white",
            "gridwidth": 2,
            "linecolor": "white",
            "showbackground": true,
            "ticks": "",
            "zerolinecolor": "white"
           }
          },
          "shapedefaults": {
           "line": {
            "color": "#2a3f5f"
           }
          },
          "ternary": {
           "aaxis": {
            "gridcolor": "white",
            "linecolor": "white",
            "ticks": ""
           },
           "baxis": {
            "gridcolor": "white",
            "linecolor": "white",
            "ticks": ""
           },
           "bgcolor": "#E5ECF6",
           "caxis": {
            "gridcolor": "white",
            "linecolor": "white",
            "ticks": ""
           }
          },
          "title": {
           "x": 0.05
          },
          "xaxis": {
           "automargin": true,
           "gridcolor": "white",
           "linecolor": "white",
           "ticks": "",
           "title": {
            "standoff": 15
           },
           "zerolinecolor": "white",
           "zerolinewidth": 2
          },
          "yaxis": {
           "automargin": true,
           "gridcolor": "white",
           "linecolor": "white",
           "ticks": "",
           "title": {
            "standoff": 15
           },
           "zerolinecolor": "white",
           "zerolinewidth": 2
          }
         }
        },
        "title": {
         "text": "total quantity sold by product line"
        }
       }
      }
     },
     "metadata": {},
     "output_type": "display_data"
    }
   ],
   "source": [
    "px.pie(df, values='quantity', names='product_line',title='total quantity sold by product line')"
   ]
  },
  {
   "cell_type": "code",
   "execution_count": 281,
   "id": "bd28b872",
   "metadata": {},
   "outputs": [
    {
     "data": {
      "application/vnd.microsoft.datawrangler.viewer.v0+json": {
       "columns": [
        {
         "name": "index",
         "rawType": "int64",
         "type": "integer"
        },
        {
         "name": "customer_type",
         "rawType": "object",
         "type": "string"
        },
        {
         "name": "branch",
         "rawType": "object",
         "type": "string"
        },
        {
         "name": "gender",
         "rawType": "object",
         "type": "string"
        },
        {
         "name": "total",
         "rawType": "float64",
         "type": "float"
        }
       ],
       "ref": "e0302b53-b724-453d-aeae-6bb14ee66e53",
       "rows": [
        [
         "0",
         "Member",
         "A",
         "Female",
         "26643.0675"
        ],
        [
         "1",
         "Member",
         "A",
         "Male",
         "26994.408"
        ],
        [
         "2",
         "Member",
         "B",
         "Female",
         "26850.432"
        ],
        [
         "3",
         "Member",
         "B",
         "Male",
         "26854.254"
        ],
        [
         "4",
         "Member",
         "C",
         "Female",
         "34653.444"
        ],
        [
         "5",
         "Member",
         "C",
         "Male",
         "22227.8385"
        ],
        [
         "6",
         "Normal",
         "A",
         "Female",
         "26626.0995"
        ],
        [
         "7",
         "Normal",
         "A",
         "Male",
         "25936.7955"
        ],
        [
         "8",
         "Normal",
         "B",
         "Female",
         "26077.863"
        ],
        [
         "9",
         "Normal",
         "B",
         "Male",
         "26415.123"
        ],
        [
         "10",
         "Normal",
         "C",
         "Female",
         "27032.019"
        ],
        [
         "11",
         "Normal",
         "C",
         "Male",
         "26655.405"
        ]
       ],
       "shape": {
        "columns": 4,
        "rows": 12
       }
      },
      "text/html": [
       "<div>\n",
       "<style scoped>\n",
       "    .dataframe tbody tr th:only-of-type {\n",
       "        vertical-align: middle;\n",
       "    }\n",
       "\n",
       "    .dataframe tbody tr th {\n",
       "        vertical-align: top;\n",
       "    }\n",
       "\n",
       "    .dataframe thead th {\n",
       "        text-align: right;\n",
       "    }\n",
       "</style>\n",
       "<table border=\"1\" class=\"dataframe\">\n",
       "  <thead>\n",
       "    <tr style=\"text-align: right;\">\n",
       "      <th></th>\n",
       "      <th>customer_type</th>\n",
       "      <th>branch</th>\n",
       "      <th>gender</th>\n",
       "      <th>total</th>\n",
       "    </tr>\n",
       "  </thead>\n",
       "  <tbody>\n",
       "    <tr>\n",
       "      <th>0</th>\n",
       "      <td>Member</td>\n",
       "      <td>A</td>\n",
       "      <td>Female</td>\n",
       "      <td>26643.0675</td>\n",
       "    </tr>\n",
       "    <tr>\n",
       "      <th>1</th>\n",
       "      <td>Member</td>\n",
       "      <td>A</td>\n",
       "      <td>Male</td>\n",
       "      <td>26994.4080</td>\n",
       "    </tr>\n",
       "    <tr>\n",
       "      <th>2</th>\n",
       "      <td>Member</td>\n",
       "      <td>B</td>\n",
       "      <td>Female</td>\n",
       "      <td>26850.4320</td>\n",
       "    </tr>\n",
       "    <tr>\n",
       "      <th>3</th>\n",
       "      <td>Member</td>\n",
       "      <td>B</td>\n",
       "      <td>Male</td>\n",
       "      <td>26854.2540</td>\n",
       "    </tr>\n",
       "    <tr>\n",
       "      <th>4</th>\n",
       "      <td>Member</td>\n",
       "      <td>C</td>\n",
       "      <td>Female</td>\n",
       "      <td>34653.4440</td>\n",
       "    </tr>\n",
       "    <tr>\n",
       "      <th>5</th>\n",
       "      <td>Member</td>\n",
       "      <td>C</td>\n",
       "      <td>Male</td>\n",
       "      <td>22227.8385</td>\n",
       "    </tr>\n",
       "    <tr>\n",
       "      <th>6</th>\n",
       "      <td>Normal</td>\n",
       "      <td>A</td>\n",
       "      <td>Female</td>\n",
       "      <td>26626.0995</td>\n",
       "    </tr>\n",
       "    <tr>\n",
       "      <th>7</th>\n",
       "      <td>Normal</td>\n",
       "      <td>A</td>\n",
       "      <td>Male</td>\n",
       "      <td>25936.7955</td>\n",
       "    </tr>\n",
       "    <tr>\n",
       "      <th>8</th>\n",
       "      <td>Normal</td>\n",
       "      <td>B</td>\n",
       "      <td>Female</td>\n",
       "      <td>26077.8630</td>\n",
       "    </tr>\n",
       "    <tr>\n",
       "      <th>9</th>\n",
       "      <td>Normal</td>\n",
       "      <td>B</td>\n",
       "      <td>Male</td>\n",
       "      <td>26415.1230</td>\n",
       "    </tr>\n",
       "    <tr>\n",
       "      <th>10</th>\n",
       "      <td>Normal</td>\n",
       "      <td>C</td>\n",
       "      <td>Female</td>\n",
       "      <td>27032.0190</td>\n",
       "    </tr>\n",
       "    <tr>\n",
       "      <th>11</th>\n",
       "      <td>Normal</td>\n",
       "      <td>C</td>\n",
       "      <td>Male</td>\n",
       "      <td>26655.4050</td>\n",
       "    </tr>\n",
       "  </tbody>\n",
       "</table>\n",
       "</div>"
      ],
      "text/plain": [
       "   customer_type branch  gender       total\n",
       "0         Member      A  Female  26643.0675\n",
       "1         Member      A    Male  26994.4080\n",
       "2         Member      B  Female  26850.4320\n",
       "3         Member      B    Male  26854.2540\n",
       "4         Member      C  Female  34653.4440\n",
       "5         Member      C    Male  22227.8385\n",
       "6         Normal      A  Female  26626.0995\n",
       "7         Normal      A    Male  25936.7955\n",
       "8         Normal      B  Female  26077.8630\n",
       "9         Normal      B    Male  26415.1230\n",
       "10        Normal      C  Female  27032.0190\n",
       "11        Normal      C    Male  26655.4050"
      ]
     },
     "execution_count": 281,
     "metadata": {},
     "output_type": "execute_result"
    }
   ],
   "source": [
    "dffff=df.groupby(['customer_type','branch','gender'])['total'].sum().reset_index()\n",
    "dffff\n"
   ]
  },
  {
   "cell_type": "code",
   "execution_count": 286,
   "id": "a6a80d11",
   "metadata": {},
   "outputs": [
    {
     "data": {
      "application/vnd.plotly.v1+json": {
       "config": {
        "plotlyServerURL": "https://plot.ly"
       },
       "data": [
        {
         "alignmentgroup": "True",
         "hovertemplate": "gender=Female<br>customer_type=Member<br>branch=%{x}<br>total=%{text}<extra></extra>",
         "legendgroup": "Female",
         "marker": {
          "color": "#636efa",
          "pattern": {
           "shape": ""
          }
         },
         "name": "Female",
         "offsetgroup": "Female",
         "orientation": "v",
         "showlegend": true,
         "text": [
          26643.0675,
          26850.432,
          34653.444
         ],
         "textposition": "auto",
         "type": "bar",
         "x": [
          "A",
          "B",
          "C"
         ],
         "xaxis": "x",
         "y": [
          26643.0675,
          26850.432,
          34653.444
         ],
         "yaxis": "y"
        },
        {
         "alignmentgroup": "True",
         "hovertemplate": "gender=Female<br>customer_type=Normal<br>branch=%{x}<br>total=%{text}<extra></extra>",
         "legendgroup": "Female",
         "marker": {
          "color": "#636efa",
          "pattern": {
           "shape": ""
          }
         },
         "name": "Female",
         "offsetgroup": "Female",
         "orientation": "v",
         "showlegend": false,
         "text": [
          26626.0995,
          26077.863,
          27032.019
         ],
         "textposition": "auto",
         "type": "bar",
         "x": [
          "A",
          "B",
          "C"
         ],
         "xaxis": "x2",
         "y": [
          26626.0995,
          26077.863,
          27032.019
         ],
         "yaxis": "y2"
        },
        {
         "alignmentgroup": "True",
         "hovertemplate": "gender=Male<br>customer_type=Member<br>branch=%{x}<br>total=%{text}<extra></extra>",
         "legendgroup": "Male",
         "marker": {
          "color": "#EF553B",
          "pattern": {
           "shape": ""
          }
         },
         "name": "Male",
         "offsetgroup": "Male",
         "orientation": "v",
         "showlegend": true,
         "text": [
          26994.408,
          26854.254,
          22227.8385
         ],
         "textposition": "auto",
         "type": "bar",
         "x": [
          "A",
          "B",
          "C"
         ],
         "xaxis": "x",
         "y": [
          26994.408,
          26854.254,
          22227.8385
         ],
         "yaxis": "y"
        },
        {
         "alignmentgroup": "True",
         "hovertemplate": "gender=Male<br>customer_type=Normal<br>branch=%{x}<br>total=%{text}<extra></extra>",
         "legendgroup": "Male",
         "marker": {
          "color": "#EF553B",
          "pattern": {
           "shape": ""
          }
         },
         "name": "Male",
         "offsetgroup": "Male",
         "orientation": "v",
         "showlegend": false,
         "text": [
          25936.7955,
          26415.123,
          26655.405
         ],
         "textposition": "auto",
         "type": "bar",
         "x": [
          "A",
          "B",
          "C"
         ],
         "xaxis": "x2",
         "y": [
          25936.7955,
          26415.123,
          26655.405
         ],
         "yaxis": "y2"
        }
       ],
       "layout": {
        "annotations": [
         {
          "font": {},
          "showarrow": false,
          "text": "customer_type=Member",
          "x": 0.245,
          "xanchor": "center",
          "xref": "paper",
          "y": 1,
          "yanchor": "bottom",
          "yref": "paper"
         },
         {
          "font": {},
          "showarrow": false,
          "text": "customer_type=Normal",
          "x": 0.755,
          "xanchor": "center",
          "xref": "paper",
          "y": 1,
          "yanchor": "bottom",
          "yref": "paper"
         }
        ],
        "barmode": "relative",
        "legend": {
         "title": {
          "text": "gender"
         },
         "tracegroupgap": 0
        },
        "template": {
         "data": {
          "bar": [
           {
            "error_x": {
             "color": "#2a3f5f"
            },
            "error_y": {
             "color": "#2a3f5f"
            },
            "marker": {
             "line": {
              "color": "#E5ECF6",
              "width": 0.5
             },
             "pattern": {
              "fillmode": "overlay",
              "size": 10,
              "solidity": 0.2
             }
            },
            "type": "bar"
           }
          ],
          "barpolar": [
           {
            "marker": {
             "line": {
              "color": "#E5ECF6",
              "width": 0.5
             },
             "pattern": {
              "fillmode": "overlay",
              "size": 10,
              "solidity": 0.2
             }
            },
            "type": "barpolar"
           }
          ],
          "carpet": [
           {
            "aaxis": {
             "endlinecolor": "#2a3f5f",
             "gridcolor": "white",
             "linecolor": "white",
             "minorgridcolor": "white",
             "startlinecolor": "#2a3f5f"
            },
            "baxis": {
             "endlinecolor": "#2a3f5f",
             "gridcolor": "white",
             "linecolor": "white",
             "minorgridcolor": "white",
             "startlinecolor": "#2a3f5f"
            },
            "type": "carpet"
           }
          ],
          "choropleth": [
           {
            "colorbar": {
             "outlinewidth": 0,
             "ticks": ""
            },
            "type": "choropleth"
           }
          ],
          "contour": [
           {
            "colorbar": {
             "outlinewidth": 0,
             "ticks": ""
            },
            "colorscale": [
             [
              0,
              "#0d0887"
             ],
             [
              0.1111111111111111,
              "#46039f"
             ],
             [
              0.2222222222222222,
              "#7201a8"
             ],
             [
              0.3333333333333333,
              "#9c179e"
             ],
             [
              0.4444444444444444,
              "#bd3786"
             ],
             [
              0.5555555555555556,
              "#d8576b"
             ],
             [
              0.6666666666666666,
              "#ed7953"
             ],
             [
              0.7777777777777778,
              "#fb9f3a"
             ],
             [
              0.8888888888888888,
              "#fdca26"
             ],
             [
              1,
              "#f0f921"
             ]
            ],
            "type": "contour"
           }
          ],
          "contourcarpet": [
           {
            "colorbar": {
             "outlinewidth": 0,
             "ticks": ""
            },
            "type": "contourcarpet"
           }
          ],
          "heatmap": [
           {
            "colorbar": {
             "outlinewidth": 0,
             "ticks": ""
            },
            "colorscale": [
             [
              0,
              "#0d0887"
             ],
             [
              0.1111111111111111,
              "#46039f"
             ],
             [
              0.2222222222222222,
              "#7201a8"
             ],
             [
              0.3333333333333333,
              "#9c179e"
             ],
             [
              0.4444444444444444,
              "#bd3786"
             ],
             [
              0.5555555555555556,
              "#d8576b"
             ],
             [
              0.6666666666666666,
              "#ed7953"
             ],
             [
              0.7777777777777778,
              "#fb9f3a"
             ],
             [
              0.8888888888888888,
              "#fdca26"
             ],
             [
              1,
              "#f0f921"
             ]
            ],
            "type": "heatmap"
           }
          ],
          "heatmapgl": [
           {
            "colorbar": {
             "outlinewidth": 0,
             "ticks": ""
            },
            "colorscale": [
             [
              0,
              "#0d0887"
             ],
             [
              0.1111111111111111,
              "#46039f"
             ],
             [
              0.2222222222222222,
              "#7201a8"
             ],
             [
              0.3333333333333333,
              "#9c179e"
             ],
             [
              0.4444444444444444,
              "#bd3786"
             ],
             [
              0.5555555555555556,
              "#d8576b"
             ],
             [
              0.6666666666666666,
              "#ed7953"
             ],
             [
              0.7777777777777778,
              "#fb9f3a"
             ],
             [
              0.8888888888888888,
              "#fdca26"
             ],
             [
              1,
              "#f0f921"
             ]
            ],
            "type": "heatmapgl"
           }
          ],
          "histogram": [
           {
            "marker": {
             "pattern": {
              "fillmode": "overlay",
              "size": 10,
              "solidity": 0.2
             }
            },
            "type": "histogram"
           }
          ],
          "histogram2d": [
           {
            "colorbar": {
             "outlinewidth": 0,
             "ticks": ""
            },
            "colorscale": [
             [
              0,
              "#0d0887"
             ],
             [
              0.1111111111111111,
              "#46039f"
             ],
             [
              0.2222222222222222,
              "#7201a8"
             ],
             [
              0.3333333333333333,
              "#9c179e"
             ],
             [
              0.4444444444444444,
              "#bd3786"
             ],
             [
              0.5555555555555556,
              "#d8576b"
             ],
             [
              0.6666666666666666,
              "#ed7953"
             ],
             [
              0.7777777777777778,
              "#fb9f3a"
             ],
             [
              0.8888888888888888,
              "#fdca26"
             ],
             [
              1,
              "#f0f921"
             ]
            ],
            "type": "histogram2d"
           }
          ],
          "histogram2dcontour": [
           {
            "colorbar": {
             "outlinewidth": 0,
             "ticks": ""
            },
            "colorscale": [
             [
              0,
              "#0d0887"
             ],
             [
              0.1111111111111111,
              "#46039f"
             ],
             [
              0.2222222222222222,
              "#7201a8"
             ],
             [
              0.3333333333333333,
              "#9c179e"
             ],
             [
              0.4444444444444444,
              "#bd3786"
             ],
             [
              0.5555555555555556,
              "#d8576b"
             ],
             [
              0.6666666666666666,
              "#ed7953"
             ],
             [
              0.7777777777777778,
              "#fb9f3a"
             ],
             [
              0.8888888888888888,
              "#fdca26"
             ],
             [
              1,
              "#f0f921"
             ]
            ],
            "type": "histogram2dcontour"
           }
          ],
          "mesh3d": [
           {
            "colorbar": {
             "outlinewidth": 0,
             "ticks": ""
            },
            "type": "mesh3d"
           }
          ],
          "parcoords": [
           {
            "line": {
             "colorbar": {
              "outlinewidth": 0,
              "ticks": ""
             }
            },
            "type": "parcoords"
           }
          ],
          "pie": [
           {
            "automargin": true,
            "type": "pie"
           }
          ],
          "scatter": [
           {
            "fillpattern": {
             "fillmode": "overlay",
             "size": 10,
             "solidity": 0.2
            },
            "type": "scatter"
           }
          ],
          "scatter3d": [
           {
            "line": {
             "colorbar": {
              "outlinewidth": 0,
              "ticks": ""
             }
            },
            "marker": {
             "colorbar": {
              "outlinewidth": 0,
              "ticks": ""
             }
            },
            "type": "scatter3d"
           }
          ],
          "scattercarpet": [
           {
            "marker": {
             "colorbar": {
              "outlinewidth": 0,
              "ticks": ""
             }
            },
            "type": "scattercarpet"
           }
          ],
          "scattergeo": [
           {
            "marker": {
             "colorbar": {
              "outlinewidth": 0,
              "ticks": ""
             }
            },
            "type": "scattergeo"
           }
          ],
          "scattergl": [
           {
            "marker": {
             "colorbar": {
              "outlinewidth": 0,
              "ticks": ""
             }
            },
            "type": "scattergl"
           }
          ],
          "scattermapbox": [
           {
            "marker": {
             "colorbar": {
              "outlinewidth": 0,
              "ticks": ""
             }
            },
            "type": "scattermapbox"
           }
          ],
          "scatterpolar": [
           {
            "marker": {
             "colorbar": {
              "outlinewidth": 0,
              "ticks": ""
             }
            },
            "type": "scatterpolar"
           }
          ],
          "scatterpolargl": [
           {
            "marker": {
             "colorbar": {
              "outlinewidth": 0,
              "ticks": ""
             }
            },
            "type": "scatterpolargl"
           }
          ],
          "scatterternary": [
           {
            "marker": {
             "colorbar": {
              "outlinewidth": 0,
              "ticks": ""
             }
            },
            "type": "scatterternary"
           }
          ],
          "surface": [
           {
            "colorbar": {
             "outlinewidth": 0,
             "ticks": ""
            },
            "colorscale": [
             [
              0,
              "#0d0887"
             ],
             [
              0.1111111111111111,
              "#46039f"
             ],
             [
              0.2222222222222222,
              "#7201a8"
             ],
             [
              0.3333333333333333,
              "#9c179e"
             ],
             [
              0.4444444444444444,
              "#bd3786"
             ],
             [
              0.5555555555555556,
              "#d8576b"
             ],
             [
              0.6666666666666666,
              "#ed7953"
             ],
             [
              0.7777777777777778,
              "#fb9f3a"
             ],
             [
              0.8888888888888888,
              "#fdca26"
             ],
             [
              1,
              "#f0f921"
             ]
            ],
            "type": "surface"
           }
          ],
          "table": [
           {
            "cells": {
             "fill": {
              "color": "#EBF0F8"
             },
             "line": {
              "color": "white"
             }
            },
            "header": {
             "fill": {
              "color": "#C8D4E3"
             },
             "line": {
              "color": "white"
             }
            },
            "type": "table"
           }
          ]
         },
         "layout": {
          "annotationdefaults": {
           "arrowcolor": "#2a3f5f",
           "arrowhead": 0,
           "arrowwidth": 1
          },
          "autotypenumbers": "strict",
          "coloraxis": {
           "colorbar": {
            "outlinewidth": 0,
            "ticks": ""
           }
          },
          "colorscale": {
           "diverging": [
            [
             0,
             "#8e0152"
            ],
            [
             0.1,
             "#c51b7d"
            ],
            [
             0.2,
             "#de77ae"
            ],
            [
             0.3,
             "#f1b6da"
            ],
            [
             0.4,
             "#fde0ef"
            ],
            [
             0.5,
             "#f7f7f7"
            ],
            [
             0.6,
             "#e6f5d0"
            ],
            [
             0.7,
             "#b8e186"
            ],
            [
             0.8,
             "#7fbc41"
            ],
            [
             0.9,
             "#4d9221"
            ],
            [
             1,
             "#276419"
            ]
           ],
           "sequential": [
            [
             0,
             "#0d0887"
            ],
            [
             0.1111111111111111,
             "#46039f"
            ],
            [
             0.2222222222222222,
             "#7201a8"
            ],
            [
             0.3333333333333333,
             "#9c179e"
            ],
            [
             0.4444444444444444,
             "#bd3786"
            ],
            [
             0.5555555555555556,
             "#d8576b"
            ],
            [
             0.6666666666666666,
             "#ed7953"
            ],
            [
             0.7777777777777778,
             "#fb9f3a"
            ],
            [
             0.8888888888888888,
             "#fdca26"
            ],
            [
             1,
             "#f0f921"
            ]
           ],
           "sequentialminus": [
            [
             0,
             "#0d0887"
            ],
            [
             0.1111111111111111,
             "#46039f"
            ],
            [
             0.2222222222222222,
             "#7201a8"
            ],
            [
             0.3333333333333333,
             "#9c179e"
            ],
            [
             0.4444444444444444,
             "#bd3786"
            ],
            [
             0.5555555555555556,
             "#d8576b"
            ],
            [
             0.6666666666666666,
             "#ed7953"
            ],
            [
             0.7777777777777778,
             "#fb9f3a"
            ],
            [
             0.8888888888888888,
             "#fdca26"
            ],
            [
             1,
             "#f0f921"
            ]
           ]
          },
          "colorway": [
           "#636efa",
           "#EF553B",
           "#00cc96",
           "#ab63fa",
           "#FFA15A",
           "#19d3f3",
           "#FF6692",
           "#B6E880",
           "#FF97FF",
           "#FECB52"
          ],
          "font": {
           "color": "#2a3f5f"
          },
          "geo": {
           "bgcolor": "white",
           "lakecolor": "white",
           "landcolor": "#E5ECF6",
           "showlakes": true,
           "showland": true,
           "subunitcolor": "white"
          },
          "hoverlabel": {
           "align": "left"
          },
          "hovermode": "closest",
          "mapbox": {
           "style": "light"
          },
          "paper_bgcolor": "white",
          "plot_bgcolor": "#E5ECF6",
          "polar": {
           "angularaxis": {
            "gridcolor": "white",
            "linecolor": "white",
            "ticks": ""
           },
           "bgcolor": "#E5ECF6",
           "radialaxis": {
            "gridcolor": "white",
            "linecolor": "white",
            "ticks": ""
           }
          },
          "scene": {
           "xaxis": {
            "backgroundcolor": "#E5ECF6",
            "gridcolor": "white",
            "gridwidth": 2,
            "linecolor": "white",
            "showbackground": true,
            "ticks": "",
            "zerolinecolor": "white"
           },
           "yaxis": {
            "backgroundcolor": "#E5ECF6",
            "gridcolor": "white",
            "gridwidth": 2,
            "linecolor": "white",
            "showbackground": true,
            "ticks": "",
            "zerolinecolor": "white"
           },
           "zaxis": {
            "backgroundcolor": "#E5ECF6",
            "gridcolor": "white",
            "gridwidth": 2,
            "linecolor": "white",
            "showbackground": true,
            "ticks": "",
            "zerolinecolor": "white"
           }
          },
          "shapedefaults": {
           "line": {
            "color": "#2a3f5f"
           }
          },
          "ternary": {
           "aaxis": {
            "gridcolor": "white",
            "linecolor": "white",
            "ticks": ""
           },
           "baxis": {
            "gridcolor": "white",
            "linecolor": "white",
            "ticks": ""
           },
           "bgcolor": "#E5ECF6",
           "caxis": {
            "gridcolor": "white",
            "linecolor": "white",
            "ticks": ""
           }
          },
          "title": {
           "x": 0.05
          },
          "xaxis": {
           "automargin": true,
           "gridcolor": "white",
           "linecolor": "white",
           "ticks": "",
           "title": {
            "standoff": 15
           },
           "zerolinecolor": "white",
           "zerolinewidth": 2
          },
          "yaxis": {
           "automargin": true,
           "gridcolor": "white",
           "linecolor": "white",
           "ticks": "",
           "title": {
            "standoff": 15
           },
           "zerolinecolor": "white",
           "zerolinewidth": 2
          }
         }
        },
        "title": {
         "text": "total by branch, gender and customer type"
        },
        "xaxis": {
         "anchor": "y",
         "domain": [
          0,
          0.49
         ],
         "title": {
          "text": "branch"
         }
        },
        "xaxis2": {
         "anchor": "y2",
         "domain": [
          0.51,
          1
         ],
         "matches": "x",
         "title": {
          "text": "branch"
         }
        },
        "yaxis": {
         "anchor": "x",
         "domain": [
          0,
          1
         ],
         "title": {
          "text": "total"
         }
        },
        "yaxis2": {
         "anchor": "x2",
         "domain": [
          0,
          1
         ],
         "matches": "y",
         "showticklabels": false
        }
       }
      }
     },
     "metadata": {},
     "output_type": "display_data"
    }
   ],
   "source": [
    "px.bar(dffff,'branch','total',color='gender',facet_col='customer_type',text='total',title='total by branch, gender and customer type')"
   ]
  },
  {
   "cell_type": "code",
   "execution_count": 288,
   "id": "62472d62",
   "metadata": {},
   "outputs": [
    {
     "data": {
      "application/vnd.plotly.v1+json": {
       "config": {
        "plotlyServerURL": "https://plot.ly"
       },
       "data": [
        {
         "hovertemplate": "gender=Female<br>branch=A<br>total=%{x}<br>rating=%{y}<extra></extra>",
         "legendgroup": "Female, A",
         "marker": {
          "color": "#636efa",
          "symbol": "circle"
         },
         "mode": "markers",
         "name": "Female, A",
         "orientation": "v",
         "showlegend": true,
         "type": "scatter",
         "x": [
          548.9715,
          433.692,
          76.146,
          246.4875,
          749.49,
          506.6355,
          441.756,
          184.107,
          575.316,
          234.0975,
          759.675,
          19.2465,
          189.0945,
          161.553,
          115.08,
          836.304,
          688.6215,
          169.3125,
          580.419,
          138.1275,
          216.846,
          491.085,
          316.47,
          90.699,
          26.5545,
          217.6335,
          298.116,
          532.728,
          195.594,
          709.317,
          233.52,
          723.24,
          373.17,
          203.553,
          25.263,
          587.664,
          16.107,
          200.214,
          697.368,
          65.604,
          76.356,
          214.998,
          295.6905,
          745.836,
          83.412,
          172.011,
          74.7075,
          146.9475,
          324.2925,
          149.3625,
          736.4385,
          352.2225,
          507.675,
          214.935,
          339.36,
          548.73,
          83.727,
          406.875,
          284.9175,
          237.426,
          185.367,
          951.825,
          147.798,
          843.0345,
          140.385,
          333.9525,
          168.21,
          338.31,
          174.615,
          206.43,
          432.768,
          225.2775,
          398.958,
          235.872,
          479.9025,
          148.68,
          306.81,
          308.91,
          416.178,
          228.123,
          852.705,
          621.243,
          269.934,
          326.256,
          164.871,
          226.065,
          47.859,
          236.88,
          147.672,
          394.3275,
          30.408,
          365.904,
          225.792,
          96.1905,
          12.6945,
          49.4235,
          277.6725,
          146.6325,
          204.246,
          477.54,
          308.574,
          211.365,
          458.6925,
          113.568,
          187.32,
          525.231,
          93.744,
          150.423,
          143.22,
          182.91,
          817.236,
          608.076,
          232.638,
          536.592,
          56.1225,
          72.009,
          397.992,
          32.151,
          97.881,
          257.145,
          462.672,
          325.374,
          195.678,
          210.966,
          422.73,
          408.408,
          100.128,
          216.4365,
          92.442,
          779.31,
          82.887,
          624.33,
          206.808,
          503.7375,
          118.902,
          450.1035,
          250.7085,
          756.168,
          216.846,
          175.014,
          771.435,
          145.5825,
          167.034,
          782.208,
          313.74,
          397.614,
          374.409,
          781.62,
          469.77,
          290.0835,
          479.64,
          690.018,
          312.8895,
          932.337,
          16.275,
          314.685,
          49.77,
          313.572,
          921.186,
          296.94,
          649.299
         ],
         "xaxis": "x",
         "y": [
          9.1,
          5.8,
          7.2,
          7.1,
          5.7,
          4.6,
          8.5,
          7.7,
          4.7,
          8.5,
          5.4,
          4.3,
          5.7,
          5.1,
          6,
          5.2,
          4.5,
          9,
          8.3,
          8.8,
          9.8,
          8,
          9.2,
          6.7,
          6.1,
          7.9,
          5.5,
          7.4,
          4.1,
          6.2,
          4.2,
          8.7,
          7,
          8.8,
          5.1,
          6.4,
          6.5,
          9.1,
          4.2,
          4.7,
          7.1,
          4.7,
          9.6,
          4.1,
          4.7,
          7.8,
          4.4,
          5,
          6.7,
          9.1,
          7.6,
          9.1,
          7,
          9.9,
          10,
          6.2,
          7.3,
          4.3,
          4.6,
          5.5,
          8.2,
          7.3,
          6.4,
          6.5,
          9.7,
          4.8,
          9.7,
          6.6,
          4.2,
          7.2,
          9.6,
          6.1,
          9.3,
          5.9,
          7.1,
          6.2,
          4.9,
          8.9,
          7.3,
          8.2,
          6.3,
          7.7,
          7.7,
          8.4,
          9.2,
          7.7,
          9.8,
          4.8,
          9.6,
          5.2,
          6.2,
          4.2,
          9.2,
          9.8,
          8.2,
          5.8,
          7.9,
          5.9,
          7.6,
          4.8,
          6,
          7.5,
          6.6,
          6.9,
          6.6,
          4.5,
          4.4,
          8.8,
          8.6,
          7,
          6.2,
          4.5,
          8,
          9.9,
          7.6,
          7.7,
          7.8,
          4.1,
          6.6,
          8.1,
          8,
          4.2,
          8.5,
          9,
          5,
          5,
          4.1,
          8.7,
          6.6,
          4.3,
          5,
          4.2,
          9.2,
          8.8,
          8.2,
          5,
          6.6,
          4.5,
          7.5,
          7.6,
          9.5,
          4.2,
          6.2,
          6.8,
          5.8,
          6.8,
          6.8,
          5.1,
          7.4,
          4.2,
          5.7,
          7.3,
          6.8,
          8.4,
          7.4,
          7.2,
          9.5,
          8.5,
          7.4,
          4.5,
          6.6
         ],
         "yaxis": "y"
        },
        {
         "hovertemplate": "gender=Female<br>branch=C<br>total=%{x}<br>rating=%{y}<extra></extra>",
         "legendgroup": "Female, C",
         "marker": {
          "color": "#636efa",
          "symbol": "diamond"
         },
         "mode": "markers",
         "name": "Female, C",
         "orientation": "v",
         "showlegend": true,
         "type": "scatter",
         "x": [
          80.22,
          772.38,
          417.564,
          71.526,
          461.328,
          829.08,
          867.615,
          722.232,
          77.931,
          70.287,
          478.233,
          437.325,
          822.255,
          106.995,
          624.897,
          337.512,
          610.491,
          198.996,
          471.03,
          78.435,
          218.0115,
          321.111,
          309.3615,
          763.4655,
          85.113,
          299.8485,
          575.736,
          512.19,
          942.9,
          720.3,
          31.9305,
          291.438,
          103.824,
          680.148,
          362.712,
          165.4485,
          293.202,
          829.71,
          78.0045,
          374.7975,
          120.645,
          629.8425,
          299.565,
          881.307,
          13.167,
          183.036,
          232.155,
          30.219,
          69.09,
          44.352,
          229.11,
          400.764,
          224.4375,
          272.58,
          93.0405,
          820.365,
          66.402,
          218.0745,
          216.6885,
          41.391,
          150.0975,
          509.4075,
          749.7,
          1042.65,
          31.752,
          394.275,
          1002.12,
          793.548,
          173.208,
          343.056,
          484.974,
          150.78,
          441.693,
          55.881,
          314.538,
          510.9615,
          253.512,
          248.409,
          718.7565,
          125.055,
          190.596,
          85.5855,
          121.59,
          264.7575,
          1020.705,
          343.224,
          488.985,
          310.59,
          23.751,
          572.775,
          273.0525,
          103.782,
          527.751,
          344.4,
          388.29,
          127.26,
          132.762,
          568.512,
          33.495,
          100.485,
          54.0435,
          523.971,
          154.1295,
          551.124,
          1034.46,
          517.965,
          543.753,
          195.258,
          178.164,
          440.937,
          193.4625,
          68.2395,
          381.3915,
          209.118,
          935.2665,
          273.798,
          48.51,
          743.82,
          609.168,
          32.529,
          104.6745,
          914.55,
          207.48,
          300.573,
          310.716,
          663.2955,
          539.343,
          497.07,
          507.444,
          317.226,
          733.6035,
          130.8825,
          856.4535,
          270.2595,
          239.4,
          596.82,
          266.028,
          40.341,
          55.2825,
          267.3405,
          239.589,
          631.1445,
          499.7265,
          55.041,
          369.684,
          53.34,
          57.6975,
          63.9135,
          253.68,
          652.89,
          341.0925,
          333.984,
          184.086,
          31.227,
          23.499,
          688.716,
          90.5835,
          131.922,
          85.512,
          102.396,
          439.215,
          485.5725,
          297.801,
          423.738,
          122.472,
          329.196,
          235.746,
          223.587,
          338.2155,
          26.733,
          611.079,
          221.886,
          175.035,
          579.8415,
          360.927,
          88.368,
          165.9,
          63.9975
         ],
         "xaxis": "x",
         "y": [
          9.6,
          8,
          7.5,
          6.8,
          7.6,
          7.6,
          7.9,
          8.2,
          10,
          6.7,
          8.7,
          5.4,
          6.6,
          6,
          5.5,
          8.3,
          4,
          7.1,
          8.2,
          4.1,
          4.9,
          4.2,
          7.8,
          9.5,
          7.1,
          5.9,
          8.5,
          5.3,
          5.4,
          9.1,
          8.4,
          9.5,
          9.9,
          9.3,
          8.3,
          4.8,
          5.9,
          9.2,
          5,
          5.5,
          6.8,
          9.7,
          7.8,
          8.8,
          8.2,
          9.7,
          8.6,
          7.2,
          5.6,
          9.7,
          7.1,
          6.4,
          9.5,
          7.5,
          7.7,
          4.4,
          7.3,
          8.1,
          5.5,
          8.4,
          9.5,
          9.3,
          4.7,
          6.6,
          8.4,
          9.3,
          5.2,
          9.1,
          7.1,
          9.1,
          5.6,
          5.4,
          5.2,
          4.2,
          4.2,
          9.5,
          8.1,
          9.4,
          4.9,
          5.4,
          8.7,
          9.2,
          7.5,
          9.8,
          8.7,
          6.5,
          7.6,
          6.1,
          6.4,
          7.1,
          7.7,
          8.4,
          5.4,
          6.2,
          7,
          8.4,
          8.5,
          6.2,
          9.1,
          5.1,
          8.5,
          7.3,
          8.4,
          5.1,
          4.5,
          9.4,
          4.1,
          8,
          9.4,
          5.3,
          9.2,
          4.5,
          4.5,
          6.4,
          6.7,
          8.5,
          6.3,
          4.7,
          4,
          6.3,
          8,
          9.9,
          7.7,
          4.4,
          7.1,
          6.7,
          9.5,
          7.6,
          9.6,
          8.3,
          7.2,
          6,
          5.1,
          7.4,
          6.6,
          8.1,
          5.6,
          8.6,
          5.8,
          7.4,
          9.8,
          8,
          5.7,
          6.3,
          8.8,
          4.1,
          9.3,
          5.5,
          5.1,
          6,
          6.5,
          9.2,
          5,
          8.9,
          8.6,
          4,
          7,
          4.9,
          9.5,
          6.8,
          7.2,
          8.6,
          8.8,
          7.5,
          6,
          7.9,
          8.6,
          4.1,
          5.1,
          5.2,
          6.6,
          6.5,
          9.5,
          7.5,
          5.9,
          7.6,
          7.8,
          5.9
         ],
         "yaxis": "y"
        },
        {
         "hovertemplate": "gender=Female<br>branch=B<br>total=%{x}<br>rating=%{y}<extra></extra>",
         "legendgroup": "Female, B",
         "marker": {
          "color": "#636efa",
          "symbol": "square"
         },
         "mode": "markers",
         "name": "Female, B",
         "orientation": "v",
         "showlegend": true,
         "type": "scatter",
         "x": [
          172.746,
          60.816,
          590.436,
          84.63,
          463.89,
          91.056,
          435.456,
          394.632,
          189.0945,
          75.054,
          520.4115,
          614.943,
          152.838,
          304.542,
          485.037,
          34.629,
          535.374,
          474.348,
          853.146,
          291.207,
          146.328,
          384.468,
          793.716,
          242.676,
          154.392,
          241.458,
          95.6655,
          942.4485,
          217.6335,
          130.0425,
          180.621,
          571.41,
          170.877,
          33.3585,
          794.6505,
          69.405,
          256.41,
          160.86,
          783.3,
          354.0075,
          628.173,
          356.5485,
          125.664,
          365.085,
          404.649,
          411.3795,
          565.215,
          141.75,
          402.2655,
          374.388,
          193.011,
          128.016,
          334.341,
          99.33,
          523.3725,
          398.475,
          258.678,
          208.6875,
          288.582,
          359.205,
          120.162,
          65.7405,
          49.812,
          742.812,
          20.1075,
          28.4235,
          41.076,
          470.673,
          155.19,
          731.43,
          767.025,
          207.858,
          431.445,
          734.076,
          72.87,
          212.688,
          103.0365,
          195.951,
          152.775,
          529.515,
          666.939,
          143.9865,
          570.78,
          77.658,
          84.756,
          74.76,
          270.585,
          513.2295,
          550.368,
          151.284,
          356.328,
          586.971,
          430.71,
          75.936,
          343.413,
          695.2365,
          874.125,
          165.648,
          92.5575,
          311.1885,
          351.603,
          135.3555,
          370.125,
          75.474,
          85.302,
          231.2415,
          470.988,
          41.454,
          36.5505,
          145.404,
          103.11,
          136.143,
          207.585,
          835.2855,
          180.6,
          110.124,
          187.866,
          383.523,
          116.1405,
          93.744,
          300.216,
          810.6,
          801.864,
          401.688,
          401.268,
          151.515,
          1022.385,
          714.3255,
          18.6375,
          446.964,
          441.588,
          681.4395,
          99.54,
          299.3655,
          554.295,
          345.0195,
          106.596,
          375.3645,
          225.015,
          101.64,
          348.705,
          486.444,
          435.12,
          514.605,
          91.8225,
          82.719,
          103.131,
          57.876,
          833.9625,
          397.845,
          222.012,
          68.985,
          263.97,
          80.367,
          181.0725,
          888.615,
          26.7225,
          71.1585,
          334.4775,
          30.996,
          804.3,
          1022.49
         ],
         "xaxis": "x",
         "y": [
          5.9,
          4.5,
          4.5,
          4.4,
          9.6,
          7.9,
          5.6,
          9.5,
          4.1,
          6.5,
          10,
          9.9,
          4,
          6.4,
          6.1,
          4.6,
          8.4,
          7.3,
          7.2,
          7.5,
          7.4,
          4.8,
          7.5,
          7.2,
          4.6,
          6.6,
          5.1,
          6.5,
          6.5,
          8.5,
          7.9,
          5.3,
          6.5,
          8.7,
          8,
          4.3,
          4.8,
          5.7,
          9.5,
          6.3,
          7.9,
          5.2,
          8.6,
          5.2,
          8.9,
          8.9,
          7.7,
          4.8,
          8.5,
          7.8,
          9.9,
          4.9,
          9.6,
          4,
          9.9,
          9.7,
          8.3,
          9.6,
          4.1,
          5.1,
          8.3,
          8,
          6.8,
          4.3,
          9.5,
          5.3,
          9.6,
          6.7,
          6.9,
          4.5,
          8.7,
          6.6,
          7.3,
          9.8,
          8.2,
          8.7,
          8.9,
          6.3,
          6.7,
          7.7,
          6.2,
          7.7,
          6.1,
          5,
          5,
          9.2,
          4.2,
          8.9,
          9.7,
          9.5,
          5.7,
          5.5,
          7.6,
          9.5,
          7.8,
          4.9,
          4.4,
          9.1,
          8.5,
          6.4,
          9.9,
          9.3,
          5.9,
          6.4,
          4.1,
          4,
          7.3,
          6.5,
          7,
          4.9,
          6.4,
          8,
          5,
          6.3,
          7.6,
          6.1,
          7.1,
          9.3,
          8,
          4.1,
          4.9,
          5.6,
          4.7,
          7.9,
          4.5,
          8,
          4.9,
          8,
          8.6,
          5,
          4.5,
          7.7,
          4.1,
          5.4,
          10,
          4.2,
          4.3,
          7,
          6.2,
          8.6,
          6,
          8.1,
          6.6,
          4.2,
          7.3,
          6.3,
          7,
          9,
          7.6,
          9.8,
          8.9,
          4.7,
          8.7,
          5.8,
          9,
          9,
          5.1,
          6.5,
          8.5,
          4.3,
          6,
          4.4
         ],
         "yaxis": "y"
        },
        {
         "hovertemplate": "gender=Male<br>branch=A<br>total=%{x}<br>rating=%{y}<extra></extra>",
         "legendgroup": "Male, A",
         "marker": {
          "color": "#EF553B",
          "symbol": "circle"
         },
         "mode": "markers",
         "name": "Male, A",
         "orientation": "v",
         "showlegend": true,
         "type": "scatter",
         "x": [
          340.5255,
          489.048,
          634.3785,
          453.495,
          457.443,
          172.2105,
          181.44,
          279.1845,
          235.2105,
          202.818,
          328.755,
          93.114,
          752.64,
          166.005,
          166.635,
          827.085,
          705.6315,
          362.943,
          44.5935,
          102.018,
          166.1625,
          367.038,
          931.035,
          391.419,
          548.7615,
          609,
          272.664,
          786.618,
          484.5225,
          66.8745,
          336.5565,
          1039.29,
          323.064,
          510.972,
          367.5525,
          319.788,
          186.228,
          465.444,
          162.75,
          77.7735,
          171.7275,
          247.8735,
          19.194,
          90.825,
          545.37,
          94.1745,
          235.683,
          125.517,
          263.13,
          399.756,
          94.185,
          326.424,
          99.75,
          494.76,
          69.6675,
          163.233,
          135.45,
          297.108,
          462.21,
          628.929,
          493.794,
          252.042,
          530.67,
          96.138,
          135.576,
          523.845,
          152.712,
          103.635,
          404.355,
          49.308,
          721.98,
          140.6475,
          75.5475,
          191.247,
          379.9215,
          680.064,
          461.286,
          276.948,
          203.175,
          345.786,
          80.661,
          282.492,
          72.3975,
          110.0925,
          81.396,
          427.812,
          390.7995,
          214.137,
          26.25,
          87.234,
          269.535,
          452.865,
          205.317,
          40.53,
          194.985,
          156.03,
          203.112,
          731.6925,
          72.933,
          514.773,
          926.9505,
          160.209,
          728.112,
          102.837,
          96.642,
          575.9775,
          142.002,
          262.458,
          469.413,
          74.4555,
          451.0275,
          217.182,
          76.755,
          164.43,
          32.1405,
          708.225,
          620.739,
          127.827,
          167.895,
          673.995,
          246.6765,
          175.917,
          212.7825,
          182.952,
          764.19,
          58.2225,
          588.42,
          305.55,
          45.108,
          667.38,
          510.615,
          657.531,
          80.955,
          507.906,
          37.611,
          142.947,
          176.4,
          20.685,
          887.922,
          79.149,
          197.925,
          233.1,
          548.163,
          432.9885,
          48.7305,
          680.61,
          99.9075,
          284.592,
          130.032,
          88.704,
          95.865,
          54.999,
          202.335,
          163.611,
          22.386,
          295.407,
          76.923,
          77.805,
          26.796,
          271.278,
          182.427,
          561.078,
          97.818,
          335.013,
          92.295,
          807.66,
          331.128,
          84.7455,
          431.256,
          279.384,
          266.6475,
          74.088,
          43.869,
          255.1815,
          252.252,
          244.23,
          121.863,
          33.432,
          69.111
         ],
         "xaxis": "x",
         "y": [
          7.4,
          8.4,
          5.3,
          8.2,
          6.9,
          8.6,
          9.9,
          6,
          7.4,
          5.1,
          7,
          5.8,
          6.6,
          8.6,
          5.8,
          6.4,
          9.4,
          7.3,
          5.7,
          7.2,
          9.3,
          9.9,
          7.3,
          7.4,
          4.3,
          9.2,
          4.9,
          7.4,
          9,
          6,
          7,
          8.7,
          6.5,
          8.5,
          5.5,
          8.8,
          9.6,
          4.4,
          8,
          9.9,
          9.9,
          5.9,
          8.3,
          6.2,
          6.5,
          4.9,
          5.6,
          5.8,
          4.2,
          5.7,
          6.8,
          8.8,
          5.2,
          8.9,
          9.7,
          8.7,
          6.5,
          4.4,
          9.6,
          8.5,
          5.8,
          4.5,
          4.3,
          9.8,
          9.4,
          5.4,
          7.6,
          9.1,
          5.5,
          7.9,
          7.5,
          6.2,
          7.3,
          5.1,
          5.5,
          7.4,
          7.2,
          6,
          7.8,
          7.5,
          7.2,
          8,
          7.8,
          7.8,
          6.6,
          9.2,
          8.9,
          7.7,
          5.5,
          4.7,
          9.1,
          5.5,
          6.3,
          6.7,
          5,
          8.3,
          9.8,
          7.6,
          9.7,
          8,
          9.3,
          7,
          7.2,
          6.9,
          9.1,
          6,
          6.9,
          5.6,
          5,
          8.3,
          8.6,
          9.8,
          4.4,
          9.5,
          5.2,
          4.2,
          4,
          8.7,
          7.5,
          6.7,
          5.4,
          7,
          6,
          8.7,
          7.3,
          4.9,
          4.4,
          9.4,
          6.6,
          4.3,
          8.8,
          7.8,
          6.1,
          9.1,
          8.1,
          7.2,
          4.8,
          9.5,
          9.8,
          9.5,
          5.6,
          6.6,
          9,
          9.7,
          4,
          9.3,
          6,
          9.6,
          8.5,
          7.6,
          9.2,
          5.8,
          5.6,
          7.9,
          5.9,
          5.9,
          9.7,
          9.2,
          7.8,
          9.3,
          7.1,
          9.9,
          5.9,
          5,
          6.7,
          5.6,
          4.6,
          8.1,
          7.6,
          6.9,
          5.3,
          4.2,
          9.8,
          9.3,
          5.4,
          8.4,
          8.8,
          7.7,
          4.1
         ],
         "yaxis": "y"
        },
        {
         "hovertemplate": "gender=Male<br>branch=C<br>total=%{x}<br>rating=%{y}<extra></extra>",
         "legendgroup": "Male, C",
         "marker": {
          "color": "#EF553B",
          "symbol": "diamond"
         },
         "mode": "markers",
         "name": "Male, C",
         "orientation": "v",
         "showlegend": true,
         "type": "scatter",
         "x": [
          627.6165,
          451.71,
          117.831,
          32.277,
          671.79,
          16.2015,
          192.843,
          351.099,
          939.54,
          652.26,
          463.428,
          161.7,
          256.7775,
          401.73,
          94.2375,
          51.1455,
          742.2975,
          172.494,
          860.685,
          419.832,
          536.844,
          284.193,
          950.25,
          277.788,
          254.016,
          160.44,
          1003.59,
          175.14,
          273.42,
          472.311,
          323.148,
          288.204,
          91.77,
          174.3,
          451.3635,
          62.0025,
          155.652,
          91.4025,
          195.72,
          369.495,
          276.948,
          148.974,
          745.395,
          38.85,
          78.603,
          204.6975,
          121.128,
          209.622,
          51.0405,
          145.593,
          208.677,
          392.6475,
          185.094,
          395.892,
          77.175,
          209.559,
          265.104,
          701.8515,
          407.316,
          294.651,
          194.124,
          14.679,
          17.094,
          90.867,
          937.818,
          348.306,
          71.568,
          91.56,
          13.419,
          290.43,
          144.081,
          37.6845,
          212.73,
          22.659,
          353.094,
          554.148,
          24.108,
          145.74,
          429.1665,
          206.7975,
          377.58,
          132.027,
          122.5245,
          79.674,
          118.251,
          139.923,
          936.6,
          133.434,
          85.743,
          625.905,
          293.139,
          87.234,
          814.38,
          84.9765,
          461.5275,
          63.2625,
          442.323,
          259.77,
          125.979,
          282.576,
          618.975,
          153.048,
          404.544,
          1023.75,
          72.429,
          131.208,
          829.08,
          175.0455,
          408.492,
          860.475,
          616.98,
          408.7335,
          89.0715,
          597.0405,
          137.865,
          480.0285,
          132.5625,
          183.12,
          603.876,
          190.4805,
          287.91,
          455.1225,
          495.3165,
          10.6785,
          681.975,
          586.635,
          390.9465,
          106.5015,
          76.5765,
          59.325,
          548.184,
          54.9675,
          446.439,
          629.16,
          888.405,
          44.9925,
          470.988,
          270.018,
          943.299,
          176.925,
          188.0025,
          477.1305,
          96.579,
          304.983,
          180.873,
          250.278,
          734.706,
          708.3195,
          864.57,
          42.3675
         ],
         "xaxis": "x",
         "y": [
          4.1,
          4.8,
          6.3,
          7.2,
          9.5,
          6.1,
          9.3,
          7,
          9.6,
          5.9,
          8.6,
          6.6,
          6.6,
          9.9,
          6.6,
          4.1,
          7.2,
          7.9,
          9.2,
          6.5,
          4.6,
          6.2,
          8.1,
          5.6,
          7.3,
          6.5,
          4.8,
          6.3,
          9.9,
          5.7,
          7.7,
          5.7,
          4.9,
          8.2,
          9.8,
          9.4,
          9.7,
          4.9,
          6,
          8.4,
          6.9,
          6.9,
          5.7,
          7.9,
          6.9,
          6,
          6.4,
          6.7,
          4.4,
          9.7,
          5.2,
          4.9,
          8.4,
          8.6,
          8.5,
          8,
          8.9,
          8.7,
          9.4,
          6,
          6.2,
          9.8,
          5,
          5.7,
          9,
          9.6,
          7,
          8.1,
          9.5,
          8.9,
          6.5,
          7.9,
          4.5,
          7.2,
          4.4,
          8.4,
          4.3,
          9,
          8.2,
          8.7,
          4.3,
          5,
          7.4,
          7.1,
          5.5,
          8.6,
          4.4,
          6.2,
          7.3,
          5.3,
          4.3,
          6.4,
          6.9,
          9,
          4.4,
          5.5,
          7.4,
          7.1,
          7.9,
          9.3,
          8.1,
          6.1,
          5.2,
          8,
          4.8,
          9.1,
          8.5,
          5.9,
          6.8,
          6,
          9,
          8.5,
          8.8,
          9,
          6,
          4.2,
          6.1,
          8.3,
          5.5,
          5.6,
          9.2,
          9.4,
          6.9,
          5.9,
          5.2,
          5.8,
          5,
          7.3,
          4.3,
          9.6,
          6.3,
          4,
          5,
          5.3,
          8.8,
          9.3,
          7.6,
          5.1,
          6.6,
          5.3,
          7.9,
          5.4,
          9.8,
          6.7,
          8.2,
          9.8,
          6.1,
          6,
          4.3,
          6.2
         ],
         "yaxis": "y"
        },
        {
         "hovertemplate": "gender=Male<br>branch=B<br>total=%{x}<br>rating=%{y}<extra></extra>",
         "legendgroup": "Male, B",
         "marker": {
          "color": "#EF553B",
          "symbol": "square"
         },
         "mode": "markers",
         "name": "Male, B",
         "orientation": "v",
         "showlegend": true,
         "type": "scatter",
         "x": [
          107.142,
          277.137,
          69.72,
          35.196,
          494.1825,
          737.7615,
          703.752,
          253.008,
          535.7205,
          119.259,
          33.936,
          318.108,
          608.202,
          922.635,
          521.01,
          223.0725,
          115.185,
          53.928,
          112.224,
          944.622,
          550.935,
          545.055,
          603.624,
          75.7785,
          263.97,
          918.729,
          588.357,
          418.95,
          357.588,
          420.2625,
          333.207,
          166.236,
          56.952,
          195.174,
          107.31,
          271.95,
          93.2925,
          484.89,
          146.223,
          796.908,
          285.705,
          456.288,
          655.5465,
          310.044,
          788.508,
          536.991,
          439.8975,
          137.004,
          57.1725,
          352.5795,
          350.07,
          423.15,
          190.155,
          40.9605,
          503.559,
          410.508,
          214.746,
          208.089,
          151.4835,
          255.15,
          86.625,
          78.7185,
          79.611,
          133.917,
          128.4255,
          181.818,
          45.927,
          100.9155,
          213.528,
          383.7645,
          353.1675,
          145.068,
          702.219,
          138.663,
          833.595,
          233.226,
          609.588,
          360.885,
          633.99,
          209.769,
          637.728,
          77.6685,
          92.8725,
          321.7725,
          288.015,
          164.682,
          125.706,
          240.975,
          163.002,
          180.4005,
          118.062,
          203.931,
          208.425,
          280.035,
          152.019,
          597.6285,
          253.26,
          145.971,
          198.639,
          304.92,
          46.683,
          133.35,
          121.569,
          293.643,
          457.38,
          95.9175,
          867.09,
          314.055,
          251.7165,
          697.935,
          165.123,
          116.907,
          35.3115,
          397.215,
          352.674,
          252.756,
          181.881,
          196.14,
          175.917,
          261.198,
          101.808,
          760.4415,
          527.5095,
          138.978,
          98.028,
          732.27,
          557.718,
          56.406,
          769.104,
          684.915,
          384.72,
          757.365,
          86.247,
          98.049,
          830.3715,
          57.078,
          97.419,
          144.963,
          90.3,
          403.872,
          247.59,
          222.138,
          262.794,
          281.169,
          63.315,
          177.408,
          362.817,
          760.452,
          41.7375,
          335.895,
          148.995,
          317.835,
          832.944,
          193.074,
          217.2555,
          92.7255,
          53.151,
          629.496,
          56.469,
          125.7165,
          415.233,
          289.926,
          69.993,
          271.2885,
          640.038,
          104.832,
          167.58,
          520.8,
          633.108,
          183.645
         ],
         "xaxis": "x",
         "y": [
          6.8,
          5.1,
          4.4,
          6.7,
          4.8,
          4.5,
          5.1,
          7.7,
          8.4,
          8.1,
          6.5,
          7.6,
          8.6,
          5.1,
          7.4,
          8,
          5.3,
          5.2,
          4.1,
          4.2,
          8.8,
          8.2,
          6.2,
          6.1,
          9.7,
          6,
          10,
          5.9,
          5.6,
          9.4,
          9.8,
          8.7,
          8,
          7,
          5.7,
          8.7,
          5.4,
          4.9,
          4.4,
          8.7,
          6.1,
          5.4,
          4,
          6.7,
          8.3,
          4.2,
          6.4,
          9,
          7.9,
          6.2,
          7.6,
          7,
          5.9,
          4.7,
          5.5,
          6.4,
          4,
          6.8,
          7.8,
          4.8,
          6.5,
          5.6,
          5.8,
          6.6,
          5.8,
          8,
          6.9,
          7.8,
          6.7,
          7,
          6.9,
          6.9,
          9.6,
          7.6,
          6.2,
          4.5,
          4.6,
          6.7,
          6,
          7.1,
          5.5,
          5.4,
          9.5,
          7,
          9.8,
          9,
          6.7,
          8.2,
          4.9,
          6.5,
          7.7,
          7.3,
          9,
          8.6,
          8.1,
          6.3,
          5.8,
          8.1,
          7,
          5.3,
          8.7,
          8.6,
          8.9,
          7.2,
          6.9,
          6.8,
          5,
          4.7,
          5,
          5,
          7.5,
          6,
          5.6,
          7.8,
          5.1,
          9.4,
          7.7,
          5.5,
          4.6,
          4.3,
          4.3,
          9.2,
          8.9,
          7.9,
          7.4,
          8.9,
          8.9,
          6.4,
          6,
          5.2,
          8.4,
          4.2,
          6.3,
          9.6,
          5.6,
          4.3,
          9.8,
          7.9,
          6.2,
          8.4,
          6,
          6.7,
          9.5,
          5.1,
          6,
          6.3,
          5.1,
          6.5,
          6.1,
          9.9,
          9.4,
          8.9,
          4.2,
          5.1,
          8.7,
          5.2,
          7.2,
          7.1,
          4.7,
          9.3,
          5.7,
          7.1,
          6.4,
          6.7,
          5.5,
          7,
          4.9,
          6.2,
          8.4,
          6.6
         ],
         "yaxis": "y"
        }
       ],
       "layout": {
        "legend": {
         "title": {
          "text": "gender, branch"
         },
         "tracegroupgap": 0
        },
        "template": {
         "data": {
          "bar": [
           {
            "error_x": {
             "color": "#2a3f5f"
            },
            "error_y": {
             "color": "#2a3f5f"
            },
            "marker": {
             "line": {
              "color": "#E5ECF6",
              "width": 0.5
             },
             "pattern": {
              "fillmode": "overlay",
              "size": 10,
              "solidity": 0.2
             }
            },
            "type": "bar"
           }
          ],
          "barpolar": [
           {
            "marker": {
             "line": {
              "color": "#E5ECF6",
              "width": 0.5
             },
             "pattern": {
              "fillmode": "overlay",
              "size": 10,
              "solidity": 0.2
             }
            },
            "type": "barpolar"
           }
          ],
          "carpet": [
           {
            "aaxis": {
             "endlinecolor": "#2a3f5f",
             "gridcolor": "white",
             "linecolor": "white",
             "minorgridcolor": "white",
             "startlinecolor": "#2a3f5f"
            },
            "baxis": {
             "endlinecolor": "#2a3f5f",
             "gridcolor": "white",
             "linecolor": "white",
             "minorgridcolor": "white",
             "startlinecolor": "#2a3f5f"
            },
            "type": "carpet"
           }
          ],
          "choropleth": [
           {
            "colorbar": {
             "outlinewidth": 0,
             "ticks": ""
            },
            "type": "choropleth"
           }
          ],
          "contour": [
           {
            "colorbar": {
             "outlinewidth": 0,
             "ticks": ""
            },
            "colorscale": [
             [
              0,
              "#0d0887"
             ],
             [
              0.1111111111111111,
              "#46039f"
             ],
             [
              0.2222222222222222,
              "#7201a8"
             ],
             [
              0.3333333333333333,
              "#9c179e"
             ],
             [
              0.4444444444444444,
              "#bd3786"
             ],
             [
              0.5555555555555556,
              "#d8576b"
             ],
             [
              0.6666666666666666,
              "#ed7953"
             ],
             [
              0.7777777777777778,
              "#fb9f3a"
             ],
             [
              0.8888888888888888,
              "#fdca26"
             ],
             [
              1,
              "#f0f921"
             ]
            ],
            "type": "contour"
           }
          ],
          "contourcarpet": [
           {
            "colorbar": {
             "outlinewidth": 0,
             "ticks": ""
            },
            "type": "contourcarpet"
           }
          ],
          "heatmap": [
           {
            "colorbar": {
             "outlinewidth": 0,
             "ticks": ""
            },
            "colorscale": [
             [
              0,
              "#0d0887"
             ],
             [
              0.1111111111111111,
              "#46039f"
             ],
             [
              0.2222222222222222,
              "#7201a8"
             ],
             [
              0.3333333333333333,
              "#9c179e"
             ],
             [
              0.4444444444444444,
              "#bd3786"
             ],
             [
              0.5555555555555556,
              "#d8576b"
             ],
             [
              0.6666666666666666,
              "#ed7953"
             ],
             [
              0.7777777777777778,
              "#fb9f3a"
             ],
             [
              0.8888888888888888,
              "#fdca26"
             ],
             [
              1,
              "#f0f921"
             ]
            ],
            "type": "heatmap"
           }
          ],
          "heatmapgl": [
           {
            "colorbar": {
             "outlinewidth": 0,
             "ticks": ""
            },
            "colorscale": [
             [
              0,
              "#0d0887"
             ],
             [
              0.1111111111111111,
              "#46039f"
             ],
             [
              0.2222222222222222,
              "#7201a8"
             ],
             [
              0.3333333333333333,
              "#9c179e"
             ],
             [
              0.4444444444444444,
              "#bd3786"
             ],
             [
              0.5555555555555556,
              "#d8576b"
             ],
             [
              0.6666666666666666,
              "#ed7953"
             ],
             [
              0.7777777777777778,
              "#fb9f3a"
             ],
             [
              0.8888888888888888,
              "#fdca26"
             ],
             [
              1,
              "#f0f921"
             ]
            ],
            "type": "heatmapgl"
           }
          ],
          "histogram": [
           {
            "marker": {
             "pattern": {
              "fillmode": "overlay",
              "size": 10,
              "solidity": 0.2
             }
            },
            "type": "histogram"
           }
          ],
          "histogram2d": [
           {
            "colorbar": {
             "outlinewidth": 0,
             "ticks": ""
            },
            "colorscale": [
             [
              0,
              "#0d0887"
             ],
             [
              0.1111111111111111,
              "#46039f"
             ],
             [
              0.2222222222222222,
              "#7201a8"
             ],
             [
              0.3333333333333333,
              "#9c179e"
             ],
             [
              0.4444444444444444,
              "#bd3786"
             ],
             [
              0.5555555555555556,
              "#d8576b"
             ],
             [
              0.6666666666666666,
              "#ed7953"
             ],
             [
              0.7777777777777778,
              "#fb9f3a"
             ],
             [
              0.8888888888888888,
              "#fdca26"
             ],
             [
              1,
              "#f0f921"
             ]
            ],
            "type": "histogram2d"
           }
          ],
          "histogram2dcontour": [
           {
            "colorbar": {
             "outlinewidth": 0,
             "ticks": ""
            },
            "colorscale": [
             [
              0,
              "#0d0887"
             ],
             [
              0.1111111111111111,
              "#46039f"
             ],
             [
              0.2222222222222222,
              "#7201a8"
             ],
             [
              0.3333333333333333,
              "#9c179e"
             ],
             [
              0.4444444444444444,
              "#bd3786"
             ],
             [
              0.5555555555555556,
              "#d8576b"
             ],
             [
              0.6666666666666666,
              "#ed7953"
             ],
             [
              0.7777777777777778,
              "#fb9f3a"
             ],
             [
              0.8888888888888888,
              "#fdca26"
             ],
             [
              1,
              "#f0f921"
             ]
            ],
            "type": "histogram2dcontour"
           }
          ],
          "mesh3d": [
           {
            "colorbar": {
             "outlinewidth": 0,
             "ticks": ""
            },
            "type": "mesh3d"
           }
          ],
          "parcoords": [
           {
            "line": {
             "colorbar": {
              "outlinewidth": 0,
              "ticks": ""
             }
            },
            "type": "parcoords"
           }
          ],
          "pie": [
           {
            "automargin": true,
            "type": "pie"
           }
          ],
          "scatter": [
           {
            "fillpattern": {
             "fillmode": "overlay",
             "size": 10,
             "solidity": 0.2
            },
            "type": "scatter"
           }
          ],
          "scatter3d": [
           {
            "line": {
             "colorbar": {
              "outlinewidth": 0,
              "ticks": ""
             }
            },
            "marker": {
             "colorbar": {
              "outlinewidth": 0,
              "ticks": ""
             }
            },
            "type": "scatter3d"
           }
          ],
          "scattercarpet": [
           {
            "marker": {
             "colorbar": {
              "outlinewidth": 0,
              "ticks": ""
             }
            },
            "type": "scattercarpet"
           }
          ],
          "scattergeo": [
           {
            "marker": {
             "colorbar": {
              "outlinewidth": 0,
              "ticks": ""
             }
            },
            "type": "scattergeo"
           }
          ],
          "scattergl": [
           {
            "marker": {
             "colorbar": {
              "outlinewidth": 0,
              "ticks": ""
             }
            },
            "type": "scattergl"
           }
          ],
          "scattermapbox": [
           {
            "marker": {
             "colorbar": {
              "outlinewidth": 0,
              "ticks": ""
             }
            },
            "type": "scattermapbox"
           }
          ],
          "scatterpolar": [
           {
            "marker": {
             "colorbar": {
              "outlinewidth": 0,
              "ticks": ""
             }
            },
            "type": "scatterpolar"
           }
          ],
          "scatterpolargl": [
           {
            "marker": {
             "colorbar": {
              "outlinewidth": 0,
              "ticks": ""
             }
            },
            "type": "scatterpolargl"
           }
          ],
          "scatterternary": [
           {
            "marker": {
             "colorbar": {
              "outlinewidth": 0,
              "ticks": ""
             }
            },
            "type": "scatterternary"
           }
          ],
          "surface": [
           {
            "colorbar": {
             "outlinewidth": 0,
             "ticks": ""
            },
            "colorscale": [
             [
              0,
              "#0d0887"
             ],
             [
              0.1111111111111111,
              "#46039f"
             ],
             [
              0.2222222222222222,
              "#7201a8"
             ],
             [
              0.3333333333333333,
              "#9c179e"
             ],
             [
              0.4444444444444444,
              "#bd3786"
             ],
             [
              0.5555555555555556,
              "#d8576b"
             ],
             [
              0.6666666666666666,
              "#ed7953"
             ],
             [
              0.7777777777777778,
              "#fb9f3a"
             ],
             [
              0.8888888888888888,
              "#fdca26"
             ],
             [
              1,
              "#f0f921"
             ]
            ],
            "type": "surface"
           }
          ],
          "table": [
           {
            "cells": {
             "fill": {
              "color": "#EBF0F8"
             },
             "line": {
              "color": "white"
             }
            },
            "header": {
             "fill": {
              "color": "#C8D4E3"
             },
             "line": {
              "color": "white"
             }
            },
            "type": "table"
           }
          ]
         },
         "layout": {
          "annotationdefaults": {
           "arrowcolor": "#2a3f5f",
           "arrowhead": 0,
           "arrowwidth": 1
          },
          "autotypenumbers": "strict",
          "coloraxis": {
           "colorbar": {
            "outlinewidth": 0,
            "ticks": ""
           }
          },
          "colorscale": {
           "diverging": [
            [
             0,
             "#8e0152"
            ],
            [
             0.1,
             "#c51b7d"
            ],
            [
             0.2,
             "#de77ae"
            ],
            [
             0.3,
             "#f1b6da"
            ],
            [
             0.4,
             "#fde0ef"
            ],
            [
             0.5,
             "#f7f7f7"
            ],
            [
             0.6,
             "#e6f5d0"
            ],
            [
             0.7,
             "#b8e186"
            ],
            [
             0.8,
             "#7fbc41"
            ],
            [
             0.9,
             "#4d9221"
            ],
            [
             1,
             "#276419"
            ]
           ],
           "sequential": [
            [
             0,
             "#0d0887"
            ],
            [
             0.1111111111111111,
             "#46039f"
            ],
            [
             0.2222222222222222,
             "#7201a8"
            ],
            [
             0.3333333333333333,
             "#9c179e"
            ],
            [
             0.4444444444444444,
             "#bd3786"
            ],
            [
             0.5555555555555556,
             "#d8576b"
            ],
            [
             0.6666666666666666,
             "#ed7953"
            ],
            [
             0.7777777777777778,
             "#fb9f3a"
            ],
            [
             0.8888888888888888,
             "#fdca26"
            ],
            [
             1,
             "#f0f921"
            ]
           ],
           "sequentialminus": [
            [
             0,
             "#0d0887"
            ],
            [
             0.1111111111111111,
             "#46039f"
            ],
            [
             0.2222222222222222,
             "#7201a8"
            ],
            [
             0.3333333333333333,
             "#9c179e"
            ],
            [
             0.4444444444444444,
             "#bd3786"
            ],
            [
             0.5555555555555556,
             "#d8576b"
            ],
            [
             0.6666666666666666,
             "#ed7953"
            ],
            [
             0.7777777777777778,
             "#fb9f3a"
            ],
            [
             0.8888888888888888,
             "#fdca26"
            ],
            [
             1,
             "#f0f921"
            ]
           ]
          },
          "colorway": [
           "#636efa",
           "#EF553B",
           "#00cc96",
           "#ab63fa",
           "#FFA15A",
           "#19d3f3",
           "#FF6692",
           "#B6E880",
           "#FF97FF",
           "#FECB52"
          ],
          "font": {
           "color": "#2a3f5f"
          },
          "geo": {
           "bgcolor": "white",
           "lakecolor": "white",
           "landcolor": "#E5ECF6",
           "showlakes": true,
           "showland": true,
           "subunitcolor": "white"
          },
          "hoverlabel": {
           "align": "left"
          },
          "hovermode": "closest",
          "mapbox": {
           "style": "light"
          },
          "paper_bgcolor": "white",
          "plot_bgcolor": "#E5ECF6",
          "polar": {
           "angularaxis": {
            "gridcolor": "white",
            "linecolor": "white",
            "ticks": ""
           },
           "bgcolor": "#E5ECF6",
           "radialaxis": {
            "gridcolor": "white",
            "linecolor": "white",
            "ticks": ""
           }
          },
          "scene": {
           "xaxis": {
            "backgroundcolor": "#E5ECF6",
            "gridcolor": "white",
            "gridwidth": 2,
            "linecolor": "white",
            "showbackground": true,
            "ticks": "",
            "zerolinecolor": "white"
           },
           "yaxis": {
            "backgroundcolor": "#E5ECF6",
            "gridcolor": "white",
            "gridwidth": 2,
            "linecolor": "white",
            "showbackground": true,
            "ticks": "",
            "zerolinecolor": "white"
           },
           "zaxis": {
            "backgroundcolor": "#E5ECF6",
            "gridcolor": "white",
            "gridwidth": 2,
            "linecolor": "white",
            "showbackground": true,
            "ticks": "",
            "zerolinecolor": "white"
           }
          },
          "shapedefaults": {
           "line": {
            "color": "#2a3f5f"
           }
          },
          "ternary": {
           "aaxis": {
            "gridcolor": "white",
            "linecolor": "white",
            "ticks": ""
           },
           "baxis": {
            "gridcolor": "white",
            "linecolor": "white",
            "ticks": ""
           },
           "bgcolor": "#E5ECF6",
           "caxis": {
            "gridcolor": "white",
            "linecolor": "white",
            "ticks": ""
           }
          },
          "title": {
           "x": 0.05
          },
          "xaxis": {
           "automargin": true,
           "gridcolor": "white",
           "linecolor": "white",
           "ticks": "",
           "title": {
            "standoff": 15
           },
           "zerolinecolor": "white",
           "zerolinewidth": 2
          },
          "yaxis": {
           "automargin": true,
           "gridcolor": "white",
           "linecolor": "white",
           "ticks": "",
           "title": {
            "standoff": 15
           },
           "zerolinecolor": "white",
           "zerolinewidth": 2
          }
         }
        },
        "title": {
         "text": " Total vs Rating by gender and branch"
        },
        "xaxis": {
         "anchor": "y",
         "domain": [
          0,
          1
         ],
         "title": {
          "text": "total"
         }
        },
        "yaxis": {
         "anchor": "x",
         "domain": [
          0,
          1
         ],
         "title": {
          "text": "rating"
         }
        }
       }
      }
     },
     "metadata": {},
     "output_type": "display_data"
    }
   ],
   "source": [
    "px.scatter( df,x='total',y='rating',color='gender',symbol='branch',title=' Total vs Rating by gender and branch')"
   ]
  }
 ],
 "metadata": {
  "kernelspec": {
   "display_name": "analysis",
   "language": "python",
   "name": "python3"
  },
  "language_info": {
   "codemirror_mode": {
    "name": "ipython",
    "version": 3
   },
   "file_extension": ".py",
   "mimetype": "text/x-python",
   "name": "python",
   "nbconvert_exporter": "python",
   "pygments_lexer": "ipython3",
   "version": "3.10.16"
  }
 },
 "nbformat": 4,
 "nbformat_minor": 5
}
